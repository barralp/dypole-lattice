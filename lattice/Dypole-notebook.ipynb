{
 "cells": [
  {
   "cell_type": "markdown",
   "metadata": {},
   "source": [
    "# Quick calculating tool for 1D lattice experiments"
   ]
  },
  {
   "cell_type": "code",
   "execution_count": 1,
   "metadata": {},
   "outputs": [],
   "source": [
    "# coding: utf-8\n",
    "\n",
    "import matplotlib.pyplot as plt\n",
    "plt.rcParams['figure.dpi']= 100\n",
    "import numpy as np\n",
    "import matplotlib.colors as colors\n",
    "from scipy.optimize import fsolve, curve_fit\n",
    "\n",
    "hbar = 1.0545718*10**-34\n",
    "c = 2.99792458*10**8\n",
    "polarizability_0 = 1.64877727*10**(-41)\n",
    "m = 163.929*1.66053906660*10**(-27)\n",
    "epsilon_0 = 8.85418782*10**(-12)\n",
    "k_B = 1.38064852*10**(-23)\n",
    "a_0 = 5.29177210903*10**(-11)\n",
    "mu_B = 9.274009994*10**(-24)\n",
    "\n",
    "Gamma_741 = 2*np.pi*1.78*10**3   # in Hz\n",
    "omega_741 = 2*np.pi*c/(741*10**(-9))\n",
    "Gamma_421 = 2*np.pi*32.2*10**6\n",
    "omega_421 = 2*np.pi*c/(421.172*10**(-9))\n",
    "delta_421 = omega_421 - omega_741\n",
    "\n",
    "E_recoil = hbar**2*(2*np.pi/(741*10**(-9)))**2/(2*m)\n",
    "\n",
    "##### Clebsch Gordan Factor\n",
    "\n",
    "omega_405 = 2*np.pi*c/(404.597*10**(-9))\n",
    "omega_419 = 2*np.pi*c/(418.682*10**(-9))\n",
    "Gamma_405 = 1.92*10**8\n",
    "Gamma_419 = 1.26*10**8\n",
    "\n",
    "(1/2)*((1+1/153)+(1/9)*(Gamma_419/Gamma_421)**2*(omega_421/omega_419)**6+(15/17)*(Gamma_405/Gamma_421)**2*(omega_421/omega_405)**6)\n",
    "\n",
    "omega_419_bis = 2*np.pi*c/(419.484*10**(-9))\n",
    "Gamma_419_bis = 8.8*10**7\n",
    "\n",
    "kappa_blue = (1/2)*((1+1/153)+(1/9)*(Gamma_419/Gamma_421)**2*(omega_421/omega_419)**6+(1/9)*(Gamma_419_bis/Gamma_421)**2*(omega_421/omega_419_bis)**6+(15/17)*(Gamma_405/Gamma_421)**2*(omega_421/omega_405)**6)\n",
    "\n",
    "omega_626 = 2*np.pi*c/(626*10**(-9))\n",
    "Gamma_626 = 2*np.pi*135*10**3\n",
    "(1/2)*((1/9)*(Gamma_626/Gamma_421)**2*(omega_421/omega_626)**6)\n",
    "\n",
    "kappa_red = (1/2)*(1+1/153)"
   ]
  },
  {
   "cell_type": "markdown",
   "metadata": {},
   "source": [
    "### Trap depth\n",
    "\n",
    "The trap depth in single beam ODT is:\n",
    "\\begin{equation}\n",
    "\\label{eq:trap_depth}\n",
    "U_{\\text{ODT}} = \\frac{1}{4}\\text{Re}(\\alpha)E^{2} = \\frac{1}{2}\\text{Re}(\\alpha)\\frac{I_{0}}{\\epsilon_{0}c}\n",
    "\\end{equation}\n",
    "\n",
    "For a Gaussian beam, noting $I_{0}$ the peak intensity, we have:\n",
    "\\begin{equation}\n",
    "\\label{gaussian_intensity}\n",
    "I_{0} = \\frac{2P}{\\pi w_{0}^{2}}\n",
    "\\end{equation}\n",
    "\n",
    "Where $w_{0}$ is the beam waist (radius). And in our case of a lattice, the trap depth comes from the 2 beams interfering, giving rise to a field amplitude of $2E$ at the antinodes, and thus 4 times the trapping depth compare to a regular ODT:\n",
    "\\begin{equation}\n",
    "U = 2\\text{Re}(\\alpha)\\frac{I_{0}}{\\epsilon_{0}c} = 4\\text{Re}(\\alpha)\\frac{P}{\\pi w_{0}^{2}\\epsilon_{0}c}\n",
    "\\end{equation}\n",
    "\n",
    "### Trap frequency\n",
    "\n",
    "The potential shape is $U\\sin^{2}(kz)$, so near an antinode:\n",
    "\\begin{equation}\n",
    "\\label{trap_freq_depth}\n",
    "Uk^{2}z^{2}=\\frac12m\\omega_{z}^{2}z^{2}\n",
    "\\end{equation}\n",
    "which gives the trapping frequency in the lattice:\n",
    "\\begin{equation}\n",
    "\\label{trap_frequency}\n",
    "\\omega_{z}^{2} = 8\\text{Re}(\\alpha)\\frac{Pk^{2}}{\\pi w_{0}^{2}\\epsilon_{0}cm}= \\frac{32\\pi\\text{Re}(\\alpha) P}{\\lambda^{2} w_{0}^{2}\\epsilon_{0}cm}\n",
    "\\end{equation}\n",
    "\n",
    "It is useful to have the correspondance between trap frequency en lattice depth:\n",
    "\\begin{equation}\n",
    "\\frac{U}{E_{r}}=\\frac{\\frac{m\\omega_{z}^{2}}{2k^{2}}}{\\frac{\\hbar^{2}k^{2}}{2m}} = \\frac{m^{2}\\omega_{z}^{2}}{\\hbar^{2}k^{4}} = 0.05 (\\omega_{z}(\\text{kHz}))^{2}\n",
    "\\end{equation}"
   ]
  },
  {
   "cell_type": "code",
   "execution_count": 2,
   "metadata": {},
   "outputs": [
    {
     "name": "stdout",
     "output_type": "stream",
     "text": [
      "A trap frequency of 5 kHz corresponds to 1 recoils\n"
     ]
    }
   ],
   "source": [
    "#omega_z = 2*np.pi*72*10**3 # Hertz\n",
    "omega_z = 2*np.pi*5*10**3 # Hertz\n",
    "U_in_recoil = m**2*(omega_z)**2/(hbar**2*(2*np.pi/(741*10**(-9)))**4)\n",
    "print(\"A trap frequency of \" + str(int(omega_z/(2*np.pi*10**3))) + \n",
    "      \" kHz corresponds to \" + str(int(U_in_recoil))+ \" recoils\")"
   ]
  },
  {
   "cell_type": "markdown",
   "metadata": {},
   "source": [
    "Equivalently, the recoil energy is 2.2 khz"
   ]
  },
  {
   "cell_type": "code",
   "execution_count": 5,
   "metadata": {},
   "outputs": [
    {
     "name": "stdout",
     "output_type": "stream",
     "text": [
      "1 recoil is 2.22 kHz\n"
     ]
    }
   ],
   "source": [
    "E_r = hbar**2*(2*np.pi/(741*10**(-9)))**2/(2*m)\n",
    "print(\"1 recoil is \" + str(round(E_r/(hbar*2*np.pi*10**3),2)) + \" kHz\")"
   ]
  },
  {
   "cell_type": "markdown",
   "metadata": {},
   "source": [
    "And the correspondance between trap frequency and trap depth is:\n",
    "\\begin{equation}\n",
    "\\label{eq:trap_depth_vs_trap_freq}\n",
    "U (\\text{kHz}) = 0.11\\omega_{z}^{2}(\\text{kHz})\n",
    "\\end{equation}"
   ]
  },
  {
   "cell_type": "code",
   "execution_count": 25,
   "metadata": {},
   "outputs": [
    {
     "name": "stdout",
     "output_type": "stream",
     "text": [
      "A trap depth of 0.11 kHz corresponds to a trap frequency of 1 kHz\n"
     ]
    }
   ],
   "source": [
    "Trap_depth_to_trap_freq = (1/2)*m*(2*np.pi*10**(3))**2/((2*np.pi/(741*10**(-9)))**2)/(hbar*2*np.pi*10**3)\n",
    "\n",
    "print(\"A trap depth of \" + str(round(Trap_depth_to_trap_freq, 2)) +\n",
    "      \" kHz corresponds to a trap frequency of \" + str(int(1))+ \" kHz\")"
   ]
  },
  {
   "cell_type": "code",
   "execution_count": 6,
   "metadata": {},
   "outputs": [
    {
     "name": "stdout",
     "output_type": "stream",
     "text": [
      "A trap frequency of 5 kHz corresponds to a trap depth of 0 kHz\n"
     ]
    }
   ],
   "source": [
    "omega_z = 2*np.pi*5*10**3 # Hertz\n",
    "Trap_depth = m*(omega_z)**2/(2*(2*np.pi/(741*10**(-9)))**2)\n",
    "print(\"A trap frequency of \" + str(int(omega_z/(2*np.pi*10**3))) + \n",
    "      \" kHz corresponds to a trap depth of \" + str(int(Trap_depth/(2*np.pi*hbar*10**3)))+ \" kHz\")"
   ]
  },
  {
   "cell_type": "markdown",
   "metadata": {},
   "source": [
    "### Polarizability\n",
    "\n",
    "To evaluate the trap frequency we need the polarizability:\n",
    "\\begin{equation}\n",
    "\\text{Re}\\left(\\alpha(\\omega)\\right) = \\frac{2}{\\hbar}\\sum_{k} d_{k}^{2}\\frac{\\omega_{kg}}{\\omega_{kg}^{2}-\\omega^{2}} = 6\\pi\\epsilon_{0}c^{3}\\sum_{k}\\frac{\\Gamma_{k}}{\\omega_{kg}^{3}}\\frac{\\omega_{kg}}{\\omega_{kg}^{2}-\\omega^{2}}\n",
    "\\end{equation}\n",
    "\n",
    "Ben Lev's paper (arXiv:1011.4738) gives the background polarizability of dysprosium around 741: $\\alpha_{741} = 220 \\text{ a.u.}$. We add the single 741 line on top of that, and since $\\omega \\simeq \\omega_{741}$:\n",
    "\\begin{equation}\n",
    "\\begin{array}{llll}\n",
    "\\text{Re}(\\alpha) &=& \\alpha_{741} - 3\\pi\\kappa_{r}\\epsilon_{0}c^{3}\\frac{\\Gamma_{741}}{\\omega_{741}^{3}}\\frac{1}{\\Delta_{741}} \\\\[10pt]\n",
    "\t&=& 220 - \\frac{7437}{\\Delta\\text{ (GHz)}}\\text{ a.u.}\n",
    "\\end{array}\n",
    "\\end{equation}\n",
    "\n",
    "I introduced here $\\kappa_{r} = \\frac{1}{2}1^{2}+\\frac{1}{2}\\frac{1}{153} \\simeq \\frac{1}{2}$ to take into account the anisotropy due to the different Clebsch-Gordan coefficient in a linearly polarized lattice, with the electric field being orthogonal to the quantization axis. It is not clear if it should be factored out in front of the background polarizability also.\n",
    "With $\\Delta_{741} = \\omega - \\omega_{741}$ being negative for red-detuned light.\n",
    "\n",
    "Converted into trap frequency through \\ref{trap_frequency} it gives for the background polarizability trap frequency:\n",
    "\\begin{equation}\n",
    "\\omega_{z} = 2\\pi\\cdot 4.8\\text{ MHz}\\left( \\frac{\\sqrt{P(\\text{Watt})}}{w_{0}(\\mu\\text{m})}\\right)\n",
    "\\end{equation}\n",
    "\n",
    "A $P = 0.5\\text{ W}$ and $w_{0} = 10\\mu\\text{m}$ beam, without even thinking of the 741 line coming into play gives a bare trap frequency of 340 kHz. Considering the transition with the red light -100 GHz of detuning brings us to 395 kHz. The whole curve is plotted in figure \\ref{trap_frequency_image}."
   ]
  },
  {
   "cell_type": "code",
   "execution_count": 48,
   "metadata": {},
   "outputs": [
    {
     "name": "stdout",
     "output_type": "stream",
     "text": [
      "A P = 0.096 watt and 61 micrometers beam waist beam gives a trap frequency of 85 kHz\n"
     ]
    }
   ],
   "source": [
    "P = 0.096 # watts\n",
    "w_0 = 61*10**(-6) # meters\n",
    "#detuning = 33.8*2*np.pi*10**(9) # Hz\n",
    "detuning = -3*2*np.pi*10**(9) # Hz\n",
    "#P = 0.006\n",
    "\n",
    "def trapFrequency(P, w_0, detuning): # P in watt, w_0 in m, Delta in Hz\n",
    "    polarizability_prefactor = 3*np.pi*kappa_red*epsilon_0*c**3*Gamma_741/(omega_741**3)\n",
    "    polarizability = 220*polarizability_0-polarizability_prefactor/detuning\n",
    "    omega_z = np.sqrt(np.abs(32*np.pi*polarizability*P/((741*10**(-9))**2*w_0**2*epsilon_0*c*m)))\n",
    "    return omega_z # beware, you should divide the result by 2pi to have the result in Hz\n",
    "\n",
    "print(\"A P = \" + str(P) + \" watt and \" + str(int(w_0*10**6)) + \" micrometers beam waist beam gives a trap frequency of \"\n",
    "      + str(int(trapFrequency(P, w_0, detuning)/(2*np.pi*10**(3)))) + \" kHz\")"
   ]
  },
  {
   "cell_type": "markdown",
   "metadata": {},
   "source": [
    "Or in terms of recoil you get"
   ]
  },
  {
   "cell_type": "code",
   "execution_count": 49,
   "metadata": {},
   "outputs": [
    {
     "name": "stdout",
     "output_type": "stream",
     "text": [
      "A P = 0.096 watt and 61 micrometers beam waist beam gives a trap depth of 366 recoils\n",
      "A P = 0.096 watt and 61 micrometers beam waist beam gives a trap depth of 812 kHz\n"
     ]
    }
   ],
   "source": [
    "P = 0.096 # watts\n",
    "w_0 = 61.7*10**(-6) # meters\n",
    "detuning = -3*2*np.pi*10**(9) # Hz\n",
    "\n",
    "def trapDepth(P, w_0, detuning): # P in watt, w_0 in m, Delta in Hz, output in recoil r\n",
    "    omega_z = trapFrequency(P, w_0, detuning)\n",
    "    return m**2*omega_z**2/(hbar**2*(omega_741/c)**4)\n",
    "\n",
    "print(\"A P = \" + str(P) + \" watt and \" + str(int(w_0*10**6)) + \" micrometers beam waist beam gives a trap depth of \"\n",
    "      + str(int(trapDepth(P, w_0, detuning))) + \" recoils\")\n",
    "\n",
    "\n",
    "print(\"A P = \" + str(P) + \" watt and \" + str(int(w_0*10**6)) + \" micrometers beam waist beam gives a trap depth of \"\n",
    "      + str(int(trapDepth(P, w_0, detuning)*hbar*(omega_741/c)**2/(2*m)/(2*np.pi*10**3))) + \" kHz\")"
   ]
  },
  {
   "cell_type": "code",
   "execution_count": 7,
   "metadata": {},
   "outputs": [
    {
     "name": "stdout",
     "output_type": "stream",
     "text": [
      "13.77\n"
     ]
    }
   ],
   "source": [
    "omega_z = 2*np.pi*650*10**3\n",
    "oscillator_length = np.sqrt(hbar/(m/2*omega_z))\n",
    "print(round(oscillator_length*10**9, 2))"
   ]
  },
  {
   "cell_type": "code",
   "execution_count": 8,
   "metadata": {},
   "outputs": [
    {
     "name": "stdout",
     "output_type": "stream",
     "text": [
      "beta = 25.47\n"
     ]
    }
   ],
   "source": [
    "detuning = -23*2*np.pi*10**(9) # Hz\n",
    "P = 0.001\n",
    "w_0 = 8*10**(-6) # meters\n",
    "tau = 40*10**(-6)\n",
    "omega_z = trapFrequency(P, w_0, detuning) # Hertz\n",
    "Trap_depth = m*(omega_z)**2/(2*(2*np.pi/(741*10**(-9)))**2)\n",
    "beta = Trap_depth*tau/hbar\n",
    "print(\"beta = \" + str(round(beta, 2)))"
   ]
  },
  {
   "cell_type": "code",
   "execution_count": 9,
   "metadata": {},
   "outputs": [
    {
     "data": {
      "image/png": "[encoded data removed]",
      "text/plain": [
       "<Figure size 600x400 with 1 Axes>"
      ]
     },
     "metadata": {
      "needs_background": "light"
     },
     "output_type": "display_data"
    }
   ],
   "source": [
    "P = 0.3\n",
    "w_0 = 8*10**(-6)\n",
    "N = 10000\n",
    "detuningRange = np.linspace(-100,100,N)*2*np.pi*10**9\n",
    "\n",
    "plt.figure()\n",
    "plt.semilogy(detuningRange/(2*np.pi*10**9), trapFrequency(P, w_0, detuningRange)/(2*np.pi*10**3), label = r'$\\omega_{z}$')\n",
    "plt.title(r'Trap frequency for $P = $'+ str(P) + ' W and $w_{0} = $' + str(10**6*w_0) + ' $\\mu$m')\n",
    "plt.ylabel(r'$\\omega_{z}$ in $2\\pi\\cdot$kHz')\n",
    "plt.xlabel(r'Detuning $\\Delta$ in ($2\\pi\\cdot$GHz)')\n",
    "plt.show()"
   ]
  },
  {
   "cell_type": "markdown",
   "metadata": {},
   "source": [
    "### Spontaneous emission\n",
    "\n",
    "The spontaneous emission is $\\gamma = \\Gamma\\mathcal{P}_{e}$ with $\\Gamma$ the linewidth and $\\mathcal{P}_{e}$ the population in the excited state. \n",
    "\n",
    "We have $\\mathcal{P}_{e}=\\frac{1}{2}\\frac{s}{1+s}\\simeq \\frac{\\Omega^{2}}{4\\Delta^{2}}$. $\\Omega$ is the Rabi frequency that relates to $g$ the single photon Rabi frequency:\n",
    "\\begin{equation}\n",
    "\\Omega = g\\sqrt{n+1}\\simeq g\\sqrt{n} = \\frac{2}{\\hbar}d\\sqrt{\\frac{\\hbar\\omega}{2\\epsilon_{0}V}}\\sqrt{n}\n",
    "\\end{equation}\n",
    "And the photon number in a volume $V$ is simply $u/\\hbar\\omega = IV/c\\hbar\\omega$. So:\n",
    "\\begin{equation}\n",
    "\\Omega = \\frac{2}{\\hbar}d\\sqrt{\\frac{\\hbar\\omega}{2\\epsilon_{0}V}}\\sqrt{\\frac{IV}{\\hbar\\omega c}}= \\frac{d}{\\hbar}\\sqrt{\\frac{2I}{\\epsilon_{0}c}}\n",
    "\\end{equation}\n",
    "And eventually:\n",
    "\\begin{equation}\n",
    "\\mathcal{P}_{e} = \\frac{Id^{2}}{2\\hbar^{2}\\epsilon_{0}c\\Delta^{2}}\n",
    "\\end{equation}\n",
    "\n",
    "Here is the moment where one needs to be precise (and why I prefer the derivation with the Rabi frequency rather than using the saturation intensity). I think it is as if:\n",
    "\\begin{equation}\n",
    "\\Gamma_{0} = \\frac{d^{2}\\omega_{0}^{3}}{3\\pi\\hbar\\epsilon_{0}c^{3}}\n",
    "\\end{equation}\n",
    "So:\n",
    "\\begin{equation}\n",
    "\\gamma = \\mathcal{P}_{e}\\Gamma = \\mathcal{P}_{e}\\Gamma_{0}\\left(\\frac{\\omega}{\\omega_{0}}\\right)^{3} = \\frac{I}{2\\hbar\\Delta^{2}}\\frac{3\\pi c^{2}\\Gamma_{0}^{2}}{\\omega_{0}^{3}}\\left(\\frac{\\omega}{\\omega_{0}}\\right)^{3}\n",
    "\\end{equation}\n",
    "We then need to sum over all the possible excitation lines at the singlet ${}^{1}P$ states and the 741nm state.\n",
    "\n",
    "### Clebsch-gordan coefficient consideration\n",
    "\n",
    "The lattice will have a linear polarization, which decomposes as 50\\%/50\\% in $\\sigma_{+}$ and $\\sigma_{-}$ light to be able to both trap $+8$ and $-8$ states. We should therefore divide by 2 the effective $\\Omega^{2}$ in the calculations, and similar for the spontaneous emission rate. Taking into account the different blue lines, the prefactor is eventually $\\kappa_{b} = 0.85$ as if it was all coming from a 2-level system coming from the 421 line: $\\gamma_{\\text{blue}} \\simeq 0.85\\cdot\\frac{I}{2\\hbar\\Delta_{421}^{2}}\\frac{3\\pi c^{2}\\Gamma_{421}^{2}}{\\omega_{421}^{3}}\\left(\\frac{\\omega_{741}}{\\omega_{421}}\\right)^{3}$."
   ]
  },
  {
   "cell_type": "code",
   "execution_count": 10,
   "metadata": {},
   "outputs": [
    {
     "name": "stdout",
     "output_type": "stream",
     "text": [
      "0.8465868638557852\n"
     ]
    }
   ],
   "source": [
    "kappa_blue = (1/2)*((1+1/153)+(1/9)*(Gamma_419/Gamma_421)**2*(omega_421/omega_419)**6+(1/9)*(Gamma_419_bis/Gamma_421)**2*(omega_421/omega_419_bis)**6+(15/17)*(Gamma_405/Gamma_421)**2*(omega_421/omega_405)**6)\n",
    "print(kappa_blue)"
   ]
  },
  {
   "cell_type": "markdown",
   "metadata": {},
   "source": [
    "We eventually get\n",
    "\\begin{equation}\n",
    "\\gamma_{\\text{blue}} \\simeq \\frac{\\kappa_{b} I}{2\\hbar\\Delta_{421}^{2}}\\frac{3\\pi c^{2}\\Gamma_{421}^{2}}{\\omega_{421}^{3}}\\left(\\frac{\\omega_{741}}{\\omega_{421}}\\right)^{3}\n",
    "\\end{equation}\n",
    "For the red transition, the overall coefficient is $\\kappa_{r} = \\frac{1}{2}1^{2}+\\frac{1}{2}\\frac{1}{153} \\simeq \\frac{1}{2}$, so:\n",
    "\\begin{equation}\n",
    "\\gamma_{\\text{red}} \\simeq \\frac{\\kappa_{r}I}{2\\hbar\\Delta_{741}^{2}}\\frac{3\\pi c^{2}\\Gamma_{741}^{2}}{\\omega_{741}^{3}}\n",
    "\\end{equation}\n",
    "And:\n",
    "\\begin{equation}\n",
    "\\gamma = \\gamma_{\\text{blue}} + \\gamma_{\\text{red}} \n",
    "\\end{equation}\n",
    "\n",
    "Taking the intensity of a gaussian beam from \\ref{gaussian_intensity} we can get the following formula:\n",
    "\\begin{equation}\n",
    "\\begin{array}{llll}\n",
    "\\gamma_{\\text{blue}} &=& \\frac{3 \\kappa_{b} c^{2}\\Gamma_{421}^{2}}{\\hbar\\Delta_{421}^{2}\\omega_{421}^{3}}\\left(\\frac{\\omega_{741}}{\\omega_{421}}\\right)^{3}\\frac{P}{w_{0}^{2}} \\\\[10pt]\n",
    "\t&=& 4.9\\cdot 10^{1} \\left( \\frac{P(\\text{Watt})}{(w_{0}(\\mu\\text{m}))^{2}}\\right) \\text{ s}^{-1}\n",
    "\\end{array}\n",
    "\\end{equation}"
   ]
  },
  {
   "cell_type": "code",
   "execution_count": 11,
   "metadata": {},
   "outputs": [
    {
     "name": "stdout",
     "output_type": "stream",
     "text": [
      "A P = 0.3 watt and 8 micrometers beam waist beam gives a 0.23 s^-1 scattering rate from the blue lines, counted as a heating rate in a red lattice\n"
     ]
    }
   ],
   "source": [
    "P = 0.3 # watts\n",
    "w_0 = 8*10**(-6) # meters\n",
    "\n",
    "def gamma_blue(P, w_0):\n",
    "    gamma_blue_prefactor = 3*kappa_blue*c**2*Gamma_421**2/(hbar*delta_421**2*omega_421**3)*(421/741)**3\n",
    "    # prefactor = 1.13e-10 that becomes 113 once divided by (1um)**2\n",
    "    return gamma_blue_prefactor*P/w_0**2\n",
    "\n",
    "print(\"A P = \" + str(P) + \" watt and \" + str(int(w_0*10**6)) + \" micrometers beam waist beam gives a \"\n",
    "      + str(round(gamma_blue(P, w_0), 2)) + \" s^-1 scattering rate from the blue lines, counted as a heating rate in a red lattice\")"
   ]
  },
  {
   "cell_type": "markdown",
   "metadata": {},
   "source": [
    "Similarly we have for the red state:\n",
    "\\begin{equation}\n",
    "\\begin{array}{llll}\n",
    "\\gamma_{\\text{red}} &=& \\simeq \\frac{3\\kappa_{r} c^{2}\\Gamma_{741}^{2}}{\\hbar\\Delta_{741}^{2}\\omega_{741}^{3}}\\frac{P}{w_{0}^{2}} \\\\[10pt]\n",
    "\t&=& 2.5\\cdot 10^{5} \\left( \\frac{P(\\text{Watt})}{(w_{0}(\\mu\\text{m}))^{2}(\\Delta(\\text{GHz}))^{2}}\\right) \\text{ s}^{-1}\n",
    "\\end{array}\n",
    "\\end{equation}"
   ]
  },
  {
   "cell_type": "code",
   "execution_count": 12,
   "metadata": {},
   "outputs": [
    {
     "name": "stdout",
     "output_type": "stream",
     "text": [
      "A P = 0.3 watt and 8 micrometers beam waist beam gives a 11.63 s^-1 scattering rate from the red light, counted as being in a red lattice\n"
     ]
    }
   ],
   "source": [
    "P = 0.3 # watts\n",
    "w_0 = 8*10**(-6) # meters\n",
    "detuning = 2*np.pi*10*10**9 # Hz\n",
    "\n",
    "def gamma_red(P, w_0, detuning):\n",
    "    gamma_red_prefactor = 3*kappa_red*c**2*Gamma_741**2/(hbar*omega_741**3)\n",
    "    gamma_red_prefactor_test = gamma_red_prefactor/((2*np.pi*10**9)**2*10**(-12)) # this one is equal to the formula in the text to be able to plug Delta in GHz directly and w_0 in um\n",
    "    return gamma_red_prefactor/(detuning**2)*P/w_0**2\n",
    "\n",
    "print(\"A P = \" + str(P) + \" watt and \" + str(int(w_0*10**6)) + \" micrometers beam waist beam gives a \"\n",
    "      + str(round(gamma_red(P, w_0, detuning), 2)) + \" s^-1 scattering rate from the red light, counted as being in a red lattice\")"
   ]
  },
  {
   "cell_type": "code",
   "execution_count": 13,
   "metadata": {},
   "outputs": [
    {
     "data": {
      "image/png": "[encoded data removed]",
      "text/plain": [
       "<Figure size 600x400 with 1 Axes>"
      ]
     },
     "metadata": {
      "needs_background": "light"
     },
     "output_type": "display_data"
    }
   ],
   "source": [
    "P = 0.3\n",
    "w_0 = 8*10**(-6)\n",
    "N = 10000\n",
    "Detuning = np.linspace(-100,100,N)*2*np.pi*10**9\n",
    "Gamma_blue = np.zeros(N) + gamma_blue(P, w_0)\n",
    "\n",
    "plt.figure()\n",
    "plt.semilogy(Detuning/(2*np.pi*10**9), Gamma_blue + gamma_red(P, w_0, Detuning), color = 'black', label = 'Sum')\n",
    "plt.semilogy(Detuning/(2*np.pi*10**9), Gamma_blue, color = 'blue', label = 'Blue')\n",
    "plt.semilogy(Detuning/(2*np.pi*10**9), gamma_red(P, w_0, Detuning), color = 'red', label = 'Red')\n",
    "plt.ylim(10**-1,10**2)\n",
    "plt.title(r'Scattering rate for $P = $'+ str(P) + ' W and $w_{0} = $' + str(10**6*w_0) + ' $\\mu$m')\n",
    "plt.ylabel(r'$\\gamma$ in s$^{-1}$')\n",
    "plt.xlabel(r'Detuning $\\Delta$ in ($2\\pi\\cdot$GHz)')\n",
    "plt.legend()\n",
    "plt.show()"
   ]
  },
  {
   "cell_type": "markdown",
   "metadata": {},
   "source": [
    "### Desired trap frequency\n",
    "\n",
    "I refer here to the Ticknor paper. For our system, there are several scales. First the dipolar length:\n",
    "\\begin{equation}\n",
    "\\label{dipolar_length}\n",
    "D =\\mu_{m} \\left(\\frac{\\mu_{0}}{4\\pi}\\right)\\frac{d^{2}}{\\hbar^{2}} = 10.5\\text{ nm}\n",
    "\\end{equation}"
   ]
  },
  {
   "cell_type": "code",
   "execution_count": 14,
   "metadata": {},
   "outputs": [
    {
     "name": "stdout",
     "output_type": "stream",
     "text": [
      "D = 10.5 nm\n"
     ]
    }
   ],
   "source": [
    "D = m/2*1/(4*np.pi*epsilon_0*c**2)*(10*mu_B)**2/hbar**2\n",
    "print(\"D = \" + str(round(D*10**9,1)) + \" nm\")"
   ]
  },
  {
   "cell_type": "markdown",
   "metadata": {},
   "source": [
    "With $\\mu_{m} = m/2$ is the reduced mass, and $d = 10\\mu_{B}$. The confinement length:\n",
    "\\begin{equation}\n",
    "l = \\sqrt{\\frac{\\hbar}{\\mu\\omega}} = \\frac{352}{\\sqrt{\\omega(\\text{kHz})}}\\text{ nm}\n",
    "\\end{equation}"
   ]
  },
  {
   "cell_type": "code",
   "execution_count": 15,
   "metadata": {},
   "outputs": [
    {
     "name": "stdout",
     "output_type": "stream",
     "text": [
      "A trap frequency omega = (2pi) 1000 kHz gives an oscillator length of 11.1 nm\n"
     ]
    }
   ],
   "source": [
    "omega = 2*np.pi*10**6\n",
    "l_osc = np.sqrt(hbar/((m/2)*omega))\n",
    "print(\"A trap frequency omega = (2pi) \" + str(int(omega/(2*np.pi*10**3))) + \" kHz gives an oscillator length of \"\n",
    "      + str(round(l_osc*10**9, 1)) + \" nm\")"
   ]
  },
  {
   "cell_type": "markdown",
   "metadata": {},
   "source": [
    "Note that here we used the reduced mass in the definition of the harmonic oscillator length, which is in agreement with what Ticknor uses.\n",
    "\n",
    "The parameter $\\bar{D} = D/l$ is then:\n",
    "\\begin{equation}\n",
    "\\bar{D} = \\frac{D}{l} = 2.98\\cdot 10^{-2}\\sqrt{\\omega(\\text{kHz})}\n",
    "\\end{equation}\n",
    "\n",
    "So a $\\bar{D} = 0.34$ which is the threshold in the paper occurs for $\\omega = 2\\pi\\cdot 128\\text{ kHz}$ and a $\\bar{D}$ of 1 for $\\omega = 2\\pi\\cdot 1.11\\text{ MHz}$"
   ]
  },
  {
   "cell_type": "code",
   "execution_count": 16,
   "metadata": {},
   "outputs": [
    {
     "name": "stdout",
     "output_type": "stream",
     "text": [
      "Dbar = 0.34 corresponds to omega = (2pi) 128 kHz\n"
     ]
    }
   ],
   "source": [
    "Dbar = 0.34\n",
    "omegaThreshold = (Dbar/D)**2*hbar/(m/2)\n",
    "print(\"Dbar = \" + str(round(Dbar,2)) + \" corresponds to omega = (2pi) \" + str(int(omegaThreshold/(2*np.pi*10**3))) + \" kHz\")"
   ]
  },
  {
   "cell_type": "markdown",
   "metadata": {},
   "source": [
    "The chemical potential of a Bose gas in a trap is:\n",
    "\\begin{equation}\n",
    "\\mu_{c} = \\frac{\\hbar\\omega_{\\text{ho}}}{2}\\left(\\frac{15Na}{a_{\\text{ho}}}\\right)^{2/5}\n",
    "\\end{equation}"
   ]
  },
  {
   "cell_type": "code",
   "execution_count": 17,
   "metadata": {},
   "outputs": [
    {
     "name": "stdout",
     "output_type": "stream",
     "text": [
      "The chemical potential is (2pi hbar) 1125 Hz\n"
     ]
    }
   ],
   "source": [
    "#### Chemical potential\n",
    "l_osc_trans = 2*10**(-6) # This is the radial oscillator length, on the order of a few micrometers.\n",
    "omega_trans = hbar/(m*l_osc_trans**2) # so here I do NOT use the reduced mass, which maybe makes the whole thing a bit incoherent\n",
    "omega_z = 2*np.pi*10**5\n",
    "l_osc_z = np.sqrt(hbar/(m*omega_z))\n",
    "N = 1000\n",
    "a = 100*a_0\n",
    "\n",
    "omega_av = (omega_z*omega_trans*omega_trans)**(1/3)\n",
    "l_osc_av = (l_osc_z*l_osc_trans*l_osc_trans)**(1/3)\n",
    "mu_c = hbar*omega_av/2*(15*N*a/l_osc_av)**(2/5)\n",
    "print(\"The chemical potential is (2pi hbar) \" + str(int(mu_c/(hbar*2*np.pi))) + \" Hz\")"
   ]
  },
  {
   "cell_type": "markdown",
   "metadata": {},
   "source": [
    "It gives $\\mu_{c}/\\hbar = 2\\pi\\cdot 1\\text{ kHz}$ to 3 kHz for a trap depth varying from 100 kHz to 1 MHz trap with $10^{3}$ atoms and $100 a_{0}$ for the scattering length. Calculated in the blue lattice case (see later) with a transverse oscillator length of $2\\mu$m. It has to be compared with the dipolar energy defined in the paper:\n",
    "\\begin{equation}\n",
    "E_{D} = \\frac{\\hbar^{2}}{2\\mu_{m}D^{2}} = \\hbar (2\\pi\\cdot 556\\text{ kHz})\n",
    "\\end{equation}"
   ]
  },
  {
   "cell_type": "code",
   "execution_count": 18,
   "metadata": {},
   "outputs": [
    {
     "name": "stdout",
     "output_type": "stream",
     "text": [
      "E_D = (2pi hbar) 556 kHz\n"
     ]
    }
   ],
   "source": [
    "E_D = hbar**2/(m*D**2)\n",
    "print(\"E_D = (2pi hbar) \" + str(int(E_D/(2*np.pi*hbar*10**3))) + \" kHz\")"
   ]
  },
  {
   "cell_type": "markdown",
   "metadata": {},
   "source": [
    "Ticknor paper uses a WKB approximation to calculate the tunneling probability, and therefore the reduction we can expect in the losses. It uses the ratio of collisional energy to dipolar energy $y = log_{10}(E/E_{D})$. If the collisional energy is the chemical potential, we would probably always be in the strong 2D (and not the semiclassical limit) as depicted in figure 5 of the paper. The tunneling probability is depicted as follow in the formula 4 of the paper:\n",
    "\\begin{equation}\n",
    "\\begin{array}{cllll}\n",
    "\\ln(P_{T}) &=& a\\bar{D}^{2/5} + b\\bar{D}^{-1/10} \\\\\n",
    "a &=& -5.17436 + 0.143167 y + 0.0093433 y^{2} \\\\\n",
    "b &=& 5.16437 + 1.61799 y + 0.135513 y^{2}\\\\\n",
    "\\end{array}\n",
    "\\end{equation}"
   ]
  },
  {
   "cell_type": "code",
   "execution_count": 19,
   "metadata": {},
   "outputs": [
    {
     "name": "stdout",
     "output_type": "stream",
     "text": [
      "The reduction is 0.14 compare to threshold\n"
     ]
    }
   ],
   "source": [
    "mu_c = 2*np.pi*hbar*1.0*10**3 # chemical potential\n",
    "y = np.log10(mu_c/E_D)\n",
    "a = -5.17436 + 0.143167*y + 0.0093433*y**2\n",
    "b = 5.16437 + 1.61799*y + 0.135513*y**2\n",
    "def ln_P_T(omega): #omega doesn't include the 2pi. mu_c = 2pi 2 kHz\n",
    "    Dbar = D/np.sqrt(hbar/(m/2*omega))\n",
    "    return a*(Dbar**(2/5))+b*(Dbar**(-1/10))\n",
    "\n",
    "omega = 2*np.pi*1.0*10**6    # trap frequency\n",
    "print(\"The reduction is \" + str(round(np.exp(ln_P_T(omega)-ln_P_T(omegaThreshold)),2)) + \" compare to threshold\")"
   ]
  },
  {
   "cell_type": "markdown",
   "metadata": {},
   "source": [
    "### Comments on density"
   ]
  },
  {
   "cell_type": "markdown",
   "metadata": {},
   "source": [
    "### Acceptable scattering rate\n",
    "\n",
    "To know how big of a trapping frequency we can afford, one can plot the maximum trapping frequency available for a given scattering rate. This is done bellow for different beam waist. The zero is due to the background polarizability at 741."
   ]
  },
  {
   "cell_type": "code",
   "execution_count": 20,
   "metadata": {},
   "outputs": [
    {
     "data": {
      "image/png": "[encoded data removed]",
      "text/plain": [
       "<Figure size 600x400 with 1 Axes>"
      ]
     },
     "metadata": {
      "needs_background": "light"
     },
     "output_type": "display_data"
    }
   ],
   "source": [
    "w_0_list = np.array([8, 10, 15, 20, 30, 40, 50, 60])*10**(-6)   # This is the list of the different beam waists we want to try\n",
    "P = 0.3   # laser power\n",
    "Detuning = np.linspace(300,0.01,10000)*2*np.pi*10**9    # + for blue detuning\n",
    "\n",
    "\n",
    "plt.figure()\n",
    "for w_0 in w_0_list:\n",
    "    Omega = trapFrequency(P, w_0, Detuning)\n",
    "    Gamma = gamma_blue(P, w_0) + gamma_red(P, w_0, Detuning)\n",
    "    Omega_norm = Omega/(2*np.pi*10**3)\n",
    "    plt.plot(Gamma, Omega_norm, label = r' '+ str(int(w_0*10**6)) + '$\\mu$m' )\n",
    "plt.plot(Gamma, Gamma*0 + 1000, lw = 0.5)\n",
    "plt.xlim((0,1000))\n",
    "plt.ylim((0,2000))\n",
    "plt.title(r'Trap frequency in $2\\pi\\cdot$kHz for $P = $'+ str(P)+' W with red detuning')\n",
    "plt.xlabel(r'Scattering rate $\\gamma$ in (s$^{-1}$)')\n",
    "plt.ylabel(r'$\\omega$ in $2\\pi\\cdot$kHz')\n",
    "plt.legend()\n",
    "plt.show()"
   ]
  },
  {
   "cell_type": "markdown",
   "metadata": {},
   "source": [
    "### Anti-trapping compensation\n",
    "\n",
    "Unsing a red-detuned $10\\mu$m 741 beam with $2\\pi\\cdot 1\\text{ MHz}$ trap frequency would result in a transverse trap frequency of $\\omega_{\\perp} = 2\\pi\\cdot 17\\text{ kHz}$. Putting $10^{3}$ atom per pancake would result in a density of a few $10^{18} \\text{cm}^{-3}$ which would lead to strong 3-body losses. There we will use a blue detuned lattice, with extra confinement in the radial direction, and potentially also in the longitudinal direction with our ODT beams. \n",
    "\n",
    "On 0th order approximation, the anti-trapping force due to the blue lattice is zero as the atoms sit in the dark. However they explore a larger region of the trap due to the width of the ground state wavefunction, and by that they experience an outward force due to light gradient intensity.\n",
    "\n",
    "In the case of a combined 741 and 1064 trap, the potential reads:\n",
    "\\begin{equation}\n",
    "V(\\rho, z) = V_{741}\\sin^{2}(kz)e^{-\\frac{\\rho^{2}}{2w_{741}^{2}}}-V_{1064}e^{-\\frac{\\rho^{2}}{2w_{1064}^{2}}}\n",
    "\\end{equation}\n",
    "\n",
    "It can be expended in a harmonic oscillator:\n",
    "\\begin{equation}\n",
    "V(\\rho, z) = \\underbrace{V_{741}k^{2}z^{2}e^{-\\frac{\\rho^{2}}{2w_{741}^{2}}}}_{V_{1}(\\rho, z)}-\\underbrace{V_{1064}e^{-\\frac{\\rho^{2}}{2w_{1064}^{2}}}}_{V_{2}(\\rho)}\n",
    "\\end{equation}\n",
    "\n",
    "One can take a Bohr-Oppenheimer approach since the mouvement in the $z$ direction is much faster than in the $\\rho$ one. We write the total wavefunction as $\\Psi(\\rho, z) = \\phi(z;\\rho)\\psi(\\rho)$ where $\\phi(z;\\rho)$ is a function of $z$ where $\\rho$ is just a parameter. $H = T_{z} + T_{\\rho, \\theta} + V(\\rho, z)$ where $T$ is the kinetic energy, and $(T_{z} + V_{1}(\\rho,z))\\phi(z;\\rho) = E_{z}(\\rho)\\phi(z;\\rho)$. If $\\phi(z;\\rho)$ is the $z$ ground state harmonic oscillator wavefunction:\n",
    "\\begin{equation}\n",
    "\\begin{array}{llll}\n",
    "H\\Psi(\\rho, z) &=& (T_{z}+V_{1}(\\rho,z))\\phi(z;\\rho)\\psi(\\rho) \\\\\n",
    "& &+(T_{\\rho, \\theta} + V_{2}(\\rho))\\phi(z;\\rho)\\psi(\\rho)\\\\\n",
    "&=& (\\frac{\\hbar\\omega_{z}(\\rho)}{2}+T_{\\rho, \\theta} + V_{2}(\\rho))\\phi(z;\\rho)\\psi(\\rho) \\\\\n",
    "&=& \\phi(z;\\rho)(\\frac{\\hbar\\omega_{z}(\\rho)}{2}+T_{\\rho, \\theta} + V_{2}(\\rho))\\psi(\\rho)\n",
    "\\end{array}\n",
    "\\end{equation}\n",
    "\n",
    "Which is simply a 2D problem for $\\psi(\\rho)$ with the potential:\n",
    "\\begin{equation}\n",
    "\\begin{array}{lll}\n",
    "\\tilde{V}(\\rho) &=& \\frac{\\hbar\\omega_{z}(\\rho)}{2} - V_{1064}e^{-\\frac{\\rho^{2}}{2w_{1064}^{2}}}\\\\\n",
    "\t\t     &=&  \\hbar\\sqrt{\\frac{V_{741}}{2m}}ke^{-\\frac{\\rho^{2}}{w_{741}^{2}}} - V_{1064}e^{-\\frac{\\rho^{2}}{2w_{1064}^{2}}}\\\\\n",
    "\t\t     &\\simeq& \\tilde{V}_{0}+\\frac{1}{2}m\\underbrace{\\left(-\\frac{\\hbar k\\sqrt{2V_{741}}}{m^{3/2}w_{741}^{2}}+\\frac{V_{1064}}{mw_{1064}^{2}}\\right)}_{\\omega_{\\perp}^{2}}\\rho^{2}\n",
    "\\end{array}\n",
    "\\end{equation}\n",
    "\n",
    "Which is confining only if $\\omega_{\\perp}$ is real:\n",
    "\\begin{equation}\n",
    "\\begin{array}{rll}\n",
    "\\frac{V_{1064}}{mw_{1064}^{2}} &>& \\frac{\\hbar k\\sqrt{2V_{741}}}{m^{3/2}w_{741}^{2}}\\\\[10pt]\n",
    "\\frac{\\text{Re}(\\alpha_{1064})P_{1064}}{\\pi w_{1064}^{2}\\epsilon_{0}c}\\frac{1}{mw_{1064}^{2}} &>& \\frac{\\hbar k\\sqrt{2}}{m^{3/2}w_{741}^{2}}\\sqrt{\\frac{m\\omega_{z}^{2}}{2k^{2}}}\\\\[10pt]\n",
    "\\frac{P_{1064}}{w_{1064}^{4}} &>& \\frac{\\pi\\epsilon_{0}c\\hbar\\omega_{z}}{\\text{Re}(\\alpha_{1064})w_{741}^{2}}\n",
    "\\end{array}\n",
    "\\end{equation}\n",
    "\n",
    "Which for a $10\\mu$m 741 beam waist and $2\\pi\\cdot 1\\text{ MHz}$ trap frequency requires:\n",
    "\\begin{equation}\n",
    "\\frac{P_{1064}}{w_{1064}^{4}} > 2\\cdot10^{-5}\\text{ W}/(\\mu\\text{m})^{4}\n",
    "\\end{equation}\n",
    "\n"
   ]
  },
  {
   "cell_type": "code",
   "execution_count": 21,
   "metadata": {},
   "outputs": [
    {
     "name": "stdout",
     "output_type": "stream",
     "text": [
      "For a (2pi) 1028 kHz  trap frequency with 61 micrometers 741 beam waist, one needs a 17.16 W 1064 beam with a 76 micrometers beam waist\n"
     ]
    }
   ],
   "source": [
    "#### 1064 needed\n",
    "w_0_741 = 61*10**(-6)  # 8 micron beam waist for the Ti:Sapph\n",
    "w_0_1064 = 76*10**(-6)   # 12 micron 1064 beam\n",
    "\n",
    "P_741 = 0.2\n",
    "detuning = 0.04*2*np.pi*10**9\n",
    "#omega_z_red = 0.15*2*np.pi*10**6 # to get 1 MHz trapping frequency\n",
    "omega_z_red = trapFrequency(P_741, w_0_741, detuning)\n",
    "P_1064_needed = w_0_1064**4*np.pi*epsilon_0*c*hbar*omega_z_red/(180*polarizability_0*w_0_741**2)\n",
    "print(\"For a (2pi) \" + str(round(omega_z_red/(2*np.pi*10**3))) + \" kHz  trap frequency with \" \n",
    "      + str(round(w_0_741*10**(6))) + \" micrometers 741 beam waist, one needs a \" \n",
    "      + str(round(P_1064_needed, 2)) + \" W 1064 beam with a \" + str(round(w_0_1064*10**(6))) \n",
    "      + \" micrometers beam waist\")"
   ]
  },
  {
   "cell_type": "markdown",
   "metadata": {},
   "source": [
    "It corresponds to a power of $0.2$ W for a $10\\mu$m 1064 beam waist, $1.2$ W for $16\\mu$m and $3$ W for $20\\mu$m beam waist. Given our 2-inch optics and the long wavelength of the ODT, it sounds more reasonable to target a $20\\mu$m beam waist, or only slightly less.\n",
    "\n",
    "I plot in figure \\ref{fig:ideal_case} the effective potential for the most ideal case where $w_{1064} = w_{741}/\\sqrt{2}$ and the ODT power being only slightly above $(1+10^{-4})$ the required frequency for perfectly cancelling the anti-trapping.\n",
    "\n",
    "\n",
    "It is important that we want to keep the cloud centered inside the 741 lattice with a homogeneous $z$ trap frequency, the cloud shouldn't expand too much. In the Thomas-Fermi regime, the size of the cloud is determined by the chemical potential due to the interactions, typically on the order of a kHz. I plot in figure \\ref{fig:cloud_size_power} the different trap size we obtain to get a sense of the sensitivity we have on the cloud size.\n",
    "\n",
    "\n",
    "\n",
    "\n",
    "I plot figure \\ref{fig:colorplots_local} the effective potential and the local trap frequency as well as contour plot of different chemical potentials. I take the center trap frequency to be set at 1MHz, and the chemical potential $\\simeq 100\\text{ Hz}, 1\\text{ kHz}, 10\\text{ kHz}$. The 741 beam waist being $10\\mu$m and the 1064 being $15\\mu$m.\n",
    "\n",
    "\n",
    "\n",
    "\n",
    "\n",
    "We could set ourselves a constrain on the local trap frequency to not vary by more that $10\\%$ on the edge than in the center of the trap. It goes as the square-root of the local 741 intensity so as $e^{-\\rho^{2}/w_{741}^{2}}$ so we want $r_{c} > w_{741}\\sqrt{|\\ln(0.9)|}\\simeq w_{741}/3$. We should therefore target for a cloud size of $\\simeq 3\\mu$m in the case of a $10\\mu$m beam waist. A 3D density of $10^{-14} \\text{ cm}^{-3}$ leads to a mean particle distance of $200\\text{ nm}$, so with this density we could hope for $\\simeq 300$ atoms per pancake.\n",
    "\n",
    "If we use the current ODT, we are able to do the same thing, but the total number of atoms should be reduced by a factor of the aspect ratio. Indeed the \n",
    "\n",
    "\n",
    "\n",
    "\n",
    "Which gives rise to a force $\\vec{F}=-\\vec{\\nabla}V$ that has a radial component:\n",
    "\\begin{equation}\n",
    "F_{\\rho}(z) = -\\rho\\underbrace{\\left(\\frac{V_{1064}}{w_{1064}^{2}}e^{-\\frac{\\rho^{2}}{2w_{1064}^{2}}}-\\frac{V_{741}\\sin^{2}(kz)}{w_{741}^{2}}e^{-\\frac{\\rho^{2}}{2w_{741}^{2}}}\\right)}_{\\text{local spring constant}}\n",
    "\\end{equation}\n",
    "\n",
    "Averaged over the ground state wavefunction in the $z$ direction, the integral $\\int\\sin^{2}(kz)|\\Psi(z)|^{2}\\text{d}z = \\frac12 e^{-a_{z}^{2}k^{2}}(e^{a_{z}^{2}k^{2}}-1)\\simeq \\frac{a_{z}^{2}k^{2}}{2}$. But I don't think it's the best thing to look at as we want the cloud to be stable everywhere.\n",
    "\n",
    "If we assume that $w_{1064}>w_{741}$ it is enough to look at the spring constant in $\\rho=0$ to ensure stability. Expanding the $\\sin$ it gives:\n",
    "\\begin{equation}\n",
    "F_{\\rho}(z) = -\\rho\\left(\\frac{V_{1064}}{w_{1064}^{2}}-\\frac{V_{741}k^{2}z^{2}}{w_{741}^{2}}\\right)\n",
    "\\end{equation}\n",
    "\n",
    "The force is trapping as long as the spring constant is positive, so as long as $kz<\\frac{w_{741}}{w_{1064}}\\sqrt{\\frac{V_{1064}}{V_{741}}}$. Giving a safe margin of $z<na_{z}$ (n=3 leads to above 99.99\\% of the cloud being trapped) we want:\n",
    "\n",
    "\\begin{equation}\n",
    "V_{1064}>n^{2}k^{2}a_{z}^{2}V_{741}\\frac{w_{1064}}{w_{741}}\n",
    "\\end{equation}\n",
    "\n",
    "The trap depth for the lattice is as we saw $V_{741} = \\frac{m\\omega_{z}^{2}}{2k^{2}}$. It simplifies in:\n",
    "\n",
    "\\begin{equation}\n",
    "\\label{eq:constraint_depth}\n",
    "V_{1064}>n^{2}\\frac{\\hbar\\omega_{z}}{2}\\frac{w_{1064}}{w_{741}}\n",
    "\\end{equation}\n",
    "\n",
    "Taking $n=3$, $w_{1064}=20\\mu$m and $w_{741}=10\\mu$m, for a $2\\pi\\cdot1\\text{ MHz}$ trap frequency it gives $V_{1064}>\\hbar2\\pi\\cdot 9\\text{ MHz}$ and corresponds to a power of $P=6.7$ W.\n",
    "\n",
    "Such a power and beam waist would correspond from equation \\ref{eq:transverse_trap_freq} to a radial trap frequency of $\\omega_{\\perp}=2\\pi\\cdot 2.4\\text{ kHz}$, which is quite comparable to the chemical potential, so small Thomas-Fermi regime. The oscillator length associated is $a_{\\perp}=160\\text{ nm}$, and the Thomas-Fermi radius with a 3 kHz chemical potential is: $r_{c} = 260\\text{ nm}$.\n",
    "Taking $n=2$ leads to $V_{1064}/\\hbar = 2\\pi\\cdot 4\\text{ MHz}$, $P = 3$ W, $\\omega_{\\perp} = 2\\pi\\cdot 1.6$ kHz, $a_{\\perp}=200\\text{ nm}$ and $r_{c} = 390\\text{ nm}$. In this latter case the density would be with $N=10^{3}$ atoms per pancake on the order of $n_{0} \\simeq 10^{17} \\text{ cm}^{-3}$.\n",
    "\n",
    "If we want an equivalent of $10^{15} \\text{ cm}^{-3}$ density, it means that the mean distance is $100\\text{ nm}$, so that we can fit $4*(300/100)^{2} \\simeq 30-40$ atoms per pancake.\n",
    "\n",
    "If we want to go the other way around and fix $r_{c} = 2\\mu\\text{m}$ with $\\mu_{c}/\\hbar = 2\\pi\\cdot 3\\text{ kHz}$ it implies a $\\omega_{\\perp} = 2\\pi\\cdot 300\\text{ Hz}$. With combining equations \\ref{trap_depth}, \\ref{gaussian_intensity} and \\ref{eq:transverse_trap_freq} we have $\\omega_{\\perp} = \\frac{2}{w_{0}^{2}}\\sqrt{\\frac{\\text{Re}(\\alpha)P}{\\pi m\\epsilon_{0}c}}$ and therefore $\\sqrt{P}/w_{0}^{2}$ is constrained. The equation \\ref{eq:constraint_depth} give a subsequent constraint that leads to $w_{1064} = \\frac{\\pi\\epsilon_{0}cn^{2}\\hbar\\omega_{z}}{2w_{741} \\text{Re}(\\alpha) (\\sqrt{P}/w_{1064}^{2})^{2}}=533\\mu m$ and $P = 56$ kW.\n",
    "\n",
    "This being ridiculous it would be better to consider the maximum power we can put (twice 15 W) in the horizontal arms which would bring to something quite close to the 6.7 W beam from the top.\n",
    "\n",
    "If we want to reduce further down the top 1064 beam power requirement I would split it into two and use one of the current crossed ODT beam. With the current $40\\mu$m beam waist in each arm, it gives two trap frequencies of $\\omega_{\\perp, 1} = 2\\pi\\cdot 1.2\\text{ kHz}$ and $\\omega_{\\perp, 2} = 2\\pi\\cdot 26\\text{ Hz}$.\n",
    "\n",
    "STILL NOT GOOD. EXPLORE WITH LESS POWER, WITH THE CLOUD STILL BEING CONFINED ON THE EDGES, PLAYING WITH THE EXPONENTIAL FACTOR IN THE TRAPPING POTENTIAL\n",
    "\n",
    "FEW FACTORS OF 2 TO FIGURE OUT:\n",
    "\n",
    "- The one in the excited state population when looking at rabi formula or OBE.\n",
    "\n",
    "- The mass that is used, sometimes $m$ and sometimes $\\mu_{m}$ are used incoherently."
   ]
  },
  {
   "cell_type": "markdown",
   "metadata": {},
   "source": [
    "------------------------------------------------------------------------------------------------------------------"
   ]
  },
  {
   "cell_type": "markdown",
   "metadata": {},
   "source": [
    "## Useful calculation"
   ]
  },
  {
   "cell_type": "markdown",
   "metadata": {},
   "source": [
    "If you want to know what is the lattice depth is terms of recoil, as a function of power, beam waist and detuning :"
   ]
  },
  {
   "cell_type": "code",
   "execution_count": 22,
   "metadata": {},
   "outputs": [
    {
     "name": "stdout",
     "output_type": "stream",
     "text": [
      "A P = 0.3 watt and 49 micrometers beam waist beam gives a trap frequency of 81 kHz\n"
     ]
    }
   ],
   "source": [
    "P = 0.3 # watts\n",
    "w_0 = 50*10**(-6) # meters\n",
    "detuning = 10*2*np.pi*10**(9) # Hz\n",
    "\n",
    "def trapFrequency(P, w_0, detuning): # P in watt, w_0 in m, Delta in Hz\n",
    "    polarizability_prefactor = 3*np.pi*kappa_red*epsilon_0*c**3*Gamma_741/(omega_741**3)\n",
    "    polarizability = 220*polarizability_0-polarizability_prefactor/detuning\n",
    "    omega_z = np.sqrt(np.abs(32*np.pi*polarizability*P/((741*10**(-9))**2*w_0**2*epsilon_0*c*m)))\n",
    "    return omega_z # beware, you should divide the result by 2pi to have the result in Hz\n",
    "\n",
    "print(\"A P = \" + str(P) + \" watt and \" + str(int(w_0*10**6)) + \" micrometers beam waist beam gives a trap frequency of \"\n",
    "      + str(int(trapFrequency(P, w_0, detuning)/(2*np.pi*10**(3)))) + \" kHz\")"
   ]
  },
  {
   "cell_type": "code",
   "execution_count": null,
   "metadata": {},
   "outputs": [],
   "source": []
  },
  {
   "cell_type": "markdown",
   "metadata": {},
   "source": [
    "------------------------------------------------------------------------------------------------------------------"
   ]
  },
  {
   "cell_type": "code",
   "execution_count": null,
   "metadata": {},
   "outputs": [],
   "source": []
  }
 ],
 "metadata": {
  "kernelspec": {
   "display_name": "Python 3",
   "language": "python",
   "name": "python3"
  },
  "language_info": {
   "codemirror_mode": {
    "name": "ipython",
    "version": 3
   },
   "file_extension": ".py",
   "mimetype": "text/x-python",
   "name": "python",
   "nbconvert_exporter": "python",
   "pygments_lexer": "ipython3",
   "version": "3.9.0"
  },
  "latex_envs": {
   "LaTeX_envs_menu_present": true,
   "autoclose": false,
   "autocomplete": true,
   "bibliofile": "biblio.bib",
   "cite_by": "apalike",
   "current_citInitial": 1,
   "eqLabelWithNumbers": true,
   "eqNumInitial": 1,
   "hotkeys": {
    "equation": "Ctrl-E",
    "itemize": "Ctrl-I"
   },
   "labels_anchors": false,
   "latex_user_defs": false,
   "report_style_numbering": false,
   "user_envs_cfg": false
  }
 },
 "nbformat": 4,
 "nbformat_minor": 4
}
