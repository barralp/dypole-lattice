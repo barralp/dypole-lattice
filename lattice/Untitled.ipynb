{
 "cells": [
  {
   "cell_type": "code",
   "execution_count": 18,
   "metadata": {},
   "outputs": [
    {
     "data": {
      "image/png": "[encoded data removed]",
      "text/plain": [
       "<Figure size 432x288 with 1 Axes>"
      ]
     },
     "metadata": {
      "needs_background": "light"
     },
     "output_type": "display_data"
    }
   ],
   "source": [
    "import numpy as np\n",
    "import matplotlib.pyplot as plt\n",
    "import os\n",
    "\n",
    "p = 20 # taille de la matrice = 2n+1\n",
    "t = 500 #precision des graphiques\n",
    "\n",
    "path = os.getcwd() #chemin d'accès du script _ inutile dans cette version\n",
    "\n",
    "\n",
    "############\n",
    "# Construction de la matrice tridiagonale\n",
    "############\n",
    "\n",
    "def function(j,Q,V):\n",
    "    return (2*j+Q)**2+V/2\n",
    "\n",
    "def createVector(j,Q,V,p): #cree un vecteur de taille 2p+1\n",
    "    Vector = np.zeros(2*p+1)\n",
    "    Vector[j] = function(j-p,Q,V) # il faut tenir compte du fait que j evolue sur\n",
    "                                  # Z mais que les indices vecteur commencent à 0\n",
    "    if j == 0: # correspond au cas j = -n renormalise\n",
    "        Vector[j+1] = -V/4\n",
    "    elif j == 2*p: # correspond au cas j = +n renormalise\n",
    "        Vector[j-1] = -V/4\n",
    "    else:\n",
    "        Vector[j+1] = -V/4\n",
    "        Vector[j-1] = -V/4\n",
    "    return Vector\n",
    "\n",
    "def createMatrix(Q,V,p):\n",
    "    Matrix = np.zeros(shape=(2*p+1,2*p+1))\n",
    "    for j in range(0,2*p+1):\n",
    "        #print(j, Q, V, p)\n",
    "        Matrix[j] = createVector(j,Q,V,p)\n",
    "    return Matrix\n",
    "\n",
    "############\n",
    "# Calcul des Bandes d'energie\n",
    "############\n",
    "\n",
    "\n",
    "def Energy(Q,V,N):  # N : niveau d'energie\n",
    "    M = createMatrix(Q, V, p)\n",
    "    return np.linalg.eigh(M)[0][N]\n",
    "\n",
    "def createFunctionEnergy(ListQ:list,V,n): # cree un vecteur de la bande n en \n",
    "                                # fonction de la variable Q\n",
    "    E_n = np.zeros(len(ListQ))\n",
    "    for q in range(len(ListQ)):\n",
    "        E_n[q] = Energy(ListQ[q],V,n)\n",
    "    return E_n\n",
    "\n",
    "def createAllBandsEnergy(ListQ:list, V, N):\n",
    "    E = []\n",
    "    for n in range(N):\n",
    "        E_n = createFunctionEnergy(ListQ, V, n)\n",
    "        E += [E_n]\n",
    "    return E\n",
    "\n",
    "def plotEnergyBands(V, N): # trace les energies de 0 à N\n",
    "    ListQ = np.array(range(-t,t+1))/(t)\n",
    "    E = createAllBandsEnergy(ListQ, V, N)\n",
    "    figure = plt.figure()\n",
    "    for i in range(N):\n",
    "        plt.plot(ListQ,E[i])\n",
    "        plt.ylim(-1,N**2)\n",
    "        plt.xlabel('q/k')\n",
    "        plt.ylabel('E(q)/E_r')\n",
    "        plt.title('Spectre pour V = '+ str(V))\n",
    "    plt.savefig('V='+str(V) +'_n='+str(N)+'.eps')\n",
    "    plt.show()\n",
    "\n",
    "\n",
    "#plotEnergyBands(V, 6)\n",
    "\n",
    "############\n",
    "# Calcul des coefficients\n",
    "############\n",
    "\n",
    "def coefficientsCi(Q,V,N):\n",
    "    M = createMatrix(Q, V, p)\n",
    "    return np.transpose(np.linalg.eigh(M)[1])[N]\n",
    "\n",
    "def plotCoefficientsCi(Q,V,N):\n",
    "    coefficients = coefficientsCi(Q,V,N)\n",
    "    figure = plt.figure()\n",
    "    plt.plot(coefficients)\n",
    "\n",
    "############\n",
    "# Construction de Psi\n",
    "############\n",
    "\n",
    "def functionPsi(x,Q,V,N): # cree la fonction Psi_q_n de la bande n en \n",
    "                                # fonction de la variable Q\n",
    "    Psi_q_n = 0\n",
    "    coefficients = coefficientsCi(Q,V,N)\n",
    "    for i in range(len(coefficients)):\n",
    "        ci = coefficients[i]\n",
    "        Psi_q_n += ci*np.exp(1j*(2*(i-p)+Q)*x*np.pi)\n",
    "    return Psi_q_n.real   # par symetrie c'est sense etre un reel dans tous les cas\n",
    "\n",
    "def plotPsi(Q,N):\n",
    "    ListX = np.array(range(-t,t+1))/(t/30)\n",
    "    Y = functionPsi(ListX,Q,V,N)\n",
    "    figure = plt.figure()\n",
    "    plt.ylim(-3,3)\n",
    "    plt.xlim(-2, 2)\n",
    "    plt.plot(ListX,Y)\n",
    "    plt.xlabel('x/a')\n",
    "    plt.ylabel('Psi_q_n(x)**2')\n",
    "    plt.title('V/E_r = '+str(V)+', Q = '+str(Q)+' et n = '+str(N))\n",
    "    plt.savefig('u_V='+str(V)+'_Q='+str(int(100*Q))+'_N='+str(N)+'.pdf',dpi=150)\n",
    "    plt.show()\n",
    "\n",
    "\n",
    "############\n",
    "# Exemple de programme\n",
    "############\n",
    "    \n",
    "V = 10\n",
    "Q = 0\n",
    "N = 0\n",
    "plotPsi(Q,N)\n"
   ]
  },
  {
   "cell_type": "code",
   "execution_count": 29,
   "metadata": {},
   "outputs": [
    {
     "data": {
      "image/png": "[encoded data removed]",
      "text/plain": [
       "<Figure size 432x288 with 1 Axes>"
      ]
     },
     "metadata": {
      "needs_background": "light"
     },
     "output_type": "display_data"
    }
   ],
   "source": [
    "V = np.array(range(100))/10\n",
    "Q = 0\n",
    "N = 0\n",
    "listRatio = []\n",
    "x = np.array(range(-t,t+1))/(t/30)\n",
    "for v in V:\n",
    "    c0 = np.sum(functionPsi(x,Q,v,N)/1)\n",
    "    c2 = np.sum(functionPsi(x,Q,v,N)*np.cos(2*x))\n",
    "    listRatio += [c2/c0]\n",
    "    \n",
    "plt.figure()\n",
    "plt.plot(V, listRatio)\n",
    "plt.show()"
   ]
  },
  {
   "cell_type": "code",
   "execution_count": 27,
   "metadata": {},
   "outputs": [
    {
     "data": {
      "text/plain": [
       "array([-4.77464829, -4.765099  , -4.7555497 , ...,  4.7555497 ,\n",
       "        4.765099  ,  4.77464829])"
      ]
     },
     "execution_count": 27,
     "metadata": {},
     "output_type": "execute_result"
    }
   ],
   "source": [
    "x/(2*np.pi)"
   ]
  },
  {
   "cell_type": "code",
   "execution_count": null,
   "metadata": {},
   "outputs": [],
   "source": []
  }
 ],
 "metadata": {
  "kernelspec": {
   "display_name": "Python 3",
   "language": "python",
   "name": "python3"
  },
  "language_info": {
   "codemirror_mode": {
    "name": "ipython",
    "version": 3
   },
   "file_extension": ".py",
   "mimetype": "text/x-python",
   "name": "python",
   "nbconvert_exporter": "python",
   "pygments_lexer": "ipython3",
   "version": "3.9.0"
  },
  "latex_envs": {
   "LaTeX_envs_menu_present": true,
   "autoclose": false,
   "autocomplete": true,
   "bibliofile": "biblio.bib",
   "cite_by": "apalike",
   "current_citInitial": 1,
   "eqLabelWithNumbers": true,
   "eqNumInitial": 1,
   "hotkeys": {
    "equation": "Ctrl-E",
    "itemize": "Ctrl-I"
   },
   "labels_anchors": false,
   "latex_user_defs": false,
   "report_style_numbering": false,
   "user_envs_cfg": false
  }
 },
 "nbformat": 4,
 "nbformat_minor": 4
}
