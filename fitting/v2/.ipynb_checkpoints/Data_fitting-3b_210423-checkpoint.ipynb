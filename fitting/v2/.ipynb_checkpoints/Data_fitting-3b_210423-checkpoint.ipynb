{
 "cells": [
  {
   "cell_type": "code",
   "execution_count": 3,
   "metadata": {},
   "outputs": [],
   "source": [
    "from databaseCommunication import readDatabaseFile, createDataFrame_list\n",
    "from dataframeFormating import createLabeledDataFrame_list #, N_polarized_pure3b, N_polarized, N_linear, getReducedDataframe, getReducedResults, \n",
    "import pandas as pd\n",
    "import numpy as np\n",
    "import matplotlib.pyplot as plt "
   ]
  },
  {
   "cell_type": "code",
   "execution_count": 4,
   "metadata": {},
   "outputs": [],
   "source": [
    "label_heads = ['latticeDetuning']\n",
    "labels = [[['-40'], [137626, 137796]],\n",
    "          [['-30'], [137811, 138038]]\n",
    "                 ]\n",
    "\n",
    "labels_TOF = [[['-40'], [138053, 138136]]\n",
    "                 ]\n",
    "\n",
    "excluded = []"
   ]
  },
  {
   "cell_type": "code",
   "execution_count": 5,
   "metadata": {},
   "outputs": [
    {
     "data": {
      "text/plain": [
       "\"ciceroVariables = ['BECHoldTime', 'TOF', 'latticeDepth', 'ODT3_Comp', 'Y_rotation']\\nfitVariables = ['nCount', 'xWidth', 'yWidth']\\n\\ndf = createLabeledDataFrame_list(labels, label_heads, ciceroVariables, fitVariables)\\nfor column in df.columns:\\n    try:\\n        df[column] = df[column].astype(float)\\n    except:\\n        pass\\ndf['Y_rotation'] = df['Y_rotation'].astype(bool)\\ndf.to_pickle('data_save_210423.pickle')\\n\\ndf_TOF = createLabeledDataFrame_list(labels_TOF, label_heads, ciceroVariables, fitVariables)\\nfor column in df.columns:\\n    try:\\n        df_TOF[column] = df_TOF[column].astype(float)\\n    except:\\n        pass\\ndf_TOF['Y_rotation'] = df_TOF['Y_rotation'].astype(bool)\\ndf_TOF.to_pickle('data_save_210423_TOF.pickle')\""
      ]
     },
     "execution_count": 5,
     "metadata": {},
     "output_type": "execute_result"
    }
   ],
   "source": [
    "\"\"\"ciceroVariables = ['BECHoldTime', 'TOF', 'latticeDepth', 'ODT3_Comp', 'Y_rotation']\n",
    "fitVariables = ['nCount', 'xWidth', 'yWidth']\n",
    "\n",
    "df = createLabeledDataFrame_list(labels, label_heads, ciceroVariables, fitVariables)\n",
    "for column in df.columns:\n",
    "    try:\n",
    "        df[column] = df[column].astype(float)\n",
    "    except:\n",
    "        pass\n",
    "df['Y_rotation'] = df['Y_rotation'].astype(bool)\n",
    "df.to_pickle('data_save_210423.pickle')\n",
    "\n",
    "df_TOF = createLabeledDataFrame_list(labels_TOF, label_heads, ciceroVariables, fitVariables)\n",
    "for column in df.columns:\n",
    "    try:\n",
    "        df_TOF[column] = df_TOF[column].astype(float)\n",
    "    except:\n",
    "        pass\n",
    "df_TOF['Y_rotation'] = df_TOF['Y_rotation'].astype(bool)\n",
    "df_TOF.to_pickle('data_save_210423_TOF.pickle')\"\"\""
   ]
  },
  {
   "cell_type": "code",
   "execution_count": 6,
   "metadata": {},
   "outputs": [],
   "source": [
    "df = pd.read_pickle('data_save_210423.pickle')\n",
    "# Delete these row indexes from dataFrame\n",
    "indexNames = pd.Index(np.where(df['imageID'].isin(excluded))[0])\n",
    "df.drop(indexNames, inplace = True)\n",
    "\n",
    "df_TOF = pd.read_pickle('data_save_210423_TOF.pickle')\n",
    "# Delete these row indexes from dataFrame\n",
    "indexNames = pd.Index(np.where(df_TOF['imageID'].isin(excluded))[0])\n",
    "df_TOF.drop(indexNames, inplace = True)"
   ]
  },
  {
   "cell_type": "code",
   "execution_count": 7,
   "metadata": {},
   "outputs": [
    {
     "data": {
      "text/html": [
       "<div>\n",
       "<style scoped>\n",
       "    .dataframe tbody tr th:only-of-type {\n",
       "        vertical-align: middle;\n",
       "    }\n",
       "\n",
       "    .dataframe tbody tr th {\n",
       "        vertical-align: top;\n",
       "    }\n",
       "\n",
       "    .dataframe thead th {\n",
       "        text-align: right;\n",
       "    }\n",
       "</style>\n",
       "<table border=\"1\" class=\"dataframe\">\n",
       "  <thead>\n",
       "    <tr style=\"text-align: right;\">\n",
       "      <th></th>\n",
       "      <th>BECHoldTime</th>\n",
       "      <th>TOF</th>\n",
       "      <th>latticeDepth</th>\n",
       "      <th>ODT3_Comp</th>\n",
       "      <th>Y_rotation</th>\n",
       "      <th>nCount</th>\n",
       "      <th>xWidth</th>\n",
       "      <th>yWidth</th>\n",
       "      <th>imageID</th>\n",
       "      <th>latticeDetuning</th>\n",
       "    </tr>\n",
       "  </thead>\n",
       "  <tbody>\n",
       "    <tr>\n",
       "      <th>0</th>\n",
       "      <td>10.0</td>\n",
       "      <td>5.0</td>\n",
       "      <td>0.05</td>\n",
       "      <td>0.0</td>\n",
       "      <td>False</td>\n",
       "      <td>99721.0</td>\n",
       "      <td>10.11620</td>\n",
       "      <td>9.84420</td>\n",
       "      <td>138053.0</td>\n",
       "      <td>-40.0</td>\n",
       "    </tr>\n",
       "    <tr>\n",
       "      <th>1</th>\n",
       "      <td>10.0</td>\n",
       "      <td>5.0</td>\n",
       "      <td>0.05</td>\n",
       "      <td>0.0</td>\n",
       "      <td>False</td>\n",
       "      <td>101548.0</td>\n",
       "      <td>10.86900</td>\n",
       "      <td>10.17210</td>\n",
       "      <td>138054.0</td>\n",
       "      <td>-40.0</td>\n",
       "    </tr>\n",
       "    <tr>\n",
       "      <th>2</th>\n",
       "      <td>10.0</td>\n",
       "      <td>6.0</td>\n",
       "      <td>0.05</td>\n",
       "      <td>0.0</td>\n",
       "      <td>False</td>\n",
       "      <td>93918.0</td>\n",
       "      <td>10.86110</td>\n",
       "      <td>11.34220</td>\n",
       "      <td>138055.0</td>\n",
       "      <td>-40.0</td>\n",
       "    </tr>\n",
       "    <tr>\n",
       "      <th>3</th>\n",
       "      <td>10.0</td>\n",
       "      <td>7.0</td>\n",
       "      <td>0.05</td>\n",
       "      <td>0.0</td>\n",
       "      <td>False</td>\n",
       "      <td>79999.0</td>\n",
       "      <td>12.17970</td>\n",
       "      <td>12.44540</td>\n",
       "      <td>138056.0</td>\n",
       "      <td>-40.0</td>\n",
       "    </tr>\n",
       "    <tr>\n",
       "      <th>4</th>\n",
       "      <td>10.0</td>\n",
       "      <td>3.0</td>\n",
       "      <td>0.05</td>\n",
       "      <td>0.0</td>\n",
       "      <td>False</td>\n",
       "      <td>73763.0</td>\n",
       "      <td>8.77817</td>\n",
       "      <td>8.19221</td>\n",
       "      <td>138057.0</td>\n",
       "      <td>-40.0</td>\n",
       "    </tr>\n",
       "    <tr>\n",
       "      <th>...</th>\n",
       "      <td>...</td>\n",
       "      <td>...</td>\n",
       "      <td>...</td>\n",
       "      <td>...</td>\n",
       "      <td>...</td>\n",
       "      <td>...</td>\n",
       "      <td>...</td>\n",
       "      <td>...</td>\n",
       "      <td>...</td>\n",
       "      <td>...</td>\n",
       "    </tr>\n",
       "    <tr>\n",
       "      <th>79</th>\n",
       "      <td>10.0</td>\n",
       "      <td>4.0</td>\n",
       "      <td>1.90</td>\n",
       "      <td>0.0</td>\n",
       "      <td>False</td>\n",
       "      <td>101931.0</td>\n",
       "      <td>18.66980</td>\n",
       "      <td>11.34270</td>\n",
       "      <td>138132.0</td>\n",
       "      <td>-40.0</td>\n",
       "    </tr>\n",
       "    <tr>\n",
       "      <th>80</th>\n",
       "      <td>10.0</td>\n",
       "      <td>6.0</td>\n",
       "      <td>1.90</td>\n",
       "      <td>0.0</td>\n",
       "      <td>False</td>\n",
       "      <td>92888.0</td>\n",
       "      <td>29.47930</td>\n",
       "      <td>15.26090</td>\n",
       "      <td>138133.0</td>\n",
       "      <td>-40.0</td>\n",
       "    </tr>\n",
       "    <tr>\n",
       "      <th>81</th>\n",
       "      <td>10.0</td>\n",
       "      <td>5.0</td>\n",
       "      <td>1.90</td>\n",
       "      <td>0.0</td>\n",
       "      <td>False</td>\n",
       "      <td>78154.0</td>\n",
       "      <td>23.39660</td>\n",
       "      <td>11.30280</td>\n",
       "      <td>138134.0</td>\n",
       "      <td>-40.0</td>\n",
       "    </tr>\n",
       "    <tr>\n",
       "      <th>82</th>\n",
       "      <td>10.0</td>\n",
       "      <td>3.0</td>\n",
       "      <td>1.90</td>\n",
       "      <td>0.0</td>\n",
       "      <td>False</td>\n",
       "      <td>67024.0</td>\n",
       "      <td>15.46930</td>\n",
       "      <td>9.18807</td>\n",
       "      <td>138135.0</td>\n",
       "      <td>-40.0</td>\n",
       "    </tr>\n",
       "    <tr>\n",
       "      <th>83</th>\n",
       "      <td>10.0</td>\n",
       "      <td>8.0</td>\n",
       "      <td>1.90</td>\n",
       "      <td>0.0</td>\n",
       "      <td>False</td>\n",
       "      <td>99414.0</td>\n",
       "      <td>34.22770</td>\n",
       "      <td>19.64000</td>\n",
       "      <td>138136.0</td>\n",
       "      <td>-40.0</td>\n",
       "    </tr>\n",
       "  </tbody>\n",
       "</table>\n",
       "<p>84 rows × 10 columns</p>\n",
       "</div>"
      ],
      "text/plain": [
       "    BECHoldTime  TOF  latticeDepth  ODT3_Comp  Y_rotation    nCount    xWidth  \\\n",
       "0          10.0  5.0          0.05        0.0       False   99721.0  10.11620   \n",
       "1          10.0  5.0          0.05        0.0       False  101548.0  10.86900   \n",
       "2          10.0  6.0          0.05        0.0       False   93918.0  10.86110   \n",
       "3          10.0  7.0          0.05        0.0       False   79999.0  12.17970   \n",
       "4          10.0  3.0          0.05        0.0       False   73763.0   8.77817   \n",
       "..          ...  ...           ...        ...         ...       ...       ...   \n",
       "79         10.0  4.0          1.90        0.0       False  101931.0  18.66980   \n",
       "80         10.0  6.0          1.90        0.0       False   92888.0  29.47930   \n",
       "81         10.0  5.0          1.90        0.0       False   78154.0  23.39660   \n",
       "82         10.0  3.0          1.90        0.0       False   67024.0  15.46930   \n",
       "83         10.0  8.0          1.90        0.0       False   99414.0  34.22770   \n",
       "\n",
       "      yWidth   imageID  latticeDetuning  \n",
       "0    9.84420  138053.0            -40.0  \n",
       "1   10.17210  138054.0            -40.0  \n",
       "2   11.34220  138055.0            -40.0  \n",
       "3   12.44540  138056.0            -40.0  \n",
       "4    8.19221  138057.0            -40.0  \n",
       "..       ...       ...              ...  \n",
       "79  11.34270  138132.0            -40.0  \n",
       "80  15.26090  138133.0            -40.0  \n",
       "81  11.30280  138134.0            -40.0  \n",
       "82   9.18807  138135.0            -40.0  \n",
       "83  19.64000  138136.0            -40.0  \n",
       "\n",
       "[84 rows x 10 columns]"
      ]
     },
     "execution_count": 7,
     "metadata": {},
     "output_type": "execute_result"
    }
   ],
   "source": [
    "df_TOF"
   ]
  },
  {
   "cell_type": "code",
   "execution_count": 8,
   "metadata": {},
   "outputs": [],
   "source": [
    "latticeDepthList = df['latticeDepth'].unique()\n",
    "Y_rotationList = df['Y_rotation'].unique()\n",
    "BECHoldTimeList = df['BECHoldTime'].unique()\n",
    "latticeDetuningList = df['latticeDetuning'].unique()"
   ]
  },
  {
   "cell_type": "code",
   "execution_count": 9,
   "metadata": {},
   "outputs": [
    {
     "data": {
      "text/plain": [
       "array([0.05, 0.1 , 0.3 , 0.6 , 1.  , 1.5 , 1.9 ])"
      ]
     },
     "execution_count": 9,
     "metadata": {},
     "output_type": "execute_result"
    }
   ],
   "source": [
    "np.sort(latticeDepthList)"
   ]
  },
  {
   "cell_type": "code",
   "execution_count": 13,
   "metadata": {},
   "outputs": [
    {
     "data": {
      "image/png": "[encoded data removed]",
      "text/plain": [
       "<Figure size 432x288 with 1 Axes>"
      ]
     },
     "metadata": {
      "needs_background": "light"
     },
     "output_type": "display_data"
    }
   ],
   "source": [
    "def getRun(df, latticeDepth, Y_rotation = False, latticeDetuning = 25):\n",
    "    df_temp = df[df['latticeDepth'] == latticeDepth]\n",
    "    df_temp2 = df_temp[df_temp['Y_rotation'] == Y_rotation]\n",
    "    df_temp2 = df_temp2[df_temp2['latticeDetuning'] == latticeDetuning]\n",
    "    return df_temp\n",
    "\n",
    "plt.figure()\n",
    "for latticeDepth in [1.9]:\n",
    "    df_temp = getRun(df, latticeDepth, latticeDetuning = 25)\n",
    "    plt.plot(df_temp['BECHoldTime'], df_temp['nCount'], '+', label = str(round(latticeDepth, 2)))\n",
    "plt.legend()\n",
    "plt.ylim(0, 160000)\n",
    "plt.xlim(0,100)\n",
    "plt.show()"
   ]
  },
  {
   "cell_type": "code",
   "execution_count": 9,
   "metadata": {},
   "outputs": [],
   "source": [
    "results = []\n",
    "results_pure = []\n",
    "results_lin = []\n",
    "\n",
    "\n",
    "from scipy.optimize import curve_fit\n",
    "\n",
    "def N_polarized(t, N0, alpha, gamma):\n",
    "    return np.sqrt(alpha / (np.exp(2*alpha*t)*(alpha/(N0**2)+gamma)-gamma))\n",
    "\n",
    "def N_linear(t, N0, b):\n",
    "    return N0-b*t\n",
    "\n",
    "def N_polarized_pure3b(t, N0, gamma):\n",
    "    return N0 / np.sqrt(1+N0**2*gamma*t)\n",
    "\n",
    "def fitRun(df_run):\n",
    "    N0_guess = max(df_run['nCount'])\n",
    "    time_guess = max(df_run['BECHoldTime'])\n",
    "    alpha_guess = 1/time_guess\n",
    "    gamma_guess = 1/(N0_guess**2*time_guess)\n",
    "    popt, pcov = curve_fit(N_polarized, df_run['BECHoldTime'], df_run['nCount'],\n",
    "                       p0 = [N0_guess, alpha_guess, gamma_guess],\n",
    "                          )#bounds = ((N0_guess/10, alpha_guess/10, gamma_guess/100), (N0_guess*10, alpha_guess*10, gamma_guess*100)),\n",
    "                           #method = 'trf'\n",
    "                      #)\n",
    "    return popt, pcov\n",
    "\n",
    "def fitRun_pure(df_run):\n",
    "    N0_guess = max(df_run['nCount'])\n",
    "    time_guess = max(df_run['BECHoldTime'])\n",
    "    popt, pcov = curve_fit(N_polarized_pure3b, df_run['BECHoldTime'], df_run['nCount'],\n",
    "                       p0 = [N0_guess, 1/(N0_guess**2*time_guess)],\n",
    "                          )#bounds = ((0, 0), (np.inf, np.inf)),\n",
    "                           #method = 'trf'\n",
    "                      #)\n",
    "    return popt, pcov\n",
    "\n",
    "def fitRun_lin(df_run):\n",
    "    N0_guess = max(df_run['nCount'])\n",
    "    time_guess = max(df_run['BECHoldTime'])\n",
    "    popt, pcov = curve_fit(N_linear, df_run['BECHoldTime'], df_run['nCount'],\n",
    "                       p0 = [N0_guess, N0_guess/time_guess],\n",
    "                          )#bounds = ((0, 0), (np.inf, np.inf)),\n",
    "                           #method = 'trf'\n",
    "                      #)\n",
    "    return popt, pcov\n",
    "\n",
    "for latticeDetuning in latticeDetuningList:\n",
    "    for latticeDepth in latticeDepthList:\n",
    "        df_run = getRun(df, latticeDepth, Y_rotation = False, latticeDetuning = latticeDetuning)\n",
    "        #print(latticeDetuning, latticeDepth)\n",
    "        if not df_run.empty:\n",
    "            popt, pcov = fitRun(df_run)\n",
    "            results += [{'latticeDetuning' : latticeDetuning,\n",
    "                             'latticeDepth' : latticeDepth,\n",
    "                             'Y_rotation' : False,\n",
    "                            'N0' : popt[0],\n",
    "                            'alpha' : min(-10**(-10), popt[1]),\n",
    "                             'gamma' : popt[2]\n",
    "                        }]\n",
    "resultsDF = pd.DataFrame(results)\n",
    "\n",
    "for latticeDetuning in latticeDetuningList:\n",
    "    for latticeDepth in latticeDepthList:\n",
    "        df_run = getRun(df, latticeDepth, Y_rotation = False, latticeDetuning = latticeDetuning)\n",
    "        #print(latticeDetuning, latticeDepth)\n",
    "        if not df_run.empty:\n",
    "            popt, pcov = fitRun_pure(df_run)\n",
    "            results_pure += [{'latticeDetuning' : latticeDetuning,\n",
    "                             'latticeDepth' : latticeDepth,\n",
    "                             'Y_rotation' : False,\n",
    "                            'N0' : popt[0],\n",
    "                            'alpha' : 0,\n",
    "                             'gamma' : popt[1]\n",
    "                        }]\n",
    "resultsDF_pure = pd.DataFrame(results_pure)\n",
    "\n",
    "for latticeDetuning in latticeDetuningList:\n",
    "    for latticeDepth in latticeDepthList:\n",
    "        df_run = getRun(df, latticeDepth, Y_rotation = False, latticeDetuning = latticeDetuning)\n",
    "        #print(latticeDetuning, latticeDepth)\n",
    "        if not df_run.empty:\n",
    "            popt, pcov = fitRun_lin(df_run[df_run['BECHoldTime']<100])\n",
    "            results_lin += [{'latticeDetuning' : latticeDetuning,\n",
    "                             'latticeDepth' : latticeDepth,\n",
    "                             'Y_rotation' : False,\n",
    "                            'N0' : popt[0],\n",
    "                             'b' : popt[1]\n",
    "                        }]\n",
    "resultsDF_lin = pd.DataFrame(results_lin)\n",
    "\n",
    "#print('\\n')\n",
    "#print(resultsDF)\n",
    "#perr = np.sqrt(np.diag(pcov))"
   ]
  },
  {
   "cell_type": "code",
   "execution_count": 11,
   "metadata": {},
   "outputs": [
    {
     "data": {
      "image/png": "[encoded data removed]",
      "text/plain": [
       "<Figure size 432x288 with 1 Axes>"
      ]
     },
     "metadata": {
      "needs_background": "light"
     },
     "output_type": "display_data"
    }
   ],
   "source": [
    "def getResult(dfResult, latticeDepth, Y_rotation, latticeDetuning = 25):\n",
    "    df_temp = dfResult[dfResult['latticeDepth'] == latticeDepth]\n",
    "    df_temp2 = df_temp[df_temp['Y_rotation'] == Y_rotation]\n",
    "    df_temp3 = df_temp2[df_temp2['latticeDetuning'] == latticeDetuning]\n",
    "    return df_temp3\n",
    "\n",
    "latticeDepth = 1.9\n",
    "latticeDetuning = -40\n",
    "\n",
    "df_tempZ = getRun(df, latticeDepth, False, latticeDetuning)\n",
    "resultZ = getResult(resultsDF_pure, latticeDepth, False, latticeDetuning)\n",
    "\n",
    "time = np.linspace(0, 1000, 10000)\n",
    "NZ, alphaZ, gammaZ = resultZ.iloc[0, 3], resultZ.iloc[0, 4], resultZ.iloc[0, 5]\n",
    "Z = N_polarized_pure3b(time, NZ, gammaZ)\n",
    "\n",
    "plt.figure()\n",
    "plt.plot(df_tempZ['BECHoldTime'], df_tempZ['nCount'], '+', label = str(round(latticeDepth, 2)) + ' ' + str(False))\n",
    "plt.plot(time, Z, '-', label = 'fitZ')\n",
    "plt.legend()\n",
    "plt.ylim(0, 150000)\n",
    "plt.xlim(0,1000)\n",
    "plt.show()"
   ]
  },
  {
   "cell_type": "code",
   "execution_count": 12,
   "metadata": {},
   "outputs": [
    {
     "data": {
      "image/png": "[encoded data removed]",
      "text/plain": [
       "<Figure size 432x288 with 1 Axes>"
      ]
     },
     "metadata": {
      "needs_background": "light"
     },
     "output_type": "display_data"
    }
   ],
   "source": [
    "latticeDepth = 0.3\n",
    "latticeDetuning = -40\n",
    "\n",
    "df_tempZ = getRun(df, latticeDepth, False, latticeDetuning)\n",
    "resultZ = getResult(resultsDF, latticeDepth, False, latticeDetuning)\n",
    "\n",
    "time = np.linspace(0, 1000, 10000)\n",
    "NZ, alphaZ, gammaZ = resultZ.iloc[0, 3], resultZ.iloc[0, 4], resultZ.iloc[0, 5]\n",
    "\n",
    "Z = N_polarized(time, NZ, alphaZ, gammaZ)\n",
    "\n",
    "plt.figure()\n",
    "plt.plot(df_tempZ['BECHoldTime'], df_tempZ['nCount'], '+', label = str(round(latticeDepth, 2)) + ' ' + str(False))\n",
    "plt.plot(time, Z, '-', label = 'fitZ')\n",
    "plt.legend()\n",
    "plt.ylim(10000,200000)\n",
    "plt.xlim(0,1000)\n",
    "plt.show()"
   ]
  },
  {
   "cell_type": "code",
   "execution_count": 13,
   "metadata": {},
   "outputs": [
    {
     "data": {
      "image/png": "[encoded data removed]",
      "text/plain": [
       "<Figure size 432x288 with 1 Axes>"
      ]
     },
     "metadata": {
      "needs_background": "light"
     },
     "output_type": "display_data"
    }
   ],
   "source": [
    "latticeDepth = 0.3\n",
    "latticeDetuning = -40\n",
    "\n",
    "df_tempZ = getRun(df, latticeDepth, False, latticeDetuning)\n",
    "resultZ = getResult(resultsDF_lin, latticeDepth, False, latticeDetuning)\n",
    "\n",
    "time = np.linspace(0, 1000, 10000)\n",
    "NZ, bZ = resultZ.iloc[0, 3], resultZ.iloc[0, 4]\n",
    "\n",
    "Z = N_linear(time, NZ, bZ)\n",
    "\n",
    "plt.figure()\n",
    "plt.plot(df_tempZ['BECHoldTime'], df_tempZ['nCount'], '+', label = str(round(latticeDepth, 2)) + ' ' + str(False))\n",
    "plt.plot(time, Z, '-', label = 'fitZ')\n",
    "plt.legend()\n",
    "plt.ylim(10000,200000)\n",
    "plt.xlim(0,1000)\n",
    "plt.show()"
   ]
  },
  {
   "cell_type": "code",
   "execution_count": 115,
   "metadata": {},
   "outputs": [
    {
     "data": {
      "image/png": "[encoded data removed]",
      "text/plain": [
       "<Figure size 432x288 with 1 Axes>"
      ]
     },
     "metadata": {
      "needs_background": "light"
     },
     "output_type": "display_data"
    }
   ],
   "source": [
    "resultsDF_Z = resultsDF[resultsDF['Y_rotation'] == False]\n",
    "resultsDF_Z_pure = resultsDF_pure[resultsDF_pure['Y_rotation'] == False]\n",
    "resultsDF_Z_lin = resultsDF_lin[resultsDF_lin['Y_rotation'] == False]\n",
    "\n",
    "latticeDepth = -resultsDF_Z['latticeDepth']/resultsDF_Z['latticeDetuning']\n",
    "decay_1b3b = resultsDF_Z['gamma']/resultsDF_Z['gamma'].mean()\n",
    "decay_3b = resultsDF_Z_pure['gamma']/resultsDF_Z_pure['gamma'].mean()\n",
    "decay_lin = resultsDF_Z_lin['b']/resultsDF_Z_lin['b'].mean()\n",
    "\n",
    "plt.figure()\n",
    "plt.plot(latticeDepth, decay_1b3b, 'b*', label = '1b + 3b')\n",
    "plt.plot(latticeDepth, decay_3b, 'g*', label = '3b')\n",
    "plt.plot(latticeDepth, decay_lin, 'r*', label = 'lin')\n",
    "plt.xlabel(\"Lattice power\")\n",
    "plt.ylabel(\"Decay\")\n",
    "\n",
    "\n",
    "plt.legend()\n",
    "#plt.ylim(0,0.2*10**(-11))\n",
    "plt.show()"
   ]
  },
  {
   "cell_type": "markdown",
   "metadata": {},
   "source": [
    "The increase in power should result in a smaller cloud. The density is proportional to $n\\sim 1/(a_{oh}r_{\\perp}^{2}) \\sim \\sqrt{\\omega_{z}}\\frac{\\omega_{\\perp}^{2}}{\\mu}$. Assuming the chemical potential constant, the density $n$ goes like $(P/\\Delta)^{5/4}$. In that case the decay coefficient which is proportional to $n^{2}$ should be scalled accordingly.\n",
    "If we rather fix the scattering length $a$ and write $\\mu\\sim na$ then at constant $a$ it gives $n \\sim (P/\\Delta)^{5/8})$."
   ]
  },
  {
   "cell_type": "code",
   "execution_count": 15,
   "metadata": {},
   "outputs": [
    {
     "data": {
      "image/png": "[encoded data removed]",
      "text/plain": [
       "<Figure size 432x288 with 1 Axes>"
      ]
     },
     "metadata": {
      "needs_background": "light"
     },
     "output_type": "display_data"
    }
   ],
   "source": [
    "resultsDF_Z = resultsDF[resultsDF['Y_rotation'] == False]\n",
    "resultsDF_Z_pure = resultsDF_pure[resultsDF_pure['Y_rotation'] == False]\n",
    "resultsDF_Z_lin = resultsDF_lin[resultsDF_lin['Y_rotation'] == False]\n",
    "\n",
    "latticeDensity = -resultsDF_Z['latticeDepth']/resultsDF_Z['latticeDetuning']\n",
    "decay_1b3b = resultsDF_Z['gamma']/resultsDF_Z['gamma'].mean()/latticeDensity**(5/2)\n",
    "decay_3b = resultsDF_Z_pure['gamma']/resultsDF_Z_pure['gamma'].mean()/latticeDensity**(5/2)\n",
    "decay_lin = resultsDF_Z_lin['b']/resultsDF_Z_lin['b'].mean()/latticeDensity**(5/2)\n",
    "\n",
    "plt.figure()\n",
    "plt.semilogy(latticeDensity, decay_1b3b, 'b*', label = '1b + 3b')\n",
    "plt.semilogy(latticeDensity, decay_3b, 'g*', label = '3b')\n",
    "plt.semilogy(latticeDensity, decay_lin, 'r*', label = 'lin')\n",
    "\n",
    "plt.legend()\n",
    "#plt.ylim(0,0.2*10**(-11))\n",
    "plt.show()"
   ]
  },
  {
   "cell_type": "code",
   "execution_count": 16,
   "metadata": {},
   "outputs": [
    {
     "data": {
      "image/png": "[encoded data removed]",
      "text/plain": [
       "<Figure size 432x288 with 1 Axes>"
      ]
     },
     "metadata": {
      "needs_background": "light"
     },
     "output_type": "display_data"
    }
   ],
   "source": [
    "resultsDF_Z = resultsDF[resultsDF['Y_rotation'] == False]\n",
    "resultsDF_Z_pure = resultsDF_pure[resultsDF_pure['Y_rotation'] == False]\n",
    "resultsDF_Z_lin = resultsDF_lin[resultsDF_lin['Y_rotation'] == False]\n",
    "\n",
    "latticeDensity = -resultsDF_Z['latticeDepth']/resultsDF_Z['latticeDetuning']\n",
    "decay_1b3b = resultsDF_Z['gamma']/resultsDF_Z['gamma'].mean()/latticeDensity**(5/4)\n",
    "decay_3b = resultsDF_Z_pure['gamma']/resultsDF_Z_pure['gamma'].mean()/latticeDensity**(5/4)\n",
    "decay_lin = resultsDF_Z_lin['b']/resultsDF_Z_lin['b'].mean()/latticeDensity**(5/4)\n",
    "\n",
    "plt.figure()\n",
    "plt.semilogy(latticeDensity, decay_1b3b, 'b*', label = '1b + 3b')\n",
    "plt.semilogy(latticeDensity, decay_3b, 'g*', label = '3b')\n",
    "plt.semilogy(latticeDensity, decay_lin, 'r*', label = 'lin')\n",
    "\n",
    "plt.legend()\n",
    "#plt.ylim(0,0.2*10**(-11))\n",
    "plt.show()"
   ]
  },
  {
   "cell_type": "code",
   "execution_count": 119,
   "metadata": {},
   "outputs": [
    {
     "data": {
      "image/png": "[encoded data removed]",
      "text/plain": [
       "<Figure size 432x288 with 1 Axes>"
      ]
     },
     "metadata": {
      "needs_background": "light"
     },
     "output_type": "display_data"
    }
   ],
   "source": [
    "resultsDF_Z = resultsDF[resultsDF['Y_rotation'] == False]\n",
    "resultsDF_Z_pure = resultsDF_pure[resultsDF_pure['Y_rotation'] == False]\n",
    "resultsDF_Z_lin = resultsDF_lin[resultsDF_lin['Y_rotation'] == False]\n",
    "\n",
    "latticeDensity = -resultsDF_Z['latticeDepth']/resultsDF_Z['latticeDetuning']\n",
    "decay_1b3b = resultsDF_Z['gamma']/resultsDF_Z['gamma'].mean()/latticeDensity**(3/2)\n",
    "decay_3b = resultsDF_Z_pure['gamma']/resultsDF_Z_pure['gamma'].mean()/latticeDensity**(3/2)\n",
    "decay_lin = resultsDF_Z_lin['b']/resultsDF_Z_lin['b'].mean()/latticeDensity**(3/2)\n",
    "\n",
    "plt.figure()\n",
    "plt.semilogy(latticeDensity, decay_1b3b, 'b*', label = '1b + 3b')\n",
    "plt.semilogy(latticeDensity, decay_3b, 'g*', label = '3b')\n",
    "plt.semilogy(latticeDensity, decay_lin, 'r*', label = 'lin')\n",
    "\n",
    "plt.legend()\n",
    "#plt.ylim(0,0.2*10**(-11))\n",
    "plt.show()"
   ]
  },
  {
   "cell_type": "markdown",
   "metadata": {},
   "source": [
    "Now let's look at the TOF series"
   ]
  },
  {
   "cell_type": "code",
   "execution_count": 118,
   "metadata": {},
   "outputs": [
    {
     "data": {
      "image/png": "[encoded data removed]",
      "text/plain": [
       "<Figure size 432x288 with 1 Axes>"
      ]
     },
     "metadata": {
      "needs_background": "light"
     },
     "output_type": "display_data"
    }
   ],
   "source": [
    "df_TOF\n",
    "latticeDepthList_TOF = df_TOF['latticeDepth'].unique()\n",
    "\n",
    "plt.figure()\n",
    "for latticeDepth in latticeDepthList_TOF[-1:]:\n",
    "    df_run = getRun(df_TOF, latticeDepth, False, -40)\n",
    "    plt.plot(df_run['TOF'], df_run['xWidth'], '*', label = 'Z')\n",
    "    plt.plot(df_run['TOF'], df_run['yWidth'], '+', label = 'trans')\n",
    "    \n",
    "plt.xlabel(\"TOF\")\n",
    "plt.ylabel(\"Width\")\n",
    "plt.legend()\n",
    "plt.show()"
   ]
  },
  {
   "cell_type": "code",
   "execution_count": 93,
   "metadata": {},
   "outputs": [],
   "source": [
    "def sigma(t, sigma0, v):\n",
    "    return np.sqrt(sigma0**2+(v*t)**2)\n",
    "\n",
    "def fitRun_sigma(df_run, XorY = 'xWidth'):\n",
    "    sigma0_guess = df_run[XorY].min()\n",
    "    v_guess = df_run[XorY].max()/df_run['TOF'].max()\n",
    "    popt, pcov = curve_fit(sigma, df_run['TOF'], df_run[XorY],\n",
    "                       p0 = [sigma0_guess, v_guess]\n",
    "                          )#bounds = ((0, 0), (np.inf, np.inf)),\n",
    "                           #method = 'trf'\n",
    "                      #)\n",
    "    return popt, pcov\n",
    "\n",
    "results_sigma = []\n",
    "for latticeDetuning in latticeDetuningList:\n",
    "    for latticeDepth in latticeDepthList:\n",
    "        df_run = getRun(df_TOF, latticeDepth, Y_rotation = False, latticeDetuning = latticeDetuning)\n",
    "        #print(latticeDetuning, latticeDepth)\n",
    "        if not df_run.empty:\n",
    "            popt_Z, pcov_Z = fitRun_sigma(df_run, 'xWidth')\n",
    "            popt_trans, pcov_trans = fitRun_sigma(df_run, 'yWidth')\n",
    "            results_sigma += [{'latticeDetuning' : latticeDetuning,\n",
    "                             'latticeDepth' : latticeDepth,\n",
    "                             'Y_rotation' : False,\n",
    "                            'sigma0_Z' : popt_Z[0],\n",
    "                            'v_Z' : popt_Z[1],\n",
    "                            'sigma0_trans' : popt_trans[0],\n",
    "                            'v_trans' : popt_trans[1],\n",
    "                        }]\n",
    "resultsDF_sigma = pd.DataFrame(results_sigma)"
   ]
  },
  {
   "cell_type": "code",
   "execution_count": 101,
   "metadata": {},
   "outputs": [
    {
     "data": {
      "image/png": "[encoded data removed]",
      "text/plain": [
       "<Figure size 432x288 with 1 Axes>"
      ]
     },
     "metadata": {
      "needs_background": "light"
     },
     "output_type": "display_data"
    }
   ],
   "source": [
    "latticeDetuning = -40\n",
    "latticeDepth = 1\n",
    "\n",
    "tof = np.linspace(0, 8, 100)\n",
    "df_run = getRun(df_TOF, latticeDepth, False, latticeDetuning)\n",
    "df_res = getResult(resultsDF_sigma, latticeDepth, False, latticeDetuning)\n",
    "sigma0_Z, v_Z, sigma0_trans, v_trans = df_res.iloc[0,3:7]\n",
    "#sigma0_Z, v_Z = 8, 4\n",
    "sigma_Z_fit = sigma(tof, sigma0_Z, v_Z)\n",
    "sigma_trans_fit = sigma(tof, sigma0_trans, v_trans)\n",
    "\n",
    "plt.figure()\n",
    "plt.plot(tof, sigma_Z_fit, 'r-')\n",
    "plt.plot(tof, sigma_trans_fit, 'b-')\n",
    "plt.plot(df_run['TOF'], df_run['xWidth'], 'r*')\n",
    "plt.plot(df_run['TOF'], df_run['yWidth'], 'b*')\n",
    "plt.ylim(0,1.1*max(sigma_Z_fit))\n",
    "plt.show()"
   ]
  },
  {
   "cell_type": "code",
   "execution_count": 106,
   "metadata": {},
   "outputs": [
    {
     "data": {
      "text/html": [
       "<div>\n",
       "<style scoped>\n",
       "    .dataframe tbody tr th:only-of-type {\n",
       "        vertical-align: middle;\n",
       "    }\n",
       "\n",
       "    .dataframe tbody tr th {\n",
       "        vertical-align: top;\n",
       "    }\n",
       "\n",
       "    .dataframe thead th {\n",
       "        text-align: right;\n",
       "    }\n",
       "</style>\n",
       "<table border=\"1\" class=\"dataframe\">\n",
       "  <thead>\n",
       "    <tr style=\"text-align: right;\">\n",
       "      <th></th>\n",
       "      <th>latticeDetuning</th>\n",
       "      <th>latticeDepth</th>\n",
       "      <th>Y_rotation</th>\n",
       "      <th>sigma0_Z</th>\n",
       "      <th>v_Z</th>\n",
       "      <th>sigma0_trans</th>\n",
       "      <th>v_trans</th>\n",
       "    </tr>\n",
       "  </thead>\n",
       "  <tbody>\n",
       "    <tr>\n",
       "      <th>0</th>\n",
       "      <td>-40.0</td>\n",
       "      <td>0.05</td>\n",
       "      <td>False</td>\n",
       "      <td>7.196634</td>\n",
       "      <td>1.440443</td>\n",
       "      <td>6.389091</td>\n",
       "      <td>1.635373</td>\n",
       "    </tr>\n",
       "    <tr>\n",
       "      <th>1</th>\n",
       "      <td>-40.0</td>\n",
       "      <td>0.10</td>\n",
       "      <td>False</td>\n",
       "      <td>7.133349</td>\n",
       "      <td>1.509937</td>\n",
       "      <td>5.159898</td>\n",
       "      <td>1.965852</td>\n",
       "    </tr>\n",
       "    <tr>\n",
       "      <th>2</th>\n",
       "      <td>-40.0</td>\n",
       "      <td>0.30</td>\n",
       "      <td>False</td>\n",
       "      <td>7.238850</td>\n",
       "      <td>2.001895</td>\n",
       "      <td>4.765129</td>\n",
       "      <td>2.322938</td>\n",
       "    </tr>\n",
       "    <tr>\n",
       "      <th>3</th>\n",
       "      <td>-40.0</td>\n",
       "      <td>0.60</td>\n",
       "      <td>False</td>\n",
       "      <td>7.146196</td>\n",
       "      <td>2.489011</td>\n",
       "      <td>5.211900</td>\n",
       "      <td>2.201036</td>\n",
       "    </tr>\n",
       "    <tr>\n",
       "      <th>4</th>\n",
       "      <td>-40.0</td>\n",
       "      <td>1.00</td>\n",
       "      <td>False</td>\n",
       "      <td>7.679175</td>\n",
       "      <td>3.072614</td>\n",
       "      <td>5.716990</td>\n",
       "      <td>2.254469</td>\n",
       "    </tr>\n",
       "    <tr>\n",
       "      <th>5</th>\n",
       "      <td>-40.0</td>\n",
       "      <td>1.50</td>\n",
       "      <td>False</td>\n",
       "      <td>8.639873</td>\n",
       "      <td>3.770987</td>\n",
       "      <td>3.707434</td>\n",
       "      <td>2.544283</td>\n",
       "    </tr>\n",
       "    <tr>\n",
       "      <th>6</th>\n",
       "      <td>-40.0</td>\n",
       "      <td>1.90</td>\n",
       "      <td>False</td>\n",
       "      <td>5.216405</td>\n",
       "      <td>4.528457</td>\n",
       "      <td>5.616887</td>\n",
       "      <td>2.322469</td>\n",
       "    </tr>\n",
       "  </tbody>\n",
       "</table>\n",
       "</div>"
      ],
      "text/plain": [
       "   latticeDetuning  latticeDepth  Y_rotation  sigma0_Z       v_Z  \\\n",
       "0            -40.0          0.05       False  7.196634  1.440443   \n",
       "1            -40.0          0.10       False  7.133349  1.509937   \n",
       "2            -40.0          0.30       False  7.238850  2.001895   \n",
       "3            -40.0          0.60       False  7.146196  2.489011   \n",
       "4            -40.0          1.00       False  7.679175  3.072614   \n",
       "5            -40.0          1.50       False  8.639873  3.770987   \n",
       "6            -40.0          1.90       False  5.216405  4.528457   \n",
       "\n",
       "   sigma0_trans   v_trans  \n",
       "0      6.389091  1.635373  \n",
       "1      5.159898  1.965852  \n",
       "2      4.765129  2.322938  \n",
       "3      5.211900  2.201036  \n",
       "4      5.716990  2.254469  \n",
       "5      3.707434  2.544283  \n",
       "6      5.616887  2.322469  "
      ]
     },
     "execution_count": 106,
     "metadata": {},
     "output_type": "execute_result"
    }
   ],
   "source": [
    "resultsDF_sigma"
   ]
  },
  {
   "cell_type": "code",
   "execution_count": 105,
   "metadata": {},
   "outputs": [
    {
     "data": {
      "image/png": "[encoded data removed]",
      "text/plain": [
       "<Figure size 432x288 with 1 Axes>"
      ]
     },
     "metadata": {
      "needs_background": "light"
     },
     "output_type": "display_data"
    }
   ],
   "source": [
    "plt.figure()\n",
    "plt.plot(resultsDF_sigma['latticeDepth'], resultsDF_sigma['v_Z'], 'r*', label = 'Z')\n",
    "plt.plot(resultsDF_sigma['latticeDepth'], resultsDF_sigma['v_trans'], 'b*', label = 'trans')\n",
    "plt.legend()\n",
    "plt.ylim(0, 5)\n",
    "plt.ylabel(\"velocity\")\n",
    "plt.xlabel(\"Lattice depth\")\n",
    "plt.show()"
   ]
  },
  {
   "cell_type": "markdown",
   "metadata": {},
   "source": [
    "Calculate the velocity to temperature conversion. Here $\\sigma = \\sqrt{\\sigma_0^{2}+(\\sigma_{v}t)^{2}}$ is fitted from a gaussian distribution $\\exp(-\\frac{1}{2}\\frac{x^{2}}{\\sigma^{2}})$ where $x = vt$, so $v$ is distributed like a gaussian with width $\\sigma_{v}$ which is the result of the fit $P(v) \\sim \\exp(-\\frac{1}{2}\\frac{v^{2}}{\\sigma_{v}^{2}}) \\sim \\exp(-\\frac{\\frac{1}{2}mv^{2}}{k_{B}T})$. Therefore we find:\n",
    "\\[ \\sigma_{v} = \\sqrt{\\frac{k_{B}T}{m}}\\]"
   ]
  },
  {
   "cell_type": "code",
   "execution_count": 110,
   "metadata": {},
   "outputs": [
    {
     "data": {
      "text/html": [
       "<div>\n",
       "<style scoped>\n",
       "    .dataframe tbody tr th:only-of-type {\n",
       "        vertical-align: middle;\n",
       "    }\n",
       "\n",
       "    .dataframe tbody tr th {\n",
       "        vertical-align: top;\n",
       "    }\n",
       "\n",
       "    .dataframe thead th {\n",
       "        text-align: right;\n",
       "    }\n",
       "</style>\n",
       "<table border=\"1\" class=\"dataframe\">\n",
       "  <thead>\n",
       "    <tr style=\"text-align: right;\">\n",
       "      <th></th>\n",
       "      <th>latticeDetuning</th>\n",
       "      <th>latticeDepth</th>\n",
       "      <th>Y_rotation</th>\n",
       "      <th>sigma0_Z</th>\n",
       "      <th>v_Z</th>\n",
       "      <th>sigma0_trans</th>\n",
       "      <th>v_trans</th>\n",
       "      <th>temperature_Z</th>\n",
       "      <th>temperature_trans</th>\n",
       "    </tr>\n",
       "  </thead>\n",
       "  <tbody>\n",
       "    <tr>\n",
       "      <th>0</th>\n",
       "      <td>-40.0</td>\n",
       "      <td>0.05</td>\n",
       "      <td>False</td>\n",
       "      <td>7.196634</td>\n",
       "      <td>1.440443</td>\n",
       "      <td>6.389091</td>\n",
       "      <td>1.635373</td>\n",
       "      <td>5.413280e-08</td>\n",
       "      <td>6.977534e-08</td>\n",
       "    </tr>\n",
       "    <tr>\n",
       "      <th>1</th>\n",
       "      <td>-40.0</td>\n",
       "      <td>0.10</td>\n",
       "      <td>False</td>\n",
       "      <td>7.133349</td>\n",
       "      <td>1.509937</td>\n",
       "      <td>5.159898</td>\n",
       "      <td>1.965852</td>\n",
       "      <td>5.948206e-08</td>\n",
       "      <td>1.008254e-07</td>\n",
       "    </tr>\n",
       "    <tr>\n",
       "      <th>2</th>\n",
       "      <td>-40.0</td>\n",
       "      <td>0.30</td>\n",
       "      <td>False</td>\n",
       "      <td>7.238850</td>\n",
       "      <td>2.001895</td>\n",
       "      <td>4.765129</td>\n",
       "      <td>2.322938</td>\n",
       "      <td>1.045565e-07</td>\n",
       "      <td>1.407810e-07</td>\n",
       "    </tr>\n",
       "    <tr>\n",
       "      <th>3</th>\n",
       "      <td>-40.0</td>\n",
       "      <td>0.60</td>\n",
       "      <td>False</td>\n",
       "      <td>7.146196</td>\n",
       "      <td>2.489011</td>\n",
       "      <td>5.211900</td>\n",
       "      <td>2.201036</td>\n",
       "      <td>1.616301e-07</td>\n",
       "      <td>1.263929e-07</td>\n",
       "    </tr>\n",
       "    <tr>\n",
       "      <th>4</th>\n",
       "      <td>-40.0</td>\n",
       "      <td>1.00</td>\n",
       "      <td>False</td>\n",
       "      <td>7.679175</td>\n",
       "      <td>3.072614</td>\n",
       "      <td>5.716990</td>\n",
       "      <td>2.254469</td>\n",
       "      <td>2.463114e-07</td>\n",
       "      <td>1.326041e-07</td>\n",
       "    </tr>\n",
       "    <tr>\n",
       "      <th>5</th>\n",
       "      <td>-40.0</td>\n",
       "      <td>1.50</td>\n",
       "      <td>False</td>\n",
       "      <td>8.639873</td>\n",
       "      <td>3.770987</td>\n",
       "      <td>3.707434</td>\n",
       "      <td>2.544283</td>\n",
       "      <td>3.710039e-07</td>\n",
       "      <td>1.688882e-07</td>\n",
       "    </tr>\n",
       "    <tr>\n",
       "      <th>6</th>\n",
       "      <td>-40.0</td>\n",
       "      <td>1.90</td>\n",
       "      <td>False</td>\n",
       "      <td>5.216405</td>\n",
       "      <td>4.528457</td>\n",
       "      <td>5.616887</td>\n",
       "      <td>2.322469</td>\n",
       "      <td>5.350189e-07</td>\n",
       "      <td>1.407241e-07</td>\n",
       "    </tr>\n",
       "  </tbody>\n",
       "</table>\n",
       "</div>"
      ],
      "text/plain": [
       "   latticeDetuning  latticeDepth  Y_rotation  sigma0_Z       v_Z  \\\n",
       "0            -40.0          0.05       False  7.196634  1.440443   \n",
       "1            -40.0          0.10       False  7.133349  1.509937   \n",
       "2            -40.0          0.30       False  7.238850  2.001895   \n",
       "3            -40.0          0.60       False  7.146196  2.489011   \n",
       "4            -40.0          1.00       False  7.679175  3.072614   \n",
       "5            -40.0          1.50       False  8.639873  3.770987   \n",
       "6            -40.0          1.90       False  5.216405  4.528457   \n",
       "\n",
       "   sigma0_trans   v_trans  temperature_Z  temperature_trans  \n",
       "0      6.389091  1.635373   5.413280e-08       6.977534e-08  \n",
       "1      5.159898  1.965852   5.948206e-08       1.008254e-07  \n",
       "2      4.765129  2.322938   1.045565e-07       1.407810e-07  \n",
       "3      5.211900  2.201036   1.616301e-07       1.263929e-07  \n",
       "4      5.716990  2.254469   2.463114e-07       1.326041e-07  \n",
       "5      3.707434  2.544283   3.710039e-07       1.688882e-07  \n",
       "6      5.616887  2.322469   5.350189e-07       1.407241e-07  "
      ]
     },
     "execution_count": 110,
     "metadata": {},
     "output_type": "execute_result"
    }
   ],
   "source": [
    "m_Dy = 164*1.66*10**(-27)\n",
    "k_B = 1.38*10**(-23)\n",
    "pixel_size = 3.45*10**(-6)\n",
    "tof_unit = 10**(-3)\n",
    "magnification = 3\n",
    "resultsDF_sigma['temperature_Z'] = m_Dy*(resultsDF_sigma['v_Z']*pixel_size/magnification/tof_unit)**2/k_B\n",
    "resultsDF_sigma['temperature_trans'] = m_Dy*(resultsDF_sigma['v_trans']*pixel_size/magnification/tof_unit)**2/k_B\n",
    "resultsDF_sigma"
   ]
  },
  {
   "cell_type": "code",
   "execution_count": null,
   "metadata": {},
   "outputs": [],
   "source": []
  }
 ],
 "metadata": {
  "kernelspec": {
   "display_name": "Python 3",
   "language": "python",
   "name": "python3"
  },
  "language_info": {
   "codemirror_mode": {
    "name": "ipython",
    "version": 3
   },
   "file_extension": ".py",
   "mimetype": "text/x-python",
   "name": "python",
   "nbconvert_exporter": "python",
   "pygments_lexer": "ipython3",
   "version": "3.9.0"
  },
  "latex_envs": {
   "LaTeX_envs_menu_present": true,
   "autoclose": false,
   "autocomplete": true,
   "bibliofile": "biblio.bib",
   "cite_by": "apalike",
   "current_citInitial": 1,
   "eqLabelWithNumbers": true,
   "eqNumInitial": 1,
   "hotkeys": {
    "equation": "Ctrl-E",
    "itemize": "Ctrl-I"
   },
   "labels_anchors": false,
   "latex_user_defs": false,
   "report_style_numbering": false,
   "user_envs_cfg": false
  }
 },
 "nbformat": 4,
 "nbformat_minor": 4
}
