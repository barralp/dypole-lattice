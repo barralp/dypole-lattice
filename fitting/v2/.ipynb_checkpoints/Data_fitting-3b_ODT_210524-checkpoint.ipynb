{
 "cells": [
  {
   "cell_type": "code",
   "execution_count": 1,
   "metadata": {},
   "outputs": [],
   "source": [
    "from databaseCommunication import readDatabaseFile, createDataFrame_list\n",
    "from dataframeFormating import createLabeledDataFrame_list #, N_polarized_pure3b, N_polarized, N_linear, getReducedDataframe, getReducedResults, \n",
    "from calculation import trapFrequency, getSubDF\n",
    "import pandas as pd\n",
    "import numpy as np\n",
    "import matplotlib.pyplot as plt \n",
    "from scipy.optimize import curve_fit"
   ]
  },
  {
   "cell_type": "code",
   "execution_count": 2,
   "metadata": {},
   "outputs": [],
   "source": [
    "label_heads = ['experiment']\n",
    "\n",
    "#labels = [[[], [151422, 151736]]\n",
    "#             ] # May 21th\n",
    "\n",
    "labels = [[[1], [152585, 152650]],\n",
    "          [[2], [152655, 152672]],\n",
    "          [[3], [152675, 152692]],\n",
    "          [[4], [152697, 152738]],\n",
    "          [[5], [152794, 152875]],\n",
    "          [[6], [152876, 152920]],\n",
    "          [[7], [152921, 152967]],\n",
    "          [[8], [152968, 153000]],\n",
    "             ] # May 24th\n",
    "# 1st run: regular decay, long TOF. ODT1 power = 0.73 // ODT2 Power = 0.7 // ODT 3 Power = 0.21\n",
    "# 2nd run: zoom at long time\n",
    "# 3rd run: same zoom but with twice the ODT power to check if it's limited by scattering ODT 1 Power = 1.52\n",
    "#.           ODT2 Power = 1.44 // ODT3 Power = 0.42  \n",
    "# 4th run: that last power for short time.\n",
    "# 5th run: hold at 8 times the power : ODT1 = 3.04 0DT2 = 2.88 0DT 3 = 0.84\n",
    "# 6th run: better coupling, more stable. A couple to exclude at 10000, 200, 5000, 6000\n",
    "# 7th and 8th run: more dummies\n",
    "excluded = [152881, 152918, 152919, 152920, 152969, 152932, 152992]"
   ]
  },
  {
   "cell_type": "code",
   "execution_count": 3,
   "metadata": {},
   "outputs": [
    {
     "data": {
      "text/plain": [
       "\"ciceroVariables = ['BECHoldTime', 'TOF', 'compz_rotation']\\nfitVariables = ['nCount', 'xWidth', 'yWidth']\\n\\ndf = createLabeledDataFrame_list(labels, label_heads, ciceroVariables, fitVariables)\\nfor column in df.columns:\\n    try:\\n        df[column] = df[column].astype(float)\\n    except:\\n        pass\\ndf.to_pickle('data_save_ODT_210524.pickle')\""
      ]
     },
     "execution_count": 3,
     "metadata": {},
     "output_type": "execute_result"
    }
   ],
   "source": [
    "\"\"\"ciceroVariables = ['BECHoldTime', 'TOF', 'compz_rotation']\n",
    "fitVariables = ['nCount', 'xWidth', 'yWidth']\n",
    "\n",
    "df = createLabeledDataFrame_list(labels, label_heads, ciceroVariables, fitVariables)\n",
    "for column in df.columns:\n",
    "    try:\n",
    "        df[column] = df[column].astype(float)\n",
    "    except:\n",
    "        pass\n",
    "df.to_pickle('data_save_ODT_210524.pickle')\"\"\""
   ]
  },
  {
   "cell_type": "code",
   "execution_count": 4,
   "metadata": {},
   "outputs": [],
   "source": [
    "df = pd.read_pickle('data_save_ODT_210524.pickle')\n",
    "df.rename(columns = {'compz_rotation' : 'compz'}, inplace = True)\n",
    "indexNames = pd.Index(np.where(df['imageID'].isin(excluded))[0])\n",
    "df.drop(indexNames, inplace = True)\n",
    "#df = df[df['BECHoldTime'] < 400]\n",
    "df_alpha = pd.concat([getSubDF(df, ['experiment'], [2]), getSubDF(df, ['experiment'], [3])])\n",
    "df_3b = df[df['experiment'] >= 6]\n",
    "#df_alpha = df_alpha[df_alpha['BECHoldTime'] > 1400]\n",
    "# Delete these row indexes from dataFrame"
   ]
  },
  {
   "cell_type": "code",
   "execution_count": 5,
   "metadata": {},
   "outputs": [],
   "source": [
    "BECHoldTimeList = np.sort(df['BECHoldTime'].unique())\n",
    "compzList = np.sort(df['compz'].unique())\n",
    "colors = ['red', 'blue', 'orange', 'black', 'green']"
   ]
  },
  {
   "cell_type": "code",
   "execution_count": 8,
   "metadata": {},
   "outputs": [],
   "source": [
    "BECHoldTimeList\n",
    "compz = 3.5"
   ]
  },
  {
   "cell_type": "code",
   "execution_count": 11,
   "metadata": {},
   "outputs": [
    {
     "data": {
      "image/png": "[encoded data removed]",
      "text/plain": [
       "<Figure size 432x288 with 1 Axes>"
      ]
     },
     "metadata": {
      "needs_background": "light"
     },
     "output_type": "display_data"
    }
   ],
   "source": [
    "plt.figure()\n",
    "i = 0\n",
    "for exp in [2,3]:\n",
    "    df_temp = getSubDF(df, ['experiment'], [exp])\n",
    "    plt.semilogy(df_temp['BECHoldTime'], df_temp['nCount'], 'o', color = colors[i], label = str(compz))\n",
    "    i += 1\n",
    "plt.legend()\n",
    "#plt.ylim(0,25000)\n",
    "plt.xlabel('BECHoldTime (ms)')\n",
    "plt.ylabel('nCount')\n",
    "plt.show()"
   ]
  },
  {
   "cell_type": "code",
   "execution_count": 12,
   "metadata": {},
   "outputs": [],
   "source": [
    "def N_polarized(t, N0, alpha, gamma):\n",
    "    return np.sqrt(alpha / (np.exp(2*alpha*t)*(alpha/(N0**2)+gamma)-gamma))\n",
    "\n",
    "def N_linear(t, N0, b):\n",
    "    return N0-b*t\n",
    "\n",
    "def N_polarized_pure3b(t, N0, gamma):\n",
    "    return N0 / np.sqrt(1+N0**2*gamma*t)\n",
    "\n",
    "def N_1b(t, N0, alpha):\n",
    "    return N0*np.exp(-alpha*t)\n",
    "\n",
    "def N_polarized_alpha(t, N0, gamma):\n",
    "    global alpha\n",
    "    return np.sqrt(alpha / (np.exp(2*alpha*t)*(alpha/(N0**2)+gamma)-gamma))\n",
    "\n",
    "\n",
    "def fitRun(df_run):\n",
    "    N0_guess = max(df_run['nCount'])\n",
    "    time_guess = max(df_run['BECHoldTime'])\n",
    "    alpha_guess = 1/time_guess\n",
    "    gamma_guess = 1/(N0_guess**2*time_guess)\n",
    "    popt, pcov = curve_fit(N_polarized, df_run['BECHoldTime'], df_run['nCount'],\n",
    "                       p0 = [N0_guess, alpha_guess, gamma_guess],\n",
    "                          )#bounds = ((N0_guess/10, alpha_guess/10, gamma_guess/100), (N0_guess*10, alpha_guess*10, gamma_guess*100)),\n",
    "                           #method = 'trf'\n",
    "                      #)\n",
    "    return popt, pcov\n",
    "\n",
    "def fitRun_pure(df_run):\n",
    "    N0_guess = max(df_run['nCount'])\n",
    "    time_guess = max(df_run['BECHoldTime'])\n",
    "    popt, pcov = curve_fit(N_polarized_pure3b, df_run['BECHoldTime'], df_run['nCount'],\n",
    "                       p0 = [N0_guess, 1/(N0_guess**2*time_guess)],\n",
    "                          )#bounds = ((0, 0), (np.inf, np.inf)),\n",
    "                           #method = 'trf'\n",
    "                      #)\n",
    "    return popt, pcov\n",
    "\n",
    "def fitRun_lin(df_run):\n",
    "    N0_guess = max(df_run['nCount'])\n",
    "    time_guess = max(df_run['BECHoldTime'])\n",
    "    popt, pcov = curve_fit(N_linear, df_run['BECHoldTime'], df_run['nCount'],\n",
    "                       p0 = [N0_guess, N0_guess/time_guess],\n",
    "                          )#bounds = ((0, 0), (np.inf, np.inf)),\n",
    "                           #method = 'trf'\n",
    "                      #)\n",
    "    return popt, pcov\n",
    "\n",
    "def fitRun_pure_alpha(df_run):\n",
    "    N0_guess = max(df_run['nCount'])\n",
    "    time_guess = max(df_run['BECHoldTime'])\n",
    "    gamma_guess = 1/(N0_guess**2*time_guess)\n",
    "    popt, pcov = curve_fit(N_polarized_alpha, df_run['BECHoldTime'], df_run['nCount'],\n",
    "                       p0 = [N0_guess, gamma_guess],\n",
    "                          )#bounds = ((N0_guess/10, alpha_guess/10, gamma_guess/100), (N0_guess*10, alpha_guess*10, gamma_guess*100)),\n",
    "                           #method = 'trf'\n",
    "                      #)\n",
    "    return popt, pcov"
   ]
  },
  {
   "cell_type": "code",
   "execution_count": 13,
   "metadata": {},
   "outputs": [],
   "source": [
    "compz = 3.5"
   ]
  },
  {
   "cell_type": "code",
   "execution_count": 14,
   "metadata": {},
   "outputs": [
    {
     "data": {
      "image/png": "[encoded data removed]",
      "text/plain": [
       "<Figure size 432x288 with 1 Axes>"
      ]
     },
     "metadata": {
      "needs_background": "light"
     },
     "output_type": "display_data"
    }
   ],
   "source": [
    "popt, pcov = curve_fit(N_1b, df_alpha['BECHoldTime'], df_alpha['nCount'], p0 = [df_alpha['nCount'].max(), 1/df_alpha['BECHoldTime'].max()])\n",
    "N0, alpha = popt\n",
    "\n",
    "time_long = np.linspace(0, 80000, 10000)\n",
    "Z = N_1b(time_long, N0, alpha)\n",
    "df_tempZ = getSubDF(df_alpha, ['compz'], [compz])\n",
    "\n",
    "plt.figure()\n",
    "plt.semilogy(df_tempZ['BECHoldTime'], df_tempZ['nCount'], '+', label = str(compz) + ' ' + str(False))\n",
    "plt.semilogy(time_long, Z, '-', label = 'fitZ')\n",
    "plt.legend()\n",
    "#plt.ylim(0, 20000)\n",
    "#plt.xlim(0,10)\n",
    "plt.xlabel('BECHoldTime (ms)')\n",
    "plt.ylabel('nCount')\n",
    "plt.show()"
   ]
  },
  {
   "cell_type": "code",
   "execution_count": 15,
   "metadata": {},
   "outputs": [
    {
     "name": "stdout",
     "output_type": "stream",
     "text": [
      "This fixes the value of alpha to 5.4e-05\n"
     ]
    }
   ],
   "source": [
    "print(\"This fixes the value of alpha to \" + str(round(alpha, 6)))"
   ]
  },
  {
   "cell_type": "code",
   "execution_count": 19,
   "metadata": {},
   "outputs": [
    {
     "data": {
      "text/plain": [
       "18.526621524281442"
      ]
     },
     "execution_count": 19,
     "metadata": {},
     "output_type": "execute_result"
    }
   ],
   "source": [
    "1/(alpha*1000)"
   ]
  },
  {
   "cell_type": "code",
   "execution_count": 20,
   "metadata": {},
   "outputs": [],
   "source": [
    "df = df_3b\n",
    "results = []\n",
    "results_pure = []\n",
    "results_lin = []\n",
    "results_pure_alpha = []\n",
    "\n",
    "\n",
    "for compz in compzList:\n",
    "    df_run = getSubDF(df, ['compz'], [compz])\n",
    "    if not df_run.empty:\n",
    "        popt, pcov = fitRun(df_run)\n",
    "        results += [{'N0' : popt[0],\n",
    "                    'alpha' : min(-10**(-10), popt[1]),\n",
    "                    'gamma' : popt[2],\n",
    "                     'compz' : compz\n",
    "                    }]\n",
    "resultsDF = pd.DataFrame(results)\n",
    "\n",
    "for compz in compzList:\n",
    "    df_run = getSubDF(df, ['compz'], [compz])\n",
    "    if not df_run.empty:\n",
    "        popt, pcov = fitRun_pure(df_run)\n",
    "        results_pure += [{'N0' : popt[0],\n",
    "                        'alpha' : 0,\n",
    "                         'gamma' : popt[1],\n",
    "                          'compz' : compz\n",
    "                    }]\n",
    "resultsDF_pure = pd.DataFrame(results_pure)\n",
    "\n",
    "for compz in compzList:\n",
    "    df_run = getSubDF(df, ['compz'], [compz])\n",
    "    if not df_run.empty:\n",
    "        popt, pcov = fitRun_lin(df_run)\n",
    "        results_lin += [{'N0' : popt[0],\n",
    "                         'b' : popt[1],\n",
    "                         'compz' : compz\n",
    "                    }]\n",
    "resultsDF_lin = pd.DataFrame(results_lin)\n",
    "\n",
    "for compz in compzList:\n",
    "    df_run = getSubDF(df, ['compz'], [compz])\n",
    "    if not df_run.empty:\n",
    "        popt, pcov = fitRun_pure_alpha(df_run)\n",
    "        results_pure_alpha += [{'N0' : popt[0],\n",
    "                    'alpha' : alpha,\n",
    "                    'gamma' : popt[1],\n",
    "                     'compz' : compz\n",
    "                    }]\n",
    "resultsDF_pure_alpha = pd.DataFrame(results_pure_alpha)"
   ]
  },
  {
   "cell_type": "code",
   "execution_count": 21,
   "metadata": {},
   "outputs": [
    {
     "data": {
      "text/plain": [
       "4.016747451327265e-15"
      ]
     },
     "execution_count": 21,
     "metadata": {},
     "output_type": "execute_result"
    }
   ],
   "source": [
    "popt, pcov = fitRun_pure_alpha(df_run)\n",
    "np.sqrt(pcov[1, 1])"
   ]
  },
  {
   "cell_type": "code",
   "execution_count": 22,
   "metadata": {},
   "outputs": [
    {
     "data": {
      "text/html": [
       "<div>\n",
       "<style scoped>\n",
       "    .dataframe tbody tr th:only-of-type {\n",
       "        vertical-align: middle;\n",
       "    }\n",
       "\n",
       "    .dataframe tbody tr th {\n",
       "        vertical-align: top;\n",
       "    }\n",
       "\n",
       "    .dataframe thead th {\n",
       "        text-align: right;\n",
       "    }\n",
       "</style>\n",
       "<table border=\"1\" class=\"dataframe\">\n",
       "  <thead>\n",
       "    <tr style=\"text-align: right;\">\n",
       "      <th></th>\n",
       "      <th>N0</th>\n",
       "      <th>alpha</th>\n",
       "      <th>gamma</th>\n",
       "      <th>compz</th>\n",
       "    </tr>\n",
       "  </thead>\n",
       "  <tbody>\n",
       "    <tr>\n",
       "      <th>0</th>\n",
       "      <td>32592.356005</td>\n",
       "      <td>0.000054</td>\n",
       "      <td>2.954880e-15</td>\n",
       "      <td>3.5</td>\n",
       "    </tr>\n",
       "  </tbody>\n",
       "</table>\n",
       "</div>"
      ],
      "text/plain": [
       "             N0     alpha         gamma  compz\n",
       "0  32592.356005  0.000054  2.954880e-15    3.5"
      ]
     },
     "execution_count": 22,
     "metadata": {},
     "output_type": "execute_result"
    }
   ],
   "source": [
    "resultsDF_pure_alpha"
   ]
  },
  {
   "cell_type": "code",
   "execution_count": 23,
   "metadata": {},
   "outputs": [],
   "source": [
    "df_tempZ = getSubDF(df, ['compz'], [compz])\n",
    "time = np.linspace(0, 10000, 10000)"
   ]
  },
  {
   "cell_type": "code",
   "execution_count": 24,
   "metadata": {},
   "outputs": [
    {
     "data": {
      "image/png": "[encoded data removed]",
      "text/plain": [
       "<Figure size 432x288 with 1 Axes>"
      ]
     },
     "metadata": {
      "needs_background": "light"
     },
     "output_type": "display_data"
    }
   ],
   "source": [
    "resultZ = getSubDF(resultsDF_pure, ['compz'], [compz])\n",
    "\n",
    "NZ, alphaZ, gammaZ = resultZ.iloc[0, 1], resultZ.iloc[0, 2], resultZ.iloc[0, 3]\n",
    "Z = N_polarized_pure3b(time, NZ, gammaZ)\n",
    "\n",
    "plt.figure()\n",
    "plt.plot(df_tempZ['BECHoldTime'], df_tempZ['nCount'], '+', label = str(compz) + ' ' + str(False))\n",
    "plt.plot(time, Z, '-', label = 'fitZ')\n",
    "plt.legend()\n",
    "#plt.ylim(0, 20000)\n",
    "#plt.xlim(0,10)\n",
    "plt.xlabel('BECHoldTime (ms)')\n",
    "plt.ylabel('nCount')\n",
    "plt.show()"
   ]
  },
  {
   "cell_type": "code",
   "execution_count": 26,
   "metadata": {},
   "outputs": [
    {
     "data": {
      "image/png": "[encoded data removed]",
      "text/plain": [
       "<Figure size 432x288 with 1 Axes>"
      ]
     },
     "metadata": {
      "needs_background": "light"
     },
     "output_type": "display_data"
    }
   ],
   "source": [
    "resultZ = getSubDF(resultsDF_pure_alpha, ['compz'], [compz])\n",
    "\n",
    "NZ, gammaZ = resultZ.iloc[0, 1], resultZ.iloc[0, 3]\n",
    "\n",
    "Z = N_polarized_alpha(time, NZ, gammaZ)\n",
    "Z2 = N_1b(time, NZ, alpha)\n",
    "\n",
    "\n",
    "plt.figure()\n",
    "plt.plot(df_tempZ['BECHoldTime'], df_tempZ['nCount'], '+', label = str(compz) + ' ' + str(False))\n",
    "plt.plot(time, Z, '-', label = 'fitZ')\n",
    "plt.plot(time, Z2, '-', label = 'fitZ')\n",
    "plt.legend()\n",
    "#plt.ylim(0,20000)\n",
    "#plt.xlim(0,10)\n",
    "plt.xlabel('BECHoldTime (ms)')\n",
    "plt.ylabel('nCount')\n",
    "plt.show()"
   ]
  },
  {
   "cell_type": "markdown",
   "metadata": {},
   "source": [
    "Let's use only the pure 3b fit"
   ]
  },
  {
   "cell_type": "code",
   "execution_count": 27,
   "metadata": {},
   "outputs": [],
   "source": [
    "#results = resultsDF_pure\n",
    "results = resultsDF_pure_alpha"
   ]
  },
  {
   "cell_type": "code",
   "execution_count": 28,
   "metadata": {},
   "outputs": [],
   "source": [
    "m = 164*1.67*10**(-27)\n",
    "k_B = 1.38*10**(-23)\n",
    "hbar = 6.626*10**(-34)/(2*np.pi)\n",
    "sigma_0 = 4\n",
    "\n",
    "df['temperature'] = (m/k_B*(df['yWidth']**2-sigma_0**2)*(10**(-12))/(df['TOF']**2*10**(-6)))/(10**(-9)) # in nano kelvin\n",
    "#df['temperature'] = (m/k_B*(df['xWidth']**2-sigma_0**2)*(10**(-12))/(df['TOF']**2*10**(-6)))/(10**(-9)) # in nano kelvin"
   ]
  },
  {
   "cell_type": "code",
   "execution_count": 29,
   "metadata": {},
   "outputs": [
    {
     "data": {
      "image/png": "[encoded data removed]",
      "text/plain": [
       "<Figure size 432x288 with 1 Axes>"
      ]
     },
     "metadata": {
      "needs_background": "light"
     },
     "output_type": "display_data"
    }
   ],
   "source": [
    "plt.figure()\n",
    "i = 0\n",
    "for compz in compzList:\n",
    "    df_temp = getSubDF(df, ['compz'], [compz])\n",
    "    plt.plot(df_temp['BECHoldTime'], df_temp['temperature'], 'o', color = colors[i], label = str(compz))\n",
    "    i += 1\n",
    "plt.legend()\n",
    "#plt.xlim(0,300)\n",
    "#plt.ylim(0,150)\n",
    "plt.xlabel('BECHoldTime (ms)')\n",
    "plt.ylabel('temperature (nK)')\n",
    "plt.show()"
   ]
  },
  {
   "cell_type": "code",
   "execution_count": 30,
   "metadata": {},
   "outputs": [
    {
     "data": {
      "text/html": [
       "<div>\n",
       "<style scoped>\n",
       "    .dataframe tbody tr th:only-of-type {\n",
       "        vertical-align: middle;\n",
       "    }\n",
       "\n",
       "    .dataframe tbody tr th {\n",
       "        vertical-align: top;\n",
       "    }\n",
       "\n",
       "    .dataframe thead th {\n",
       "        text-align: right;\n",
       "    }\n",
       "</style>\n",
       "<table border=\"1\" class=\"dataframe\">\n",
       "  <thead>\n",
       "    <tr style=\"text-align: right;\">\n",
       "      <th></th>\n",
       "      <th>N0</th>\n",
       "      <th>alpha</th>\n",
       "      <th>gamma</th>\n",
       "      <th>compz</th>\n",
       "      <th>temperature</th>\n",
       "    </tr>\n",
       "  </thead>\n",
       "  <tbody>\n",
       "    <tr>\n",
       "      <th>0</th>\n",
       "      <td>32592.356005</td>\n",
       "      <td>0.000054</td>\n",
       "      <td>2.954880e-15</td>\n",
       "      <td>3.5</td>\n",
       "      <td>2.050876e-07</td>\n",
       "    </tr>\n",
       "  </tbody>\n",
       "</table>\n",
       "</div>"
      ],
      "text/plain": [
       "             N0     alpha         gamma  compz   temperature\n",
       "0  32592.356005  0.000054  2.954880e-15    3.5  2.050876e-07"
      ]
     },
     "execution_count": 30,
     "metadata": {},
     "output_type": "execute_result"
    }
   ],
   "source": [
    "df_temperature = df[df['BECHoldTime'] == 0].groupby('compz').mean()*10**(-9)\n",
    "results['temperature'] = df_temperature['temperature'].tolist()\n",
    "results"
   ]
  },
  {
   "cell_type": "markdown",
   "metadata": {},
   "source": [
    "### Density measurement based on temperature and trap frequency"
   ]
  },
  {
   "cell_type": "markdown",
   "metadata": {},
   "source": [
    "In the BEC the density is like $n(x, y, z) = K e^{-\\frac{\\frac{1}{2}m(\\omega_x^2 x^2 + \\omega_y^2 y^2 + \\omega_z^2 z^2)}{k_B T}} = N\\omega_x\\omega_y\\omega_z\\left(\\frac{m}{2\\pi k_B T}\\right)^{3/2} e^{-\\frac{\\frac{1}{2}m(\\omega_x^2 x^2 + \\omega_y^2 y^2 + \\omega_z^2 z^2)}{k_B T}} = n_0 e^{-\\frac{\\frac{1}{2}m(\\omega_x^2 x^2 + \\omega_y^2 y^2 + \\omega_z^2 z^2)}{k_B T}}$"
   ]
  },
  {
   "cell_type": "code",
   "execution_count": 31,
   "metadata": {},
   "outputs": [],
   "source": [
    "omega_x = 2*np.pi*220\n",
    "omega_y = 2*np.pi*90\n",
    "omega_z = 2*np.pi*220\n",
    "\n",
    "omega_x = 2*np.pi*70*np.sqrt(8)\n",
    "omega_y = 2*np.pi*28*np.sqrt(8)\n",
    "omega_z = 2*np.pi*50*np.sqrt(8)\n",
    "prefactor = omega_x*omega_y*omega_z*(m/(2*np.pi*k_B))**(3/2)\n",
    "\n",
    "results['density'] = results['N0']*prefactor/(results['temperature'])**(3/2)*10**(-6)  # in atoms / cm3"
   ]
  },
  {
   "cell_type": "markdown",
   "metadata": {},
   "source": [
    "By definition $<n^2> = \\int n^2p(x, y, z)d\\tau = \\frac{1}{N}\\int n^3 d\\tau = N^2 (\\omega_x\\omega_y\\omega_z)^2\\frac{1}{\\sqrt{27}}\\left(\\frac{m}{2\\pi k_B T}\\right)^3 = \\frac{N^2}{\\sqrt{27}(2\\pi)^3(\\sigma_x\\sigma_y\\sigma_z)^2}$. The differential equation formula is: $\\frac{dN}{dt} = -\\gamma N^3$ in the fit, but $\\frac{dN}{dt} = -\\beta <n^2> N$ in reality, so $\\frac{dN}{dt} = -\\beta \\frac{N^2}{\\alpha} N$ with $\\alpha = 3^{3/2}\\left(\\frac{2\\pi k_B T}{m}\\right)^3\\frac{1}{(\\omega_x\\omega_y\\omega_z)^2} = 3^{3/2}(2\\pi)^3(\\sigma_x\\sigma_y\\sigma_z)^2 = \\frac{3^{3/2}}{(n_0/N)^2}$, so $\\beta = \\gamma\\alpha$"
   ]
  },
  {
   "cell_type": "code",
   "execution_count": 32,
   "metadata": {},
   "outputs": [],
   "source": [
    "results['beta'] = results['gamma']*10**3*3**(3/2)/(results['density']/results['N0'])**2 # this is is cm^6/s"
   ]
  },
  {
   "cell_type": "code",
   "execution_count": 33,
   "metadata": {},
   "outputs": [
    {
     "data": {
      "text/html": [
       "<div>\n",
       "<style scoped>\n",
       "    .dataframe tbody tr th:only-of-type {\n",
       "        vertical-align: middle;\n",
       "    }\n",
       "\n",
       "    .dataframe tbody tr th {\n",
       "        vertical-align: top;\n",
       "    }\n",
       "\n",
       "    .dataframe thead th {\n",
       "        text-align: right;\n",
       "    }\n",
       "</style>\n",
       "<table border=\"1\" class=\"dataframe\">\n",
       "  <thead>\n",
       "    <tr style=\"text-align: right;\">\n",
       "      <th></th>\n",
       "      <th>N0</th>\n",
       "      <th>alpha</th>\n",
       "      <th>gamma</th>\n",
       "      <th>compz</th>\n",
       "      <th>temperature</th>\n",
       "      <th>density</th>\n",
       "      <th>beta</th>\n",
       "    </tr>\n",
       "  </thead>\n",
       "  <tbody>\n",
       "    <tr>\n",
       "      <th>0</th>\n",
       "      <td>32592.356005</td>\n",
       "      <td>0.000054</td>\n",
       "      <td>2.954880e-15</td>\n",
       "      <td>3.5</td>\n",
       "      <td>2.050876e-07</td>\n",
       "      <td>3.426567e+13</td>\n",
       "      <td>1.389104e-29</td>\n",
       "    </tr>\n",
       "  </tbody>\n",
       "</table>\n",
       "</div>"
      ],
      "text/plain": [
       "             N0     alpha         gamma  compz   temperature       density  \\\n",
       "0  32592.356005  0.000054  2.954880e-15    3.5  2.050876e-07  3.426567e+13   \n",
       "\n",
       "           beta  \n",
       "0  1.389104e-29  "
      ]
     },
     "execution_count": 33,
     "metadata": {},
     "output_type": "execute_result"
    }
   ],
   "source": [
    "results"
   ]
  },
  {
   "cell_type": "markdown",
   "metadata": {},
   "source": [
    "### Density measurement based on in situ imaging"
   ]
  },
  {
   "cell_type": "markdown",
   "metadata": {},
   "source": [
    "Other way to calculate the volume, simply use the in situ imaging with the density being $N/V \\simeq N/(2a_x 2a_y 2a_z)^2) = \\frac{N}{8(7\\mu m 7.3\\mu m 18\\mu m)}$. Actually more precise calculation gives: $n = \\frac{N}{(2\\pi)^{3/2}\\sigma_x\\sigma_y\\sigma_z}e^{-\\frac{1}{2}(\\frac{x^2}{\\sigma_x^2}+\\frac{y^2}{\\sigma_y^2}+\\frac{z^2}{\\sigma_z^2})}$ and therefore $<n^2> = \\frac{1}{N}\\int n^3 d\\tau = \\frac{N^2}{3^{3/2}(2\\pi)^3(\\sigma_x\\sigma_y\\sigma_z)^2}$."
   ]
  },
  {
   "cell_type": "code",
   "execution_count": 219,
   "metadata": {},
   "outputs": [],
   "source": [
    "sigma_x = 7.1*10**(-4) # in cm\n",
    "sigma_y = 18*10**(-4) # in cm\n",
    "sigma_z = 7.3*10**(-4) # in cm\n",
    "\n",
    "sigma_x = 3.62*10**(-4) # in cm\n",
    "sigma_y = 9.57*10**(-4) # in cm\n",
    "sigma_z = 3.62*(6.1/5.2)*10**(-4) # in cm\n",
    "\n",
    "\n",
    "results['densityVolume'] = results['N0']/((2*np.pi)**(3/2)*sigma_x*sigma_y*sigma_z)  # in atoms / cm3\n",
    "results['betaVolume'] = results['gamma']*10**3*(3**(3/2))/(results['densityVolume']/results['N0'])**2  # in atoms / cm3"
   ]
  },
  {
   "cell_type": "code",
   "execution_count": 220,
   "metadata": {},
   "outputs": [
    {
     "data": {
      "text/html": [
       "<div>\n",
       "<style scoped>\n",
       "    .dataframe tbody tr th:only-of-type {\n",
       "        vertical-align: middle;\n",
       "    }\n",
       "\n",
       "    .dataframe tbody tr th {\n",
       "        vertical-align: top;\n",
       "    }\n",
       "\n",
       "    .dataframe thead th {\n",
       "        text-align: right;\n",
       "    }\n",
       "</style>\n",
       "<table border=\"1\" class=\"dataframe\">\n",
       "  <thead>\n",
       "    <tr style=\"text-align: right;\">\n",
       "      <th></th>\n",
       "      <th>N0</th>\n",
       "      <th>alpha</th>\n",
       "      <th>gamma</th>\n",
       "      <th>compz</th>\n",
       "      <th>temperature</th>\n",
       "      <th>density</th>\n",
       "      <th>beta</th>\n",
       "      <th>densityVolume</th>\n",
       "      <th>betaVolume</th>\n",
       "    </tr>\n",
       "  </thead>\n",
       "  <tbody>\n",
       "    <tr>\n",
       "      <th>0</th>\n",
       "      <td>32441.595232</td>\n",
       "      <td>0.000054</td>\n",
       "      <td>3.419598e-15</td>\n",
       "      <td>3.5</td>\n",
       "      <td>2.025893e-07</td>\n",
       "      <td>2.968958e+13</td>\n",
       "      <td>2.121549e-29</td>\n",
       "      <td>1.400157e+13</td>\n",
       "      <td>9.539106e-29</td>\n",
       "    </tr>\n",
       "  </tbody>\n",
       "</table>\n",
       "</div>"
      ],
      "text/plain": [
       "             N0     alpha         gamma  compz   temperature       density  \\\n",
       "0  32441.595232  0.000054  3.419598e-15    3.5  2.025893e-07  2.968958e+13   \n",
       "\n",
       "           beta  densityVolume    betaVolume  \n",
       "0  2.121549e-29   1.400157e+13  9.539106e-29  "
      ]
     },
     "execution_count": 220,
     "metadata": {},
     "output_type": "execute_result"
    }
   ],
   "source": [
    "results\n",
    "# You should only trust the initial 1.9 measurement, the other cloud could have changed size\n",
    "# (although I checked with 7.72 and this one looks similar)"
   ]
  },
  {
   "cell_type": "markdown",
   "metadata": {},
   "source": [
    "### Check consistency of the 2 approaches"
   ]
  },
  {
   "cell_type": "code",
   "execution_count": 221,
   "metadata": {},
   "outputs": [
    {
     "name": "stdout",
     "output_type": "stream",
     "text": [
      "The measured sigma_x is 3.6 um and the calculated one is 2.6 um\n",
      "The measured sigma_y is 9.6 um and the calculated one is 6.4 um\n",
      "The measured sigma_z is 4.2 um and the calculated one is 3.6 um\n"
     ]
    }
   ],
   "source": [
    "T = results['temperature'][0]  # Take the temperature of the coldest orginial cloud at 1.9\n",
    "sigma_x_test = np.sqrt(k_B*T/(m*omega_x**2))\n",
    "sigma_y_test = np.sqrt(k_B*T/(m*omega_y**2))\n",
    "sigma_z_test = np.sqrt(k_B*T/(m*omega_z**2))\n",
    "\n",
    "print(\"The measured sigma_x is \" + str(round(sigma_x*10**4, 1)) + \" um and the calculated one is \" + str(round(sigma_x_test*10**6, 1)) + \" um\")\n",
    "print(\"The measured sigma_y is \" + str(round(sigma_y*10**4, 1)) + \" um and the calculated one is \" + str(round(sigma_y_test*10**6, 1)) + \" um\")\n",
    "print(\"The measured sigma_z is \" + str(round(sigma_z*10**4, 1)) + \" um and the calculated one is \" + str(round(sigma_z_test*10**6, 1)) + \" um\")"
   ]
  },
  {
   "cell_type": "markdown",
   "metadata": {},
   "source": [
    "### End"
   ]
  },
  {
   "cell_type": "code",
   "execution_count": 37,
   "metadata": {},
   "outputs": [
    {
     "data": {
      "text/plain": [
       "1.8044152203236358e-05"
      ]
     },
     "execution_count": 37,
     "metadata": {},
     "output_type": "execute_result"
    }
   ],
   "source": [
    "import numpy as np\n",
    "m = 164*1.67*10**(-27)\n",
    "k_B = 1.38*10**(-23)\n",
    "hbar = 6.626*10**(-34)/(2*np.pi)\n",
    "sigma_0 = 4\n",
    "T = 200*10**(-9)\n",
    "omega_x = 2*np.pi*28\n",
    "np.sqrt(k_B*T/(m*omega_x**2))"
   ]
  },
  {
   "cell_type": "code",
   "execution_count": 38,
   "metadata": {},
   "outputs": [
    {
     "data": {
      "text/plain": [
       "6.868965030561809e-06"
      ]
     },
     "execution_count": 38,
     "metadata": {},
     "output_type": "execute_result"
    }
   ],
   "source": [
    "np.sqrt(k_B*T/(m*omega_x**2))*(0.105/5)**(1/4)"
   ]
  },
  {
   "cell_type": "code",
   "execution_count": null,
   "metadata": {},
   "outputs": [],
   "source": []
  }
 ],
 "metadata": {
  "kernelspec": {
   "display_name": "Python 3",
   "language": "python",
   "name": "python3"
  },
  "language_info": {
   "codemirror_mode": {
    "name": "ipython",
    "version": 3
   },
   "file_extension": ".py",
   "mimetype": "text/x-python",
   "name": "python",
   "nbconvert_exporter": "python",
   "pygments_lexer": "ipython3",
   "version": "3.9.0"
  },
  "latex_envs": {
   "LaTeX_envs_menu_present": true,
   "autoclose": false,
   "autocomplete": true,
   "bibliofile": "biblio.bib",
   "cite_by": "apalike",
   "current_citInitial": 1,
   "eqLabelWithNumbers": true,
   "eqNumInitial": 1,
   "hotkeys": {
    "equation": "Ctrl-E",
    "itemize": "Ctrl-I"
   },
   "labels_anchors": false,
   "latex_user_defs": false,
   "report_style_numbering": false,
   "user_envs_cfg": false
  }
 },
 "nbformat": 4,
 "nbformat_minor": 4
}
