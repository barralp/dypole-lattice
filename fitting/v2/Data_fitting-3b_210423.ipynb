{
 "cells": [
  {
   "cell_type": "code",
   "execution_count": 1,
   "metadata": {},
   "outputs": [],
   "source": [
    "from databaseCommunication import readDatabaseFile, createDataFrame_list\n",
    "from dataframeFormating import createLabeledDataFrame_list #, N_polarized_pure3b, N_polarized, N_linear, getReducedDataframe, getReducedResults, \n",
    "import pandas as pd\n",
    "import numpy as np\n",
    "import matplotlib.pyplot as plt "
   ]
  },
  {
   "cell_type": "code",
   "execution_count": 2,
   "metadata": {},
   "outputs": [],
   "source": [
    "label_heads = ['latticeDetuning', 'random']\n",
    "labels = [[['-40'], [137626, 137796]],\n",
    "          [['-40'], [137811, 138038]]\n",
    "                 ]\n",
    "\n",
    "excluded = []"
   ]
  },
  {
   "cell_type": "code",
   "execution_count": 10,
   "metadata": {},
   "outputs": [
    {
     "name": "stdout",
     "output_type": "stream",
     "text": [
      "['latticeDetuning', 'random']\n",
      "       BECHoldTime           TOF  latticeDepth ODT3_Comp Y_rotation    nCount  \\\n",
      "0    10.0000000000  7.0000000000  0.0500000000     0E-10      0E-10   91714.0   \n",
      "1            0E-10  7.0000000000  0.0500000000     0E-10      0E-10  106564.0   \n",
      "2   800.0000000000  7.0000000000  0.0500000000     0E-10      0E-10   51684.0   \n",
      "3    60.0000000000  7.0000000000  0.0500000000     0E-10      0E-10   91917.0   \n",
      "4     6.0000000000  7.0000000000  0.0500000000     0E-10      0E-10   94391.0   \n",
      "5    10.0000000000  7.0000000000  0.6000000000     0E-10      0E-10   86787.0   \n",
      "6   400.0000000000  7.0000000000  0.6000000000     0E-10      0E-10   59284.0   \n",
      "7     2.0000000000  7.0000000000  0.6000000000     0E-10      0E-10   93418.0   \n",
      "8    40.0000000000  7.0000000000  0.6000000000     0E-10      0E-10   77206.0   \n",
      "9   200.0000000000  7.0000000000  0.6000000000     0E-10      0E-10   67716.0   \n",
      "10   15.0000000000  7.0000000000  0.6000000000     0E-10      0E-10   90893.0   \n",
      "11  200.0000000000  7.0000000000  0.6000000000     0E-10      0E-10   74798.0   \n",
      "12    6.0000000000  7.0000000000  0.6000000000     0E-10      0E-10   99013.0   \n",
      "13   80.0000000000  7.0000000000  0.6000000000     0E-10      0E-10   82585.0   \n",
      "14   10.0000000000  7.0000000000  0.6000000000     0E-10      0E-10   86946.0   \n",
      "\n",
      "     xWidth   yWidth   imageID  \n",
      "0   13.5463  14.4602  137626.0  \n",
      "1   13.0901  15.4576  137627.0  \n",
      "2   12.6866  12.1816  137628.0  \n",
      "3   12.7931  14.2316  137629.0  \n",
      "4   13.3317  13.8452  137630.0  \n",
      "5   23.7809  16.8538  137811.0  \n",
      "6   35.9795  17.3854  137812.0  \n",
      "7   21.2053  17.1177  137813.0  \n",
      "8   29.5865  14.9375  137814.0  \n",
      "9   32.7527  17.3149  137815.0  \n",
      "10  22.9203  17.0803  137816.0  \n",
      "11  28.2496  17.8091  137817.0  \n",
      "12  24.8844  17.2164  137818.0  \n",
      "13  28.1039  15.7393  137819.0  \n",
      "14  23.9438  16.6287  137820.0  \n",
      "[['-40' '-40' '-40' '-40' '-40' '-40' '-40' '-40' '-40' '-40' '-40' '-40'\n",
      "  '-40' '-40' '-40']\n",
      " ['test1' 'test1' 'test1' 'test1' 'test1' 'test2' 'test2' 'test2' 'test2'\n",
      "  'test2' 'test2' 'test2' 'test2' 'test2' 'test2']]\n"
     ]
    }
   ],
   "source": [
    "ciceroVariables = ['BECHoldTime', 'TOF', 'latticeDepth', 'ODT3_Comp', 'Y_rotation']\n",
    "fitVariables = ['nCount', 'xWidth', 'yWidth']\n",
    "\n",
    "df = createLabeledDataFrame_list(labels, label_heads, ciceroVariables, fitVariables)\n",
    "for column in df.columns:\n",
    "    try:\n",
    "        df[column] = df[column].astype(float)\n",
    "    except:\n",
    "        pass\n",
    "df['Y_rotation'] = df['Y_rotation'].astype(bool)\n",
    "df.to_pickle('data_save_210423.pickle')"
   ]
  },
  {
   "cell_type": "code",
   "execution_count": 11,
   "metadata": {},
   "outputs": [],
   "source": [
    "df = pd.read_pickle('data_save_210423.pickle')\n",
    "# Delete these row indexes from dataFrame\n",
    "indexNames = pd.Index(np.where(df['imageID'].isin(excluded))[0])\n",
    "df.drop(indexNames, inplace = True)"
   ]
  },
  {
   "cell_type": "code",
   "execution_count": 12,
   "metadata": {},
   "outputs": [
    {
     "data": {
      "text/html": [
       "<div>\n",
       "<style scoped>\n",
       "    .dataframe tbody tr th:only-of-type {\n",
       "        vertical-align: middle;\n",
       "    }\n",
       "\n",
       "    .dataframe tbody tr th {\n",
       "        vertical-align: top;\n",
       "    }\n",
       "\n",
       "    .dataframe thead th {\n",
       "        text-align: right;\n",
       "    }\n",
       "</style>\n",
       "<table border=\"1\" class=\"dataframe\">\n",
       "  <thead>\n",
       "    <tr style=\"text-align: right;\">\n",
       "      <th></th>\n",
       "      <th>BECHoldTime</th>\n",
       "      <th>TOF</th>\n",
       "      <th>latticeDepth</th>\n",
       "      <th>ODT3_Comp</th>\n",
       "      <th>Y_rotation</th>\n",
       "      <th>nCount</th>\n",
       "      <th>xWidth</th>\n",
       "      <th>yWidth</th>\n",
       "      <th>imageID</th>\n",
       "      <th>latticeDetuning</th>\n",
       "      <th>random</th>\n",
       "    </tr>\n",
       "  </thead>\n",
       "  <tbody>\n",
       "    <tr>\n",
       "      <th>0</th>\n",
       "      <td>10.0</td>\n",
       "      <td>7.0</td>\n",
       "      <td>0.05</td>\n",
       "      <td>0.0</td>\n",
       "      <td>False</td>\n",
       "      <td>91714.0</td>\n",
       "      <td>13.5463</td>\n",
       "      <td>14.4602</td>\n",
       "      <td>137626.0</td>\n",
       "      <td>-40.0</td>\n",
       "      <td>test1</td>\n",
       "    </tr>\n",
       "    <tr>\n",
       "      <th>1</th>\n",
       "      <td>0.0</td>\n",
       "      <td>7.0</td>\n",
       "      <td>0.05</td>\n",
       "      <td>0.0</td>\n",
       "      <td>False</td>\n",
       "      <td>106564.0</td>\n",
       "      <td>13.0901</td>\n",
       "      <td>15.4576</td>\n",
       "      <td>137627.0</td>\n",
       "      <td>-40.0</td>\n",
       "      <td>test1</td>\n",
       "    </tr>\n",
       "    <tr>\n",
       "      <th>2</th>\n",
       "      <td>800.0</td>\n",
       "      <td>7.0</td>\n",
       "      <td>0.05</td>\n",
       "      <td>0.0</td>\n",
       "      <td>False</td>\n",
       "      <td>51684.0</td>\n",
       "      <td>12.6866</td>\n",
       "      <td>12.1816</td>\n",
       "      <td>137628.0</td>\n",
       "      <td>-40.0</td>\n",
       "      <td>test1</td>\n",
       "    </tr>\n",
       "    <tr>\n",
       "      <th>3</th>\n",
       "      <td>60.0</td>\n",
       "      <td>7.0</td>\n",
       "      <td>0.05</td>\n",
       "      <td>0.0</td>\n",
       "      <td>False</td>\n",
       "      <td>91917.0</td>\n",
       "      <td>12.7931</td>\n",
       "      <td>14.2316</td>\n",
       "      <td>137629.0</td>\n",
       "      <td>-40.0</td>\n",
       "      <td>test1</td>\n",
       "    </tr>\n",
       "    <tr>\n",
       "      <th>4</th>\n",
       "      <td>6.0</td>\n",
       "      <td>7.0</td>\n",
       "      <td>0.05</td>\n",
       "      <td>0.0</td>\n",
       "      <td>False</td>\n",
       "      <td>94391.0</td>\n",
       "      <td>13.3317</td>\n",
       "      <td>13.8452</td>\n",
       "      <td>137630.0</td>\n",
       "      <td>-40.0</td>\n",
       "      <td>test1</td>\n",
       "    </tr>\n",
       "    <tr>\n",
       "      <th>5</th>\n",
       "      <td>10.0</td>\n",
       "      <td>7.0</td>\n",
       "      <td>0.60</td>\n",
       "      <td>0.0</td>\n",
       "      <td>False</td>\n",
       "      <td>86787.0</td>\n",
       "      <td>23.7809</td>\n",
       "      <td>16.8538</td>\n",
       "      <td>137811.0</td>\n",
       "      <td>-40.0</td>\n",
       "      <td>test2</td>\n",
       "    </tr>\n",
       "    <tr>\n",
       "      <th>6</th>\n",
       "      <td>400.0</td>\n",
       "      <td>7.0</td>\n",
       "      <td>0.60</td>\n",
       "      <td>0.0</td>\n",
       "      <td>False</td>\n",
       "      <td>59284.0</td>\n",
       "      <td>35.9795</td>\n",
       "      <td>17.3854</td>\n",
       "      <td>137812.0</td>\n",
       "      <td>-40.0</td>\n",
       "      <td>test2</td>\n",
       "    </tr>\n",
       "    <tr>\n",
       "      <th>7</th>\n",
       "      <td>2.0</td>\n",
       "      <td>7.0</td>\n",
       "      <td>0.60</td>\n",
       "      <td>0.0</td>\n",
       "      <td>False</td>\n",
       "      <td>93418.0</td>\n",
       "      <td>21.2053</td>\n",
       "      <td>17.1177</td>\n",
       "      <td>137813.0</td>\n",
       "      <td>-40.0</td>\n",
       "      <td>test2</td>\n",
       "    </tr>\n",
       "    <tr>\n",
       "      <th>8</th>\n",
       "      <td>40.0</td>\n",
       "      <td>7.0</td>\n",
       "      <td>0.60</td>\n",
       "      <td>0.0</td>\n",
       "      <td>False</td>\n",
       "      <td>77206.0</td>\n",
       "      <td>29.5865</td>\n",
       "      <td>14.9375</td>\n",
       "      <td>137814.0</td>\n",
       "      <td>-40.0</td>\n",
       "      <td>test2</td>\n",
       "    </tr>\n",
       "    <tr>\n",
       "      <th>9</th>\n",
       "      <td>200.0</td>\n",
       "      <td>7.0</td>\n",
       "      <td>0.60</td>\n",
       "      <td>0.0</td>\n",
       "      <td>False</td>\n",
       "      <td>67716.0</td>\n",
       "      <td>32.7527</td>\n",
       "      <td>17.3149</td>\n",
       "      <td>137815.0</td>\n",
       "      <td>-40.0</td>\n",
       "      <td>test2</td>\n",
       "    </tr>\n",
       "    <tr>\n",
       "      <th>10</th>\n",
       "      <td>15.0</td>\n",
       "      <td>7.0</td>\n",
       "      <td>0.60</td>\n",
       "      <td>0.0</td>\n",
       "      <td>False</td>\n",
       "      <td>90893.0</td>\n",
       "      <td>22.9203</td>\n",
       "      <td>17.0803</td>\n",
       "      <td>137816.0</td>\n",
       "      <td>-40.0</td>\n",
       "      <td>test2</td>\n",
       "    </tr>\n",
       "    <tr>\n",
       "      <th>11</th>\n",
       "      <td>200.0</td>\n",
       "      <td>7.0</td>\n",
       "      <td>0.60</td>\n",
       "      <td>0.0</td>\n",
       "      <td>False</td>\n",
       "      <td>74798.0</td>\n",
       "      <td>28.2496</td>\n",
       "      <td>17.8091</td>\n",
       "      <td>137817.0</td>\n",
       "      <td>-40.0</td>\n",
       "      <td>test2</td>\n",
       "    </tr>\n",
       "    <tr>\n",
       "      <th>12</th>\n",
       "      <td>6.0</td>\n",
       "      <td>7.0</td>\n",
       "      <td>0.60</td>\n",
       "      <td>0.0</td>\n",
       "      <td>False</td>\n",
       "      <td>99013.0</td>\n",
       "      <td>24.8844</td>\n",
       "      <td>17.2164</td>\n",
       "      <td>137818.0</td>\n",
       "      <td>-40.0</td>\n",
       "      <td>test2</td>\n",
       "    </tr>\n",
       "    <tr>\n",
       "      <th>13</th>\n",
       "      <td>80.0</td>\n",
       "      <td>7.0</td>\n",
       "      <td>0.60</td>\n",
       "      <td>0.0</td>\n",
       "      <td>False</td>\n",
       "      <td>82585.0</td>\n",
       "      <td>28.1039</td>\n",
       "      <td>15.7393</td>\n",
       "      <td>137819.0</td>\n",
       "      <td>-40.0</td>\n",
       "      <td>test2</td>\n",
       "    </tr>\n",
       "    <tr>\n",
       "      <th>14</th>\n",
       "      <td>10.0</td>\n",
       "      <td>7.0</td>\n",
       "      <td>0.60</td>\n",
       "      <td>0.0</td>\n",
       "      <td>False</td>\n",
       "      <td>86946.0</td>\n",
       "      <td>23.9438</td>\n",
       "      <td>16.6287</td>\n",
       "      <td>137820.0</td>\n",
       "      <td>-40.0</td>\n",
       "      <td>test2</td>\n",
       "    </tr>\n",
       "  </tbody>\n",
       "</table>\n",
       "</div>"
      ],
      "text/plain": [
       "    BECHoldTime  TOF  latticeDepth  ODT3_Comp  Y_rotation    nCount   xWidth  \\\n",
       "0          10.0  7.0          0.05        0.0       False   91714.0  13.5463   \n",
       "1           0.0  7.0          0.05        0.0       False  106564.0  13.0901   \n",
       "2         800.0  7.0          0.05        0.0       False   51684.0  12.6866   \n",
       "3          60.0  7.0          0.05        0.0       False   91917.0  12.7931   \n",
       "4           6.0  7.0          0.05        0.0       False   94391.0  13.3317   \n",
       "5          10.0  7.0          0.60        0.0       False   86787.0  23.7809   \n",
       "6         400.0  7.0          0.60        0.0       False   59284.0  35.9795   \n",
       "7           2.0  7.0          0.60        0.0       False   93418.0  21.2053   \n",
       "8          40.0  7.0          0.60        0.0       False   77206.0  29.5865   \n",
       "9         200.0  7.0          0.60        0.0       False   67716.0  32.7527   \n",
       "10         15.0  7.0          0.60        0.0       False   90893.0  22.9203   \n",
       "11        200.0  7.0          0.60        0.0       False   74798.0  28.2496   \n",
       "12          6.0  7.0          0.60        0.0       False   99013.0  24.8844   \n",
       "13         80.0  7.0          0.60        0.0       False   82585.0  28.1039   \n",
       "14         10.0  7.0          0.60        0.0       False   86946.0  23.9438   \n",
       "\n",
       "     yWidth   imageID  latticeDetuning random  \n",
       "0   14.4602  137626.0            -40.0  test1  \n",
       "1   15.4576  137627.0            -40.0  test1  \n",
       "2   12.1816  137628.0            -40.0  test1  \n",
       "3   14.2316  137629.0            -40.0  test1  \n",
       "4   13.8452  137630.0            -40.0  test1  \n",
       "5   16.8538  137811.0            -40.0  test2  \n",
       "6   17.3854  137812.0            -40.0  test2  \n",
       "7   17.1177  137813.0            -40.0  test2  \n",
       "8   14.9375  137814.0            -40.0  test2  \n",
       "9   17.3149  137815.0            -40.0  test2  \n",
       "10  17.0803  137816.0            -40.0  test2  \n",
       "11  17.8091  137817.0            -40.0  test2  \n",
       "12  17.2164  137818.0            -40.0  test2  \n",
       "13  15.7393  137819.0            -40.0  test2  \n",
       "14  16.6287  137820.0            -40.0  test2  "
      ]
     },
     "execution_count": 12,
     "metadata": {},
     "output_type": "execute_result"
    }
   ],
   "source": [
    "df"
   ]
  },
  {
   "cell_type": "code",
   "execution_count": 244,
   "metadata": {},
   "outputs": [],
   "source": [
    "latticeDepthList = df['latticeDepth'].unique()\n",
    "Y_rotationList = df['Y_rotation'].unique()\n",
    "BECHoldTimeList = df['BECHoldTime'].unique()\n",
    "latticeDetuningList = df['latticeDetuning'].unique()"
   ]
  },
  {
   "cell_type": "code",
   "execution_count": 246,
   "metadata": {},
   "outputs": [
    {
     "data": {
      "text/plain": [
       "array([0.0e+00, 5.0e-01, 1.0e+00, 2.0e+00, 3.0e+00, 4.0e+00, 5.0e+00,\n",
       "       6.0e+00, 8.0e+00, 1.0e+01, 1.2e+01, 1.5e+01, 2.0e+01, 3.0e+01,\n",
       "       5.0e+01, 1.0e+02, 2.0e+02, 4.0e+02, 1.0e+03])"
      ]
     },
     "execution_count": 246,
     "metadata": {},
     "output_type": "execute_result"
    }
   ],
   "source": [
    "np.sort(BECHoldTimeList)"
   ]
  },
  {
   "cell_type": "code",
   "execution_count": 230,
   "metadata": {},
   "outputs": [
    {
     "data": {
      "image/png": "[encoded data removed]",
      "text/plain": [
       "<Figure size 432x288 with 1 Axes>"
      ]
     },
     "metadata": {
      "needs_background": "light"
     },
     "output_type": "display_data"
    }
   ],
   "source": [
    "def getRun(df, latticeDepth, latticeDetuning = 25):\n",
    "    df_temp = df[df['latticeDepth'] == latticeDepth]\n",
    "    df_temp2 = df_temp[df_temp['latticeDetuning'] == latticeDetuning]\n",
    "    return df_temp\n",
    "\n",
    "plt.figure()\n",
    "for latticeDepth in [1.9]:\n",
    "    df_temp = getRun(df, latticeDepth, latticeDetuning = 25)\n",
    "    plt.plot(df_temp['BECHoldTime'], df_temp['nCount'], '+', label = str(round(latticeDepth, 2)))\n",
    "plt.legend()\n",
    "plt.ylim(0, 160000)\n",
    "plt.xlim(0,100)\n",
    "plt.show()"
   ]
  },
  {
   "cell_type": "code",
   "execution_count": 231,
   "metadata": {},
   "outputs": [
    {
     "name": "stdout",
     "output_type": "stream",
     "text": [
      "\n",
      "\n",
      "    latticeDetuning  latticeDepth  Y_rotation             N0         gamma\n",
      "0              25.0         0.060        True  100328.885256  4.365805e-12\n",
      "1              25.0         0.060       False  105625.630289  1.085964e-12\n",
      "2              25.0         0.200        True   96451.206492  6.698761e-12\n",
      "3              25.0         0.200       False  103345.214754  6.684402e-13\n",
      "4              25.0         0.100        True  103106.423470  6.964689e-12\n",
      "5              25.0         0.100       False  105887.605002  8.125783e-13\n",
      "6              25.0         0.150        True   96712.860726  5.383640e-12\n",
      "7              25.0         0.150       False  103454.088749  6.208689e-13\n",
      "8              25.0         0.020        True   97391.652422  2.855896e-12\n",
      "9              25.0         0.020       False  103532.426020  1.162597e-12\n",
      "10             25.0         0.080        True  103005.332866  6.003879e-12\n",
      "11             25.0         0.080       False  105191.579182  8.330133e-13\n",
      "12             25.0         0.300        True  104632.329115  1.013368e-11\n",
      "13             25.0         0.300       False  105010.463975  3.589822e-13\n",
      "14             25.0         0.010        True  103504.499633  2.358533e-12\n",
      "15             25.0         0.010       False  111583.590468  1.123987e-12\n",
      "16             25.0         0.006        True  101539.742908  3.289711e-12\n",
      "17             25.0         0.006       False  105413.373875  1.195178e-12\n",
      "18             25.0         0.500        True  117601.901508  1.156414e-11\n",
      "19             25.0         0.500       False  115325.726090  2.764068e-13\n",
      "20             25.0         1.100        True  123073.381538  1.356226e-11\n",
      "21             25.0         1.100       False  116607.001104  1.903641e-13\n",
      "22             25.0         0.800        True  116716.408981  1.388277e-11\n",
      "23             25.0         0.800       False  117332.106044  1.780050e-13\n",
      "24             25.0         1.400        True  120849.969722  1.594545e-11\n",
      "25             25.0         1.400       False  119072.954902  2.529471e-13\n",
      "26             25.0         1.900        True  128256.792706  1.850900e-11\n",
      "27             25.0         1.900       False  122645.694278  2.531016e-13\n",
      "28             25.0         1.700        True  133224.258965  1.565714e-11\n",
      "29             25.0         1.700       False  126982.032079  1.853419e-13\n"
     ]
    }
   ],
   "source": [
    "results = []\n",
    "\n",
    "from scipy.optimize import curve_fit\n",
    "\n",
    "def N_polarized(t, N0, alpha, gamma):\n",
    "    return np.sqrt(alpha / (np.exp(2*alpha*t)*(alpha/(N0**2)+gamma)-gamma))\n",
    "\n",
    "def N_linear(t, N0, b):\n",
    "    return N0-b*t\n",
    "\n",
    "def N_polarized_pure3b(t, N0, gamma):\n",
    "    return N0 / np.sqrt(1+N0**2*gamma*t)\n",
    "\n",
    "def fitRun(df_run):\n",
    "    N0_guess = max(df_run['nCount'])\n",
    "    time_guess = max(df_run['BECHoldTime'])\n",
    "    popt, pcov = curve_fit(N_polarized, df_run['BECHoldTime'], df_run['nCount'],\n",
    "                       p0 = [N0_guess, 1/time_guess, 1/(N0_guess**2*time_guess)],\n",
    "                        bounds = ((0, 0, 0), (np.inf, np.inf, np.inf)),\n",
    "                           method = 'trf'\n",
    "                      )\n",
    "    return popt, pcov\n",
    "\n",
    "for latticeDetuning in latticeDetuningList:\n",
    "    for latticeDepth in latticeDepthList:\n",
    "        df_run = getRun(df, latticeDepth, Y_rotation, latticeDetuning)\n",
    "        #print(latticeDetuning, latticeDepth)\n",
    "        if not df_run.empty:\n",
    "            popt, pcov = fitRun(df_run)\n",
    "            results += [{'latticeDetuning' : latticeDetuning,\n",
    "                             'latticeDepth' : latticeDepth,\n",
    "                             'Y_rotation' : Y_rotation,\n",
    "                            'N0' : popt[0],\n",
    "                            'alpha' : popt[1],\n",
    "                             'gamma' : popt[2]\n",
    "                        }]\n",
    "resultsDF = pd.DataFrame(results)\n",
    "print('\\n')\n",
    "print(resultsDF)\n",
    "#perr = np.sqrt(np.diag(pcov))"
   ]
  },
  {
   "cell_type": "code",
   "execution_count": 232,
   "metadata": {},
   "outputs": [
    {
     "ename": "IndexError",
     "evalue": "single positional indexer is out-of-bounds",
     "output_type": "error",
     "traceback": [
      "\u001b[0;31m---------------------------------------------------------------------------\u001b[0m",
      "\u001b[0;31mIndexError\u001b[0m                                Traceback (most recent call last)",
      "\u001b[0;32m<ipython-input-232-e7f8c7a4d490>\u001b[0m in \u001b[0;36m<module>\u001b[0;34m\u001b[0m\n\u001b[1;32m     14\u001b[0m \u001b[0;34m\u001b[0m\u001b[0m\n\u001b[1;32m     15\u001b[0m \u001b[0mtime\u001b[0m \u001b[0;34m=\u001b[0m \u001b[0mnp\u001b[0m\u001b[0;34m.\u001b[0m\u001b[0mlinspace\u001b[0m\u001b[0;34m(\u001b[0m\u001b[0;36m0\u001b[0m\u001b[0;34m,\u001b[0m \u001b[0;36m100\u001b[0m\u001b[0;34m,\u001b[0m \u001b[0;36m10000\u001b[0m\u001b[0;34m)\u001b[0m\u001b[0;34m\u001b[0m\u001b[0;34m\u001b[0m\u001b[0m\n\u001b[0;32m---> 16\u001b[0;31m \u001b[0mNY\u001b[0m\u001b[0;34m,\u001b[0m \u001b[0mgammaY\u001b[0m \u001b[0;34m=\u001b[0m \u001b[0mresultY\u001b[0m\u001b[0;34m.\u001b[0m\u001b[0miloc\u001b[0m\u001b[0;34m[\u001b[0m\u001b[0;36m0\u001b[0m\u001b[0;34m,\u001b[0m \u001b[0;36m3\u001b[0m\u001b[0;34m]\u001b[0m\u001b[0;34m,\u001b[0m \u001b[0mresultY\u001b[0m\u001b[0;34m.\u001b[0m\u001b[0miloc\u001b[0m\u001b[0;34m[\u001b[0m\u001b[0;36m0\u001b[0m\u001b[0;34m,\u001b[0m \u001b[0;36m4\u001b[0m\u001b[0;34m]\u001b[0m\u001b[0;34m\u001b[0m\u001b[0;34m\u001b[0m\u001b[0m\n\u001b[0m\u001b[1;32m     17\u001b[0m \u001b[0mNZ\u001b[0m\u001b[0;34m,\u001b[0m \u001b[0mgammaZ\u001b[0m \u001b[0;34m=\u001b[0m \u001b[0mresultZ\u001b[0m\u001b[0;34m.\u001b[0m\u001b[0miloc\u001b[0m\u001b[0;34m[\u001b[0m\u001b[0;36m0\u001b[0m\u001b[0;34m,\u001b[0m \u001b[0;36m3\u001b[0m\u001b[0;34m]\u001b[0m\u001b[0;34m,\u001b[0m \u001b[0mresultZ\u001b[0m\u001b[0;34m.\u001b[0m\u001b[0miloc\u001b[0m\u001b[0;34m[\u001b[0m\u001b[0;36m0\u001b[0m\u001b[0;34m,\u001b[0m \u001b[0;36m4\u001b[0m\u001b[0;34m]\u001b[0m\u001b[0;34m\u001b[0m\u001b[0;34m\u001b[0m\u001b[0m\n\u001b[1;32m     18\u001b[0m \u001b[0mY\u001b[0m \u001b[0;34m=\u001b[0m \u001b[0mN_polarized_pure3b\u001b[0m\u001b[0;34m(\u001b[0m\u001b[0mtime\u001b[0m\u001b[0;34m,\u001b[0m \u001b[0mNY\u001b[0m\u001b[0;34m,\u001b[0m \u001b[0mgammaY\u001b[0m\u001b[0;34m)\u001b[0m\u001b[0;34m\u001b[0m\u001b[0;34m\u001b[0m\u001b[0m\n",
      "\u001b[0;32m/usr/local/lib/python3.9/site-packages/pandas/core/indexing.py\u001b[0m in \u001b[0;36m__getitem__\u001b[0;34m(self, key)\u001b[0m\n\u001b[1;32m    886\u001b[0m                     \u001b[0;31m# AttributeError for IntervalTree get_value\u001b[0m\u001b[0;34m\u001b[0m\u001b[0;34m\u001b[0m\u001b[0;34m\u001b[0m\u001b[0m\n\u001b[1;32m    887\u001b[0m                     \u001b[0;32mreturn\u001b[0m \u001b[0mself\u001b[0m\u001b[0;34m.\u001b[0m\u001b[0mobj\u001b[0m\u001b[0;34m.\u001b[0m\u001b[0m_get_value\u001b[0m\u001b[0;34m(\u001b[0m\u001b[0;34m*\u001b[0m\u001b[0mkey\u001b[0m\u001b[0;34m,\u001b[0m \u001b[0mtakeable\u001b[0m\u001b[0;34m=\u001b[0m\u001b[0mself\u001b[0m\u001b[0;34m.\u001b[0m\u001b[0m_takeable\u001b[0m\u001b[0;34m)\u001b[0m\u001b[0;34m\u001b[0m\u001b[0;34m\u001b[0m\u001b[0m\n\u001b[0;32m--> 888\u001b[0;31m             \u001b[0;32mreturn\u001b[0m \u001b[0mself\u001b[0m\u001b[0;34m.\u001b[0m\u001b[0m_getitem_tuple\u001b[0m\u001b[0;34m(\u001b[0m\u001b[0mkey\u001b[0m\u001b[0;34m)\u001b[0m\u001b[0;34m\u001b[0m\u001b[0;34m\u001b[0m\u001b[0m\n\u001b[0m\u001b[1;32m    889\u001b[0m         \u001b[0;32melse\u001b[0m\u001b[0;34m:\u001b[0m\u001b[0;34m\u001b[0m\u001b[0;34m\u001b[0m\u001b[0m\n\u001b[1;32m    890\u001b[0m             \u001b[0;31m# we by definition only have the 0th axis\u001b[0m\u001b[0;34m\u001b[0m\u001b[0;34m\u001b[0m\u001b[0;34m\u001b[0m\u001b[0m\n",
      "\u001b[0;32m/usr/local/lib/python3.9/site-packages/pandas/core/indexing.py\u001b[0m in \u001b[0;36m_getitem_tuple\u001b[0;34m(self, tup)\u001b[0m\n\u001b[1;32m   1447\u001b[0m     \u001b[0;32mdef\u001b[0m \u001b[0m_getitem_tuple\u001b[0m\u001b[0;34m(\u001b[0m\u001b[0mself\u001b[0m\u001b[0;34m,\u001b[0m \u001b[0mtup\u001b[0m\u001b[0;34m:\u001b[0m \u001b[0mTuple\u001b[0m\u001b[0;34m)\u001b[0m\u001b[0;34m:\u001b[0m\u001b[0;34m\u001b[0m\u001b[0;34m\u001b[0m\u001b[0m\n\u001b[1;32m   1448\u001b[0m \u001b[0;34m\u001b[0m\u001b[0m\n\u001b[0;32m-> 1449\u001b[0;31m         \u001b[0mself\u001b[0m\u001b[0;34m.\u001b[0m\u001b[0m_has_valid_tuple\u001b[0m\u001b[0;34m(\u001b[0m\u001b[0mtup\u001b[0m\u001b[0;34m)\u001b[0m\u001b[0;34m\u001b[0m\u001b[0;34m\u001b[0m\u001b[0m\n\u001b[0m\u001b[1;32m   1450\u001b[0m         \u001b[0;32mwith\u001b[0m \u001b[0msuppress\u001b[0m\u001b[0;34m(\u001b[0m\u001b[0mIndexingError\u001b[0m\u001b[0;34m)\u001b[0m\u001b[0;34m:\u001b[0m\u001b[0;34m\u001b[0m\u001b[0;34m\u001b[0m\u001b[0m\n\u001b[1;32m   1451\u001b[0m             \u001b[0;32mreturn\u001b[0m \u001b[0mself\u001b[0m\u001b[0;34m.\u001b[0m\u001b[0m_getitem_lowerdim\u001b[0m\u001b[0;34m(\u001b[0m\u001b[0mtup\u001b[0m\u001b[0;34m)\u001b[0m\u001b[0;34m\u001b[0m\u001b[0;34m\u001b[0m\u001b[0m\n",
      "\u001b[0;32m/usr/local/lib/python3.9/site-packages/pandas/core/indexing.py\u001b[0m in \u001b[0;36m_has_valid_tuple\u001b[0;34m(self, key)\u001b[0m\n\u001b[1;32m    720\u001b[0m         \u001b[0;32mfor\u001b[0m \u001b[0mi\u001b[0m\u001b[0;34m,\u001b[0m \u001b[0mk\u001b[0m \u001b[0;32min\u001b[0m \u001b[0menumerate\u001b[0m\u001b[0;34m(\u001b[0m\u001b[0mkey\u001b[0m\u001b[0;34m)\u001b[0m\u001b[0;34m:\u001b[0m\u001b[0;34m\u001b[0m\u001b[0;34m\u001b[0m\u001b[0m\n\u001b[1;32m    721\u001b[0m             \u001b[0;32mtry\u001b[0m\u001b[0;34m:\u001b[0m\u001b[0;34m\u001b[0m\u001b[0;34m\u001b[0m\u001b[0m\n\u001b[0;32m--> 722\u001b[0;31m                 \u001b[0mself\u001b[0m\u001b[0;34m.\u001b[0m\u001b[0m_validate_key\u001b[0m\u001b[0;34m(\u001b[0m\u001b[0mk\u001b[0m\u001b[0;34m,\u001b[0m \u001b[0mi\u001b[0m\u001b[0;34m)\u001b[0m\u001b[0;34m\u001b[0m\u001b[0;34m\u001b[0m\u001b[0m\n\u001b[0m\u001b[1;32m    723\u001b[0m             \u001b[0;32mexcept\u001b[0m \u001b[0mValueError\u001b[0m \u001b[0;32mas\u001b[0m \u001b[0merr\u001b[0m\u001b[0;34m:\u001b[0m\u001b[0;34m\u001b[0m\u001b[0;34m\u001b[0m\u001b[0m\n\u001b[1;32m    724\u001b[0m                 raise ValueError(\n",
      "\u001b[0;32m/usr/local/lib/python3.9/site-packages/pandas/core/indexing.py\u001b[0m in \u001b[0;36m_validate_key\u001b[0;34m(self, key, axis)\u001b[0m\n\u001b[1;32m   1355\u001b[0m             \u001b[0;32mreturn\u001b[0m\u001b[0;34m\u001b[0m\u001b[0;34m\u001b[0m\u001b[0m\n\u001b[1;32m   1356\u001b[0m         \u001b[0;32melif\u001b[0m \u001b[0mis_integer\u001b[0m\u001b[0;34m(\u001b[0m\u001b[0mkey\u001b[0m\u001b[0;34m)\u001b[0m\u001b[0;34m:\u001b[0m\u001b[0;34m\u001b[0m\u001b[0;34m\u001b[0m\u001b[0m\n\u001b[0;32m-> 1357\u001b[0;31m             \u001b[0mself\u001b[0m\u001b[0;34m.\u001b[0m\u001b[0m_validate_integer\u001b[0m\u001b[0;34m(\u001b[0m\u001b[0mkey\u001b[0m\u001b[0;34m,\u001b[0m \u001b[0maxis\u001b[0m\u001b[0;34m)\u001b[0m\u001b[0;34m\u001b[0m\u001b[0;34m\u001b[0m\u001b[0m\n\u001b[0m\u001b[1;32m   1358\u001b[0m         \u001b[0;32melif\u001b[0m \u001b[0misinstance\u001b[0m\u001b[0;34m(\u001b[0m\u001b[0mkey\u001b[0m\u001b[0;34m,\u001b[0m \u001b[0mtuple\u001b[0m\u001b[0;34m)\u001b[0m\u001b[0;34m:\u001b[0m\u001b[0;34m\u001b[0m\u001b[0;34m\u001b[0m\u001b[0m\n\u001b[1;32m   1359\u001b[0m             \u001b[0;31m# a tuple should already have been caught by this point\u001b[0m\u001b[0;34m\u001b[0m\u001b[0;34m\u001b[0m\u001b[0;34m\u001b[0m\u001b[0m\n",
      "\u001b[0;32m/usr/local/lib/python3.9/site-packages/pandas/core/indexing.py\u001b[0m in \u001b[0;36m_validate_integer\u001b[0;34m(self, key, axis)\u001b[0m\n\u001b[1;32m   1441\u001b[0m         \u001b[0mlen_axis\u001b[0m \u001b[0;34m=\u001b[0m \u001b[0mlen\u001b[0m\u001b[0;34m(\u001b[0m\u001b[0mself\u001b[0m\u001b[0;34m.\u001b[0m\u001b[0mobj\u001b[0m\u001b[0;34m.\u001b[0m\u001b[0m_get_axis\u001b[0m\u001b[0;34m(\u001b[0m\u001b[0maxis\u001b[0m\u001b[0;34m)\u001b[0m\u001b[0;34m)\u001b[0m\u001b[0;34m\u001b[0m\u001b[0;34m\u001b[0m\u001b[0m\n\u001b[1;32m   1442\u001b[0m         \u001b[0;32mif\u001b[0m \u001b[0mkey\u001b[0m \u001b[0;34m>=\u001b[0m \u001b[0mlen_axis\u001b[0m \u001b[0;32mor\u001b[0m \u001b[0mkey\u001b[0m \u001b[0;34m<\u001b[0m \u001b[0;34m-\u001b[0m\u001b[0mlen_axis\u001b[0m\u001b[0;34m:\u001b[0m\u001b[0;34m\u001b[0m\u001b[0;34m\u001b[0m\u001b[0m\n\u001b[0;32m-> 1443\u001b[0;31m             \u001b[0;32mraise\u001b[0m \u001b[0mIndexError\u001b[0m\u001b[0;34m(\u001b[0m\u001b[0;34m\"single positional indexer is out-of-bounds\"\u001b[0m\u001b[0;34m)\u001b[0m\u001b[0;34m\u001b[0m\u001b[0;34m\u001b[0m\u001b[0m\n\u001b[0m\u001b[1;32m   1444\u001b[0m \u001b[0;34m\u001b[0m\u001b[0m\n\u001b[1;32m   1445\u001b[0m     \u001b[0;31m# -------------------------------------------------------------------\u001b[0m\u001b[0;34m\u001b[0m\u001b[0;34m\u001b[0m\u001b[0;34m\u001b[0m\u001b[0m\n",
      "\u001b[0;31mIndexError\u001b[0m: single positional indexer is out-of-bounds"
     ]
    }
   ],
   "source": [
    "def getResult(dfResult, latticeDepth, Y_rotation, latticeDetuning = 25):\n",
    "    df_temp = dfResult[dfResult['latticeDepth'] == latticeDepth]\n",
    "    df_temp2 = df_temp[df_temp['Y_rotation'] == Y_rotation]\n",
    "    df_temp3 = df_temp2[df_temp2['latticeDetuning'] == latticeDetuning]\n",
    "    return df_temp3\n",
    "\n",
    "latticeDepth = 1.9\n",
    "latticeDetuning = 5\n",
    "\n",
    "df_tempY = getRun(df, latticeDepth, True, latticeDetuning)\n",
    "df_tempZ = getRun(df, latticeDepth, False, latticeDetuning)\n",
    "resultY = getResult(resultsDF, latticeDepth, True, latticeDetuning)\n",
    "resultZ = getResult(resultsDF, latticeDepth, False, latticeDetuning)\n",
    "\n",
    "time = np.linspace(0, 100, 10000)\n",
    "NY, gammaY = resultY.iloc[0, 3], resultY.iloc[0, 4]\n",
    "NZ, gammaZ = resultZ.iloc[0, 3], resultZ.iloc[0, 4]\n",
    "Y = N_polarized_pure3b(time, NY, gammaY)\n",
    "Z = N_polarized_pure3b(time, NZ, gammaZ)\n",
    "\n",
    "plt.figure()\n",
    "plt.plot(df_tempY['BECHoldTime'], df_tempY['nCount'], '+', label = str(round(latticeDepth, 2)) + ' ' + str(True))\n",
    "plt.plot(df_tempZ['BECHoldTime'], df_tempZ['nCount'], '+', label = str(round(latticeDepth, 2)) + ' ' + str(False))\n",
    "plt.plot(time, Y, '-', label = 'fitY')\n",
    "plt.plot(time, Z, '-', label = 'fitZ')\n",
    "plt.legend()\n",
    "plt.ylim(0, 150000)\n",
    "plt.xlim(0,50)\n",
    "plt.show()"
   ]
  },
  {
   "cell_type": "code",
   "execution_count": 217,
   "metadata": {},
   "outputs": [
    {
     "ename": "ValueError",
     "evalue": "max() arg is an empty sequence",
     "output_type": "error",
     "traceback": [
      "\u001b[0;31m---------------------------------------------------------------------------\u001b[0m",
      "\u001b[0;31mValueError\u001b[0m                                Traceback (most recent call last)",
      "\u001b[0;32m<ipython-input-217-427cee5f5988>\u001b[0m in \u001b[0;36m<module>\u001b[0;34m\u001b[0m\n\u001b[0;32m----> 1\u001b[0;31m \u001b[0mmax\u001b[0m\u001b[0;34m(\u001b[0m\u001b[0mdf_tempY\u001b[0m\u001b[0;34m[\u001b[0m\u001b[0;34m'nCount'\u001b[0m\u001b[0;34m]\u001b[0m\u001b[0;34m)\u001b[0m\u001b[0;34m,\u001b[0m \u001b[0mmax\u001b[0m\u001b[0;34m(\u001b[0m\u001b[0mdf_tempY\u001b[0m\u001b[0;34m[\u001b[0m\u001b[0;34m'BECHoldTime'\u001b[0m\u001b[0;34m]\u001b[0m\u001b[0;34m)\u001b[0m\u001b[0;34m\u001b[0m\u001b[0;34m\u001b[0m\u001b[0m\n\u001b[0m",
      "\u001b[0;31mValueError\u001b[0m: max() arg is an empty sequence"
     ]
    }
   ],
   "source": [
    "max(df_tempY['nCount']), max(df_tempY['BECHoldTime'])"
   ]
  },
  {
   "cell_type": "code",
   "execution_count": 209,
   "metadata": {},
   "outputs": [
    {
     "data": {
      "image/png": "[encoded data removed]",
      "text/plain": [
       "<Figure size 432x288 with 1 Axes>"
      ]
     },
     "metadata": {
      "needs_background": "light"
     },
     "output_type": "display_data"
    }
   ],
   "source": [
    "def getResult(dfResult, latticeDepth, Y_rotation, latticeDetuning = 25):\n",
    "    df_temp = dfResult[dfResult['latticeDepth'] == latticeDepth]\n",
    "    df_temp2 = df_temp[df_temp['Y_rotation'] == Y_rotation]\n",
    "    df_temp3 = df_temp2[df_temp2['latticeDetuning'] == latticeDetuning]\n",
    "    return df_temp3\n",
    "\n",
    "latticeDepth = 0.02\n",
    "latticeDetuning = 5\n",
    "N0_guess, 1/time_guess, 1/(N0_guess**2*time_guess)\n",
    "df_tempY = getRun(df, latticeDepth, True, latticeDetuning)\n",
    "df_tempZ = getRun(df, latticeDepth, False, latticeDetuning)\n",
    "resultY = getResult(resultsDF, latticeDepth, True, latticeDetuning)\n",
    "resultZ = getResult(resultsDF, latticeDepth, False, latticeDetuning)\n",
    "\n",
    "time = np.linspace(0, 1000, 10000)\n",
    "NY, alphaY, gammaY = resultY.iloc[0, 3], resultY.iloc[0, 4], resultY.iloc[0, 5]\n",
    "NZ, alphaZ, gammaZ = resultZ.iloc[0, 3], resultZ.iloc[0, 4], resultZ.iloc[0, 5]\n",
    "\n",
    "NY = 150000\n",
    "NZ = 150000 \n",
    "alphaY = 0.001*10**(-4)\n",
    "gammaY = 9*10**(-12)\n",
    "alphaZ = 4*10**(-4)\n",
    "gammaZ = 3*10**(-13)\n",
    "\n",
    "Y = N_polarized(time, NY, alphaY, gammaY)\n",
    "Z = N_polarized(time, NZ, alphaZ, gammaZ)\n",
    "\n",
    "plt.figure()\n",
    "plt.plot(df_tempY['BECHoldTime'], df_tempY['nCount'], '+', label = str(round(latticeDepth, 2)) + ' ' + str(True))\n",
    "plt.plot(df_tempZ['BECHoldTime'], df_tempZ['nCount'], '+', label = str(round(latticeDepth, 2)) + ' ' + str(False))\n",
    "plt.plot(time, Y, '-', label = 'fitY')\n",
    "plt.plot(time, Z, '-', label = 'fitZ')\n",
    "plt.legend()\n",
    "plt.ylim(10000,200000)\n",
    "plt.xlim(0,100)\n",
    "plt.show()"
   ]
  },
  {
   "cell_type": "code",
   "execution_count": 58,
   "metadata": {},
   "outputs": [
    {
     "data": {
      "text/plain": [
       "(154672.64381833852, 165010.54406426026)"
      ]
     },
     "execution_count": 58,
     "metadata": {},
     "output_type": "execute_result"
    }
   ],
   "source": [
    "NY, NZ"
   ]
  },
  {
   "cell_type": "code",
   "execution_count": 237,
   "metadata": {},
   "outputs": [
    {
     "data": {
      "text/html": [
       "<div>\n",
       "<style scoped>\n",
       "    .dataframe tbody tr th:only-of-type {\n",
       "        vertical-align: middle;\n",
       "    }\n",
       "\n",
       "    .dataframe tbody tr th {\n",
       "        vertical-align: top;\n",
       "    }\n",
       "\n",
       "    .dataframe thead th {\n",
       "        text-align: right;\n",
       "    }\n",
       "</style>\n",
       "<table border=\"1\" class=\"dataframe\">\n",
       "  <thead>\n",
       "    <tr style=\"text-align: right;\">\n",
       "      <th></th>\n",
       "      <th>latticeDetuning</th>\n",
       "      <th>latticeDepth</th>\n",
       "      <th>gamma_ratio</th>\n",
       "    </tr>\n",
       "  </thead>\n",
       "  <tbody>\n",
       "    <tr>\n",
       "      <th>0</th>\n",
       "      <td>25.0</td>\n",
       "      <td>0.060</td>\n",
       "      <td>4.020212</td>\n",
       "    </tr>\n",
       "    <tr>\n",
       "      <th>1</th>\n",
       "      <td>25.0</td>\n",
       "      <td>0.200</td>\n",
       "      <td>10.021481</td>\n",
       "    </tr>\n",
       "    <tr>\n",
       "      <th>2</th>\n",
       "      <td>25.0</td>\n",
       "      <td>0.100</td>\n",
       "      <td>8.571098</td>\n",
       "    </tr>\n",
       "    <tr>\n",
       "      <th>3</th>\n",
       "      <td>25.0</td>\n",
       "      <td>0.150</td>\n",
       "      <td>8.671139</td>\n",
       "    </tr>\n",
       "    <tr>\n",
       "      <th>4</th>\n",
       "      <td>25.0</td>\n",
       "      <td>0.020</td>\n",
       "      <td>2.456479</td>\n",
       "    </tr>\n",
       "    <tr>\n",
       "      <th>5</th>\n",
       "      <td>25.0</td>\n",
       "      <td>0.080</td>\n",
       "      <td>7.207422</td>\n",
       "    </tr>\n",
       "    <tr>\n",
       "      <th>6</th>\n",
       "      <td>25.0</td>\n",
       "      <td>0.300</td>\n",
       "      <td>28.228929</td>\n",
       "    </tr>\n",
       "    <tr>\n",
       "      <th>7</th>\n",
       "      <td>25.0</td>\n",
       "      <td>0.010</td>\n",
       "      <td>2.098364</td>\n",
       "    </tr>\n",
       "    <tr>\n",
       "      <th>8</th>\n",
       "      <td>25.0</td>\n",
       "      <td>0.006</td>\n",
       "      <td>2.752485</td>\n",
       "    </tr>\n",
       "    <tr>\n",
       "      <th>9</th>\n",
       "      <td>25.0</td>\n",
       "      <td>0.500</td>\n",
       "      <td>41.837410</td>\n",
       "    </tr>\n",
       "    <tr>\n",
       "      <th>10</th>\n",
       "      <td>25.0</td>\n",
       "      <td>1.100</td>\n",
       "      <td>71.243822</td>\n",
       "    </tr>\n",
       "    <tr>\n",
       "      <th>11</th>\n",
       "      <td>25.0</td>\n",
       "      <td>0.800</td>\n",
       "      <td>77.990889</td>\n",
       "    </tr>\n",
       "    <tr>\n",
       "      <th>12</th>\n",
       "      <td>25.0</td>\n",
       "      <td>1.400</td>\n",
       "      <td>63.038659</td>\n",
       "    </tr>\n",
       "    <tr>\n",
       "      <th>13</th>\n",
       "      <td>25.0</td>\n",
       "      <td>1.900</td>\n",
       "      <td>73.128741</td>\n",
       "    </tr>\n",
       "    <tr>\n",
       "      <th>14</th>\n",
       "      <td>25.0</td>\n",
       "      <td>1.700</td>\n",
       "      <td>84.477050</td>\n",
       "    </tr>\n",
       "  </tbody>\n",
       "</table>\n",
       "</div>"
      ],
      "text/plain": [
       "    latticeDetuning  latticeDepth  gamma_ratio\n",
       "0              25.0         0.060     4.020212\n",
       "1              25.0         0.200    10.021481\n",
       "2              25.0         0.100     8.571098\n",
       "3              25.0         0.150     8.671139\n",
       "4              25.0         0.020     2.456479\n",
       "5              25.0         0.080     7.207422\n",
       "6              25.0         0.300    28.228929\n",
       "7              25.0         0.010     2.098364\n",
       "8              25.0         0.006     2.752485\n",
       "9              25.0         0.500    41.837410\n",
       "10             25.0         1.100    71.243822\n",
       "11             25.0         0.800    77.990889\n",
       "12             25.0         1.400    63.038659\n",
       "13             25.0         1.900    73.128741\n",
       "14             25.0         1.700    84.477050"
      ]
     },
     "execution_count": 237,
     "metadata": {},
     "output_type": "execute_result"
    }
   ],
   "source": [
    "results_ratio = []\n",
    "for latticeDetuning in latticeDetuningList:\n",
    "    reducedResult = resultsDF[resultsDF['latticeDetuning'] == latticeDetuning]\n",
    "    for latticeDepth in latticeDepthList:\n",
    "        reducedResult2 = reducedResult[reducedResult['latticeDepth'] == latticeDepth]\n",
    "        gammaY, gammaZ = reducedResult2[reducedResult2['Y_rotation'] == True]['gamma'].mean(), reducedResult2[reducedResult2['Y_rotation'] == False]['gamma'].mean()\n",
    "        results_ratio += [{'latticeDetuning' : latticeDetuning,\n",
    "                         'latticeDepth' : latticeDepth,\n",
    "                        'gamma_ratio' : gammaY/gammaZ}]\n",
    "results_ratioDF = pd.DataFrame(results_ratio)\n",
    "results_ratioDF"
   ]
  },
  {
   "cell_type": "code",
   "execution_count": 238,
   "metadata": {},
   "outputs": [
    {
     "data": {
      "image/png": "[encoded data removed]",
      "text/plain": [
       "<Figure size 432x288 with 1 Axes>"
      ]
     },
     "metadata": {
      "needs_background": "light"
     },
     "output_type": "display_data"
    }
   ],
   "source": [
    "resultsDF_Y = resultsDF[resultsDF['Y_rotation'] == True]\n",
    "resultsDF_Z = resultsDF[resultsDF['Y_rotation'] == False]\n",
    "plt.figure()\n",
    "plt.plot(resultsDF_Y['latticeDepth']/resultsDF_Y['latticeDetuning'], resultsDF_Y['gamma'], 'r*', label = 'Y')\n",
    "plt.plot(resultsDF_Z['latticeDepth']/resultsDF_Z['latticeDetuning'], resultsDF_Z['gamma'], 'b*', label = 'Z')\n",
    "plt.legend()\n",
    "#plt.ylim(0,0.2*10**(-11))\n",
    "plt.show()"
   ]
  },
  {
   "cell_type": "code",
   "execution_count": 239,
   "metadata": {},
   "outputs": [
    {
     "data": {
      "image/png": "[encoded data removed]",
      "text/plain": [
       "<Figure size 432x288 with 1 Axes>"
      ]
     },
     "metadata": {
      "needs_background": "light"
     },
     "output_type": "display_data"
    }
   ],
   "source": [
    "plt.figure()\n",
    "plt.plot(resultsDF_Z['latticeDepth']/resultsDF_Z['latticeDetuning'], resultsDF_Z['gamma'], 'b*', label = 'Z')\n",
    "plt.legend()\n",
    "plt.show()"
   ]
  },
  {
   "cell_type": "code",
   "execution_count": 240,
   "metadata": {},
   "outputs": [
    {
     "data": {
      "image/png": "[encoded data removed]",
      "text/plain": [
       "<Figure size 432x288 with 1 Axes>"
      ]
     },
     "metadata": {
      "needs_background": "light"
     },
     "output_type": "display_data"
    }
   ],
   "source": [
    "plt.figure()\n",
    "plt.semilogy(results_ratioDF['latticeDepth']/results_ratioDF['latticeDetuning'], results_ratioDF['gamma_ratio'], '*')\n",
    "#plt.xlim(0,0.01)\n",
    "plt.show()"
   ]
  },
  {
   "cell_type": "code",
   "execution_count": 70,
   "metadata": {},
   "outputs": [
    {
     "data": {
      "text/html": [
       "<div>\n",
       "<style scoped>\n",
       "    .dataframe tbody tr th:only-of-type {\n",
       "        vertical-align: middle;\n",
       "    }\n",
       "\n",
       "    .dataframe tbody tr th {\n",
       "        vertical-align: top;\n",
       "    }\n",
       "\n",
       "    .dataframe thead th {\n",
       "        text-align: right;\n",
       "    }\n",
       "</style>\n",
       "<table border=\"1\" class=\"dataframe\">\n",
       "  <thead>\n",
       "    <tr style=\"text-align: right;\">\n",
       "      <th></th>\n",
       "      <th>latticeDetuning</th>\n",
       "      <th>latticeDepth</th>\n",
       "      <th>gamma_ratio</th>\n",
       "    </tr>\n",
       "  </thead>\n",
       "  <tbody>\n",
       "    <tr>\n",
       "      <th>12</th>\n",
       "      <td>25.0</td>\n",
       "      <td>1.4</td>\n",
       "      <td>2062.149702</td>\n",
       "    </tr>\n",
       "  </tbody>\n",
       "</table>\n",
       "</div>"
      ],
      "text/plain": [
       "    latticeDetuning  latticeDepth  gamma_ratio\n",
       "12             25.0           1.4  2062.149702"
      ]
     },
     "execution_count": 70,
     "metadata": {},
     "output_type": "execute_result"
    }
   ],
   "source": [
    "results_ratioDF[results_ratioDF['gamma_ratio'] > 100]"
   ]
  },
  {
   "cell_type": "code",
   "execution_count": 71,
   "metadata": {},
   "outputs": [
    {
     "data": {
      "image/png": "[encoded data removed]",
      "text/plain": [
       "<Figure size 432x288 with 1 Axes>"
      ]
     },
     "metadata": {
      "needs_background": "light"
     },
     "output_type": "display_data"
    }
   ],
   "source": [
    "plt.figure()\n",
    "plt.plot(df['BECHoldTime'], df['nCount'], '*')\n",
    "plt.show()"
   ]
  },
  {
   "cell_type": "code",
   "execution_count": 134,
   "metadata": {},
   "outputs": [
    {
     "data": {
      "image/png": "[encoded data removed]",
      "text/plain": [
       "<Figure size 432x288 with 1 Axes>"
      ]
     },
     "metadata": {
      "needs_background": "light"
     },
     "output_type": "display_data"
    }
   ],
   "source": [
    "plt.figure()\n",
    "plt.plot(df['imageID'], df['nCount'], '*')\n",
    "plt.show()"
   ]
  },
  {
   "cell_type": "code",
   "execution_count": 13,
   "metadata": {},
   "outputs": [],
   "source": [
    "list_label = [] + [[1, 2, 3]] + [[4, 5, 6]] + [[11, 13, 15]]\n",
    "list_label_array = np.array(list_label)\n",
    "df = pd.DataFrame({'test' : [100, 1000, 10000]})\n",
    "df['a'] = list_label_array[0,:]"
   ]
  },
  {
   "cell_type": "code",
   "execution_count": 10,
   "metadata": {},
   "outputs": [],
   "source": [
    "import numpy as np\n",
    "import pandas as pd"
   ]
  },
  {
   "cell_type": "code",
   "execution_count": 15,
   "metadata": {},
   "outputs": [
    {
     "ename": "TypeError",
     "evalue": "list indices must be integers or slices, not tuple",
     "output_type": "error",
     "traceback": [
      "\u001b[0;31m---------------------------------------------------------------------------\u001b[0m",
      "\u001b[0;31mTypeError\u001b[0m                                 Traceback (most recent call last)",
      "\u001b[0;32m<ipython-input-15-33159ee1a622>\u001b[0m in \u001b[0;36m<module>\u001b[0;34m\u001b[0m\n\u001b[0;32m----> 1\u001b[0;31m \u001b[0mlist_label\u001b[0m\u001b[0;34m[\u001b[0m\u001b[0;36m0\u001b[0m\u001b[0;34m,\u001b[0m\u001b[0;34m:\u001b[0m\u001b[0;34m]\u001b[0m\u001b[0;34m\u001b[0m\u001b[0;34m\u001b[0m\u001b[0m\n\u001b[0m",
      "\u001b[0;31mTypeError\u001b[0m: list indices must be integers or slices, not tuple"
     ]
    }
   ],
   "source": [
    "list_label[0,:]"
   ]
  },
  {
   "cell_type": "code",
   "execution_count": null,
   "metadata": {},
   "outputs": [],
   "source": []
  }
 ],
 "metadata": {
  "kernelspec": {
   "display_name": "Python 3",
   "language": "python",
   "name": "python3"
  },
  "language_info": {
   "codemirror_mode": {
    "name": "ipython",
    "version": 3
   },
   "file_extension": ".py",
   "mimetype": "text/x-python",
   "name": "python",
   "nbconvert_exporter": "python",
   "pygments_lexer": "ipython3",
   "version": "3.6.12"
  },
  "latex_envs": {
   "LaTeX_envs_menu_present": true,
   "autoclose": false,
   "autocomplete": true,
   "bibliofile": "biblio.bib",
   "cite_by": "apalike",
   "current_citInitial": 1,
   "eqLabelWithNumbers": true,
   "eqNumInitial": 1,
   "hotkeys": {
    "equation": "Ctrl-E",
    "itemize": "Ctrl-I"
   },
   "labels_anchors": false,
   "latex_user_defs": false,
   "report_style_numbering": false,
   "user_envs_cfg": false
  }
 },
 "nbformat": 4,
 "nbformat_minor": 4
}
