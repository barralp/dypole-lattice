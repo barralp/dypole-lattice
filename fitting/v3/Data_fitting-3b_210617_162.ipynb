{
 "cells": [
  {
   "cell_type": "code",
   "execution_count": 1,
   "metadata": {},
   "outputs": [],
   "source": [
    "from databaseCommunication import readDatabaseFile, createDataFrame_list\n",
    "from dataframeFormating import createLabeledDataFrame_list #, N_polarized_pure3b, N_polarized, N_linear, getReducedDataframe, getReducedResults, \n",
    "from calculation import trapFrequency, getSubDF, noiseFilter, renameUnits, dropExcluded, computeBareTrapFrequencies, computeTrapFrequencies\n",
    "from fit import fitDF, N_polarized_pure3b, N_polarized, N_linear, N_polarized_premix\n",
    "import pandas as pd\n",
    "import numpy as np\n",
    "import matplotlib.pyplot as plt\n",
    "from scipy.optimize import curve_fit\n",
    "from parameters import *"
   ]
  },
  {
   "cell_type": "code",
   "execution_count": 2,
   "metadata": {},
   "outputs": [],
   "source": [
    "label_heads = ['experiment', \"ODTFactor\"]\n",
    "\n",
    "\n",
    "labels_inSitu = [[['inSitu', 4], [162251, 162350]],\n",
    "                 [['inSitu', 4], [162352, 162407]],\n",
    "                 [['inSitu', 4], [162414, 162469]]\n",
    "                ]   # June 10th\n",
    "\n",
    "\n",
    "labels_TOF = [[['TOF', 8, -10], [170529, 170580]], # or [166259 / 166300, 166402] for having better measure (problem with the moving ROI)\n",
    "              [['TOF', 8, -10], [170583, 170660]],\n",
    "              [['TOF', 8, -10], [170664, 170723]],\n",
    "              [['TOF', 8, -10], [170745, 170781]],\n",
    "              [['TOF', 8, -10], [170785, 170820]],\n",
    "              [['TOF', 8, -10], [170823, 170878]]\n",
    "                ] # June 17th\n",
    "\n",
    "# All is with 162 isotope\n",
    "compz_not_lossy = 7.4\n",
    "compz_lossy = 7.83\n",
    "\n",
    "# All at -10 GHz. ODT Factor = 8. ODT 1 = 2.88 ; ODT 2 = 2.72 ; ODT 3 = 0.76. Bz at 7.4 / 7.83\n",
    "\n",
    "\n",
    "labels = [] \n",
    "\n",
    "excluded = [170530, 170655, 170656, 170657, 170658, 170659, 170660, 170877, 170878]"
   ]
  },
  {
   "cell_type": "code",
   "execution_count": 3,
   "metadata": {},
   "outputs": [
    {
     "data": {
      "text/plain": [
       "\"df_inSitu = createLabeledDataFrame_list(labels_inSitu, label_heads, ciceroVariables, fitVariables)\\nfor column in df_inSitu.columns:\\n    try:\\n        df_inSitu[column] = df_inSitu[column].astype(float)\\n    except:\\n        pass\\n\\ndf_inSitu.to_pickle('data_save_210610_inSitu.pickle')\""
      ]
     },
     "execution_count": 3,
     "metadata": {},
     "output_type": "execute_result"
    }
   ],
   "source": [
    "\"\"\"ciceroVariables = ['BECHoldTime', 'TOF', 'latticeDepth_final', 'latticeDetuning', 'compz_rotation', 'ODT3_Comp_final', 'dummy']\n",
    "fitVariables = ['nCount', 'xWidth', 'yWidth', 'xPos', 'yPos']\n",
    "\n",
    "df_TOF = createLabeledDataFrame_list(labels_TOF, label_heads, ciceroVariables, fitVariables)\n",
    "for column in df_TOF.columns:\n",
    "    try:\n",
    "        df_TOF[column] = df_TOF[column].astype(float)\n",
    "    except:\n",
    "        pass\n",
    "df_TOF.to_pickle('data_save_210617.pickle')\"\"\"\n",
    "\n",
    "\"\"\"df_inSitu = createLabeledDataFrame_list(labels_inSitu, label_heads, ciceroVariables, fitVariables)\n",
    "for column in df_inSitu.columns:\n",
    "    try:\n",
    "        df_inSitu[column] = df_inSitu[column].astype(float)\n",
    "    except:\n",
    "        pass\n",
    "\n",
    "df_inSitu.to_pickle('data_save_210610_inSitu.pickle')\"\"\""
   ]
  },
  {
   "cell_type": "code",
   "execution_count": 4,
   "metadata": {},
   "outputs": [],
   "source": [
    "df_TOF = pd.read_pickle('data_save_210617.pickle')\n",
    "#df_TOF = df_TOF[df_TOF['imageID'] < 169640]\n",
    "#df_inSitu = pd.read_pickle('data_save_210604_inSitu.pickle')\n",
    "df_inSitu = pd.read_pickle('data_save_210610_inSitu.pickle')\n",
    "\n",
    "#### Noise filtering\n",
    "#df_TOF = noiseFilter(df_TOF, nMax = np.inf, nMin = 4000, xWidthMax = np.inf, yWidthMax = 100)\n",
    "#df_TOF =  noiseFilter(df_TOF, nMax = np.inf, nMin = 4000, xWidthMax = 100, xWidthMin = 4,  yWidthMax = 100, yWidthMin = 4)\n",
    "\n",
    "#df_TOF =  noiseFilter(df_TOF, nMax = np.inf, nMin = 3000, xWidthMax = 100, xWidthMin = 3,  yWidthMax = 100, yWidthMin = 3)\n",
    "#df_TOF =  noiseFilter(df_TOF, nMax = np.inf, nMin = 6000, xWidthMax = 300, xWidthMin = 3,  yWidthMax = 300, yWidthMin = 3)\n",
    "\n",
    "\n",
    "\n",
    "# add units and renames columns\n",
    "# it add xWidth_um and the inversion between X and Y is performed\n",
    "renameUnits(df_TOF, magnification = 4.38, cameraPixelSize = 6.5, axis = 'horizontal', experiment = 'TOF')\n",
    "renameUnits(df_inSitu, magnification = 6.66, cameraPixelSize = 6.5, axis = 'vertical', experiment = 'inSitu')\n",
    "\n",
    "# Delete these row indexes from dataFrame\n",
    "dropExcluded(df_TOF, excluded)\n",
    "dropExcluded(df_inSitu, excluded)\n",
    "\n",
    "#wrongDetuningNames = pd.Index(np.where(df_inSitu['imageID'].isin(list(range(155465, 155534+1))))[0])\n",
    "#df_inSitu.iloc[wrongDetuningNames, 3] = 20\n"
   ]
  },
  {
   "cell_type": "code",
   "execution_count": 5,
   "metadata": {},
   "outputs": [
    {
     "data": {
      "text/html": [
       "<div>\n",
       "<style scoped>\n",
       "    .dataframe tbody tr th:only-of-type {\n",
       "        vertical-align: middle;\n",
       "    }\n",
       "\n",
       "    .dataframe tbody tr th {\n",
       "        vertical-align: top;\n",
       "    }\n",
       "\n",
       "    .dataframe thead th {\n",
       "        text-align: right;\n",
       "    }\n",
       "</style>\n",
       "<table border=\"1\" class=\"dataframe\">\n",
       "  <thead>\n",
       "    <tr style=\"text-align: right;\">\n",
       "      <th></th>\n",
       "      <th>BECHoldTime</th>\n",
       "      <th>TOF</th>\n",
       "      <th>latticeDepth_mW</th>\n",
       "      <th>latticeDetuning_GHz</th>\n",
       "      <th>compz</th>\n",
       "      <th>ODT3_Comp_final</th>\n",
       "      <th>dummy</th>\n",
       "      <th>nCount</th>\n",
       "      <th>xWidth</th>\n",
       "      <th>yWidth</th>\n",
       "      <th>xPos</th>\n",
       "      <th>yPos</th>\n",
       "      <th>imageID</th>\n",
       "      <th>experiment</th>\n",
       "      <th>ODTFactor</th>\n",
       "      <th>xWidth_TOF_h_um</th>\n",
       "      <th>zWidth_TOF_h_um</th>\n",
       "    </tr>\n",
       "  </thead>\n",
       "  <tbody>\n",
       "  </tbody>\n",
       "</table>\n",
       "</div>"
      ],
      "text/plain": [
       "Empty DataFrame\n",
       "Columns: [BECHoldTime, TOF, latticeDepth_mW, latticeDetuning_GHz, compz, ODT3_Comp_final, dummy, nCount, xWidth, yWidth, xPos, yPos, imageID, experiment, ODTFactor, xWidth_TOF_h_um, zWidth_TOF_h_um]\n",
       "Index: []"
      ]
     },
     "execution_count": 5,
     "metadata": {},
     "output_type": "execute_result"
    }
   ],
   "source": [
    "getSubDF(df_TOF,['latticeDetuning_GHz', 'latticeDepth_mW', 'compz'], [-20, 60, 7.83])"
   ]
  },
  {
   "cell_type": "code",
   "execution_count": 6,
   "metadata": {},
   "outputs": [],
   "source": [
    "computeBareTrapFrequencies(df_TOF, trapFrequency_x, trapFrequency_y, trapFrequency_z, trapFrequency_x_blue, trapFrequency_y_blue)\n",
    "computeBareTrapFrequencies(df_inSitu, trapFrequency_x, trapFrequency_y, trapFrequency_z, trapFrequency_x_blue, trapFrequency_y_blue)\n",
    "\n",
    "computeTrapFrequencies(df_TOF)\n",
    "computeTrapFrequencies(df_inSitu)\n",
    "\n",
    "#temperature = 10*nK\n",
    "#df_inSitu['rWidth_inSitu_v_um'] = np.sqrt(df_inSitu['xWidth_inSitu_v_um']*df_inSitu['yWidth_inSitu_v_um'])\n",
    "#df_inSitu['rWidth_calculated_um'] = np.sqrt(k_B*temperature/(m*df_inSitu['trapFrequencyX_Hz']*df_inSitu['trapFrequencyY_Hz']))/um"
   ]
  },
  {
   "cell_type": "code",
   "execution_count": 7,
   "metadata": {},
   "outputs": [
    {
     "data": {
      "text/html": [
       "<div>\n",
       "<style scoped>\n",
       "    .dataframe tbody tr th:only-of-type {\n",
       "        vertical-align: middle;\n",
       "    }\n",
       "\n",
       "    .dataframe tbody tr th {\n",
       "        vertical-align: top;\n",
       "    }\n",
       "\n",
       "    .dataframe thead th {\n",
       "        text-align: right;\n",
       "    }\n",
       "</style>\n",
       "<table border=\"1\" class=\"dataframe\">\n",
       "  <thead>\n",
       "    <tr style=\"text-align: right;\">\n",
       "      <th></th>\n",
       "      <th>BECHoldTime</th>\n",
       "      <th>TOF</th>\n",
       "      <th>latticeDepth_mW</th>\n",
       "      <th>latticeDetuning_GHz</th>\n",
       "      <th>compz</th>\n",
       "      <th>ODT3_Comp_final</th>\n",
       "      <th>dummy</th>\n",
       "      <th>nCount</th>\n",
       "      <th>xWidth</th>\n",
       "      <th>yWidth</th>\n",
       "      <th>...</th>\n",
       "      <th>experiment</th>\n",
       "      <th>ODTFactor</th>\n",
       "      <th>xWidth_TOF_h_um</th>\n",
       "      <th>zWidth_TOF_h_um</th>\n",
       "      <th>trapFrequencyZ_kHz</th>\n",
       "      <th>deconfiningTrapFrequency_Hz</th>\n",
       "      <th>bareTrapFrequencyX_Hz</th>\n",
       "      <th>bareTrapFrequencyY_Hz</th>\n",
       "      <th>trapFrequencyX_Hz</th>\n",
       "      <th>trapFrequencyY_Hz</th>\n",
       "    </tr>\n",
       "  </thead>\n",
       "  <tbody>\n",
       "    <tr>\n",
       "      <th>0</th>\n",
       "      <td>5000.0</td>\n",
       "      <td>10.0</td>\n",
       "      <td>0.5</td>\n",
       "      <td>-10.0</td>\n",
       "      <td>7.40</td>\n",
       "      <td>0.76</td>\n",
       "      <td>2.0</td>\n",
       "      <td>6204.0</td>\n",
       "      <td>56.6942</td>\n",
       "      <td>192.0320</td>\n",
       "      <td>...</td>\n",
       "      <td>TOF</td>\n",
       "      <td>8.0</td>\n",
       "      <td>284.978995</td>\n",
       "      <td>84.135228</td>\n",
       "      <td>6.103061</td>\n",
       "      <td>22.719868</td>\n",
       "      <td>197.989899</td>\n",
       "      <td>79.195959</td>\n",
       "      <td>201.542232</td>\n",
       "      <td>87.699894</td>\n",
       "    </tr>\n",
       "    <tr>\n",
       "      <th>2</th>\n",
       "      <td>3000.0</td>\n",
       "      <td>10.0</td>\n",
       "      <td>0.2</td>\n",
       "      <td>-10.0</td>\n",
       "      <td>7.40</td>\n",
       "      <td>0.76</td>\n",
       "      <td>2.0</td>\n",
       "      <td>21283.0</td>\n",
       "      <td>44.2253</td>\n",
       "      <td>46.6182</td>\n",
       "      <td>...</td>\n",
       "      <td>TOF</td>\n",
       "      <td>8.0</td>\n",
       "      <td>69.182260</td>\n",
       "      <td>65.631153</td>\n",
       "      <td>3.859915</td>\n",
       "      <td>18.068446</td>\n",
       "      <td>197.989899</td>\n",
       "      <td>79.195959</td>\n",
       "      <td>199.418426</td>\n",
       "      <td>82.702530</td>\n",
       "    </tr>\n",
       "    <tr>\n",
       "      <th>3</th>\n",
       "      <td>500.0</td>\n",
       "      <td>10.0</td>\n",
       "      <td>0.5</td>\n",
       "      <td>-10.0</td>\n",
       "      <td>7.40</td>\n",
       "      <td>0.76</td>\n",
       "      <td>1.0</td>\n",
       "      <td>29513.0</td>\n",
       "      <td>39.8866</td>\n",
       "      <td>40.5755</td>\n",
       "      <td>...</td>\n",
       "      <td>TOF</td>\n",
       "      <td>8.0</td>\n",
       "      <td>60.214783</td>\n",
       "      <td>59.192443</td>\n",
       "      <td>6.103061</td>\n",
       "      <td>22.719868</td>\n",
       "      <td>197.989899</td>\n",
       "      <td>79.195959</td>\n",
       "      <td>201.542232</td>\n",
       "      <td>87.699894</td>\n",
       "    </tr>\n",
       "    <tr>\n",
       "      <th>4</th>\n",
       "      <td>4000.0</td>\n",
       "      <td>10.0</td>\n",
       "      <td>0.2</td>\n",
       "      <td>-10.0</td>\n",
       "      <td>7.40</td>\n",
       "      <td>0.76</td>\n",
       "      <td>1.0</td>\n",
       "      <td>21723.0</td>\n",
       "      <td>49.0479</td>\n",
       "      <td>55.1033</td>\n",
       "      <td>...</td>\n",
       "      <td>TOF</td>\n",
       "      <td>8.0</td>\n",
       "      <td>81.774304</td>\n",
       "      <td>72.787979</td>\n",
       "      <td>3.859915</td>\n",
       "      <td>18.068446</td>\n",
       "      <td>197.989899</td>\n",
       "      <td>79.195959</td>\n",
       "      <td>199.418426</td>\n",
       "      <td>82.702530</td>\n",
       "    </tr>\n",
       "    <tr>\n",
       "      <th>5</th>\n",
       "      <td>0.0</td>\n",
       "      <td>10.0</td>\n",
       "      <td>0.2</td>\n",
       "      <td>-10.0</td>\n",
       "      <td>7.40</td>\n",
       "      <td>0.76</td>\n",
       "      <td>2.0</td>\n",
       "      <td>36465.0</td>\n",
       "      <td>29.0167</td>\n",
       "      <td>32.8457</td>\n",
       "      <td>...</td>\n",
       "      <td>TOF</td>\n",
       "      <td>8.0</td>\n",
       "      <td>48.743619</td>\n",
       "      <td>43.061313</td>\n",
       "      <td>3.859915</td>\n",
       "      <td>18.068446</td>\n",
       "      <td>197.989899</td>\n",
       "      <td>79.195959</td>\n",
       "      <td>199.418426</td>\n",
       "      <td>82.702530</td>\n",
       "    </tr>\n",
       "    <tr>\n",
       "      <th>...</th>\n",
       "      <td>...</td>\n",
       "      <td>...</td>\n",
       "      <td>...</td>\n",
       "      <td>...</td>\n",
       "      <td>...</td>\n",
       "      <td>...</td>\n",
       "      <td>...</td>\n",
       "      <td>...</td>\n",
       "      <td>...</td>\n",
       "      <td>...</td>\n",
       "      <td>...</td>\n",
       "      <td>...</td>\n",
       "      <td>...</td>\n",
       "      <td>...</td>\n",
       "      <td>...</td>\n",
       "      <td>...</td>\n",
       "      <td>...</td>\n",
       "      <td>...</td>\n",
       "      <td>...</td>\n",
       "      <td>...</td>\n",
       "      <td>...</td>\n",
       "    </tr>\n",
       "    <tr>\n",
       "      <th>312</th>\n",
       "      <td>5.0</td>\n",
       "      <td>7.0</td>\n",
       "      <td>0.2</td>\n",
       "      <td>-10.0</td>\n",
       "      <td>7.83</td>\n",
       "      <td>0.76</td>\n",
       "      <td>1.0</td>\n",
       "      <td>15514.0</td>\n",
       "      <td>20.7784</td>\n",
       "      <td>17.5020</td>\n",
       "      <td>...</td>\n",
       "      <td>TOF</td>\n",
       "      <td>8.0</td>\n",
       "      <td>25.973288</td>\n",
       "      <td>30.835525</td>\n",
       "      <td>3.859915</td>\n",
       "      <td>18.068446</td>\n",
       "      <td>197.989899</td>\n",
       "      <td>79.195959</td>\n",
       "      <td>199.418426</td>\n",
       "      <td>82.702530</td>\n",
       "    </tr>\n",
       "    <tr>\n",
       "      <th>313</th>\n",
       "      <td>0.0</td>\n",
       "      <td>7.0</td>\n",
       "      <td>0.2</td>\n",
       "      <td>-10.0</td>\n",
       "      <td>7.83</td>\n",
       "      <td>0.76</td>\n",
       "      <td>1.0</td>\n",
       "      <td>21762.0</td>\n",
       "      <td>20.0059</td>\n",
       "      <td>23.8151</td>\n",
       "      <td>...</td>\n",
       "      <td>TOF</td>\n",
       "      <td>8.0</td>\n",
       "      <td>35.342043</td>\n",
       "      <td>29.689121</td>\n",
       "      <td>3.859915</td>\n",
       "      <td>18.068446</td>\n",
       "      <td>197.989899</td>\n",
       "      <td>79.195959</td>\n",
       "      <td>199.418426</td>\n",
       "      <td>82.702530</td>\n",
       "    </tr>\n",
       "    <tr>\n",
       "      <th>314</th>\n",
       "      <td>0.0</td>\n",
       "      <td>7.0</td>\n",
       "      <td>1.0</td>\n",
       "      <td>-10.0</td>\n",
       "      <td>7.83</td>\n",
       "      <td>0.76</td>\n",
       "      <td>2.0</td>\n",
       "      <td>12193.0</td>\n",
       "      <td>21.7776</td>\n",
       "      <td>20.2548</td>\n",
       "      <td>...</td>\n",
       "      <td>TOF</td>\n",
       "      <td>8.0</td>\n",
       "      <td>30.058493</td>\n",
       "      <td>32.318356</td>\n",
       "      <td>8.631032</td>\n",
       "      <td>27.018628</td>\n",
       "      <td>197.989899</td>\n",
       "      <td>79.195959</td>\n",
       "      <td>205.033028</td>\n",
       "      <td>95.449163</td>\n",
       "    </tr>\n",
       "    <tr>\n",
       "      <th>315</th>\n",
       "      <td>3.0</td>\n",
       "      <td>7.0</td>\n",
       "      <td>0.5</td>\n",
       "      <td>-10.0</td>\n",
       "      <td>7.83</td>\n",
       "      <td>0.76</td>\n",
       "      <td>1.0</td>\n",
       "      <td>21076.0</td>\n",
       "      <td>21.3840</td>\n",
       "      <td>20.7395</td>\n",
       "      <td>...</td>\n",
       "      <td>TOF</td>\n",
       "      <td>8.0</td>\n",
       "      <td>30.777797</td>\n",
       "      <td>31.734247</td>\n",
       "      <td>6.103061</td>\n",
       "      <td>22.719868</td>\n",
       "      <td>197.989899</td>\n",
       "      <td>79.195959</td>\n",
       "      <td>201.542232</td>\n",
       "      <td>87.699894</td>\n",
       "    </tr>\n",
       "    <tr>\n",
       "      <th>316</th>\n",
       "      <td>15.0</td>\n",
       "      <td>7.0</td>\n",
       "      <td>1.0</td>\n",
       "      <td>-10.0</td>\n",
       "      <td>7.83</td>\n",
       "      <td>0.76</td>\n",
       "      <td>1.0</td>\n",
       "      <td>15159.0</td>\n",
       "      <td>22.3614</td>\n",
       "      <td>20.1174</td>\n",
       "      <td>...</td>\n",
       "      <td>TOF</td>\n",
       "      <td>8.0</td>\n",
       "      <td>29.854589</td>\n",
       "      <td>33.184726</td>\n",
       "      <td>8.631032</td>\n",
       "      <td>27.018628</td>\n",
       "      <td>197.989899</td>\n",
       "      <td>79.195959</td>\n",
       "      <td>205.033028</td>\n",
       "      <td>95.449163</td>\n",
       "    </tr>\n",
       "  </tbody>\n",
       "</table>\n",
       "<p>310 rows × 23 columns</p>\n",
       "</div>"
      ],
      "text/plain": [
       "     BECHoldTime   TOF  latticeDepth_mW  latticeDetuning_GHz  compz  \\\n",
       "0         5000.0  10.0              0.5                -10.0   7.40   \n",
       "2         3000.0  10.0              0.2                -10.0   7.40   \n",
       "3          500.0  10.0              0.5                -10.0   7.40   \n",
       "4         4000.0  10.0              0.2                -10.0   7.40   \n",
       "5            0.0  10.0              0.2                -10.0   7.40   \n",
       "..           ...   ...              ...                  ...    ...   \n",
       "312          5.0   7.0              0.2                -10.0   7.83   \n",
       "313          0.0   7.0              0.2                -10.0   7.83   \n",
       "314          0.0   7.0              1.0                -10.0   7.83   \n",
       "315          3.0   7.0              0.5                -10.0   7.83   \n",
       "316         15.0   7.0              1.0                -10.0   7.83   \n",
       "\n",
       "     ODT3_Comp_final  dummy   nCount   xWidth    yWidth  ...  experiment  \\\n",
       "0               0.76    2.0   6204.0  56.6942  192.0320  ...         TOF   \n",
       "2               0.76    2.0  21283.0  44.2253   46.6182  ...         TOF   \n",
       "3               0.76    1.0  29513.0  39.8866   40.5755  ...         TOF   \n",
       "4               0.76    1.0  21723.0  49.0479   55.1033  ...         TOF   \n",
       "5               0.76    2.0  36465.0  29.0167   32.8457  ...         TOF   \n",
       "..               ...    ...      ...      ...       ...  ...         ...   \n",
       "312             0.76    1.0  15514.0  20.7784   17.5020  ...         TOF   \n",
       "313             0.76    1.0  21762.0  20.0059   23.8151  ...         TOF   \n",
       "314             0.76    2.0  12193.0  21.7776   20.2548  ...         TOF   \n",
       "315             0.76    1.0  21076.0  21.3840   20.7395  ...         TOF   \n",
       "316             0.76    1.0  15159.0  22.3614   20.1174  ...         TOF   \n",
       "\n",
       "     ODTFactor  xWidth_TOF_h_um zWidth_TOF_h_um  trapFrequencyZ_kHz  \\\n",
       "0          8.0       284.978995       84.135228            6.103061   \n",
       "2          8.0        69.182260       65.631153            3.859915   \n",
       "3          8.0        60.214783       59.192443            6.103061   \n",
       "4          8.0        81.774304       72.787979            3.859915   \n",
       "5          8.0        48.743619       43.061313            3.859915   \n",
       "..         ...              ...             ...                 ...   \n",
       "312        8.0        25.973288       30.835525            3.859915   \n",
       "313        8.0        35.342043       29.689121            3.859915   \n",
       "314        8.0        30.058493       32.318356            8.631032   \n",
       "315        8.0        30.777797       31.734247            6.103061   \n",
       "316        8.0        29.854589       33.184726            8.631032   \n",
       "\n",
       "     deconfiningTrapFrequency_Hz  bareTrapFrequencyX_Hz  \\\n",
       "0                      22.719868             197.989899   \n",
       "2                      18.068446             197.989899   \n",
       "3                      22.719868             197.989899   \n",
       "4                      18.068446             197.989899   \n",
       "5                      18.068446             197.989899   \n",
       "..                           ...                    ...   \n",
       "312                    18.068446             197.989899   \n",
       "313                    18.068446             197.989899   \n",
       "314                    27.018628             197.989899   \n",
       "315                    22.719868             197.989899   \n",
       "316                    27.018628             197.989899   \n",
       "\n",
       "     bareTrapFrequencyY_Hz  trapFrequencyX_Hz  trapFrequencyY_Hz  \n",
       "0                79.195959         201.542232          87.699894  \n",
       "2                79.195959         199.418426          82.702530  \n",
       "3                79.195959         201.542232          87.699894  \n",
       "4                79.195959         199.418426          82.702530  \n",
       "5                79.195959         199.418426          82.702530  \n",
       "..                     ...                ...                ...  \n",
       "312              79.195959         199.418426          82.702530  \n",
       "313              79.195959         199.418426          82.702530  \n",
       "314              79.195959         205.033028          95.449163  \n",
       "315              79.195959         201.542232          87.699894  \n",
       "316              79.195959         205.033028          95.449163  \n",
       "\n",
       "[310 rows x 23 columns]"
      ]
     },
     "execution_count": 7,
     "metadata": {},
     "output_type": "execute_result"
    }
   ],
   "source": [
    "df_TOF"
   ]
  },
  {
   "cell_type": "code",
   "execution_count": 8,
   "metadata": {},
   "outputs": [
    {
     "data": {
      "text/html": [
       "<div>\n",
       "<style scoped>\n",
       "    .dataframe tbody tr th:only-of-type {\n",
       "        vertical-align: middle;\n",
       "    }\n",
       "\n",
       "    .dataframe tbody tr th {\n",
       "        vertical-align: top;\n",
       "    }\n",
       "\n",
       "    .dataframe thead th {\n",
       "        text-align: right;\n",
       "    }\n",
       "</style>\n",
       "<table border=\"1\" class=\"dataframe\">\n",
       "  <thead>\n",
       "    <tr style=\"text-align: right;\">\n",
       "      <th></th>\n",
       "      <th>BECHoldTime</th>\n",
       "      <th>TOF</th>\n",
       "      <th>latticeDepth_mW</th>\n",
       "      <th>latticeDetuning_GHz</th>\n",
       "      <th>compz</th>\n",
       "      <th>ODT3_Comp_final</th>\n",
       "      <th>dummy</th>\n",
       "      <th>nCount</th>\n",
       "      <th>xWidth</th>\n",
       "      <th>yWidth</th>\n",
       "      <th>...</th>\n",
       "      <th>experiment</th>\n",
       "      <th>ODTFactor</th>\n",
       "      <th>xWidth_TOF_h_um</th>\n",
       "      <th>zWidth_TOF_h_um</th>\n",
       "      <th>trapFrequencyZ_kHz</th>\n",
       "      <th>deconfiningTrapFrequency_Hz</th>\n",
       "      <th>bareTrapFrequencyX_Hz</th>\n",
       "      <th>bareTrapFrequencyY_Hz</th>\n",
       "      <th>trapFrequencyX_Hz</th>\n",
       "      <th>trapFrequencyY_Hz</th>\n",
       "    </tr>\n",
       "  </thead>\n",
       "  <tbody>\n",
       "  </tbody>\n",
       "</table>\n",
       "<p>0 rows × 23 columns</p>\n",
       "</div>"
      ],
      "text/plain": [
       "Empty DataFrame\n",
       "Columns: [BECHoldTime, TOF, latticeDepth_mW, latticeDetuning_GHz, compz, ODT3_Comp_final, dummy, nCount, xWidth, yWidth, xPos, yPos, imageID, experiment, ODTFactor, xWidth_TOF_h_um, zWidth_TOF_h_um, trapFrequencyZ_kHz, deconfiningTrapFrequency_Hz, bareTrapFrequencyX_Hz, bareTrapFrequencyY_Hz, trapFrequencyX_Hz, trapFrequencyY_Hz]\n",
       "Index: []\n",
       "\n",
       "[0 rows x 23 columns]"
      ]
     },
     "execution_count": 8,
     "metadata": {},
     "output_type": "execute_result"
    }
   ],
   "source": [
    "df_TOF[(df_TOF['bareTrapFrequencyY_Hz'] < df_TOF['deconfiningTrapFrequency_Hz']) & (df_TOF['latticeDetuning_GHz'] > 0)]"
   ]
  },
  {
   "cell_type": "markdown",
   "metadata": {},
   "source": [
    "I computed that for a blue lattice $\\omega_\\perp^2 = \\frac{\\hbar k\\sqrt{2V_{741}}}{m^{3/2}w_{741}^2} = \\frac{\\hbar k\\sqrt{2\\frac{m\\omega_z^2}{2k^2}}}{m^{3/2}w_{741}^2} = \\frac{\\hbar\\omega_z}{m w_{741}^2}$."
   ]
  },
  {
   "cell_type": "code",
   "execution_count": 9,
   "metadata": {},
   "outputs": [
    {
     "data": {
      "image/png": "[encoded data removed]",
      "text/plain": [
       "<Figure size 432x288 with 1 Axes>"
      ]
     },
     "metadata": {
      "needs_background": "light"
     },
     "output_type": "display_data"
    }
   ],
   "source": [
    "df_temp = getSubDF(df_TOF, ['latticeDetuning_GHz', 'latticeDepth_mW', 'compz'], [-10, 0.2, 7.83])\n",
    "plt.figure()\n",
    "plt.plot(df_temp['BECHoldTime'], df_temp['nCount'], '+')\n",
    "plt.show()"
   ]
  },
  {
   "cell_type": "code",
   "execution_count": 10,
   "metadata": {},
   "outputs": [
    {
     "data": {
      "text/plain": [
       "Index(['BECHoldTime', 'TOF', 'latticeDepth_mW', 'latticeDetuning_GHz', 'compz',\n",
       "       'ODT3_Comp_final', 'dummy', 'nCount', 'xWidth', 'yWidth', 'xPos',\n",
       "       'yPos', 'imageID', 'experiment', 'ODTFactor', 'xWidth_TOF_h_um',\n",
       "       'zWidth_TOF_h_um', 'trapFrequencyZ_kHz', 'deconfiningTrapFrequency_Hz',\n",
       "       'bareTrapFrequencyX_Hz', 'bareTrapFrequencyY_Hz', 'trapFrequencyX_Hz',\n",
       "       'trapFrequencyY_Hz'],\n",
       "      dtype='object')"
      ]
     },
     "execution_count": 10,
     "metadata": {},
     "output_type": "execute_result"
    }
   ],
   "source": [
    "df_TOF.columns"
   ]
  },
  {
   "cell_type": "code",
   "execution_count": 11,
   "metadata": {},
   "outputs": [],
   "source": [
    "latticeDepthList = np.sort(df_inSitu['latticeDepth_mW'].unique())\n",
    "BECHoldTimeList = np.sort(df_inSitu['BECHoldTime'].unique())\n",
    "latticeDetuningList = np.sort(df_inSitu['latticeDetuning_GHz'].unique())\n",
    "compzList = np.sort(df_inSitu['compz'].unique())\n",
    "ODTFactorList = np.sort(df_inSitu['ODTFactor'].unique())\n",
    "ODT3_Comp_finalList = np.sort(df_inSitu['ODT3_Comp_final'].unique())\n",
    "trapFrequencyList = np.sort(df_inSitu['trapFrequencyZ_kHz'].unique())\n",
    "\n",
    "\n",
    "\"\"\"latticeDepthList = np.sort(df['latticeDepth'].unique())\n",
    "BECHoldTimeList = np.sort(df['BECHoldTime'].unique())\n",
    "latticeDetuningList = np.sort(df['latticeDetuning'].unique())\n",
    "compzList = np.sort(df['compz'].unique())\n",
    "ODTFactorList = np.sort(df['ODTFactor'].unique())\"\"\"\n",
    "colors = ['red', 'blue', 'orange', 'black', 'green', 'pink', 'purple']"
   ]
  },
  {
   "cell_type": "code",
   "execution_count": 12,
   "metadata": {},
   "outputs": [
    {
     "data": {
      "text/plain": [
       "array([  0.2,   0.5,   1. ,   5. ,  20. ,  60. , 120. ])"
      ]
     },
     "execution_count": 12,
     "metadata": {},
     "output_type": "execute_result"
    }
   ],
   "source": [
    "latticeDepthList"
   ]
  },
  {
   "cell_type": "code",
   "execution_count": 13,
   "metadata": {},
   "outputs": [],
   "source": [
    "holdTime = 0\n",
    "latticeDetuning = 1\n",
    "df_hold = df_inSitu[df_inSitu['BECHoldTime'] == holdTime]\n",
    "df_hold = df_hold[df_hold['latticeDetuning_GHz'] == latticeDetuning]"
   ]
  },
  {
   "cell_type": "code",
   "execution_count": 14,
   "metadata": {},
   "outputs": [
    {
     "data": {
      "image/png": "[encoded data removed]",
      "text/plain": [
       "<Figure size 432x288 with 1 Axes>"
      ]
     },
     "metadata": {
      "needs_background": "light"
     },
     "output_type": "display_data"
    }
   ],
   "source": [
    "plt.figure()\n",
    "for ODT3_Comp_final in ODT3_Comp_finalList:\n",
    "    df_temp = df_hold[df_hold['ODT3_Comp_final'] == ODT3_Comp_final].groupby(['latticeDepth_mW']).mean()\n",
    "    plt.plot(df_temp['trapFrequencyZ_kHz'], df_temp['yWidth_inSitu_v_um'], 'o', label = ODT3_Comp_final)\n",
    "    #plt.plot(df_temp['trapFrequency'], df_temp['yWidth'], 'x', label = ODT3_Comp_final)\n",
    "plt.xlabel(\"Trap frequency (kHz)\")\n",
    "plt.ylabel(r'Y width ($\\mu$m)')\n",
    "#plt.ylim(0,7)\n",
    "plt.legend()\n",
    "plt.show()"
   ]
  },
  {
   "cell_type": "code",
   "execution_count": 15,
   "metadata": {},
   "outputs": [],
   "source": [
    "holdTime = 0\n",
    "latticeDetuning = 20\n",
    "df_hold = df_inSitu[df_inSitu['BECHoldTime'] == holdTime]"
   ]
  },
  {
   "cell_type": "code",
   "execution_count": 16,
   "metadata": {},
   "outputs": [
    {
     "data": {
      "image/png": "[encoded data removed]",
      "text/plain": [
       "<Figure size 432x288 with 1 Axes>"
      ]
     },
     "metadata": {
      "needs_background": "light"
     },
     "output_type": "display_data"
    }
   ],
   "source": [
    "plt.figure()\n",
    "for ODT3_Comp_final in ODT3_Comp_finalList:\n",
    "    df_temp = df_hold[df_hold['ODT3_Comp_final'] == ODT3_Comp_final].groupby(['trapFrequencyZ_kHz']).mean().reset_index()\n",
    "    plt.plot(df_temp['trapFrequencyZ_kHz'], df_temp['xWidth_inSitu_v_um'], 'o', label = ODT3_Comp_final)\n",
    "    #plt.plot(df_temp['trapFrequency'], df_temp['yWidth'], 'x', label = ODT3_Comp_final)\n",
    "plt.xlabel(\"Trap frequency (kHz)\")\n",
    "plt.ylabel(r'X width ($\\mu$m)')\n",
    "plt.ylim(0,8)\n",
    "plt.legend()\n",
    "plt.show()"
   ]
  },
  {
   "cell_type": "code",
   "execution_count": 17,
   "metadata": {
    "scrolled": true
   },
   "outputs": [
    {
     "data": {
      "image/png": "[encoded data removed]",
      "text/plain": [
       "<Figure size 432x288 with 1 Axes>"
      ]
     },
     "metadata": {
      "needs_background": "light"
     },
     "output_type": "display_data"
    }
   ],
   "source": [
    "latticeDetuning = 5\n",
    "ODT3_Comp_final = 3\n",
    "plt.figure()\n",
    "for latticeDepth in latticeDepthList:\n",
    "    df_temp = getSubDF(df_inSitu, ['ODT3_Comp_final', 'latticeDetuning_GHz'], [ODT3_Comp_final, latticeDetuning])\n",
    "    df_temp = df_temp[df_temp['latticeDepth_mW'] == latticeDepth].groupby(['trapFrequencyZ_kHz', 'BECHoldTime']).mean().reset_index()\n",
    "    plt.plot(df_temp['BECHoldTime'], df_temp['yWidth_inSitu_v_um'], 'o', label = latticeDepth)\n",
    "    #plt.plot(df_temp['trapFrequency'], df_temp['yWidth'], 'x', label = ODT3_Comp_final)\n",
    "plt.ylabel(r'X width ($\\mu$m)')\n",
    "plt.xlabel(r'BEC Hold Time (ms)')\n",
    "plt.ylim(0,8)\n",
    "plt.legend()\n",
    "plt.show()"
   ]
  },
  {
   "cell_type": "code",
   "execution_count": 18,
   "metadata": {},
   "outputs": [
    {
     "data": {
      "image/png": "[encoded data removed]",
      "text/plain": [
       "<Figure size 432x288 with 1 Axes>"
      ]
     },
     "metadata": {
      "needs_background": "light"
     },
     "output_type": "display_data"
    }
   ],
   "source": [
    "df_temp = df_inSitu.copy()\n",
    "df_temp = df_temp.groupby(['ODT3_Comp_final']).mean().reset_index()\n",
    "\n",
    "plt.figure()\n",
    "plt.plot(df_temp['ODT3_Comp_final'], df_temp['xWidth_inSitu_v_um'], 'o', label = 'xWidth')\n",
    "plt.plot(df_temp['ODT3_Comp_final'], df_temp['yWidth_inSitu_v_um'], 'o', label = 'yWidth')\n",
    "plt.xlabel(\"ODT3 Comp PD (V)\")\n",
    "plt.ylabel(r'X width ($\\mu$m)')\n",
    "plt.legend()\n",
    "plt.ylim(0,8)\n",
    "plt.show()"
   ]
  },
  {
   "cell_type": "code",
   "execution_count": 19,
   "metadata": {},
   "outputs": [
    {
     "data": {
      "image/png": "[encoded data removed]",
      "text/plain": [
       "<Figure size 432x288 with 1 Axes>"
      ]
     },
     "metadata": {
      "needs_background": "light"
     },
     "output_type": "display_data"
    }
   ],
   "source": [
    "plt.figure()\n",
    "for trapFrequency in trapFrequencyList:\n",
    "    df_temp = getSubDF(df_inSitu, ['trapFrequencyZ_kHz'], [trapFrequency])\n",
    "    df_temp.groupby(['dummy']).mean().reset_index()\n",
    "    plt.plot(df_temp['ODT3_Comp_final'], df_temp['xWidth_inSitu_v_um'], 'o', label = trapFrequency)\n",
    "    #plt.plot(df_temp['trapFrequency'], df_temp['yWidth'], 'x', label = ODT3_Comp_final)\n",
    "plt.xlabel(\"ODT3 Comp PD (V)\")\n",
    "plt.ylabel(r'X width ($\\mu$m)')\n",
    "plt.ylim(0,8)\n",
    "plt.legend()\n",
    "plt.show()"
   ]
  },
  {
   "cell_type": "code",
   "execution_count": 20,
   "metadata": {},
   "outputs": [
    {
     "name": "stderr",
     "output_type": "stream",
     "text": [
      "<ipython-input-20-e1873cc93b64>:11: MatplotlibDeprecationWarning: shading='flat' when X and Y have the same dimensions as C is deprecated since 3.3.  Either specify the corners of the quadrilaterals with X and Y, or pass shading='auto', 'nearest' or 'gouraud', or set rcParams['pcolor.shading'].  This will become an error two minor releases later.\n",
      "  plt.pcolor(X, Y, Z, vmin = 2, vmax = Z.mean()*1.2)\n"
     ]
    },
    {
     "data": {
      "image/png": "[encoded data removed]",
      "text/plain": [
       "<Figure size 432x288 with 2 Axes>"
      ]
     },
     "metadata": {
      "needs_background": "light"
     },
     "output_type": "display_data"
    }
   ],
   "source": [
    "holdTime = 0\n",
    "df_hold = getSubDF(df_inSitu, ['BECHoldTime'], [holdTime])\n",
    "df_hold_color = df_hold.sort_values(['trapFrequencyZ_kHz', 'ODT3_Comp_final']).groupby(['trapFrequencyZ_kHz', 'ODT3_Comp_final']).mean()\n",
    "x = np.array(trapFrequencyList)\n",
    "y = np.array(ODT3_Comp_finalList)\n",
    "z = np.array(df_hold_color['yWidth_inSitu_v_um'])\n",
    "\n",
    "X, Y = np.meshgrid(x, y)\n",
    "Z = z.reshape(len(y), len(x))\n",
    "\n",
    "plt.pcolor(X, Y, Z, vmin = 2, vmax = Z.mean()*1.2)\n",
    "plt.colorbar()\n",
    "plt.show()"
   ]
  },
  {
   "cell_type": "code",
   "execution_count": 21,
   "metadata": {},
   "outputs": [
    {
     "name": "stderr",
     "output_type": "stream",
     "text": [
      "<ipython-input-21-de5b627e6a27>:11: MatplotlibDeprecationWarning: shading='flat' when X and Y have the same dimensions as C is deprecated since 3.3.  Either specify the corners of the quadrilaterals with X and Y, or pass shading='auto', 'nearest' or 'gouraud', or set rcParams['pcolor.shading'].  This will become an error two minor releases later.\n",
      "  plt.pcolor(X, Y, Z, vmin = 2, vmax = Z.mean()*1.2)\n"
     ]
    },
    {
     "data": {
      "image/png": "[encoded data removed]",
      "text/plain": [
       "<Figure size 432x288 with 2 Axes>"
      ]
     },
     "metadata": {
      "needs_background": "light"
     },
     "output_type": "display_data"
    }
   ],
   "source": [
    "holdTime = 0\n",
    "df_hold = df_inSitu[df_inSitu['BECHoldTime'] == holdTime]\n",
    "df_hold_color = df_hold.sort_values(['trapFrequencyZ_kHz', 'ODT3_Comp_final']).groupby(['trapFrequencyZ_kHz', 'ODT3_Comp_final']).mean()\n",
    "x = np.array(trapFrequencyList)/(2*np.pi*10**3)\n",
    "y = np.array(ODT3_Comp_finalList)\n",
    "z = np.array(df_hold_color['xWidth_inSitu_v_um'])\n",
    "\n",
    "X, Y = np.meshgrid(x, y)\n",
    "Z = z.reshape(len(y), len(x))\n",
    "\n",
    "plt.pcolor(X, Y, Z, vmin = 2, vmax = Z.mean()*1.2)\n",
    "plt.colorbar()\n",
    "plt.show()"
   ]
  },
  {
   "cell_type": "code",
   "execution_count": 22,
   "metadata": {},
   "outputs": [
    {
     "data": {
      "text/plain": [
       "[<matplotlib.lines.Line2D at 0x1291173d0>]"
      ]
     },
     "execution_count": 22,
     "metadata": {},
     "output_type": "execute_result"
    },
    {
     "data": {
      "image/png": "[encoded data removed]",
      "text/plain": [
       "<Figure size 432x288 with 1 Axes>"
      ]
     },
     "metadata": {
      "needs_background": "light"
     },
     "output_type": "display_data"
    }
   ],
   "source": [
    "BECHoldTimeComp = 0\n",
    "ODT3_Comp_final = 3\n",
    "listRatio = []\n",
    "plt.figure()\n",
    "for latticeDetuning_GHz in latticeDetuningList:\n",
    "    for latticeDepth_mW in latticeDepthList:\n",
    "        df_temp = getSubDF(df_inSitu, ['latticeDetuning_GHz', 'latticeDepth_mW', 'ODT3_Comp_final'], [latticeDetuning_GHz, latticeDepth_mW, ODT3_Comp_final]).groupby(['BECHoldTime']).mean().reset_index()\n",
    "        xInit = df_temp[df_temp['BECHoldTime'] == 0]['xWidth_inSitu_v_um'].mean()\n",
    "        xFinal = df_temp[df_temp['BECHoldTime'] == BECHoldTimeComp]['xWidth_inSitu_v_um'].mean()\n",
    "        listRatio += [xFinal/xInit]\n",
    "        plt.plot([1]*len(listRatio))\n",
    "plt.ylim(0, 3)\n",
    "plt.plot(listRatio)"
   ]
  },
  {
   "cell_type": "code",
   "execution_count": 23,
   "metadata": {},
   "outputs": [
    {
     "data": {
      "text/html": [
       "<div>\n",
       "<style scoped>\n",
       "    .dataframe tbody tr th:only-of-type {\n",
       "        vertical-align: middle;\n",
       "    }\n",
       "\n",
       "    .dataframe tbody tr th {\n",
       "        vertical-align: top;\n",
       "    }\n",
       "\n",
       "    .dataframe thead th {\n",
       "        text-align: right;\n",
       "    }\n",
       "</style>\n",
       "<table border=\"1\" class=\"dataframe\">\n",
       "  <thead>\n",
       "    <tr style=\"text-align: right;\">\n",
       "      <th></th>\n",
       "      <th>BECHoldTime</th>\n",
       "      <th>TOF</th>\n",
       "      <th>latticeDepth_mW</th>\n",
       "      <th>latticeDetuning_GHz</th>\n",
       "      <th>compz</th>\n",
       "      <th>ODT3_Comp_final</th>\n",
       "      <th>dummy</th>\n",
       "      <th>nCount</th>\n",
       "      <th>xWidth</th>\n",
       "      <th>yWidth</th>\n",
       "      <th>...</th>\n",
       "      <th>experiment</th>\n",
       "      <th>ODTFactor</th>\n",
       "      <th>xWidth_TOF_h_um</th>\n",
       "      <th>zWidth_TOF_h_um</th>\n",
       "      <th>trapFrequencyZ_kHz</th>\n",
       "      <th>deconfiningTrapFrequency_Hz</th>\n",
       "      <th>bareTrapFrequencyX_Hz</th>\n",
       "      <th>bareTrapFrequencyY_Hz</th>\n",
       "      <th>trapFrequencyX_Hz</th>\n",
       "      <th>trapFrequencyY_Hz</th>\n",
       "    </tr>\n",
       "  </thead>\n",
       "  <tbody>\n",
       "    <tr>\n",
       "      <th>0</th>\n",
       "      <td>5000.0</td>\n",
       "      <td>10.0</td>\n",
       "      <td>0.5</td>\n",
       "      <td>-10.0</td>\n",
       "      <td>7.40</td>\n",
       "      <td>0.76</td>\n",
       "      <td>2.0</td>\n",
       "      <td>6204.0</td>\n",
       "      <td>56.6942</td>\n",
       "      <td>192.0320</td>\n",
       "      <td>...</td>\n",
       "      <td>TOF</td>\n",
       "      <td>8.0</td>\n",
       "      <td>284.978995</td>\n",
       "      <td>84.135228</td>\n",
       "      <td>6.103061</td>\n",
       "      <td>22.719868</td>\n",
       "      <td>197.989899</td>\n",
       "      <td>79.195959</td>\n",
       "      <td>201.542232</td>\n",
       "      <td>87.699894</td>\n",
       "    </tr>\n",
       "    <tr>\n",
       "      <th>2</th>\n",
       "      <td>3000.0</td>\n",
       "      <td>10.0</td>\n",
       "      <td>0.2</td>\n",
       "      <td>-10.0</td>\n",
       "      <td>7.40</td>\n",
       "      <td>0.76</td>\n",
       "      <td>2.0</td>\n",
       "      <td>21283.0</td>\n",
       "      <td>44.2253</td>\n",
       "      <td>46.6182</td>\n",
       "      <td>...</td>\n",
       "      <td>TOF</td>\n",
       "      <td>8.0</td>\n",
       "      <td>69.182260</td>\n",
       "      <td>65.631153</td>\n",
       "      <td>3.859915</td>\n",
       "      <td>18.068446</td>\n",
       "      <td>197.989899</td>\n",
       "      <td>79.195959</td>\n",
       "      <td>199.418426</td>\n",
       "      <td>82.702530</td>\n",
       "    </tr>\n",
       "    <tr>\n",
       "      <th>3</th>\n",
       "      <td>500.0</td>\n",
       "      <td>10.0</td>\n",
       "      <td>0.5</td>\n",
       "      <td>-10.0</td>\n",
       "      <td>7.40</td>\n",
       "      <td>0.76</td>\n",
       "      <td>1.0</td>\n",
       "      <td>29513.0</td>\n",
       "      <td>39.8866</td>\n",
       "      <td>40.5755</td>\n",
       "      <td>...</td>\n",
       "      <td>TOF</td>\n",
       "      <td>8.0</td>\n",
       "      <td>60.214783</td>\n",
       "      <td>59.192443</td>\n",
       "      <td>6.103061</td>\n",
       "      <td>22.719868</td>\n",
       "      <td>197.989899</td>\n",
       "      <td>79.195959</td>\n",
       "      <td>201.542232</td>\n",
       "      <td>87.699894</td>\n",
       "    </tr>\n",
       "    <tr>\n",
       "      <th>4</th>\n",
       "      <td>4000.0</td>\n",
       "      <td>10.0</td>\n",
       "      <td>0.2</td>\n",
       "      <td>-10.0</td>\n",
       "      <td>7.40</td>\n",
       "      <td>0.76</td>\n",
       "      <td>1.0</td>\n",
       "      <td>21723.0</td>\n",
       "      <td>49.0479</td>\n",
       "      <td>55.1033</td>\n",
       "      <td>...</td>\n",
       "      <td>TOF</td>\n",
       "      <td>8.0</td>\n",
       "      <td>81.774304</td>\n",
       "      <td>72.787979</td>\n",
       "      <td>3.859915</td>\n",
       "      <td>18.068446</td>\n",
       "      <td>197.989899</td>\n",
       "      <td>79.195959</td>\n",
       "      <td>199.418426</td>\n",
       "      <td>82.702530</td>\n",
       "    </tr>\n",
       "    <tr>\n",
       "      <th>5</th>\n",
       "      <td>0.0</td>\n",
       "      <td>10.0</td>\n",
       "      <td>0.2</td>\n",
       "      <td>-10.0</td>\n",
       "      <td>7.40</td>\n",
       "      <td>0.76</td>\n",
       "      <td>2.0</td>\n",
       "      <td>36465.0</td>\n",
       "      <td>29.0167</td>\n",
       "      <td>32.8457</td>\n",
       "      <td>...</td>\n",
       "      <td>TOF</td>\n",
       "      <td>8.0</td>\n",
       "      <td>48.743619</td>\n",
       "      <td>43.061313</td>\n",
       "      <td>3.859915</td>\n",
       "      <td>18.068446</td>\n",
       "      <td>197.989899</td>\n",
       "      <td>79.195959</td>\n",
       "      <td>199.418426</td>\n",
       "      <td>82.702530</td>\n",
       "    </tr>\n",
       "    <tr>\n",
       "      <th>...</th>\n",
       "      <td>...</td>\n",
       "      <td>...</td>\n",
       "      <td>...</td>\n",
       "      <td>...</td>\n",
       "      <td>...</td>\n",
       "      <td>...</td>\n",
       "      <td>...</td>\n",
       "      <td>...</td>\n",
       "      <td>...</td>\n",
       "      <td>...</td>\n",
       "      <td>...</td>\n",
       "      <td>...</td>\n",
       "      <td>...</td>\n",
       "      <td>...</td>\n",
       "      <td>...</td>\n",
       "      <td>...</td>\n",
       "      <td>...</td>\n",
       "      <td>...</td>\n",
       "      <td>...</td>\n",
       "      <td>...</td>\n",
       "      <td>...</td>\n",
       "    </tr>\n",
       "    <tr>\n",
       "      <th>312</th>\n",
       "      <td>5.0</td>\n",
       "      <td>7.0</td>\n",
       "      <td>0.2</td>\n",
       "      <td>-10.0</td>\n",
       "      <td>7.83</td>\n",
       "      <td>0.76</td>\n",
       "      <td>1.0</td>\n",
       "      <td>15514.0</td>\n",
       "      <td>20.7784</td>\n",
       "      <td>17.5020</td>\n",
       "      <td>...</td>\n",
       "      <td>TOF</td>\n",
       "      <td>8.0</td>\n",
       "      <td>25.973288</td>\n",
       "      <td>30.835525</td>\n",
       "      <td>3.859915</td>\n",
       "      <td>18.068446</td>\n",
       "      <td>197.989899</td>\n",
       "      <td>79.195959</td>\n",
       "      <td>199.418426</td>\n",
       "      <td>82.702530</td>\n",
       "    </tr>\n",
       "    <tr>\n",
       "      <th>313</th>\n",
       "      <td>0.0</td>\n",
       "      <td>7.0</td>\n",
       "      <td>0.2</td>\n",
       "      <td>-10.0</td>\n",
       "      <td>7.83</td>\n",
       "      <td>0.76</td>\n",
       "      <td>1.0</td>\n",
       "      <td>21762.0</td>\n",
       "      <td>20.0059</td>\n",
       "      <td>23.8151</td>\n",
       "      <td>...</td>\n",
       "      <td>TOF</td>\n",
       "      <td>8.0</td>\n",
       "      <td>35.342043</td>\n",
       "      <td>29.689121</td>\n",
       "      <td>3.859915</td>\n",
       "      <td>18.068446</td>\n",
       "      <td>197.989899</td>\n",
       "      <td>79.195959</td>\n",
       "      <td>199.418426</td>\n",
       "      <td>82.702530</td>\n",
       "    </tr>\n",
       "    <tr>\n",
       "      <th>314</th>\n",
       "      <td>0.0</td>\n",
       "      <td>7.0</td>\n",
       "      <td>1.0</td>\n",
       "      <td>-10.0</td>\n",
       "      <td>7.83</td>\n",
       "      <td>0.76</td>\n",
       "      <td>2.0</td>\n",
       "      <td>12193.0</td>\n",
       "      <td>21.7776</td>\n",
       "      <td>20.2548</td>\n",
       "      <td>...</td>\n",
       "      <td>TOF</td>\n",
       "      <td>8.0</td>\n",
       "      <td>30.058493</td>\n",
       "      <td>32.318356</td>\n",
       "      <td>8.631032</td>\n",
       "      <td>27.018628</td>\n",
       "      <td>197.989899</td>\n",
       "      <td>79.195959</td>\n",
       "      <td>205.033028</td>\n",
       "      <td>95.449163</td>\n",
       "    </tr>\n",
       "    <tr>\n",
       "      <th>315</th>\n",
       "      <td>3.0</td>\n",
       "      <td>7.0</td>\n",
       "      <td>0.5</td>\n",
       "      <td>-10.0</td>\n",
       "      <td>7.83</td>\n",
       "      <td>0.76</td>\n",
       "      <td>1.0</td>\n",
       "      <td>21076.0</td>\n",
       "      <td>21.3840</td>\n",
       "      <td>20.7395</td>\n",
       "      <td>...</td>\n",
       "      <td>TOF</td>\n",
       "      <td>8.0</td>\n",
       "      <td>30.777797</td>\n",
       "      <td>31.734247</td>\n",
       "      <td>6.103061</td>\n",
       "      <td>22.719868</td>\n",
       "      <td>197.989899</td>\n",
       "      <td>79.195959</td>\n",
       "      <td>201.542232</td>\n",
       "      <td>87.699894</td>\n",
       "    </tr>\n",
       "    <tr>\n",
       "      <th>316</th>\n",
       "      <td>15.0</td>\n",
       "      <td>7.0</td>\n",
       "      <td>1.0</td>\n",
       "      <td>-10.0</td>\n",
       "      <td>7.83</td>\n",
       "      <td>0.76</td>\n",
       "      <td>1.0</td>\n",
       "      <td>15159.0</td>\n",
       "      <td>22.3614</td>\n",
       "      <td>20.1174</td>\n",
       "      <td>...</td>\n",
       "      <td>TOF</td>\n",
       "      <td>8.0</td>\n",
       "      <td>29.854589</td>\n",
       "      <td>33.184726</td>\n",
       "      <td>8.631032</td>\n",
       "      <td>27.018628</td>\n",
       "      <td>197.989899</td>\n",
       "      <td>79.195959</td>\n",
       "      <td>205.033028</td>\n",
       "      <td>95.449163</td>\n",
       "    </tr>\n",
       "  </tbody>\n",
       "</table>\n",
       "<p>310 rows × 23 columns</p>\n",
       "</div>"
      ],
      "text/plain": [
       "     BECHoldTime   TOF  latticeDepth_mW  latticeDetuning_GHz  compz  \\\n",
       "0         5000.0  10.0              0.5                -10.0   7.40   \n",
       "2         3000.0  10.0              0.2                -10.0   7.40   \n",
       "3          500.0  10.0              0.5                -10.0   7.40   \n",
       "4         4000.0  10.0              0.2                -10.0   7.40   \n",
       "5            0.0  10.0              0.2                -10.0   7.40   \n",
       "..           ...   ...              ...                  ...    ...   \n",
       "312          5.0   7.0              0.2                -10.0   7.83   \n",
       "313          0.0   7.0              0.2                -10.0   7.83   \n",
       "314          0.0   7.0              1.0                -10.0   7.83   \n",
       "315          3.0   7.0              0.5                -10.0   7.83   \n",
       "316         15.0   7.0              1.0                -10.0   7.83   \n",
       "\n",
       "     ODT3_Comp_final  dummy   nCount   xWidth    yWidth  ...  experiment  \\\n",
       "0               0.76    2.0   6204.0  56.6942  192.0320  ...         TOF   \n",
       "2               0.76    2.0  21283.0  44.2253   46.6182  ...         TOF   \n",
       "3               0.76    1.0  29513.0  39.8866   40.5755  ...         TOF   \n",
       "4               0.76    1.0  21723.0  49.0479   55.1033  ...         TOF   \n",
       "5               0.76    2.0  36465.0  29.0167   32.8457  ...         TOF   \n",
       "..               ...    ...      ...      ...       ...  ...         ...   \n",
       "312             0.76    1.0  15514.0  20.7784   17.5020  ...         TOF   \n",
       "313             0.76    1.0  21762.0  20.0059   23.8151  ...         TOF   \n",
       "314             0.76    2.0  12193.0  21.7776   20.2548  ...         TOF   \n",
       "315             0.76    1.0  21076.0  21.3840   20.7395  ...         TOF   \n",
       "316             0.76    1.0  15159.0  22.3614   20.1174  ...         TOF   \n",
       "\n",
       "     ODTFactor  xWidth_TOF_h_um zWidth_TOF_h_um  trapFrequencyZ_kHz  \\\n",
       "0          8.0       284.978995       84.135228            6.103061   \n",
       "2          8.0        69.182260       65.631153            3.859915   \n",
       "3          8.0        60.214783       59.192443            6.103061   \n",
       "4          8.0        81.774304       72.787979            3.859915   \n",
       "5          8.0        48.743619       43.061313            3.859915   \n",
       "..         ...              ...             ...                 ...   \n",
       "312        8.0        25.973288       30.835525            3.859915   \n",
       "313        8.0        35.342043       29.689121            3.859915   \n",
       "314        8.0        30.058493       32.318356            8.631032   \n",
       "315        8.0        30.777797       31.734247            6.103061   \n",
       "316        8.0        29.854589       33.184726            8.631032   \n",
       "\n",
       "     deconfiningTrapFrequency_Hz  bareTrapFrequencyX_Hz  \\\n",
       "0                      22.719868             197.989899   \n",
       "2                      18.068446             197.989899   \n",
       "3                      22.719868             197.989899   \n",
       "4                      18.068446             197.989899   \n",
       "5                      18.068446             197.989899   \n",
       "..                           ...                    ...   \n",
       "312                    18.068446             197.989899   \n",
       "313                    18.068446             197.989899   \n",
       "314                    27.018628             197.989899   \n",
       "315                    22.719868             197.989899   \n",
       "316                    27.018628             197.989899   \n",
       "\n",
       "     bareTrapFrequencyY_Hz  trapFrequencyX_Hz  trapFrequencyY_Hz  \n",
       "0                79.195959         201.542232          87.699894  \n",
       "2                79.195959         199.418426          82.702530  \n",
       "3                79.195959         201.542232          87.699894  \n",
       "4                79.195959         199.418426          82.702530  \n",
       "5                79.195959         199.418426          82.702530  \n",
       "..                     ...                ...                ...  \n",
       "312              79.195959         199.418426          82.702530  \n",
       "313              79.195959         199.418426          82.702530  \n",
       "314              79.195959         205.033028          95.449163  \n",
       "315              79.195959         201.542232          87.699894  \n",
       "316              79.195959         205.033028          95.449163  \n",
       "\n",
       "[310 rows x 23 columns]"
      ]
     },
     "execution_count": 23,
     "metadata": {},
     "output_type": "execute_result"
    }
   ],
   "source": [
    "df_TOF"
   ]
  },
  {
   "cell_type": "code",
   "execution_count": 24,
   "metadata": {},
   "outputs": [
    {
     "data": {
      "text/html": [
       "<div>\n",
       "<style scoped>\n",
       "    .dataframe tbody tr th:only-of-type {\n",
       "        vertical-align: middle;\n",
       "    }\n",
       "\n",
       "    .dataframe tbody tr th {\n",
       "        vertical-align: top;\n",
       "    }\n",
       "\n",
       "    .dataframe thead th {\n",
       "        text-align: right;\n",
       "    }\n",
       "</style>\n",
       "<table border=\"1\" class=\"dataframe\">\n",
       "  <thead>\n",
       "    <tr style=\"text-align: right;\">\n",
       "      <th></th>\n",
       "      <th>latticeDepth_mW</th>\n",
       "      <th>latticeDetuning_GHz</th>\n",
       "      <th>ODTFactor</th>\n",
       "      <th>trapFrequencyX_Hz</th>\n",
       "      <th>trapFrequencyY_Hz</th>\n",
       "    </tr>\n",
       "  </thead>\n",
       "  <tbody>\n",
       "  </tbody>\n",
       "</table>\n",
       "</div>"
      ],
      "text/plain": [
       "Empty DataFrame\n",
       "Columns: [latticeDepth_mW, latticeDetuning_GHz, ODTFactor, trapFrequencyX_Hz, trapFrequencyY_Hz]\n",
       "Index: []"
      ]
     },
     "execution_count": 24,
     "metadata": {},
     "output_type": "execute_result"
    }
   ],
   "source": [
    "df_TOF2 = getSubDF(df_TOF, ['latticeDepth_mW', 'latticeDetuning_GHz'], [0.2, 20])\n",
    "\n",
    "df_TOF2[['latticeDepth_mW', 'latticeDetuning_GHz', 'ODTFactor', 'trapFrequencyX_Hz', 'trapFrequencyY_Hz']]"
   ]
  },
  {
   "cell_type": "code",
   "execution_count": 25,
   "metadata": {},
   "outputs": [
    {
     "data": {
      "text/plain": [
       "Index(['BECHoldTime', 'TOF', 'latticeDepth_mW', 'latticeDetuning_GHz', 'compz',\n",
       "       'ODT3_Comp_final', 'dummy', 'nCount', 'xWidth', 'yWidth', 'xPos',\n",
       "       'yPos', 'imageID', 'experiment', 'ODTFactor', 'xWidth_TOF_h_um',\n",
       "       'zWidth_TOF_h_um', 'trapFrequencyZ_kHz', 'deconfiningTrapFrequency_Hz',\n",
       "       'bareTrapFrequencyX_Hz', 'bareTrapFrequencyY_Hz', 'trapFrequencyX_Hz',\n",
       "       'trapFrequencyY_Hz', 'xWidth_inSitu_v_um', 'yWidth_inSitu_v_um'],\n",
       "      dtype='object')"
      ]
     },
     "execution_count": 25,
     "metadata": {},
     "output_type": "execute_result"
    }
   ],
   "source": [
    "# This is where we choose the different parameter to use from the inSitu measurement\n",
    "\n",
    "ODT3_Comp_final = 3\n",
    "BECHoldTime = 0\n",
    "\n",
    "df_inSitu_mean = getSubDF(df_inSitu, ['BECHoldTime', 'ODT3_Comp_final'], [BECHoldTime, ODT3_Comp_final]).groupby(['latticeDetuning_GHz', 'latticeDepth_mW']).mean().reset_index()\n",
    "df = pd.merge(df_TOF, df_inSitu_mean, how=\"outer\", on=[\"latticeDetuning_GHz\", \"latticeDepth_mW\"], suffixes=('', '_y'))#, validate=\"many_to_many\")\n",
    "df.drop(df.filter(regex='_y$').columns.tolist(),axis=1, inplace=True)\n",
    "#df3.drop_duplicates(cols=['imageID', 'xWidth'],inplace=True)\n",
    "df.columns"
   ]
  },
  {
   "cell_type": "code",
   "execution_count": 26,
   "metadata": {},
   "outputs": [
    {
     "data": {
      "text/plain": [
       "array([], dtype=float64)"
      ]
     },
     "execution_count": 26,
     "metadata": {},
     "output_type": "execute_result"
    }
   ],
   "source": [
    "#df_TOF.head()\n",
    "#df_inSitu_mean.head()\n",
    "df[df['latticeDetuning_GHz'] == -5]['latticeDepth_mW'].unique()"
   ]
  },
  {
   "cell_type": "markdown",
   "metadata": {},
   "source": [
    "# Old stuff"
   ]
  },
  {
   "cell_type": "code",
   "execution_count": 27,
   "metadata": {},
   "outputs": [
    {
     "data": {
      "image/png": "[encoded data removed]",
      "text/plain": [
       "<Figure size 432x288 with 1 Axes>"
      ]
     },
     "metadata": {
      "needs_background": "light"
     },
     "output_type": "display_data"
    }
   ],
   "source": [
    "plt.figure()\n",
    "i = 0\n",
    "for latticeDetuning in latticeDetuningList:\n",
    "    df_temp = getSubDF(df, ['latticeDetuning_GHz'], [latticeDetuning])\n",
    "    plt.plot(df_temp['latticeDepth_mW'], df_temp['deconfiningTrapFrequency_Hz'], 'x', color = colors[i], label = latticeDetuning)\n",
    "    plt.plot(df_temp['latticeDepth_mW'], df_temp['trapFrequencyX_Hz'], 'o', color = colors[i], label = latticeDetuning)\n",
    "    i += 1\n",
    "plt.legend()\n",
    "plt.xlabel('Lattice power (mW)')\n",
    "plt.ylabel('transverse trap frequency (Hz)')\n",
    "plt.show()"
   ]
  },
  {
   "cell_type": "code",
   "execution_count": 28,
   "metadata": {},
   "outputs": [
    {
     "data": {
      "text/html": [
       "<div>\n",
       "<style scoped>\n",
       "    .dataframe tbody tr th:only-of-type {\n",
       "        vertical-align: middle;\n",
       "    }\n",
       "\n",
       "    .dataframe tbody tr th {\n",
       "        vertical-align: top;\n",
       "    }\n",
       "\n",
       "    .dataframe thead th {\n",
       "        text-align: right;\n",
       "    }\n",
       "</style>\n",
       "<table border=\"1\" class=\"dataframe\">\n",
       "  <thead>\n",
       "    <tr style=\"text-align: right;\">\n",
       "      <th></th>\n",
       "      <th>BECHoldTime</th>\n",
       "      <th>TOF</th>\n",
       "      <th>latticeDepth_mW</th>\n",
       "      <th>latticeDetuning_GHz</th>\n",
       "      <th>compz</th>\n",
       "      <th>ODT3_Comp_final</th>\n",
       "      <th>dummy</th>\n",
       "      <th>nCount</th>\n",
       "      <th>xWidth</th>\n",
       "      <th>yWidth</th>\n",
       "      <th>...</th>\n",
       "      <th>xWidth_TOF_h_um</th>\n",
       "      <th>zWidth_TOF_h_um</th>\n",
       "      <th>trapFrequencyZ_kHz</th>\n",
       "      <th>deconfiningTrapFrequency_Hz</th>\n",
       "      <th>bareTrapFrequencyX_Hz</th>\n",
       "      <th>bareTrapFrequencyY_Hz</th>\n",
       "      <th>trapFrequencyX_Hz</th>\n",
       "      <th>trapFrequencyY_Hz</th>\n",
       "      <th>xWidth_inSitu_v_um</th>\n",
       "      <th>yWidth_inSitu_v_um</th>\n",
       "    </tr>\n",
       "  </thead>\n",
       "  <tbody>\n",
       "  </tbody>\n",
       "</table>\n",
       "<p>0 rows × 25 columns</p>\n",
       "</div>"
      ],
      "text/plain": [
       "Empty DataFrame\n",
       "Columns: [BECHoldTime, TOF, latticeDepth_mW, latticeDetuning_GHz, compz, ODT3_Comp_final, dummy, nCount, xWidth, yWidth, xPos, yPos, imageID, experiment, ODTFactor, xWidth_TOF_h_um, zWidth_TOF_h_um, trapFrequencyZ_kHz, deconfiningTrapFrequency_Hz, bareTrapFrequencyX_Hz, bareTrapFrequencyY_Hz, trapFrequencyX_Hz, trapFrequencyY_Hz, xWidth_inSitu_v_um, yWidth_inSitu_v_um]\n",
       "Index: []\n",
       "\n",
       "[0 rows x 25 columns]"
      ]
     },
     "execution_count": 28,
     "metadata": {},
     "output_type": "execute_result"
    }
   ],
   "source": [
    "getSubDF(df, ['latticeDetuning_GHz', 'compz', 'ODTFactor'], [-5, 7.72, 4])"
   ]
  },
  {
   "cell_type": "code",
   "execution_count": 29,
   "metadata": {},
   "outputs": [
    {
     "data": {
      "image/png": "[encoded data removed]",
      "text/plain": [
       "<Figure size 432x288 with 1 Axes>"
      ]
     },
     "metadata": {
      "needs_background": "light"
     },
     "output_type": "display_data"
    }
   ],
   "source": [
    "latticeDetuning = -5\n",
    "compz = 7.4\n",
    "ODTFactor = 4\n",
    "plt.figure()\n",
    "for latticeDepth in [5]:#, 20, 120]:\n",
    "    for ODTFactor in [4]:\n",
    "        df_temp = getSubDF(df, ['latticeDepth_mW', 'latticeDetuning_GHz', 'compz', 'ODTFactor'], [latticeDepth, latticeDetuning, compz, ODTFactor])\n",
    "        plt.plot(df_temp['BECHoldTime'], df_temp['nCount'], '+', label = str(round(latticeDepth, 2)))\n",
    "plt.legend()\n",
    "#plt.ylim(0, 5000)\n",
    "#plt.ylim(0,50000)\n",
    "plt.xlabel('BECHoldTime (ms)')\n",
    "plt.ylabel('nCount')\n",
    "plt.show()"
   ]
  },
  {
   "cell_type": "code",
   "execution_count": 30,
   "metadata": {},
   "outputs": [
    {
     "data": {
      "image/png": "[encoded data removed]",
      "text/plain": [
       "<Figure size 432x288 with 1 Axes>"
      ]
     },
     "metadata": {
      "needs_background": "light"
     },
     "output_type": "display_data"
    }
   ],
   "source": [
    "latticeDetuning = -30\n",
    "plt.figure()\n",
    "for latticeDepth in [0.2]:#, 20, 120]:\n",
    "    df_temp_1 = getSubDF(df, ['latticeDepth_mW', 'latticeDetuning_GHz', 'compz'], [latticeDepth, latticeDetuning, compz_not_lossy])\n",
    "    df_temp_2 = getSubDF(df, ['latticeDepth_mW', 'latticeDetuning_GHz', 'compz'], [latticeDepth, latticeDetuning, compz_lossy])\n",
    "    plt.plot(df_temp_1['BECHoldTime'], df_temp_1['nCount'], '+', label = str(round(latticeDepth, 2)) + ' ' +str(compz_not_lossy))\n",
    "    plt.plot(df_temp_2['BECHoldTime'], df_temp_2['nCount'], '+', label = str(round(latticeDepth, 2)) + ' ' +str(compz_lossy))\n",
    "plt.legend()\n",
    "#plt.ylim(0, 5000)\n",
    "#plt.xlim(0,10)\n",
    "plt.xlabel('BECHoldTime (ms)')\n",
    "plt.ylabel('nCount')\n",
    "plt.show()"
   ]
  },
  {
   "cell_type": "code",
   "execution_count": 31,
   "metadata": {},
   "outputs": [
    {
     "data": {
      "text/html": [
       "<div>\n",
       "<style scoped>\n",
       "    .dataframe tbody tr th:only-of-type {\n",
       "        vertical-align: middle;\n",
       "    }\n",
       "\n",
       "    .dataframe tbody tr th {\n",
       "        vertical-align: top;\n",
       "    }\n",
       "\n",
       "    .dataframe thead th {\n",
       "        text-align: right;\n",
       "    }\n",
       "</style>\n",
       "<table border=\"1\" class=\"dataframe\">\n",
       "  <thead>\n",
       "    <tr style=\"text-align: right;\">\n",
       "      <th></th>\n",
       "      <th>BECHoldTime</th>\n",
       "      <th>TOF</th>\n",
       "      <th>latticeDepth_mW</th>\n",
       "      <th>latticeDetuning_GHz</th>\n",
       "      <th>compz</th>\n",
       "      <th>ODT3_Comp_final</th>\n",
       "      <th>dummy</th>\n",
       "      <th>nCount</th>\n",
       "      <th>xWidth</th>\n",
       "      <th>yWidth</th>\n",
       "      <th>...</th>\n",
       "      <th>experiment</th>\n",
       "      <th>ODTFactor</th>\n",
       "      <th>xWidth_TOF_h_um</th>\n",
       "      <th>zWidth_TOF_h_um</th>\n",
       "      <th>trapFrequencyZ_kHz</th>\n",
       "      <th>deconfiningTrapFrequency_Hz</th>\n",
       "      <th>bareTrapFrequencyX_Hz</th>\n",
       "      <th>bareTrapFrequencyY_Hz</th>\n",
       "      <th>trapFrequencyX_Hz</th>\n",
       "      <th>trapFrequencyY_Hz</th>\n",
       "    </tr>\n",
       "  </thead>\n",
       "  <tbody>\n",
       "    <tr>\n",
       "      <th>0</th>\n",
       "      <td>5000.0</td>\n",
       "      <td>10.0</td>\n",
       "      <td>0.5</td>\n",
       "      <td>-10.0</td>\n",
       "      <td>7.40</td>\n",
       "      <td>0.76</td>\n",
       "      <td>2.0</td>\n",
       "      <td>6204.0</td>\n",
       "      <td>56.6942</td>\n",
       "      <td>192.0320</td>\n",
       "      <td>...</td>\n",
       "      <td>TOF</td>\n",
       "      <td>8.0</td>\n",
       "      <td>284.978995</td>\n",
       "      <td>84.135228</td>\n",
       "      <td>6.103061</td>\n",
       "      <td>22.719868</td>\n",
       "      <td>197.989899</td>\n",
       "      <td>79.195959</td>\n",
       "      <td>201.542232</td>\n",
       "      <td>87.699894</td>\n",
       "    </tr>\n",
       "    <tr>\n",
       "      <th>2</th>\n",
       "      <td>3000.0</td>\n",
       "      <td>10.0</td>\n",
       "      <td>0.2</td>\n",
       "      <td>-10.0</td>\n",
       "      <td>7.40</td>\n",
       "      <td>0.76</td>\n",
       "      <td>2.0</td>\n",
       "      <td>21283.0</td>\n",
       "      <td>44.2253</td>\n",
       "      <td>46.6182</td>\n",
       "      <td>...</td>\n",
       "      <td>TOF</td>\n",
       "      <td>8.0</td>\n",
       "      <td>69.182260</td>\n",
       "      <td>65.631153</td>\n",
       "      <td>3.859915</td>\n",
       "      <td>18.068446</td>\n",
       "      <td>197.989899</td>\n",
       "      <td>79.195959</td>\n",
       "      <td>199.418426</td>\n",
       "      <td>82.702530</td>\n",
       "    </tr>\n",
       "    <tr>\n",
       "      <th>3</th>\n",
       "      <td>500.0</td>\n",
       "      <td>10.0</td>\n",
       "      <td>0.5</td>\n",
       "      <td>-10.0</td>\n",
       "      <td>7.40</td>\n",
       "      <td>0.76</td>\n",
       "      <td>1.0</td>\n",
       "      <td>29513.0</td>\n",
       "      <td>39.8866</td>\n",
       "      <td>40.5755</td>\n",
       "      <td>...</td>\n",
       "      <td>TOF</td>\n",
       "      <td>8.0</td>\n",
       "      <td>60.214783</td>\n",
       "      <td>59.192443</td>\n",
       "      <td>6.103061</td>\n",
       "      <td>22.719868</td>\n",
       "      <td>197.989899</td>\n",
       "      <td>79.195959</td>\n",
       "      <td>201.542232</td>\n",
       "      <td>87.699894</td>\n",
       "    </tr>\n",
       "    <tr>\n",
       "      <th>4</th>\n",
       "      <td>4000.0</td>\n",
       "      <td>10.0</td>\n",
       "      <td>0.2</td>\n",
       "      <td>-10.0</td>\n",
       "      <td>7.40</td>\n",
       "      <td>0.76</td>\n",
       "      <td>1.0</td>\n",
       "      <td>21723.0</td>\n",
       "      <td>49.0479</td>\n",
       "      <td>55.1033</td>\n",
       "      <td>...</td>\n",
       "      <td>TOF</td>\n",
       "      <td>8.0</td>\n",
       "      <td>81.774304</td>\n",
       "      <td>72.787979</td>\n",
       "      <td>3.859915</td>\n",
       "      <td>18.068446</td>\n",
       "      <td>197.989899</td>\n",
       "      <td>79.195959</td>\n",
       "      <td>199.418426</td>\n",
       "      <td>82.702530</td>\n",
       "    </tr>\n",
       "    <tr>\n",
       "      <th>5</th>\n",
       "      <td>0.0</td>\n",
       "      <td>10.0</td>\n",
       "      <td>0.2</td>\n",
       "      <td>-10.0</td>\n",
       "      <td>7.40</td>\n",
       "      <td>0.76</td>\n",
       "      <td>2.0</td>\n",
       "      <td>36465.0</td>\n",
       "      <td>29.0167</td>\n",
       "      <td>32.8457</td>\n",
       "      <td>...</td>\n",
       "      <td>TOF</td>\n",
       "      <td>8.0</td>\n",
       "      <td>48.743619</td>\n",
       "      <td>43.061313</td>\n",
       "      <td>3.859915</td>\n",
       "      <td>18.068446</td>\n",
       "      <td>197.989899</td>\n",
       "      <td>79.195959</td>\n",
       "      <td>199.418426</td>\n",
       "      <td>82.702530</td>\n",
       "    </tr>\n",
       "    <tr>\n",
       "      <th>...</th>\n",
       "      <td>...</td>\n",
       "      <td>...</td>\n",
       "      <td>...</td>\n",
       "      <td>...</td>\n",
       "      <td>...</td>\n",
       "      <td>...</td>\n",
       "      <td>...</td>\n",
       "      <td>...</td>\n",
       "      <td>...</td>\n",
       "      <td>...</td>\n",
       "      <td>...</td>\n",
       "      <td>...</td>\n",
       "      <td>...</td>\n",
       "      <td>...</td>\n",
       "      <td>...</td>\n",
       "      <td>...</td>\n",
       "      <td>...</td>\n",
       "      <td>...</td>\n",
       "      <td>...</td>\n",
       "      <td>...</td>\n",
       "      <td>...</td>\n",
       "    </tr>\n",
       "    <tr>\n",
       "      <th>312</th>\n",
       "      <td>5.0</td>\n",
       "      <td>7.0</td>\n",
       "      <td>0.2</td>\n",
       "      <td>-10.0</td>\n",
       "      <td>7.83</td>\n",
       "      <td>0.76</td>\n",
       "      <td>1.0</td>\n",
       "      <td>15514.0</td>\n",
       "      <td>20.7784</td>\n",
       "      <td>17.5020</td>\n",
       "      <td>...</td>\n",
       "      <td>TOF</td>\n",
       "      <td>8.0</td>\n",
       "      <td>25.973288</td>\n",
       "      <td>30.835525</td>\n",
       "      <td>3.859915</td>\n",
       "      <td>18.068446</td>\n",
       "      <td>197.989899</td>\n",
       "      <td>79.195959</td>\n",
       "      <td>199.418426</td>\n",
       "      <td>82.702530</td>\n",
       "    </tr>\n",
       "    <tr>\n",
       "      <th>313</th>\n",
       "      <td>0.0</td>\n",
       "      <td>7.0</td>\n",
       "      <td>0.2</td>\n",
       "      <td>-10.0</td>\n",
       "      <td>7.83</td>\n",
       "      <td>0.76</td>\n",
       "      <td>1.0</td>\n",
       "      <td>21762.0</td>\n",
       "      <td>20.0059</td>\n",
       "      <td>23.8151</td>\n",
       "      <td>...</td>\n",
       "      <td>TOF</td>\n",
       "      <td>8.0</td>\n",
       "      <td>35.342043</td>\n",
       "      <td>29.689121</td>\n",
       "      <td>3.859915</td>\n",
       "      <td>18.068446</td>\n",
       "      <td>197.989899</td>\n",
       "      <td>79.195959</td>\n",
       "      <td>199.418426</td>\n",
       "      <td>82.702530</td>\n",
       "    </tr>\n",
       "    <tr>\n",
       "      <th>314</th>\n",
       "      <td>0.0</td>\n",
       "      <td>7.0</td>\n",
       "      <td>1.0</td>\n",
       "      <td>-10.0</td>\n",
       "      <td>7.83</td>\n",
       "      <td>0.76</td>\n",
       "      <td>2.0</td>\n",
       "      <td>12193.0</td>\n",
       "      <td>21.7776</td>\n",
       "      <td>20.2548</td>\n",
       "      <td>...</td>\n",
       "      <td>TOF</td>\n",
       "      <td>8.0</td>\n",
       "      <td>30.058493</td>\n",
       "      <td>32.318356</td>\n",
       "      <td>8.631032</td>\n",
       "      <td>27.018628</td>\n",
       "      <td>197.989899</td>\n",
       "      <td>79.195959</td>\n",
       "      <td>205.033028</td>\n",
       "      <td>95.449163</td>\n",
       "    </tr>\n",
       "    <tr>\n",
       "      <th>315</th>\n",
       "      <td>3.0</td>\n",
       "      <td>7.0</td>\n",
       "      <td>0.5</td>\n",
       "      <td>-10.0</td>\n",
       "      <td>7.83</td>\n",
       "      <td>0.76</td>\n",
       "      <td>1.0</td>\n",
       "      <td>21076.0</td>\n",
       "      <td>21.3840</td>\n",
       "      <td>20.7395</td>\n",
       "      <td>...</td>\n",
       "      <td>TOF</td>\n",
       "      <td>8.0</td>\n",
       "      <td>30.777797</td>\n",
       "      <td>31.734247</td>\n",
       "      <td>6.103061</td>\n",
       "      <td>22.719868</td>\n",
       "      <td>197.989899</td>\n",
       "      <td>79.195959</td>\n",
       "      <td>201.542232</td>\n",
       "      <td>87.699894</td>\n",
       "    </tr>\n",
       "    <tr>\n",
       "      <th>316</th>\n",
       "      <td>15.0</td>\n",
       "      <td>7.0</td>\n",
       "      <td>1.0</td>\n",
       "      <td>-10.0</td>\n",
       "      <td>7.83</td>\n",
       "      <td>0.76</td>\n",
       "      <td>1.0</td>\n",
       "      <td>15159.0</td>\n",
       "      <td>22.3614</td>\n",
       "      <td>20.1174</td>\n",
       "      <td>...</td>\n",
       "      <td>TOF</td>\n",
       "      <td>8.0</td>\n",
       "      <td>29.854589</td>\n",
       "      <td>33.184726</td>\n",
       "      <td>8.631032</td>\n",
       "      <td>27.018628</td>\n",
       "      <td>197.989899</td>\n",
       "      <td>79.195959</td>\n",
       "      <td>205.033028</td>\n",
       "      <td>95.449163</td>\n",
       "    </tr>\n",
       "  </tbody>\n",
       "</table>\n",
       "<p>310 rows × 23 columns</p>\n",
       "</div>"
      ],
      "text/plain": [
       "     BECHoldTime   TOF  latticeDepth_mW  latticeDetuning_GHz  compz  \\\n",
       "0         5000.0  10.0              0.5                -10.0   7.40   \n",
       "2         3000.0  10.0              0.2                -10.0   7.40   \n",
       "3          500.0  10.0              0.5                -10.0   7.40   \n",
       "4         4000.0  10.0              0.2                -10.0   7.40   \n",
       "5            0.0  10.0              0.2                -10.0   7.40   \n",
       "..           ...   ...              ...                  ...    ...   \n",
       "312          5.0   7.0              0.2                -10.0   7.83   \n",
       "313          0.0   7.0              0.2                -10.0   7.83   \n",
       "314          0.0   7.0              1.0                -10.0   7.83   \n",
       "315          3.0   7.0              0.5                -10.0   7.83   \n",
       "316         15.0   7.0              1.0                -10.0   7.83   \n",
       "\n",
       "     ODT3_Comp_final  dummy   nCount   xWidth    yWidth  ...  experiment  \\\n",
       "0               0.76    2.0   6204.0  56.6942  192.0320  ...         TOF   \n",
       "2               0.76    2.0  21283.0  44.2253   46.6182  ...         TOF   \n",
       "3               0.76    1.0  29513.0  39.8866   40.5755  ...         TOF   \n",
       "4               0.76    1.0  21723.0  49.0479   55.1033  ...         TOF   \n",
       "5               0.76    2.0  36465.0  29.0167   32.8457  ...         TOF   \n",
       "..               ...    ...      ...      ...       ...  ...         ...   \n",
       "312             0.76    1.0  15514.0  20.7784   17.5020  ...         TOF   \n",
       "313             0.76    1.0  21762.0  20.0059   23.8151  ...         TOF   \n",
       "314             0.76    2.0  12193.0  21.7776   20.2548  ...         TOF   \n",
       "315             0.76    1.0  21076.0  21.3840   20.7395  ...         TOF   \n",
       "316             0.76    1.0  15159.0  22.3614   20.1174  ...         TOF   \n",
       "\n",
       "     ODTFactor  xWidth_TOF_h_um zWidth_TOF_h_um  trapFrequencyZ_kHz  \\\n",
       "0          8.0       284.978995       84.135228            6.103061   \n",
       "2          8.0        69.182260       65.631153            3.859915   \n",
       "3          8.0        60.214783       59.192443            6.103061   \n",
       "4          8.0        81.774304       72.787979            3.859915   \n",
       "5          8.0        48.743619       43.061313            3.859915   \n",
       "..         ...              ...             ...                 ...   \n",
       "312        8.0        25.973288       30.835525            3.859915   \n",
       "313        8.0        35.342043       29.689121            3.859915   \n",
       "314        8.0        30.058493       32.318356            8.631032   \n",
       "315        8.0        30.777797       31.734247            6.103061   \n",
       "316        8.0        29.854589       33.184726            8.631032   \n",
       "\n",
       "     deconfiningTrapFrequency_Hz  bareTrapFrequencyX_Hz  \\\n",
       "0                      22.719868             197.989899   \n",
       "2                      18.068446             197.989899   \n",
       "3                      22.719868             197.989899   \n",
       "4                      18.068446             197.989899   \n",
       "5                      18.068446             197.989899   \n",
       "..                           ...                    ...   \n",
       "312                    18.068446             197.989899   \n",
       "313                    18.068446             197.989899   \n",
       "314                    27.018628             197.989899   \n",
       "315                    22.719868             197.989899   \n",
       "316                    27.018628             197.989899   \n",
       "\n",
       "     bareTrapFrequencyY_Hz  trapFrequencyX_Hz  trapFrequencyY_Hz  \n",
       "0                79.195959         201.542232          87.699894  \n",
       "2                79.195959         199.418426          82.702530  \n",
       "3                79.195959         201.542232          87.699894  \n",
       "4                79.195959         199.418426          82.702530  \n",
       "5                79.195959         199.418426          82.702530  \n",
       "..                     ...                ...                ...  \n",
       "312              79.195959         199.418426          82.702530  \n",
       "313              79.195959         199.418426          82.702530  \n",
       "314              79.195959         205.033028          95.449163  \n",
       "315              79.195959         201.542232          87.699894  \n",
       "316              79.195959         205.033028          95.449163  \n",
       "\n",
       "[310 rows x 23 columns]"
      ]
     },
     "execution_count": 31,
     "metadata": {},
     "output_type": "execute_result"
    }
   ],
   "source": [
    "df_TOF"
   ]
  },
  {
   "cell_type": "code",
   "execution_count": 32,
   "metadata": {},
   "outputs": [
    {
     "name": "stdout",
     "output_type": "stream",
     "text": [
      "{'BECHoldTime': 1392.0, 'TOF': 10.0, 'latticeDepth_mW': 0.20000000000000004, 'latticeDetuning_GHz': -10.0, 'compz': 7.400000000000001, 'ODT3_Comp_final': 0.7600000000000001, 'dummy': 1.48, 'nCount': 25473.52, 'xWidth': 41.51678, 'yWidth': 39.460899999999995, 'xPos': 958.5987200000001, 'yPos': 1023.1295999999999, 'imageID': 170558.32, 'ODTFactor': 8.0, 'xWidth_TOF_h_um': 58.56069634703197, 'zWidth_TOF_h_um': 61.6116598173516, 'trapFrequencyZ_kHz': 3.8599148779563093, 'deconfiningTrapFrequency_Hz': 18.068445858496702, 'bareTrapFrequencyX_Hz': 197.98989873223334, 'bareTrapFrequencyY_Hz': 79.19595949289334, 'trapFrequencyX_Hz': 199.41842577295517, 'trapFrequencyY_Hz': 82.70253041935068, 'xWidth_inSitu_v_um': nan, 'yWidth_inSitu_v_um': nan}\n",
      "{'BECHoldTime': 1357.6923076923076, 'TOF': 10.0, 'latticeDepth_mW': 0.5, 'latticeDetuning_GHz': -10.0, 'compz': 7.400000000000001, 'ODT3_Comp_final': 0.7600000000000002, 'dummy': 1.5, 'nCount': 25069.53846153846, 'xWidth': 36.82697346153846, 'yWidth': 59.24468846153846, 'xPos': 959.3433461538461, 'yPos': 1030.6537307692308, 'imageID': 170551.76923076922, 'ODTFactor': 8.0, 'xWidth_TOF_h_um': 87.9201997716895, 'zWidth_TOF_h_um': 54.65190125570776, 'trapFrequencyZ_kHz': 6.1030612943563955, 'deconfiningTrapFrequency_Hz': 22.71986784488993, 'bareTrapFrequencyX_Hz': 197.98989873223334, 'bareTrapFrequencyY_Hz': 79.19595949289334, 'trapFrequencyX_Hz': 201.5422321609272, 'trapFrequencyY_Hz': 87.69989363966789, 'xWidth_inSitu_v_um': nan, 'yWidth_inSitu_v_um': nan}\n",
      "{'BECHoldTime': 1408.0, 'TOF': 6.0, 'latticeDepth_mW': 1.0, 'latticeDetuning_GHz': -10.0, 'compz': 7.400000000000001, 'ODT3_Comp_final': 0.7600000000000001, 'dummy': 1.48, 'nCount': 18436.96, 'xWidth': 22.128320000000002, 'yWidth': 26.871988, 'xPos': 1167.5656, 'yPos': 1007.30276, 'imageID': 170618.2, 'ODTFactor': 8.0, 'xWidth_TOF_h_um': 39.87852100456622, 'zWidth_TOF_h_um': 32.83883105022831, 'trapFrequencyZ_kHz': 8.631032054473112, 'deconfiningTrapFrequency_Hz': 27.018628493064654, 'bareTrapFrequencyX_Hz': 197.98989873223334, 'bareTrapFrequencyY_Hz': 79.19595949289334, 'trapFrequencyX_Hz': 205.03302828768375, 'trapFrequencyY_Hz': 95.4491628502739, 'xWidth_inSitu_v_um': nan, 'yWidth_inSitu_v_um': nan}\n",
      "{'BECHoldTime': 1416.6666666666667, 'TOF': 6.0, 'latticeDepth_mW': 5.0, 'latticeDetuning_GHz': -10.0, 'compz': 7.400000000000001, 'ODT3_Comp_final': 0.7600000000000001, 'dummy': 1.5, 'nCount': 19437.291666666668, 'xWidth': 21.333354166666666, 'yWidth': 21.760199999999998, 'xPos': 1167.4708333333333, 'yPos': 1008.8225000000001, 'imageID': 170617.375, 'ODTFactor': 8.0, 'xWidth_TOF_h_um': 32.29253424657534, 'zWidth_TOF_h_um': 31.65908723363775, 'trapFrequencyZ_kHz': 19.299574389781547, 'deconfiningTrapFrequency_Hz': 40.402273187373176, 'bareTrapFrequencyX_Hz': 197.98989873223334, 'bareTrapFrequencyY_Hz': 79.19595949289334, 'trapFrequencyX_Hz': 231.06863362232988, 'trapFrequencyY_Hz': 143.05493156158767, 'xWidth_inSitu_v_um': nan, 'yWidth_inSitu_v_um': nan}\n",
      "{'BECHoldTime': 1402.1739130434783, 'TOF': 6.0, 'latticeDepth_mW': 20.0, 'latticeDetuning_GHz': -10.0, 'compz': 7.400000000000002, 'ODT3_Comp_final': 0.76, 'dummy': 1.5217391304347827, 'nCount': 16591.739130434784, 'xWidth': 21.49227826086957, 'yWidth': 35.800773913043486, 'xPos': 1167.413043478261, 'yPos': 1002.1269565217391, 'imageID': 170620.0, 'ODTFactor': 8.0, 'xWidth_TOF_h_um': 53.129002382370466, 'zWidth_TOF_h_um': 31.894933492158025, 'trapFrequencyZ_kHz': 38.59914877956308, 'deconfiningTrapFrequency_Hz': 57.13744269228599, 'bareTrapFrequencyX_Hz': 197.98989873223337, 'bareTrapFrequencyY_Hz': 79.19595949289332, 'trapFrequencyX_Hz': 309.7916296099075, 'trapFrequencyY_Hz': 251.08336021401755, 'xWidth_inSitu_v_um': nan, 'yWidth_inSitu_v_um': nan}\n",
      "{'BECHoldTime': 1178.6666666666667, 'TOF': 4.5, 'latticeDepth_mW': 60.0, 'latticeDetuning_GHz': -10.0, 'compz': 7.400000000000002, 'ODT3_Comp_final': 0.7600000000000003, 'dummy': 1.5, 'nCount': 15308.633333333333, 'xWidth': 19.27349333333333, 'yWidth': 16.424742666666667, 'xPos': 1217.6633333333334, 'yPos': 1007.5546666666668, 'imageID': 170693.06666666668, 'ODTFactor': 8.0, 'xWidth_TOF_h_um': 24.37461811263318, 'zWidth_TOF_h_um': 28.60221613394216, 'trapFrequencyZ_kHz': 66.85568681511351, 'deconfiningTrapFrequency_Hz': 75.19710349387988, 'bareTrapFrequencyX_Hz': 197.98989873223329, 'bareTrapFrequencyY_Hz': 79.19595949289335, 'trapFrequencyX_Hz': 457.7254213271165, 'trapFrequencyY_Hz': 420.21965842769197, 'xWidth_inSitu_v_um': nan, 'yWidth_inSitu_v_um': nan}\n",
      "{'BECHoldTime': 1178.6666666666667, 'TOF': 4.5, 'latticeDepth_mW': 120.0, 'latticeDetuning_GHz': -10.0, 'compz': 7.400000000000002, 'ODT3_Comp_final': 0.7600000000000003, 'dummy': 1.5, 'nCount': 11741.833333333334, 'xWidth': 18.78279, 'yWidth': 24.918046666666662, 'xPos': 1218.233, 'yPos': 1008.7623333333333, 'imageID': 170693.93333333332, 'ODTFactor': 8.0, 'xWidth_TOF_h_um': 36.97883637747335, 'zWidth_TOF_h_um': 27.874003424657538, 'trapFrequencyZ_kHz': 94.54821901570163, 'deconfiningTrapFrequency_Hz': 89.42493050251792, 'bareTrapFrequencyX_Hz': 197.98989873223329, 'bareTrapFrequencyY_Hz': 79.19595949289335, 'trapFrequencyX_Hz': 616.2995397192606, 'trapFrequencyY_Hz': 588.9797302608747, 'xWidth_inSitu_v_um': nan, 'yWidth_inSitu_v_um': nan}\n",
      "{'BECHoldTime': 6.777777777777778, 'TOF': 7.0, 'latticeDepth_mW': 0.20000000000000004, 'latticeDetuning_GHz': -10.0, 'compz': 7.830000000000002, 'ODT3_Comp_final': 0.76, 'dummy': 1.5, 'nCount': 17639.61111111111, 'xWidth': 21.451427777777774, 'yWidth': 21.566005555555552, 'xPos': 1124.722222222222, 'yPos': 1011.8683333333332, 'imageID': 170848.0, 'ODTFactor': 8.0, 'xWidth_TOF_h_um': 32.0043461440893, 'zWidth_TOF_h_um': 31.834310629122278, 'trapFrequencyZ_kHz': 3.8599148779563097, 'deconfiningTrapFrequency_Hz': 18.068445858496702, 'bareTrapFrequencyX_Hz': 197.98989873223337, 'bareTrapFrequencyY_Hz': 79.19595949289334, 'trapFrequencyX_Hz': 199.41842577295517, 'trapFrequencyY_Hz': 82.7025304193507, 'xWidth_inSitu_v_um': nan, 'yWidth_inSitu_v_um': nan}\n",
      "{'BECHoldTime': 6.777777777777778, 'TOF': 7.0, 'latticeDepth_mW': 0.5, 'latticeDetuning_GHz': -10.0, 'compz': 7.830000000000002, 'ODT3_Comp_final': 0.76, 'dummy': 1.5, 'nCount': 17830.555555555555, 'xWidth': 21.8538, 'yWidth': 20.20402777777778, 'xPos': 1124.586111111111, 'yPos': 1012.7755555555555, 'imageID': 170849.72222222222, 'ODTFactor': 8.0, 'xWidth_TOF_h_um': 29.98314624556063, 'zWidth_TOF_h_um': 32.431438356164385, 'trapFrequencyZ_kHz': 6.1030612943563955, 'deconfiningTrapFrequency_Hz': 22.71986784488993, 'bareTrapFrequencyX_Hz': 197.98989873223337, 'bareTrapFrequencyY_Hz': 79.19595949289334, 'trapFrequencyX_Hz': 201.54223216092717, 'trapFrequencyY_Hz': 87.69989363966786, 'xWidth_inSitu_v_um': nan, 'yWidth_inSitu_v_um': nan}\n",
      "{'BECHoldTime': 6.777777777777778, 'TOF': 7.0, 'latticeDepth_mW': 1.0, 'latticeDetuning_GHz': -10.0, 'compz': 7.830000000000002, 'ODT3_Comp_final': 0.76, 'dummy': 1.5, 'nCount': 16424.944444444445, 'xWidth': 20.79311666666667, 'yWidth': 20.474888888888888, 'xPos': 1124.5816666666667, 'yPos': 1011.7138888888888, 'imageID': 170850.77777777778, 'ODTFactor': 8.0, 'xWidth_TOF_h_um': 30.38510908168443, 'zWidth_TOF_h_um': 30.85736491628615, 'trapFrequencyZ_kHz': 8.631032054473112, 'deconfiningTrapFrequency_Hz': 27.01862849306465, 'bareTrapFrequencyX_Hz': 197.98989873223337, 'bareTrapFrequencyY_Hz': 79.19595949289334, 'trapFrequencyX_Hz': 205.03302828768375, 'trapFrequencyY_Hz': 95.44916285027392, 'xWidth_inSitu_v_um': nan, 'yWidth_inSitu_v_um': nan}\n",
      "{'BECHoldTime': 6.777777777777778, 'TOF': 6.0, 'latticeDepth_mW': 5.0, 'latticeDetuning_GHz': -10.0, 'compz': 7.830000000000002, 'ODT3_Comp_final': 0.76, 'dummy': 1.5, 'nCount': 21154.333333333332, 'xWidth': 19.248544444444445, 'yWidth': 19.961783333333333, 'xPos': 1168.4377777777777, 'yPos': 1008.6316666666667, 'imageID': 170802.72222222222, 'ODTFactor': 8.0, 'xWidth_TOF_h_um': 29.62365106544901, 'zWidth_TOF_h_um': 28.565191527143586, 'trapFrequencyZ_kHz': 19.299574389781544, 'deconfiningTrapFrequency_Hz': 40.40227318737318, 'bareTrapFrequencyX_Hz': 197.98989873223337, 'bareTrapFrequencyY_Hz': 79.19595949289334, 'trapFrequencyX_Hz': 231.0686336223299, 'trapFrequencyY_Hz': 143.05493156158767, 'xWidth_inSitu_v_um': nan, 'yWidth_inSitu_v_um': nan}\n",
      "{'BECHoldTime': 6.777777777777778, 'TOF': 6.0, 'latticeDepth_mW': 20.0, 'latticeDetuning_GHz': -10.0, 'compz': 7.830000000000002, 'ODT3_Comp_final': 0.76, 'dummy': 1.5, 'nCount': 18078.61111111111, 'xWidth': 22.409294444444445, 'yWidth': 26.155844444444444, 'xPos': 1167.8805555555555, 'yPos': 1011.1094444444443, 'imageID': 170802.27777777778, 'ODTFactor': 8.0, 'xWidth_TOF_h_um': 38.815750887874174, 'zWidth_TOF_h_um': 33.255802257737194, 'trapFrequencyZ_kHz': 38.59914877956309, 'deconfiningTrapFrequency_Hz': 57.137442692285994, 'bareTrapFrequencyX_Hz': 197.98989873223337, 'bareTrapFrequencyY_Hz': 79.19595949289334, 'trapFrequencyX_Hz': 309.7916296099075, 'trapFrequencyY_Hz': 251.08336021401757, 'xWidth_inSitu_v_um': nan, 'yWidth_inSitu_v_um': nan}\n",
      "{'BECHoldTime': 3.0, 'TOF': 4.0, 'latticeDepth_mW': 60.0, 'latticeDetuning_GHz': -10.0, 'compz': 7.830000000000002, 'ODT3_Comp_final': 0.76, 'dummy': 1.4736842105263157, 'nCount': 18853.42105263158, 'xWidth': 17.823736842105262, 'yWidth': 20.96270994736842, 'xPos': 1232.2336842105265, 'yPos': 1059.239947368421, 'imageID': 170762.57894736843, 'ODTFactor': 8.0, 'xWidth_TOF_h_um': 31.109044442441725, 'zWidth_TOF_h_um': 26.450751021389088, 'trapFrequencyZ_kHz': 66.8556868151135, 'deconfiningTrapFrequency_Hz': 75.1971034938799, 'bareTrapFrequencyX_Hz': 197.98989873223337, 'bareTrapFrequencyY_Hz': 79.19595949289332, 'trapFrequencyX_Hz': 457.7254213271164, 'trapFrequencyY_Hz': 420.219658427692, 'xWidth_inSitu_v_um': nan, 'yWidth_inSitu_v_um': nan}\n",
      "{'BECHoldTime': 3.1666666666666665, 'TOF': 4.0, 'latticeDepth_mW': 120.0, 'latticeDetuning_GHz': -10.0, 'compz': 7.830000000000002, 'ODT3_Comp_final': 0.76, 'dummy': 1.5, 'nCount': 12619.777777777777, 'xWidth': 22.481622222222224, 'yWidth': 20.90861138888889, 'xPos': 1232.8816666666664, 'yPos': 1048.7543333333333, 'imageID': 170763.44444444444, 'ODTFactor': 8.0, 'xWidth_TOF_h_um': 31.028761193556573, 'zWidth_TOF_h_um': 33.36313800101472, 'trapFrequencyZ_kHz': 94.5482190157016, 'deconfiningTrapFrequency_Hz': 89.42493050251795, 'bareTrapFrequencyX_Hz': 197.98989873223337, 'bareTrapFrequencyY_Hz': 79.19595949289334, 'trapFrequencyX_Hz': 616.2995397192606, 'trapFrequencyY_Hz': 588.9797302608746, 'xWidth_inSitu_v_um': nan, 'yWidth_inSitu_v_um': nan}\n"
     ]
    },
    {
     "name": "stderr",
     "output_type": "stream",
     "text": [
      "/usr/local/lib/python3.9/site-packages/pandas/core/arraylike.py:274: RuntimeWarning: invalid value encountered in sqrt\n",
      "  result = getattr(ufunc, method)(*inputs, **kwargs)\n",
      "/usr/local/lib/python3.9/site-packages/pandas/core/arraylike.py:274: RuntimeWarning: invalid value encountered in sqrt\n",
      "  result = getattr(ufunc, method)(*inputs, **kwargs)\n"
     ]
    },
    {
     "data": {
      "text/plain": [
       "'def N_polarized(t, N0, alpha, gamma):\\n    return np.sqrt(alpha / (np.exp(2*alpha*t)*(alpha/(N0**2)+gamma)-gamma))\\n\\ndef N_linear(t, N0, b):\\n    return N0-b*t\\n\\ndef N_polarized_pure3b(t, N0, gamma):\\n    return N0 / np.sqrt(1+N0**2*gamma*t)'"
      ]
     },
     "execution_count": 32,
     "metadata": {},
     "output_type": "execute_result"
    }
   ],
   "source": [
    "resultsDF_pure = fitDF(df, ['latticeDetuning_GHz', 'latticeDepth_mW', 'compz', 'ODTFactor'], fitType = 'pure')\n",
    "resultsDF_pure.drop(columns = ['BECHoldTime', 'xWidth', 'yWidth', 'imageID', 'dummy'], inplace = True)\n",
    "resultsDF_pure['compz'] = resultsDF_pure['compz'].round(3)\n",
    "\n",
    "resultsDF_pure_premix = fitDF(df, ['latticeDetuning_GHz', 'latticeDepth_mW', 'compz', 'ODTFactor'], fitType = 'pure_premix')\n",
    "resultsDF_pure_premix.drop(columns = ['BECHoldTime', 'xWidth', 'yWidth', 'imageID', 'dummy'], inplace = True)\n",
    "resultsDF_pure_premix['compz'] = resultsDF_pure['compz'].round(3)\n",
    "\n",
    "resultsDF_mix = fitDF(df, ['latticeDetuning_GHz', 'latticeDepth_mW', 'compz', 'ODTFactor'], fitType = 'mix')\n",
    "resultsDF_mix.drop(columns = ['BECHoldTime', 'xWidth', 'yWidth', 'imageID', 'dummy'], inplace = True)\n",
    "resultsDF_mix['compz'] = resultsDF_mix['compz'].round(3)\n",
    "\n",
    "resultsDF_lin = fitDF(df, ['latticeDetuning_GHz', 'latticeDepth_mW', 'compz', 'ODTFactor'], fitType = 'lin', tmax_ms = np.inf)\n",
    "resultsDF_lin.drop(columns = ['BECHoldTime', 'xWidth', 'yWidth', 'imageID', 'dummy'], inplace = True)\n",
    "resultsDF_lin['compz'] = resultsDF_lin['compz'].round(3)\n",
    "\n",
    "\n",
    "\n",
    "\n",
    "\n",
    "\n",
    "\"\"\"def N_polarized(t, N0, alpha, gamma):\n",
    "    return np.sqrt(alpha / (np.exp(2*alpha*t)*(alpha/(N0**2)+gamma)-gamma))\n",
    "\n",
    "def N_linear(t, N0, b):\n",
    "    return N0-b*t\n",
    "\n",
    "def N_polarized_pure3b(t, N0, gamma):\n",
    "    return N0 / np.sqrt(1+N0**2*gamma*t)\"\"\"\n",
    "\n",
    "\n",
    "#print('\\n')\n",
    "#print(resultsDF)\n",
    "#perr = np.sqrt(np.diag(pcov))"
   ]
  },
  {
   "cell_type": "code",
   "execution_count": 33,
   "metadata": {},
   "outputs": [
    {
     "data": {
      "text/html": [
       "<div>\n",
       "<style scoped>\n",
       "    .dataframe tbody tr th:only-of-type {\n",
       "        vertical-align: middle;\n",
       "    }\n",
       "\n",
       "    .dataframe tbody tr th {\n",
       "        vertical-align: top;\n",
       "    }\n",
       "\n",
       "    .dataframe thead th {\n",
       "        text-align: right;\n",
       "    }\n",
       "</style>\n",
       "<table border=\"1\" class=\"dataframe\">\n",
       "  <thead>\n",
       "    <tr style=\"text-align: right;\">\n",
       "      <th></th>\n",
       "      <th>N0</th>\n",
       "      <th>alpha</th>\n",
       "      <th>gamma</th>\n",
       "      <th>b</th>\n",
       "      <th>TOF</th>\n",
       "      <th>latticeDepth_mW</th>\n",
       "      <th>latticeDetuning_GHz</th>\n",
       "      <th>compz</th>\n",
       "      <th>ODT3_Comp_final</th>\n",
       "      <th>nCount</th>\n",
       "      <th>...</th>\n",
       "      <th>xWidth_TOF_h_um</th>\n",
       "      <th>zWidth_TOF_h_um</th>\n",
       "      <th>trapFrequencyZ_kHz</th>\n",
       "      <th>deconfiningTrapFrequency_Hz</th>\n",
       "      <th>bareTrapFrequencyX_Hz</th>\n",
       "      <th>bareTrapFrequencyY_Hz</th>\n",
       "      <th>trapFrequencyX_Hz</th>\n",
       "      <th>trapFrequencyY_Hz</th>\n",
       "      <th>xWidth_inSitu_v_um</th>\n",
       "      <th>yWidth_inSitu_v_um</th>\n",
       "    </tr>\n",
       "  </thead>\n",
       "  <tbody>\n",
       "    <tr>\n",
       "      <th>0</th>\n",
       "      <td>27293.058504</td>\n",
       "      <td>0.000056</td>\n",
       "      <td>-5.511742e-15</td>\n",
       "      <td>NaN</td>\n",
       "      <td>10.0</td>\n",
       "      <td>0.2</td>\n",
       "      <td>-10.0</td>\n",
       "      <td>7.40</td>\n",
       "      <td>0.76</td>\n",
       "      <td>25473.520000</td>\n",
       "      <td>...</td>\n",
       "      <td>58.560696</td>\n",
       "      <td>61.611660</td>\n",
       "      <td>3.859915</td>\n",
       "      <td>18.068446</td>\n",
       "      <td>197.989899</td>\n",
       "      <td>79.195959</td>\n",
       "      <td>199.418426</td>\n",
       "      <td>82.702530</td>\n",
       "      <td>NaN</td>\n",
       "      <td>NaN</td>\n",
       "    </tr>\n",
       "    <tr>\n",
       "      <th>1</th>\n",
       "      <td>30192.248973</td>\n",
       "      <td>0.000056</td>\n",
       "      <td>1.640228e-13</td>\n",
       "      <td>NaN</td>\n",
       "      <td>10.0</td>\n",
       "      <td>0.5</td>\n",
       "      <td>-10.0</td>\n",
       "      <td>7.40</td>\n",
       "      <td>0.76</td>\n",
       "      <td>25069.538462</td>\n",
       "      <td>...</td>\n",
       "      <td>87.920200</td>\n",
       "      <td>54.651901</td>\n",
       "      <td>6.103061</td>\n",
       "      <td>22.719868</td>\n",
       "      <td>197.989899</td>\n",
       "      <td>79.195959</td>\n",
       "      <td>201.542232</td>\n",
       "      <td>87.699894</td>\n",
       "      <td>NaN</td>\n",
       "      <td>NaN</td>\n",
       "    </tr>\n",
       "    <tr>\n",
       "      <th>2</th>\n",
       "      <td>20353.361265</td>\n",
       "      <td>0.000056</td>\n",
       "      <td>6.094777e-14</td>\n",
       "      <td>NaN</td>\n",
       "      <td>6.0</td>\n",
       "      <td>1.0</td>\n",
       "      <td>-10.0</td>\n",
       "      <td>7.40</td>\n",
       "      <td>0.76</td>\n",
       "      <td>18436.960000</td>\n",
       "      <td>...</td>\n",
       "      <td>39.878521</td>\n",
       "      <td>32.838831</td>\n",
       "      <td>8.631032</td>\n",
       "      <td>27.018628</td>\n",
       "      <td>197.989899</td>\n",
       "      <td>79.195959</td>\n",
       "      <td>205.033028</td>\n",
       "      <td>95.449163</td>\n",
       "      <td>NaN</td>\n",
       "      <td>NaN</td>\n",
       "    </tr>\n",
       "    <tr>\n",
       "      <th>3</th>\n",
       "      <td>23529.373006</td>\n",
       "      <td>0.000056</td>\n",
       "      <td>2.850496e-13</td>\n",
       "      <td>NaN</td>\n",
       "      <td>6.0</td>\n",
       "      <td>5.0</td>\n",
       "      <td>-10.0</td>\n",
       "      <td>7.40</td>\n",
       "      <td>0.76</td>\n",
       "      <td>19437.291667</td>\n",
       "      <td>...</td>\n",
       "      <td>32.292534</td>\n",
       "      <td>31.659087</td>\n",
       "      <td>19.299574</td>\n",
       "      <td>40.402273</td>\n",
       "      <td>197.989899</td>\n",
       "      <td>79.195959</td>\n",
       "      <td>231.068634</td>\n",
       "      <td>143.054932</td>\n",
       "      <td>NaN</td>\n",
       "      <td>NaN</td>\n",
       "    </tr>\n",
       "    <tr>\n",
       "      <th>4</th>\n",
       "      <td>19874.755894</td>\n",
       "      <td>0.000056</td>\n",
       "      <td>3.764204e-13</td>\n",
       "      <td>NaN</td>\n",
       "      <td>6.0</td>\n",
       "      <td>20.0</td>\n",
       "      <td>-10.0</td>\n",
       "      <td>7.40</td>\n",
       "      <td>0.76</td>\n",
       "      <td>16591.739130</td>\n",
       "      <td>...</td>\n",
       "      <td>53.129002</td>\n",
       "      <td>31.894933</td>\n",
       "      <td>38.599149</td>\n",
       "      <td>57.137443</td>\n",
       "      <td>197.989899</td>\n",
       "      <td>79.195959</td>\n",
       "      <td>309.791630</td>\n",
       "      <td>251.083360</td>\n",
       "      <td>NaN</td>\n",
       "      <td>NaN</td>\n",
       "    </tr>\n",
       "    <tr>\n",
       "      <th>5</th>\n",
       "      <td>20206.126633</td>\n",
       "      <td>0.000056</td>\n",
       "      <td>1.404310e-12</td>\n",
       "      <td>NaN</td>\n",
       "      <td>4.5</td>\n",
       "      <td>60.0</td>\n",
       "      <td>-10.0</td>\n",
       "      <td>7.40</td>\n",
       "      <td>0.76</td>\n",
       "      <td>15308.633333</td>\n",
       "      <td>...</td>\n",
       "      <td>24.374618</td>\n",
       "      <td>28.602216</td>\n",
       "      <td>66.855687</td>\n",
       "      <td>75.197103</td>\n",
       "      <td>197.989899</td>\n",
       "      <td>79.195959</td>\n",
       "      <td>457.725421</td>\n",
       "      <td>420.219658</td>\n",
       "      <td>NaN</td>\n",
       "      <td>NaN</td>\n",
       "    </tr>\n",
       "    <tr>\n",
       "      <th>6</th>\n",
       "      <td>15914.249451</td>\n",
       "      <td>0.000056</td>\n",
       "      <td>2.641046e-12</td>\n",
       "      <td>NaN</td>\n",
       "      <td>4.5</td>\n",
       "      <td>120.0</td>\n",
       "      <td>-10.0</td>\n",
       "      <td>7.40</td>\n",
       "      <td>0.76</td>\n",
       "      <td>11741.833333</td>\n",
       "      <td>...</td>\n",
       "      <td>36.978836</td>\n",
       "      <td>27.874003</td>\n",
       "      <td>94.548219</td>\n",
       "      <td>89.424931</td>\n",
       "      <td>197.989899</td>\n",
       "      <td>79.195959</td>\n",
       "      <td>616.299540</td>\n",
       "      <td>588.979730</td>\n",
       "      <td>NaN</td>\n",
       "      <td>NaN</td>\n",
       "    </tr>\n",
       "    <tr>\n",
       "      <th>7</th>\n",
       "      <td>20251.750691</td>\n",
       "      <td>0.000056</td>\n",
       "      <td>7.195609e-11</td>\n",
       "      <td>NaN</td>\n",
       "      <td>7.0</td>\n",
       "      <td>0.2</td>\n",
       "      <td>-10.0</td>\n",
       "      <td>7.83</td>\n",
       "      <td>0.76</td>\n",
       "      <td>17639.611111</td>\n",
       "      <td>...</td>\n",
       "      <td>32.004346</td>\n",
       "      <td>31.834311</td>\n",
       "      <td>3.859915</td>\n",
       "      <td>18.068446</td>\n",
       "      <td>197.989899</td>\n",
       "      <td>79.195959</td>\n",
       "      <td>199.418426</td>\n",
       "      <td>82.702530</td>\n",
       "      <td>NaN</td>\n",
       "      <td>NaN</td>\n",
       "    </tr>\n",
       "    <tr>\n",
       "      <th>8</th>\n",
       "      <td>18569.861833</td>\n",
       "      <td>0.000056</td>\n",
       "      <td>1.896919e-11</td>\n",
       "      <td>NaN</td>\n",
       "      <td>7.0</td>\n",
       "      <td>0.5</td>\n",
       "      <td>-10.0</td>\n",
       "      <td>7.83</td>\n",
       "      <td>0.76</td>\n",
       "      <td>17830.555556</td>\n",
       "      <td>...</td>\n",
       "      <td>29.983146</td>\n",
       "      <td>32.431438</td>\n",
       "      <td>6.103061</td>\n",
       "      <td>22.719868</td>\n",
       "      <td>197.989899</td>\n",
       "      <td>79.195959</td>\n",
       "      <td>201.542232</td>\n",
       "      <td>87.699894</td>\n",
       "      <td>NaN</td>\n",
       "      <td>NaN</td>\n",
       "    </tr>\n",
       "    <tr>\n",
       "      <th>9</th>\n",
       "      <td>17341.940394</td>\n",
       "      <td>0.000056</td>\n",
       "      <td>3.021176e-11</td>\n",
       "      <td>NaN</td>\n",
       "      <td>7.0</td>\n",
       "      <td>1.0</td>\n",
       "      <td>-10.0</td>\n",
       "      <td>7.83</td>\n",
       "      <td>0.76</td>\n",
       "      <td>16424.944444</td>\n",
       "      <td>...</td>\n",
       "      <td>30.385109</td>\n",
       "      <td>30.857365</td>\n",
       "      <td>8.631032</td>\n",
       "      <td>27.018628</td>\n",
       "      <td>197.989899</td>\n",
       "      <td>79.195959</td>\n",
       "      <td>205.033028</td>\n",
       "      <td>95.449163</td>\n",
       "      <td>NaN</td>\n",
       "      <td>NaN</td>\n",
       "    </tr>\n",
       "    <tr>\n",
       "      <th>10</th>\n",
       "      <td>24487.606969</td>\n",
       "      <td>0.000056</td>\n",
       "      <td>5.200001e-11</td>\n",
       "      <td>NaN</td>\n",
       "      <td>6.0</td>\n",
       "      <td>5.0</td>\n",
       "      <td>-10.0</td>\n",
       "      <td>7.83</td>\n",
       "      <td>0.76</td>\n",
       "      <td>21154.333333</td>\n",
       "      <td>...</td>\n",
       "      <td>29.623651</td>\n",
       "      <td>28.565192</td>\n",
       "      <td>19.299574</td>\n",
       "      <td>40.402273</td>\n",
       "      <td>197.989899</td>\n",
       "      <td>79.195959</td>\n",
       "      <td>231.068634</td>\n",
       "      <td>143.054932</td>\n",
       "      <td>NaN</td>\n",
       "      <td>NaN</td>\n",
       "    </tr>\n",
       "    <tr>\n",
       "      <th>11</th>\n",
       "      <td>21319.510486</td>\n",
       "      <td>0.000056</td>\n",
       "      <td>7.902610e-11</td>\n",
       "      <td>NaN</td>\n",
       "      <td>6.0</td>\n",
       "      <td>20.0</td>\n",
       "      <td>-10.0</td>\n",
       "      <td>7.83</td>\n",
       "      <td>0.76</td>\n",
       "      <td>18078.611111</td>\n",
       "      <td>...</td>\n",
       "      <td>38.815751</td>\n",
       "      <td>33.255802</td>\n",
       "      <td>38.599149</td>\n",
       "      <td>57.137443</td>\n",
       "      <td>197.989899</td>\n",
       "      <td>79.195959</td>\n",
       "      <td>309.791630</td>\n",
       "      <td>251.083360</td>\n",
       "      <td>NaN</td>\n",
       "      <td>NaN</td>\n",
       "    </tr>\n",
       "    <tr>\n",
       "      <th>12</th>\n",
       "      <td>22892.758661</td>\n",
       "      <td>0.000056</td>\n",
       "      <td>2.097390e-10</td>\n",
       "      <td>NaN</td>\n",
       "      <td>4.0</td>\n",
       "      <td>60.0</td>\n",
       "      <td>-10.0</td>\n",
       "      <td>7.83</td>\n",
       "      <td>0.76</td>\n",
       "      <td>18853.421053</td>\n",
       "      <td>...</td>\n",
       "      <td>31.109044</td>\n",
       "      <td>26.450751</td>\n",
       "      <td>66.855687</td>\n",
       "      <td>75.197103</td>\n",
       "      <td>197.989899</td>\n",
       "      <td>79.195959</td>\n",
       "      <td>457.725421</td>\n",
       "      <td>420.219658</td>\n",
       "      <td>NaN</td>\n",
       "      <td>NaN</td>\n",
       "    </tr>\n",
       "    <tr>\n",
       "      <th>13</th>\n",
       "      <td>20963.191312</td>\n",
       "      <td>0.000056</td>\n",
       "      <td>1.304523e-09</td>\n",
       "      <td>NaN</td>\n",
       "      <td>4.0</td>\n",
       "      <td>120.0</td>\n",
       "      <td>-10.0</td>\n",
       "      <td>7.83</td>\n",
       "      <td>0.76</td>\n",
       "      <td>12619.777778</td>\n",
       "      <td>...</td>\n",
       "      <td>31.028761</td>\n",
       "      <td>33.363138</td>\n",
       "      <td>94.548219</td>\n",
       "      <td>89.424931</td>\n",
       "      <td>197.989899</td>\n",
       "      <td>79.195959</td>\n",
       "      <td>616.299540</td>\n",
       "      <td>588.979730</td>\n",
       "      <td>NaN</td>\n",
       "      <td>NaN</td>\n",
       "    </tr>\n",
       "  </tbody>\n",
       "</table>\n",
       "<p>14 rows × 23 columns</p>\n",
       "</div>"
      ],
      "text/plain": [
       "              N0     alpha         gamma   b   TOF  latticeDepth_mW  \\\n",
       "0   27293.058504  0.000056 -5.511742e-15 NaN  10.0              0.2   \n",
       "1   30192.248973  0.000056  1.640228e-13 NaN  10.0              0.5   \n",
       "2   20353.361265  0.000056  6.094777e-14 NaN   6.0              1.0   \n",
       "3   23529.373006  0.000056  2.850496e-13 NaN   6.0              5.0   \n",
       "4   19874.755894  0.000056  3.764204e-13 NaN   6.0             20.0   \n",
       "5   20206.126633  0.000056  1.404310e-12 NaN   4.5             60.0   \n",
       "6   15914.249451  0.000056  2.641046e-12 NaN   4.5            120.0   \n",
       "7   20251.750691  0.000056  7.195609e-11 NaN   7.0              0.2   \n",
       "8   18569.861833  0.000056  1.896919e-11 NaN   7.0              0.5   \n",
       "9   17341.940394  0.000056  3.021176e-11 NaN   7.0              1.0   \n",
       "10  24487.606969  0.000056  5.200001e-11 NaN   6.0              5.0   \n",
       "11  21319.510486  0.000056  7.902610e-11 NaN   6.0             20.0   \n",
       "12  22892.758661  0.000056  2.097390e-10 NaN   4.0             60.0   \n",
       "13  20963.191312  0.000056  1.304523e-09 NaN   4.0            120.0   \n",
       "\n",
       "    latticeDetuning_GHz  compz  ODT3_Comp_final        nCount  ...  \\\n",
       "0                 -10.0   7.40             0.76  25473.520000  ...   \n",
       "1                 -10.0   7.40             0.76  25069.538462  ...   \n",
       "2                 -10.0   7.40             0.76  18436.960000  ...   \n",
       "3                 -10.0   7.40             0.76  19437.291667  ...   \n",
       "4                 -10.0   7.40             0.76  16591.739130  ...   \n",
       "5                 -10.0   7.40             0.76  15308.633333  ...   \n",
       "6                 -10.0   7.40             0.76  11741.833333  ...   \n",
       "7                 -10.0   7.83             0.76  17639.611111  ...   \n",
       "8                 -10.0   7.83             0.76  17830.555556  ...   \n",
       "9                 -10.0   7.83             0.76  16424.944444  ...   \n",
       "10                -10.0   7.83             0.76  21154.333333  ...   \n",
       "11                -10.0   7.83             0.76  18078.611111  ...   \n",
       "12                -10.0   7.83             0.76  18853.421053  ...   \n",
       "13                -10.0   7.83             0.76  12619.777778  ...   \n",
       "\n",
       "    xWidth_TOF_h_um  zWidth_TOF_h_um  trapFrequencyZ_kHz  \\\n",
       "0         58.560696        61.611660            3.859915   \n",
       "1         87.920200        54.651901            6.103061   \n",
       "2         39.878521        32.838831            8.631032   \n",
       "3         32.292534        31.659087           19.299574   \n",
       "4         53.129002        31.894933           38.599149   \n",
       "5         24.374618        28.602216           66.855687   \n",
       "6         36.978836        27.874003           94.548219   \n",
       "7         32.004346        31.834311            3.859915   \n",
       "8         29.983146        32.431438            6.103061   \n",
       "9         30.385109        30.857365            8.631032   \n",
       "10        29.623651        28.565192           19.299574   \n",
       "11        38.815751        33.255802           38.599149   \n",
       "12        31.109044        26.450751           66.855687   \n",
       "13        31.028761        33.363138           94.548219   \n",
       "\n",
       "    deconfiningTrapFrequency_Hz  bareTrapFrequencyX_Hz  bareTrapFrequencyY_Hz  \\\n",
       "0                     18.068446             197.989899              79.195959   \n",
       "1                     22.719868             197.989899              79.195959   \n",
       "2                     27.018628             197.989899              79.195959   \n",
       "3                     40.402273             197.989899              79.195959   \n",
       "4                     57.137443             197.989899              79.195959   \n",
       "5                     75.197103             197.989899              79.195959   \n",
       "6                     89.424931             197.989899              79.195959   \n",
       "7                     18.068446             197.989899              79.195959   \n",
       "8                     22.719868             197.989899              79.195959   \n",
       "9                     27.018628             197.989899              79.195959   \n",
       "10                    40.402273             197.989899              79.195959   \n",
       "11                    57.137443             197.989899              79.195959   \n",
       "12                    75.197103             197.989899              79.195959   \n",
       "13                    89.424931             197.989899              79.195959   \n",
       "\n",
       "    trapFrequencyX_Hz  trapFrequencyY_Hz  xWidth_inSitu_v_um  \\\n",
       "0          199.418426          82.702530                 NaN   \n",
       "1          201.542232          87.699894                 NaN   \n",
       "2          205.033028          95.449163                 NaN   \n",
       "3          231.068634         143.054932                 NaN   \n",
       "4          309.791630         251.083360                 NaN   \n",
       "5          457.725421         420.219658                 NaN   \n",
       "6          616.299540         588.979730                 NaN   \n",
       "7          199.418426          82.702530                 NaN   \n",
       "8          201.542232          87.699894                 NaN   \n",
       "9          205.033028          95.449163                 NaN   \n",
       "10         231.068634         143.054932                 NaN   \n",
       "11         309.791630         251.083360                 NaN   \n",
       "12         457.725421         420.219658                 NaN   \n",
       "13         616.299540         588.979730                 NaN   \n",
       "\n",
       "    yWidth_inSitu_v_um  \n",
       "0                  NaN  \n",
       "1                  NaN  \n",
       "2                  NaN  \n",
       "3                  NaN  \n",
       "4                  NaN  \n",
       "5                  NaN  \n",
       "6                  NaN  \n",
       "7                  NaN  \n",
       "8                  NaN  \n",
       "9                  NaN  \n",
       "10                 NaN  \n",
       "11                 NaN  \n",
       "12                 NaN  \n",
       "13                 NaN  \n",
       "\n",
       "[14 rows x 23 columns]"
      ]
     },
     "execution_count": 33,
     "metadata": {},
     "output_type": "execute_result"
    }
   ],
   "source": [
    "resultsDF_pure_premix"
   ]
  },
  {
   "cell_type": "code",
   "execution_count": 34,
   "metadata": {},
   "outputs": [],
   "source": [
    "latticeDepth = 120\n",
    "latticeDetuning = -10\n",
    "compz = compz_not_lossy\n",
    "ODTFactor = 8\n",
    "df_tempZ = getSubDF(df, ['latticeDepth_mW', 'latticeDetuning_GHz', 'compz', 'ODTFactor'], [latticeDepth, latticeDetuning, compz, ODTFactor])\n",
    "time = np.linspace(0, 3000, 10000)"
   ]
  },
  {
   "cell_type": "code",
   "execution_count": 35,
   "metadata": {},
   "outputs": [
    {
     "data": {
      "image/png": "[encoded data removed]",
      "text/plain": [
       "<Figure size 432x288 with 1 Axes>"
      ]
     },
     "metadata": {
      "needs_background": "light"
     },
     "output_type": "display_data"
    }
   ],
   "source": [
    "resultZ = getSubDF(resultsDF_pure, ['latticeDepth_mW', 'latticeDetuning_GHz', 'compz'], [latticeDepth, latticeDetuning, compz])\n",
    "\n",
    "NZ, gammaZ = resultZ[['N0', 'gamma']].iloc[0,:]\n",
    "Z = N_polarized_pure3b(time, NZ, gammaZ)\n",
    "\n",
    "plt.figure()\n",
    "plt.plot(df_tempZ['BECHoldTime'], df_tempZ['nCount'], '+', label = str(round(latticeDepth, 2)) + ' ' + str(False))\n",
    "plt.plot(time, Z, '-', label = 'fitZ')\n",
    "plt.legend()\n",
    "#plt.ylim(0, 20000)\n",
    "#plt.xlim(0,10)\n",
    "plt.xlabel('BECHoldTime (ms)')\n",
    "plt.ylabel('nCount')\n",
    "plt.show()"
   ]
  },
  {
   "cell_type": "code",
   "execution_count": 36,
   "metadata": {},
   "outputs": [
    {
     "data": {
      "image/png": "[encoded data removed]",
      "text/plain": [
       "<Figure size 432x288 with 1 Axes>"
      ]
     },
     "metadata": {
      "needs_background": "light"
     },
     "output_type": "display_data"
    }
   ],
   "source": [
    "resultZ = getSubDF(resultsDF_pure_premix, ['latticeDepth_mW', 'latticeDetuning_GHz', 'compz'], [latticeDepth, latticeDetuning, compz])\n",
    "\n",
    "NZ, gammaZ = resultZ[['N0', 'gamma']].iloc[0,:]\n",
    "Z = N_polarized_premix(time, NZ, gammaZ)\n",
    "\n",
    "plt.figure()\n",
    "plt.plot(df_tempZ['BECHoldTime'], df_tempZ['nCount'], '+', label = str(round(latticeDepth, 2)) + ' ' + str(False))\n",
    "plt.plot(time, Z, '-', label = 'fitZ')\n",
    "plt.legend()\n",
    "#plt.ylim(0, 20000)\n",
    "#plt.xlim(0,10)\n",
    "plt.xlabel('BECHoldTime (ms)')\n",
    "plt.ylabel('nCount')\n",
    "plt.show()"
   ]
  },
  {
   "cell_type": "code",
   "execution_count": 37,
   "metadata": {},
   "outputs": [
    {
     "data": {
      "image/png": "[encoded data removed]",
      "text/plain": [
       "<Figure size 432x288 with 1 Axes>"
      ]
     },
     "metadata": {
      "needs_background": "light"
     },
     "output_type": "display_data"
    }
   ],
   "source": [
    "resultZ = getSubDF(resultsDF_mix, ['latticeDepth_mW', 'latticeDetuning_GHz', 'compz'], [latticeDepth, latticeDetuning, compz])\n",
    "\n",
    "NZ, alphaZ, gammaZ = resultZ[['N0', 'alpha', 'gamma']].iloc[0,:]\n",
    "\n",
    "Z = N_polarized(time, NZ, alphaZ, gammaZ)\n",
    "\n",
    "plt.figure()\n",
    "plt.plot(df_tempZ['BECHoldTime'], df_tempZ['nCount'], '+', label = str(round(latticeDepth, 2)) + ' ' + str(False))\n",
    "plt.plot(time, Z, '-', label = 'fitZ')\n",
    "plt.legend()\n",
    "#plt.ylim(0,20000)\n",
    "#plt.xlim(0,10)\n",
    "plt.xlabel('BECHoldTime (ms)')\n",
    "plt.ylabel('nCount')\n",
    "plt.show()"
   ]
  },
  {
   "cell_type": "code",
   "execution_count": 38,
   "metadata": {},
   "outputs": [
    {
     "data": {
      "image/png": "[encoded data removed]",
      "text/plain": [
       "<Figure size 432x288 with 1 Axes>"
      ]
     },
     "metadata": {
      "needs_background": "light"
     },
     "output_type": "display_data"
    }
   ],
   "source": [
    "resultZ = getSubDF(resultsDF_lin, ['latticeDepth_mW', 'latticeDetuning_GHz', 'compz'], [latticeDepth, latticeDetuning, compz])\n",
    "\n",
    "NZ, bZ = resultZ[['N0', 'b']].iloc[0,:]\n",
    "\n",
    "Z = N_linear(time, NZ, bZ)\n",
    "\n",
    "plt.figure()\n",
    "plt.plot(df_tempZ['BECHoldTime'], df_tempZ['nCount'], '+', label = str(round(latticeDepth, 2)) + ' ' + str(False))\n",
    "plt.plot(time, Z, '-', label = 'fitZ')\n",
    "plt.legend()\n",
    "#plt.ylim(0,30000)\n",
    "#plt.xlim(0,100)\n",
    "plt.xlabel('BECHoldTime (ms)')\n",
    "plt.ylabel('nCount')\n",
    "plt.show()"
   ]
  },
  {
   "cell_type": "code",
   "execution_count": 39,
   "metadata": {},
   "outputs": [
    {
     "data": {
      "image/png": "[encoded data removed]",
      "text/plain": [
       "<Figure size 432x288 with 1 Axes>"
      ]
     },
     "metadata": {
      "needs_background": "light"
     },
     "output_type": "display_data"
    }
   ],
   "source": [
    "resultsDF_notLossy = getSubDF(resultsDF_mix, ['compz'], [compz])\n",
    "resultsDF_notLossy_pure = getSubDF(resultsDF_pure, ['compz'], [compz])\n",
    "resultsDF_notLossy_lin = getSubDF(resultsDF_lin, ['compz'], [compz])\n",
    "\n",
    "#latticePower = -resultsDF_Z['latticeDepth']/resultsDF_Z['latticeDetuning']\n",
    "trapFrequencyList = resultsDF_notLossy['trapFrequencyZ_kHz']\n",
    "decay_1b3b = resultsDF_notLossy['gamma']/resultsDF_notLossy['gamma'].mean()\n",
    "decay_3b = resultsDF_notLossy_pure['gamma']/resultsDF_notLossy_pure['gamma'].mean()\n",
    "decay_lin = resultsDF_notLossy_lin['b']/resultsDF_notLossy_lin['b'].mean()\n",
    "\n",
    "plt.figure()\n",
    "plt.semilogy(trapFrequencyList, decay_1b3b, 'b*', label = '1b + 3b')\n",
    "plt.semilogy(trapFrequencyList, decay_3b, 'g*', label = '3b')\n",
    "plt.semilogy(trapFrequencyList, decay_lin, 'r*', label = 'lin')\n",
    "plt.xlabel(\"Trap frequency (kHz)\")\n",
    "plt.ylabel(\"Normalized decay rate\")\n",
    "\n",
    "\n",
    "plt.legend()\n",
    "#plt.ylim(0,0.2*10**(-11))\n",
    "plt.show()"
   ]
  },
  {
   "cell_type": "markdown",
   "metadata": {},
   "source": [
    "The increase in power should result in a smaller cloud. The density is proportional to $n\\sim 1/(a_{oh}r_{\\perp}^{2}) \\sim \\sqrt{\\omega_{z}}\\frac{\\omega_{\\perp}^{2}}{\\mu}$. Assuming the chemical potential constant, the density $n$ goes like $(P/\\Delta)^{5/4}$. In that case the decay coefficient which is proportional to $n^{2}$ should be scalled accordingly.\n",
    "If we rather fix the scattering length $a$ and write $\\mu\\sim na$ then at constant $a$ it gives $n \\sim (P/\\Delta)^{5/8})$.\n",
    "\n",
    "And $P/\\Delta \\propto \\omega_{z}^{2}$\n",
    "\n",
    "Note for a thermal cloud that gets compressed from $\\omega_i$ to $\\omega_f = k\\omega_i$. $E_i = \\sum \\epsilon_i p_i$ and $E_f = \\sum \\epsilon_f p_f = \\sum (k\\epsilon_i) p_i = kE_i$. So the temperature goes like $T_f = kT_i$. But the probability to occupy each state remains the same, so $\\omega^2 \\Delta x^2/T = $ cste. There for $\\Delta x_f = \\Delta x_i/\\sqrt{k}$. So a good proxy for the density is $n \\propto 1/(a_z r^2) \\propto \\omega_z^{1/2} \\sqrt{k}^{2} \\propto \\omega_z^{3/2}$. Or if we want to be more precise and take into consideration the ODT trapping, one should say $n \\propto \\omega_z^{1/2}\\omega_{\\perp,1}^{1/2}\\omega_{\\perp,2}^{1/2}$"
   ]
  },
  {
   "cell_type": "code",
   "execution_count": 40,
   "metadata": {},
   "outputs": [
    {
     "data": {
      "image/png": "[encoded data removed]",
      "text/plain": [
       "<Figure size 432x288 with 1 Axes>"
      ]
     },
     "metadata": {
      "needs_background": "light"
     },
     "output_type": "display_data"
    }
   ],
   "source": [
    "powerExponent = 3/2\n",
    "# 3/2 for 2D thermal + 1D HO\n",
    "# 5/2 for 2D BEC fixed chemical potential (wrong) + 1D HO\n",
    "# 5/4 for 2D BEC fixed scattering length + 1D HO\n",
    "\n",
    "trapFrequencyList = resultsDF_notLossy['trapFrequencyZ_kHz']\n",
    "decay_1b3b = resultsDF_notLossy['gamma']/resultsDF_notLossy['gamma'].mean()/(trapFrequencyList**2)**(powerExponent)\n",
    "decay_3b = resultsDF_notLossy_pure['gamma']/resultsDF_notLossy_pure['gamma'].mean()/(trapFrequencyList**2)**(powerExponent)\n",
    "decay_lin = resultsDF_notLossy_lin['b']/resultsDF_notLossy_lin['b'].mean()/(trapFrequencyList**2)**(powerExponent)\n",
    "### That was the previous scaling before we changed to take into account the ODT trapping\n",
    "\n",
    "### Now it is simple n^2 \\propto omega_z * omega_perp1^2 * omega_perp2^2\n",
    "trapFrequencyList = resultsDF_notLossy['trapFrequencyZ_kHz']\n",
    "trapFrequencyPerp1List = resultsDF_notLossy['trapFrequencyX_Hz']\n",
    "trapFrequencyPerp2List = resultsDF_notLossy['trapFrequencyY_Hz']\n",
    "decay_1b3b = resultsDF_notLossy['gamma']/resultsDF_notLossy['gamma'].mean()/(trapFrequencyList*trapFrequencyPerp1List*trapFrequencyPerp2List)\n",
    "decay_3b = resultsDF_notLossy_pure['gamma']/resultsDF_notLossy_pure['gamma'].mean()/(trapFrequencyList*trapFrequencyPerp1List*trapFrequencyPerp2List)\n",
    "decay_lin = resultsDF_notLossy_lin['b']/resultsDF_notLossy_lin['b'].mean()/(trapFrequencyList*trapFrequencyPerp1List*trapFrequencyPerp2List)\n",
    "\n",
    "\n",
    "plt.figure()\n",
    "plt.semilogy(trapFrequencyList, decay_1b3b, 'b*', label = '1b + 3b')\n",
    "plt.semilogy(trapFrequencyList, decay_3b, 'g*', label = '3b')\n",
    "plt.semilogy(trapFrequencyList, decay_lin, 'r*', label = 'lin')\n",
    "\n",
    "plt.xlabel(\"Trap frequency (kHz)\")\n",
    "plt.ylabel(\"Normalized decay rate / $n^2$\")\n",
    "plt.legend()\n",
    "#plt.ylim(0,0.2*10**(-11))\n",
    "plt.show()"
   ]
  },
  {
   "cell_type": "markdown",
   "metadata": {},
   "source": [
    "Let's use only the pure 3b fit"
   ]
  },
  {
   "cell_type": "code",
   "execution_count": 41,
   "metadata": {},
   "outputs": [],
   "source": [
    "results = resultsDF_pure_premix\n",
    "#results = resultsDF_pure\n",
    "#results = resultsDF_lin"
   ]
  },
  {
   "cell_type": "markdown",
   "metadata": {},
   "source": [
    "# Vertical deconvolution"
   ]
  },
  {
   "cell_type": "code",
   "execution_count": 42,
   "metadata": {},
   "outputs": [],
   "source": [
    "xResolution_um = 3.02\n",
    "yResolution_um = 3.46\n",
    "results['xWidth_inSitu_v_um'] = np.sqrt(results['xWidth_inSitu_v_um']**2-xResolution_um**2)\n",
    "results['yWidth_inSitu_v_um'] = np.sqrt(results['yWidth_inSitu_v_um']**2-yResolution_um**2)"
   ]
  },
  {
   "cell_type": "code",
   "execution_count": 43,
   "metadata": {},
   "outputs": [],
   "source": [
    "latticeDepthList = np.sort(df['latticeDepth_mW'].unique())\n",
    "BECHoldTimeList = np.sort(df['BECHoldTime'].unique())\n",
    "latticeDetuningList = np.sort(df['latticeDetuning_GHz'].unique())\n",
    "compzList = np.sort(df['compz'].unique())\n",
    "ODTFactorList = np.sort(df['ODTFactor'].unique())"
   ]
  },
  {
   "cell_type": "code",
   "execution_count": 44,
   "metadata": {},
   "outputs": [
    {
     "data": {
      "image/png": "[encoded data removed]",
      "text/plain": [
       "<Figure size 432x288 with 1 Axes>"
      ]
     },
     "metadata": {
      "needs_background": "light"
     },
     "output_type": "display_data"
    }
   ],
   "source": [
    "plt.figure()\n",
    "i = 0\n",
    "for latticeDetuning in latticeDetuningList:\n",
    "    decay_notlossy = getSubDF(results, ['latticeDetuning_GHz', 'compz'], [latticeDetuning, compz_not_lossy])\n",
    "    decay_lossy = getSubDF(results, ['latticeDetuning_GHz', 'compz'], [latticeDetuning, compz_lossy])\n",
    "    plt.semilogy(decay_notlossy['trapFrequencyZ_kHz'], decay_notlossy['gamma'], color = colors[i], marker = 'o', label = latticeDetuning)\n",
    "    plt.semilogy(decay_lossy['trapFrequencyZ_kHz'], decay_lossy['gamma'], color = colors[i], marker = '+')\n",
    "    i += 1\n",
    "plt.legend()\n",
    "#plt.xlim(0,20)\n",
    "plt.xlabel('Trap frequency in kHz')\n",
    "plt.ylabel('Raw decay coefficient')\n",
    "plt.title('Comparision between near the feshbach resonance (+) and away (circles)')\n",
    "plt.show()"
   ]
  },
  {
   "cell_type": "markdown",
   "metadata": {},
   "source": [
    "The average xWidth of the cloud is 4.36 pixel and yWidth is 4.45, each are 6.5 micro meters big and magnification is 4. It makes 7 micrometers cloud size (one sigma), so approximately 40 pancakes filled.\n",
    "\n",
    "The nCount of the previous data was accounting a 3.45 micro meters pixel and 1 magnification, this should be corrected accordingly\n",
    "\n",
    "For the temperature : $\\sigma = \\sqrt{\\sigma_0^{2}+(\\sigma_v\\tau)^2}$ with $\\sigma_{0} = 7 \\mu m$ and $\\tau$ the time of flight. And $\\sigma_{v} = \\sqrt{\\frac{k_{B}T}{m}}$ so $T = \\frac{m}{k_{B}}\\frac{\\sigma^2-\\sigma^2_0}{\\tau^2}$"
   ]
  },
  {
   "cell_type": "code",
   "execution_count": 45,
   "metadata": {},
   "outputs": [
    {
     "data": {
      "text/html": [
       "<div>\n",
       "<style scoped>\n",
       "    .dataframe tbody tr th:only-of-type {\n",
       "        vertical-align: middle;\n",
       "    }\n",
       "\n",
       "    .dataframe tbody tr th {\n",
       "        vertical-align: top;\n",
       "    }\n",
       "\n",
       "    .dataframe thead th {\n",
       "        text-align: right;\n",
       "    }\n",
       "</style>\n",
       "<table border=\"1\" class=\"dataframe\">\n",
       "  <thead>\n",
       "    <tr style=\"text-align: right;\">\n",
       "      <th></th>\n",
       "      <th>xWidth</th>\n",
       "      <th>xWidth_TOF_h_um</th>\n",
       "      <th>temperature_nK</th>\n",
       "    </tr>\n",
       "  </thead>\n",
       "  <tbody>\n",
       "    <tr>\n",
       "      <th>0</th>\n",
       "      <td>56.69420</td>\n",
       "      <td>284.978995</td>\n",
       "      <td>16012.069181</td>\n",
       "    </tr>\n",
       "    <tr>\n",
       "      <th>1</th>\n",
       "      <td>39.88660</td>\n",
       "      <td>60.214783</td>\n",
       "      <td>714.871541</td>\n",
       "    </tr>\n",
       "    <tr>\n",
       "      <th>2</th>\n",
       "      <td>27.93240</td>\n",
       "      <td>42.548139</td>\n",
       "      <td>356.929875</td>\n",
       "    </tr>\n",
       "    <tr>\n",
       "      <th>3</th>\n",
       "      <td>40.51250</td>\n",
       "      <td>56.002546</td>\n",
       "      <td>618.354169</td>\n",
       "    </tr>\n",
       "    <tr>\n",
       "      <th>4</th>\n",
       "      <td>1.37621</td>\n",
       "      <td>351.504566</td>\n",
       "      <td>24360.359747</td>\n",
       "    </tr>\n",
       "    <tr>\n",
       "      <th>...</th>\n",
       "      <td>...</td>\n",
       "      <td>...</td>\n",
       "      <td>...</td>\n",
       "    </tr>\n",
       "    <tr>\n",
       "      <th>326</th>\n",
       "      <td>NaN</td>\n",
       "      <td>NaN</td>\n",
       "      <td>NaN</td>\n",
       "    </tr>\n",
       "    <tr>\n",
       "      <th>327</th>\n",
       "      <td>NaN</td>\n",
       "      <td>NaN</td>\n",
       "      <td>NaN</td>\n",
       "    </tr>\n",
       "    <tr>\n",
       "      <th>328</th>\n",
       "      <td>NaN</td>\n",
       "      <td>NaN</td>\n",
       "      <td>NaN</td>\n",
       "    </tr>\n",
       "    <tr>\n",
       "      <th>329</th>\n",
       "      <td>NaN</td>\n",
       "      <td>NaN</td>\n",
       "      <td>NaN</td>\n",
       "    </tr>\n",
       "    <tr>\n",
       "      <th>330</th>\n",
       "      <td>NaN</td>\n",
       "      <td>NaN</td>\n",
       "      <td>NaN</td>\n",
       "    </tr>\n",
       "  </tbody>\n",
       "</table>\n",
       "<p>331 rows × 3 columns</p>\n",
       "</div>"
      ],
      "text/plain": [
       "       xWidth  xWidth_TOF_h_um  temperature_nK\n",
       "0    56.69420       284.978995    16012.069181\n",
       "1    39.88660        60.214783      714.871541\n",
       "2    27.93240        42.548139      356.929875\n",
       "3    40.51250        56.002546      618.354169\n",
       "4     1.37621       351.504566    24360.359747\n",
       "..        ...              ...             ...\n",
       "326       NaN              NaN             NaN\n",
       "327       NaN              NaN             NaN\n",
       "328       NaN              NaN             NaN\n",
       "329       NaN              NaN             NaN\n",
       "330       NaN              NaN             NaN\n",
       "\n",
       "[331 rows x 3 columns]"
      ]
     },
     "execution_count": 45,
     "metadata": {},
     "output_type": "execute_result"
    }
   ],
   "source": [
    "#sigma_0_um = 7\n",
    "sigma_0_um = 0\n",
    "\n",
    "#df['temperature'] = (m/k_B*((df['xWidth_TOF_h_um']*um)**2-(df['xWidth_inSitu_v_um']*um)**2)/((df['TOF']*ms)**2))/nK # in nano kelvin\n",
    "# if you use xWidth_inSitu_v_um there is nothing for red detuned runs\n",
    "\n",
    "df['temperature_nK'] = (m/k_B*((df['xWidth_TOF_h_um']*um)**2-(sigma_0_um*um)**2)/((df['TOF']*ms)**2))/nK # in nano kelvin\n",
    "df[['xWidth', 'xWidth_TOF_h_um','temperature_nK']]"
   ]
  },
  {
   "cell_type": "code",
   "execution_count": 46,
   "metadata": {},
   "outputs": [],
   "source": [
    "df_temperature = df.groupby(['latticeDetuning_GHz', 'BECHoldTime', 'latticeDepth_mW', 'ODTFactor', 'compz']).mean().reset_index()\n",
    "df_initial_temperature = getSubDF(df_temperature, ['BECHoldTime'], [0]).groupby(['latticeDetuning_GHz', 'latticeDepth_mW', 'compz', 'ODTFactor']).mean().reset_index()"
   ]
  },
  {
   "cell_type": "code",
   "execution_count": 47,
   "metadata": {},
   "outputs": [],
   "source": [
    "results = pd.merge(results, df_initial_temperature, how=\"outer\", on=[\"latticeDetuning_GHz\", \"latticeDepth_mW\", 'compz', 'ODTFactor'], suffixes=('', '_y'))#, validate=\"many_to_many\")\n",
    "results.drop(results.filter(regex='_y$').columns.tolist(),axis=1, inplace=True)"
   ]
  },
  {
   "cell_type": "code",
   "execution_count": 48,
   "metadata": {},
   "outputs": [
    {
     "data": {
      "image/png": "[encoded data removed]",
      "text/plain": [
       "<Figure size 432x288 with 1 Axes>"
      ]
     },
     "metadata": {
      "needs_background": "light"
     },
     "output_type": "display_data"
    }
   ],
   "source": [
    "compz = compz_not_lossy\n",
    "plt.figure()\n",
    "for latticeDetuning in latticeDetuningList:\n",
    "    for latticeDepth in latticeDepthList:\n",
    "        df_temp = getSubDF(df_temperature, ['latticeDepth_mW', 'latticeDetuning_GHz', 'compz'], [latticeDepth, latticeDetuning, compz])\n",
    "        plt.plot(df_temp['BECHoldTime'], df_temp['temperature_nK'] )\n",
    "plt.ylim(0,1000)\n",
    "plt.xlim(0,100)\n",
    "plt.xlabel('BECHoldTime')\n",
    "plt.ylabel('Temperature (nK)')\n",
    "plt.show()"
   ]
  },
  {
   "cell_type": "code",
   "execution_count": 49,
   "metadata": {},
   "outputs": [
    {
     "data": {
      "image/png": "[encoded data removed]",
      "text/plain": [
       "<Figure size 432x288 with 1 Axes>"
      ]
     },
     "metadata": {
      "needs_background": "light"
     },
     "output_type": "display_data"
    }
   ],
   "source": [
    "compz = compz_not_lossy\n",
    "plt.figure()\n",
    "for latticeDetuning in latticeDetuningList:\n",
    "    df_temp = getSubDF(df_initial_temperature, ['latticeDetuning_GHz', 'compz'], [latticeDetuning, compz])\n",
    "    plt.plot(df_temp['trapFrequencyZ_kHz'], df_temp['temperature_nK'], label = latticeDetuning)\n",
    "#plt.ylim(0,1000)\n",
    "#plt.xlim(0,100)\n",
    "plt.legend()\n",
    "plt.xlabel('trapFrequencyZ_kHz')\n",
    "plt.ylabel('Temperature (nK)')\n",
    "plt.show()"
   ]
  },
  {
   "cell_type": "markdown",
   "metadata": {},
   "source": [
    "The density is $N/V \\simeq N/(2a_z(2a_{\\perp})^2) = N/\\left(8\\sqrt{\\hbar/(m\\omega_z)}\\sqrt{k_B T/m\\omega_\\perp^2}^{2}\\right) = \\frac{N m^{3/2}\\omega_z^{1/2}\\omega_\\perp}{8\\hbar^{1/2} k_B T} = \\frac{N m^{3/2}\\omega_z^{5/2}}{8A^2\\hbar^{1/2} k_B T}$ with $A = \\omega_z / \\omega_\\perp$ the aspect ratio (A = 162)\n",
    "\n",
    "More precise calculation would be $P(r,z) = K e^{-\\frac{z^2}{2a_z^{2}}} e^{-\\frac{\\frac{1}{2}m\\omega_\\perp^2 r^{2}}{k_B T}}$ and normalization condition gives for the N-particle 3D density probability $n(r,z) = \\frac{N m \\omega_\\perp^{2}}{\\pi^{3/2}\\sqrt{2}a_z k_B T} e^{-\\frac{z^2}{2a_z^{2}}} e^{-\\frac{\\frac{1}{2}m\\omega_\\perp^2 r^{2}}{k_B T}} = \\frac{N m^{3/2} \\omega_z^{5/2}}{\\pi^{3/2}\\sqrt{2}\\hbar^{1/2}A^{2} k_B T} e^{-\\frac{z^2}{2a_z^{2}}} e^{-\\frac{\\frac{1}{2}m\\omega_\\perp^2 r^{2}}{k_B T}}$. And we have $\\pi^{3/2}\\sqrt{2} = 7.87 \\simeq 8$.\n",
    "\n",
    "Eventually we changed this analysis to take into account the ODT trapping potential and we are keeping $n(r,z) = \\frac{N m \\omega_\\perp^{2}}{\\pi^{3/2}\\sqrt{2}a_z k_B T} e^{-\\frac{z^2}{2a_z^{2}}} e^{-\\frac{\\frac{1}{2}m\\omega_\\perp^2 r^{2}}{k_B T}} = \\frac{N m^{3/2}\\omega_z^{1/2} \\omega_\\perp^{2}}{\\pi^{3/2}\\sqrt{2}\\hbar^{1/2} k_B T} e^{-\\frac{z^2}{2a_z^{2}}} e^{-\\frac{\\frac{1}{2}m\\omega_\\perp^2 r^{2}}{k_B T}}$\n",
    "\n",
    "Note that here the dependance looks to be like $\\omega_z^{5/2}$ but there is a dependance hidden in the temperature that should go up like $\\omega$, starting from 90-200 Hz in the ODT, up to 2 kHz in the deepest lattice, so there should be a factor of 10 there."
   ]
  },
  {
   "cell_type": "markdown",
   "metadata": {},
   "source": [
    "Now we can put units on the 3-body coefficient. WRONG: From the fit we get $\\gamma = \\beta<n^2>$. And the time unit of the fit is ms.\n",
    "I keep the mistake here because it caused me some trouble. The real expression is $\\beta = \\gamma V^2$. Indeed $\\frac{dN}{dt} = -\\gamma N^3$ for the fit and $\\frac{dN}{dt} = -\\beta<n^2>N = -\\beta/V^2 N^3$. Volume here is understood as the volume of all the pancakes combined."
   ]
  },
  {
   "cell_type": "markdown",
   "metadata": {},
   "source": [
    "# Notes from the BEC Calculation\n",
    "\n",
    "\n",
    "## Temperature and trap frequency\n",
    "\n",
    "### In BEC\n",
    "\n",
    "In the BEC the density is like $n(x, y, z) = K e^{-\\frac{\\frac{1}{2}m(\\omega_x^2 x^2 + \\omega_y^2 y^2 + \\omega_z^2 z^2)}{k_B T}} = N\\omega_x\\omega_y\\omega_z\\left(\\frac{m}{2\\pi k_B T}\\right)^{3/2} e^{-\\frac{\\frac{1}{2}m(\\omega_x^2 x^2 + \\omega_y^2 y^2 + \\omega_z^2 z^2)}{k_B T}} = n_0 e^{-\\frac{\\frac{1}{2}m(\\omega_x^2 x^2 + \\omega_y^2 y^2 + \\omega_z^2 z^2)}{k_B T}}$\n",
    "\n",
    "By definition $<n^2> = \\int n^2p(x, y, z)d\\tau = \\frac{1}{N}\\int n^3 d\\tau = N^2 (\\omega_x\\omega_y\\omega_z)^2\\frac{1}{\\sqrt{27}}\\left(\\frac{m}{2\\pi k_B T}\\right)^3 = \\frac{N^2}{\\sqrt{27}(2\\pi)^3(\\sigma_x\\sigma_y\\sigma_z)^2}$. The differential equation formula is: $\\frac{dN}{dt} = -\\gamma N^3$ in the fit, but $\\frac{dN}{dt} = -\\beta <n^2> N$ in reality, so $\\frac{dN}{dt} = -\\beta \\frac{N^2}{\\alpha} N$ with $\\alpha = 3^{3/2}\\left(\\frac{2\\pi k_B T}{m}\\right)^3\\frac{1}{(\\omega_x\\omega_y\\omega_z)^2} = 3^{3/2}(2\\pi)^3(\\sigma_x\\sigma_y\\sigma_z)^2 = \\frac{3^{3/2}}{(n_0/N)^2}$, so $\\beta = \\gamma\\alpha$\n",
    "\n",
    "### In the lattice\n",
    "\n",
    "Note: I should use the full calculation of the gaussian wavepacket, in the mean time I can define a fake $\\frac{1}{\\bar a_z} = \\frac{1}{\\lambda /2\\sqrt{2\\pi}} + \\frac{1}{a_z}$.\n",
    "Indeed, for deep lattices, the density is $n(x, y, z) = n_0 e^{-\\frac{\\frac{1}{2}m(\\omega_x^2 x^2 + \\omega_y^2 y^2)}{k_B T}}e^{-\\frac{z^2}{2a_z^2}}$ and therefore $\\boxed{n_0 = \\frac{Nm\\omega_x\\omega_y}{(2\\pi)^{3/2}k_B T a_z} = \\frac{Nm^{3/2}\\omega_x\\omega_y\\omega_z^{1/2}}{(2\\pi)^{3/2}k_B T \\sqrt{\\hbar}}}$ but in the case of a very weak lattice $a_z$ should saturate to a fixed value. Write the 3D density $n(x, y, z) = n_0 e^{-\\frac{\\frac{1}{2}m(\\omega_x^2 x^2 + \\omega_y^2 y^2)}{k_B T}}$ and integrate it on one lattice site $z = -\\lambda/4 .. \\lambda /4$ gives that $\\frac{\\lambda}{2} = \\sqrt{2\\pi a_{z,saturated}^2}$. A good interpolation would be $\\frac{1}{\\bar a_z} = \\frac{1}{\\lambda /2\\sqrt{2\\pi}} + \\frac{1}{a_z}$. And it leads to the effective $\\bar \\omega_z = \\left( \\sqrt{\\omega_z} + \\frac{2\\sqrt{2\\pi}}{\\lambda}\\sqrt{\\frac{\\hbar}{m}}\\right)^2 = \\left( \\sqrt{\\omega_z} + \\frac{2}{\\sqrt{\\pi}}\\sqrt{\\frac{E_r}{\\hbar}}\\right)^2$. The correction at $\\omega_z = 0$ is about 2.8 kHz.\n",
    "\n",
    "Then we again have $<n^2> = n_0^2/\\sqrt{27}$ and the local differential equation is $\\frac{dn}{dt} = -\\beta n^2 n$ which integrated over the volume gives$\\int_V \\frac{dn}{dt} = \\frac{dN}{dt} = -\\int_V \\beta n^2 n d\\tau = -\\int_V \\beta n^2 Np(\\tau) d\\tau = -\\beta <n(t)^2>N = -\\beta\\frac{n_0^2\\left(\\frac{N(t)}{N_0}\\right)^2}{\\sqrt{27}}N$. So eventually $\\boxed{\\frac{dN}{dt} =-\\beta\\frac{n_0^2}{N_0^2\\sqrt{27}}N^3} = -\\gamma N^3$\n",
    "\n",
    "## In situ measurement\n",
    "\n",
    "Other way to calculate the volume, simply use the in situ imaging with the density being $N/V \\simeq N/(2a_x 2a_y 2a_z)^2) = \\frac{N}{8(7\\mu m 7.3\\mu m 18\\mu m)}$. Actually more precise calculation gives: $n = \\frac{N}{(2\\pi)^{3/2}\\sigma_x\\sigma_y\\sigma_z}e^{-\\frac{1}{2}(\\frac{x^2}{\\sigma_x^2}+\\frac{y^2}{\\sigma_y^2}+\\frac{z^2}{\\sigma_z^2})}$ and therefore $<n^2> = \\frac{1}{N}\\int n^3 d\\tau = \\frac{N^2}{3^{3/2}(2\\pi)^3(\\sigma_x\\sigma_y\\sigma_z)^2}$."
   ]
  },
  {
   "cell_type": "code",
   "execution_count": 50,
   "metadata": {},
   "outputs": [],
   "source": [
    "def effectiveOmegaZ(omega):\n",
    "    return (np.sqrt(omega)+2*np.sqrt(2*np.pi*hbar/m)/(741*nm))**2\n",
    "\n",
    "results['effectiveTrapFrequencyZ_kHz'] = effectiveOmegaZ(results['trapFrequencyZ_kHz']*kHz)/kHz"
   ]
  },
  {
   "cell_type": "code",
   "execution_count": 51,
   "metadata": {},
   "outputs": [],
   "source": [
    "numberOfPancakes_fromBEC = 40 # for ODT Prefactor of 1\n",
    "numberOfPancakes = numberOfPancakes_fromBEC/np.sqrt(np.maximum(results['ODTFactor'], 1))\n",
    "\n",
    "temperature_nK = 400\n",
    "prefactor = (m/(2*np.pi))**(3/2)/(k_B*np.sqrt(hbar))\n",
    "# I assume here 400 nK, but eventually we should do a proper thermometry of the initial cloud.\n",
    "\n",
    "#results['density'] = results['N0']/numberOfPancakes*prefactor*(2*np.pi*results['trapFrequency']*10**3)**(5/2)/(temperature_nK*10**(-9))*10**(-6)  # in atoms / cm3\n",
    "trapFrequenciesProduct = (results['effectiveTrapFrequencyZ_kHz']*kHz)**(1/2)*results['trapFrequencyX_Hz']*Hz*results['trapFrequencyY_Hz']*Hz\n",
    "\n",
    "# MODIFY THE NUMBER OF PANCAKES HERE\n",
    "results['density_constantT'] = results['N0']/numberOfPancakes*prefactor/(temperature_nK*nK)*trapFrequenciesProduct*cm3  # in atoms / cm3"
   ]
  },
  {
   "cell_type": "code",
   "execution_count": 52,
   "metadata": {},
   "outputs": [],
   "source": [
    "results['beta_constantT'] = results['gamma']/ms  * results['N0']**2 * np.sqrt(27) / results['density_constantT']**2 # this is is cm^6/s"
   ]
  },
  {
   "cell_type": "code",
   "execution_count": 53,
   "metadata": {},
   "outputs": [
    {
     "data": {
      "image/png": "[encoded data removed]",
      "text/plain": [
       "<Figure size 576x576 with 1 Axes>"
      ]
     },
     "metadata": {
      "needs_background": "light"
     },
     "output_type": "display_data"
    }
   ],
   "source": [
    "plt.figure(figsize = (8, 8))\n",
    "i = 0\n",
    "for latticeDetuning in latticeDetuningList:\n",
    "    decay_notlossy = getSubDF(results, ['latticeDetuning_GHz', 'compz'], [latticeDetuning, compz_not_lossy])\n",
    "    decay_lossy = getSubDF(results, ['latticeDetuning_GHz', 'compz'], [latticeDetuning, compz_lossy])\n",
    "    for ODTFactor in results['ODTFactor'].unique():\n",
    "        decay_notlossy_2 = getSubDF(decay_notlossy, ['ODTFactor'], [ODTFactor])\n",
    "        decay_lossy_2 = getSubDF(decay_lossy, ['ODTFactor'], [ODTFactor])\n",
    "        plt.semilogy(decay_notlossy_2['trapFrequencyZ_kHz'], decay_notlossy_2['beta_constantT'], color = colors[i], marker = 'o', linewidth = 0.3 + ODTFactor/2, label = latticeDetuning)\n",
    "        plt.semilogy(decay_lossy_2['trapFrequencyZ_kHz'], decay_lossy_2['beta_constantT'], color = colors[i], marker = '+', linewidth = 0.3 + ODTFactor/2)\n",
    "    i += 1\n",
    "plt.legend()\n",
    "#plt.xlim(0,20)\n",
    "plt.xlabel('Trap frequency in kHz')\n",
    "plt.ylabel(r'$\\beta$ cm$^6/$s')\n",
    "plt.title('Comparision between near the feshbach \\n resonance (+) and away (circles) assuming T = 400nK')\n",
    "plt.savefig('beta_coef.jpg', dpi = 300, transparent = False)\n",
    "plt.show()"
   ]
  },
  {
   "cell_type": "code",
   "execution_count": 54,
   "metadata": {},
   "outputs": [
    {
     "data": {
      "image/png": "[encoded data removed]",
      "text/plain": [
       "<Figure size 432x288 with 1 Axes>"
      ]
     },
     "metadata": {
      "needs_background": "light"
     },
     "output_type": "display_data"
    }
   ],
   "source": [
    "plt.figure()\n",
    "i = 0\n",
    "\n",
    "for latticeDetuning in latticeDetuningList:\n",
    "    decay_notlossy = getSubDF(results, ['latticeDetuning_GHz', 'compz'], [latticeDetuning, compz_not_lossy])\n",
    "    decay_lossy = getSubDF(results, ['latticeDetuning_GHz', 'compz'], [latticeDetuning, compz_lossy])\n",
    "    for ODTFactor in results['ODTFactor'].unique():\n",
    "        decay_notlossy_2 = getSubDF(decay_notlossy, ['ODTFactor'], [ODTFactor])\n",
    "        decay_lossy_2 = getSubDF(decay_lossy, ['ODTFactor'], [ODTFactor])\n",
    "        plt.semilogy(decay_notlossy_2['trapFrequencyZ_kHz'], decay_notlossy_2['density_constantT'], color = colors[i], marker = 'o', linewidth = 0.3 + ODTFactor/2, label = latticeDetuning)\n",
    "        plt.semilogy(decay_lossy_2['trapFrequencyZ_kHz'], decay_lossy_2['density_constantT'], color = colors[i], marker = '+', linewidth = 0.3 + ODTFactor/2)\n",
    "    i += 1\n",
    "plt.legend()\n",
    "#plt.xlim(0,20)\n",
    "plt.xlabel('Trap frequency in kHz')\n",
    "plt.ylabel(r'$n$ (cm$^{-3}$)')\n",
    "plt.title('Density comparision between near the feshbach \\n resonance (+) and away (circles) for a constant temperature')\n",
    "plt.savefig('density.jpg', dpi = 300, transparent = False)\n",
    "plt.show()"
   ]
  },
  {
   "cell_type": "markdown",
   "metadata": {},
   "source": [
    "We can also do the version where we take the initial temperature of each run"
   ]
  },
  {
   "cell_type": "markdown",
   "metadata": {},
   "source": [
    "## With temperature measurements"
   ]
  },
  {
   "cell_type": "code",
   "execution_count": 55,
   "metadata": {},
   "outputs": [],
   "source": [
    "results['density_temperature'] = results['N0']/numberOfPancakes*prefactor/(results['temperature_nK']*nK)*trapFrequenciesProduct*cm3  # in atoms / cm3\n",
    "results['beta_temperature'] = results['gamma']/ms* results['N0']**2 * np.sqrt(27) / results['density_temperature']**2    # this is is cm^6/s\n",
    "#results['beta_temperature_limit'] = 2*18/(results['N0']**3)* results['N0']**2 * np.sqrt(27) / results['density_temperature']**2\n",
    "# gamma = 2b/N0**3 and I plugged 18 s-1 as the vacuum limit. Why did I write that?\n",
    "results['beta_temperature_limit'] = (1/18)*np.sqrt(27)/results['density_temperature']**2 \n",
    "# at initial time -b = 1/(18 seconds) = -beta*<n^2> = -beta*n^2/sqrt(27)"
   ]
  },
  {
   "cell_type": "code",
   "execution_count": 56,
   "metadata": {},
   "outputs": [
    {
     "data": {
      "image/png": "[encoded data removed]",
      "text/plain": [
       "<Figure size 576x576 with 1 Axes>"
      ]
     },
     "metadata": {
      "needs_background": "light"
     },
     "output_type": "display_data"
    }
   ],
   "source": [
    "plt.figure(figsize = (8,8))\n",
    "i = 0\n",
    "\n",
    "for latticeDetuning in latticeDetuningList:\n",
    "    decay_notlossy = getSubDF(results, ['latticeDetuning_GHz', 'compz'], [latticeDetuning, compz_not_lossy])\n",
    "    decay_lossy = getSubDF(results, ['latticeDetuning_GHz', 'compz'], [latticeDetuning, compz_lossy])\n",
    "    for ODTFactor in results['ODTFactor'].unique():\n",
    "        decay_notlossy_2 = getSubDF(decay_notlossy, ['ODTFactor'], [ODTFactor])\n",
    "        decay_lossy_2 = getSubDF(decay_lossy, ['ODTFactor'], [ODTFactor])\n",
    "        if not (decay_lossy_2.empty and decay_notlossy_2.empty):\n",
    "            plt.semilogy(decay_notlossy_2['trapFrequencyZ_kHz'], decay_notlossy_2['beta_temperature'], color = colors[i], marker = 'o', linewidth = 0.3 + ODTFactor/2, label = latticeDetuning)\n",
    "            plt.semilogy(decay_lossy_2['trapFrequencyZ_kHz'], decay_lossy_2['beta_temperature'], color = colors[i], marker = '+', linewidth = 0.3 + ODTFactor/2)\n",
    "            plt.semilogy(decay_notlossy_2['trapFrequencyZ_kHz'], decay_notlossy_2['beta_temperature_limit'], 'o', color = 'steelblue', label = \"vacuum limit not lossy\")\n",
    "            plt.semilogy(decay_lossy_2['trapFrequencyZ_kHz'], decay_lossy_2['beta_temperature_limit'], '+', color = 'steelblue', label = \"vacuum limit lossy\")\n",
    "    i += 1\n",
    "plt.legend()\n",
    "#plt.xlim(0,20)\n",
    "plt.xlabel('Trap frequency in kHz')\n",
    "plt.ylabel(r'$\\beta$ cm$^6/$s')\n",
    "plt.title('Comparision between near the feshbach \\n resonance (+) and away (circles) with the initial temperature')\n",
    "plt.show()"
   ]
  },
  {
   "cell_type": "code",
   "execution_count": 82,
   "metadata": {},
   "outputs": [
    {
     "data": {
      "image/png": "[encoded data removed]",
      "text/plain": [
       "<Figure size 432x288 with 1 Axes>"
      ]
     },
     "metadata": {
      "needs_background": "light"
     },
     "output_type": "display_data"
    }
   ],
   "source": [
    "plt.figure()\n",
    "i = 0\n",
    "\n",
    "for latticeDetuning in latticeDetuningList:\n",
    "    decay_notlossy = getSubDF(results, ['latticeDetuning_GHz', 'compz'], [latticeDetuning, compz_not_lossy])\n",
    "    decay_lossy = getSubDF(results, ['latticeDetuning_GHz', 'compz'], [latticeDetuning, compz_lossy])\n",
    "    plt.plot(decay_notlossy['trapFrequencyZ_kHz'], decay_notlossy['temperature_nK'], color = colors[i], marker = 'o', label = latticeDetuning)\n",
    "    plt.plot(decay_lossy['trapFrequencyZ_kHz'], decay_lossy['temperature_nK'], color = colors[i], marker = '+')\n",
    "    i += 1\n",
    "plt.legend()\n",
    "#plt.xlim(0,20)\n",
    "plt.xlabel('Trap frequency in kHz')\n",
    "plt.ylabel(r'T (nk)')\n",
    "plt.title('Initial temperature near the feshbach \\n resonance (+) and away (circles) using initial temperature')\n",
    "plt.savefig('density.jpg', dpi = 300, transparent = False)\n",
    "plt.show()"
   ]
  },
  {
   "cell_type": "markdown",
   "metadata": {},
   "source": [
    "## With the size for the blue lattice"
   ]
  },
  {
   "cell_type": "code",
   "execution_count": 57,
   "metadata": {},
   "outputs": [
    {
     "data": {
      "text/plain": [
       "Index(['N0', 'alpha', 'gamma', 'b', 'TOF', 'latticeDepth_mW',\n",
       "       'latticeDetuning_GHz', 'compz', 'ODT3_Comp_final', 'nCount', 'xPos',\n",
       "       'yPos', 'ODTFactor', 'xWidth_TOF_h_um', 'zWidth_TOF_h_um',\n",
       "       'trapFrequencyZ_kHz', 'deconfiningTrapFrequency_Hz',\n",
       "       'bareTrapFrequencyX_Hz', 'bareTrapFrequencyY_Hz', 'trapFrequencyX_Hz',\n",
       "       'trapFrequencyY_Hz', 'xWidth_inSitu_v_um', 'yWidth_inSitu_v_um',\n",
       "       'BECHoldTime', 'dummy', 'xWidth', 'yWidth', 'imageID', 'temperature_nK',\n",
       "       'effectiveTrapFrequencyZ_kHz', 'density_constantT', 'beta_constantT',\n",
       "       'density_temperature', 'beta_temperature', 'beta_temperature_limit'],\n",
       "      dtype='object')"
      ]
     },
     "execution_count": 57,
     "metadata": {},
     "output_type": "execute_result"
    }
   ],
   "source": [
    "results.columns"
   ]
  },
  {
   "cell_type": "code",
   "execution_count": 58,
   "metadata": {},
   "outputs": [
    {
     "data": {
      "text/html": [
       "<div>\n",
       "<style scoped>\n",
       "    .dataframe tbody tr th:only-of-type {\n",
       "        vertical-align: middle;\n",
       "    }\n",
       "\n",
       "    .dataframe tbody tr th {\n",
       "        vertical-align: top;\n",
       "    }\n",
       "\n",
       "    .dataframe thead th {\n",
       "        text-align: right;\n",
       "    }\n",
       "</style>\n",
       "<table border=\"1\" class=\"dataframe\">\n",
       "  <thead>\n",
       "    <tr style=\"text-align: right;\">\n",
       "      <th></th>\n",
       "      <th>xPos</th>\n",
       "      <th>yPos</th>\n",
       "      <th>ODTFactor</th>\n",
       "      <th>xWidth_TOF_h_um</th>\n",
       "      <th>zWidth_TOF_h_um</th>\n",
       "      <th>trapFrequencyZ_kHz</th>\n",
       "      <th>deconfiningTrapFrequency_Hz</th>\n",
       "      <th>bareTrapFrequencyX_Hz</th>\n",
       "      <th>bareTrapFrequencyY_Hz</th>\n",
       "      <th>trapFrequencyX_Hz</th>\n",
       "      <th>trapFrequencyY_Hz</th>\n",
       "      <th>xWidth_inSitu_v_um</th>\n",
       "      <th>yWidth_inSitu_v_um</th>\n",
       "      <th>BECHoldTime</th>\n",
       "      <th>dummy</th>\n",
       "      <th>xWidth</th>\n",
       "      <th>yWidth</th>\n",
       "      <th>imageID</th>\n",
       "      <th>temperature_nK</th>\n",
       "      <th>effectiveTrapFrequencyZ_kHz</th>\n",
       "    </tr>\n",
       "  </thead>\n",
       "  <tbody>\n",
       "  </tbody>\n",
       "</table>\n",
       "</div>"
      ],
      "text/plain": [
       "Empty DataFrame\n",
       "Columns: [xPos, yPos, ODTFactor, xWidth_TOF_h_um, zWidth_TOF_h_um, trapFrequencyZ_kHz, deconfiningTrapFrequency_Hz, bareTrapFrequencyX_Hz, bareTrapFrequencyY_Hz, trapFrequencyX_Hz, trapFrequencyY_Hz, xWidth_inSitu_v_um, yWidth_inSitu_v_um, BECHoldTime, dummy, xWidth, yWidth, imageID, temperature_nK, effectiveTrapFrequencyZ_kHz]\n",
       "Index: []"
      ]
     },
     "execution_count": 58,
     "metadata": {},
     "output_type": "execute_result"
    }
   ],
   "source": [
    "results[results['latticeDetuning_GHz'] == 5].iloc[:, 10:30]"
   ]
  },
  {
   "cell_type": "code",
   "execution_count": 59,
   "metadata": {},
   "outputs": [],
   "source": [
    "prefactor_size = 1/(2*np.pi)**(3/2)\n",
    "a_z = np.sqrt(hbar/(m*results['trapFrequencyZ_kHz']*kHz))\n",
    "size_product = results['xWidth_inSitu_v_um']*um*results['yWidth_inSitu_v_um']*um*a_z\n",
    "\n",
    "results['density_size'] = results['N0']/numberOfPancakes*prefactor_size/size_product*cm3  # in atoms / cm3\n",
    "results['beta_size'] = results['gamma']/ms* results['N0']**2 * np.sqrt(27) / results['density_size']**2    # this is is cm^6/s"
   ]
  },
  {
   "cell_type": "code",
   "execution_count": 60,
   "metadata": {},
   "outputs": [
    {
     "data": {
      "image/png": "[encoded data removed]",
      "text/plain": [
       "<Figure size 576x576 with 1 Axes>"
      ]
     },
     "metadata": {
      "needs_background": "light"
     },
     "output_type": "display_data"
    }
   ],
   "source": [
    "plt.figure(figsize = (8,8))\n",
    "i = 0\n",
    "\n",
    "for latticeDetuning in latticeDetuningList:\n",
    "    decay_notlossy = getSubDF(results, ['latticeDetuning_GHz', 'compz'], [latticeDetuning, compz_not_lossy])\n",
    "    decay_lossy = getSubDF(results, ['latticeDetuning_GHz', 'compz'], [latticeDetuning, compz_lossy])\n",
    "    for ODTFactor in results['ODTFactor'].unique():\n",
    "        if latticeDetuning < 0:\n",
    "            decay_notlossy_2 = getSubDF(decay_notlossy, ['ODTFactor'], [ODTFactor])\n",
    "            decay_lossy_2 = getSubDF(decay_lossy, ['ODTFactor'], [ODTFactor])\n",
    "            plt.semilogy(decay_notlossy_2['trapFrequencyZ_kHz'], decay_notlossy_2['beta_temperature'], color = colors[i], marker = 'o', linewidth = 0.3 + ODTFactor/2, label = latticeDetuning)\n",
    "            plt.semilogy(decay_lossy_2['trapFrequencyZ_kHz'], decay_lossy_2['beta_temperature'], color = colors[i], marker = '+', linewidth = 0.3 + ODTFactor/2)\n",
    "        if latticeDetuning > 0:\n",
    "            decay_blue_notlossy = getSubDF(results, ['latticeDetuning_GHz', 'compz', 'ODTFactor'], [latticeDetuning, 7.4, ODTFactor])\n",
    "            #plt.semilogy(decay_blue_notlossy['trapFrequency']/(2*np.pi*10**3), decay_blue_notlossy['initialBeta'], color = colors[i], marker = 'x', linewidth = 0.3 + ODTFactor/2, label = latticeDetuning)\n",
    "            plt.semilogy(decay_blue_notlossy['trapFrequencyZ_kHz'], decay_blue_notlossy['beta_size'], color = colors[i], marker = 'o', linewidth = 0.3 + ODTFactor/2, label = str(latticeDetuning) + ' size')\n",
    "            decay_blue_lossy = getSubDF(results, ['latticeDetuning_GHz', 'compz', 'ODTFactor'], [latticeDetuning, 7.72, ODTFactor])\n",
    "            #plt.semilogy(decay_blue_notlossy['trapFrequency']/(2*np.pi*10**3), decay_blue_notlossy['initialBeta'], color = colors[i], marker = 'x', linewidth = 0.3 + ODTFactor/2, label = latticeDetuning)\n",
    "            plt.semilogy(decay_blue_lossy['trapFrequencyZ_kHz'], decay_blue_lossy['beta_size'], color = colors[i], marker = '+', linewidth = 0.3 + ODTFactor/2, label = str(latticeDetuning) + ' size')\n",
    "            #plt.semilogy()\n",
    "    i += 1\n",
    "plt.legend()\n",
    "#plt.xlim(0,20)\n",
    "plt.xlabel('Trap frequency in kHz')\n",
    "plt.ylabel(r'$\\beta$ cm$^6/$s')\n",
    "plt.title('Comparision between near the feshbach \\n resonance (+) and away (circles) with the initial temperature \\n and the size')\n",
    "plt.show()"
   ]
  },
  {
   "cell_type": "code",
   "execution_count": 61,
   "metadata": {},
   "outputs": [
    {
     "data": {
      "text/plain": [
       "Index(['N0', 'alpha', 'gamma', 'b', 'TOF', 'latticeDepth_mW',\n",
       "       'latticeDetuning_GHz', 'compz', 'ODT3_Comp_final', 'nCount', 'xPos',\n",
       "       'yPos', 'ODTFactor', 'xWidth_TOF_h_um', 'zWidth_TOF_h_um',\n",
       "       'trapFrequencyZ_kHz', 'deconfiningTrapFrequency_Hz',\n",
       "       'bareTrapFrequencyX_Hz', 'bareTrapFrequencyY_Hz', 'trapFrequencyX_Hz',\n",
       "       'trapFrequencyY_Hz', 'xWidth_inSitu_v_um', 'yWidth_inSitu_v_um',\n",
       "       'BECHoldTime', 'dummy', 'xWidth', 'yWidth', 'imageID', 'temperature_nK',\n",
       "       'effectiveTrapFrequencyZ_kHz', 'density_constantT', 'beta_constantT',\n",
       "       'density_temperature', 'beta_temperature', 'beta_temperature_limit',\n",
       "       'density_size', 'beta_size'],\n",
       "      dtype='object')"
      ]
     },
     "execution_count": 61,
     "metadata": {},
     "output_type": "execute_result"
    }
   ],
   "source": [
    "results.columns"
   ]
  },
  {
   "cell_type": "code",
   "execution_count": null,
   "metadata": {},
   "outputs": [],
   "source": []
  },
  {
   "cell_type": "code",
   "execution_count": 62,
   "metadata": {},
   "outputs": [
    {
     "data": {
      "text/html": [
       "<div>\n",
       "<style scoped>\n",
       "    .dataframe tbody tr th:only-of-type {\n",
       "        vertical-align: middle;\n",
       "    }\n",
       "\n",
       "    .dataframe tbody tr th {\n",
       "        vertical-align: top;\n",
       "    }\n",
       "\n",
       "    .dataframe thead th {\n",
       "        text-align: right;\n",
       "    }\n",
       "</style>\n",
       "<table border=\"1\" class=\"dataframe\">\n",
       "  <thead>\n",
       "    <tr style=\"text-align: right;\">\n",
       "      <th></th>\n",
       "      <th>N0</th>\n",
       "      <th>gamma</th>\n",
       "      <th>density_size</th>\n",
       "      <th>xWidth_inSitu_v_um</th>\n",
       "      <th>yWidth_inSitu_v_um</th>\n",
       "    </tr>\n",
       "  </thead>\n",
       "  <tbody>\n",
       "  </tbody>\n",
       "</table>\n",
       "</div>"
      ],
      "text/plain": [
       "Empty DataFrame\n",
       "Columns: [N0, gamma, density_size, xWidth_inSitu_v_um, yWidth_inSitu_v_um]\n",
       "Index: []"
      ]
     },
     "execution_count": 62,
     "metadata": {},
     "output_type": "execute_result"
    }
   ],
   "source": [
    "getSubDF(results, ['latticeDetuning_GHz', 'latticeDepth_mW'], [1, 120])[['N0', 'gamma', 'density_size', 'xWidth_inSitu_v_um', 'yWidth_inSitu_v_um']]"
   ]
  },
  {
   "cell_type": "code",
   "execution_count": 63,
   "metadata": {},
   "outputs": [
    {
     "data": {
      "image/png": "[encoded data removed]",
      "text/plain": [
       "<Figure size 432x288 with 1 Axes>"
      ]
     },
     "metadata": {
      "needs_background": "light"
     },
     "output_type": "display_data"
    }
   ],
   "source": [
    "plt.figure()\n",
    "i = 0\n",
    "for latticeDetuning in latticeDetuningList:\n",
    "    decay_notlossy = getSubDF(results, ['latticeDetuning_GHz', 'compz'], [latticeDetuning, compz_not_lossy])\n",
    "    decay_lossy = getSubDF(results, ['latticeDetuning_GHz', 'compz'], [latticeDetuning, compz_lossy])\n",
    "    plt.semilogy(decay_notlossy['trapFrequencyZ_kHz'], decay_notlossy['density_temperature'], color = colors[i], marker = 'o', label = latticeDetuning)\n",
    "    plt.semilogy(decay_lossy['trapFrequencyZ_kHz'], decay_lossy['density_temperature'], color = colors[i], marker = '+')\n",
    "    i += 1\n",
    "plt.legend()\n",
    "#plt.xlim(0,20)\n",
    "plt.xlabel('Trap frequency in kHz')\n",
    "plt.ylabel(r'$n$ cm$^{-3}$')\n",
    "plt.title('Density comparision between near the feshbach \\n resonance (+) and away (circles) with the inital temperature')\n",
    "plt.show()"
   ]
  },
  {
   "cell_type": "code",
   "execution_count": 64,
   "metadata": {},
   "outputs": [
    {
     "data": {
      "image/png": "[encoded data removed]",
      "text/plain": [
       "<Figure size 432x288 with 1 Axes>"
      ]
     },
     "metadata": {
      "needs_background": "light"
     },
     "output_type": "display_data"
    }
   ],
   "source": [
    "plt.figure()\n",
    "for latticeDetuning in latticeDetuningList:\n",
    "    for latticeDepth in latticeDepthList:\n",
    "        df_temp = getSubDF(df_temperature, ['latticeDepth_mW', 'latticeDetuning_GHz', 'compz'], [latticeDepth, latticeDetuning, compz])\n",
    "        plt.plot(df_temp['BECHoldTime'], df_temp['temperature_nK'] )\n",
    "        #df_temp = getSubDF(df, ['latticeDepth', 'latticeDetuning', 'compz'], [latticeDepth, latticeDetuning, compz])\n",
    "        #plt.plot(df_temp['BECHoldTime'], df_temp['yWidth'] )\n",
    "        \n",
    "#plt.ylim(0,100)\n",
    "#plt.xlim(0,100)\n",
    "plt.xlabel('BECHoldTime')\n",
    "plt.ylabel('Temperature (nK)')\n",
    "plt.show()"
   ]
  },
  {
   "cell_type": "code",
   "execution_count": 65,
   "metadata": {},
   "outputs": [
    {
     "data": {
      "text/plain": [
       "Index(['latticeDepth_mW', 'BECHoldTime', 'TOF', 'latticeDetuning_GHz', 'compz',\n",
       "       'ODT3_Comp_final', 'dummy', 'nCount', 'xWidth', 'yWidth', 'xPos',\n",
       "       'yPos', 'imageID', 'ODTFactor', 'xWidth_inSitu_v_um',\n",
       "       'yWidth_inSitu_v_um', 'trapFrequencyZ_kHz',\n",
       "       'deconfiningTrapFrequency_Hz', 'bareTrapFrequencyX_Hz',\n",
       "       'bareTrapFrequencyY_Hz', 'trapFrequencyX_Hz', 'trapFrequencyY_Hz'],\n",
       "      dtype='object')"
      ]
     },
     "execution_count": 65,
     "metadata": {},
     "output_type": "execute_result"
    }
   ],
   "source": [
    "df_temp = getSubDF(df_inSitu, ['latticeDetuning_GHz', 'compz'], [20, 7.72]).groupby(['latticeDepth_mW']).mean().reset_index()\n",
    "df_temp.columns"
   ]
  },
  {
   "cell_type": "code",
   "execution_count": 66,
   "metadata": {},
   "outputs": [
    {
     "data": {
      "text/plain": [
       "array([ 1.,  5., 20.])"
      ]
     },
     "execution_count": 66,
     "metadata": {},
     "output_type": "execute_result"
    }
   ],
   "source": [
    "df_inSitu['latticeDetuning_GHz'].unique()"
   ]
  },
  {
   "cell_type": "code",
   "execution_count": 67,
   "metadata": {},
   "outputs": [
    {
     "data": {
      "image/png": "[encoded data removed]",
      "text/plain": [
       "<Figure size 432x288 with 1 Axes>"
      ]
     },
     "metadata": {
      "needs_background": "light"
     },
     "output_type": "display_data"
    }
   ],
   "source": [
    "compz = compz_lossy\n",
    "ODT3_Comp_final = 5\n",
    "\n",
    "plt.figure()\n",
    "for latticeDetuning in df_inSitu['latticeDetuning_GHz'].unique():\n",
    "    df_temp = getSubDF(results, ['latticeDetuning_GHz', 'ODT3_Comp_final', 'compz'], [latticeDetuning, ODT3_Comp_final, compz]).groupby(['latticeDepth_mW']).mean().reset_index()    \n",
    "    plt.plot(df_temp['trapFrequencyZ_kHz'], df_temp['xWidth_inSitu_v_um'], 'o', label = str(latticeDetuning) + ' in situ' )\n",
    "    plt.plot(df_temp['trapFrequencyZ_kHz'], np.sqrt(k_B*120*10**(-9)/(m*(df_temp['trapFrequencyX_Hz']*Hz)**2))/(10**(-6)), '+', label = str(latticeDetuning) + ' calculated')\n",
    "plt.legend()\n",
    "plt.ylabel('Transverse cloud size ($\\mu$m)')\n",
    "plt.xlabel('Trap Frequency (kHz), blue detuned')\n",
    "plt.title('Temperature fixed at 120 nk')\n",
    "plt.ylim(0,6)\n",
    "plt.show()"
   ]
  },
  {
   "cell_type": "code",
   "execution_count": 68,
   "metadata": {},
   "outputs": [
    {
     "data": {
      "image/png": "[encoded data removed]",
      "text/plain": [
       "<Figure size 432x288 with 1 Axes>"
      ]
     },
     "metadata": {
      "needs_background": "light"
     },
     "output_type": "display_data"
    }
   ],
   "source": [
    "compz = compz_lossy\n",
    "ODT3_Comp_final = 5\n",
    "\n",
    "plt.figure()\n",
    "for latticeDetuning in df_inSitu['latticeDetuning_GHz'].unique():\n",
    "    df_temp = getSubDF(results, ['latticeDetuning_GHz', 'ODT3_Comp_final', 'compz'], [latticeDetuning, ODT3_Comp_final, compz]).groupby(['latticeDepth_mW']).mean().reset_index()    \n",
    "    plt.plot(df_temp['trapFrequencyZ_kHz'], df_temp['xWidth_inSitu_v_um'], 'o', label = str(latticeDetuning) + ' in situ' )\n",
    "    df_temp1 = getSubDF(df, ['latticeDetuning_GHz', 'BECHoldTime'], [latticeDetuning, 30]).groupby(['latticeDepth_mW']).mean().reset_index()\n",
    "    df_temp2 = getSubDF(df_temperature, ['latticeDetuning_GHz', 'compz', 'BECHoldTime'], [latticeDetuning, compz, 30]).sort_values('latticeDepth_mW')\n",
    "    #plt.plot(df_temp1['trapFrequencyZ_kHz'], np.sqrt(k_B*df_temp2['temperature_nK']*nK/(m*df_temp1['trapFrequencyX_Hz']**2))/(10**(-6)), '+', label = str(latticeDetuning) + ' calculated')\n",
    "    plt.plot(df_temp['trapFrequencyZ_kHz'], np.sqrt(k_B*df_temp['temperature_nK']*nK/(m*(df_temp['trapFrequencyX_Hz']*Hz)**2))/um, '+', label = str(latticeDetuning) + ' calculated')\n",
    "plt.legend()\n",
    "plt.title('Temperature taken at t = 0ms, xWidth')\n",
    "plt.ylabel('Transverse cloud size ($\\mu$m)')\n",
    "plt.xlabel('Trap Frequency (kHz), blue detuned')\n",
    "plt.ylim(0,10)\n",
    "plt.show()"
   ]
  },
  {
   "cell_type": "code",
   "execution_count": 69,
   "metadata": {},
   "outputs": [
    {
     "data": {
      "image/png": "[encoded data removed]",
      "text/plain": [
       "<Figure size 432x288 with 1 Axes>"
      ]
     },
     "metadata": {
      "needs_background": "light"
     },
     "output_type": "display_data"
    }
   ],
   "source": [
    "compz = compz_lossy\n",
    "ODT3_Comp_final = 5\n",
    "\n",
    "plt.figure()\n",
    "for latticeDetuning in df_inSitu['latticeDetuning_GHz'].unique():\n",
    "    df_temp = getSubDF(results, ['latticeDetuning_GHz', 'ODT3_Comp_final', 'compz'], [latticeDetuning, ODT3_Comp_final, compz]).groupby(['latticeDepth_mW']).mean().reset_index()    \n",
    "    plt.plot(df_temp['trapFrequencyZ_kHz'], df_temp['yWidth_inSitu_v_um'], 'o', label = str(latticeDetuning) + ' in situ' )\n",
    "    df_temp1 = getSubDF(df, ['latticeDetuning_GHz', 'BECHoldTime'], [latticeDetuning, 30]).groupby(['latticeDepth_mW']).mean().reset_index()\n",
    "    df_temp2 = getSubDF(df_temperature, ['latticeDetuning_GHz', 'compz', 'BECHoldTime'], [latticeDetuning, compz, 30]).sort_values('latticeDepth_mW')\n",
    "    #plt.plot(df_temp1['trapFrequencyZ_kHz'], np.sqrt(k_B*df_temp2['temperature_nK']*nK/(m*df_temp1['trapFrequencyX_Hz']**2))/(10**(-6)), '+', label = str(latticeDetuning) + ' calculated')\n",
    "    plt.plot(df_temp['trapFrequencyZ_kHz'], np.sqrt(k_B*df_temp['temperature_nK']*nK/(m*(df_temp['trapFrequencyY_Hz']*Hz)**2))/um, '+', label = str(latticeDetuning) + ' calculated')\n",
    "plt.legend()\n",
    "plt.title('Temperature taken at t = 0ms, yWidth')\n",
    "plt.ylabel('Transverse cloud size ($\\mu$m)')\n",
    "plt.xlabel('Trap Frequency (kHz), blue detuned')\n",
    "plt.ylim(0,10)\n",
    "plt.show()"
   ]
  },
  {
   "cell_type": "code",
   "execution_count": null,
   "metadata": {},
   "outputs": [],
   "source": []
  },
  {
   "cell_type": "code",
   "execution_count": 70,
   "metadata": {},
   "outputs": [
    {
     "data": {
      "text/html": [
       "<div>\n",
       "<style scoped>\n",
       "    .dataframe tbody tr th:only-of-type {\n",
       "        vertical-align: middle;\n",
       "    }\n",
       "\n",
       "    .dataframe tbody tr th {\n",
       "        vertical-align: top;\n",
       "    }\n",
       "\n",
       "    .dataframe thead th {\n",
       "        text-align: right;\n",
       "    }\n",
       "</style>\n",
       "<table border=\"1\" class=\"dataframe\">\n",
       "  <thead>\n",
       "    <tr style=\"text-align: right;\">\n",
       "      <th></th>\n",
       "      <th>ODTFactor</th>\n",
       "      <th>trapFrequencyX_Hz</th>\n",
       "      <th>trapFrequencyY_Hz</th>\n",
       "    </tr>\n",
       "  </thead>\n",
       "  <tbody>\n",
       "  </tbody>\n",
       "</table>\n",
       "</div>"
      ],
      "text/plain": [
       "Empty DataFrame\n",
       "Columns: [ODTFactor, trapFrequencyX_Hz, trapFrequencyY_Hz]\n",
       "Index: []"
      ]
     },
     "execution_count": 70,
     "metadata": {},
     "output_type": "execute_result"
    }
   ],
   "source": [
    "getSubDF(results, ['latticeDetuning_GHz', 'latticeDepth_mW'], [1, 0.2])[['ODTFactor', 'trapFrequencyX_Hz', 'trapFrequencyY_Hz']]"
   ]
  },
  {
   "cell_type": "code",
   "execution_count": 71,
   "metadata": {},
   "outputs": [
    {
     "data": {
      "text/html": [
       "<div>\n",
       "<style scoped>\n",
       "    .dataframe tbody tr th:only-of-type {\n",
       "        vertical-align: middle;\n",
       "    }\n",
       "\n",
       "    .dataframe tbody tr th {\n",
       "        vertical-align: top;\n",
       "    }\n",
       "\n",
       "    .dataframe thead th {\n",
       "        text-align: right;\n",
       "    }\n",
       "</style>\n",
       "<table border=\"1\" class=\"dataframe\">\n",
       "  <thead>\n",
       "    <tr style=\"text-align: right;\">\n",
       "      <th></th>\n",
       "      <th>N0</th>\n",
       "      <th>alpha</th>\n",
       "      <th>gamma</th>\n",
       "      <th>b</th>\n",
       "      <th>TOF</th>\n",
       "      <th>latticeDepth_mW</th>\n",
       "      <th>latticeDetuning_GHz</th>\n",
       "      <th>compz</th>\n",
       "      <th>ODT3_Comp_final</th>\n",
       "      <th>nCount</th>\n",
       "    </tr>\n",
       "  </thead>\n",
       "  <tbody>\n",
       "    <tr>\n",
       "      <th>0</th>\n",
       "      <td>27293.058504</td>\n",
       "      <td>0.000056</td>\n",
       "      <td>-5.511742e-15</td>\n",
       "      <td>NaN</td>\n",
       "      <td>10.0</td>\n",
       "      <td>0.2</td>\n",
       "      <td>-10.0</td>\n",
       "      <td>7.40</td>\n",
       "      <td>0.76</td>\n",
       "      <td>25473.520000</td>\n",
       "    </tr>\n",
       "    <tr>\n",
       "      <th>1</th>\n",
       "      <td>30192.248973</td>\n",
       "      <td>0.000056</td>\n",
       "      <td>1.640228e-13</td>\n",
       "      <td>NaN</td>\n",
       "      <td>10.0</td>\n",
       "      <td>0.5</td>\n",
       "      <td>-10.0</td>\n",
       "      <td>7.40</td>\n",
       "      <td>0.76</td>\n",
       "      <td>25069.538462</td>\n",
       "    </tr>\n",
       "    <tr>\n",
       "      <th>2</th>\n",
       "      <td>20353.361265</td>\n",
       "      <td>0.000056</td>\n",
       "      <td>6.094777e-14</td>\n",
       "      <td>NaN</td>\n",
       "      <td>6.0</td>\n",
       "      <td>1.0</td>\n",
       "      <td>-10.0</td>\n",
       "      <td>7.40</td>\n",
       "      <td>0.76</td>\n",
       "      <td>18436.960000</td>\n",
       "    </tr>\n",
       "    <tr>\n",
       "      <th>3</th>\n",
       "      <td>23529.373006</td>\n",
       "      <td>0.000056</td>\n",
       "      <td>2.850496e-13</td>\n",
       "      <td>NaN</td>\n",
       "      <td>6.0</td>\n",
       "      <td>5.0</td>\n",
       "      <td>-10.0</td>\n",
       "      <td>7.40</td>\n",
       "      <td>0.76</td>\n",
       "      <td>19437.291667</td>\n",
       "    </tr>\n",
       "    <tr>\n",
       "      <th>4</th>\n",
       "      <td>19874.755894</td>\n",
       "      <td>0.000056</td>\n",
       "      <td>3.764204e-13</td>\n",
       "      <td>NaN</td>\n",
       "      <td>6.0</td>\n",
       "      <td>20.0</td>\n",
       "      <td>-10.0</td>\n",
       "      <td>7.40</td>\n",
       "      <td>0.76</td>\n",
       "      <td>16591.739130</td>\n",
       "    </tr>\n",
       "    <tr>\n",
       "      <th>5</th>\n",
       "      <td>20206.126633</td>\n",
       "      <td>0.000056</td>\n",
       "      <td>1.404310e-12</td>\n",
       "      <td>NaN</td>\n",
       "      <td>4.5</td>\n",
       "      <td>60.0</td>\n",
       "      <td>-10.0</td>\n",
       "      <td>7.40</td>\n",
       "      <td>0.76</td>\n",
       "      <td>15308.633333</td>\n",
       "    </tr>\n",
       "    <tr>\n",
       "      <th>6</th>\n",
       "      <td>15914.249451</td>\n",
       "      <td>0.000056</td>\n",
       "      <td>2.641046e-12</td>\n",
       "      <td>NaN</td>\n",
       "      <td>4.5</td>\n",
       "      <td>120.0</td>\n",
       "      <td>-10.0</td>\n",
       "      <td>7.40</td>\n",
       "      <td>0.76</td>\n",
       "      <td>11741.833333</td>\n",
       "    </tr>\n",
       "    <tr>\n",
       "      <th>7</th>\n",
       "      <td>20251.750691</td>\n",
       "      <td>0.000056</td>\n",
       "      <td>7.195609e-11</td>\n",
       "      <td>NaN</td>\n",
       "      <td>7.0</td>\n",
       "      <td>0.2</td>\n",
       "      <td>-10.0</td>\n",
       "      <td>7.83</td>\n",
       "      <td>0.76</td>\n",
       "      <td>17639.611111</td>\n",
       "    </tr>\n",
       "    <tr>\n",
       "      <th>8</th>\n",
       "      <td>18569.861833</td>\n",
       "      <td>0.000056</td>\n",
       "      <td>1.896919e-11</td>\n",
       "      <td>NaN</td>\n",
       "      <td>7.0</td>\n",
       "      <td>0.5</td>\n",
       "      <td>-10.0</td>\n",
       "      <td>7.83</td>\n",
       "      <td>0.76</td>\n",
       "      <td>17830.555556</td>\n",
       "    </tr>\n",
       "    <tr>\n",
       "      <th>9</th>\n",
       "      <td>17341.940394</td>\n",
       "      <td>0.000056</td>\n",
       "      <td>3.021176e-11</td>\n",
       "      <td>NaN</td>\n",
       "      <td>7.0</td>\n",
       "      <td>1.0</td>\n",
       "      <td>-10.0</td>\n",
       "      <td>7.83</td>\n",
       "      <td>0.76</td>\n",
       "      <td>16424.944444</td>\n",
       "    </tr>\n",
       "    <tr>\n",
       "      <th>10</th>\n",
       "      <td>24487.606969</td>\n",
       "      <td>0.000056</td>\n",
       "      <td>5.200001e-11</td>\n",
       "      <td>NaN</td>\n",
       "      <td>6.0</td>\n",
       "      <td>5.0</td>\n",
       "      <td>-10.0</td>\n",
       "      <td>7.83</td>\n",
       "      <td>0.76</td>\n",
       "      <td>21154.333333</td>\n",
       "    </tr>\n",
       "    <tr>\n",
       "      <th>11</th>\n",
       "      <td>21319.510486</td>\n",
       "      <td>0.000056</td>\n",
       "      <td>7.902610e-11</td>\n",
       "      <td>NaN</td>\n",
       "      <td>6.0</td>\n",
       "      <td>20.0</td>\n",
       "      <td>-10.0</td>\n",
       "      <td>7.83</td>\n",
       "      <td>0.76</td>\n",
       "      <td>18078.611111</td>\n",
       "    </tr>\n",
       "    <tr>\n",
       "      <th>12</th>\n",
       "      <td>22892.758661</td>\n",
       "      <td>0.000056</td>\n",
       "      <td>2.097390e-10</td>\n",
       "      <td>NaN</td>\n",
       "      <td>4.0</td>\n",
       "      <td>60.0</td>\n",
       "      <td>-10.0</td>\n",
       "      <td>7.83</td>\n",
       "      <td>0.76</td>\n",
       "      <td>18853.421053</td>\n",
       "    </tr>\n",
       "    <tr>\n",
       "      <th>13</th>\n",
       "      <td>20963.191312</td>\n",
       "      <td>0.000056</td>\n",
       "      <td>1.304523e-09</td>\n",
       "      <td>NaN</td>\n",
       "      <td>4.0</td>\n",
       "      <td>120.0</td>\n",
       "      <td>-10.0</td>\n",
       "      <td>7.83</td>\n",
       "      <td>0.76</td>\n",
       "      <td>12619.777778</td>\n",
       "    </tr>\n",
       "    <tr>\n",
       "      <th>14</th>\n",
       "      <td>NaN</td>\n",
       "      <td>NaN</td>\n",
       "      <td>NaN</td>\n",
       "      <td>NaN</td>\n",
       "      <td>NaN</td>\n",
       "      <td>0.2</td>\n",
       "      <td>-10.0</td>\n",
       "      <td>7.40</td>\n",
       "      <td>NaN</td>\n",
       "      <td>NaN</td>\n",
       "    </tr>\n",
       "    <tr>\n",
       "      <th>15</th>\n",
       "      <td>NaN</td>\n",
       "      <td>NaN</td>\n",
       "      <td>NaN</td>\n",
       "      <td>NaN</td>\n",
       "      <td>NaN</td>\n",
       "      <td>0.2</td>\n",
       "      <td>-10.0</td>\n",
       "      <td>7.83</td>\n",
       "      <td>NaN</td>\n",
       "      <td>NaN</td>\n",
       "    </tr>\n",
       "  </tbody>\n",
       "</table>\n",
       "</div>"
      ],
      "text/plain": [
       "              N0     alpha         gamma   b   TOF  latticeDepth_mW  \\\n",
       "0   27293.058504  0.000056 -5.511742e-15 NaN  10.0              0.2   \n",
       "1   30192.248973  0.000056  1.640228e-13 NaN  10.0              0.5   \n",
       "2   20353.361265  0.000056  6.094777e-14 NaN   6.0              1.0   \n",
       "3   23529.373006  0.000056  2.850496e-13 NaN   6.0              5.0   \n",
       "4   19874.755894  0.000056  3.764204e-13 NaN   6.0             20.0   \n",
       "5   20206.126633  0.000056  1.404310e-12 NaN   4.5             60.0   \n",
       "6   15914.249451  0.000056  2.641046e-12 NaN   4.5            120.0   \n",
       "7   20251.750691  0.000056  7.195609e-11 NaN   7.0              0.2   \n",
       "8   18569.861833  0.000056  1.896919e-11 NaN   7.0              0.5   \n",
       "9   17341.940394  0.000056  3.021176e-11 NaN   7.0              1.0   \n",
       "10  24487.606969  0.000056  5.200001e-11 NaN   6.0              5.0   \n",
       "11  21319.510486  0.000056  7.902610e-11 NaN   6.0             20.0   \n",
       "12  22892.758661  0.000056  2.097390e-10 NaN   4.0             60.0   \n",
       "13  20963.191312  0.000056  1.304523e-09 NaN   4.0            120.0   \n",
       "14           NaN       NaN           NaN NaN   NaN              0.2   \n",
       "15           NaN       NaN           NaN NaN   NaN              0.2   \n",
       "\n",
       "    latticeDetuning_GHz  compz  ODT3_Comp_final        nCount  \n",
       "0                 -10.0   7.40             0.76  25473.520000  \n",
       "1                 -10.0   7.40             0.76  25069.538462  \n",
       "2                 -10.0   7.40             0.76  18436.960000  \n",
       "3                 -10.0   7.40             0.76  19437.291667  \n",
       "4                 -10.0   7.40             0.76  16591.739130  \n",
       "5                 -10.0   7.40             0.76  15308.633333  \n",
       "6                 -10.0   7.40             0.76  11741.833333  \n",
       "7                 -10.0   7.83             0.76  17639.611111  \n",
       "8                 -10.0   7.83             0.76  17830.555556  \n",
       "9                 -10.0   7.83             0.76  16424.944444  \n",
       "10                -10.0   7.83             0.76  21154.333333  \n",
       "11                -10.0   7.83             0.76  18078.611111  \n",
       "12                -10.0   7.83             0.76  18853.421053  \n",
       "13                -10.0   7.83             0.76  12619.777778  \n",
       "14                -10.0   7.40              NaN           NaN  \n",
       "15                -10.0   7.83              NaN           NaN  "
      ]
     },
     "execution_count": 71,
     "metadata": {},
     "output_type": "execute_result"
    }
   ],
   "source": [
    "results.iloc[:20,:10]"
   ]
  },
  {
   "cell_type": "code",
   "execution_count": 72,
   "metadata": {},
   "outputs": [
    {
     "data": {
      "image/png": "[encoded data removed]",
      "text/plain": [
       "<Figure size 432x288 with 1 Axes>"
      ]
     },
     "metadata": {
      "needs_background": "light"
     },
     "output_type": "display_data"
    }
   ],
   "source": [
    "# Plot of the time constant\n",
    "plt.figure()\n",
    "for latticeDetuning in latticeDetuningList:\n",
    "    results_temp = getSubDF(resultsDF_lin, ['latticeDetuning_GHz'], [latticeDetuning])\n",
    "    plt.plot(results_temp['trapFrequencyZ_kHz'], results_temp['N0']/results_temp['b'], 'o', label = latticeDetuning)\n",
    "plt.legend()\n",
    "plt.title('Time constant with the linear fit')\n",
    "plt.xlabel('Trap frequency (kHz)')\n",
    "plt.ylabel('Time constant (ms)')\n",
    "plt.ylim(0,1000)\n",
    "plt.show()"
   ]
  },
  {
   "cell_type": "code",
   "execution_count": 73,
   "metadata": {},
   "outputs": [
    {
     "data": {
      "image/png": "[encoded data removed]",
      "text/plain": [
       "<Figure size 432x288 with 1 Axes>"
      ]
     },
     "metadata": {
      "needs_background": "light"
     },
     "output_type": "display_data"
    }
   ],
   "source": [
    "# Plot of the time constant\n",
    "plt.figure()\n",
    "for latticeDetuning in latticeDetuningList:\n",
    "    results_temp = getSubDF(resultsDF_pure, ['latticeDetuning_GHz', 'compz'], [latticeDetuning, compz_lossy])\n",
    "    plt.plot(results_temp['latticeDepth_mW'], results_temp['TOF'], 'o', label = latticeDetuning)\n",
    "    results_temp = getSubDF(resultsDF_pure, ['latticeDetuning_GHz', 'compz'], [latticeDetuning, compz_not_lossy])\n",
    "    plt.plot(results_temp['latticeDepth_mW'], results_temp['TOF'], 'o', label = latticeDetuning, color = 'red')\n",
    "plt.legend()\n",
    "plt.title('Time of flight used')\n",
    "plt.xlabel('Trap frequency (kHz)')\n",
    "plt.ylabel('Time of flight')\n",
    "#plt.ylim(0,80)\n",
    "plt.show()"
   ]
  },
  {
   "cell_type": "code",
   "execution_count": 74,
   "metadata": {},
   "outputs": [
    {
     "data": {
      "image/png": "[encoded data removed]",
      "text/plain": [
       "<Figure size 432x288 with 1 Axes>"
      ]
     },
     "metadata": {
      "needs_background": "light"
     },
     "output_type": "display_data"
    }
   ],
   "source": [
    "# Plot of the time constant\n",
    "plt.figure()\n",
    "for latticeDetuning in latticeDetuningList:\n",
    "    results_temp = getSubDF(resultsDF_pure, ['latticeDetuning_GHz', 'compz'], [latticeDetuning, compz_not_lossy])\n",
    "    plt.plot(results_temp['trapFrequencyZ_kHz'], 1/(results_temp['N0']**2*results_temp['gamma']), 'o', label = latticeDetuning)\n",
    "plt.legend()\n",
    "plt.title('Time constant with the 3b fit')\n",
    "plt.xlabel('Trap frequency (kHz)')\n",
    "plt.ylabel('Time constant (ms)')\n",
    "#plt.ylim(0,80)\n",
    "plt.show()"
   ]
  },
  {
   "cell_type": "code",
   "execution_count": 75,
   "metadata": {},
   "outputs": [
    {
     "data": {
      "image/png": "[encoded data removed]",
      "text/plain": [
       "<Figure size 432x288 with 1 Axes>"
      ]
     },
     "metadata": {
      "needs_background": "light"
     },
     "output_type": "display_data"
    }
   ],
   "source": [
    "# Plot of the time constant\n",
    "plt.figure()\n",
    "for latticeDetuning in latticeDetuningList:\n",
    "    results_temp = getSubDF(resultsDF_mix, ['latticeDetuning_GHz'], [latticeDetuning])\n",
    "    plt.plot(results_temp['trapFrequencyZ_kHz'], 1/(results_temp['N0']**2*results_temp['gamma']), 'o', label = latticeDetuning)\n",
    "plt.legend()\n",
    "plt.title('Time constant with the 1b+3b fit')\n",
    "plt.xlabel('Trap frequency (kHz)')\n",
    "plt.ylabel('Time constant (ms)')\n",
    "plt.ylim(0,500)\n",
    "plt.show()"
   ]
  },
  {
   "cell_type": "code",
   "execution_count": 76,
   "metadata": {},
   "outputs": [
    {
     "data": {
      "image/png": "[encoded data removed]",
      "text/plain": [
       "<Figure size 432x288 with 1 Axes>"
      ]
     },
     "metadata": {
      "needs_background": "light"
     },
     "output_type": "display_data"
    }
   ],
   "source": [
    "# Plot of the time constant\n",
    "plt.figure()\n",
    "for latticeDetuning in latticeDetuningList:\n",
    "    results_temp = getSubDF(resultsDF_mix, ['latticeDetuning_GHz'], [latticeDetuning])\n",
    "    plt.plot(results_temp['trapFrequencyZ_kHz'], 1/results_temp['alpha'], 'o', label = latticeDetuning)\n",
    "plt.legend()\n",
    "plt.title('One body decay from the 1b+3b fit')\n",
    "plt.xlabel('Trap frequency (kHz)')\n",
    "plt.ylabel(r'Time constant 1b $1/\\alpha$ (ms)')\n",
    "plt.ylim(0,500)\n",
    "plt.show()"
   ]
  },
  {
   "cell_type": "markdown",
   "metadata": {},
   "source": [
    "Adiabatic criterion. What is the real one?\n",
    "\n",
    "Blue case: the smallest radial trap frequencies are about 200Hz with ODT3Comp = 5. Which means about 0.5ms should be fine and still adiabatic for the $z$ direction (starts at 3kHz). This trap frequency remains in the vicinity and might diminish to ~100Hz. It's best to be too fast than too slow in order not to change the temperature measurement.\n",
    "\n",
    "Red case: smallest depends on the ODTFactor, but taking -20GHz and 0.2mW with ODTFactor = 4 we have 140Hz in X and 60Hz in Y. Agains starting at 0.5ms sounds good. -1GHz 120mW will be closer to 2kHz trap frequency while the Z is 300kHz, so 10 $\\mu$s is good there.\n",
    "\n",
    "A good formula would be $500\\mu$s constant in the blue case and then noticing that $100$mW and -2GHz gives about 240kHz trap frequency, which is suitable for 10$\\mu$s ramping time, then something that goes inversly propotionnal to $\\sqrt{\\frac{P/100}{\\Delta/2}}$ is good. You want to saturate at 500$\\mu$s at 0 power so:\n",
    "\\[\\tau = max\\left(\\frac{10 \\mu s}{\\frac{10}{500} + \\sqrt{\\frac{P/100}{\\Delta/2}}}, 10\\mu s\\right)\\]"
   ]
  },
  {
   "cell_type": "code",
   "execution_count": 77,
   "metadata": {},
   "outputs": [
    {
     "data": {
      "image/png": "[encoded data removed]",
      "text/plain": [
       "<Figure size 432x288 with 1 Axes>"
      ]
     },
     "metadata": {
      "needs_background": "light"
     },
     "output_type": "display_data"
    }
   ],
   "source": [
    "X = np.linspace(0.1/85, 120, 100000)   # X = P/Delta\n",
    "Y = 10/(10/500+np.sqrt(X/50))\n",
    "plt.figure()\n",
    "plt.semilogx(X, Y)\n",
    "plt.ylabel(r'$\\tau$ in $\\mu$s')\n",
    "plt.xlabel(r'$P/\\Delta$ in mW/GHz')\n",
    "plt.xlim(0.0001, 120)\n",
    "plt.show()"
   ]
  },
  {
   "cell_type": "markdown",
   "metadata": {},
   "source": [
    "## Temperature plots"
   ]
  },
  {
   "cell_type": "code",
   "execution_count": 78,
   "metadata": {},
   "outputs": [],
   "source": [
    "latticeDepth = 0.5\n",
    "latticeDetuning = -20\n",
    "compz = compz_not_lossy\n",
    "ODTFactor = 4\n",
    "df_tempZ = getSubDF(df, ['latticeDepth_mW', 'latticeDetuning_GHz', 'compz', 'ODTFactor'], [latticeDepth, latticeDetuning, compz, ODTFactor])\n",
    "time = np.linspace(0, 3000, 10000)"
   ]
  },
  {
   "cell_type": "code",
   "execution_count": null,
   "metadata": {},
   "outputs": [],
   "source": []
  },
  {
   "cell_type": "code",
   "execution_count": 79,
   "metadata": {},
   "outputs": [
    {
     "data": {
      "text/html": [
       "<div>\n",
       "<style scoped>\n",
       "    .dataframe tbody tr th:only-of-type {\n",
       "        vertical-align: middle;\n",
       "    }\n",
       "\n",
       "    .dataframe tbody tr th {\n",
       "        vertical-align: top;\n",
       "    }\n",
       "\n",
       "    .dataframe thead th {\n",
       "        text-align: right;\n",
       "    }\n",
       "</style>\n",
       "<table border=\"1\" class=\"dataframe\">\n",
       "  <thead>\n",
       "    <tr style=\"text-align: right;\">\n",
       "      <th></th>\n",
       "      <th>nCount</th>\n",
       "      <th>temperature_nK</th>\n",
       "      <th>BECHoldTime</th>\n",
       "    </tr>\n",
       "  </thead>\n",
       "  <tbody>\n",
       "  </tbody>\n",
       "</table>\n",
       "</div>"
      ],
      "text/plain": [
       "Empty DataFrame\n",
       "Columns: [nCount, temperature_nK, BECHoldTime]\n",
       "Index: []"
      ]
     },
     "execution_count": 79,
     "metadata": {},
     "output_type": "execute_result"
    }
   ],
   "source": [
    "df_tempZ[['nCount', 'temperature_nK', 'BECHoldTime']]"
   ]
  },
  {
   "cell_type": "code",
   "execution_count": 80,
   "metadata": {},
   "outputs": [
    {
     "data": {
      "image/png": "[encoded data removed]",
      "text/plain": [
       "<Figure size 432x288 with 1 Axes>"
      ]
     },
     "metadata": {
      "needs_background": "light"
     },
     "output_type": "display_data"
    }
   ],
   "source": [
    "plt.figure()\n",
    "plt.plot(df_tempZ['BECHoldTime'], df_tempZ['temperature_nK']**3/df_tempZ['nCount']**2, '+')\n",
    "# I should actually correct for the density\n",
    "plt.show()"
   ]
  },
  {
   "cell_type": "code",
   "execution_count": 81,
   "metadata": {},
   "outputs": [
    {
     "ename": "IndexError",
     "evalue": "single positional indexer is out-of-bounds",
     "output_type": "error",
     "traceback": [
      "\u001b[0;31m---------------------------------------------------------------------------\u001b[0m",
      "\u001b[0;31mIndexError\u001b[0m                                Traceback (most recent call last)",
      "\u001b[0;32m<ipython-input-81-31145fe49d03>\u001b[0m in \u001b[0;36m<module>\u001b[0;34m\u001b[0m\n\u001b[1;32m      1\u001b[0m \u001b[0mresultZ\u001b[0m \u001b[0;34m=\u001b[0m \u001b[0mgetSubDF\u001b[0m\u001b[0;34m(\u001b[0m\u001b[0mresultsDF_pure\u001b[0m\u001b[0;34m,\u001b[0m \u001b[0;34m[\u001b[0m\u001b[0;34m'latticeDepth_mW'\u001b[0m\u001b[0;34m,\u001b[0m \u001b[0;34m'latticeDetuning_GHz'\u001b[0m\u001b[0;34m,\u001b[0m \u001b[0;34m'compz'\u001b[0m\u001b[0;34m]\u001b[0m\u001b[0;34m,\u001b[0m \u001b[0;34m[\u001b[0m\u001b[0mlatticeDepth\u001b[0m\u001b[0;34m,\u001b[0m \u001b[0mlatticeDetuning\u001b[0m\u001b[0;34m,\u001b[0m \u001b[0mcompz\u001b[0m\u001b[0;34m]\u001b[0m\u001b[0;34m)\u001b[0m\u001b[0;34m\u001b[0m\u001b[0;34m\u001b[0m\u001b[0m\n\u001b[1;32m      2\u001b[0m \u001b[0;34m\u001b[0m\u001b[0m\n\u001b[0;32m----> 3\u001b[0;31m \u001b[0mNZ\u001b[0m\u001b[0;34m,\u001b[0m \u001b[0mgammaZ\u001b[0m \u001b[0;34m=\u001b[0m \u001b[0mresultZ\u001b[0m\u001b[0;34m[\u001b[0m\u001b[0;34m[\u001b[0m\u001b[0;34m'N0'\u001b[0m\u001b[0;34m,\u001b[0m \u001b[0;34m'gamma'\u001b[0m\u001b[0;34m]\u001b[0m\u001b[0;34m]\u001b[0m\u001b[0;34m.\u001b[0m\u001b[0miloc\u001b[0m\u001b[0;34m[\u001b[0m\u001b[0;36m0\u001b[0m\u001b[0;34m,\u001b[0m\u001b[0;34m:\u001b[0m\u001b[0;34m]\u001b[0m\u001b[0;34m\u001b[0m\u001b[0;34m\u001b[0m\u001b[0m\n\u001b[0m\u001b[1;32m      4\u001b[0m \u001b[0mZ\u001b[0m \u001b[0;34m=\u001b[0m \u001b[0mN_polarized_pure3b\u001b[0m\u001b[0;34m(\u001b[0m\u001b[0mtime\u001b[0m\u001b[0;34m,\u001b[0m \u001b[0mNZ\u001b[0m\u001b[0;34m,\u001b[0m \u001b[0mgammaZ\u001b[0m\u001b[0;34m)\u001b[0m\u001b[0;34m\u001b[0m\u001b[0;34m\u001b[0m\u001b[0m\n\u001b[1;32m      5\u001b[0m \u001b[0;34m\u001b[0m\u001b[0m\n",
      "\u001b[0;32m/usr/local/lib/python3.9/site-packages/pandas/core/indexing.py\u001b[0m in \u001b[0;36m__getitem__\u001b[0;34m(self, key)\u001b[0m\n\u001b[1;32m    886\u001b[0m                     \u001b[0;31m# AttributeError for IntervalTree get_value\u001b[0m\u001b[0;34m\u001b[0m\u001b[0;34m\u001b[0m\u001b[0;34m\u001b[0m\u001b[0m\n\u001b[1;32m    887\u001b[0m                     \u001b[0;32mreturn\u001b[0m \u001b[0mself\u001b[0m\u001b[0;34m.\u001b[0m\u001b[0mobj\u001b[0m\u001b[0;34m.\u001b[0m\u001b[0m_get_value\u001b[0m\u001b[0;34m(\u001b[0m\u001b[0;34m*\u001b[0m\u001b[0mkey\u001b[0m\u001b[0;34m,\u001b[0m \u001b[0mtakeable\u001b[0m\u001b[0;34m=\u001b[0m\u001b[0mself\u001b[0m\u001b[0;34m.\u001b[0m\u001b[0m_takeable\u001b[0m\u001b[0;34m)\u001b[0m\u001b[0;34m\u001b[0m\u001b[0;34m\u001b[0m\u001b[0m\n\u001b[0;32m--> 888\u001b[0;31m             \u001b[0;32mreturn\u001b[0m \u001b[0mself\u001b[0m\u001b[0;34m.\u001b[0m\u001b[0m_getitem_tuple\u001b[0m\u001b[0;34m(\u001b[0m\u001b[0mkey\u001b[0m\u001b[0;34m)\u001b[0m\u001b[0;34m\u001b[0m\u001b[0;34m\u001b[0m\u001b[0m\n\u001b[0m\u001b[1;32m    889\u001b[0m         \u001b[0;32melse\u001b[0m\u001b[0;34m:\u001b[0m\u001b[0;34m\u001b[0m\u001b[0;34m\u001b[0m\u001b[0m\n\u001b[1;32m    890\u001b[0m             \u001b[0;31m# we by definition only have the 0th axis\u001b[0m\u001b[0;34m\u001b[0m\u001b[0;34m\u001b[0m\u001b[0;34m\u001b[0m\u001b[0m\n",
      "\u001b[0;32m/usr/local/lib/python3.9/site-packages/pandas/core/indexing.py\u001b[0m in \u001b[0;36m_getitem_tuple\u001b[0;34m(self, tup)\u001b[0m\n\u001b[1;32m   1447\u001b[0m     \u001b[0;32mdef\u001b[0m \u001b[0m_getitem_tuple\u001b[0m\u001b[0;34m(\u001b[0m\u001b[0mself\u001b[0m\u001b[0;34m,\u001b[0m \u001b[0mtup\u001b[0m\u001b[0;34m:\u001b[0m \u001b[0mTuple\u001b[0m\u001b[0;34m)\u001b[0m\u001b[0;34m:\u001b[0m\u001b[0;34m\u001b[0m\u001b[0;34m\u001b[0m\u001b[0m\n\u001b[1;32m   1448\u001b[0m \u001b[0;34m\u001b[0m\u001b[0m\n\u001b[0;32m-> 1449\u001b[0;31m         \u001b[0mself\u001b[0m\u001b[0;34m.\u001b[0m\u001b[0m_has_valid_tuple\u001b[0m\u001b[0;34m(\u001b[0m\u001b[0mtup\u001b[0m\u001b[0;34m)\u001b[0m\u001b[0;34m\u001b[0m\u001b[0;34m\u001b[0m\u001b[0m\n\u001b[0m\u001b[1;32m   1450\u001b[0m         \u001b[0;32mwith\u001b[0m \u001b[0msuppress\u001b[0m\u001b[0;34m(\u001b[0m\u001b[0mIndexingError\u001b[0m\u001b[0;34m)\u001b[0m\u001b[0;34m:\u001b[0m\u001b[0;34m\u001b[0m\u001b[0;34m\u001b[0m\u001b[0m\n\u001b[1;32m   1451\u001b[0m             \u001b[0;32mreturn\u001b[0m \u001b[0mself\u001b[0m\u001b[0;34m.\u001b[0m\u001b[0m_getitem_lowerdim\u001b[0m\u001b[0;34m(\u001b[0m\u001b[0mtup\u001b[0m\u001b[0;34m)\u001b[0m\u001b[0;34m\u001b[0m\u001b[0;34m\u001b[0m\u001b[0m\n",
      "\u001b[0;32m/usr/local/lib/python3.9/site-packages/pandas/core/indexing.py\u001b[0m in \u001b[0;36m_has_valid_tuple\u001b[0;34m(self, key)\u001b[0m\n\u001b[1;32m    720\u001b[0m         \u001b[0;32mfor\u001b[0m \u001b[0mi\u001b[0m\u001b[0;34m,\u001b[0m \u001b[0mk\u001b[0m \u001b[0;32min\u001b[0m \u001b[0menumerate\u001b[0m\u001b[0;34m(\u001b[0m\u001b[0mkey\u001b[0m\u001b[0;34m)\u001b[0m\u001b[0;34m:\u001b[0m\u001b[0;34m\u001b[0m\u001b[0;34m\u001b[0m\u001b[0m\n\u001b[1;32m    721\u001b[0m             \u001b[0;32mtry\u001b[0m\u001b[0;34m:\u001b[0m\u001b[0;34m\u001b[0m\u001b[0;34m\u001b[0m\u001b[0m\n\u001b[0;32m--> 722\u001b[0;31m                 \u001b[0mself\u001b[0m\u001b[0;34m.\u001b[0m\u001b[0m_validate_key\u001b[0m\u001b[0;34m(\u001b[0m\u001b[0mk\u001b[0m\u001b[0;34m,\u001b[0m \u001b[0mi\u001b[0m\u001b[0;34m)\u001b[0m\u001b[0;34m\u001b[0m\u001b[0;34m\u001b[0m\u001b[0m\n\u001b[0m\u001b[1;32m    723\u001b[0m             \u001b[0;32mexcept\u001b[0m \u001b[0mValueError\u001b[0m \u001b[0;32mas\u001b[0m \u001b[0merr\u001b[0m\u001b[0;34m:\u001b[0m\u001b[0;34m\u001b[0m\u001b[0;34m\u001b[0m\u001b[0m\n\u001b[1;32m    724\u001b[0m                 raise ValueError(\n",
      "\u001b[0;32m/usr/local/lib/python3.9/site-packages/pandas/core/indexing.py\u001b[0m in \u001b[0;36m_validate_key\u001b[0;34m(self, key, axis)\u001b[0m\n\u001b[1;32m   1355\u001b[0m             \u001b[0;32mreturn\u001b[0m\u001b[0;34m\u001b[0m\u001b[0;34m\u001b[0m\u001b[0m\n\u001b[1;32m   1356\u001b[0m         \u001b[0;32melif\u001b[0m \u001b[0mis_integer\u001b[0m\u001b[0;34m(\u001b[0m\u001b[0mkey\u001b[0m\u001b[0;34m)\u001b[0m\u001b[0;34m:\u001b[0m\u001b[0;34m\u001b[0m\u001b[0;34m\u001b[0m\u001b[0m\n\u001b[0;32m-> 1357\u001b[0;31m             \u001b[0mself\u001b[0m\u001b[0;34m.\u001b[0m\u001b[0m_validate_integer\u001b[0m\u001b[0;34m(\u001b[0m\u001b[0mkey\u001b[0m\u001b[0;34m,\u001b[0m \u001b[0maxis\u001b[0m\u001b[0;34m)\u001b[0m\u001b[0;34m\u001b[0m\u001b[0;34m\u001b[0m\u001b[0m\n\u001b[0m\u001b[1;32m   1358\u001b[0m         \u001b[0;32melif\u001b[0m \u001b[0misinstance\u001b[0m\u001b[0;34m(\u001b[0m\u001b[0mkey\u001b[0m\u001b[0;34m,\u001b[0m \u001b[0mtuple\u001b[0m\u001b[0;34m)\u001b[0m\u001b[0;34m:\u001b[0m\u001b[0;34m\u001b[0m\u001b[0;34m\u001b[0m\u001b[0m\n\u001b[1;32m   1359\u001b[0m             \u001b[0;31m# a tuple should already have been caught by this point\u001b[0m\u001b[0;34m\u001b[0m\u001b[0;34m\u001b[0m\u001b[0;34m\u001b[0m\u001b[0m\n",
      "\u001b[0;32m/usr/local/lib/python3.9/site-packages/pandas/core/indexing.py\u001b[0m in \u001b[0;36m_validate_integer\u001b[0;34m(self, key, axis)\u001b[0m\n\u001b[1;32m   1441\u001b[0m         \u001b[0mlen_axis\u001b[0m \u001b[0;34m=\u001b[0m \u001b[0mlen\u001b[0m\u001b[0;34m(\u001b[0m\u001b[0mself\u001b[0m\u001b[0;34m.\u001b[0m\u001b[0mobj\u001b[0m\u001b[0;34m.\u001b[0m\u001b[0m_get_axis\u001b[0m\u001b[0;34m(\u001b[0m\u001b[0maxis\u001b[0m\u001b[0;34m)\u001b[0m\u001b[0;34m)\u001b[0m\u001b[0;34m\u001b[0m\u001b[0;34m\u001b[0m\u001b[0m\n\u001b[1;32m   1442\u001b[0m         \u001b[0;32mif\u001b[0m \u001b[0mkey\u001b[0m \u001b[0;34m>=\u001b[0m \u001b[0mlen_axis\u001b[0m \u001b[0;32mor\u001b[0m \u001b[0mkey\u001b[0m \u001b[0;34m<\u001b[0m \u001b[0;34m-\u001b[0m\u001b[0mlen_axis\u001b[0m\u001b[0;34m:\u001b[0m\u001b[0;34m\u001b[0m\u001b[0;34m\u001b[0m\u001b[0m\n\u001b[0;32m-> 1443\u001b[0;31m             \u001b[0;32mraise\u001b[0m \u001b[0mIndexError\u001b[0m\u001b[0;34m(\u001b[0m\u001b[0;34m\"single positional indexer is out-of-bounds\"\u001b[0m\u001b[0;34m)\u001b[0m\u001b[0;34m\u001b[0m\u001b[0;34m\u001b[0m\u001b[0m\n\u001b[0m\u001b[1;32m   1444\u001b[0m \u001b[0;34m\u001b[0m\u001b[0m\n\u001b[1;32m   1445\u001b[0m     \u001b[0;31m# -------------------------------------------------------------------\u001b[0m\u001b[0;34m\u001b[0m\u001b[0;34m\u001b[0m\u001b[0;34m\u001b[0m\u001b[0m\n",
      "\u001b[0;31mIndexError\u001b[0m: single positional indexer is out-of-bounds"
     ]
    }
   ],
   "source": [
    "resultZ = getSubDF(resultsDF_pure, ['latticeDepth_mW', 'latticeDetuning_GHz', 'compz'], [latticeDepth, latticeDetuning, compz])\n",
    "\n",
    "NZ, gammaZ = resultZ[['N0', 'gamma']].iloc[0,:]\n",
    "Z = N_polarized_pure3b(time, NZ, gammaZ)\n",
    "\n",
    "fig, ax1 = plt.subplots()\n",
    "ax1.set_xlabel('BECHoldTime (ms)')\n",
    "ax1.set_ylabel('nCount')\n",
    "ax1.plot(df_tempZ['BECHoldTime'], df_tempZ['nCount'], '+', label = str(round(latticeDepth, 2)) + \" nC\")\n",
    "ax1.plot(time, Z, '-', label = 'fitZ')\n",
    "\n",
    "ax2 = ax1.twinx()  # instantiate a second axes that shares the same x-axis\n",
    "ax2.set_ylabel('temerature')  # we already handled the x-label with ax1\n",
    "ax2.plot(df_tempZ['BECHoldTime'], df_tempZ['temperature_nK'], '+', color = 'red', label = str(round(latticeDepth, 2)) + ' T')\n",
    "ax2.set_ylim(0,5000)\n",
    "fig.legend()\n",
    "#fig.tight_layout()\n",
    "#plt.ylim(0, 20000)\n",
    "#plt.xlim(0,10)\n",
    "\n",
    "plt.show()\n",
    "\n",
    "\"\"\"\n",
    "# Create some mock data\n",
    "t = np.arange(0.01, 10.0, 0.01)\n",
    "data1 = np.exp(t)\n",
    "data2 = np.sin(2 * np.pi * t)\n",
    "\n",
    "\n",
    "color = 'tab:red'\n",
    "ax1.set_xlabel('time (s)')\n",
    "ax1.set_ylabel('exp', color=color)\n",
    "ax1.plot(t, data1, color=color)\n",
    "ax1.tick_params(axis='y', labelcolor=color)\n",
    "\n",
    "ax2 = ax1.twinx()  # instantiate a second axes that shares the same x-axis\n",
    "\n",
    "color = 'tab:blue'\n",
    "ax2.set_ylabel('sin', color=color)  # we already handled the x-label with ax1\n",
    "ax2.plot(t, data2, color=color)\n",
    "ax2.tick_params(axis='y', labelcolor=color)\n",
    "\n",
    "fig.tight_layout()  # otherwise the right y-label is slightly clipped\n",
    "plt.show()\"\"\""
   ]
  },
  {
   "cell_type": "code",
   "execution_count": null,
   "metadata": {},
   "outputs": [],
   "source": [
    "df_tempZ[df_tempZ['temperature_nK'] < 250].iloc[:,10:35]"
   ]
  },
  {
   "cell_type": "markdown",
   "metadata": {},
   "source": [
    "### End"
   ]
  },
  {
   "cell_type": "markdown",
   "metadata": {},
   "source": [
    "Now let's look at the TOF series"
   ]
  },
  {
   "cell_type": "code",
   "execution_count": null,
   "metadata": {},
   "outputs": [],
   "source": [
    "df_TOF\n",
    "latticeDepthList_TOF = df_TOF['latticeDepth'].unique()\n",
    "\n",
    "plt.figure()\n",
    "for latticeDepth in latticeDepthList_TOF[-1:]:\n",
    "    df_run = getRun(df_TOF, latticeDepth, False, -5)\n",
    "    plt.plot(df_run['TOF'], df_run['xWidth'], '*', label = 'Z')\n",
    "    plt.plot(df_run['TOF'], df_run['yWidth'], '+', label = 'trans')\n",
    "    \n",
    "plt.xlabel(\"TOF\")\n",
    "plt.ylabel(\"Width\")\n",
    "plt.legend()\n",
    "plt.show()"
   ]
  },
  {
   "cell_type": "code",
   "execution_count": null,
   "metadata": {},
   "outputs": [],
   "source": [
    "def sigma(t, sigma0, v):\n",
    "    return np.sqrt(sigma0**2+(v*t)**2)\n",
    "\n",
    "def fitRun_sigma(df_run, XorY = 'xWidth'):\n",
    "    sigma0_guess = df_run[XorY].min()\n",
    "    v_guess = df_run[XorY].max()/df_run['TOF'].max()\n",
    "    popt, pcov = curve_fit(sigma, df_run['TOF'], df_run[XorY],\n",
    "                       p0 = [sigma0_guess, v_guess]\n",
    "                          )#bounds = ((0, 0), (np.inf, np.inf)),\n",
    "                           #method = 'trf'\n",
    "                      #)\n",
    "    return popt, pcov\n",
    "\n",
    "results_sigma = []\n",
    "for latticeDetuning in latticeDetuningList:\n",
    "    for latticeDepth in latticeDepthList:\n",
    "        df_run = getRun(df_TOF, latticeDepth, Y_rotation = False, latticeDetuning = latticeDetuning)\n",
    "        #print(latticeDetuning, latticeDepth)\n",
    "        if not df_run.empty:\n",
    "            print(latticeDepth)\n",
    "            popt_Z, pcov_Z = fitRun_sigma(df_run, 'xWidth')\n",
    "            print('xRun ok')\n",
    "            popt_trans, pcov_trans = fitRun_sigma(df_run, 'yWidth')\n",
    "            print('yRun ok')\n",
    "            results_sigma += [{'latticeDetuning' : latticeDetuning,\n",
    "                             'latticeDepth' : latticeDepth,\n",
    "                             'Y_rotation' : False,\n",
    "                            'sigma0_Z' : popt_Z[0],\n",
    "                            'v_Z' : popt_Z[1],\n",
    "                            'sigma0_trans' : popt_trans[0],\n",
    "                            'v_trans' : popt_trans[1],\n",
    "                        }]\n",
    "resultsDF_sigma = pd.DataFrame(results_sigma)"
   ]
  },
  {
   "cell_type": "code",
   "execution_count": null,
   "metadata": {},
   "outputs": [],
   "source": [
    "resultsDF_sigma"
   ]
  },
  {
   "cell_type": "code",
   "execution_count": null,
   "metadata": {},
   "outputs": [],
   "source": [
    "latticeDetuning = -5\n",
    "latticeDepth = 0.1\n",
    "\n",
    "tof = np.linspace(0, 8, 100)\n",
    "df_run = getRun(df_TOF, latticeDepth, False, latticeDetuning)\n",
    "df_res = getResult(resultsDF_sigma, latticeDepth, False, latticeDetuning)\n",
    "sigma0_Z, v_Z, sigma0_trans, v_trans = df_res.iloc[0,3:7]\n",
    "#sigma0_Z, v_Z = 8, 4\n",
    "sigma_Z_fit = sigma(tof, sigma0_Z, v_Z)\n",
    "sigma_trans_fit = sigma(tof, sigma0_trans, v_trans)\n",
    "\n",
    "plt.figure()\n",
    "plt.plot(tof, sigma_Z_fit, 'r-')\n",
    "plt.plot(tof, sigma_trans_fit, 'b-')\n",
    "plt.plot(df_run['TOF'], df_run['xWidth'], 'r*')\n",
    "plt.plot(df_run['TOF'], df_run['yWidth'], 'b*')\n",
    "#plt.ylim(0,2*max(sigma_Z_fit))\n",
    "plt.show()"
   ]
  },
  {
   "cell_type": "code",
   "execution_count": null,
   "metadata": {},
   "outputs": [],
   "source": [
    "df_TOF[df_TOF[\"latticeDepth\"] == 0.1]"
   ]
  },
  {
   "cell_type": "code",
   "execution_count": null,
   "metadata": {
    "scrolled": true
   },
   "outputs": [],
   "source": [
    "plt.figure()\n",
    "plt.plot(resultsDF_sigma['latticeDepth'], resultsDF_sigma['v_Z'], 'r*', label = 'Z')\n",
    "plt.plot(resultsDF_sigma['latticeDepth'], resultsDF_sigma['v_trans'], 'b*', label = 'trans')\n",
    "plt.legend()\n",
    "#plt.ylim(0, 5)\n",
    "plt.ylabel(\"velocity\")\n",
    "plt.xlabel(\"Lattice depth\")\n",
    "plt.show()\n",
    "\n",
    "\n",
    "# add velocity scale = hbar*k // recoil temperature"
   ]
  },
  {
   "cell_type": "markdown",
   "metadata": {},
   "source": [
    "Calculate the velocity to temperature conversion. Here $\\sigma = \\sqrt{\\sigma_0^{2}+(\\sigma_{v}t)^{2}}$ is fitted from a gaussian distribution $\\exp(-\\frac{1}{2}\\frac{x^{2}}{\\sigma^{2}})$ where $x = vt$, so $v$ is distributed like a gaussian with width $\\sigma_{v}$ which is the result of the fit $P(v) \\sim \\exp(-\\frac{1}{2}\\frac{v^{2}}{\\sigma_{v}^{2}}) \\sim \\exp(-\\frac{\\frac{1}{2}mv^{2}}{k_{B}T})$. Therefore we find:\n",
    "\\[ \\sigma_{v} = \\sqrt{\\frac{k_{B}T}{m}}\\]"
   ]
  },
  {
   "cell_type": "code",
   "execution_count": null,
   "metadata": {},
   "outputs": [],
   "source": [
    "m_Dy = 164*1.66*10**(-27)\n",
    "k_B = 1.38*10**(-23)\n",
    "pixel_size = 3.45*10**(-6)\n",
    "tof_unit = 10**(-3)\n",
    "magnification = 3\n",
    "resultsDF_sigma['temperature_Z'] = m_Dy*(resultsDF_sigma['v_Z']*pixel_size/magnification/tof_unit)**2/k_B\n",
    "resultsDF_sigma['temperature_trans'] = m_Dy*(resultsDF_sigma['v_trans']*pixel_size/magnification/tof_unit)**2/k_B\n",
    "resultsDF_sigma"
   ]
  },
  {
   "cell_type": "code",
   "execution_count": null,
   "metadata": {},
   "outputs": [],
   "source": []
  },
  {
   "cell_type": "markdown",
   "metadata": {},
   "source": []
  }
 ],
 "metadata": {
  "kernelspec": {
   "display_name": "Python 3",
   "language": "python",
   "name": "python3"
  },
  "language_info": {
   "codemirror_mode": {
    "name": "ipython",
    "version": 3
   },
   "file_extension": ".py",
   "mimetype": "text/x-python",
   "name": "python",
   "nbconvert_exporter": "python",
   "pygments_lexer": "ipython3",
   "version": "3.9.0"
  },
  "latex_envs": {
   "LaTeX_envs_menu_present": true,
   "autoclose": false,
   "autocomplete": true,
   "bibliofile": "biblio.bib",
   "cite_by": "apalike",
   "current_citInitial": 1,
   "eqLabelWithNumbers": true,
   "eqNumInitial": 1,
   "hotkeys": {
    "equation": "Ctrl-E",
    "itemize": "Ctrl-I"
   },
   "labels_anchors": false,
   "latex_user_defs": false,
   "report_style_numbering": false,
   "user_envs_cfg": false
  }
 },
 "nbformat": 4,
 "nbformat_minor": 4
}
