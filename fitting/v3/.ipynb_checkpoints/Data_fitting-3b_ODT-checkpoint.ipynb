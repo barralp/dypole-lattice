{
 "cells": [
  {
   "cell_type": "code",
   "execution_count": 1,
   "metadata": {},
   "outputs": [],
   "source": [
    "from databaseCommunication import readDatabaseFile, createDataFrame_list\n",
    "from dataframeFormating import createLabeledDataFrame_list #, N_polarized_pure3b, N_polarized, N_linear, getReducedDataframe, getReducedResults, \n",
    "from calculation import trapFrequency, getSubDF\n",
    "import pandas as pd\n",
    "import numpy as np\n",
    "import matplotlib.pyplot as plt \n",
    "from scipy.optimize import curve_fit"
   ]
  },
  {
   "cell_type": "code",
   "execution_count": 2,
   "metadata": {},
   "outputs": [],
   "source": [
    "label_heads = []\n",
    "\n",
    "labels = [[[], [151422, 151736]]\n",
    "             ] # May 21th\n",
    "\n",
    "excluded = [151459]"
   ]
  },
  {
   "cell_type": "code",
   "execution_count": 3,
   "metadata": {},
   "outputs": [
    {
     "data": {
      "text/plain": [
       "\"ciceroVariables = ['BECHoldTime', 'TOF', 'compz_rotation']\\nfitVariables = ['nCount', 'xWidth', 'yWidth']\\n\\ndf = createLabeledDataFrame_list(labels, label_heads, ciceroVariables, fitVariables)\\nfor column in df.columns:\\n    try:\\n        df[column] = df[column].astype(float)\\n    except:\\n        pass\\ndf.to_pickle('data_save_ODT.pickle')\""
      ]
     },
     "execution_count": 3,
     "metadata": {},
     "output_type": "execute_result"
    }
   ],
   "source": [
    "\"\"\"ciceroVariables = ['BECHoldTime', 'TOF', 'compz_rotation']\n",
    "fitVariables = ['nCount', 'xWidth', 'yWidth']\n",
    "\n",
    "df = createLabeledDataFrame_list(labels, label_heads, ciceroVariables, fitVariables)\n",
    "for column in df.columns:\n",
    "    try:\n",
    "        df[column] = df[column].astype(float)\n",
    "    except:\n",
    "        pass\n",
    "df.to_pickle('data_save_ODT.pickle')\"\"\""
   ]
  },
  {
   "cell_type": "code",
   "execution_count": 4,
   "metadata": {},
   "outputs": [],
   "source": [
    "df = pd.read_pickle('data_save_ODT.pickle')\n",
    "df.rename(columns = {'compz_rotation' : 'compz'}, inplace = True)\n",
    "#df = df[df['BECHoldTime'] < 400]\n",
    "df_alpha = getSubDF(df, ['compz'], [1.9])\n",
    "df_alpha = df_alpha[df_alpha['BECHoldTime'] > 1400]\n",
    "# Delete these row indexes from dataFrame\n",
    "indexNames = pd.Index(np.where(df['imageID'].isin(excluded))[0])\n",
    "df.drop(indexNames, inplace = True)"
   ]
  },
  {
   "cell_type": "code",
   "execution_count": 5,
   "metadata": {},
   "outputs": [],
   "source": [
    "BECHoldTimeList = np.sort(df['BECHoldTime'].unique())\n",
    "compzList = np.sort(df['compz'].unique())\n",
    "colors = ['red', 'blue', 'orange', 'black', 'green']"
   ]
  },
  {
   "cell_type": "code",
   "execution_count": 6,
   "metadata": {},
   "outputs": [
    {
     "data": {
      "text/plain": [
       "array([1.9 , 7.4 , 7.72, 7.75])"
      ]
     },
     "execution_count": 6,
     "metadata": {},
     "output_type": "execute_result"
    }
   ],
   "source": [
    "compzList"
   ]
  },
  {
   "cell_type": "code",
   "execution_count": 7,
   "metadata": {},
   "outputs": [
    {
     "data": {
      "image/png": "[encoded data removed]",
      "text/plain": [
       "<Figure size 432x288 with 1 Axes>"
      ]
     },
     "metadata": {
      "needs_background": "light"
     },
     "output_type": "display_data"
    }
   ],
   "source": [
    "plt.figure()\n",
    "i = 0\n",
    "for compz in compzList[:2]:\n",
    "    df_temp = getSubDF(df, ['compz'], [compz])\n",
    "    plt.semilogy(df_temp['BECHoldTime'], df_temp['nCount'], 'o', color = colors[i], label = str(compz))\n",
    "    i += 1\n",
    "plt.legend()\n",
    "#plt.ylim(0,25000)\n",
    "plt.xlabel('BECHoldTime (ms)')\n",
    "plt.ylabel('nCount')\n",
    "plt.show()"
   ]
  },
  {
   "cell_type": "code",
   "execution_count": 8,
   "metadata": {},
   "outputs": [],
   "source": [
    "def N_polarized(t, N0, alpha, gamma):\n",
    "    return np.sqrt(alpha / (np.exp(2*alpha*t)*(alpha/(N0**2)+gamma)-gamma))\n",
    "\n",
    "def N_linear(t, N0, b):\n",
    "    return N0-b*t\n",
    "\n",
    "def N_polarized_pure3b(t, N0, gamma):\n",
    "    return N0 / np.sqrt(1+N0**2*gamma*t)\n",
    "\n",
    "def N_1b(t, N0, alpha):\n",
    "    return N0*np.exp(-alpha*t)\n",
    "\n",
    "def N_polarized_alpha(t, N0, gamma):\n",
    "    global alpha\n",
    "    return np.sqrt(alpha / (np.exp(2*alpha*t)*(alpha/(N0**2)+gamma)-gamma))\n",
    "\n",
    "\n",
    "def fitRun(df_run):\n",
    "    N0_guess = max(df_run['nCount'])\n",
    "    time_guess = max(df_run['BECHoldTime'])\n",
    "    alpha_guess = 1/time_guess\n",
    "    gamma_guess = 1/(N0_guess**2*time_guess)\n",
    "    popt, pcov = curve_fit(N_polarized, df_run['BECHoldTime'], df_run['nCount'],\n",
    "                       p0 = [N0_guess, alpha_guess, gamma_guess],\n",
    "                          )#bounds = ((N0_guess/10, alpha_guess/10, gamma_guess/100), (N0_guess*10, alpha_guess*10, gamma_guess*100)),\n",
    "                           #method = 'trf'\n",
    "                      #)\n",
    "    return popt, pcov\n",
    "\n",
    "def fitRun_pure(df_run):\n",
    "    N0_guess = max(df_run['nCount'])\n",
    "    time_guess = max(df_run['BECHoldTime'])\n",
    "    popt, pcov = curve_fit(N_polarized_pure3b, df_run['BECHoldTime'], df_run['nCount'],\n",
    "                       p0 = [N0_guess, 1/(N0_guess**2*time_guess)],\n",
    "                          )#bounds = ((0, 0), (np.inf, np.inf)),\n",
    "                           #method = 'trf'\n",
    "                      #)\n",
    "    return popt, pcov\n",
    "\n",
    "def fitRun_lin(df_run):\n",
    "    N0_guess = max(df_run['nCount'])\n",
    "    time_guess = max(df_run['BECHoldTime'])\n",
    "    popt, pcov = curve_fit(N_linear, df_run['BECHoldTime'], df_run['nCount'],\n",
    "                       p0 = [N0_guess, N0_guess/time_guess],\n",
    "                          )#bounds = ((0, 0), (np.inf, np.inf)),\n",
    "                           #method = 'trf'\n",
    "                      #)\n",
    "    return popt, pcov\n",
    "\n",
    "def fitRun_pure_alpha(df_run):\n",
    "    N0_guess = max(df_run['nCount'])\n",
    "    time_guess = max(df_run['BECHoldTime'])\n",
    "    gamma_guess = 1/(N0_guess**2*time_guess)\n",
    "    popt, pcov = curve_fit(N_polarized_alpha, df_run['BECHoldTime'], df_run['nCount'],\n",
    "                       p0 = [N0_guess, gamma_guess],\n",
    "                          )#bounds = ((N0_guess/10, alpha_guess/10, gamma_guess/100), (N0_guess*10, alpha_guess*10, gamma_guess*100)),\n",
    "                           #method = 'trf'\n",
    "                      #)\n",
    "    return popt, pcov"
   ]
  },
  {
   "cell_type": "code",
   "execution_count": 9,
   "metadata": {},
   "outputs": [
    {
     "data": {
      "image/png": "[encoded data removed]",
      "text/plain": [
       "<Figure size 432x288 with 1 Axes>"
      ]
     },
     "metadata": {
      "needs_background": "light"
     },
     "output_type": "display_data"
    }
   ],
   "source": [
    "popt, pcov = curve_fit(N_1b, df_alpha['BECHoldTime'], df_alpha['nCount'], p0 = [df_alpha['nCount'].max(), 1/df_alpha['BECHoldTime'].max()])\n",
    "N0, alpha = popt\n",
    "\n",
    "time_long = np.linspace(0, 3000, 10000)\n",
    "Z = N_1b(time_long, N0, alpha)\n",
    "df_tempZ = getSubDF(df, ['compz'], [1.9])\n",
    "\n",
    "plt.figure()\n",
    "plt.semilogy(df_tempZ['BECHoldTime'], df_tempZ['nCount'], '+', label = str(compz) + ' ' + str(False))\n",
    "plt.semilogy(time_long, Z, '-', label = 'fitZ')\n",
    "plt.legend()\n",
    "#plt.ylim(0, 20000)\n",
    "#plt.xlim(0,10)\n",
    "plt.xlabel('BECHoldTime (ms)')\n",
    "plt.ylabel('nCount')\n",
    "plt.show()"
   ]
  },
  {
   "cell_type": "code",
   "execution_count": 10,
   "metadata": {},
   "outputs": [
    {
     "data": {
      "text/plain": [
       "0.00010457514828388043"
      ]
     },
     "execution_count": 10,
     "metadata": {},
     "output_type": "execute_result"
    }
   ],
   "source": [
    "alpha"
   ]
  },
  {
   "cell_type": "code",
   "execution_count": 11,
   "metadata": {},
   "outputs": [],
   "source": [
    "results = []\n",
    "results_pure = []\n",
    "results_lin = []\n",
    "results_pure_alpha = []\n",
    "\n",
    "\n",
    "for compz in compzList:\n",
    "    df_run = getSubDF(df, ['compz'], [compz])\n",
    "    if not df_run.empty:\n",
    "        popt, pcov = fitRun(df_run)\n",
    "        results += [{'N0' : popt[0],\n",
    "                    'alpha' : min(-10**(-10), popt[1]),\n",
    "                    'gamma' : popt[2],\n",
    "                     'compz' : compz\n",
    "                    }]\n",
    "resultsDF = pd.DataFrame(results)\n",
    "\n",
    "for compz in compzList:\n",
    "    df_run = getSubDF(df, ['compz'], [compz])\n",
    "    if not df_run.empty:\n",
    "        popt, pcov = fitRun_pure(df_run)\n",
    "        results_pure += [{'N0' : popt[0],\n",
    "                        'alpha' : 0,\n",
    "                         'gamma' : popt[1],\n",
    "                          'compz' : compz\n",
    "                    }]\n",
    "resultsDF_pure = pd.DataFrame(results_pure)\n",
    "\n",
    "for compz in compzList:\n",
    "    df_run = getSubDF(df, ['compz'], [compz])\n",
    "    if not df_run.empty:\n",
    "        popt, pcov = fitRun_lin(df_run[df_run['BECHoldTime']<100])\n",
    "        results_lin += [{'N0' : popt[0],\n",
    "                         'b' : popt[1],\n",
    "                         'compz' : compz\n",
    "                    }]\n",
    "resultsDF_lin = pd.DataFrame(results_lin)\n",
    "\n",
    "for compz in compzList:\n",
    "    df_run = getSubDF(df, ['compz'], [compz])\n",
    "    if not df_run.empty:\n",
    "        popt, pcov = fitRun_pure_alpha(df_run)\n",
    "        results_pure_alpha += [{'N0' : popt[0],\n",
    "                    'alpha' : alpha,\n",
    "                    'gamma' : popt[1],\n",
    "                     'compz' : compz\n",
    "                    }]\n",
    "resultsDF_pure_alpha = pd.DataFrame(results_pure_alpha)"
   ]
  },
  {
   "cell_type": "code",
   "execution_count": 12,
   "metadata": {},
   "outputs": [
    {
     "data": {
      "text/html": [
       "<div>\n",
       "<style scoped>\n",
       "    .dataframe tbody tr th:only-of-type {\n",
       "        vertical-align: middle;\n",
       "    }\n",
       "\n",
       "    .dataframe tbody tr th {\n",
       "        vertical-align: top;\n",
       "    }\n",
       "\n",
       "    .dataframe thead th {\n",
       "        text-align: right;\n",
       "    }\n",
       "</style>\n",
       "<table border=\"1\" class=\"dataframe\">\n",
       "  <thead>\n",
       "    <tr style=\"text-align: right;\">\n",
       "      <th></th>\n",
       "      <th>N0</th>\n",
       "      <th>alpha</th>\n",
       "      <th>gamma</th>\n",
       "      <th>compz</th>\n",
       "    </tr>\n",
       "  </thead>\n",
       "  <tbody>\n",
       "    <tr>\n",
       "      <th>0</th>\n",
       "      <td>43803.765938</td>\n",
       "      <td>0.000105</td>\n",
       "      <td>2.990703e-13</td>\n",
       "      <td>1.90</td>\n",
       "    </tr>\n",
       "    <tr>\n",
       "      <th>1</th>\n",
       "      <td>48038.917276</td>\n",
       "      <td>0.000105</td>\n",
       "      <td>6.755585e-13</td>\n",
       "      <td>7.40</td>\n",
       "    </tr>\n",
       "    <tr>\n",
       "      <th>2</th>\n",
       "      <td>47562.552049</td>\n",
       "      <td>0.000105</td>\n",
       "      <td>7.181227e-12</td>\n",
       "      <td>7.72</td>\n",
       "    </tr>\n",
       "    <tr>\n",
       "      <th>3</th>\n",
       "      <td>50359.381122</td>\n",
       "      <td>0.000105</td>\n",
       "      <td>4.028447e-11</td>\n",
       "      <td>7.75</td>\n",
       "    </tr>\n",
       "  </tbody>\n",
       "</table>\n",
       "</div>"
      ],
      "text/plain": [
       "             N0     alpha         gamma  compz\n",
       "0  43803.765938  0.000105  2.990703e-13   1.90\n",
       "1  48038.917276  0.000105  6.755585e-13   7.40\n",
       "2  47562.552049  0.000105  7.181227e-12   7.72\n",
       "3  50359.381122  0.000105  4.028447e-11   7.75"
      ]
     },
     "execution_count": 12,
     "metadata": {},
     "output_type": "execute_result"
    }
   ],
   "source": [
    "resultsDF_pure_alpha"
   ]
  },
  {
   "cell_type": "code",
   "execution_count": 13,
   "metadata": {},
   "outputs": [],
   "source": [
    "compz = 7.4\n",
    "df_tempZ = getSubDF(df, ['compz'], [compz])\n",
    "time = np.linspace(0, 3000, 10000)"
   ]
  },
  {
   "cell_type": "code",
   "execution_count": 14,
   "metadata": {},
   "outputs": [
    {
     "data": {
      "image/png": "[encoded data removed]",
      "text/plain": [
       "<Figure size 432x288 with 1 Axes>"
      ]
     },
     "metadata": {
      "needs_background": "light"
     },
     "output_type": "display_data"
    }
   ],
   "source": [
    "resultZ = getSubDF(resultsDF_pure, ['compz'], [compz])\n",
    "\n",
    "NZ, alphaZ, gammaZ = resultZ.iloc[0, 1], resultZ.iloc[0, 2], resultZ.iloc[0, 3]\n",
    "Z = N_polarized_pure3b(time, NZ, gammaZ)\n",
    "\n",
    "plt.figure()\n",
    "plt.plot(df_tempZ['BECHoldTime'], df_tempZ['nCount'], '+', label = str(compz) + ' ' + str(False))\n",
    "plt.plot(time, Z, '-', label = 'fitZ')\n",
    "plt.legend()\n",
    "#plt.ylim(0, 20000)\n",
    "#plt.xlim(0,10)\n",
    "plt.xlabel('BECHoldTime (ms)')\n",
    "plt.ylabel('nCount')\n",
    "plt.show()"
   ]
  },
  {
   "cell_type": "code",
   "execution_count": 15,
   "metadata": {},
   "outputs": [
    {
     "data": {
      "image/png": "[encoded data removed]",
      "text/plain": [
       "<Figure size 432x288 with 1 Axes>"
      ]
     },
     "metadata": {
      "needs_background": "light"
     },
     "output_type": "display_data"
    }
   ],
   "source": [
    "resultZ = getSubDF(resultsDF, ['compz'], [compz])\n",
    "\n",
    "NZ, alphaZ, gammaZ = resultZ.iloc[0, 1], resultZ.iloc[0, 2], resultZ.iloc[0, 3]\n",
    "\n",
    "Z = N_polarized(time, NZ, alphaZ, gammaZ)\n",
    "\n",
    "plt.figure()\n",
    "plt.plot(df_tempZ['BECHoldTime'], df_tempZ['nCount'], '+', label = str(compz) + ' ' + str(False))\n",
    "plt.plot(time, Z, '-', label = 'fitZ')\n",
    "plt.legend()\n",
    "#plt.ylim(0,20000)\n",
    "#plt.xlim(0,10)\n",
    "plt.xlabel('BECHoldTime (ms)')\n",
    "plt.ylabel('nCount')\n",
    "plt.show()"
   ]
  },
  {
   "cell_type": "code",
   "execution_count": 16,
   "metadata": {},
   "outputs": [
    {
     "data": {
      "image/png": "[encoded data removed]",
      "text/plain": [
       "<Figure size 432x288 with 1 Axes>"
      ]
     },
     "metadata": {
      "needs_background": "light"
     },
     "output_type": "display_data"
    }
   ],
   "source": [
    "resultZ = getSubDF(resultsDF_lin, ['compz'], [compz])\n",
    "\n",
    "NZ, bZ = resultZ.iloc[0, 1], resultZ.iloc[0, 2]\n",
    "\n",
    "Z = N_linear(time, NZ, bZ)\n",
    "\n",
    "plt.figure()\n",
    "plt.plot(df_tempZ['BECHoldTime'], df_tempZ['nCount'], '+', label = str(compz) + ' ' + str(False))\n",
    "plt.plot(time, Z, '-', label = 'fitZ')\n",
    "plt.legend()\n",
    "#plt.ylim(0,20000)\n",
    "#plt.xlim(0,10)\n",
    "plt.xlabel('BECHoldTime (ms)')\n",
    "plt.ylabel('nCount')\n",
    "plt.show()"
   ]
  },
  {
   "cell_type": "code",
   "execution_count": 17,
   "metadata": {},
   "outputs": [
    {
     "data": {
      "image/png": "[encoded data removed]",
      "text/plain": [
       "<Figure size 432x288 with 1 Axes>"
      ]
     },
     "metadata": {
      "needs_background": "light"
     },
     "output_type": "display_data"
    }
   ],
   "source": [
    "resultZ = getSubDF(resultsDF_pure_alpha, ['compz'], [compz])\n",
    "\n",
    "NZ, gammaZ = resultZ.iloc[0, 1], resultZ.iloc[0, 3]\n",
    "\n",
    "Z = N_polarized_alpha(time_long, NZ, gammaZ)\n",
    "\n",
    "plt.figure()\n",
    "plt.plot(df_tempZ['BECHoldTime'], df_tempZ['nCount'], '+', label = str(compz) + ' ' + str(False))\n",
    "plt.plot(time_long, Z, '-', label = 'fitZ')\n",
    "plt.legend()\n",
    "#plt.ylim(0,20000)\n",
    "#plt.xlim(0,10)\n",
    "plt.xlabel('BECHoldTime (ms)')\n",
    "plt.ylabel('nCount')\n",
    "plt.show()"
   ]
  },
  {
   "cell_type": "markdown",
   "metadata": {},
   "source": [
    "Let's use only the pure 3b fit"
   ]
  },
  {
   "cell_type": "code",
   "execution_count": 27,
   "metadata": {},
   "outputs": [],
   "source": [
    "results = resultsDF_pure\n",
    "#results = resultsDF_pure_alpha"
   ]
  },
  {
   "cell_type": "code",
   "execution_count": 28,
   "metadata": {},
   "outputs": [],
   "source": [
    "m = 164*1.67*10**(-27)\n",
    "k_B = 1.38*10**(-23)\n",
    "hbar = 6.626*10**(-34)/(2*np.pi)\n",
    "sigma_0 = 4\n",
    "\n",
    "df['temperature'] = (m/k_B*(df['yWidth']**2-sigma_0**2)*(10**(-12))/(df['TOF']**2*10**(-6)))/(10**(-9)) # in nano kelvin\n",
    "df['temperature'] = (m/k_B*(df['xWidth']**2-sigma_0**2)*(10**(-12))/(df['TOF']**2*10**(-6)))/(10**(-9)) # in nano kelvin"
   ]
  },
  {
   "cell_type": "code",
   "execution_count": 29,
   "metadata": {},
   "outputs": [
    {
     "data": {
      "image/png": "[encoded data removed]",
      "text/plain": [
       "<Figure size 432x288 with 1 Axes>"
      ]
     },
     "metadata": {
      "needs_background": "light"
     },
     "output_type": "display_data"
    }
   ],
   "source": [
    "plt.figure()\n",
    "i = 0\n",
    "for compz in compzList:\n",
    "    df_temp = getSubDF(df, ['compz'], [compz])\n",
    "    plt.plot(df_temp['BECHoldTime'], df_temp['temperature'], 'o', color = colors[i], label = str(compz))\n",
    "    i += 1\n",
    "plt.legend()\n",
    "plt.xlim(0,300)\n",
    "plt.ylim(0,150)\n",
    "plt.xlabel('BECHoldTime (ms)')\n",
    "plt.ylabel('temperature (nK)')\n",
    "plt.show()"
   ]
  },
  {
   "cell_type": "code",
   "execution_count": 30,
   "metadata": {},
   "outputs": [
    {
     "data": {
      "text/html": [
       "<div>\n",
       "<style scoped>\n",
       "    .dataframe tbody tr th:only-of-type {\n",
       "        vertical-align: middle;\n",
       "    }\n",
       "\n",
       "    .dataframe tbody tr th {\n",
       "        vertical-align: top;\n",
       "    }\n",
       "\n",
       "    .dataframe thead th {\n",
       "        text-align: right;\n",
       "    }\n",
       "</style>\n",
       "<table border=\"1\" class=\"dataframe\">\n",
       "  <thead>\n",
       "    <tr style=\"text-align: right;\">\n",
       "      <th></th>\n",
       "      <th>N0</th>\n",
       "      <th>alpha</th>\n",
       "      <th>gamma</th>\n",
       "      <th>compz</th>\n",
       "      <th>temperature</th>\n",
       "    </tr>\n",
       "  </thead>\n",
       "  <tbody>\n",
       "    <tr>\n",
       "      <th>0</th>\n",
       "      <td>44054.626861</td>\n",
       "      <td>0</td>\n",
       "      <td>8.128000e-13</td>\n",
       "      <td>1.90</td>\n",
       "      <td>4.904615e-08</td>\n",
       "    </tr>\n",
       "    <tr>\n",
       "      <th>1</th>\n",
       "      <td>48345.386870</td>\n",
       "      <td>0</td>\n",
       "      <td>1.588596e-12</td>\n",
       "      <td>7.40</td>\n",
       "      <td>6.330107e-08</td>\n",
       "    </tr>\n",
       "    <tr>\n",
       "      <th>2</th>\n",
       "      <td>47727.342758</td>\n",
       "      <td>0</td>\n",
       "      <td>1.483323e-11</td>\n",
       "      <td>7.72</td>\n",
       "      <td>7.086297e-08</td>\n",
       "    </tr>\n",
       "    <tr>\n",
       "      <th>3</th>\n",
       "      <td>50385.862229</td>\n",
       "      <td>0</td>\n",
       "      <td>8.131112e-11</td>\n",
       "      <td>7.75</td>\n",
       "      <td>8.092665e-08</td>\n",
       "    </tr>\n",
       "  </tbody>\n",
       "</table>\n",
       "</div>"
      ],
      "text/plain": [
       "             N0  alpha         gamma  compz   temperature\n",
       "0  44054.626861      0  8.128000e-13   1.90  4.904615e-08\n",
       "1  48345.386870      0  1.588596e-12   7.40  6.330107e-08\n",
       "2  47727.342758      0  1.483323e-11   7.72  7.086297e-08\n",
       "3  50385.862229      0  8.131112e-11   7.75  8.092665e-08"
      ]
     },
     "execution_count": 30,
     "metadata": {},
     "output_type": "execute_result"
    }
   ],
   "source": [
    "df_temperature = df[df['BECHoldTime'] == 0].groupby('compz').mean()*10**(-9)\n",
    "results['temperature'] = df_temperature['temperature'].tolist()\n",
    "results"
   ]
  },
  {
   "cell_type": "markdown",
   "metadata": {},
   "source": [
    "### Density measurement based on temperature and trap frequency"
   ]
  },
  {
   "cell_type": "markdown",
   "metadata": {},
   "source": [
    "In the BEC the density is like $n(x, y, z) = K e^{-\\frac{\\frac{1}{2}m(\\omega_x^2 x^2 + \\omega_y^2 y^2 + \\omega_z^2 z^2)}{k_B T}} = N\\omega_x\\omega_y\\omega_z\\left(\\frac{m}{2\\pi k_B T}\\right)^{3/2} e^{-\\frac{\\frac{1}{2}m(\\omega_x^2 x^2 + \\omega_y^2 y^2 + \\omega_z^2 z^2)}{k_B T}} = n_0 e^{-\\frac{\\frac{1}{2}m(\\omega_x^2 x^2 + \\omega_y^2 y^2 + \\omega_z^2 z^2)}{k_B T}}$"
   ]
  },
  {
   "cell_type": "code",
   "execution_count": 31,
   "metadata": {},
   "outputs": [],
   "source": [
    "omega_x = 2*np.pi*220\n",
    "omega_y = 2*np.pi*90\n",
    "omega_z = 2*np.pi*220\n",
    "\n",
    "omega_x = 2*np.pi*70\n",
    "omega_y = 2*np.pi*28\n",
    "omega_z = 2*np.pi*50\n",
    "prefactor = omega_x*omega_y*omega_z*(m/(2*np.pi*k_B))**(3/2)\n",
    "\n",
    "results['density'] = results['N0']*prefactor/(results['temperature'])**(3/2)*10**(-6)  # in atoms / cm3"
   ]
  },
  {
   "cell_type": "markdown",
   "metadata": {},
   "source": [
    "By definition $<n^2> = \\int n^2p(x, y, z)d\\tau = \\frac{1}{N}\\int n^3 d\\tau = N^2 (\\omega_x\\omega_y\\omega_z)^2\\frac{1}{\\sqrt{27}}\\left(\\frac{m}{2\\pi k_B T}\\right)^3 = \\frac{N^2}{\\sqrt{27}(2\\pi)^3(\\sigma_x\\sigma_y\\sigma_z)^2}$. The differential equation formula is: $\\frac{dN}{dt} = -\\gamma N^3$ in the fit, but $\\frac{dN}{dt} = -\\beta <n^2> N$ in reality, so $\\frac{dN}{dt} = -\\beta \\frac{N^2}{\\alpha} N$ with $\\alpha = 3^{3/2}\\left(\\frac{2\\pi k_B T}{m}\\right)^3\\frac{1}{(\\omega_x\\omega_y\\omega_z)^2} = 3^{3/2}(2\\pi)^3(\\sigma_x\\sigma_y\\sigma_z)^2 = \\frac{3^{3/2}}{(n_0/N)^2}$, so $\\beta = \\gamma\\alpha$"
   ]
  },
  {
   "cell_type": "code",
   "execution_count": 32,
   "metadata": {},
   "outputs": [],
   "source": [
    "results['beta'] = results['gamma']*10**3/(results['density']/results['N0'])**2 # this is is cm^6/s"
   ]
  },
  {
   "cell_type": "code",
   "execution_count": 33,
   "metadata": {},
   "outputs": [
    {
     "data": {
      "text/html": [
       "<div>\n",
       "<style scoped>\n",
       "    .dataframe tbody tr th:only-of-type {\n",
       "        vertical-align: middle;\n",
       "    }\n",
       "\n",
       "    .dataframe tbody tr th {\n",
       "        vertical-align: top;\n",
       "    }\n",
       "\n",
       "    .dataframe thead th {\n",
       "        text-align: right;\n",
       "    }\n",
       "</style>\n",
       "<table border=\"1\" class=\"dataframe\">\n",
       "  <thead>\n",
       "    <tr style=\"text-align: right;\">\n",
       "      <th></th>\n",
       "      <th>N0</th>\n",
       "      <th>alpha</th>\n",
       "      <th>gamma</th>\n",
       "      <th>compz</th>\n",
       "      <th>temperature</th>\n",
       "      <th>density</th>\n",
       "      <th>beta</th>\n",
       "    </tr>\n",
       "  </thead>\n",
       "  <tbody>\n",
       "    <tr>\n",
       "      <th>0</th>\n",
       "      <td>44054.626861</td>\n",
       "      <td>0</td>\n",
       "      <td>8.128000e-13</td>\n",
       "      <td>1.90</td>\n",
       "      <td>4.904615e-08</td>\n",
       "      <td>1.750257e+13</td>\n",
       "      <td>5.149474e-27</td>\n",
       "    </tr>\n",
       "    <tr>\n",
       "      <th>1</th>\n",
       "      <td>48345.386870</td>\n",
       "      <td>0</td>\n",
       "      <td>1.588596e-12</td>\n",
       "      <td>7.40</td>\n",
       "      <td>6.330107e-08</td>\n",
       "      <td>1.309955e+13</td>\n",
       "      <td>2.163770e-26</td>\n",
       "    </tr>\n",
       "    <tr>\n",
       "      <th>2</th>\n",
       "      <td>47727.342758</td>\n",
       "      <td>0</td>\n",
       "      <td>1.483323e-11</td>\n",
       "      <td>7.72</td>\n",
       "      <td>7.086297e-08</td>\n",
       "      <td>1.091832e+13</td>\n",
       "      <td>2.834381e-25</td>\n",
       "    </tr>\n",
       "    <tr>\n",
       "      <th>3</th>\n",
       "      <td>50385.862229</td>\n",
       "      <td>0</td>\n",
       "      <td>8.131112e-11</td>\n",
       "      <td>7.75</td>\n",
       "      <td>8.092665e-08</td>\n",
       "      <td>9.444720e+12</td>\n",
       "      <td>2.314138e-24</td>\n",
       "    </tr>\n",
       "  </tbody>\n",
       "</table>\n",
       "</div>"
      ],
      "text/plain": [
       "             N0  alpha         gamma  compz   temperature       density  \\\n",
       "0  44054.626861      0  8.128000e-13   1.90  4.904615e-08  1.750257e+13   \n",
       "1  48345.386870      0  1.588596e-12   7.40  6.330107e-08  1.309955e+13   \n",
       "2  47727.342758      0  1.483323e-11   7.72  7.086297e-08  1.091832e+13   \n",
       "3  50385.862229      0  8.131112e-11   7.75  8.092665e-08  9.444720e+12   \n",
       "\n",
       "           beta  \n",
       "0  5.149474e-27  \n",
       "1  2.163770e-26  \n",
       "2  2.834381e-25  \n",
       "3  2.314138e-24  "
      ]
     },
     "execution_count": 33,
     "metadata": {},
     "output_type": "execute_result"
    }
   ],
   "source": [
    "results"
   ]
  },
  {
   "cell_type": "markdown",
   "metadata": {},
   "source": [
    "### Density measurement based on in situ imaging"
   ]
  },
  {
   "cell_type": "markdown",
   "metadata": {},
   "source": [
    "Other way to calculate the volume, simply use the in situ imaging with the density being $N/V \\simeq N/(2a_x 2a_y 2a_z)^2) = \\frac{N}{8(7\\mu m 7.3\\mu m 18\\mu m)}$. Actually more precise calculation gives: $n = \\frac{N}{(2\\pi)^{3/2}\\sigma_x\\sigma_y\\sigma_z}e^{-\\frac{1}{2}(\\frac{x^2}{\\sigma_x^2}+\\frac{y^2}{\\sigma_y^2}+\\frac{z^2}{\\sigma_z^2})}$ and therefore $<n^2> = \\frac{1}{N}\\int n^3 d\\tau = \\frac{N^2}{3^{3/2}(2\\pi)^3(\\sigma_x\\sigma_y\\sigma_z)^2}$."
   ]
  },
  {
   "cell_type": "code",
   "execution_count": 34,
   "metadata": {},
   "outputs": [],
   "source": [
    "sigma_x = 7.1*10**(-4) # in cm\n",
    "sigma_y = 18*10**(-4) # in cm\n",
    "sigma_z = 7.3*10**(-4) # in cm\n",
    "\n",
    "sigma_x = 3.62*10**(-4) # in cm\n",
    "sigma_y = 9.57*10**(-4) # in cm\n",
    "sigma_z = 3.62*(6.1/5.2)*10**(-4) # in cm\n",
    "\n",
    "\n",
    "results['densityVolume'] = results['N0']/((2*np.pi)**(3/2)*sigma_x*sigma_y*sigma_z)  # in atoms / cm3\n",
    "results['betaVolume'] = results['gamma']*10**3/(results['densityVolume']/results['N0'])**2  # in atoms / cm3"
   ]
  },
  {
   "cell_type": "code",
   "execution_count": 35,
   "metadata": {},
   "outputs": [
    {
     "data": {
      "text/html": [
       "<div>\n",
       "<style scoped>\n",
       "    .dataframe tbody tr th:only-of-type {\n",
       "        vertical-align: middle;\n",
       "    }\n",
       "\n",
       "    .dataframe tbody tr th {\n",
       "        vertical-align: top;\n",
       "    }\n",
       "\n",
       "    .dataframe thead th {\n",
       "        text-align: right;\n",
       "    }\n",
       "</style>\n",
       "<table border=\"1\" class=\"dataframe\">\n",
       "  <thead>\n",
       "    <tr style=\"text-align: right;\">\n",
       "      <th></th>\n",
       "      <th>N0</th>\n",
       "      <th>alpha</th>\n",
       "      <th>gamma</th>\n",
       "      <th>compz</th>\n",
       "      <th>temperature</th>\n",
       "      <th>density</th>\n",
       "      <th>beta</th>\n",
       "      <th>densityVolume</th>\n",
       "      <th>betaVolume</th>\n",
       "    </tr>\n",
       "  </thead>\n",
       "  <tbody>\n",
       "    <tr>\n",
       "      <th>0</th>\n",
       "      <td>44054.626861</td>\n",
       "      <td>0</td>\n",
       "      <td>8.128000e-13</td>\n",
       "      <td>1.90</td>\n",
       "      <td>4.904615e-08</td>\n",
       "      <td>1.750257e+13</td>\n",
       "      <td>5.149474e-27</td>\n",
       "      <td>1.901368e+13</td>\n",
       "      <td>4.363495e-27</td>\n",
       "    </tr>\n",
       "    <tr>\n",
       "      <th>1</th>\n",
       "      <td>48345.386870</td>\n",
       "      <td>0</td>\n",
       "      <td>1.588596e-12</td>\n",
       "      <td>7.40</td>\n",
       "      <td>6.330107e-08</td>\n",
       "      <td>1.309955e+13</td>\n",
       "      <td>2.163770e-26</td>\n",
       "      <td>2.086554e+13</td>\n",
       "      <td>8.528336e-27</td>\n",
       "    </tr>\n",
       "    <tr>\n",
       "      <th>2</th>\n",
       "      <td>47727.342758</td>\n",
       "      <td>0</td>\n",
       "      <td>1.483323e-11</td>\n",
       "      <td>7.72</td>\n",
       "      <td>7.086297e-08</td>\n",
       "      <td>1.091832e+13</td>\n",
       "      <td>2.834381e-25</td>\n",
       "      <td>2.059880e+13</td>\n",
       "      <td>7.963179e-26</td>\n",
       "    </tr>\n",
       "    <tr>\n",
       "      <th>3</th>\n",
       "      <td>50385.862229</td>\n",
       "      <td>0</td>\n",
       "      <td>8.131112e-11</td>\n",
       "      <td>7.75</td>\n",
       "      <td>8.092665e-08</td>\n",
       "      <td>9.444720e+12</td>\n",
       "      <td>2.314138e-24</td>\n",
       "      <td>2.174620e+13</td>\n",
       "      <td>4.365165e-25</td>\n",
       "    </tr>\n",
       "  </tbody>\n",
       "</table>\n",
       "</div>"
      ],
      "text/plain": [
       "             N0  alpha         gamma  compz   temperature       density  \\\n",
       "0  44054.626861      0  8.128000e-13   1.90  4.904615e-08  1.750257e+13   \n",
       "1  48345.386870      0  1.588596e-12   7.40  6.330107e-08  1.309955e+13   \n",
       "2  47727.342758      0  1.483323e-11   7.72  7.086297e-08  1.091832e+13   \n",
       "3  50385.862229      0  8.131112e-11   7.75  8.092665e-08  9.444720e+12   \n",
       "\n",
       "           beta  densityVolume    betaVolume  \n",
       "0  5.149474e-27   1.901368e+13  4.363495e-27  \n",
       "1  2.163770e-26   2.086554e+13  8.528336e-27  \n",
       "2  2.834381e-25   2.059880e+13  7.963179e-26  \n",
       "3  2.314138e-24   2.174620e+13  4.365165e-25  "
      ]
     },
     "execution_count": 35,
     "metadata": {},
     "output_type": "execute_result"
    }
   ],
   "source": [
    "results\n",
    "# You should only trust the initial 1.9 measurement, the other cloud could have changed size\n",
    "# (although I checked with 7.72 and this one looks similar)"
   ]
  },
  {
   "cell_type": "markdown",
   "metadata": {},
   "source": [
    "### Check consistency of the 2 approaches"
   ]
  },
  {
   "cell_type": "code",
   "execution_count": 161,
   "metadata": {},
   "outputs": [
    {
     "name": "stdout",
     "output_type": "stream",
     "text": [
      "The measured sigma_x is 3.6 um and the calculated one is 3.6 um\n",
      "The measured sigma_y is 9.6 um and the calculated one is 8.9 um\n",
      "The measured sigma_z is 4.2 um and the calculated one is 5.0 um\n"
     ]
    }
   ],
   "source": [
    "T = results['temperature'][0]  # Take the temperature of the coldest orginial cloud at 1.9\n",
    "sigma_x_test = np.sqrt(k_B*T/(m*omega_x**2))\n",
    "sigma_y_test = np.sqrt(k_B*T/(m*omega_y**2))\n",
    "sigma_z_test = np.sqrt(k_B*T/(m*omega_z**2))\n",
    "\n",
    "print(\"The measured sigma_x is \" + str(round(sigma_x*10**4, 1)) + \" um and the calculated one is \" + str(round(sigma_x_test*10**6, 1)) + \" um\")\n",
    "print(\"The measured sigma_y is \" + str(round(sigma_y*10**4, 1)) + \" um and the calculated one is \" + str(round(sigma_y_test*10**6, 1)) + \" um\")\n",
    "print(\"The measured sigma_z is \" + str(round(sigma_z*10**4, 1)) + \" um and the calculated one is \" + str(round(sigma_z_test*10**6, 1)) + \" um\")"
   ]
  },
  {
   "cell_type": "markdown",
   "metadata": {},
   "source": [
    "### End"
   ]
  }
 ],
 "metadata": {
  "kernelspec": {
   "display_name": "Python 3",
   "language": "python",
   "name": "python3"
  },
  "language_info": {
   "codemirror_mode": {
    "name": "ipython",
    "version": 3
   },
   "file_extension": ".py",
   "mimetype": "text/x-python",
   "name": "python",
   "nbconvert_exporter": "python",
   "pygments_lexer": "ipython3",
   "version": "3.9.0"
  },
  "latex_envs": {
   "LaTeX_envs_menu_present": true,
   "autoclose": false,
   "autocomplete": true,
   "bibliofile": "biblio.bib",
   "cite_by": "apalike",
   "current_citInitial": 1,
   "eqLabelWithNumbers": true,
   "eqNumInitial": 1,
   "hotkeys": {
    "equation": "Ctrl-E",
    "itemize": "Ctrl-I"
   },
   "labels_anchors": false,
   "latex_user_defs": false,
   "report_style_numbering": false,
   "user_envs_cfg": false
  }
 },
 "nbformat": 4,
 "nbformat_minor": 4
}
