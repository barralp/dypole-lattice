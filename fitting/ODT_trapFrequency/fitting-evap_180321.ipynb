{
 "cells": [
  {
   "cell_type": "code",
   "execution_count": 2,
   "metadata": {},
   "outputs": [],
   "source": [
    "from databaseCommunication import getNCount, createDataFrame_images\n",
    "from dataframeFormating import createLabeledDataFrame, createLabeledDataFrame_images\n",
    "import pandas as pd\n",
    "import numpy as np\n",
    "import matplotlib.pyplot as plt\n",
    "from ODT_power import ODT_power"
   ]
  },
  {
   "cell_type": "code",
   "execution_count": 3,
   "metadata": {},
   "outputs": [],
   "source": [
    "# Number calibration\n",
    "manualLabelsValues = [\n",
    "    [[103319, 103326], ['sameAsExp']],\n",
    "    [[103310, 103317], ['realNumber']],\n",
    "                        ]\n",
    "manualLabels = ['calibration']\n",
    "variablesCicero = ['runID']\n",
    "variableAnalysis = ['nCount']\n",
    "#df_calibration = createLabeledDataFrame(variablesCicero, variableAnalysis, manualLabels, manualLabelsValues)\n",
    "#df_calibration.to_pickle('data_save_180321_calibration.pickle')\n",
    "df_calibration = pd.read_pickle('data_save_180321_calibration.pickle')\n",
    "expNumber = df_calibration[df_calibration['calibration'] == 'sameAsExp']['nCount'].mean()\n",
    "realNumber = df_calibration[df_calibration['calibration'] == 'realNumber']['nCount'].mean()\n",
    "calibrationRatio = realNumber/expNumber"
   ]
  },
  {
   "cell_type": "code",
   "execution_count": 4,
   "metadata": {},
   "outputs": [
    {
     "data": {
      "text/plain": [
       "0.23317873736977815"
      ]
     },
     "execution_count": 4,
     "metadata": {},
     "output_type": "execute_result"
    }
   ],
   "source": [
    "calibrationRatio"
   ]
  },
  {
   "cell_type": "code",
   "execution_count": 5,
   "metadata": {},
   "outputs": [],
   "source": [
    "manualLabelsValues = [\n",
    "    [[102887, 102962], ['noGradient', 0]],\n",
    "    [[102971, 103010], ['noGradient', 1800]],\n",
    "    [[103027, 103054], ['noGradient', 1800]],\n",
    "    [[103112, 103175], ['gradient', 0]],\n",
    "    [[103182, 103209], ['gradient', 2000]],\n",
    "    [[103212, 103225], ['gradient', 2000]],\n",
    "    [[103226, 103265], ['gradient', 2000]],\n",
    "    [[103056, 103065], ['noGradient', 1800]],\n",
    "    [[103066, 103075], ['noGradient', 1800]],\n",
    "    [[103079, 103088], ['noGradient', 1800]],\n",
    "    [[103267, 103296], ['gradient', 2000]]\n",
    "                        ]\n",
    "manualLabels = ['evapType', 'evapTimeBeforeTemp']\n",
    "variablesCicero = ['temp', 'TOF']\n",
    "variableAnalysis = ['nCount', 'xWidth', 'yWidth']"
   ]
  },
  {
   "cell_type": "code",
   "execution_count": 6,
   "metadata": {},
   "outputs": [],
   "source": [
    "excluded = [103156, 103170, 103137, 103162, 103132, 103129, 103154, 103155, 103153, 102949, 102948, 102943]"
   ]
  },
  {
   "cell_type": "code",
   "execution_count": 7,
   "metadata": {},
   "outputs": [],
   "source": [
    "#df = createLabeledDataFrame(variablesCicero, variableAnalysis, manualLabels, manualLabelsValues)\n",
    "#df['xWidth'] *= 3.45*10**(-6)\n",
    "#df['yWidth'] *= 3.45*10**(-6)\n",
    "#df.to_pickle('data_save_180321.pickle')"
   ]
  },
  {
   "cell_type": "code",
   "execution_count": 8,
   "metadata": {},
   "outputs": [
    {
     "data": {
      "text/html": [
       "<div>\n",
       "<style scoped>\n",
       "    .dataframe tbody tr th:only-of-type {\n",
       "        vertical-align: middle;\n",
       "    }\n",
       "\n",
       "    .dataframe tbody tr th {\n",
       "        vertical-align: top;\n",
       "    }\n",
       "\n",
       "    .dataframe thead th {\n",
       "        text-align: right;\n",
       "    }\n",
       "</style>\n",
       "<table border=\"1\" class=\"dataframe\">\n",
       "  <thead>\n",
       "    <tr style=\"text-align: right;\">\n",
       "      <th></th>\n",
       "      <th>imageID</th>\n",
       "      <th>evapType</th>\n",
       "      <th>evapTimeBeforeTemp</th>\n",
       "      <th>TOF</th>\n",
       "      <th>nCount</th>\n",
       "      <th>temp</th>\n",
       "      <th>xWidth</th>\n",
       "      <th>yWidth</th>\n",
       "      <th>PSD</th>\n",
       "      <th>totalEvapTime</th>\n",
       "    </tr>\n",
       "  </thead>\n",
       "  <tbody>\n",
       "    <tr>\n",
       "      <th>0</th>\n",
       "      <td>102887</td>\n",
       "      <td>noGradient</td>\n",
       "      <td>0.0</td>\n",
       "      <td>3.0</td>\n",
       "      <td>3.046177e+06</td>\n",
       "      <td>400.0</td>\n",
       "      <td>97.9591</td>\n",
       "      <td>61.3349</td>\n",
       "      <td>0.041710</td>\n",
       "      <td>400.0</td>\n",
       "    </tr>\n",
       "    <tr>\n",
       "      <th>1</th>\n",
       "      <td>102888</td>\n",
       "      <td>noGradient</td>\n",
       "      <td>0.0</td>\n",
       "      <td>3.0</td>\n",
       "      <td>3.383190e+06</td>\n",
       "      <td>250.0</td>\n",
       "      <td>77.0254</td>\n",
       "      <td>62.4247</td>\n",
       "      <td>0.041679</td>\n",
       "      <td>250.0</td>\n",
       "    </tr>\n",
       "    <tr>\n",
       "      <th>2</th>\n",
       "      <td>102889</td>\n",
       "      <td>noGradient</td>\n",
       "      <td>0.0</td>\n",
       "      <td>5.0</td>\n",
       "      <td>4.130295e+06</td>\n",
       "      <td>100.0</td>\n",
       "      <td>158.9130</td>\n",
       "      <td>113.1840</td>\n",
       "      <td>0.030697</td>\n",
       "      <td>100.0</td>\n",
       "    </tr>\n",
       "    <tr>\n",
       "      <th>3</th>\n",
       "      <td>102890</td>\n",
       "      <td>noGradient</td>\n",
       "      <td>0.0</td>\n",
       "      <td>3.0</td>\n",
       "      <td>3.481941e+06</td>\n",
       "      <td>200.0</td>\n",
       "      <td>82.5630</td>\n",
       "      <td>64.2902</td>\n",
       "      <td>0.035948</td>\n",
       "      <td>200.0</td>\n",
       "    </tr>\n",
       "    <tr>\n",
       "      <th>4</th>\n",
       "      <td>102891</td>\n",
       "      <td>noGradient</td>\n",
       "      <td>0.0</td>\n",
       "      <td>3.0</td>\n",
       "      <td>2.615613e+06</td>\n",
       "      <td>600.0</td>\n",
       "      <td>94.8450</td>\n",
       "      <td>59.1956</td>\n",
       "      <td>0.044316</td>\n",
       "      <td>600.0</td>\n",
       "    </tr>\n",
       "    <tr>\n",
       "      <th>...</th>\n",
       "      <td>...</td>\n",
       "      <td>...</td>\n",
       "      <td>...</td>\n",
       "      <td>...</td>\n",
       "      <td>...</td>\n",
       "      <td>...</td>\n",
       "      <td>...</td>\n",
       "      <td>...</td>\n",
       "      <td>...</td>\n",
       "      <td>...</td>\n",
       "    </tr>\n",
       "    <tr>\n",
       "      <th>345</th>\n",
       "      <td>103292</td>\n",
       "      <td>gradient</td>\n",
       "      <td>2000.0</td>\n",
       "      <td>10.0</td>\n",
       "      <td>2.509703e+03</td>\n",
       "      <td>3600.0</td>\n",
       "      <td>16.9779</td>\n",
       "      <td>24.5539</td>\n",
       "      <td>11.452476</td>\n",
       "      <td>5600.0</td>\n",
       "    </tr>\n",
       "    <tr>\n",
       "      <th>346</th>\n",
       "      <td>103293</td>\n",
       "      <td>gradient</td>\n",
       "      <td>2000.0</td>\n",
       "      <td>10.0</td>\n",
       "      <td>6.788113e+04</td>\n",
       "      <td>3600.0</td>\n",
       "      <td>24.3201</td>\n",
       "      <td>28.3016</td>\n",
       "      <td>132.094010</td>\n",
       "      <td>5600.0</td>\n",
       "    </tr>\n",
       "    <tr>\n",
       "      <th>347</th>\n",
       "      <td>103294</td>\n",
       "      <td>gradient</td>\n",
       "      <td>2000.0</td>\n",
       "      <td>10.0</td>\n",
       "      <td>7.416483e+04</td>\n",
       "      <td>3600.0</td>\n",
       "      <td>24.6940</td>\n",
       "      <td>27.2422</td>\n",
       "      <td>181.444972</td>\n",
       "      <td>5600.0</td>\n",
       "    </tr>\n",
       "    <tr>\n",
       "      <th>348</th>\n",
       "      <td>103295</td>\n",
       "      <td>gradient</td>\n",
       "      <td>2000.0</td>\n",
       "      <td>10.0</td>\n",
       "      <td>6.965795e+04</td>\n",
       "      <td>3600.0</td>\n",
       "      <td>25.8941</td>\n",
       "      <td>28.6276</td>\n",
       "      <td>126.549680</td>\n",
       "      <td>5600.0</td>\n",
       "    </tr>\n",
       "    <tr>\n",
       "      <th>349</th>\n",
       "      <td>103296</td>\n",
       "      <td>gradient</td>\n",
       "      <td>2000.0</td>\n",
       "      <td>10.0</td>\n",
       "      <td>7.004992e+04</td>\n",
       "      <td>3600.0</td>\n",
       "      <td>26.2242</td>\n",
       "      <td>28.3661</td>\n",
       "      <td>134.465197</td>\n",
       "      <td>5600.0</td>\n",
       "    </tr>\n",
       "  </tbody>\n",
       "</table>\n",
       "<p>338 rows × 10 columns</p>\n",
       "</div>"
      ],
      "text/plain": [
       "     imageID    evapType  evapTimeBeforeTemp   TOF        nCount    temp  \\\n",
       "0     102887  noGradient                 0.0   3.0  3.046177e+06   400.0   \n",
       "1     102888  noGradient                 0.0   3.0  3.383190e+06   250.0   \n",
       "2     102889  noGradient                 0.0   5.0  4.130295e+06   100.0   \n",
       "3     102890  noGradient                 0.0   3.0  3.481941e+06   200.0   \n",
       "4     102891  noGradient                 0.0   3.0  2.615613e+06   600.0   \n",
       "..       ...         ...                 ...   ...           ...     ...   \n",
       "345   103292    gradient              2000.0  10.0  2.509703e+03  3600.0   \n",
       "346   103293    gradient              2000.0  10.0  6.788113e+04  3600.0   \n",
       "347   103294    gradient              2000.0  10.0  7.416483e+04  3600.0   \n",
       "348   103295    gradient              2000.0  10.0  6.965795e+04  3600.0   \n",
       "349   103296    gradient              2000.0  10.0  7.004992e+04  3600.0   \n",
       "\n",
       "       xWidth    yWidth         PSD  totalEvapTime  \n",
       "0     97.9591   61.3349    0.041710          400.0  \n",
       "1     77.0254   62.4247    0.041679          250.0  \n",
       "2    158.9130  113.1840    0.030697          100.0  \n",
       "3     82.5630   64.2902    0.035948          200.0  \n",
       "4     94.8450   59.1956    0.044316          600.0  \n",
       "..        ...       ...         ...            ...  \n",
       "345   16.9779   24.5539   11.452476         5600.0  \n",
       "346   24.3201   28.3016  132.094010         5600.0  \n",
       "347   24.6940   27.2422  181.444972         5600.0  \n",
       "348   25.8941   28.6276  126.549680         5600.0  \n",
       "349   26.2242   28.3661  134.465197         5600.0  \n",
       "\n",
       "[338 rows x 10 columns]"
      ]
     },
     "execution_count": 8,
     "metadata": {},
     "output_type": "execute_result"
    }
   ],
   "source": [
    "df = pd.read_pickle('data_save_180321.pickle')\n",
    "df['evapTimeBeforeTemp'] = df['evapTimeBeforeTemp'].astype(float)\n",
    "df['imageID'] = df['imageID'].astype(int)\n",
    "df['temp'] = df['temp'].astype(float)\n",
    "df['xWidth'] = df['xWidth'].astype(float)\n",
    "df['yWidth'] = df['yWidth'].astype(float)\n",
    "df['TOF'] = df['TOF'].astype(float)\n",
    "df['nCount'] *= calibrationRatio\n",
    "df['PSD'] = df['nCount']/((df['yWidth']/df['TOF'])**6)\n",
    "df['totalEvapTime'] = df['evapTimeBeforeTemp'] + df['temp']\n",
    "# Delete these row indexes from dataFrame\n",
    "indexNames = pd.Index(np.where(df['imageID'].isin(excluded))[0])\n",
    "df.drop(indexNames, inplace = True)\n",
    "df"
   ]
  },
  {
   "cell_type": "code",
   "execution_count": 9,
   "metadata": {},
   "outputs": [
    {
     "data": {
      "image/png": "[encoded data removed]",
      "text/plain": [
       "<Figure size 432x288 with 1 Axes>"
      ]
     },
     "metadata": {
      "needs_background": "light"
     },
     "output_type": "display_data"
    }
   ],
   "source": [
    "plt.figure()\n",
    "plt.plot(df['totalEvapTime'], df['nCount'], '+', color = 'blue', label = 'All')\n",
    "plt.legend()\n",
    "plt.show()"
   ]
  },
  {
   "cell_type": "code",
   "execution_count": 10,
   "metadata": {},
   "outputs": [],
   "source": [
    "df_noGradient = df[df['imageID'] <= 103054]\n",
    "df_Gradient = df[(103112 <= df['imageID']) & (103265 >= df['imageID'])]"
   ]
  },
  {
   "cell_type": "code",
   "execution_count": 11,
   "metadata": {},
   "outputs": [
    {
     "data": {
      "image/png": "[encoded data removed]",
      "text/plain": [
       "<Figure size 432x288 with 1 Axes>"
      ]
     },
     "metadata": {
      "needs_background": "light"
     },
     "output_type": "display_data"
    }
   ],
   "source": [
    "plt.figure()\n",
    "plt.semilogy(df_noGradient['totalEvapTime'], df_noGradient['nCount'], '+', color = 'blue', label = 'All')\n",
    "plt.semilogy(df_Gradient['totalEvapTime'], df_Gradient['nCount'], '*', color = 'red', label = 'All')\n",
    "plt.legend()\n",
    "plt.show()"
   ]
  },
  {
   "cell_type": "code",
   "execution_count": 12,
   "metadata": {},
   "outputs": [
    {
     "data": {
      "image/png": "[encoded data removed]",
      "text/plain": [
       "<Figure size 432x288 with 1 Axes>"
      ]
     },
     "metadata": {
      "needs_background": "light"
     },
     "output_type": "display_data"
    }
   ],
   "source": [
    "plt.figure()\n",
    "plt.semilogy(df_noGradient['totalEvapTime'], df_noGradient['PSD'], '+', color = 'blue', label = 'All')\n",
    "plt.semilogy(df_Gradient['totalEvapTime'], df_Gradient['PSD'], '*', color = 'red', label = 'All')\n",
    "plt.legend()\n",
    "plt.show()"
   ]
  },
  {
   "cell_type": "code",
   "execution_count": 13,
   "metadata": {},
   "outputs": [
    {
     "data": {
      "image/png": "[encoded data removed]",
      "text/plain": [
       "<Figure size 432x288 with 1 Axes>"
      ]
     },
     "metadata": {
      "needs_background": "light"
     },
     "output_type": "display_data"
    }
   ],
   "source": [
    "t = np.linspace(0, 10, 10000)\n",
    "plt.figure()\n",
    "plt.plot(t, ODT_power(1, t))\n",
    "plt.plot(t, ODT_power(2, t))\n",
    "plt.plot(t, ODT_power(3, t))\n",
    "#plt.plot(t, ODT_power(1, t, with_gradient = True), '--')\n",
    "#plt.plot(t, ODT_power(2, t, with_gradient = True), '--')\n",
    "#plt.plot(t, ODT_power(3, t, with_gradient = True), '--')\n",
    "plt.show()"
   ]
  },
  {
   "cell_type": "code",
   "execution_count": 14,
   "metadata": {},
   "outputs": [
    {
     "name": "stderr",
     "output_type": "stream",
     "text": [
      "/usr/local/lib/python3.9/site-packages/pandas/core/computation/expressions.py:204: UserWarning: evaluating in Python space because the '*' operator is not supported by numexpr for the bool dtype, use '&' instead\n",
      "  warnings.warn(\n"
     ]
    },
    {
     "data": {
      "image/png": "[encoded data removed]",
      "text/plain": [
       "<Figure size 432x288 with 1 Axes>"
      ]
     },
     "metadata": {
      "needs_background": "light"
     },
     "output_type": "display_data"
    }
   ],
   "source": [
    "plt.figure()\n",
    "plt.semilogy(ODT_power(1, df_noGradient['totalEvapTime']/1000), df_noGradient['nCount'], '+', color = 'blue', label = 'All')\n",
    "plt.legend()\n",
    "plt.show()"
   ]
  },
  {
   "cell_type": "code",
   "execution_count": 15,
   "metadata": {},
   "outputs": [
    {
     "name": "stderr",
     "output_type": "stream",
     "text": [
      "/usr/local/lib/python3.9/site-packages/pandas/core/computation/expressions.py:204: UserWarning: evaluating in Python space because the '*' operator is not supported by numexpr for the bool dtype, use '&' instead\n",
      "  warnings.warn(\n"
     ]
    },
    {
     "data": {
      "text/plain": [
       "0      6.748121\n",
       "1      7.520935\n",
       "2      8.418818\n",
       "3      7.805396\n",
       "4      5.882498\n",
       "         ...   \n",
       "139    0.500028\n",
       "140    0.500028\n",
       "141    0.617848\n",
       "142    0.466860\n",
       "143    0.617848\n",
       "Name: totalEvapTime, Length: 141, dtype: float64"
      ]
     },
     "execution_count": 15,
     "metadata": {},
     "output_type": "execute_result"
    }
   ],
   "source": [
    "ODT_power(1, df_noGradient['totalEvapTime']/1000)"
   ]
  },
  {
   "cell_type": "code",
   "execution_count": 16,
   "metadata": {},
   "outputs": [
    {
     "data": {
      "text/plain": [
       "0         0.041710\n",
       "1         0.041679\n",
       "2         0.030697\n",
       "3         0.035948\n",
       "4         0.044316\n",
       "          ...     \n",
       "139     580.727395\n",
       "140     455.282524\n",
       "141      68.735527\n",
       "142    1738.241308\n",
       "143      70.527946\n",
       "Name: PSD, Length: 141, dtype: float64"
      ]
     },
     "execution_count": 16,
     "metadata": {},
     "output_type": "execute_result"
    }
   ],
   "source": [
    "df_noGradient['PSD']"
   ]
  },
  {
   "cell_type": "code",
   "execution_count": 17,
   "metadata": {},
   "outputs": [
    {
     "data": {
      "text/html": [
       "<div>\n",
       "<style scoped>\n",
       "    .dataframe tbody tr th:only-of-type {\n",
       "        vertical-align: middle;\n",
       "    }\n",
       "\n",
       "    .dataframe tbody tr th {\n",
       "        vertical-align: top;\n",
       "    }\n",
       "\n",
       "    .dataframe thead th {\n",
       "        text-align: right;\n",
       "    }\n",
       "</style>\n",
       "<table border=\"1\" class=\"dataframe\">\n",
       "  <thead>\n",
       "    <tr style=\"text-align: right;\">\n",
       "      <th></th>\n",
       "      <th>imageID</th>\n",
       "      <th>evapType</th>\n",
       "      <th>evapTimeBeforeTemp</th>\n",
       "      <th>TOF</th>\n",
       "      <th>nCount</th>\n",
       "      <th>temp</th>\n",
       "      <th>xWidth</th>\n",
       "      <th>yWidth</th>\n",
       "      <th>PSD</th>\n",
       "      <th>totalEvapTime</th>\n",
       "    </tr>\n",
       "  </thead>\n",
       "  <tbody>\n",
       "    <tr>\n",
       "      <th>0</th>\n",
       "      <td>102887</td>\n",
       "      <td>noGradient</td>\n",
       "      <td>0.0</td>\n",
       "      <td>3.0</td>\n",
       "      <td>3.046177e+06</td>\n",
       "      <td>400.0</td>\n",
       "      <td>97.9591</td>\n",
       "      <td>61.3349</td>\n",
       "      <td>0.041710</td>\n",
       "      <td>400.0</td>\n",
       "    </tr>\n",
       "    <tr>\n",
       "      <th>1</th>\n",
       "      <td>102888</td>\n",
       "      <td>noGradient</td>\n",
       "      <td>0.0</td>\n",
       "      <td>3.0</td>\n",
       "      <td>3.383190e+06</td>\n",
       "      <td>250.0</td>\n",
       "      <td>77.0254</td>\n",
       "      <td>62.4247</td>\n",
       "      <td>0.041679</td>\n",
       "      <td>250.0</td>\n",
       "    </tr>\n",
       "    <tr>\n",
       "      <th>2</th>\n",
       "      <td>102889</td>\n",
       "      <td>noGradient</td>\n",
       "      <td>0.0</td>\n",
       "      <td>5.0</td>\n",
       "      <td>4.130295e+06</td>\n",
       "      <td>100.0</td>\n",
       "      <td>158.9130</td>\n",
       "      <td>113.1840</td>\n",
       "      <td>0.030697</td>\n",
       "      <td>100.0</td>\n",
       "    </tr>\n",
       "    <tr>\n",
       "      <th>3</th>\n",
       "      <td>102890</td>\n",
       "      <td>noGradient</td>\n",
       "      <td>0.0</td>\n",
       "      <td>3.0</td>\n",
       "      <td>3.481941e+06</td>\n",
       "      <td>200.0</td>\n",
       "      <td>82.5630</td>\n",
       "      <td>64.2902</td>\n",
       "      <td>0.035948</td>\n",
       "      <td>200.0</td>\n",
       "    </tr>\n",
       "    <tr>\n",
       "      <th>4</th>\n",
       "      <td>102891</td>\n",
       "      <td>noGradient</td>\n",
       "      <td>0.0</td>\n",
       "      <td>3.0</td>\n",
       "      <td>2.615613e+06</td>\n",
       "      <td>600.0</td>\n",
       "      <td>94.8450</td>\n",
       "      <td>59.1956</td>\n",
       "      <td>0.044316</td>\n",
       "      <td>600.0</td>\n",
       "    </tr>\n",
       "    <tr>\n",
       "      <th>...</th>\n",
       "      <td>...</td>\n",
       "      <td>...</td>\n",
       "      <td>...</td>\n",
       "      <td>...</td>\n",
       "      <td>...</td>\n",
       "      <td>...</td>\n",
       "      <td>...</td>\n",
       "      <td>...</td>\n",
       "      <td>...</td>\n",
       "      <td>...</td>\n",
       "    </tr>\n",
       "    <tr>\n",
       "      <th>345</th>\n",
       "      <td>103292</td>\n",
       "      <td>gradient</td>\n",
       "      <td>2000.0</td>\n",
       "      <td>10.0</td>\n",
       "      <td>2.509703e+03</td>\n",
       "      <td>3600.0</td>\n",
       "      <td>16.9779</td>\n",
       "      <td>24.5539</td>\n",
       "      <td>11.452476</td>\n",
       "      <td>5600.0</td>\n",
       "    </tr>\n",
       "    <tr>\n",
       "      <th>346</th>\n",
       "      <td>103293</td>\n",
       "      <td>gradient</td>\n",
       "      <td>2000.0</td>\n",
       "      <td>10.0</td>\n",
       "      <td>6.788113e+04</td>\n",
       "      <td>3600.0</td>\n",
       "      <td>24.3201</td>\n",
       "      <td>28.3016</td>\n",
       "      <td>132.094010</td>\n",
       "      <td>5600.0</td>\n",
       "    </tr>\n",
       "    <tr>\n",
       "      <th>347</th>\n",
       "      <td>103294</td>\n",
       "      <td>gradient</td>\n",
       "      <td>2000.0</td>\n",
       "      <td>10.0</td>\n",
       "      <td>7.416483e+04</td>\n",
       "      <td>3600.0</td>\n",
       "      <td>24.6940</td>\n",
       "      <td>27.2422</td>\n",
       "      <td>181.444972</td>\n",
       "      <td>5600.0</td>\n",
       "    </tr>\n",
       "    <tr>\n",
       "      <th>348</th>\n",
       "      <td>103295</td>\n",
       "      <td>gradient</td>\n",
       "      <td>2000.0</td>\n",
       "      <td>10.0</td>\n",
       "      <td>6.965795e+04</td>\n",
       "      <td>3600.0</td>\n",
       "      <td>25.8941</td>\n",
       "      <td>28.6276</td>\n",
       "      <td>126.549680</td>\n",
       "      <td>5600.0</td>\n",
       "    </tr>\n",
       "    <tr>\n",
       "      <th>349</th>\n",
       "      <td>103296</td>\n",
       "      <td>gradient</td>\n",
       "      <td>2000.0</td>\n",
       "      <td>10.0</td>\n",
       "      <td>7.004992e+04</td>\n",
       "      <td>3600.0</td>\n",
       "      <td>26.2242</td>\n",
       "      <td>28.3661</td>\n",
       "      <td>134.465197</td>\n",
       "      <td>5600.0</td>\n",
       "    </tr>\n",
       "  </tbody>\n",
       "</table>\n",
       "<p>338 rows × 10 columns</p>\n",
       "</div>"
      ],
      "text/plain": [
       "     imageID    evapType  evapTimeBeforeTemp   TOF        nCount    temp  \\\n",
       "0     102887  noGradient                 0.0   3.0  3.046177e+06   400.0   \n",
       "1     102888  noGradient                 0.0   3.0  3.383190e+06   250.0   \n",
       "2     102889  noGradient                 0.0   5.0  4.130295e+06   100.0   \n",
       "3     102890  noGradient                 0.0   3.0  3.481941e+06   200.0   \n",
       "4     102891  noGradient                 0.0   3.0  2.615613e+06   600.0   \n",
       "..       ...         ...                 ...   ...           ...     ...   \n",
       "345   103292    gradient              2000.0  10.0  2.509703e+03  3600.0   \n",
       "346   103293    gradient              2000.0  10.0  6.788113e+04  3600.0   \n",
       "347   103294    gradient              2000.0  10.0  7.416483e+04  3600.0   \n",
       "348   103295    gradient              2000.0  10.0  6.965795e+04  3600.0   \n",
       "349   103296    gradient              2000.0  10.0  7.004992e+04  3600.0   \n",
       "\n",
       "       xWidth    yWidth         PSD  totalEvapTime  \n",
       "0     97.9591   61.3349    0.041710          400.0  \n",
       "1     77.0254   62.4247    0.041679          250.0  \n",
       "2    158.9130  113.1840    0.030697          100.0  \n",
       "3     82.5630   64.2902    0.035948          200.0  \n",
       "4     94.8450   59.1956    0.044316          600.0  \n",
       "..        ...       ...         ...            ...  \n",
       "345   16.9779   24.5539   11.452476         5600.0  \n",
       "346   24.3201   28.3016  132.094010         5600.0  \n",
       "347   24.6940   27.2422  181.444972         5600.0  \n",
       "348   25.8941   28.6276  126.549680         5600.0  \n",
       "349   26.2242   28.3661  134.465197         5600.0  \n",
       "\n",
       "[338 rows x 10 columns]"
      ]
     },
     "execution_count": 17,
     "metadata": {},
     "output_type": "execute_result"
    }
   ],
   "source": [
    "df"
   ]
  },
  {
   "cell_type": "code",
   "execution_count": 18,
   "metadata": {},
   "outputs": [],
   "source": [
    "def computeTemperature(df1):\n",
    "    df = df1.copy()\n",
    "    df[\"Temperature\"] = np.nan\n",
    "    for evapType in [\"gradient\", \"noGradient\"]:\n",
    "        df_current1 = df[df[\"evapType\"] == evapType]\n",
    "        print(df_current1)\n",
    "        for totalEvapTime in np.sort(df_current1[\"totalEvapTime\"].unique()):\n",
    "            print(evapType, totalEvapTime)\n",
    "            df_current = df_current1[df_current1[\"totalEvapTime\"] == totalEvapTime]\n",
    "            #print(df_current)\n",
    "            TOF_list = np.sort(df_current[\"TOF\"].unique())\n",
    "            #print(TOF_list)\n",
    "            #print(df_current[df_current[\"TOF\"] == TOF_list[0]][\"yWidth\"])\n",
    "            yWidth1 = df_current[df_current[\"TOF\"] == TOF_list[0]][\"yWidth\"].mean()\n",
    "            yWidth2 = df_current[df_current[\"TOF\"] == TOF_list[1]][\"yWidth\"].mean()\n",
    "            temperature = (yWidth2 - yWidth1)/(TOF_list[1] - TOF_list[0])\n",
    "            for i, row in df_current.iterrows():\n",
    "                print(i, temperature)\n",
    "                df[\"Temperature\"].iloc[i] = temperature\n",
    "    return df"
   ]
  },
  {
   "cell_type": "code",
   "execution_count": 19,
   "metadata": {},
   "outputs": [
    {
     "name": "stdout",
     "output_type": "stream",
     "text": [
      "[ 100.  150.  200.  250.  300.  400.  500.  600.  800. 1000. 1200. 1400.\n",
      " 1600. 1800. 2000. 2500. 3000. 3500. 4000. 4500. 5000. 5200. 5400. 5600.\n",
      " 5800. 6000. 6100. 6200. 6300. 6400. 6500.]\n"
     ]
    }
   ],
   "source": [
    "df_current1 = df[df[\"evapType\"] == \"gradient\"]\n",
    "df_current2 = df_current1[df_current1[\"totalEvapTime\"] == 100]\n",
    "TOF_list = df_current2[\"TOF\"].unique()\n",
    "#df_current2\n",
    "df_current2[df_current2[\"TOF\"] == TOF_list[0]]#[\"yWidth\"].mean()\n",
    "print(np.sort(df_current1[\"totalEvapTime\"].unique()))"
   ]
  },
  {
   "cell_type": "code",
   "execution_count": 20,
   "metadata": {},
   "outputs": [
    {
     "name": "stderr",
     "output_type": "stream",
     "text": [
      "/usr/local/lib/python3.9/site-packages/pandas/core/indexing.py:1636: SettingWithCopyWarning: \n",
      "A value is trying to be set on a copy of a slice from a DataFrame\n",
      "\n",
      "See the caveats in the documentation: https://pandas.pydata.org/pandas-docs/stable/user_guide/indexing.html#returning-a-view-versus-a-copy\n",
      "  self._setitem_single_block(indexer, value, name)\n",
      "/usr/local/lib/python3.9/site-packages/pandas/core/indexing.py:1636: SettingWithCopyWarning: \n",
      "A value is trying to be set on a copy of a slice from a DataFrame\n",
      "\n",
      "See the caveats in the documentation: https://pandas.pydata.org/pandas-docs/stable/user_guide/indexing.html#returning-a-view-versus-a-copy\n",
      "  self._setitem_single_block(indexer, value, name)\n",
      "/usr/local/lib/python3.9/site-packages/pandas/core/indexing.py:1636: SettingWithCopyWarning: \n",
      "A value is trying to be set on a copy of a slice from a DataFrame\n",
      "\n",
      "See the caveats in the documentation: https://pandas.pydata.org/pandas-docs/stable/user_guide/indexing.html#returning-a-view-versus-a-copy\n",
      "  self._setitem_single_block(indexer, value, name)\n",
      "/usr/local/lib/python3.9/site-packages/pandas/core/indexing.py:1636: SettingWithCopyWarning: \n",
      "A value is trying to be set on a copy of a slice from a DataFrame\n",
      "\n",
      "See the caveats in the documentation: https://pandas.pydata.org/pandas-docs/stable/user_guide/indexing.html#returning-a-view-versus-a-copy\n",
      "  self._setitem_single_block(indexer, value, name)\n",
      "/usr/local/lib/python3.9/site-packages/pandas/core/indexing.py:1636: SettingWithCopyWarning: \n",
      "A value is trying to be set on a copy of a slice from a DataFrame\n",
      "\n",
      "See the caveats in the documentation: https://pandas.pydata.org/pandas-docs/stable/user_guide/indexing.html#returning-a-view-versus-a-copy\n",
      "  self._setitem_single_block(indexer, value, name)\n",
      "/usr/local/lib/python3.9/site-packages/pandas/core/indexing.py:1636: SettingWithCopyWarning: \n",
      "A value is trying to be set on a copy of a slice from a DataFrame\n",
      "\n",
      "See the caveats in the documentation: https://pandas.pydata.org/pandas-docs/stable/user_guide/indexing.html#returning-a-view-versus-a-copy\n",
      "  self._setitem_single_block(indexer, value, name)\n",
      "/usr/local/lib/python3.9/site-packages/pandas/core/indexing.py:1636: SettingWithCopyWarning: \n",
      "A value is trying to be set on a copy of a slice from a DataFrame\n",
      "\n",
      "See the caveats in the documentation: https://pandas.pydata.org/pandas-docs/stable/user_guide/indexing.html#returning-a-view-versus-a-copy\n",
      "  self._setitem_single_block(indexer, value, name)\n",
      "/usr/local/lib/python3.9/site-packages/pandas/core/indexing.py:1636: SettingWithCopyWarning: \n",
      "A value is trying to be set on a copy of a slice from a DataFrame\n",
      "\n",
      "See the caveats in the documentation: https://pandas.pydata.org/pandas-docs/stable/user_guide/indexing.html#returning-a-view-versus-a-copy\n",
      "  self._setitem_single_block(indexer, value, name)\n",
      "/usr/local/lib/python3.9/site-packages/pandas/core/indexing.py:1636: SettingWithCopyWarning: \n",
      "A value is trying to be set on a copy of a slice from a DataFrame\n",
      "\n",
      "See the caveats in the documentation: https://pandas.pydata.org/pandas-docs/stable/user_guide/indexing.html#returning-a-view-versus-a-copy\n",
      "  self._setitem_single_block(indexer, value, name)\n",
      "/usr/local/lib/python3.9/site-packages/pandas/core/indexing.py:1636: SettingWithCopyWarning: \n",
      "A value is trying to be set on a copy of a slice from a DataFrame\n",
      "\n",
      "See the caveats in the documentation: https://pandas.pydata.org/pandas-docs/stable/user_guide/indexing.html#returning-a-view-versus-a-copy\n",
      "  self._setitem_single_block(indexer, value, name)\n",
      "/usr/local/lib/python3.9/site-packages/pandas/core/indexing.py:1636: SettingWithCopyWarning: \n",
      "A value is trying to be set on a copy of a slice from a DataFrame\n",
      "\n",
      "See the caveats in the documentation: https://pandas.pydata.org/pandas-docs/stable/user_guide/indexing.html#returning-a-view-versus-a-copy\n",
      "  self._setitem_single_block(indexer, value, name)\n",
      "/usr/local/lib/python3.9/site-packages/pandas/core/indexing.py:1636: SettingWithCopyWarning: \n",
      "A value is trying to be set on a copy of a slice from a DataFrame\n",
      "\n",
      "See the caveats in the documentation: https://pandas.pydata.org/pandas-docs/stable/user_guide/indexing.html#returning-a-view-versus-a-copy\n",
      "  self._setitem_single_block(indexer, value, name)\n",
      "/usr/local/lib/python3.9/site-packages/pandas/core/indexing.py:1636: SettingWithCopyWarning: \n",
      "A value is trying to be set on a copy of a slice from a DataFrame\n",
      "\n",
      "See the caveats in the documentation: https://pandas.pydata.org/pandas-docs/stable/user_guide/indexing.html#returning-a-view-versus-a-copy\n",
      "  self._setitem_single_block(indexer, value, name)\n",
      "/usr/local/lib/python3.9/site-packages/pandas/core/indexing.py:1636: SettingWithCopyWarning: \n",
      "A value is trying to be set on a copy of a slice from a DataFrame\n",
      "\n",
      "See the caveats in the documentation: https://pandas.pydata.org/pandas-docs/stable/user_guide/indexing.html#returning-a-view-versus-a-copy\n",
      "  self._setitem_single_block(indexer, value, name)\n",
      "/usr/local/lib/python3.9/site-packages/pandas/core/indexing.py:1636: SettingWithCopyWarning: \n",
      "A value is trying to be set on a copy of a slice from a DataFrame\n",
      "\n",
      "See the caveats in the documentation: https://pandas.pydata.org/pandas-docs/stable/user_guide/indexing.html#returning-a-view-versus-a-copy\n",
      "  self._setitem_single_block(indexer, value, name)\n",
      "/usr/local/lib/python3.9/site-packages/pandas/core/indexing.py:1636: SettingWithCopyWarning: \n",
      "A value is trying to be set on a copy of a slice from a DataFrame\n",
      "\n",
      "See the caveats in the documentation: https://pandas.pydata.org/pandas-docs/stable/user_guide/indexing.html#returning-a-view-versus-a-copy\n",
      "  self._setitem_single_block(indexer, value, name)\n",
      "/usr/local/lib/python3.9/site-packages/pandas/core/indexing.py:1636: SettingWithCopyWarning: \n",
      "A value is trying to be set on a copy of a slice from a DataFrame\n",
      "\n",
      "See the caveats in the documentation: https://pandas.pydata.org/pandas-docs/stable/user_guide/indexing.html#returning-a-view-versus-a-copy\n",
      "  self._setitem_single_block(indexer, value, name)\n",
      "/usr/local/lib/python3.9/site-packages/pandas/core/indexing.py:1636: SettingWithCopyWarning: \n",
      "A value is trying to be set on a copy of a slice from a DataFrame\n",
      "\n",
      "See the caveats in the documentation: https://pandas.pydata.org/pandas-docs/stable/user_guide/indexing.html#returning-a-view-versus-a-copy\n",
      "  self._setitem_single_block(indexer, value, name)\n",
      "/usr/local/lib/python3.9/site-packages/pandas/core/indexing.py:1636: SettingWithCopyWarning: \n",
      "A value is trying to be set on a copy of a slice from a DataFrame\n",
      "\n",
      "See the caveats in the documentation: https://pandas.pydata.org/pandas-docs/stable/user_guide/indexing.html#returning-a-view-versus-a-copy\n",
      "  self._setitem_single_block(indexer, value, name)\n",
      "/usr/local/lib/python3.9/site-packages/pandas/core/indexing.py:1636: SettingWithCopyWarning: \n",
      "A value is trying to be set on a copy of a slice from a DataFrame\n",
      "\n",
      "See the caveats in the documentation: https://pandas.pydata.org/pandas-docs/stable/user_guide/indexing.html#returning-a-view-versus-a-copy\n",
      "  self._setitem_single_block(indexer, value, name)\n",
      "/usr/local/lib/python3.9/site-packages/pandas/core/indexing.py:1636: SettingWithCopyWarning: \n",
      "A value is trying to be set on a copy of a slice from a DataFrame\n",
      "\n",
      "See the caveats in the documentation: https://pandas.pydata.org/pandas-docs/stable/user_guide/indexing.html#returning-a-view-versus-a-copy\n",
      "  self._setitem_single_block(indexer, value, name)\n",
      "/usr/local/lib/python3.9/site-packages/pandas/core/indexing.py:1636: SettingWithCopyWarning: \n",
      "A value is trying to be set on a copy of a slice from a DataFrame\n",
      "\n",
      "See the caveats in the documentation: https://pandas.pydata.org/pandas-docs/stable/user_guide/indexing.html#returning-a-view-versus-a-copy\n",
      "  self._setitem_single_block(indexer, value, name)\n"
     ]
    },
    {
     "name": "stdout",
     "output_type": "stream",
     "text": [
      "     imageID  evapType  evapTimeBeforeTemp   TOF        nCount    temp  \\\n",
      "144   103112  gradient                 0.0   3.0  4.147107e+06   100.0   \n",
      "145   103113  gradient                 0.0   5.0  5.402098e+05  1200.0   \n",
      "146   103114  gradient                 0.0   5.0  6.375480e+05  1000.0   \n",
      "147   103115  gradient                 0.0   3.0  1.274716e+06   400.0   \n",
      "148   103116  gradient                 0.0   3.0  9.779376e+05   500.0   \n",
      "..       ...       ...                 ...   ...           ...     ...   \n",
      "345   103292  gradient              2000.0  10.0  2.509703e+03  3600.0   \n",
      "346   103293  gradient              2000.0  10.0  6.788113e+04  3600.0   \n",
      "347   103294  gradient              2000.0  10.0  7.416483e+04  3600.0   \n",
      "348   103295  gradient              2000.0  10.0  6.965795e+04  3600.0   \n",
      "349   103296  gradient              2000.0  10.0  7.004992e+04  3600.0   \n",
      "\n",
      "       xWidth   yWidth         PSD  totalEvapTime  Temperature  \n",
      "144  115.5070  71.0547    0.023492          100.0          NaN  \n",
      "145   68.4529  67.2002    0.091656         1200.0          NaN  \n",
      "146   72.8895  70.8264    0.078915         1000.0          NaN  \n",
      "147   60.7704  58.3738    0.023487          400.0          NaN  \n",
      "148   57.0292  54.6423    0.026783          500.0          NaN  \n",
      "..        ...      ...         ...            ...          ...  \n",
      "345   16.9779  24.5539   11.452476         5600.0          NaN  \n",
      "346   24.3201  28.3016  132.094010         5600.0          NaN  \n",
      "347   24.6940  27.2422  181.444972         5600.0          NaN  \n",
      "348   25.8941  28.6276  126.549680         5600.0          NaN  \n",
      "349   26.2242  28.3661  134.465197         5600.0          NaN  \n",
      "\n",
      "[167 rows x 11 columns]\n",
      "gradient 100.0\n",
      "144 19.170825000000008\n",
      "182 19.170825000000008\n",
      "193 19.170825000000008\n",
      "203 19.170825000000008\n",
      "gradient 150.0\n",
      "163 16.147450000000006\n",
      "166 16.147450000000006\n",
      "192 16.147450000000006\n",
      "gradient 200.0\n",
      "162 15.967074999999994\n",
      "184 15.967074999999994\n",
      "199 15.967074999999994\n",
      "201 15.967074999999994\n",
      "gradient 250.0\n",
      "153 15.765\n",
      "154 15.765\n",
      "168 15.765\n",
      "196 15.765\n",
      "gradient 300.0\n",
      "173 16.145325000000003\n",
      "175 16.145325000000003\n",
      "183 16.145325000000003\n",
      "gradient 400.0\n",
      "147 15.282625000000003\n",
      "151 15.282625000000003\n",
      "152 15.282625000000003\n",
      "gradient 500.0\n",
      "148 15.375125000000004\n",
      "167 15.375125000000004\n",
      "206 15.375125000000004\n",
      "207 15.375125000000004\n",
      "gradient 600.0\n",
      "160 15.123825\n",
      "170 15.123825\n",
      "181 15.123825\n",
      "gradient 800.0\n",
      "177 13.8705\n",
      "189 13.8705\n",
      "200 13.8705\n",
      "204 13.8705\n",
      "gradient 1000.0\n",
      "146 12.816250000000004\n",
      "155 12.816250000000004\n",
      "158 12.816250000000004\n",
      "198 12.816250000000004\n",
      "gradient 1200.0\n",
      "145 12.823124999999997\n",
      "176 12.823124999999997\n",
      "180 12.823124999999997\n",
      "197 12.823124999999997\n",
      "gradient 1400.0\n",
      "149 11.615424999999998\n",
      "150 11.615424999999998\n",
      "157 11.615424999999998\n",
      "191 11.615424999999998\n",
      "gradient 1600.0\n",
      "165 10.589375000000004\n",
      "174 10.589375000000004\n",
      "190 10.589375000000004\n",
      "195 10.589375000000004\n",
      "gradient 1800.0\n",
      "156 10.396574999999999\n",
      "172 10.396574999999999\n",
      "178 10.396574999999999\n",
      "gradient 2000.0\n",
      "159 10.373074999999996\n",
      "171 10.373074999999996\n",
      "179 10.373074999999996\n",
      "205 10.373074999999996\n",
      "213 10.373074999999996\n",
      "216 10.373074999999996\n",
      "233 10.373074999999996\n",
      "235 10.373074999999996\n",
      "gradient 2500.0\n",
      "217 8.693374999999996\n",
      "221 8.693374999999996\n",
      "224 8.693374999999996\n",
      "231 8.693374999999996\n",
      "gradient 3000.0\n",
      "220 5.9724499999999985\n",
      "227 5.9724499999999985\n",
      "230 5.9724499999999985\n",
      "234 5.9724499999999985\n",
      "gradient 3500.0\n",
      "211 4.744150000000001\n",
      "222 4.744150000000001\n",
      "225 4.744150000000001\n",
      "229 4.744150000000001\n",
      "gradient 4000.0\n",
      "208 4.0690375\n",
      "209 4.0690375\n",
      "210 4.0690375\n",
      "228 4.0690375\n",
      "gradient 4500.0\n",
      "212 3.1254375000000003\n",
      "218 3.1254375000000003\n",
      "226 3.1254375000000003\n",
      "232 3.1254375000000003\n",
      "gradient 5000.0\n",
      "214 2.754337500000002\n",
      "215 2.754337500000002\n",
      "219 2.754337500000002\n",
      "223 2.754337500000002\n",
      "gradient 5200.0\n",
      "244 2.224119999999999\n",
      "246 2.224119999999999\n",
      "253 2.224119999999999\n",
      "258 2.224119999999999\n",
      "269 2.224119999999999\n",
      "272 2.224119999999999\n",
      "gradient 5400.0\n",
      "239 2.12329\n",
      "243 2.12329\n",
      "268 2.12329\n",
      "278 2.12329\n",
      "285 2.12329\n",
      "286 2.12329\n",
      "gradient 5600.0\n",
      "245 1.3628433333333334\n",
      "249 1.3628433333333334\n",
      "260 1.3628433333333334\n",
      "279 1.3628433333333334\n",
      "282 1.3628433333333334\n",
      "287 1.3628433333333334\n",
      "323 1.3628433333333334\n",
      "326 1.3628433333333334\n",
      "331 1.3628433333333334\n",
      "333 1.3628433333333334\n",
      "335 1.3628433333333334\n",
      "339 1.3628433333333334\n"
     ]
    },
    {
     "name": "stderr",
     "output_type": "stream",
     "text": [
      "/usr/local/lib/python3.9/site-packages/pandas/core/indexing.py:1636: SettingWithCopyWarning: \n",
      "A value is trying to be set on a copy of a slice from a DataFrame\n",
      "\n",
      "See the caveats in the documentation: https://pandas.pydata.org/pandas-docs/stable/user_guide/indexing.html#returning-a-view-versus-a-copy\n",
      "  self._setitem_single_block(indexer, value, name)\n",
      "/usr/local/lib/python3.9/site-packages/pandas/core/indexing.py:1636: SettingWithCopyWarning: \n",
      "A value is trying to be set on a copy of a slice from a DataFrame\n",
      "\n",
      "See the caveats in the documentation: https://pandas.pydata.org/pandas-docs/stable/user_guide/indexing.html#returning-a-view-versus-a-copy\n",
      "  self._setitem_single_block(indexer, value, name)\n"
     ]
    },
    {
     "ename": "IndexError",
     "evalue": "iloc cannot enlarge its target object",
     "output_type": "error",
     "traceback": [
      "\u001b[0;31m---------------------------------------------------------------------------\u001b[0m",
      "\u001b[0;31mIndexError\u001b[0m                                Traceback (most recent call last)",
      "\u001b[0;32m<ipython-input-20-0a0b532efec3>\u001b[0m in \u001b[0;36m<module>\u001b[0;34m\u001b[0m\n\u001b[0;32m----> 1\u001b[0;31m \u001b[0mdf1\u001b[0m \u001b[0;34m=\u001b[0m \u001b[0mcomputeTemperature\u001b[0m\u001b[0;34m(\u001b[0m\u001b[0mdf\u001b[0m\u001b[0;34m)\u001b[0m\u001b[0;34m\u001b[0m\u001b[0;34m\u001b[0m\u001b[0m\n\u001b[0m",
      "\u001b[0;32m<ipython-input-18-77e9ec02dec3>\u001b[0m in \u001b[0;36mcomputeTemperature\u001b[0;34m(df1)\u001b[0m\n\u001b[1;32m     17\u001b[0m             \u001b[0;32mfor\u001b[0m \u001b[0mi\u001b[0m\u001b[0;34m,\u001b[0m \u001b[0mrow\u001b[0m \u001b[0;32min\u001b[0m \u001b[0mdf_current\u001b[0m\u001b[0;34m.\u001b[0m\u001b[0miterrows\u001b[0m\u001b[0;34m(\u001b[0m\u001b[0;34m)\u001b[0m\u001b[0;34m:\u001b[0m\u001b[0;34m\u001b[0m\u001b[0;34m\u001b[0m\u001b[0m\n\u001b[1;32m     18\u001b[0m                 \u001b[0mprint\u001b[0m\u001b[0;34m(\u001b[0m\u001b[0mi\u001b[0m\u001b[0;34m,\u001b[0m \u001b[0mtemperature\u001b[0m\u001b[0;34m)\u001b[0m\u001b[0;34m\u001b[0m\u001b[0;34m\u001b[0m\u001b[0m\n\u001b[0;32m---> 19\u001b[0;31m                 \u001b[0mdf\u001b[0m\u001b[0;34m[\u001b[0m\u001b[0;34m\"Temperature\"\u001b[0m\u001b[0;34m]\u001b[0m\u001b[0;34m.\u001b[0m\u001b[0miloc\u001b[0m\u001b[0;34m[\u001b[0m\u001b[0mi\u001b[0m\u001b[0;34m]\u001b[0m \u001b[0;34m=\u001b[0m \u001b[0mtemperature\u001b[0m\u001b[0;34m\u001b[0m\u001b[0;34m\u001b[0m\u001b[0m\n\u001b[0m\u001b[1;32m     20\u001b[0m     \u001b[0;32mreturn\u001b[0m \u001b[0mdf\u001b[0m\u001b[0;34m\u001b[0m\u001b[0;34m\u001b[0m\u001b[0m\n",
      "\u001b[0;32m/usr/local/lib/python3.9/site-packages/pandas/core/indexing.py\u001b[0m in \u001b[0;36m__setitem__\u001b[0;34m(self, key, value)\u001b[0m\n\u001b[1;32m    686\u001b[0m             \u001b[0mkey\u001b[0m \u001b[0;34m=\u001b[0m \u001b[0mcom\u001b[0m\u001b[0;34m.\u001b[0m\u001b[0mapply_if_callable\u001b[0m\u001b[0;34m(\u001b[0m\u001b[0mkey\u001b[0m\u001b[0;34m,\u001b[0m \u001b[0mself\u001b[0m\u001b[0;34m.\u001b[0m\u001b[0mobj\u001b[0m\u001b[0;34m)\u001b[0m\u001b[0;34m\u001b[0m\u001b[0;34m\u001b[0m\u001b[0m\n\u001b[1;32m    687\u001b[0m         \u001b[0mindexer\u001b[0m \u001b[0;34m=\u001b[0m \u001b[0mself\u001b[0m\u001b[0;34m.\u001b[0m\u001b[0m_get_setitem_indexer\u001b[0m\u001b[0;34m(\u001b[0m\u001b[0mkey\u001b[0m\u001b[0;34m)\u001b[0m\u001b[0;34m\u001b[0m\u001b[0;34m\u001b[0m\u001b[0m\n\u001b[0;32m--> 688\u001b[0;31m         \u001b[0mself\u001b[0m\u001b[0;34m.\u001b[0m\u001b[0m_has_valid_setitem_indexer\u001b[0m\u001b[0;34m(\u001b[0m\u001b[0mkey\u001b[0m\u001b[0;34m)\u001b[0m\u001b[0;34m\u001b[0m\u001b[0;34m\u001b[0m\u001b[0m\n\u001b[0m\u001b[1;32m    689\u001b[0m \u001b[0;34m\u001b[0m\u001b[0m\n\u001b[1;32m    690\u001b[0m         \u001b[0miloc\u001b[0m \u001b[0;34m=\u001b[0m \u001b[0mself\u001b[0m \u001b[0;32mif\u001b[0m \u001b[0mself\u001b[0m\u001b[0;34m.\u001b[0m\u001b[0mname\u001b[0m \u001b[0;34m==\u001b[0m \u001b[0;34m\"iloc\"\u001b[0m \u001b[0;32melse\u001b[0m \u001b[0mself\u001b[0m\u001b[0;34m.\u001b[0m\u001b[0mobj\u001b[0m\u001b[0;34m.\u001b[0m\u001b[0miloc\u001b[0m\u001b[0;34m\u001b[0m\u001b[0;34m\u001b[0m\u001b[0m\n",
      "\u001b[0;32m/usr/local/lib/python3.9/site-packages/pandas/core/indexing.py\u001b[0m in \u001b[0;36m_has_valid_setitem_indexer\u001b[0;34m(self, indexer)\u001b[0m\n\u001b[1;32m   1398\u001b[0m             \u001b[0;32melif\u001b[0m \u001b[0mis_integer\u001b[0m\u001b[0;34m(\u001b[0m\u001b[0mi\u001b[0m\u001b[0;34m)\u001b[0m\u001b[0;34m:\u001b[0m\u001b[0;34m\u001b[0m\u001b[0;34m\u001b[0m\u001b[0m\n\u001b[1;32m   1399\u001b[0m                 \u001b[0;32mif\u001b[0m \u001b[0mi\u001b[0m \u001b[0;34m>=\u001b[0m \u001b[0mlen\u001b[0m\u001b[0;34m(\u001b[0m\u001b[0max\u001b[0m\u001b[0;34m)\u001b[0m\u001b[0;34m:\u001b[0m\u001b[0;34m\u001b[0m\u001b[0;34m\u001b[0m\u001b[0m\n\u001b[0;32m-> 1400\u001b[0;31m                     \u001b[0;32mraise\u001b[0m \u001b[0mIndexError\u001b[0m\u001b[0;34m(\u001b[0m\u001b[0;34m\"iloc cannot enlarge its target object\"\u001b[0m\u001b[0;34m)\u001b[0m\u001b[0;34m\u001b[0m\u001b[0;34m\u001b[0m\u001b[0m\n\u001b[0m\u001b[1;32m   1401\u001b[0m             \u001b[0;32melif\u001b[0m \u001b[0misinstance\u001b[0m\u001b[0;34m(\u001b[0m\u001b[0mi\u001b[0m\u001b[0;34m,\u001b[0m \u001b[0mdict\u001b[0m\u001b[0;34m)\u001b[0m\u001b[0;34m:\u001b[0m\u001b[0;34m\u001b[0m\u001b[0;34m\u001b[0m\u001b[0m\n\u001b[1;32m   1402\u001b[0m                 \u001b[0;32mraise\u001b[0m \u001b[0mIndexError\u001b[0m\u001b[0;34m(\u001b[0m\u001b[0;34m\"iloc cannot enlarge its target object\"\u001b[0m\u001b[0;34m)\u001b[0m\u001b[0;34m\u001b[0m\u001b[0;34m\u001b[0m\u001b[0m\n",
      "\u001b[0;31mIndexError\u001b[0m: iloc cannot enlarge its target object"
     ]
    }
   ],
   "source": [
    "df1 = computeTemperature(df)"
   ]
  },
  {
   "cell_type": "code",
   "execution_count": null,
   "metadata": {},
   "outputs": [],
   "source": [
    "df1"
   ]
  },
  {
   "cell_type": "code",
   "execution_count": null,
   "metadata": {},
   "outputs": [],
   "source": [
    "df[\"evapType\"].iloc[5]"
   ]
  },
  {
   "cell_type": "markdown",
   "metadata": {},
   "source": [
    "# TOF Images"
   ]
  },
  {
   "cell_type": "code",
   "execution_count": null,
   "metadata": {},
   "outputs": [],
   "source": [
    "TOFLabels = [\n",
    "    [[103056, 103065], ['noGradient', 1800]],\n",
    "    [[103066, 103075], ['noGradient', 1800]],\n",
    "    [[103079, 103088], ['noGradient', 1800]],\n",
    "    [[103267, 103296], ['noGradient', 2000]]\n",
    "                        ]\n",
    "\n",
    "\n",
    "df_TOF = createLabeledDataFrame_images(TOFLabels)\n",
    "\"\"\"df['evapTimeBeforeTemp'] = df['evapTimeBeforeTemp'].astype(float)\n",
    "df['imageID'] = df['imageID'].astype(int)\n",
    "df['temp'] = df['temp'].astype(float)\n",
    "df['xWidth'] = df['xWidth'].astype(float)\n",
    "df['yWidth'] = df['yWidth'].astype(float)\n",
    "df['TOF'] = df['TOF'].astype(float)\n",
    "df['nCount'] *= calibrationRatio\n",
    "df['PSD'] = df['nCount']/((df['yWidth']/df['TOF'])**6)\n",
    "df['totalEvapTime'] = df['evapTimeBeforeTemp'] + df['temp']\n",
    "# Delete these row indexes from dataFrame\n",
    "indexNames = pd.Index(np.where(df['imageID'].isin(excluded))[0])\n",
    "df.drop(indexNames, inplace = True)\"\"\"\n",
    "df"
   ]
  },
  {
   "cell_type": "markdown",
   "metadata": {},
   "source": [
    "### ODT power"
   ]
  },
  {
   "cell_type": "code",
   "execution_count": 21,
   "metadata": {},
   "outputs": [],
   "source": [
    "ODT1_final = ODT_power(1, 4.299)\n",
    "ODT2_final = ODT_power(2, 4.299)\n",
    "ODT3_final = ODT_power(3, 4.299)"
   ]
  },
  {
   "cell_type": "markdown",
   "metadata": {},
   "source": [
    "For a single gaussian beam ODT, the trap depth is : $U = -\\frac{1}{2}\\text{Re}(\\alpha)\\frac{I_{0}}{\\epsilon_{0}c} = -\\text{Re}(\\alpha)\\frac{P}{\\pi w_{0}^{2}\\epsilon_{0}c}$ and it goes like $-U_0 e^{-\\frac{2r^2}{w_0^2}}\\simeq -U_0 + U_0 \\frac{2r^2}{w_0^2} = -U_0 + \\frac{1}{2}m\\omega_\\perp^2r^2$ and therefore $\\omega_\\perp = \\sqrt{\\frac{4U_0}{mw_0^2}} = \\sqrt{\\frac{4\\text{Re}(\\alpha)\\frac{P}{\\pi w_{0}^{2}\\epsilon_{0}c}}{mw_0^2}} = \\frac{2}{w_0^2}\\sqrt{\\frac{\\text{Re}(\\alpha)P}{\\pi m\\epsilon_{0}c}}$"
   ]
  },
  {
   "cell_type": "code",
   "execution_count": 28,
   "metadata": {},
   "outputs": [],
   "source": [
    "ODT1_waist = 42*10**(-6)\n",
    "ODT2_waist = 42*10**(-6)\n",
    "ODT3_waist = 30*10**(-6)\n",
    "ODT_Waists = [0, ODT1_waist, ODT2_waist, ODT3_waist]\n",
    "\n",
    "polarizability_0 = 1.64877727*10**(-41)\n",
    "m = 164*1.66053906660*10**(-27)\n",
    "c = 2.99792458*10**8\n",
    "epsilon_0 = 8.85418782*10**(-12)\n",
    "alpha = 180*polarizability_0\n",
    "\n",
    "def ODT_frequency(n, t):\n",
    "    return (2/(ODT_Waists[n]**2)*np.sqrt(alpha*ODT_power(n, t)/(np.pi*m*epsilon_0*c)))/(2*np.pi)"
   ]
  },
  {
   "cell_type": "code",
   "execution_count": 29,
   "metadata": {
    "scrolled": true
   },
   "outputs": [
    {
     "name": "stdout",
     "output_type": "stream",
     "text": [
      "ODT 1 frequency = 141.42841007772944\n",
      "ODT 2 frequency = 138.49682739097105\n",
      "ODT 3 frequency = 85.88396673694868\n"
     ]
    }
   ],
   "source": [
    "print(\"ODT 1 frequency = \" + str(ODT_frequency(1, 4.29)))\n",
    "print(\"ODT 2 frequency = \" + str(ODT_frequency(2, 4.29)))\n",
    "print(\"ODT 3 frequency = \" + str(ODT_frequency(3, 4.29)))"
   ]
  },
  {
   "cell_type": "markdown",
   "metadata": {},
   "source": [
    "To really know what is the trap frequency, one should add along Z the two frequencies of ODT 1 and 2 in quadrature, so probalby $\\omega_z \\sim 200$ Hz, then along X it is probably also this 200 Hz that dominates. $\\omega_x \\sim 200$ Hz. Along Y, the intersection of ODT 1 and 2 with an aspect ratio of 10 is probalby quite bellow the ODT 3 frequency, so assuming $\\omega_y \\sim 90$ Hz is reasonable."
   ]
  },
  {
   "cell_type": "code",
   "execution_count": 30,
   "metadata": {},
   "outputs": [
    {
     "data": {
      "text/plain": [
       "646.0383865666947"
      ]
     },
     "execution_count": 30,
     "metadata": {},
     "output_type": "execute_result"
    }
   ],
   "source": [
    "ODT_frequency(3, 0)"
   ]
  },
  {
   "cell_type": "code",
   "execution_count": 31,
   "metadata": {},
   "outputs": [
    {
     "data": {
      "text/plain": [
       "0.042431063165920775"
      ]
     },
     "execution_count": 31,
     "metadata": {},
     "output_type": "execute_result"
    }
   ],
   "source": [
    "ODT3_final"
   ]
  }
 ],
 "metadata": {
  "kernelspec": {
   "display_name": "Python 3",
   "language": "python",
   "name": "python3"
  },
  "language_info": {
   "codemirror_mode": {
    "name": "ipython",
    "version": 3
   },
   "file_extension": ".py",
   "mimetype": "text/x-python",
   "name": "python",
   "nbconvert_exporter": "python",
   "pygments_lexer": "ipython3",
   "version": "3.9.0"
  },
  "latex_envs": {
   "LaTeX_envs_menu_present": true,
   "autoclose": false,
   "autocomplete": true,
   "bibliofile": "biblio.bib",
   "cite_by": "apalike",
   "current_citInitial": 1,
   "eqLabelWithNumbers": true,
   "eqNumInitial": 1,
   "hotkeys": {
    "equation": "Ctrl-E",
    "itemize": "Ctrl-I"
   },
   "labels_anchors": false,
   "latex_user_defs": false,
   "report_style_numbering": false,
   "user_envs_cfg": false
  }
 },
 "nbformat": 4,
 "nbformat_minor": 4
}
