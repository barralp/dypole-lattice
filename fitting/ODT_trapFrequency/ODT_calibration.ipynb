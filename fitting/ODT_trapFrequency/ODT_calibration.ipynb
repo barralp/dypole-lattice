{
 "cells": [
  {
   "cell_type": "code",
   "execution_count": 1,
   "metadata": {},
   "outputs": [],
   "source": [
    "import numpy as np\n",
    "from scipy.optimize import curve_fit\n",
    "from scipy.integrate import solve_ivp\n",
    "import matplotlib.pyplot as plt"
   ]
  },
  {
   "cell_type": "code",
   "execution_count": 2,
   "metadata": {},
   "outputs": [],
   "source": [
    "def photodiode(V, a, b):\n",
    "    return a*V+b\n",
    "\n",
    "time_without_gradient = [1.800, 4.300]\n",
    "time_with_gradient = [2.000, 6.500]\n",
    "\n",
    "timeconstant_without_gradient = {1 : {\"tau1\" : 1, \"tau2\" : 1.2},\n",
    "                                2 : {\"tau1\" : 1, \"tau2\" : 1.2},\n",
    "                                3 : {\"tau1\" : 100000, \"tau2\" : 1.2}}\n",
    "\n",
    "timeconstant_with_gradient = {1 : {\"tau1\" : 1, \"tau2\" : 0.9},\n",
    "                                2 : {\"tau1\" : 1, \"tau2\" : 0.9},\n",
    "                                3 : {\"tau1\" : 100000, \"tau2\" : 0.9}}\n",
    "\n",
    "voltage_without_gradient = {1 : {\"init\" : 6, \"final1\" : 2.1, \"final2\" : 0.34},\n",
    "                            2 : {\"init\" : 5.4, \"final1\" : 2.1, \"final2\" : 0.35},\n",
    "                            3 : {\"init\" : 5.4, \"final1\" : 5.4, \"final2\" : 0.095}}\n",
    "                \n",
    "voltage_with_gradient = {1 : {\"init\" : 6, \"final1\" : 1.1, \"final2\" : 0.09},\n",
    "                        2 : {\"init\" : 5.5, \"final1\" : 1.1, \"final2\" : 0.11},\n",
    "                        3 : {\"init\" : 5.4, \"final1\" : 5.4, \"final2\" : 0.05}}\n",
    "\n",
    "ODT1_data = np.array([\n",
    "    [0.472, 0.34],\n",
    "    [1.471, 1],\n",
    "    [3.14, 2.1],\n",
    "    [4.53, 3]])\n",
    "\n",
    "ODT2_data = np.array([\n",
    "    [0.45, 0.35],\n",
    "    [1.297, 1],\n",
    "    [2.74, 2.1],\n",
    "    [3.92, 3]])\n",
    "\n",
    "ODT3_data = np.array([\n",
    "    [0.046, 0.1],\n",
    "    [0.091, 0.2],\n",
    "    [0.232, 0.5],\n",
    "    [0.377, 0.8]])\n",
    "\n",
    "popt1, pcov1 = curve_fit(photodiode, ODT1_data[:,1], ODT1_data[:,0])\n",
    "popt2, pcov2 = curve_fit(photodiode, ODT2_data[:,1], ODT2_data[:,0])\n",
    "popt3, pcov3 = curve_fit(photodiode, ODT3_data[:,1], ODT3_data[:,0])"
   ]
  },
  {
   "cell_type": "code",
   "execution_count": 4,
   "metadata": {},
   "outputs": [
    {
     "data": {
      "text/plain": [
       "(array([ 1.52471615, -0.05154301]),\n",
       " array([[ 2.32325904e-05, -3.74044664e-05],\n",
       "        [-3.74044664e-05,  8.43668122e-05]]))"
      ]
     },
     "execution_count": 4,
     "metadata": {},
     "output_type": "execute_result"
    }
   ],
   "source": [
    "popt1, pcov1"
   ]
  },
  {
   "cell_type": "code",
   "execution_count": 5,
   "metadata": {},
   "outputs": [
    {
     "data": {
      "text/plain": [
       "(array([ 1.3098684, -0.0104128]),\n",
       " array([[ 1.28464307e-06, -2.07148626e-06],\n",
       "        [-2.07148626e-06,  4.66726123e-06]]))"
      ]
     },
     "execution_count": 5,
     "metadata": {},
     "output_type": "execute_result"
    }
   ],
   "source": [
    "popt2, pcov2"
   ]
  },
  {
   "cell_type": "code",
   "execution_count": 6,
   "metadata": {},
   "outputs": [
    {
     "data": {
      "text/plain": [
       "(array([ 0.47333333, -0.00283333]),\n",
       " array([[ 1.27777728e-05, -5.11110897e-06],\n",
       "        [-5.11110897e-06,  3.00277699e-06]]))"
      ]
     },
     "execution_count": 6,
     "metadata": {},
     "output_type": "execute_result"
    }
   ],
   "source": [
    "popt3, pcov3"
   ]
  },
  {
   "cell_type": "code",
   "execution_count": 7,
   "metadata": {},
   "outputs": [],
   "source": [
    "str1 = \"def ODT1_power(V): return {}*V + {} \\n\".format(str(popt1[0]), str(popt1[1]))\n",
    "str2 = \"def ODT2_power(V): return {}*V + {} \\n\".format(str(popt2[0]), str(popt2[1]))\n",
    "str3 = \"def ODT3_power(V): return {}*V + {} \\n\".format(str(popt3[0]), str(popt3[1]))\n",
    "L = [str1, str2, str3]\n",
    "fichier = open('ODT_power.py', 'w')\n",
    "for  string in L:\n",
    "    fichier.writelines(string)\n",
    "fichier.close()"
   ]
  },
  {
   "cell_type": "code",
   "execution_count": 8,
   "metadata": {},
   "outputs": [
    {
     "data": {
      "image/png": "[encoded data removed]",
      "text/plain": [
       "<Figure size 432x288 with 1 Axes>"
      ]
     },
     "metadata": {
      "needs_background": "light"
     },
     "output_type": "display_data"
    }
   ],
   "source": [
    "def exponential(V_init, V_final, tau, t_f, t):\n",
    "    return V_init+(V_final - V_init)*(np.exp(-t/tau)-1)/(np.exp(-t_f/tau)-1)\n",
    "\n",
    "def two_exponentials(V_init, V_final1, V_final2, tau1, tau2, t_f1, t_f2, t):\n",
    "    result1 = (t <= t_f1)*exponential(V_init, V_final1, tau1, t_f1, t)\n",
    "    result2 = (t > t_f1)*(t <= t_f2)*exponential(V_final1, V_final2, tau2, t_f2 - t_f1, t - t_f1)\n",
    "    return result1 + result2\n",
    "\n",
    "V_init, V_final1, V_final2, tau1, tau2, t_f1, t_f2 = [5, 1, 0.1, 1, 0.5, 2, 5]\n",
    "t = np.linspace(0, 10, 100)\n",
    "plt.figure()\n",
    "plt.plot(t, two_exponentials(V_init, V_final1, V_final2, tau1, tau2, t_f1, t_f2, t))\n",
    "plt.show()"
   ]
  },
  {
   "cell_type": "code",
   "execution_count": 9,
   "metadata": {},
   "outputs": [],
   "source": [
    "str0 = \"\"\"\n",
    "import numpy as np \\n\n",
    "time_without_gradient = {} \\n\n",
    "time_with_gradient = {} \\n\n",
    "timeconstant_without_gradient = {} \\n\n",
    "voltage_without_gradient = {} \\n\n",
    "timeconstant_with_gradient = {} \\n\n",
    "voltage_with_gradient = {} \\n\"\"\".format(str(time_without_gradient), str(time_with_gradient),\n",
    "                                    str(timeconstant_without_gradient), str(voltage_without_gradient),\n",
    "                                     str(timeconstant_with_gradient), str(voltage_with_gradient))\n",
    "\n",
    "str1 = \"\"\"\n",
    "def exponential(V_init, V_final, tau, t_f, t):\n",
    "    return V_init+(V_final - V_init)*(np.exp(-t/tau)-1)/(np.exp(-t_f/tau)-1)\n",
    "\n",
    "def two_exponentials(V_init, V_final1, V_final2, tau1, tau2, t_f1, t_f2, t):\n",
    "    result1 = (t <= t_f1)*exponential(V_init, V_final1, tau1, t_f1, t)\n",
    "    result2 = (t > t_f1)*(t <= t_f2)*exponential(V_final1, V_final2, tau2, t_f2 - t_f1, t - t_f1)\n",
    "    return result1 + result2 \\n\"\"\"\n",
    "\n",
    "str2 = \"\"\"\n",
    "def ODT_voltage_to_power(ODT_number, V):\n",
    "    if ODT_number == 1:\n",
    "        return {}*V + {}\n",
    "    elif ODT_number == 2:\n",
    "        return {}*V + {}\n",
    "    elif ODT_number == 3:\n",
    "        return {}*V + {} \\n\"\"\".format(str(popt1[0]), str(popt1[1]), str(popt2[0]), str(popt2[1]), str(popt3[0]), str(popt3[1]))\n",
    "\n",
    "str3 = \"\"\"\n",
    "def ODT_voltage(ODT_number, t, with_gradient = False):\n",
    "    if with_gradient:\n",
    "        voltage = voltage_with_gradient[ODT_number]\n",
    "        timeconstant = timeconstant_with_gradient[ODT_number]\n",
    "        t_f1, t_f2 = time_with_gradient\n",
    "    else:\n",
    "        voltage = voltage_without_gradient[ODT_number]\n",
    "        timeconstant = timeconstant_without_gradient[ODT_number]\n",
    "        t_f1, t_f2 = time_without_gradient\n",
    "    return two_exponentials(voltage[\"init\"], voltage[\"final1\"], voltage[\"final2\"], timeconstant[\"tau1\"], timeconstant[\"tau2\"], t_f1, t_f2, t) \\n\"\"\"\n",
    "\n",
    "str4 = \"\"\"\n",
    "def ODT_power(ODT_number, t, with_gradient = False):\n",
    "    return ODT_voltage_to_power(ODT_number, ODT_voltage(ODT_number, t, with_gradient)) \\n\n",
    "\"\"\"\n",
    "\n",
    "L = [str0, str1, str2, str3, str4]\n",
    "fichier = open('ODT_power.py', 'w')\n",
    "for  string in L:\n",
    "    fichier.writelines(string)\n",
    "fichier.close()"
   ]
  },
  {
   "cell_type": "code",
   "execution_count": 10,
   "metadata": {},
   "outputs": [
    {
     "data": {
      "text/plain": [
       "{1: {'tau1': 1, 'tau2': 0.9},\n",
       " 2: {'tau1': 1, 'tau2': 0.9},\n",
       " 3: {'tau1': 100000, 'tau2': 0.9}}"
      ]
     },
     "execution_count": 10,
     "metadata": {},
     "output_type": "execute_result"
    }
   ],
   "source": [
    "timeconstant_with_gradient"
   ]
  },
  {
   "cell_type": "code",
   "execution_count": null,
   "metadata": {},
   "outputs": [],
   "source": []
  },
  {
   "cell_type": "code",
   "execution_count": null,
   "metadata": {},
   "outputs": [],
   "source": []
  }
 ],
 "metadata": {
  "kernelspec": {
   "display_name": "Python 3",
   "language": "python",
   "name": "python3"
  },
  "language_info": {
   "codemirror_mode": {
    "name": "ipython",
    "version": 3
   },
   "file_extension": ".py",
   "mimetype": "text/x-python",
   "name": "python",
   "nbconvert_exporter": "python",
   "pygments_lexer": "ipython3",
   "version": "3.9.0"
  },
  "latex_envs": {
   "LaTeX_envs_menu_present": true,
   "autoclose": false,
   "autocomplete": true,
   "bibliofile": "biblio.bib",
   "cite_by": "apalike",
   "current_citInitial": 1,
   "eqLabelWithNumbers": true,
   "eqNumInitial": 1,
   "hotkeys": {
    "equation": "Ctrl-E",
    "itemize": "Ctrl-I"
   },
   "labels_anchors": false,
   "latex_user_defs": false,
   "report_style_numbering": false,
   "user_envs_cfg": false
  }
 },
 "nbformat": 4,
 "nbformat_minor": 4
}
