{
 "cells": [
  {
   "cell_type": "code",
   "execution_count": 2,
   "metadata": {},
   "outputs": [],
   "source": [
    "# -*- coding: utf-8 -*-\n",
    "\"\"\"\n",
    "Created on Thu Jul 30 10:51:32 2020\n",
    "\n",
    "@author: Dypole_Imaging\n",
    "\"\"\"\n",
    "import numpy as np\n",
    "import mysql.connector\n",
    "import os\n",
    "import time\n",
    "import numpy as np\n",
    "import matplotlib.pyplot as plt\n",
    "from scipy.optimize import curve_fit\n",
    "\"\"\"\n",
    "imageID of P = 100mW / 2.5GHz red / spin mixuture 77939 - 78010\n",
    "imageID of P = 100mW / 2.5GHz red / non spin polarized 78013 - \n",
    "\"\"\"\n",
    "\n",
    "MYSQLserverIP = \"192.168.1.133\"\n",
    "username = \"root\"\n",
    "password = \"w0lfg4ng\"\n",
    "databaseName = \"dypoledatabase\"\n",
    "\n",
    "typeOfConnection = \"global\"\n",
    "#### Used functions ####\n",
    "\n",
    "def dataToArray(pathFile):\n",
    "    # Convert camera fits data to binary format\n",
    "    with open(pathFile, 'rb') as file:\n",
    "        image = fits.getdata(file)\n",
    "    return image[0].ravel().tolist(), image[1].ravel().tolist(), image[2].ravel().tolist()   # atoms, noAtoms, dark\n",
    "\n",
    "def updateNewImage():\n",
    "    db = setConnection()\n",
    "    cursor = db.cursor()\n",
    "    sql_query = \"\"\"UPDATE updates SET newImage = 1 WHERE idUpdates = 0;\"\"\"\n",
    "    cursor.execute(sql_query)\n",
    "    db.commit()\n",
    "    cursor.close()\n",
    "    db.close()\n",
    "\n",
    "def getLastID():\n",
    "    sql_query = \"\"\"SELECT runID FROM ciceroOut ORDER BY runID DESC LIMIT 1;\"\"\"\n",
    "    lastRunID = executeGetQuery(sql_query)[0][0]\n",
    "    sql_query = \"\"\"SELECT sequenceID FROM sequence ORDER BY sequenceID DESC LIMIT 1;\"\"\"\n",
    "    lastSequenceID = executeGetQuery(sql_query)[0][0]\n",
    "    return lastRunID, lastSequenceID\n",
    "\n",
    "def getLastImageID():\n",
    "    sql_query = \"\"\"SELECT imageID FROM images ORDER BY imageID DESC LIMIT 1;\"\"\"\n",
    "    lastImageID = executeGetQuery(sql_query)[0][0]\n",
    "    return lastImageID\n",
    "\n",
    "def getTimestamp(imageID):\n",
    "    sql_query = \"SELECT timestamp FROM images WHERE imageID = \" + str(imageID) + \";\"\n",
    "    timestamp = executeGetQuery(sql_query)[0][0]\n",
    "    return timestamp\n",
    "\n",
    "def getLastImageIDs(n):\n",
    "    sql_query = \"\"\"SELECT imageID FROM images ORDER BY imageID DESC LIMIT \"\"\" + str(n) + \"\"\";\"\"\"\n",
    "    lastImageIDsTupleList = executeGetQuery(sql_query)\n",
    "    lastImageIDs = listTupleToList(lastImageIDsTupleList)\n",
    "    return lastImageIDs\n",
    "\n",
    "def listTupleToList(List):\n",
    "    outputList = []\n",
    "    for oneTuple in List:\n",
    "        outputList += [oneTuple[0]]\n",
    "    return outputList\n",
    "\n",
    "def setConnection(typeOfConnection = 'global'):\n",
    "    if typeOfConnection == 'local':\n",
    "        return setLocalConnection()\n",
    "    elif typeOfConnection == 'global':\n",
    "        return setDistantConnection()\n",
    "    else:\n",
    "        print('Set what type of connection you want')\n",
    "\n",
    "def setLocalConnection():\n",
    "    # Open database connection\n",
    "    mydb = mysql.connector.connect(host = \"localhost\",\n",
    "                        user = \"student\",\n",
    "                        password = \"w0lfg4ng\",\n",
    "                        database = \"imagesdypoledatabase\")\n",
    "    #print('Local connection established')\n",
    "    return mydb\n",
    "\n",
    "def setDistantConnection():\n",
    "    # Open database connection\n",
    "    mydb = mysql.connector.connect(host = MYSQLserverIP,\n",
    "                        user = username,\n",
    "                        password = password,\n",
    "                        database = databaseName)\n",
    "    #print('Distant connection established')\n",
    "    return mydb\n",
    "\n",
    "def getRunIDFromImageID(imageID):\n",
    "    sql_query = \"SELECT runID_fk FROM images WHERE imageID = {} ;\".format(imageID)\n",
    "    runID_fk = executeGetQuery(sql_query)[0][0]\n",
    "    return runID_fk\n",
    "\n",
    "def getNCount(imageID):\n",
    "    try:\n",
    "        runID_fk = getRunIDFromImageID(imageID)\n",
    "        sql_query = \"SELECT nCount FROM nCounts WHERE runID_fk = {} ;\".format(runID_fk)\n",
    "        nCount = executeGetQuery(sql_query)[0][0]\n",
    "    except:\n",
    "        nCount = 0.0\n",
    "    return nCount\n",
    "\n",
    "def executeGetQuery(sql_query): # works when you don't need to use db.commit, so for read only functions\n",
    "    db = setConnection()\n",
    "    cursor = db.cursor()\n",
    "    cursor.execute(sql_query)\n",
    "    cursorResult = cursor.fetchall()\n",
    "    cursor.close()\n",
    "    db.close()\n",
    "    return cursorResult"
   ]
  },
  {
   "cell_type": "code",
   "execution_count": 41,
   "metadata": {},
   "outputs": [
    {
     "data": {
      "text/plain": [
       "57453.0"
      ]
     },
     "execution_count": 41,
     "metadata": {},
     "output_type": "execute_result"
    }
   ],
   "source": [
    "getNCount(78025)"
   ]
  },
  {
   "cell_type": "code",
   "execution_count": 140,
   "metadata": {},
   "outputs": [],
   "source": [
    "def getNCountList(imageIDList):\n",
    "    NCounts = np.zeros(len(imageIDList))\n",
    "    i = 0\n",
    "    for imageID in imageIDList:\n",
    "        NCounts[i] = getNCount(imageID)\n",
    "        i += 1\n",
    "    return NCounts\n",
    "\n",
    "def getHoldTime(imageID):\n",
    "    runID = getRunIDFromImageID(imageID)\n",
    "    sql_query = \"SELECT BECHoldTime FROM ciceroOut WHERE runID = {} ;\".format(runID)\n",
    "    holdTime = executeGetQuery(sql_query)[0][0]\n",
    "    return holdTime\n",
    "\n",
    "def getHoldTimeList(imageIDList):\n",
    "    holdTimeList = np.zeros(len(imageIDList))\n",
    "    i = 0\n",
    "    for imageID in imageIDList:\n",
    "        holdTimeList[i] = getHoldTime(imageID)\n",
    "        i += 1\n",
    "    return holdTimeList\n",
    "\n",
    "imageIDList_Mixture_data = np.array(list(range(77939,78010+1)))\n",
    "NCountList_Mixture_data = getNCountList(imageIDList_Mixture)\n",
    "holdTimeList_Mixture_data = getHoldTimeList(imageIDList_Mixture)\n",
    "\n",
    "imageIDList_Polarized_data = np.array(list(range(78013,78084+1)))\n",
    "NCountList_Polarized_data = getNCountList(imageIDList_Polarized)\n",
    "holdTimeList_Polarized_data = getHoldTimeList(imageIDList_Polarized)"
   ]
  },
  {
   "cell_type": "code",
   "execution_count": 151,
   "metadata": {},
   "outputs": [],
   "source": [
    "# NCountList_Mixture = NCountList_Mixture_data[holdTimeList_Mixture_data < 40]\n",
    "# holdTimeList_Mixture = (holdTimeList_Mixture_data - min(holdTimeList_Mixture_data))[holdTimeList_Mixture_data < 40]\n",
    "# NCountList_Polarized = NCountList_Polarized_data[holdTimeList_Polarized_data < 40]\n",
    "# holdTimeList_Polarized = (holdTimeList_Polarized_data - min(holdTimeList_Polarized_data))[holdTimeList_Polarized_data < 40]\n",
    "\n",
    "NCountList_Mixture = NCountList_Mixture_data\n",
    "holdTimeList_Mixture = (holdTimeList_Mixture_data - min(holdTimeList_Mixture_data))\n",
    "NCountList_Polarized = NCountList_Polarized_data\n",
    "holdTimeList_Polarized = (holdTimeList_Polarized_data - min(holdTimeList_Polarized_data))"
   ]
  },
  {
   "cell_type": "code",
   "execution_count": 152,
   "metadata": {},
   "outputs": [
    {
     "data": {
      "image/png": "[encoded data removed]",
      "text/plain": [
       "<Figure size 432x288 with 1 Axes>"
      ]
     },
     "metadata": {
      "needs_background": "light"
     },
     "output_type": "display_data"
    }
   ],
   "source": [
    "plt.figure()\n",
    "#plt.plot(imageIDList, getNCountList(imageIDList))\n",
    "plt.plot(holdTimeList_Mixture, NCountList_Mixture, '+', color = 'blue', label = 'Mixture')\n",
    "plt.plot(holdTimeList_Polarized, NCountList_Polarized, '*', color = 'red', label = 'Polarized')\n",
    "plt.legend()\n",
    "plt.show()"
   ]
  },
  {
   "cell_type": "markdown",
   "metadata": {},
   "source": [
    "We fit the polarized sample to $dN/dt = -\\alpha N-\\gamma N^{3}$, so $N(t) = \\frac{\\sqrt{\\alpha}}{\\sqrt{e^{2\\alpha t}\\left(\\frac{a}{N(0)^{2}}+\\gamma\\right)-\\gamma}}$ and the mixture one to $dN/dt = -\\alpha N - \\beta N^{2} -\\gamma N^{3}$, so $N(t) = complicated$"
   ]
  },
  {
   "cell_type": "code",
   "execution_count": 169,
   "metadata": {},
   "outputs": [
    {
     "name": "stdout",
     "output_type": "stream",
     "text": [
      "[1.35113710e+05 1.86579042e-03 5.63527322e-12]\n",
      "[8.77281160e+03 6.77043948e-03 1.03169427e-09]\n",
      "The ratio between exponential decay / 3-body decay is 55.1\n"
     ]
    }
   ],
   "source": [
    "def N_polarized(t, N0, alpha, gamma):\n",
    "    return np.sqrt(alpha / (np.exp(2*alpha*t)*(alpha/(N0**2)+gamma)-gamma))\n",
    "N0_guess = max(NCountList_Polarized)\n",
    "time_guess = max(holdTimeList_Polarized)\n",
    "N0_min = NCountList_Polarized[holdTimeList_Polarized == 0.5].mean()\n",
    "popt, pcov = curve_fit(N_polarized, holdTimeList_Polarized, NCountList_Polarized,\n",
    "                       p0 = [N0_guess, 1/time_guess, 1/(N0_guess**2*time_guess)],\n",
    "                       bounds=([0, 0, 0] , [np.inf, np.inf, np.inf])\n",
    "                      )\n",
    "perr = np.sqrt(np.diag(pcov))\n",
    "print(popt)\n",
    "print(perr)\n",
    "print(\"The ratio between exponential decay / 3-body decay is \" + str(round(popt[2]*(popt[0])**2/(popt[1]),1)))"
   ]
  },
  {
   "cell_type": "code",
   "execution_count": 168,
   "metadata": {},
   "outputs": [
    {
     "data": {
      "image/png": "[encoded data removed]",
      "text/plain": [
       "<Figure size 432x288 with 1 Axes>"
      ]
     },
     "metadata": {
      "needs_background": "light"
     },
     "output_type": "display_data"
    }
   ],
   "source": [
    "holdTimeList = np.linspace(0, 50, 200)\n",
    "plt.figure()\n",
    "plt.plot(holdTimeList_Polarized, NCountList_Polarized, '*', color = 'red', label = 'Polarized')\n",
    "plt.plot(holdTimeList, N_polarized(holdTimeList, popt[0], popt[1], popt[2]), '-', color = 'black', label = 'fit')\n",
    "plt.plot(holdTimeList, N_polarized(holdTimeList, popt[0]*0.95, popt[1]*10, popt[2]*1.5), '--', color = 'black', label = 'fit')\n",
    "\n",
    "plt.legend()\n",
    "plt.show()"
   ]
  },
  {
   "cell_type": "code",
   "execution_count": 170,
   "metadata": {},
   "outputs": [
    {
     "data": {
      "image/png": "[encoded data removed]",
      "text/plain": [
       "<Figure size 432x288 with 1 Axes>"
      ]
     },
     "metadata": {
      "needs_background": "light"
     },
     "output_type": "display_data"
    }
   ],
   "source": [
    "def log_complicated(N, alpha, gamma):\n",
    "    return np.log(alpha/(N**2)+gamma)\n",
    "\n",
    "def log_complicated_lin(t, alpha):\n",
    "    return 2*alpha*t\n",
    "\n",
    "N0 = popt[0]\n",
    "alpha = popt[1]\n",
    "gamma = popt[2]\n",
    "holdTimeList = np.linspace(0.5, 50, 200)\n",
    "plt.figure()\n",
    "plt.plot(holdTimeList_Polarized, log_complicated(NCountList_Polarized, alpha, gamma), '+')\n",
    "#plt.plot(holdTimeList_Polarized, log_complicated_lin(holdTimeList_Polarized, alpha)+log_complicated(N0, alpha, gamma), '*')\n",
    "plt.show()"
   ]
  },
  {
   "cell_type": "code",
   "execution_count": 116,
   "metadata": {},
   "outputs": [
    {
     "data": {
      "text/plain": [
       "array([118933., 131354.,  53738.,  54679.,  54546.,  43819.,  48764.,\n",
       "        26971.,  27875.,  42382.,  32906.,  39670.,  57453., 126928.,\n",
       "        35010.,  97920.,  55003.,  98975.,  45375.,  61023.,  68041.,\n",
       "        85350.,  95501.,  36512.,  93937.,  59405.,  67497.,  38917.,\n",
       "        54616.,  62203., 126218.,  32540.,  61853.,  26841.,  38091.,\n",
       "        54931., 107713.,  35690.,  75146.,  62218., 107653.,  31381.,\n",
       "        50371.,  69390., 113113.,  58221.,  37549.,  73935.,  75128.,\n",
       "        82188.,  96944.,  90481.,  32615., 102829., 110424.,  59302.,\n",
       "       125439.,  54315.,  61029.,  41056.,  42890.,  44474.,  32802.,\n",
       "        56563., 103667., 118937.])"
      ]
     },
     "execution_count": 116,
     "metadata": {},
     "output_type": "execute_result"
    }
   ],
   "source": [
    "N0_guess = max(NCountList_Polarized)\n",
    "time_guess = max(holdTimeList_Polarized)\n",
    "NCountList_Polarized = NCountList_Polarized[holdTimeList_Polarized < 40]\n",
    "holdTimeList_Polarized = holdTimeList_Polarized[holdTimeList_Polarized < 40]\n",
    "N0_min = NCountList_Polarized[holdTimeList_Polarized == 0.5].mean()\n",
    "popt_test, pcov_test = curve_fit(N_polarized, holdTimeList_Polarized, NCountList_Polarized,\n",
    "                       p0 = [N0_guess, 1/time_guess, 1/(N0_guess**2*time_guess)],\n",
    "                       bounds=([0, 0, 0] , [np.inf, np.inf, np.inf])\n",
    "                      )\n",
    "perr = np.sqrt(np.diag(pcov))\n",
    "print(popt)\n",
    "print(\"The ratio between exponential decay / 3-body decay is \" + str(round(popt[2]*(popt[0])**2/(popt[1]),1)))"
   ]
  },
  {
   "cell_type": "code",
   "execution_count": 96,
   "metadata": {},
   "outputs": [
    {
     "data": {
      "text/plain": [
       "124634.83729883669"
      ]
     },
     "execution_count": 96,
     "metadata": {},
     "output_type": "execute_result"
    }
   ],
   "source": [
    "N_polarized(0, N0_min, 10, 1)"
   ]
  },
  {
   "cell_type": "code",
   "execution_count": 129,
   "metadata": {},
   "outputs": [
    {
     "data": {
      "text/plain": [
       "array([20. , 10. ,  8. ,  1. , 30. ,  4. , 50. , 30. ,  8. ,  4. ,  0.5,\n",
       "       10. ,  2. , 50. , 50. , 30. , 10. ,  1. ,  2. , 25. ,  1. ,  2. ,\n",
       "       20. , 30. ,  1. ,  4. ,  4. ,  8. , 10. ,  6. ,  0.5, 25. ,  8. ,\n",
       "       15. ,  2. , 30. , 20. , 15. ,  4. , 20. ,  8. , 30. , 15. , 25. ,\n",
       "        1. , 20. , 15. , 15. ,  0.5, 15. ,  6. , 50. , 25. ,  2. ,  2. ,\n",
       "       25. ,  4. ,  8. ,  0.5,  6. , 25. ,  0.5, 10. , 50. ,  6. ,  0.5,\n",
       "        1. , 20. ,  6. , 10. ,  6. , 50. ])"
      ]
     },
     "execution_count": 129,
     "metadata": {},
     "output_type": "execute_result"
    }
   ],
   "source": [
    "getHoldTimeList(imageIDList_Mixture)"
   ]
  },
  {
   "cell_type": "code",
   "execution_count": 131,
   "metadata": {},
   "outputs": [
    {
     "data": {
      "text/plain": [
       "array([ 0.5,  0.5, 15. ,  8. ,  6. , 15. , 10. , 30. , 30. , 15. , 30. ,\n",
       "       25. ,  8. ,  0.5, 15. ,  2. , 10. ,  1. , 50. , 20. ,  6. ,  4. ,\n",
       "        2. ,  2. , 25. ,  2. ,  8. ,  6. , 20. , 50. , 10. ,  8. ,  0.5,\n",
       "       25. ,  6. , 30. , 25. , 10. , 50. ,  1. , 20. ,  4. ,  8. , 50. ,\n",
       "        1. , 30. , 15. , 50. ,  6. ,  1. , 10. , 25. ,  4. ,  4. , 50. ,\n",
       "        4. ,  2. ,  4. , 30. ,  2. ,  1. ,  6. ,  0.5, 15. ,  8. , 20. ,\n",
       "       20. , 20. , 25. , 10. ,  1. ,  0.5])"
      ]
     },
     "execution_count": 131,
     "metadata": {},
     "output_type": "execute_result"
    }
   ],
   "source": [
    "getHoldTimeList(imageIDList_Polarized)"
   ]
  },
  {
   "cell_type": "code",
   "execution_count": 5,
   "metadata": {},
   "outputs": [
    {
     "ename": "NotSupportedError",
     "evalue": "Authentication plugin 'caching_sha2_password' is not supported",
     "output_type": "error",
     "traceback": [
      "\u001b[0;31m---------------------------------------------------------------------------\u001b[0m",
      "\u001b[0;31mNotSupportedError\u001b[0m                         Traceback (most recent call last)",
      "\u001b[0;32m<ipython-input-5-8dc4a81dbe07>\u001b[0m in \u001b[0;36m<module>\u001b[0;34m\u001b[0m\n\u001b[0;32m----> 1\u001b[0;31m mydb = mysql.connector.connect(host = \"localhost\",\n\u001b[0m\u001b[1;32m      2\u001b[0m                         \u001b[0muser\u001b[0m \u001b[0;34m=\u001b[0m \u001b[0;34m\"student\"\u001b[0m\u001b[0;34m,\u001b[0m\u001b[0;34m\u001b[0m\u001b[0;34m\u001b[0m\u001b[0m\n\u001b[1;32m      3\u001b[0m                         \u001b[0mpassword\u001b[0m \u001b[0;34m=\u001b[0m \u001b[0;34m\"w0lfg4ng\"\u001b[0m\u001b[0;34m,\u001b[0m\u001b[0;34m\u001b[0m\u001b[0;34m\u001b[0m\u001b[0m\n\u001b[1;32m      4\u001b[0m                         \u001b[0mdatabase\u001b[0m \u001b[0;34m=\u001b[0m \u001b[0;34m\"imagesdypoledatabase\"\u001b[0m\u001b[0;34m,\u001b[0m\u001b[0;34m\u001b[0m\u001b[0;34m\u001b[0m\u001b[0m\n\u001b[1;32m      5\u001b[0m                         auth_plugin = 'mysql_native_password')\n",
      "\u001b[0;32m/usr/local/lib/python3.9/site-packages/mysql/connector/__init__.py\u001b[0m in \u001b[0;36mconnect\u001b[0;34m(*args, **kwargs)\u001b[0m\n\u001b[1;32m    177\u001b[0m         \u001b[0;32mreturn\u001b[0m \u001b[0mCMySQLConnection\u001b[0m\u001b[0;34m(\u001b[0m\u001b[0;34m*\u001b[0m\u001b[0margs\u001b[0m\u001b[0;34m,\u001b[0m \u001b[0;34m**\u001b[0m\u001b[0mkwargs\u001b[0m\u001b[0;34m)\u001b[0m\u001b[0;34m\u001b[0m\u001b[0;34m\u001b[0m\u001b[0m\n\u001b[1;32m    178\u001b[0m     \u001b[0;32melse\u001b[0m\u001b[0;34m:\u001b[0m\u001b[0;34m\u001b[0m\u001b[0;34m\u001b[0m\u001b[0m\n\u001b[0;32m--> 179\u001b[0;31m         \u001b[0;32mreturn\u001b[0m \u001b[0mMySQLConnection\u001b[0m\u001b[0;34m(\u001b[0m\u001b[0;34m*\u001b[0m\u001b[0margs\u001b[0m\u001b[0;34m,\u001b[0m \u001b[0;34m**\u001b[0m\u001b[0mkwargs\u001b[0m\u001b[0;34m)\u001b[0m\u001b[0;34m\u001b[0m\u001b[0;34m\u001b[0m\u001b[0m\n\u001b[0m\u001b[1;32m    180\u001b[0m \u001b[0mConnect\u001b[0m \u001b[0;34m=\u001b[0m \u001b[0mconnect\u001b[0m  \u001b[0;31m# pylint: disable=C0103\u001b[0m\u001b[0;34m\u001b[0m\u001b[0;34m\u001b[0m\u001b[0m\n\u001b[1;32m    181\u001b[0m \u001b[0;34m\u001b[0m\u001b[0m\n",
      "\u001b[0;32m/usr/local/lib/python3.9/site-packages/mysql/connector/connection.py\u001b[0m in \u001b[0;36m__init__\u001b[0;34m(self, *args, **kwargs)\u001b[0m\n\u001b[1;32m     93\u001b[0m \u001b[0;34m\u001b[0m\u001b[0m\n\u001b[1;32m     94\u001b[0m         \u001b[0;32mif\u001b[0m \u001b[0mlen\u001b[0m\u001b[0;34m(\u001b[0m\u001b[0mkwargs\u001b[0m\u001b[0;34m)\u001b[0m \u001b[0;34m>\u001b[0m \u001b[0;36m0\u001b[0m\u001b[0;34m:\u001b[0m\u001b[0;34m\u001b[0m\u001b[0;34m\u001b[0m\u001b[0m\n\u001b[0;32m---> 95\u001b[0;31m             \u001b[0mself\u001b[0m\u001b[0;34m.\u001b[0m\u001b[0mconnect\u001b[0m\u001b[0;34m(\u001b[0m\u001b[0;34m**\u001b[0m\u001b[0mkwargs\u001b[0m\u001b[0;34m)\u001b[0m\u001b[0;34m\u001b[0m\u001b[0;34m\u001b[0m\u001b[0m\n\u001b[0m\u001b[1;32m     96\u001b[0m \u001b[0;34m\u001b[0m\u001b[0m\n\u001b[1;32m     97\u001b[0m     \u001b[0;32mdef\u001b[0m \u001b[0m_do_handshake\u001b[0m\u001b[0;34m(\u001b[0m\u001b[0mself\u001b[0m\u001b[0;34m)\u001b[0m\u001b[0;34m:\u001b[0m\u001b[0;34m\u001b[0m\u001b[0;34m\u001b[0m\u001b[0m\n",
      "\u001b[0;32m/usr/local/lib/python3.9/site-packages/mysql/connector/abstracts.py\u001b[0m in \u001b[0;36mconnect\u001b[0;34m(self, **kwargs)\u001b[0m\n\u001b[1;32m    714\u001b[0m \u001b[0;34m\u001b[0m\u001b[0m\n\u001b[1;32m    715\u001b[0m         \u001b[0mself\u001b[0m\u001b[0;34m.\u001b[0m\u001b[0mdisconnect\u001b[0m\u001b[0;34m(\u001b[0m\u001b[0;34m)\u001b[0m\u001b[0;34m\u001b[0m\u001b[0;34m\u001b[0m\u001b[0m\n\u001b[0;32m--> 716\u001b[0;31m         \u001b[0mself\u001b[0m\u001b[0;34m.\u001b[0m\u001b[0m_open_connection\u001b[0m\u001b[0;34m(\u001b[0m\u001b[0;34m)\u001b[0m\u001b[0;34m\u001b[0m\u001b[0;34m\u001b[0m\u001b[0m\n\u001b[0m\u001b[1;32m    717\u001b[0m         \u001b[0mself\u001b[0m\u001b[0;34m.\u001b[0m\u001b[0m_post_connection\u001b[0m\u001b[0;34m(\u001b[0m\u001b[0;34m)\u001b[0m\u001b[0;34m\u001b[0m\u001b[0;34m\u001b[0m\u001b[0m\n\u001b[1;32m    718\u001b[0m \u001b[0;34m\u001b[0m\u001b[0m\n",
      "\u001b[0;32m/usr/local/lib/python3.9/site-packages/mysql/connector/connection.py\u001b[0m in \u001b[0;36m_open_connection\u001b[0;34m(self)\u001b[0m\n\u001b[1;32m    206\u001b[0m         \u001b[0mself\u001b[0m\u001b[0;34m.\u001b[0m\u001b[0m_socket\u001b[0m\u001b[0;34m.\u001b[0m\u001b[0mopen_connection\u001b[0m\u001b[0;34m(\u001b[0m\u001b[0;34m)\u001b[0m\u001b[0;34m\u001b[0m\u001b[0;34m\u001b[0m\u001b[0m\n\u001b[1;32m    207\u001b[0m         \u001b[0mself\u001b[0m\u001b[0;34m.\u001b[0m\u001b[0m_do_handshake\u001b[0m\u001b[0;34m(\u001b[0m\u001b[0;34m)\u001b[0m\u001b[0;34m\u001b[0m\u001b[0;34m\u001b[0m\u001b[0m\n\u001b[0;32m--> 208\u001b[0;31m         self._do_auth(self._user, self._password,\n\u001b[0m\u001b[1;32m    209\u001b[0m                       \u001b[0mself\u001b[0m\u001b[0;34m.\u001b[0m\u001b[0m_database\u001b[0m\u001b[0;34m,\u001b[0m \u001b[0mself\u001b[0m\u001b[0;34m.\u001b[0m\u001b[0m_client_flags\u001b[0m\u001b[0;34m,\u001b[0m \u001b[0mself\u001b[0m\u001b[0;34m.\u001b[0m\u001b[0m_charset_id\u001b[0m\u001b[0;34m,\u001b[0m\u001b[0;34m\u001b[0m\u001b[0;34m\u001b[0m\u001b[0m\n\u001b[1;32m    210\u001b[0m                       self._ssl)\n",
      "\u001b[0;32m/usr/local/lib/python3.9/site-packages/mysql/connector/connection.py\u001b[0m in \u001b[0;36m_do_auth\u001b[0;34m(self, username, password, database, client_flags, charset, ssl_options)\u001b[0m\n\u001b[1;32m    142\u001b[0m             auth_plugin=self._auth_plugin)\n\u001b[1;32m    143\u001b[0m         \u001b[0mself\u001b[0m\u001b[0;34m.\u001b[0m\u001b[0m_socket\u001b[0m\u001b[0;34m.\u001b[0m\u001b[0msend\u001b[0m\u001b[0;34m(\u001b[0m\u001b[0mpacket\u001b[0m\u001b[0;34m)\u001b[0m\u001b[0;34m\u001b[0m\u001b[0;34m\u001b[0m\u001b[0m\n\u001b[0;32m--> 144\u001b[0;31m         \u001b[0mself\u001b[0m\u001b[0;34m.\u001b[0m\u001b[0m_auth_switch_request\u001b[0m\u001b[0;34m(\u001b[0m\u001b[0musername\u001b[0m\u001b[0;34m,\u001b[0m \u001b[0mpassword\u001b[0m\u001b[0;34m)\u001b[0m\u001b[0;34m\u001b[0m\u001b[0;34m\u001b[0m\u001b[0m\n\u001b[0m\u001b[1;32m    145\u001b[0m \u001b[0;34m\u001b[0m\u001b[0m\n\u001b[1;32m    146\u001b[0m         \u001b[0;32mif\u001b[0m \u001b[0;32mnot\u001b[0m \u001b[0;34m(\u001b[0m\u001b[0mclient_flags\u001b[0m \u001b[0;34m&\u001b[0m \u001b[0mClientFlag\u001b[0m\u001b[0;34m.\u001b[0m\u001b[0mCONNECT_WITH_DB\u001b[0m\u001b[0;34m)\u001b[0m \u001b[0;32mand\u001b[0m \u001b[0mdatabase\u001b[0m\u001b[0;34m:\u001b[0m\u001b[0;34m\u001b[0m\u001b[0;34m\u001b[0m\u001b[0m\n",
      "\u001b[0;32m/usr/local/lib/python3.9/site-packages/mysql/connector/connection.py\u001b[0m in \u001b[0;36m_auth_switch_request\u001b[0;34m(self, username, password)\u001b[0m\n\u001b[1;32m    165\u001b[0m             (new_auth_plugin,\n\u001b[1;32m    166\u001b[0m              auth_data) = self._protocol.parse_auth_switch_request(packet)\n\u001b[0;32m--> 167\u001b[0;31m             auth = get_auth_plugin(new_auth_plugin)(\n\u001b[0m\u001b[1;32m    168\u001b[0m                 auth_data, password=password, ssl_enabled=self._ssl_active)\n\u001b[1;32m    169\u001b[0m             \u001b[0mresponse\u001b[0m \u001b[0;34m=\u001b[0m \u001b[0mauth\u001b[0m\u001b[0;34m.\u001b[0m\u001b[0mauth_response\u001b[0m\u001b[0;34m(\u001b[0m\u001b[0;34m)\u001b[0m\u001b[0;34m\u001b[0m\u001b[0;34m\u001b[0m\u001b[0m\n",
      "\u001b[0;32m/usr/local/lib/python3.9/site-packages/mysql/connector/authentication.py\u001b[0m in \u001b[0;36mget_auth_plugin\u001b[0;34m(plugin_name)\u001b[0m\n\u001b[1;32m    188\u001b[0m             \u001b[0;32mreturn\u001b[0m \u001b[0mauthclass\u001b[0m\u001b[0;34m\u001b[0m\u001b[0;34m\u001b[0m\u001b[0m\n\u001b[1;32m    189\u001b[0m \u001b[0;34m\u001b[0m\u001b[0m\n\u001b[0;32m--> 190\u001b[0;31m     raise errors.NotSupportedError(\n\u001b[0m\u001b[1;32m    191\u001b[0m         \"Authentication plugin '{0}' is not supported\".format(plugin_name))\n",
      "\u001b[0;31mNotSupportedError\u001b[0m: Authentication plugin 'caching_sha2_password' is not supported"
     ]
    }
   ],
   "source": [
    "mydb = mysql.connector.connect(host = \"localhost\",\n",
    "                        user = \"student\",\n",
    "                        password = \"w0lfg4ng\",\n",
    "                        database = \"imagesdypoledatabase\",\n",
    "                        auth_plugin = 'mysql_native_password')\n",
    "    #print('Local connection established')"
   ]
  },
  {
   "cell_type": "code",
   "execution_count": null,
   "metadata": {},
   "outputs": [],
   "source": []
  }
 ],
 "metadata": {
  "kernelspec": {
   "display_name": "Python 3",
   "language": "python",
   "name": "python3"
  },
  "language_info": {
   "codemirror_mode": {
    "name": "ipython",
    "version": 3
   },
   "file_extension": ".py",
   "mimetype": "text/x-python",
   "name": "python",
   "nbconvert_exporter": "python",
   "pygments_lexer": "ipython3",
   "version": "3.9.0"
  },
  "latex_envs": {
   "LaTeX_envs_menu_present": true,
   "autoclose": false,
   "autocomplete": true,
   "bibliofile": "biblio.bib",
   "cite_by": "apalike",
   "current_citInitial": 1,
   "eqLabelWithNumbers": true,
   "eqNumInitial": 1,
   "hotkeys": {
    "equation": "Ctrl-E",
    "itemize": "Ctrl-I"
   },
   "labels_anchors": false,
   "latex_user_defs": false,
   "report_style_numbering": false,
   "user_envs_cfg": false
  }
 },
 "nbformat": 4,
 "nbformat_minor": 4
}
