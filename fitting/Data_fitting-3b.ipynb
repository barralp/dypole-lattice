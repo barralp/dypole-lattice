{
 "cells": [
  {
   "cell_type": "code",
   "execution_count": 11,
   "metadata": {},
   "outputs": [],
   "source": [
    "# -*- coding: utf-8 -*-\n",
    "\"\"\"\n",
    "Created on Thu Jul 30 10:51:32 2020\n",
    "\n",
    "@author: Dypole_Imaging\n",
    "\"\"\"\n",
    "import numpy as np\n",
    "import mysql.connector\n",
    "import os\n",
    "import time\n",
    "import numpy as np\n",
    "import matplotlib.pyplot as plt\n",
    "from scipy.optimize import curve_fit\n",
    "from scipy.integrate import solve_ivp\n",
    "import pandas as pd\n",
    "\n",
    "\n",
    "\"\"\"\n",
    "imageID of P = 100mW / 2.5GHz red / spin mixuture 77939 - 78010\n",
    "imageID of P = 100mW / 2.5GHz red / non spin polarized 78013 - \n",
    "\"\"\"\n",
    "\n",
    "MYSQLserverIP = \"192.168.1.133\"\n",
    "username = \"root\"\n",
    "password = \"w0lfg4ng\"\n",
    "databaseName = \"dypoledatabase\"\n",
    "\n",
    "typeOfConnection = \"global\"\n",
    "#### Used functions ####\n",
    "\n",
    "def dataToArray(pathFile):\n",
    "    # Convert camera fits data to binary format\n",
    "    with open(pathFile, 'rb') as file:\n",
    "        image = fits.getdata(file)\n",
    "    return image[0].ravel().tolist(), image[1].ravel().tolist(), image[2].ravel().tolist()   # atoms, noAtoms, dark\n",
    "\n",
    "def updateNewImage():\n",
    "    db = setConnection()\n",
    "    cursor = db.cursor()\n",
    "    sql_query = \"\"\"UPDATE updates SET newImage = 1 WHERE idUpdates = 0;\"\"\"\n",
    "    cursor.execute(sql_query)\n",
    "    db.commit()\n",
    "    cursor.close()\n",
    "    db.close()\n",
    "\n",
    "def getLastID():\n",
    "    sql_query = \"\"\"SELECT runID FROM ciceroOut ORDER BY runID DESC LIMIT 1;\"\"\"\n",
    "    lastRunID = executeGetQuery(sql_query)[0][0]\n",
    "    sql_query = \"\"\"SELECT sequenceID FROM sequence ORDER BY sequenceID DESC LIMIT 1;\"\"\"\n",
    "    lastSequenceID = executeGetQuery(sql_query)[0][0]\n",
    "    return lastRunID, lastSequenceID\n",
    "\n",
    "def getLastImageID():\n",
    "    sql_query = \"\"\"SELECT imageID FROM images ORDER BY imageID DESC LIMIT 1;\"\"\"\n",
    "    lastImageID = executeGetQuery(sql_query)[0][0]\n",
    "    return lastImageID\n",
    "\n",
    "def getTimestamp(imageID):\n",
    "    sql_query = \"SELECT timestamp FROM images WHERE imageID = \" + str(imageID) + \";\"\n",
    "    timestamp = executeGetQuery(sql_query)[0][0]\n",
    "    return timestamp\n",
    "\n",
    "def getLastImageIDs(n):\n",
    "    sql_query = \"\"\"SELECT imageID FROM images ORDER BY imageID DESC LIMIT \"\"\" + str(n) + \"\"\";\"\"\"\n",
    "    lastImageIDsTupleList = executeGetQuery(sql_query)\n",
    "    lastImageIDs = listTupleToList(lastImageIDsTupleList)\n",
    "    return lastImageIDs\n",
    "\n",
    "def listTupleToList(List):\n",
    "    outputList = []\n",
    "    for oneTuple in List:\n",
    "        outputList += [oneTuple[0]]\n",
    "    return outputList\n",
    "\n",
    "def setConnection(typeOfConnection = 'global'):\n",
    "    if typeOfConnection == 'local':\n",
    "        return setLocalConnection()\n",
    "    elif typeOfConnection == 'global':\n",
    "        return setDistantConnection()\n",
    "    else:\n",
    "        print('Set what type of connection you want')\n",
    "\n",
    "def setLocalConnection():\n",
    "    # Open database connection\n",
    "    mydb = mysql.connector.connect(host = \"localhost\",\n",
    "                        user = \"student\",\n",
    "                        password = \"w0lfg4ng\",\n",
    "                        database = \"imagesdypoledatabase\")\n",
    "    #print('Local connection established')\n",
    "    return mydb\n",
    "\n",
    "def setDistantConnection():\n",
    "    # Open database connection\n",
    "    mydb = mysql.connector.connect(host = MYSQLserverIP,\n",
    "                        user = username,\n",
    "                        password = password,\n",
    "                        database = databaseName)\n",
    "    #print('Distant connection established')\n",
    "    return mydb\n",
    "\n",
    "def getRunIDFromImageID(imageID):\n",
    "    sql_query = \"SELECT runID_fk FROM images WHERE imageID = {} ;\".format(imageID)\n",
    "    runID_fk = executeGetQuery(sql_query)[0][0]\n",
    "    return runID_fk\n",
    "\n",
    "def getNCount(imageID):\n",
    "    try:\n",
    "        runID_fk = getRunIDFromImageID(imageID)\n",
    "        sql_query = \"SELECT nCount FROM nCounts WHERE runID_fk = {} ;\".format(runID_fk)\n",
    "        nCount = executeGetQuery(sql_query)[0][0]\n",
    "    except:\n",
    "        nCount = 0.0\n",
    "    return nCount\n",
    "\n",
    "def executeGetQuery(sql_query): # works when you don't need to use db.commit, so for read only functions\n",
    "    db = setConnection()\n",
    "    cursor = db.cursor()\n",
    "    cursor.execute(sql_query)\n",
    "    cursorResult = cursor.fetchall()\n",
    "    cursor.close()\n",
    "    db.close()\n",
    "    return cursorResult    \n",
    "    \n",
    "def saveLocally(nCountArray, holdtimeArray, filename = 'data'):\n",
    "    filename += '.npy'\n",
    "    file = open(filename, 'wb')\n",
    "    np.save(np.array([nCountArray, holdtimeArray]), file, allow_pickle = True)"
   ]
  },
  {
   "cell_type": "code",
   "execution_count": 6,
   "metadata": {},
   "outputs": [
    {
     "data": {
      "text/plain": [
       "0.0"
      ]
     },
     "execution_count": 6,
     "metadata": {},
     "output_type": "execute_result"
    }
   ],
   "source": [
    "getNCount(89594)"
   ]
  },
  {
   "cell_type": "code",
   "execution_count": 12,
   "metadata": {},
   "outputs": [],
   "source": [
    "def getNCountList(imageIDList):\n",
    "    NCounts = np.zeros(len(imageIDList))\n",
    "    i = 0\n",
    "    for imageID in imageIDList:\n",
    "        NCounts[i] = getNCount(imageID)\n",
    "        i += 1\n",
    "    return NCounts\n",
    "\n",
    "def getHoldTime(imageID):\n",
    "    runID = getRunIDFromImageID(imageID)\n",
    "    sql_query = \"SELECT BECHoldTime FROM ciceroOut WHERE runID = {} ;\".format(runID)\n",
    "    holdTime = executeGetQuery(sql_query)[0][0]\n",
    "    return float(holdTime)\n",
    "\n",
    "def getHoldTimeList(imageIDList):\n",
    "    holdTimeList = np.zeros(len(imageIDList))\n",
    "    i = 0\n",
    "    for imageID in imageIDList:\n",
    "        holdTimeList[i] = getHoldTime(imageID)\n",
    "        i += 1\n",
    "    return holdTimeList\n",
    "\n",
    "def createDataFrame(imageIDList):\n",
    "    df_size = len(imageIDList)\n",
    "    dictionnary = {'imageID' : [], 'BECHoldTime' : [], 'TOF' : [], 'nCount' : []}\n",
    "    df = pd.DataFrame(dictionnary)\n",
    "    for imageID in imageIDList:\n",
    "        runID = getRunIDFromImageID(imageID)\n",
    "        sql_query = \"SELECT BECHoldTime, TOF FROM ciceroOut WHERE runID = {} ;\".format(runID)\n",
    "        BECHoldTime, TOF = executeGetQuery(sql_query)[0][:]\n",
    "        sql_query = \"SELECT nCount FROM nCounts WHERE runID_fk = {} ;\".format(runID)\n",
    "        nCount = executeGetQuery(sql_query)[0][0]\n",
    "        df = df.append({'imageID' : int(round(imageID)), 'BECHoldTime' : BECHoldTime, 'TOF' : TOF, 'nCount' : nCount}, ignore_index = True)\n",
    "    return df"
   ]
  },
  {
   "cell_type": "code",
   "execution_count": null,
   "metadata": {},
   "outputs": [],
   "source": [
    "imageIDList_Mixture_data = np.array(list(range(89594,89688+1)))\n",
    "NCountList_Mixture_data = getNCountList(imageIDList_Mixture_data)\n",
    "holdTimeList_Mixture_data = getHoldTimeList(imageIDList_Mixture_data)\n",
    "\n",
    "imageIDList_Polarized_data = np.array(list(range(89806,89901+1)))\n",
    "NCountList_Polarized_data = getNCountList(imageIDList_Polarized_data)\n",
    "holdTimeList_Polarized_data = getHoldTimeList(imageIDList_Polarized_data)"
   ]
  },
  {
   "cell_type": "code",
   "execution_count": null,
   "metadata": {},
   "outputs": [],
   "source": [
    "imageIDList = np.array(list(range(89594,89688+1))+list(range(89806,89901+1)))\n",
    "df = createDataFrame(imageIDList)"
   ]
  },
  {
   "cell_type": "code",
   "execution_count": null,
   "metadata": {},
   "outputs": [],
   "source": [
    "labels = {'1GHz' : [89594, 89688], '2GHz' : [89594, 89688]}\n",
    "range(labels['1GHz'])"
   ]
  },
  {
   "cell_type": "code",
   "execution_count": 13,
   "metadata": {},
   "outputs": [],
   "source": [
    "\"\"\"imageIDList_Mixture_data = np.array(list(range(89594,89688+1)))\n",
    "df_size = len(imageIDList_Mixture_data)\n",
    "dictionnary = {'imageID' : imageIDList_Mixture_data, 'BECHoldtime' : [np.nan]*df_size,\n",
    "               'TOF' : [np.nan]*df_size, 'nCount' : [np.nan]*df_size}\n",
    "df = pd.DataFrame(dictionnary)\n",
    "df = df.append({'imageID':5, 'nCount':2}, ignore_index = True)\n",
    "\"\"\"\n",
    "\n",
    "# [detuning, field direction], [imageID_start, imageID_end]\n",
    "labels = [[['1GHz', 'Bz', 3], [89200, 89295]],\n",
    "          [['1GHz', 'Bz', 2], [89297, 89391]],\n",
    "          [['1GHz', 'By', 3], [89396, 89491]],\n",
    "          [['1GHz', 'By', 2], [89494, 89588]],\n",
    "          [['1.5GHz', 'Bz', 3], [89594, 89688]],\n",
    "          [['1.5GHz', 'Bz', 2], [89806, 89901]],\n",
    "          [['1.5GHz', 'By', 3], [89904, 89999]],\n",
    "          [['1.5GHz', 'By', 2], [90000, 90097]], # This last one is uncertain\n",
    "          [['2GHz', 'By', 3], [90101, 90195]],\n",
    "          [['2GHz', 'By', 4], [90206, 90300]],\n",
    "         ]\n",
    "excluded = [89934, 90046, 90051, 90052]\n",
    "excluded += [89416, 89418, 89877, 89241]  # My own findings\n",
    "\n",
    "def createLabeledDataFrame(labels):\n",
    "    imageIDList = []\n",
    "    for label in labels:\n",
    "        imageIDList += list(range(label[1][0], label[1][1]+1))\n",
    "    detuning = []\n",
    "    field_direction = []\n",
    "    TOF = []\n",
    "    for imageID in imageIDList:\n",
    "        for label in labels:\n",
    "            if imageID in range(label[1][0], label[1][1]+1):\n",
    "                detuning += [label[0][0]]\n",
    "                field_direction += [label[0][1]]\n",
    "                TOF += [label[0][2]]\n",
    "    df = createDataFrame(imageIDList)\n",
    "    df['detuning'] = detuning\n",
    "    df['field_direction'] = field_direction\n",
    "    df['TOF'] = TOF\n",
    "    return df"
   ]
  },
  {
   "cell_type": "code",
   "execution_count": 44,
   "metadata": {},
   "outputs": [],
   "source": [
    "df = createLabeledDataFrame(labels)\n",
    "df['BECHoldTime'] = df['BECHoldTime'].astype(float)\n",
    "#df.to_pickle('data_save.pickle')"
   ]
  },
  {
   "cell_type": "code",
   "execution_count": 14,
   "metadata": {},
   "outputs": [
    {
     "data": {
      "text/html": [
       "<div>\n",
       "<style scoped>\n",
       "    .dataframe tbody tr th:only-of-type {\n",
       "        vertical-align: middle;\n",
       "    }\n",
       "\n",
       "    .dataframe tbody tr th {\n",
       "        vertical-align: top;\n",
       "    }\n",
       "\n",
       "    .dataframe thead th {\n",
       "        text-align: right;\n",
       "    }\n",
       "</style>\n",
       "<table border=\"1\" class=\"dataframe\">\n",
       "  <thead>\n",
       "    <tr style=\"text-align: right;\">\n",
       "      <th></th>\n",
       "      <th>imageID</th>\n",
       "      <th>BECHoldTime</th>\n",
       "      <th>TOF</th>\n",
       "      <th>nCount</th>\n",
       "      <th>detuning</th>\n",
       "      <th>field_direction</th>\n",
       "    </tr>\n",
       "  </thead>\n",
       "  <tbody>\n",
       "    <tr>\n",
       "      <th>0</th>\n",
       "      <td>89200.0</td>\n",
       "      <td>18.0</td>\n",
       "      <td>3</td>\n",
       "      <td>23144.0</td>\n",
       "      <td>1GHz</td>\n",
       "      <td>Bz</td>\n",
       "    </tr>\n",
       "    <tr>\n",
       "      <th>1</th>\n",
       "      <td>89201.0</td>\n",
       "      <td>10.0</td>\n",
       "      <td>3</td>\n",
       "      <td>36880.0</td>\n",
       "      <td>1GHz</td>\n",
       "      <td>Bz</td>\n",
       "    </tr>\n",
       "    <tr>\n",
       "      <th>2</th>\n",
       "      <td>89202.0</td>\n",
       "      <td>20.0</td>\n",
       "      <td>3</td>\n",
       "      <td>17243.0</td>\n",
       "      <td>1GHz</td>\n",
       "      <td>Bz</td>\n",
       "    </tr>\n",
       "    <tr>\n",
       "      <th>3</th>\n",
       "      <td>89203.0</td>\n",
       "      <td>4.0</td>\n",
       "      <td>3</td>\n",
       "      <td>45040.0</td>\n",
       "      <td>1GHz</td>\n",
       "      <td>Bz</td>\n",
       "    </tr>\n",
       "    <tr>\n",
       "      <th>4</th>\n",
       "      <td>89204.0</td>\n",
       "      <td>2.5</td>\n",
       "      <td>3</td>\n",
       "      <td>60430.0</td>\n",
       "      <td>1GHz</td>\n",
       "      <td>Bz</td>\n",
       "    </tr>\n",
       "    <tr>\n",
       "      <th>...</th>\n",
       "      <td>...</td>\n",
       "      <td>...</td>\n",
       "      <td>...</td>\n",
       "      <td>...</td>\n",
       "      <td>...</td>\n",
       "      <td>...</td>\n",
       "    </tr>\n",
       "    <tr>\n",
       "      <th>952</th>\n",
       "      <td>90296.0</td>\n",
       "      <td>8.0</td>\n",
       "      <td>4</td>\n",
       "      <td>59973.0</td>\n",
       "      <td>2GHz</td>\n",
       "      <td>By</td>\n",
       "    </tr>\n",
       "    <tr>\n",
       "      <th>953</th>\n",
       "      <td>90297.0</td>\n",
       "      <td>0.5</td>\n",
       "      <td>4</td>\n",
       "      <td>87060.0</td>\n",
       "      <td>2GHz</td>\n",
       "      <td>By</td>\n",
       "    </tr>\n",
       "    <tr>\n",
       "      <th>954</th>\n",
       "      <td>90298.0</td>\n",
       "      <td>5.0</td>\n",
       "      <td>4</td>\n",
       "      <td>67831.0</td>\n",
       "      <td>2GHz</td>\n",
       "      <td>By</td>\n",
       "    </tr>\n",
       "    <tr>\n",
       "      <th>955</th>\n",
       "      <td>90299.0</td>\n",
       "      <td>20.0</td>\n",
       "      <td>4</td>\n",
       "      <td>45097.0</td>\n",
       "      <td>2GHz</td>\n",
       "      <td>By</td>\n",
       "    </tr>\n",
       "    <tr>\n",
       "      <th>956</th>\n",
       "      <td>90300.0</td>\n",
       "      <td>9.0</td>\n",
       "      <td>4</td>\n",
       "      <td>52432.0</td>\n",
       "      <td>2GHz</td>\n",
       "      <td>By</td>\n",
       "    </tr>\n",
       "  </tbody>\n",
       "</table>\n",
       "<p>957 rows × 6 columns</p>\n",
       "</div>"
      ],
      "text/plain": [
       "     imageID  BECHoldTime  TOF   nCount detuning field_direction\n",
       "0    89200.0         18.0    3  23144.0     1GHz              Bz\n",
       "1    89201.0         10.0    3  36880.0     1GHz              Bz\n",
       "2    89202.0         20.0    3  17243.0     1GHz              Bz\n",
       "3    89203.0          4.0    3  45040.0     1GHz              Bz\n",
       "4    89204.0          2.5    3  60430.0     1GHz              Bz\n",
       "..       ...          ...  ...      ...      ...             ...\n",
       "952  90296.0          8.0    4  59973.0     2GHz              By\n",
       "953  90297.0          0.5    4  87060.0     2GHz              By\n",
       "954  90298.0          5.0    4  67831.0     2GHz              By\n",
       "955  90299.0         20.0    4  45097.0     2GHz              By\n",
       "956  90300.0          9.0    4  52432.0     2GHz              By\n",
       "\n",
       "[957 rows x 6 columns]"
      ]
     },
     "execution_count": 14,
     "metadata": {},
     "output_type": "execute_result"
    }
   ],
   "source": [
    "df = pd.read_pickle('data_save.pickle')\n",
    "df"
   ]
  },
  {
   "cell_type": "code",
   "execution_count": 15,
   "metadata": {},
   "outputs": [
    {
     "data": {
      "text/html": [
       "<div>\n",
       "<style scoped>\n",
       "    .dataframe tbody tr th:only-of-type {\n",
       "        vertical-align: middle;\n",
       "    }\n",
       "\n",
       "    .dataframe tbody tr th {\n",
       "        vertical-align: top;\n",
       "    }\n",
       "\n",
       "    .dataframe thead th {\n",
       "        text-align: right;\n",
       "    }\n",
       "</style>\n",
       "<table border=\"1\" class=\"dataframe\">\n",
       "  <thead>\n",
       "    <tr style=\"text-align: right;\">\n",
       "      <th></th>\n",
       "      <th>imageID</th>\n",
       "      <th>BECHoldTime</th>\n",
       "      <th>TOF</th>\n",
       "      <th>nCount</th>\n",
       "      <th>detuning</th>\n",
       "      <th>field_direction</th>\n",
       "    </tr>\n",
       "  </thead>\n",
       "  <tbody>\n",
       "    <tr>\n",
       "      <th>0</th>\n",
       "      <td>89200.0</td>\n",
       "      <td>18.0</td>\n",
       "      <td>3</td>\n",
       "      <td>23144.0</td>\n",
       "      <td>1GHz</td>\n",
       "      <td>Bz</td>\n",
       "    </tr>\n",
       "    <tr>\n",
       "      <th>1</th>\n",
       "      <td>89201.0</td>\n",
       "      <td>10.0</td>\n",
       "      <td>3</td>\n",
       "      <td>36880.0</td>\n",
       "      <td>1GHz</td>\n",
       "      <td>Bz</td>\n",
       "    </tr>\n",
       "    <tr>\n",
       "      <th>2</th>\n",
       "      <td>89202.0</td>\n",
       "      <td>20.0</td>\n",
       "      <td>3</td>\n",
       "      <td>17243.0</td>\n",
       "      <td>1GHz</td>\n",
       "      <td>Bz</td>\n",
       "    </tr>\n",
       "    <tr>\n",
       "      <th>3</th>\n",
       "      <td>89203.0</td>\n",
       "      <td>4.0</td>\n",
       "      <td>3</td>\n",
       "      <td>45040.0</td>\n",
       "      <td>1GHz</td>\n",
       "      <td>Bz</td>\n",
       "    </tr>\n",
       "    <tr>\n",
       "      <th>4</th>\n",
       "      <td>89204.0</td>\n",
       "      <td>2.5</td>\n",
       "      <td>3</td>\n",
       "      <td>60430.0</td>\n",
       "      <td>1GHz</td>\n",
       "      <td>Bz</td>\n",
       "    </tr>\n",
       "    <tr>\n",
       "      <th>...</th>\n",
       "      <td>...</td>\n",
       "      <td>...</td>\n",
       "      <td>...</td>\n",
       "      <td>...</td>\n",
       "      <td>...</td>\n",
       "      <td>...</td>\n",
       "    </tr>\n",
       "    <tr>\n",
       "      <th>952</th>\n",
       "      <td>90296.0</td>\n",
       "      <td>8.0</td>\n",
       "      <td>4</td>\n",
       "      <td>59973.0</td>\n",
       "      <td>2GHz</td>\n",
       "      <td>By</td>\n",
       "    </tr>\n",
       "    <tr>\n",
       "      <th>953</th>\n",
       "      <td>90297.0</td>\n",
       "      <td>0.5</td>\n",
       "      <td>4</td>\n",
       "      <td>87060.0</td>\n",
       "      <td>2GHz</td>\n",
       "      <td>By</td>\n",
       "    </tr>\n",
       "    <tr>\n",
       "      <th>954</th>\n",
       "      <td>90298.0</td>\n",
       "      <td>5.0</td>\n",
       "      <td>4</td>\n",
       "      <td>67831.0</td>\n",
       "      <td>2GHz</td>\n",
       "      <td>By</td>\n",
       "    </tr>\n",
       "    <tr>\n",
       "      <th>955</th>\n",
       "      <td>90299.0</td>\n",
       "      <td>20.0</td>\n",
       "      <td>4</td>\n",
       "      <td>45097.0</td>\n",
       "      <td>2GHz</td>\n",
       "      <td>By</td>\n",
       "    </tr>\n",
       "    <tr>\n",
       "      <th>956</th>\n",
       "      <td>90300.0</td>\n",
       "      <td>9.0</td>\n",
       "      <td>4</td>\n",
       "      <td>52432.0</td>\n",
       "      <td>2GHz</td>\n",
       "      <td>By</td>\n",
       "    </tr>\n",
       "  </tbody>\n",
       "</table>\n",
       "<p>949 rows × 6 columns</p>\n",
       "</div>"
      ],
      "text/plain": [
       "     imageID  BECHoldTime  TOF   nCount detuning field_direction\n",
       "0    89200.0         18.0    3  23144.0     1GHz              Bz\n",
       "1    89201.0         10.0    3  36880.0     1GHz              Bz\n",
       "2    89202.0         20.0    3  17243.0     1GHz              Bz\n",
       "3    89203.0          4.0    3  45040.0     1GHz              Bz\n",
       "4    89204.0          2.5    3  60430.0     1GHz              Bz\n",
       "..       ...          ...  ...      ...      ...             ...\n",
       "952  90296.0          8.0    4  59973.0     2GHz              By\n",
       "953  90297.0          0.5    4  87060.0     2GHz              By\n",
       "954  90298.0          5.0    4  67831.0     2GHz              By\n",
       "955  90299.0         20.0    4  45097.0     2GHz              By\n",
       "956  90300.0          9.0    4  52432.0     2GHz              By\n",
       "\n",
       "[949 rows x 6 columns]"
      ]
     },
     "execution_count": 15,
     "metadata": {},
     "output_type": "execute_result"
    }
   ],
   "source": [
    "# Delete these row indexes from dataFrame\n",
    "\n",
    "indexNames = pd.Index(np.where(df['imageID'].isin(excluded))[0])\n",
    "df.drop(indexNames, inplace = True)\n",
    "df"
   ]
  },
  {
   "cell_type": "code",
   "execution_count": 16,
   "metadata": {},
   "outputs": [
    {
     "data": {
      "image/png": "[encoded data removed]",
      "text/plain": [
       "<Figure size 432x288 with 1 Axes>"
      ]
     },
     "metadata": {
      "needs_background": "light"
     },
     "output_type": "display_data"
    }
   ],
   "source": [
    "plt.figure()\n",
    "plt.plot(df['BECHoldTime'], df['nCount'], '+', color = 'blue', label = 'All')\n",
    "plt.legend()\n",
    "plt.show()"
   ]
  },
  {
   "cell_type": "code",
   "execution_count": 17,
   "metadata": {},
   "outputs": [
    {
     "data": {
      "image/png": "[encoded data removed]",
      "text/plain": [
       "<Figure size 432x288 with 1 Axes>"
      ]
     },
     "metadata": {
      "needs_background": "light"
     },
     "output_type": "display_data"
    }
   ],
   "source": [
    "run = df[df['detuning'] == '1GHz']\n",
    "run1 = run[run['field_direction'] == 'Bz']\n",
    "run2 = run[run['field_direction'] == 'By']\n",
    "plt.figure()\n",
    "plt.plot(run1['BECHoldTime'], run1['nCount'], '+', color = 'blue', label = 'Bz')\n",
    "plt.plot(run2['BECHoldTime'], run2['nCount'], '+', color = 'red', label = 'By')\n",
    "plt.legend()\n",
    "plt.show()"
   ]
  },
  {
   "cell_type": "markdown",
   "metadata": {},
   "source": [
    "We fit the polarized sample to $dN/dt = -\\alpha N-\\gamma N^{3}$, so $N(t) = \\frac{\\sqrt{\\alpha}}{\\sqrt{e^{2\\alpha t}\\left(\\frac{a}{N(0)^{2}}+\\gamma\\right)-\\gamma}}$ and the mixture one to $dN/dt = -\\alpha N - \\beta N^{2} -\\gamma N^{3}$, so $N(t) = complicated$"
   ]
  },
  {
   "cell_type": "code",
   "execution_count": 49,
   "metadata": {},
   "outputs": [
    {
     "data": {
      "text/plain": [
       "20.0"
      ]
     },
     "execution_count": 49,
     "metadata": {},
     "output_type": "execute_result"
    }
   ],
   "source": [
    "max(df['BECHoldTime'])"
   ]
  },
  {
   "cell_type": "code",
   "execution_count": 18,
   "metadata": {},
   "outputs": [
    {
     "name": "stdout",
     "output_type": "stream",
     "text": [
      "1GHz Bz 3\n",
      "1GHz Bz 2\n",
      "1GHz By 3\n",
      "1GHz By 2\n",
      "1.5GHz Bz 3\n",
      "1.5GHz Bz 2\n",
      "1.5GHz By 3\n",
      "1.5GHz By 2\n",
      "2GHz By 3\n",
      "2GHz By 4\n"
     ]
    }
   ],
   "source": [
    "def N_polarized(t, N0, alpha, gamma):\n",
    "    return np.sqrt(alpha / (np.exp(2*alpha*t)*(alpha/(N0**2)+gamma)-gamma))\n",
    "\n",
    "def fitRun(detuning = '1GHz', field_direction = 'Bz', TOF = 3):\n",
    "    df_reduced1 = df[df['detuning'] == detuning]\n",
    "    df_reduced2 = df_reduced1[df_reduced1['TOF'] == TOF]\n",
    "    df_reduced = df_reduced2[df_reduced2['field_direction'] == field_direction]\n",
    "    N0_guess = max(df_reduced['nCount'])\n",
    "    time_guess = max(df_reduced['BECHoldTime'])\n",
    "    popt, pcov = curve_fit(N_polarized, df_reduced['BECHoldTime'], df_reduced['nCount'],\n",
    "                       p0 = [N0_guess, 1/time_guess, 1/(N0_guess**2*time_guess)],\n",
    "                       method = 'lm'\n",
    "                      )\n",
    "    return popt, pcov\n",
    "\n",
    "results = []\n",
    "\"\"\"results = pd.DataFrame({'detuning' : [],\n",
    "                        'TOF' : [],\n",
    "                        'field_direction' : [],\n",
    "                        'N0' : [],\n",
    "                        'alpha' : [],\n",
    "                        'gamma' : []})\"\"\"\n",
    "\n",
    "for run in labels:\n",
    "    detuning, field_direction, TOF = run[0]\n",
    "    print(detuning, field_direction, TOF)\n",
    "    popt, pcov = fitRun(detuning, field_direction, TOF)\n",
    "    results += [{'detuning' : detuning,\n",
    "                        'TOF' : TOF,\n",
    "                        'field_direction' : field_direction,\n",
    "                        'N0' : popt[0],\n",
    "                        'alpha' : popt[1],\n",
    "                        'gamma' : popt[2]}]\n",
    "resultsDF = pd.DataFrame(results)\n",
    "\n",
    "#perr = np.sqrt(np.diag(pcov))"
   ]
  },
  {
   "cell_type": "code",
   "execution_count": 19,
   "metadata": {},
   "outputs": [
    {
     "data": {
      "text/html": [
       "<div>\n",
       "<style scoped>\n",
       "    .dataframe tbody tr th:only-of-type {\n",
       "        vertical-align: middle;\n",
       "    }\n",
       "\n",
       "    .dataframe tbody tr th {\n",
       "        vertical-align: top;\n",
       "    }\n",
       "\n",
       "    .dataframe thead th {\n",
       "        text-align: right;\n",
       "    }\n",
       "</style>\n",
       "<table border=\"1\" class=\"dataframe\">\n",
       "  <thead>\n",
       "    <tr style=\"text-align: right;\">\n",
       "      <th></th>\n",
       "      <th>detuning</th>\n",
       "      <th>TOF</th>\n",
       "      <th>field_direction</th>\n",
       "      <th>N0</th>\n",
       "      <th>alpha</th>\n",
       "      <th>gamma</th>\n",
       "    </tr>\n",
       "  </thead>\n",
       "  <tbody>\n",
       "    <tr>\n",
       "      <th>0</th>\n",
       "      <td>1GHz</td>\n",
       "      <td>3</td>\n",
       "      <td>Bz</td>\n",
       "      <td>95792.914338</td>\n",
       "      <td>0.015256</td>\n",
       "      <td>3.413948e-11</td>\n",
       "    </tr>\n",
       "    <tr>\n",
       "      <th>1</th>\n",
       "      <td>1GHz</td>\n",
       "      <td>2</td>\n",
       "      <td>Bz</td>\n",
       "      <td>94252.641311</td>\n",
       "      <td>0.022246</td>\n",
       "      <td>3.385118e-11</td>\n",
       "    </tr>\n",
       "    <tr>\n",
       "      <th>2</th>\n",
       "      <td>1GHz</td>\n",
       "      <td>3</td>\n",
       "      <td>By</td>\n",
       "      <td>66137.258478</td>\n",
       "      <td>0.000060</td>\n",
       "      <td>5.883945e-11</td>\n",
       "    </tr>\n",
       "    <tr>\n",
       "      <th>3</th>\n",
       "      <td>1GHz</td>\n",
       "      <td>2</td>\n",
       "      <td>By</td>\n",
       "      <td>59851.408005</td>\n",
       "      <td>0.001231</td>\n",
       "      <td>6.467527e-11</td>\n",
       "    </tr>\n",
       "    <tr>\n",
       "      <th>4</th>\n",
       "      <td>1.5GHz</td>\n",
       "      <td>3</td>\n",
       "      <td>Bz</td>\n",
       "      <td>122923.621053</td>\n",
       "      <td>0.013027</td>\n",
       "      <td>8.981407e-12</td>\n",
       "    </tr>\n",
       "    <tr>\n",
       "      <th>5</th>\n",
       "      <td>1.5GHz</td>\n",
       "      <td>2</td>\n",
       "      <td>Bz</td>\n",
       "      <td>132981.405173</td>\n",
       "      <td>0.011172</td>\n",
       "      <td>7.584362e-12</td>\n",
       "    </tr>\n",
       "    <tr>\n",
       "      <th>6</th>\n",
       "      <td>1.5GHz</td>\n",
       "      <td>3</td>\n",
       "      <td>By</td>\n",
       "      <td>96535.480370</td>\n",
       "      <td>-0.000191</td>\n",
       "      <td>3.246966e-11</td>\n",
       "    </tr>\n",
       "    <tr>\n",
       "      <th>7</th>\n",
       "      <td>1.5GHz</td>\n",
       "      <td>2</td>\n",
       "      <td>By</td>\n",
       "      <td>80647.812479</td>\n",
       "      <td>-0.004859</td>\n",
       "      <td>3.544965e-11</td>\n",
       "    </tr>\n",
       "    <tr>\n",
       "      <th>8</th>\n",
       "      <td>2GHz</td>\n",
       "      <td>3</td>\n",
       "      <td>By</td>\n",
       "      <td>101654.548007</td>\n",
       "      <td>0.003417</td>\n",
       "      <td>9.676666e-12</td>\n",
       "    </tr>\n",
       "    <tr>\n",
       "      <th>9</th>\n",
       "      <td>2GHz</td>\n",
       "      <td>4</td>\n",
       "      <td>By</td>\n",
       "      <td>102185.108737</td>\n",
       "      <td>-0.002518</td>\n",
       "      <td>1.252102e-11</td>\n",
       "    </tr>\n",
       "  </tbody>\n",
       "</table>\n",
       "</div>"
      ],
      "text/plain": [
       "  detuning  TOF field_direction             N0     alpha         gamma\n",
       "0     1GHz    3              Bz   95792.914338  0.015256  3.413948e-11\n",
       "1     1GHz    2              Bz   94252.641311  0.022246  3.385118e-11\n",
       "2     1GHz    3              By   66137.258478  0.000060  5.883945e-11\n",
       "3     1GHz    2              By   59851.408005  0.001231  6.467527e-11\n",
       "4   1.5GHz    3              Bz  122923.621053  0.013027  8.981407e-12\n",
       "5   1.5GHz    2              Bz  132981.405173  0.011172  7.584362e-12\n",
       "6   1.5GHz    3              By   96535.480370 -0.000191  3.246966e-11\n",
       "7   1.5GHz    2              By   80647.812479 -0.004859  3.544965e-11\n",
       "8     2GHz    3              By  101654.548007  0.003417  9.676666e-12\n",
       "9     2GHz    4              By  102185.108737 -0.002518  1.252102e-11"
      ]
     },
     "execution_count": 19,
     "metadata": {},
     "output_type": "execute_result"
    }
   ],
   "source": [
    "resultsDF"
   ]
  },
  {
   "cell_type": "markdown",
   "metadata": {},
   "source": [
    "We notice the decay is nearly 3-body in all case. To ensure that we can look at $\\alpha N_{0}/(\\gamma*N_{0}^{3})$ which at $t=0$ is never above a 10\\%. So let's just fit to a 3body decay curve.\n",
    "$dN/dt = -\\gamma N^{3}$, so $N(t) = \\frac{N_{0}}{\\sqrt{1+N_{0}^{2}\\gamma t}}$."
   ]
  },
  {
   "cell_type": "code",
   "execution_count": 20,
   "metadata": {},
   "outputs": [
    {
     "data": {
      "text/plain": [
       "0    0.048698\n",
       "1    0.073976\n",
       "2    0.000233\n",
       "3    0.005313\n",
       "4    0.095988\n",
       "5    0.083299\n",
       "6   -0.000630\n",
       "7   -0.021073\n",
       "8    0.034174\n",
       "9   -0.019262\n",
       "dtype: float64"
      ]
     },
     "execution_count": 20,
     "metadata": {},
     "output_type": "execute_result"
    }
   ],
   "source": [
    "resultsDF['alpha']*resultsDF['N0']/(resultsDF['gamma']*(resultsDF['N0']**3))"
   ]
  },
  {
   "cell_type": "code",
   "execution_count": 21,
   "metadata": {},
   "outputs": [],
   "source": [
    "def N_polarized_pure3b(t, N0, gamma):\n",
    "    return N0 / np.sqrt(1+N0**2*gamma*t)\n",
    "\n",
    "def getReducedDataframe(df, detuning = None, field_direction = None, TOF = None):\n",
    "    df_temporary = df\n",
    "    if detuning:\n",
    "        df_temporary = df_temporary[df_temporary['detuning'] == detuning]\n",
    "    if field_direction:\n",
    "        df_temporary = df_temporary[df_temporary['field_direction'] == field_direction]\n",
    "    if TOF:\n",
    "        df_temporary = df_temporary[df_temporary['TOF'] == TOF]\n",
    "    return df_temporary\n",
    "\n",
    "def getReducedResults(results, detuning = None, field_direction = None, TOF = None):\n",
    "    df_temporary = results\n",
    "    if detuning:\n",
    "        df_temporary = df_temporary[df_temporary['detuning'] == detuning]\n",
    "    if field_direction:\n",
    "        df_temporary = df_temporary[df_temporary['field_direction'] == field_direction]\n",
    "    if TOF:\n",
    "        df_temporary = df_temporary[df_temporary['TOF'] == TOF]\n",
    "    return df_temporary\n",
    "\n",
    "def fitRun(detuning = '1GHz', field_direction = 'Bz', TOF = 3):\n",
    "    df_reduced = getReducedDataframe(df, detuning, field_direction, TOF)\n",
    "    N0_guess = max(df_reduced['nCount'])\n",
    "    time_guess = max(df_reduced['BECHoldTime'])\n",
    "    popt, pcov = curve_fit(N_polarized_pure3b, df_reduced['BECHoldTime'], df_reduced['nCount'],\n",
    "                       p0 = [N0_guess, 1/(N0_guess**2*time_guess)],\n",
    "                       method = 'lm'\n",
    "                      )\n",
    "    return popt, pcov\n",
    "\n",
    "results = []\n",
    "\n",
    "for run in labels:\n",
    "    detuning, field_direction, TOF = run[0]\n",
    "    popt, pcov = fitRun(detuning, field_direction, TOF)\n",
    "    results += [{'detuning' : detuning,\n",
    "                        'TOF' : TOF,\n",
    "                        'field_direction' : field_direction,\n",
    "                        'N0' : popt[0],\n",
    "                        'gamma' : popt[1]}]\n",
    "resultsDF_pure3b = pd.DataFrame(results)\n",
    "\n",
    "#perr = np.sqrt(np.diag(pcov))"
   ]
  },
  {
   "cell_type": "code",
   "execution_count": 121,
   "metadata": {},
   "outputs": [
    {
     "data": {
      "text/html": [
       "<div>\n",
       "<style scoped>\n",
       "    .dataframe tbody tr th:only-of-type {\n",
       "        vertical-align: middle;\n",
       "    }\n",
       "\n",
       "    .dataframe tbody tr th {\n",
       "        vertical-align: top;\n",
       "    }\n",
       "\n",
       "    .dataframe thead th {\n",
       "        text-align: right;\n",
       "    }\n",
       "</style>\n",
       "<table border=\"1\" class=\"dataframe\">\n",
       "  <thead>\n",
       "    <tr style=\"text-align: right;\">\n",
       "      <th></th>\n",
       "      <th>detuning</th>\n",
       "      <th>TOF</th>\n",
       "      <th>field_direction</th>\n",
       "      <th>N0</th>\n",
       "      <th>gamma</th>\n",
       "    </tr>\n",
       "  </thead>\n",
       "  <tbody>\n",
       "    <tr>\n",
       "      <th>0</th>\n",
       "      <td>1GHz</td>\n",
       "      <td>3</td>\n",
       "      <td>Bz</td>\n",
       "      <td>97207.077787</td>\n",
       "      <td>8.020382e-11</td>\n",
       "    </tr>\n",
       "    <tr>\n",
       "      <th>1</th>\n",
       "      <td>1GHz</td>\n",
       "      <td>2</td>\n",
       "      <td>Bz</td>\n",
       "      <td>96366.624331</td>\n",
       "      <td>8.589299e-11</td>\n",
       "    </tr>\n",
       "    <tr>\n",
       "      <th>2</th>\n",
       "      <td>1GHz</td>\n",
       "      <td>3</td>\n",
       "      <td>By</td>\n",
       "      <td>66141.729284</td>\n",
       "      <td>1.177646e-10</td>\n",
       "    </tr>\n",
       "    <tr>\n",
       "      <th>3</th>\n",
       "      <td>1GHz</td>\n",
       "      <td>2</td>\n",
       "      <td>By</td>\n",
       "      <td>59933.515529</td>\n",
       "      <td>1.314346e-10</td>\n",
       "    </tr>\n",
       "    <tr>\n",
       "      <th>4</th>\n",
       "      <td>1.5GHz</td>\n",
       "      <td>3</td>\n",
       "      <td>Bz</td>\n",
       "      <td>124849.996734</td>\n",
       "      <td>2.243568e-11</td>\n",
       "    </tr>\n",
       "    <tr>\n",
       "      <th>5</th>\n",
       "      <td>1.5GHz</td>\n",
       "      <td>2</td>\n",
       "      <td>Bz</td>\n",
       "      <td>134755.778330</td>\n",
       "      <td>1.839881e-11</td>\n",
       "    </tr>\n",
       "    <tr>\n",
       "      <th>6</th>\n",
       "      <td>1.5GHz</td>\n",
       "      <td>3</td>\n",
       "      <td>By</td>\n",
       "      <td>96516.000147</td>\n",
       "      <td>6.479903e-11</td>\n",
       "    </tr>\n",
       "    <tr>\n",
       "      <th>7</th>\n",
       "      <td>1.5GHz</td>\n",
       "      <td>2</td>\n",
       "      <td>By</td>\n",
       "      <td>80173.385639</td>\n",
       "      <td>6.641373e-11</td>\n",
       "    </tr>\n",
       "    <tr>\n",
       "      <th>8</th>\n",
       "      <td>2GHz</td>\n",
       "      <td>3</td>\n",
       "      <td>By</td>\n",
       "      <td>102069.192965</td>\n",
       "      <td>2.081456e-11</td>\n",
       "    </tr>\n",
       "    <tr>\n",
       "      <th>9</th>\n",
       "      <td>2GHz</td>\n",
       "      <td>4</td>\n",
       "      <td>By</td>\n",
       "      <td>101872.186790</td>\n",
       "      <td>2.389683e-11</td>\n",
       "    </tr>\n",
       "  </tbody>\n",
       "</table>\n",
       "</div>"
      ],
      "text/plain": [
       "  detuning  TOF field_direction             N0         gamma\n",
       "0     1GHz    3              Bz   97207.077787  8.020382e-11\n",
       "1     1GHz    2              Bz   96366.624331  8.589299e-11\n",
       "2     1GHz    3              By   66141.729284  1.177646e-10\n",
       "3     1GHz    2              By   59933.515529  1.314346e-10\n",
       "4   1.5GHz    3              Bz  124849.996734  2.243568e-11\n",
       "5   1.5GHz    2              Bz  134755.778330  1.839881e-11\n",
       "6   1.5GHz    3              By   96516.000147  6.479903e-11\n",
       "7   1.5GHz    2              By   80173.385639  6.641373e-11\n",
       "8     2GHz    3              By  102069.192965  2.081456e-11\n",
       "9     2GHz    4              By  101872.186790  2.389683e-11"
      ]
     },
     "execution_count": 121,
     "metadata": {},
     "output_type": "execute_result"
    }
   ],
   "source": [
    "resultsDF_pure3b"
   ]
  },
  {
   "cell_type": "code",
   "execution_count": 22,
   "metadata": {},
   "outputs": [
    {
     "data": {
      "image/png": "[encoded data removed]",
      "text/plain": [
       "<Figure size 432x288 with 1 Axes>"
      ]
     },
     "metadata": {
      "needs_background": "light"
     },
     "output_type": "display_data"
    }
   ],
   "source": [
    "df_reduced = getReducedDataframe(df, detuning = '1GHz', field_direction = 'Bz', TOF = 3)\n",
    "result_reduced = getReducedResults(resultsDF_pure3b, detuning = '1GHz', field_direction = 'Bz', TOF = 3)\n",
    "holdTime = np.linspace(0,20, 300)\n",
    "plt.figure()\n",
    "plt.plot(df_reduced['BECHoldTime'], df_reduced['nCount'], '*')\n",
    "plt.plot(holdTime, N_polarized_pure3b(holdTime, result_reduced['N0'][0], result_reduced['gamma'][0]))\n",
    "plt.show()"
   ]
  },
  {
   "cell_type": "markdown",
   "metadata": {},
   "source": [
    "Now we should look at how much time we should shift:"
   ]
  },
  {
   "cell_type": "code",
   "execution_count": 23,
   "metadata": {},
   "outputs": [
    {
     "data": {
      "text/plain": [
       "1.5301530153015301"
      ]
     },
     "execution_count": 23,
     "metadata": {},
     "output_type": "execute_result"
    }
   ],
   "source": [
    "def deltaTime(results, detuning, TOF):\n",
    "    holdTime = np.linspace(0,20, 10000)\n",
    "    results_Bz = getReducedResults(results, detuning, 'Bz', TOF)\n",
    "    results_By = getReducedResults(results, detuning, 'By', TOF)\n",
    "    N0_z, gamma_z = results_Bz['N0'].iloc[0], results_Bz['gamma'].iloc[0]\n",
    "    N0_y, gamma_y = results_By['N0'].iloc[0], results_By['gamma'].iloc[0]\n",
    "    index = np.argmin(np.abs(N_polarized_pure3b(holdTime, N0_z, gamma_z)-N_polarized_pure3b(0, N0_y, gamma_y)))\n",
    "    return holdTime[index]\n",
    "\n",
    "deltaTime(resultsDF_pure3b, '1GHz', 3)"
   ]
  },
  {
   "cell_type": "markdown",
   "metadata": {},
   "source": [
    "Now we can calculate the ration of the beta, provided the derivative of the N_polarized_pure3b function: $\\frac{dN}{dt} = -\\frac{1}{2}N_{0}^{3}\\gamma\\left(1+N_{0}^{2}\\gamma t\\right)^{-3/2}$"
   ]
  },
  {
   "cell_type": "code",
   "execution_count": 24,
   "metadata": {},
   "outputs": [
    {
     "name": "stdout",
     "output_type": "stream",
     "text": [
      "1GHz 2\n",
      "1GHz 3\n",
      "1.5GHz 2\n",
      "1.5GHz 3\n"
     ]
    },
    {
     "data": {
      "text/html": [
       "<div>\n",
       "<style scoped>\n",
       "    .dataframe tbody tr th:only-of-type {\n",
       "        vertical-align: middle;\n",
       "    }\n",
       "\n",
       "    .dataframe tbody tr th {\n",
       "        vertical-align: top;\n",
       "    }\n",
       "\n",
       "    .dataframe thead th {\n",
       "        text-align: right;\n",
       "    }\n",
       "</style>\n",
       "<table border=\"1\" class=\"dataframe\">\n",
       "  <thead>\n",
       "    <tr style=\"text-align: right;\">\n",
       "      <th></th>\n",
       "      <th>detuning</th>\n",
       "      <th>TOF</th>\n",
       "      <th>betaRatio</th>\n",
       "    </tr>\n",
       "  </thead>\n",
       "  <tbody>\n",
       "    <tr>\n",
       "      <th>0</th>\n",
       "      <td>1GHz</td>\n",
       "      <td>2</td>\n",
       "      <td>0.653290</td>\n",
       "    </tr>\n",
       "    <tr>\n",
       "      <th>1</th>\n",
       "      <td>1GHz</td>\n",
       "      <td>3</td>\n",
       "      <td>0.681198</td>\n",
       "    </tr>\n",
       "    <tr>\n",
       "      <th>2</th>\n",
       "      <td>1.5GHz</td>\n",
       "      <td>2</td>\n",
       "      <td>0.277038</td>\n",
       "    </tr>\n",
       "    <tr>\n",
       "      <th>3</th>\n",
       "      <td>1.5GHz</td>\n",
       "      <td>3</td>\n",
       "      <td>0.346141</td>\n",
       "    </tr>\n",
       "  </tbody>\n",
       "</table>\n",
       "</div>"
      ],
      "text/plain": [
       "  detuning  TOF  betaRatio\n",
       "0     1GHz    2   0.653290\n",
       "1     1GHz    3   0.681198\n",
       "2   1.5GHz    2   0.277038\n",
       "3   1.5GHz    3   0.346141"
      ]
     },
     "execution_count": 24,
     "metadata": {},
     "output_type": "execute_result"
    }
   ],
   "source": [
    "def dN_polarized_pure3b_dt(t, N0, gamma):\n",
    "    return -0.5*N0**3*gamma*(1+N0**2*gamma*t)**(-3/2)\n",
    "\n",
    "def getBeta(results, detuning, field_direction, TOF):\n",
    "    temp = results[results['detuning'] == detuning]\n",
    "    temp = temp[temp['TOF'] == TOF]\n",
    "    return temp[temp['field_direction'] == field_direction]['gamma']\n",
    "\n",
    "results_betaRatio = []\n",
    "for detuning in ['1GHz', '1.5GHz']:\n",
    "    for TOF in [2, 3]:\n",
    "        print(detuning, TOF)\n",
    "        beta_y_init = getBeta(resultsDF_pure3b, detuning, 'By', TOF)\n",
    "        beta_z_init = getBeta(resultsDF_pure3b, detuning, 'Bz', TOF)\n",
    "        dt = deltaTime(resultsDF_pure3b, detuning, TOF)\n",
    "        \n",
    "        results_By = getReducedResults(resultsDF_pure3b, detuning, 'By', TOF)\n",
    "        results_Bz = getReducedResults(resultsDF_pure3b, detuning, 'Bz', TOF)\n",
    "        N0_y, gamma_y = results_By['N0'].iloc[0], results_By['gamma'].iloc[0]\n",
    "        N0_z, gamma_z = results_Bz['N0'].iloc[0], results_Bz['gamma'].iloc[0]\n",
    "        \n",
    "        beta_y = dN_polarized_pure3b_dt(0, N0_y, gamma_y)\n",
    "        beta_z = dN_polarized_pure3b_dt(dt, N0_z, gamma_z)\n",
    "        \n",
    "        results_betaRatio += [{'detuning' : detuning,\n",
    "                        'TOF' : TOF,\n",
    "                        'betaRatio' : beta_z/beta_y}]\n",
    "\n",
    "results_betaRatio = pd.DataFrame(results_betaRatio)\n",
    "\n",
    "results_betaRatio"
   ]
  },
  {
   "cell_type": "code",
   "execution_count": 70,
   "metadata": {},
   "outputs": [
    {
     "name": "stdout",
     "output_type": "stream",
     "text": [
      "-36834.83263911268\n",
      "-11606.05584929771\n",
      "-17037.716809472666\n",
      "-17037.716809472666\n",
      "-11606.05584929771\n"
     ]
    }
   ],
   "source": [
    "detuning = '1GHz'\n",
    "TOF = 3\n",
    "beta_y_init = getBeta(resultsDF_pure3b, detuning, 'By', TOF)  # this is the gamma from the fit\n",
    "beta_z_init = getBeta(resultsDF_pure3b, detuning, 'Bz', TOF)\n",
    "dt = deltaTime(resultsDF_pure3b, detuning, TOF)\n",
    "\n",
    "print(dN_polarized_pure3b_dt(0, result_reduced_z['N0'].iloc[0], result_reduced_z['gamma'].iloc[0]))\n",
    "print(dN_polarized_pure3b_dt(dt, result_reduced_z['N0'].iloc[0], result_reduced_z['gamma'].iloc[0]))\n",
    "print(dN_polarized_pure3b_dt(0, result_reduced_y['N0'].iloc[0], result_reduced_y['gamma'].iloc[0]))\n",
    "\n",
    "results_By = getReducedResults(resultsDF_pure3b, detuning, 'By', TOF)  # this is the full results of a fit\n",
    "results_Bz = getReducedResults(resultsDF_pure3b, detuning, 'Bz', TOF)\n",
    "N0_y, gamma_y = results_By['N0'].iloc[0], results_By['gamma'].iloc[0]\n",
    "N0_z, gamma_z = results_Bz['N0'].iloc[0], results_Bz['gamma'].iloc[0]\n",
    "        \n",
    "beta_y = dN_polarized_pure3b_dt(0, N0_y, gamma_y)\n",
    "beta_z = dN_polarized_pure3b_dt(dt, N0_z, gamma_z)\n",
    "#beta_z/beta_y\n",
    "print(beta_y)\n",
    "print(beta_z)\n"
   ]
  },
  {
   "cell_type": "code",
   "execution_count": 76,
   "metadata": {},
   "outputs": [
    {
     "data": {
      "image/png": "[encoded data removed]",
      "text/plain": [
       "<Figure size 720x480 with 1 Axes>"
      ]
     },
     "metadata": {
      "needs_background": "light"
     },
     "output_type": "display_data"
    }
   ],
   "source": [
    "detuning = '1GHz'\n",
    "TOF = 3\n",
    "dt = deltaTime(resultsDF_pure3b, detuning, TOF)\n",
    "df_reduced_z = getReducedDataframe(df, detuning,'Bz', TOF)\n",
    "df_reduced_y = getReducedDataframe(df, detuning,'By', TOF)\n",
    "result_reduced_z = getReducedResults(resultsDF_pure3b, detuning, 'Bz', TOF)\n",
    "result_reduced_y = getReducedResults(resultsDF_pure3b, detuning, 'By', TOF)\n",
    "\n",
    "dNdt = dN_polarized_pure3b_dt(dt, result_reduced_z['N0'].iloc[0], result_reduced_z['gamma'].iloc[0])\n",
    "holdTime = np.linspace(0,20, 300)\n",
    "Y1 = result_reduced_y['N0'].iloc[0] + holdTime*dNdt\n",
    "Y2 = N_polarized_pure3b(dt, result_reduced_z['N0'].iloc[0], result_reduced_z['gamma'].iloc[0]) + (holdTime-dt)*dNdt\n",
    "plt.figure(dpi = 120)\n",
    "plt.plot(df_reduced_z['BECHoldTime'], df_reduced_z['nCount'], '*')\n",
    "plt.plot(df_reduced_y['BECHoldTime'], df_reduced_y['nCount'], '*')\n",
    "plt.plot(holdTime, N_polarized_pure3b(holdTime, result_reduced_z['N0'].iloc[0], result_reduced_z['gamma'].iloc[0]), color = 'blue')\n",
    "plt.plot(holdTime, N_polarized_pure3b(holdTime+dt, result_reduced_z['N0'].iloc[0], result_reduced_z['gamma'].iloc[0]), color = 'blue')\n",
    "plt.plot(holdTime, N_polarized_pure3b(holdTime, result_reduced_y['N0'].iloc[0], result_reduced_y['gamma'].iloc[0]), color = 'red')\n",
    "plt.plot(holdTime[:50], Y1[:50])\n",
    "#plt.plot(holdTime[:50], Y2[:50])\n",
    "plt.title('1GHz')\n",
    "plt.show()"
   ]
  },
  {
   "cell_type": "code",
   "execution_count": 75,
   "metadata": {},
   "outputs": [
    {
     "data": {
      "image/png": "[encoded data removed]",
      "text/plain": [
       "<Figure size 720x480 with 1 Axes>"
      ]
     },
     "metadata": {
      "needs_background": "light"
     },
     "output_type": "display_data"
    }
   ],
   "source": [
    "detuning = '1.5GHz'\n",
    "TOF = 3\n",
    "dt = deltaTime(resultsDF_pure3b, detuning, TOF)\n",
    "df_reduced_z = getReducedDataframe(df, detuning,'Bz', TOF)\n",
    "df_reduced_y = getReducedDataframe(df, detuning,'By', TOF)\n",
    "result_reduced_z = getReducedResults(resultsDF_pure3b, detuning, 'Bz', TOF)\n",
    "result_reduced_y = getReducedResults(resultsDF_pure3b, detuning, 'By', TOF)\n",
    "\n",
    "dNdt = dN_polarized_pure3b_dt(dt, result_reduced_z['N0'].iloc[0], result_reduced_z['gamma'].iloc[0])\n",
    "holdTime = np.linspace(0,20, 300)\n",
    "Y1 = result_reduced_y['N0'].iloc[0] + holdTime*dNdt\n",
    "Y2 = N_polarized_pure3b(dt, result_reduced_z['N0'].iloc[0], result_reduced_z['gamma'].iloc[0]) + (holdTime-dt)*dNdt\n",
    "plt.figure(dpi = 120)\n",
    "plt.plot(df_reduced_z['BECHoldTime'], df_reduced_z['nCount'], '*')\n",
    "plt.plot(df_reduced_y['BECHoldTime'], df_reduced_y['nCount'], '*')\n",
    "plt.plot(holdTime, N_polarized_pure3b(holdTime, result_reduced_z['N0'].iloc[0], result_reduced_z['gamma'].iloc[0]), color = 'blue')\n",
    "plt.plot(holdTime, N_polarized_pure3b(holdTime+dt, result_reduced_z['N0'].iloc[0], result_reduced_z['gamma'].iloc[0]), color = 'blue')\n",
    "plt.plot(holdTime, N_polarized_pure3b(holdTime, result_reduced_y['N0'].iloc[0], result_reduced_y['gamma'].iloc[0]), color = 'red')\n",
    "plt.plot(holdTime[:50], Y1[:50])\n",
    "#plt.plot(holdTime[:50], Y2[:50])\n",
    "plt.title('1.5GHz')\n",
    "plt.show()"
   ]
  },
  {
   "cell_type": "code",
   "execution_count": 50,
   "metadata": {},
   "outputs": [
    {
     "name": "stdout",
     "output_type": "stream",
     "text": [
      "-36834.83263911268\n",
      "-11606.05584929771\n",
      "-17037.716809472666\n"
     ]
    }
   ],
   "source": [
    "print(dN_polarized_pure3b_dt(0, result_reduced_z['N0'].iloc[0], result_reduced_z['gamma'].iloc[0]))\n",
    "print(dN_polarized_pure3b_dt(dt, result_reduced_z['N0'].iloc[0], result_reduced_z['gamma'].iloc[0]))\n",
    "print(dN_polarized_pure3b_dt(0, result_reduced_y['N0'].iloc[0], result_reduced_y['gamma'].iloc[0]))"
   ]
  },
  {
   "cell_type": "code",
   "execution_count": 180,
   "metadata": {},
   "outputs": [
    {
     "data": {
      "image/png": "[encoded data removed]",
      "text/plain": [
       "<Figure size 432x288 with 1 Axes>"
      ]
     },
     "metadata": {
      "needs_background": "light"
     },
     "output_type": "display_data"
    }
   ],
   "source": [
    "points1G = results_betaRatio[results_betaRatio['detuning'] == '1GHz']['betaRatio']\n",
    "points15G = results_betaRatio[results_betaRatio['detuning'] == '1.5GHz']['betaRatio']\n",
    "\n",
    "plt.figure()\n",
    "plt.plot([116, 116], points1G, '*')\n",
    "plt.plot([96, 96], points15G, '*')\n",
    "plt.title(r'$\\beta_{z}/\\beta_{y}$')\n",
    "plt.xlabel(r'Trap frequency $\\omega_{z}$ (kHz)')\n",
    "plt.show()"
   ]
  },
  {
   "cell_type": "markdown",
   "metadata": {},
   "source": [
    "It doesn't look good at all, it should be reversed, the $\\beta_{z}$ should be equal to $\\beta_{y}$ for small $\\omega_{z}$ and drop at the threshold."
   ]
  },
  {
   "cell_type": "code",
   "execution_count": 181,
   "metadata": {},
   "outputs": [
    {
     "name": "stdout",
     "output_type": "stream",
     "text": [
      "1GHz 2\n",
      "1GHz 3\n",
      "1.5GHz 2\n",
      "1.5GHz 3\n"
     ]
    },
    {
     "data": {
      "image/png": "[encoded data removed]",
      "text/plain": [
       "<Figure size 432x288 with 1 Axes>"
      ]
     },
     "metadata": {
      "needs_background": "light"
     },
     "output_type": "display_data"
    }
   ],
   "source": [
    "def dN_polarized_pure3b_dt(t, N0, gamma):\n",
    "    return -0.5*N0**3*gamma*(1+N0**2*gamma*t)**(-3/2)\n",
    "\n",
    "def getBeta(results, detuning, field_direction, TOF):\n",
    "    temp = results[results['detuning'] == detuning]\n",
    "    temp = temp[temp['TOF'] == TOF]\n",
    "    return temp[temp['field_direction'] == field_direction]['gamma']\n",
    "\n",
    "results_betaRatio = []\n",
    "for detuning in ['1GHz', '1.5GHz']:\n",
    "    for TOF in [2, 3]:\n",
    "        print(detuning, TOF)\n",
    "        beta_y_init = getBeta(resultsDF_pure3b, detuning, 'By', TOF)\n",
    "        beta_z_init = getBeta(resultsDF_pure3b, detuning, 'Bz', TOF)\n",
    "        dt = deltaTime(resultsDF_pure3b, detuning, TOF)\n",
    "        \n",
    "        results_By = getReducedResults(resultsDF_pure3b, detuning, 'By', TOF)\n",
    "        results_Bz = getReducedResults(resultsDF_pure3b, detuning, 'Bz', TOF)\n",
    "        N0_y, gamma_y = results_By['N0'].iloc[0], results_By['gamma'].iloc[0]\n",
    "        N0_z, gamma_z = results_Bz['N0'].iloc[0], results_Bz['gamma'].iloc[0]\n",
    "        \n",
    "        beta_y = dN_polarized_pure3b_dt(0, N0_y, gamma_y)\n",
    "        beta_z = dN_polarized_pure3b_dt(0, N0_z, gamma_z)\n",
    "        \n",
    "        results_betaRatio += [{'detuning' : detuning,\n",
    "                        'TOF' : TOF,\n",
    "                        'betaRatio' : beta_z/beta_y}]\n",
    "\n",
    "results_betaRatio = pd.DataFrame(results_betaRatio)\n",
    "\n",
    "results_betaRatio\n",
    "\n",
    "points1G = results_betaRatio[results_betaRatio['detuning'] == '1GHz']['betaRatio']\n",
    "points15G = results_betaRatio[results_betaRatio['detuning'] == '1.5GHz']['betaRatio']\n",
    "\n",
    "plt.figure()\n",
    "plt.plot([116, 116], points1G, '*')\n",
    "plt.plot([96, 96], points15G, '*')\n",
    "plt.title(r'$\\beta_{z}/\\beta_{y}$')\n",
    "plt.xlabel(r'Trap frequency $\\omega_{z}$ (kHz)')\n",
    "plt.show()"
   ]
  },
  {
   "cell_type": "code",
   "execution_count": null,
   "metadata": {},
   "outputs": [],
   "source": [
    "N0_guess = max(NCountList_Polarized)\n",
    "time_guess = max(holdTimeList_Polarized)\n",
    "NCountList_Polarized_truncated = NCountList_Polarized[holdTimeList_Polarized < 40]\n",
    "holdTimeList_Polarized_truncated = holdTimeList_Polarized[holdTimeList_Polarized < 40]\n",
    "N0_min = NCountList_Polarized[holdTimeList_Polarized == 0.5].mean()\n",
    "popt_test, pcov_test = curve_fit(N_polarized, holdTimeList_Polarized_truncated, NCountList_Polarized_truncated,\n",
    "                       p0 = [N0_guess, 1/time_guess, 1/(N0_guess**2*time_guess)],\n",
    "                       method = 'trf'\n",
    "                      )\n",
    "perr = np.sqrt(np.diag(pcov))\n",
    "print(popt_test)\n",
    "print(\"The ratio between exponential decay / 3-body decay is \" + str(round(popt[2]*(popt[0])**2/(popt[1]),1)))"
   ]
  },
  {
   "cell_type": "code",
   "execution_count": null,
   "metadata": {},
   "outputs": [],
   "source": [
    "holdTimeList = np.linspace(0, 50, 200)\n",
    "plt.figure()\n",
    "plt.plot(holdTimeList_Polarized, NCountList_Polarized, '*', color = 'red', label = 'Polarized')\n",
    "plt.plot(holdTimeList, N_polarized(holdTimeList, popt_test[0], popt_test[1], popt_test[2]), '-', color = 'black', label = 'fit')\n",
    "#plt.plot(holdTimeList, N_polarized(holdTimeList, popt[0]*0.95, popt[1]*10, popt[2]*1.5), '--', color = 'black', label = 'fit')\n",
    "\n",
    "plt.legend()\n",
    "plt.show()"
   ]
  },
  {
   "cell_type": "code",
   "execution_count": null,
   "metadata": {},
   "outputs": [],
   "source": [
    "alpha = 0.1\n",
    "gamma = 0.01\n",
    "def dNdt(t, N):\n",
    "    return -alpha*N-gamma*N**3\n",
    "Tau = np.linspace(0,50,1000)\n",
    "sol = solve_ivp(dNdt, t_span = (0,100), y0 = (N0,), t_eval = Tau)\n",
    "\n",
    "plt.figure()\n",
    "plt.plot(sol.t, sol.y[0,:])\n",
    "plt.show()"
   ]
  },
  {
   "cell_type": "code",
   "execution_count": null,
   "metadata": {},
   "outputs": [],
   "source": [
    "def N_polarized_diff(t, N0, alpha, gamma):\n",
    "    def dNdt(t, N):\n",
    "        return -alpha*N-gamma*N**3\n",
    "    #print(t)\n",
    "    sol = solve_ivp(dNdt, t_span = (0,100), y0 = (N0,), t_eval = t)#, atol = 10**-20, method = 'DOP853')\n",
    "    N = sol.y[0,:len(t)]\n",
    "    return N\n",
    "t = np.array(list(range(0,50, 1)))\n",
    "N_t = N_polarized_diff(t, 1, 0.1, 0.1)\n",
    "\n",
    "plt.figure()\n",
    "plt.plot(t, N_t)\n",
    "plt.plot(t, N_polarized(t, 1, 0.1, 0.1))\n",
    "plt.show()"
   ]
  },
  {
   "cell_type": "code",
   "execution_count": null,
   "metadata": {},
   "outputs": [],
   "source": [
    "N0_guess = max(NCountList_Polarized)\n",
    "time_guess = max(holdTimeList_Polarized)\n",
    "\n",
    "# it sadly only works if you do the mean previously\n",
    "# holdTimeList_Polarized_sorted, NCountList_Polarized_sorted = zip(*sorted(zip(holdTimeList_Polarized+noise, NCountList_Polarized)))\n",
    "holdTime = np.array([])\n",
    "NCount = np.array([])\n",
    "timeviewed = []\n",
    "for time in holdTimeList_Polarized:\n",
    "    if time in timeviewed:\n",
    "        continue # go to the next iteration\n",
    "    timeviewed += [time]\n",
    "    holdTime = np.append(holdTime,[time])\n",
    "    NCount = np.append(NCount,[NCountList_Polarized[holdTimeList_Polarized == time].mean()])\n",
    "\n",
    "holdTime, NCount = zip(*sorted(zip(holdTime, NCount)))"
   ]
  },
  {
   "cell_type": "code",
   "execution_count": null,
   "metadata": {},
   "outputs": [],
   "source": [
    "plt.figure()\n",
    "plt.plot(holdTimeList_Polarized, NCountList_Polarized, '+')\n",
    "plt.plot(holdTime, NCount, '-')\n",
    "plt.show()"
   ]
  },
  {
   "cell_type": "code",
   "execution_count": null,
   "metadata": {},
   "outputs": [],
   "source": [
    "N0_guess = max(NCount)\n",
    "time_guess = max(holdTime)\n",
    "popt_diff, pcov_diff = curve_fit(N_polarized_diff, holdTime, NCount,\n",
    "                       p0 = [N0_guess, 1/time_guess, 1/(N0_guess**2*time_guess)],\n",
    "                        bounds = ([0, 0, 0], [np.inf, np.inf, np.inf]),\n",
    "                       method = 'trf'\n",
    "                      )\n",
    "perr_diff = np.sqrt(np.diag(pcov_diff))\n",
    "\n",
    "t = np.linspace(0, 50, 1000)\n",
    "y_diff = N_polarized_diff(t, popt_diff[0], popt_diff[1], popt_diff[2])\n",
    "y_known = N_polarized(t, popt_diff[0], popt_diff[1], popt_diff[2])\n",
    "\n",
    "plt.figure()\n",
    "plt.plot(holdTimeList_Polarized, NCountList_Polarized, '+')\n",
    "plt.plot(holdTime, NCount, 'o')\n",
    "plt.plot(t, y_diff, label = \"diff solution\")\n",
    "plt.plot(t, y_known, label = \"known solution\")\n",
    "plt.legend()\n",
    "plt.show()"
   ]
  },
  {
   "cell_type": "code",
   "execution_count": null,
   "metadata": {},
   "outputs": [],
   "source": [
    "popt_diff"
   ]
  },
  {
   "cell_type": "code",
   "execution_count": null,
   "metadata": {},
   "outputs": [],
   "source": [
    "perr_diff"
   ]
  },
  {
   "cell_type": "code",
   "execution_count": null,
   "metadata": {},
   "outputs": [],
   "source": []
  },
  {
   "cell_type": "code",
   "execution_count": null,
   "metadata": {},
   "outputs": [],
   "source": []
  },
  {
   "cell_type": "code",
   "execution_count": null,
   "metadata": {},
   "outputs": [],
   "source": [
    "mydb = mysql.connector.connect(host = \"localhost\",\n",
    "                        user = \"student\",\n",
    "                        password = \"w0lfg4ng\",\n",
    "                        database = \"imagesdypoledatabase\",\n",
    "                        auth_plugin = 'mysql_native_password')\n",
    "    #print('Local connection established')"
   ]
  },
  {
   "cell_type": "code",
   "execution_count": null,
   "metadata": {},
   "outputs": [],
   "source": []
  }
 ],
 "metadata": {
  "kernelspec": {
   "display_name": "Python 3",
   "language": "python",
   "name": "python3"
  },
  "language_info": {
   "codemirror_mode": {
    "name": "ipython",
    "version": 3
   },
   "file_extension": ".py",
   "mimetype": "text/x-python",
   "name": "python",
   "nbconvert_exporter": "python",
   "pygments_lexer": "ipython3",
   "version": "3.9.0"
  },
  "latex_envs": {
   "LaTeX_envs_menu_present": true,
   "autoclose": false,
   "autocomplete": true,
   "bibliofile": "biblio.bib",
   "cite_by": "apalike",
   "current_citInitial": 1,
   "eqLabelWithNumbers": true,
   "eqNumInitial": 1,
   "hotkeys": {
    "equation": "Ctrl-E",
    "itemize": "Ctrl-I"
   },
   "labels_anchors": false,
   "latex_user_defs": false,
   "report_style_numbering": false,
   "user_envs_cfg": false
  }
 },
 "nbformat": 4,
 "nbformat_minor": 4
}
