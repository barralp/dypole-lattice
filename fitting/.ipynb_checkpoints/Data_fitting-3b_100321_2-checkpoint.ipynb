{
 "cells": [
  {
   "cell_type": "code",
   "execution_count": 1,
   "metadata": {},
   "outputs": [
    {
     "data": {
      "text/plain": [
       "84445.0"
      ]
     },
     "execution_count": 1,
     "metadata": {},
     "output_type": "execute_result"
    }
   ],
   "source": [
    "from databaseCommunication import getNCount\n",
    "from dataframeFormating import createLabeledDataFrame, fitRun_1and3b, fitRun_3b, getReducedDataframe, getReducedResults, deltaTime, N_polarized, N_polarized_pure3b\n",
    "import pandas as pd\n",
    "import numpy as np\n",
    "import matplotlib.pyplot as plt \n",
    "\n",
    "getNCount(94000)"
   ]
  },
  {
   "cell_type": "code",
   "execution_count": 2,
   "metadata": {},
   "outputs": [],
   "source": [
    "# [detuning, field direction], [imageID_start, imageID_end]\n",
    "labels = [[['1.5V', 'Bz', 7], [97472, 97571]],\n",
    "          [['1.5V', 'By', 7], [97573, 97672]]\n",
    "         ]\n",
    "excluded = []"
   ]
  },
  {
   "cell_type": "code",
   "execution_count": 3,
   "metadata": {},
   "outputs": [],
   "source": [
    "#df = createLabeledDataFrame(labels)\n",
    "#df['BECHoldTime'] = df['BECHoldTime'].astype(float)\n",
    "#df.to_pickle('data_save_100321_2.pickle')"
   ]
  },
  {
   "cell_type": "code",
   "execution_count": 4,
   "metadata": {},
   "outputs": [
    {
     "data": {
      "text/html": [
       "<div>\n",
       "<style scoped>\n",
       "    .dataframe tbody tr th:only-of-type {\n",
       "        vertical-align: middle;\n",
       "    }\n",
       "\n",
       "    .dataframe tbody tr th {\n",
       "        vertical-align: top;\n",
       "    }\n",
       "\n",
       "    .dataframe thead th {\n",
       "        text-align: right;\n",
       "    }\n",
       "</style>\n",
       "<table border=\"1\" class=\"dataframe\">\n",
       "  <thead>\n",
       "    <tr style=\"text-align: right;\">\n",
       "      <th></th>\n",
       "      <th>imageID</th>\n",
       "      <th>BECHoldTime</th>\n",
       "      <th>TOF</th>\n",
       "      <th>nCount</th>\n",
       "      <th>detuning</th>\n",
       "      <th>field_direction</th>\n",
       "    </tr>\n",
       "  </thead>\n",
       "  <tbody>\n",
       "    <tr>\n",
       "      <th>0</th>\n",
       "      <td>97472.0</td>\n",
       "      <td>20.0</td>\n",
       "      <td>7</td>\n",
       "      <td>160894.0</td>\n",
       "      <td>1.5V</td>\n",
       "      <td>Bz</td>\n",
       "    </tr>\n",
       "    <tr>\n",
       "      <th>1</th>\n",
       "      <td>97473.0</td>\n",
       "      <td>8.0</td>\n",
       "      <td>7</td>\n",
       "      <td>185303.0</td>\n",
       "      <td>1.5V</td>\n",
       "      <td>Bz</td>\n",
       "    </tr>\n",
       "    <tr>\n",
       "      <th>2</th>\n",
       "      <td>97474.0</td>\n",
       "      <td>15.0</td>\n",
       "      <td>7</td>\n",
       "      <td>177657.0</td>\n",
       "      <td>1.5V</td>\n",
       "      <td>Bz</td>\n",
       "    </tr>\n",
       "    <tr>\n",
       "      <th>3</th>\n",
       "      <td>97475.0</td>\n",
       "      <td>170.0</td>\n",
       "      <td>7</td>\n",
       "      <td>116548.0</td>\n",
       "      <td>1.5V</td>\n",
       "      <td>Bz</td>\n",
       "    </tr>\n",
       "    <tr>\n",
       "      <th>4</th>\n",
       "      <td>97476.0</td>\n",
       "      <td>700.0</td>\n",
       "      <td>7</td>\n",
       "      <td>29780.0</td>\n",
       "      <td>1.5V</td>\n",
       "      <td>Bz</td>\n",
       "    </tr>\n",
       "    <tr>\n",
       "      <th>...</th>\n",
       "      <td>...</td>\n",
       "      <td>...</td>\n",
       "      <td>...</td>\n",
       "      <td>...</td>\n",
       "      <td>...</td>\n",
       "      <td>...</td>\n",
       "    </tr>\n",
       "    <tr>\n",
       "      <th>195</th>\n",
       "      <td>97668.0</td>\n",
       "      <td>10.0</td>\n",
       "      <td>7</td>\n",
       "      <td>153563.0</td>\n",
       "      <td>1.5V</td>\n",
       "      <td>By</td>\n",
       "    </tr>\n",
       "    <tr>\n",
       "      <th>196</th>\n",
       "      <td>97669.0</td>\n",
       "      <td>90.0</td>\n",
       "      <td>7</td>\n",
       "      <td>84643.0</td>\n",
       "      <td>1.5V</td>\n",
       "      <td>By</td>\n",
       "    </tr>\n",
       "    <tr>\n",
       "      <th>197</th>\n",
       "      <td>97670.0</td>\n",
       "      <td>500.0</td>\n",
       "      <td>7</td>\n",
       "      <td>21862.0</td>\n",
       "      <td>1.5V</td>\n",
       "      <td>By</td>\n",
       "    </tr>\n",
       "    <tr>\n",
       "      <th>198</th>\n",
       "      <td>97671.0</td>\n",
       "      <td>120.0</td>\n",
       "      <td>7</td>\n",
       "      <td>57348.0</td>\n",
       "      <td>1.5V</td>\n",
       "      <td>By</td>\n",
       "    </tr>\n",
       "    <tr>\n",
       "      <th>199</th>\n",
       "      <td>97672.0</td>\n",
       "      <td>700.0</td>\n",
       "      <td>7</td>\n",
       "      <td>409.0</td>\n",
       "      <td>1.5V</td>\n",
       "      <td>By</td>\n",
       "    </tr>\n",
       "  </tbody>\n",
       "</table>\n",
       "<p>200 rows × 6 columns</p>\n",
       "</div>"
      ],
      "text/plain": [
       "     imageID  BECHoldTime  TOF    nCount detuning field_direction\n",
       "0    97472.0         20.0    7  160894.0     1.5V              Bz\n",
       "1    97473.0          8.0    7  185303.0     1.5V              Bz\n",
       "2    97474.0         15.0    7  177657.0     1.5V              Bz\n",
       "3    97475.0        170.0    7  116548.0     1.5V              Bz\n",
       "4    97476.0        700.0    7   29780.0     1.5V              Bz\n",
       "..       ...          ...  ...       ...      ...             ...\n",
       "195  97668.0         10.0    7  153563.0     1.5V              By\n",
       "196  97669.0         90.0    7   84643.0     1.5V              By\n",
       "197  97670.0        500.0    7   21862.0     1.5V              By\n",
       "198  97671.0        120.0    7   57348.0     1.5V              By\n",
       "199  97672.0        700.0    7     409.0     1.5V              By\n",
       "\n",
       "[200 rows x 6 columns]"
      ]
     },
     "execution_count": 4,
     "metadata": {},
     "output_type": "execute_result"
    }
   ],
   "source": [
    "df = pd.read_pickle('data_save_100321_2.pickle')\n",
    "\n",
    "# Delete these row indexes from dataFrame\n",
    "indexNames = pd.Index(np.where(df['imageID'].isin(excluded))[0])\n",
    "df.drop(indexNames, inplace = True)\n",
    "df"
   ]
  },
  {
   "cell_type": "code",
   "execution_count": 5,
   "metadata": {},
   "outputs": [
    {
     "data": {
      "image/png": "[encoded data removed]",
      "text/plain": [
       "<Figure size 432x288 with 1 Axes>"
      ]
     },
     "metadata": {
      "needs_background": "light"
     },
     "output_type": "display_data"
    }
   ],
   "source": [
    "plt.figure()\n",
    "plt.plot(df['BECHoldTime'], df['nCount'], '+', color = 'blue', label = 'All')\n",
    "plt.legend()\n",
    "plt.show()\n",
    "\n",
    "#run = df[df['detuning'] == '0.5GHz']\n",
    "#run1 = run[run['field_direction'] == 'Bz']\n",
    "#run2 = run[run['field_direction'] == 'By']\n",
    "#plt.figure()\n",
    "#plt.plot(run1['BECHoldTime'], run1['nCount'], '+', color = 'blue', label = 'Bz')\n",
    "#plt.plot(run2['BECHoldTime'], run2['nCount'], '+', color = 'red', label = 'By')\n",
    "#plt.legend()\n",
    "#plt.show()"
   ]
  },
  {
   "cell_type": "markdown",
   "metadata": {},
   "source": [
    "We fit the polarized sample to $dN/dt = -\\alpha N-\\gamma N^{3}$, so $N(t) = \\frac{\\sqrt{\\alpha}}{\\sqrt{e^{2\\alpha t}\\left(\\frac{a}{N(0)^{2}}+\\gamma\\right)-\\gamma}}$ and the mixture one to $dN/dt = -\\alpha N - \\beta N^{2} -\\gamma N^{3}$, so $N(t) = complicated$"
   ]
  },
  {
   "cell_type": "code",
   "execution_count": 6,
   "metadata": {},
   "outputs": [
    {
     "name": "stdout",
     "output_type": "stream",
     "text": [
      "1.5V Bz 7\n",
      "1.5V By 7\n",
      "\n",
      "\n",
      "  detuning  TOF field_direction             N0     alpha         gamma\n",
      "0     1.5V    7              Bz  184780.566839  0.002309  6.808619e-14\n",
      "1     1.5V    7              By  179032.208275  0.005399  2.326350e-13\n",
      "\n",
      "\n",
      "0    0.993078\n",
      "1    0.724066\n",
      "dtype: float64\n"
     ]
    }
   ],
   "source": [
    "results = []\n",
    "for run in labels:\n",
    "    detuning, field_direction, TOF = run[0]\n",
    "    print(detuning, field_direction, TOF)\n",
    "    popt, pcov = fitRun_1and3b(df, detuning, field_direction, TOF)\n",
    "    results += [{'detuning' : detuning,\n",
    "                        'TOF' : TOF,\n",
    "                        'field_direction' : field_direction,\n",
    "                        'N0' : popt[0],\n",
    "                        'alpha' : popt[1],\n",
    "                        'gamma' : popt[2]}]\n",
    "resultsDF = pd.DataFrame(results)\n",
    "print('\\n')\n",
    "print(resultsDF)\n",
    "print('\\n')\n",
    "print(resultsDF['alpha']*resultsDF['N0']/(resultsDF['gamma']*(resultsDF['N0']**3)))\n",
    "#perr = np.sqrt(np.diag(pcov))"
   ]
  },
  {
   "cell_type": "markdown",
   "metadata": {},
   "source": [
    "We notice the decay is nearly 3-body in all case. To ensure that we can look at $\\alpha N_{0}/(\\gamma*N_{0}^{3})$ which at $t=0$ is never above a 10\\%. So let's just fit to a 3body decay curve.\n",
    "$dN/dt = -\\gamma N^{3}$, so $N(t) = \\frac{N_{0}}{\\sqrt{1+N_{0}^{2}\\gamma t}}$."
   ]
  },
  {
   "cell_type": "code",
   "execution_count": 7,
   "metadata": {},
   "outputs": [
    {
     "data": {
      "text/html": [
       "<div>\n",
       "<style scoped>\n",
       "    .dataframe tbody tr th:only-of-type {\n",
       "        vertical-align: middle;\n",
       "    }\n",
       "\n",
       "    .dataframe tbody tr th {\n",
       "        vertical-align: top;\n",
       "    }\n",
       "\n",
       "    .dataframe thead th {\n",
       "        text-align: right;\n",
       "    }\n",
       "</style>\n",
       "<table border=\"1\" class=\"dataframe\">\n",
       "  <thead>\n",
       "    <tr style=\"text-align: right;\">\n",
       "      <th></th>\n",
       "      <th>detuning</th>\n",
       "      <th>TOF</th>\n",
       "      <th>field_direction</th>\n",
       "      <th>N0</th>\n",
       "      <th>gamma</th>\n",
       "    </tr>\n",
       "  </thead>\n",
       "  <tbody>\n",
       "    <tr>\n",
       "      <th>0</th>\n",
       "      <td>1.5V</td>\n",
       "      <td>7</td>\n",
       "      <td>Bz</td>\n",
       "      <td>192757.300155</td>\n",
       "      <td>4.617410e-13</td>\n",
       "    </tr>\n",
       "    <tr>\n",
       "      <th>1</th>\n",
       "      <td>1.5V</td>\n",
       "      <td>7</td>\n",
       "      <td>By</td>\n",
       "      <td>192724.781136</td>\n",
       "      <td>1.568246e-12</td>\n",
       "    </tr>\n",
       "  </tbody>\n",
       "</table>\n",
       "</div>"
      ],
      "text/plain": [
       "  detuning  TOF field_direction             N0         gamma\n",
       "0     1.5V    7              Bz  192757.300155  4.617410e-13\n",
       "1     1.5V    7              By  192724.781136  1.568246e-12"
      ]
     },
     "execution_count": 7,
     "metadata": {},
     "output_type": "execute_result"
    }
   ],
   "source": [
    "results = []\n",
    "\n",
    "for run in labels:\n",
    "    detuning, field_direction, TOF = run[0]\n",
    "    popt, pcov = fitRun_3b(df, detuning, field_direction, TOF)\n",
    "    results += [{'detuning' : detuning,\n",
    "                        'TOF' : TOF,\n",
    "                        'field_direction' : field_direction,\n",
    "                        'N0' : popt[0],\n",
    "                        'gamma' : popt[1]}]\n",
    "resultsDF_pure3b = pd.DataFrame(results)\n",
    "resultsDF_pure3b\n",
    "#perr = np.sqrt(np.diag(pcov))"
   ]
  },
  {
   "cell_type": "code",
   "execution_count": 9,
   "metadata": {},
   "outputs": [
    {
     "data": {
      "image/png": "[encoded data removed]",
      "text/plain": [
       "<Figure size 432x288 with 1 Axes>"
      ]
     },
     "metadata": {
      "needs_background": "light"
     },
     "output_type": "display_data"
    }
   ],
   "source": [
    "df_reduced = getReducedDataframe(df, detuning = '1.5V', field_direction = 'Bz', TOF = 7)\n",
    "result_reduced = getReducedResults(resultsDF_pure3b, detuning = '1.5V', field_direction = 'Bz', TOF = 7)\n",
    "holdTime = np.linspace(0,20, 300)\n",
    "plt.figure()\n",
    "plt.plot(df_reduced['BECHoldTime'], df_reduced['nCount'], '*')\n",
    "plt.plot(holdTime, N_polarized_pure3b(holdTime, result_reduced['N0'][0], result_reduced['gamma'][0]))\n",
    "plt.show()"
   ]
  },
  {
   "cell_type": "markdown",
   "metadata": {},
   "source": [
    "Now we should look at how much time we should shift:"
   ]
  },
  {
   "cell_type": "code",
   "execution_count": 12,
   "metadata": {},
   "outputs": [
    {
     "data": {
      "text/plain": [
       "0.020002000200020003"
      ]
     },
     "execution_count": 12,
     "metadata": {},
     "output_type": "execute_result"
    }
   ],
   "source": [
    "deltaTime(resultsDF_pure3b, '1.5V', 7)"
   ]
  },
  {
   "cell_type": "markdown",
   "metadata": {},
   "source": [
    "Now we can calculate the ration of the beta, provided the derivative of the N_polarized_pure3b function: $\\frac{dN}{dt} = -\\frac{1}{2}N_{0}^{3}\\gamma\\left(1+N_{0}^{2}\\gamma t\\right)^{-3/2}$"
   ]
  },
  {
   "cell_type": "code",
   "execution_count": 17,
   "metadata": {},
   "outputs": [
    {
     "name": "stdout",
     "output_type": "stream",
     "text": [
      "1.5V 7\n"
     ]
    },
    {
     "data": {
      "text/html": [
       "<div>\n",
       "<style scoped>\n",
       "    .dataframe tbody tr th:only-of-type {\n",
       "        vertical-align: middle;\n",
       "    }\n",
       "\n",
       "    .dataframe tbody tr th {\n",
       "        vertical-align: top;\n",
       "    }\n",
       "\n",
       "    .dataframe thead th {\n",
       "        text-align: right;\n",
       "    }\n",
       "</style>\n",
       "<table border=\"1\" class=\"dataframe\">\n",
       "  <thead>\n",
       "    <tr style=\"text-align: right;\">\n",
       "      <th></th>\n",
       "      <th>detuning</th>\n",
       "      <th>TOF</th>\n",
       "      <th>betaRatio</th>\n",
       "    </tr>\n",
       "  </thead>\n",
       "  <tbody>\n",
       "    <tr>\n",
       "      <th>0</th>\n",
       "      <td>1.5V</td>\n",
       "      <td>7</td>\n",
       "      <td>0.294581</td>\n",
       "    </tr>\n",
       "  </tbody>\n",
       "</table>\n",
       "</div>"
      ],
      "text/plain": [
       "  detuning  TOF  betaRatio\n",
       "0     1.5V    7   0.294581"
      ]
     },
     "execution_count": 17,
     "metadata": {},
     "output_type": "execute_result"
    }
   ],
   "source": [
    "def dN_polarized_pure3b_dt(t, N0, gamma):\n",
    "    return -0.5*N0**3*gamma*(1+N0**2*gamma*t)**(-3/2)\n",
    "\n",
    "def getBeta(results, detuning, field_direction, TOF):\n",
    "    temp = results[results['detuning'] == detuning]\n",
    "    temp = temp[temp['TOF'] == TOF]\n",
    "    return temp[temp['field_direction'] == field_direction]['gamma']\n",
    "\n",
    "results_betaRatio = []\n",
    "for detuning in ['1.5V']:\n",
    "    for TOF in [7]:\n",
    "        print(detuning, TOF)\n",
    "        beta_y_init = getBeta(resultsDF_pure3b, detuning, 'By', TOF)\n",
    "        beta_z_init = getBeta(resultsDF_pure3b, detuning, 'Bz', TOF)\n",
    "        #dt = deltaTime(resultsDF_pure3b, detuning, TOF)\n",
    "        \n",
    "        results_By = getReducedResults(resultsDF_pure3b, detuning, 'By', TOF)\n",
    "        results_Bz = getReducedResults(resultsDF_pure3b, detuning, 'Bz', TOF)\n",
    "        N0_y, gamma_y = results_By['N0'].iloc[0], results_By['gamma'].iloc[0]\n",
    "        N0_z, gamma_z = results_Bz['N0'].iloc[0], results_Bz['gamma'].iloc[0]\n",
    "        \n",
    "        beta_y = dN_polarized_pure3b_dt(0, N0_y, gamma_y)\n",
    "        #beta_z = dN_polarized_pure3b_dt(dt, N0_z, gamma_z)\n",
    "        beta_z = dN_polarized_pure3b_dt(0, N0_z, gamma_z)\n",
    "        \n",
    "        results_betaRatio += [{'detuning' : detuning,\n",
    "                        'TOF' : TOF,\n",
    "                        'betaRatio' : beta_z/beta_y}]\n",
    "\n",
    "results_betaRatio = pd.DataFrame(results_betaRatio)\n",
    "\n",
    "results_betaRatio"
   ]
  },
  {
   "cell_type": "code",
   "execution_count": 20,
   "metadata": {},
   "outputs": [
    {
     "name": "stdout",
     "output_type": "stream",
     "text": [
      "-5613.023458482829\n",
      "-1652.6368773881863\n"
     ]
    }
   ],
   "source": [
    "detuning = '1.5V'\n",
    "TOF = 7\n",
    "beta_y_init = getBeta(resultsDF_pure3b, detuning, 'By', TOF)  # this is the gamma from the fit\n",
    "beta_z_init = getBeta(resultsDF_pure3b, detuning, 'Bz', TOF)\n",
    "dt = deltaTime(resultsDF_pure3b, detuning, TOF)\n",
    "\n",
    "results_By = getReducedResults(resultsDF_pure3b, detuning, 'By', TOF)  # this is the full results of a fit\n",
    "results_Bz = getReducedResults(resultsDF_pure3b, detuning, 'Bz', TOF)\n",
    "N0_y, gamma_y = results_By['N0'].iloc[0], results_By['gamma'].iloc[0]\n",
    "N0_z, gamma_z = results_Bz['N0'].iloc[0], results_Bz['gamma'].iloc[0]\n",
    "        \n",
    "beta_y = dN_polarized_pure3b_dt(0, N0_y, gamma_y)\n",
    "beta_z = dN_polarized_pure3b_dt(dt, N0_z, gamma_z)\n",
    "#beta_z/beta_y\n",
    "print(beta_y)\n",
    "print(beta_z)\n"
   ]
  },
  {
   "cell_type": "code",
   "execution_count": 22,
   "metadata": {},
   "outputs": [
    {
     "data": {
      "image/png": "[encoded data removed]",
      "text/plain": [
       "<Figure size 720x480 with 1 Axes>"
      ]
     },
     "metadata": {
      "needs_background": "light"
     },
     "output_type": "display_data"
    }
   ],
   "source": [
    "detuning = '1.5V'\n",
    "TOF = 7\n",
    "df_reduced_z = getReducedDataframe(df, detuning,'Bz', TOF)\n",
    "df_reduced_y = getReducedDataframe(df, detuning,'By', TOF)\n",
    "result_reduced_z = getReducedResults(resultsDF_pure3b, detuning, 'Bz', TOF)\n",
    "result_reduced_y = getReducedResults(resultsDF_pure3b, detuning, 'By', TOF)\n",
    "\n",
    "dNdt = dN_polarized_pure3b_dt(dt, result_reduced_z['N0'].iloc[0], result_reduced_z['gamma'].iloc[0])\n",
    "holdTime = np.linspace(0,1000, 300)\n",
    "plt.figure(dpi = 120)\n",
    "plt.plot(df_reduced_z['BECHoldTime'], df_reduced_z['nCount'], '*')\n",
    "plt.plot(df_reduced_y['BECHoldTime'], df_reduced_y['nCount'], '*')\n",
    "plt.plot(holdTime, N_polarized_pure3b(holdTime, result_reduced_z['N0'].iloc[0], result_reduced_z['gamma'].iloc[0]), color = 'blue', label = '$B_{z}$')\n",
    "plt.plot(holdTime, N_polarized_pure3b(holdTime, result_reduced_y['N0'].iloc[0], result_reduced_y['gamma'].iloc[0]), color = 'red', label = '$B_{y}$')\n",
    "plt.title('Blue detuned, $\\Delta = 1$GHz, $V_{PD} = 1.5V$, $\\omega_{z} = 140$ kHz')\n",
    "plt.legend()\n",
    "plt.xlabel('$T_{hold}$ (ms)')\n",
    "plt.ylabel('Atom number')\n",
    "plt.show()"
   ]
  },
  {
   "cell_type": "code",
   "execution_count": 15,
   "metadata": {},
   "outputs": [
    {
     "data": {
      "text/html": [
       "<div>\n",
       "<style scoped>\n",
       "    .dataframe tbody tr th:only-of-type {\n",
       "        vertical-align: middle;\n",
       "    }\n",
       "\n",
       "    .dataframe tbody tr th {\n",
       "        vertical-align: top;\n",
       "    }\n",
       "\n",
       "    .dataframe thead th {\n",
       "        text-align: right;\n",
       "    }\n",
       "</style>\n",
       "<table border=\"1\" class=\"dataframe\">\n",
       "  <thead>\n",
       "    <tr style=\"text-align: right;\">\n",
       "      <th></th>\n",
       "      <th>detuning</th>\n",
       "      <th>TOF</th>\n",
       "      <th>field_direction</th>\n",
       "      <th>N0</th>\n",
       "      <th>gamma</th>\n",
       "    </tr>\n",
       "  </thead>\n",
       "  <tbody>\n",
       "    <tr>\n",
       "      <th>0</th>\n",
       "      <td>0.5GHz</td>\n",
       "      <td>3</td>\n",
       "      <td>Bz</td>\n",
       "      <td>131028.827443</td>\n",
       "      <td>1.713659e-12</td>\n",
       "    </tr>\n",
       "    <tr>\n",
       "      <th>1</th>\n",
       "      <td>0.5GHz</td>\n",
       "      <td>3</td>\n",
       "      <td>By</td>\n",
       "      <td>132199.355160</td>\n",
       "      <td>3.000413e-12</td>\n",
       "    </tr>\n",
       "  </tbody>\n",
       "</table>\n",
       "</div>"
      ],
      "text/plain": [
       "  detuning  TOF field_direction             N0         gamma\n",
       "0   0.5GHz    3              Bz  131028.827443  1.713659e-12\n",
       "1   0.5GHz    3              By  132199.355160  3.000413e-12"
      ]
     },
     "execution_count": 15,
     "metadata": {},
     "output_type": "execute_result"
    }
   ],
   "source": [
    "resultsDF_pure3b"
   ]
  },
  {
   "cell_type": "code",
   "execution_count": 25,
   "metadata": {},
   "outputs": [
    {
     "data": {
      "image/png": "[encoded data removed]",
      "text/plain": [
       "<Figure size 432x288 with 1 Axes>"
      ]
     },
     "metadata": {
      "needs_background": "light"
     },
     "output_type": "display_data"
    }
   ],
   "source": [
    "points15V = results_betaRatio[results_betaRatio['detuning'] == '1.5V']['betaRatio']\n",
    "ratios = [points15V]\n",
    "plt.figure()\n",
    "plt.plot(np.sqrt(np.array([1.5])), ratios, '*')\n",
    "plt.title(r'$\\beta_{z}/\\beta_{y}$')\n",
    "plt.xlabel(r'Trap frequency $\\omega_{z}$ (kHz)')\n",
    "plt.show()"
   ]
  },
  {
   "cell_type": "code",
   "execution_count": 17,
   "metadata": {},
   "outputs": [
    {
     "data": {
      "text/html": [
       "<div>\n",
       "<style scoped>\n",
       "    .dataframe tbody tr th:only-of-type {\n",
       "        vertical-align: middle;\n",
       "    }\n",
       "\n",
       "    .dataframe tbody tr th {\n",
       "        vertical-align: top;\n",
       "    }\n",
       "\n",
       "    .dataframe thead th {\n",
       "        text-align: right;\n",
       "    }\n",
       "</style>\n",
       "<table border=\"1\" class=\"dataframe\">\n",
       "  <thead>\n",
       "    <tr style=\"text-align: right;\">\n",
       "      <th></th>\n",
       "      <th>detuning</th>\n",
       "      <th>TOF</th>\n",
       "      <th>betaRatio</th>\n",
       "    </tr>\n",
       "  </thead>\n",
       "  <tbody>\n",
       "    <tr>\n",
       "      <th>0</th>\n",
       "      <td>0.5GHz</td>\n",
       "      <td>3</td>\n",
       "      <td>0.556104</td>\n",
       "    </tr>\n",
       "  </tbody>\n",
       "</table>\n",
       "</div>"
      ],
      "text/plain": [
       "  detuning  TOF  betaRatio\n",
       "0   0.5GHz    3   0.556104"
      ]
     },
     "execution_count": 17,
     "metadata": {},
     "output_type": "execute_result"
    }
   ],
   "source": [
    "results_betaRatio"
   ]
  },
  {
   "cell_type": "markdown",
   "metadata": {},
   "source": [
    "It doesn't look good at all, it should be reversed, the $\\beta_{z}$ should be equal to $\\beta_{y}$ for small $\\omega_{z}$ and drop at the threshold."
   ]
  },
  {
   "cell_type": "code",
   "execution_count": 26,
   "metadata": {},
   "outputs": [
    {
     "name": "stdout",
     "output_type": "stream",
     "text": [
      "0.5GHz 3\n"
     ]
    },
    {
     "data": {
      "image/png": "[encoded data removed]",
      "text/plain": [
       "<Figure size 432x288 with 1 Axes>"
      ]
     },
     "metadata": {
      "needs_background": "light"
     },
     "output_type": "display_data"
    }
   ],
   "source": [
    "def dN_polarized_pure3b_dt(t, N0, gamma):\n",
    "    return -0.5*N0**3*gamma*(1+N0**2*gamma*t)**(-3/2)\n",
    "\n",
    "def getBeta(results, detuning, field_direction, TOF):\n",
    "    temp = results[results['detuning'] == detuning]\n",
    "    temp = temp[temp['TOF'] == TOF]\n",
    "    return temp[temp['field_direction'] == field_direction]['gamma']\n",
    "\n",
    "results_betaRatio = []\n",
    "for detuning in ['0.5GHz']:#, '1.5GHz']:\n",
    "    for TOF in [3]:#, 3]:\n",
    "        print(detuning, TOF)\n",
    "        beta_y_init = getBeta(resultsDF_pure3b, detuning, 'By', TOF)\n",
    "        beta_z_init = getBeta(resultsDF_pure3b, detuning, 'Bz', TOF)\n",
    "        dt = deltaTime(resultsDF_pure3b, detuning, TOF)\n",
    "        \n",
    "        results_By = getReducedResults(resultsDF_pure3b, detuning, 'By', TOF)\n",
    "        results_Bz = getReducedResults(resultsDF_pure3b, detuning, 'Bz', TOF)\n",
    "        N0_y, gamma_y = results_By['N0'].iloc[0], results_By['gamma'].iloc[0]\n",
    "        N0_z, gamma_z = results_Bz['N0'].iloc[0], results_Bz['gamma'].iloc[0]\n",
    "        \n",
    "        beta_y = dN_polarized_pure3b_dt(0, N0_y, gamma_y)\n",
    "        beta_z = dN_polarized_pure3b_dt(0, N0_z, gamma_z)\n",
    "        \n",
    "        results_betaRatio += [{'detuning' : detuning,\n",
    "                        'TOF' : TOF,\n",
    "                        'betaRatio' : beta_z/beta_y}]\n",
    "\n",
    "results_betaRatio = pd.DataFrame(results_betaRatio)\n",
    "\n",
    "results_betaRatio\n",
    "\n",
    "points05G = results_betaRatio[results_betaRatio['detuning'] == '0.5GHz']['betaRatio']\n",
    "#points15G = results_betaRatio[results_betaRatio['detuning'] == '1.5GHz']['betaRatio']\n",
    "\n",
    "plt.figure()\n",
    "plt.plot([116], points05G, '*')\n",
    "#plt.plot([96], points15G, '*')\n",
    "plt.title(r'$\\beta_{z}/\\beta_{y}$')\n",
    "plt.xlabel(r'Trap frequency $\\omega_{z}$ (kHz)')\n",
    "plt.show()"
   ]
  },
  {
   "cell_type": "code",
   "execution_count": 37,
   "metadata": {},
   "outputs": [
    {
     "ename": "TypeError",
     "evalue": "bad operand type for abs(): 'str'",
     "output_type": "error",
     "traceback": [
      "\u001b[0;31m---------------------------------------------------------------------------\u001b[0m",
      "\u001b[0;31mTypeError\u001b[0m                                 Traceback (most recent call last)",
      "\u001b[0;32m<ipython-input-37-838eae657ebd>\u001b[0m in \u001b[0;36m<module>\u001b[0;34m\u001b[0m\n\u001b[1;32m      4\u001b[0m \u001b[0;34m\u001b[0m\u001b[0m\n\u001b[1;32m      5\u001b[0m \u001b[0;34m\u001b[0m\u001b[0m\n\u001b[0;32m----> 6\u001b[0;31m \u001b[0mdf_reduced_z\u001b[0m \u001b[0;34m=\u001b[0m \u001b[0mnp\u001b[0m\u001b[0;34m.\u001b[0m\u001b[0mabs\u001b[0m\u001b[0;34m(\u001b[0m\u001b[0mgetReducedDataframe\u001b[0m\u001b[0;34m(\u001b[0m\u001b[0mdf\u001b[0m\u001b[0;34m,\u001b[0m \u001b[0mdetuning\u001b[0m\u001b[0;34m,\u001b[0m\u001b[0;34m'Bz'\u001b[0m\u001b[0;34m,\u001b[0m \u001b[0mTOF\u001b[0m\u001b[0;34m)\u001b[0m\u001b[0;34m)\u001b[0m\u001b[0;34m\u001b[0m\u001b[0;34m\u001b[0m\u001b[0m\n\u001b[0m\u001b[1;32m      7\u001b[0m \u001b[0mdf_reduced_y\u001b[0m \u001b[0;34m=\u001b[0m \u001b[0mnp\u001b[0m\u001b[0;34m.\u001b[0m\u001b[0mabs\u001b[0m\u001b[0;34m(\u001b[0m\u001b[0mgetReducedDataframe\u001b[0m\u001b[0;34m(\u001b[0m\u001b[0mdf\u001b[0m\u001b[0;34m,\u001b[0m \u001b[0mdetuning\u001b[0m\u001b[0;34m,\u001b[0m\u001b[0;34m'By'\u001b[0m\u001b[0;34m,\u001b[0m \u001b[0mTOF\u001b[0m\u001b[0;34m)\u001b[0m\u001b[0;34m)\u001b[0m\u001b[0;34m\u001b[0m\u001b[0;34m\u001b[0m\u001b[0m\n\u001b[1;32m      8\u001b[0m \u001b[0mresult_reduced_z\u001b[0m \u001b[0;34m=\u001b[0m \u001b[0mnp\u001b[0m\u001b[0;34m.\u001b[0m\u001b[0mabs\u001b[0m\u001b[0;34m(\u001b[0m\u001b[0mgetReducedResults\u001b[0m\u001b[0;34m(\u001b[0m\u001b[0mresultsDF_pure3b\u001b[0m\u001b[0;34m,\u001b[0m \u001b[0mdetuning\u001b[0m\u001b[0;34m,\u001b[0m \u001b[0;34m'Bz'\u001b[0m\u001b[0;34m,\u001b[0m \u001b[0mTOF\u001b[0m\u001b[0;34m)\u001b[0m\u001b[0;34m)\u001b[0m\u001b[0;34m\u001b[0m\u001b[0;34m\u001b[0m\u001b[0m\n",
      "\u001b[0;32m/usr/local/lib/python3.9/site-packages/pandas/core/generic.py\u001b[0m in \u001b[0;36m__array_ufunc__\u001b[0;34m(self, ufunc, method, *inputs, **kwargs)\u001b[0m\n\u001b[1;32m   1931\u001b[0m         \u001b[0mself\u001b[0m\u001b[0;34m,\u001b[0m \u001b[0mufunc\u001b[0m\u001b[0;34m:\u001b[0m \u001b[0mCallable\u001b[0m\u001b[0;34m,\u001b[0m \u001b[0mmethod\u001b[0m\u001b[0;34m:\u001b[0m \u001b[0mstr\u001b[0m\u001b[0;34m,\u001b[0m \u001b[0;34m*\u001b[0m\u001b[0minputs\u001b[0m\u001b[0;34m:\u001b[0m \u001b[0mAny\u001b[0m\u001b[0;34m,\u001b[0m \u001b[0;34m**\u001b[0m\u001b[0mkwargs\u001b[0m\u001b[0;34m:\u001b[0m \u001b[0mAny\u001b[0m\u001b[0;34m\u001b[0m\u001b[0;34m\u001b[0m\u001b[0m\n\u001b[1;32m   1932\u001b[0m     ):\n\u001b[0;32m-> 1933\u001b[0;31m         \u001b[0;32mreturn\u001b[0m \u001b[0marraylike\u001b[0m\u001b[0;34m.\u001b[0m\u001b[0marray_ufunc\u001b[0m\u001b[0;34m(\u001b[0m\u001b[0mself\u001b[0m\u001b[0;34m,\u001b[0m \u001b[0mufunc\u001b[0m\u001b[0;34m,\u001b[0m \u001b[0mmethod\u001b[0m\u001b[0;34m,\u001b[0m \u001b[0;34m*\u001b[0m\u001b[0minputs\u001b[0m\u001b[0;34m,\u001b[0m \u001b[0;34m**\u001b[0m\u001b[0mkwargs\u001b[0m\u001b[0;34m)\u001b[0m\u001b[0;34m\u001b[0m\u001b[0;34m\u001b[0m\u001b[0m\n\u001b[0m\u001b[1;32m   1934\u001b[0m \u001b[0;34m\u001b[0m\u001b[0m\n\u001b[1;32m   1935\u001b[0m     \u001b[0;31m# ideally we would define this to avoid the getattr checks, but\u001b[0m\u001b[0;34m\u001b[0m\u001b[0;34m\u001b[0m\u001b[0;34m\u001b[0m\u001b[0m\n",
      "\u001b[0;32m/usr/local/lib/python3.9/site-packages/pandas/core/arraylike.py\u001b[0m in \u001b[0;36marray_ufunc\u001b[0;34m(self, ufunc, method, *inputs, **kwargs)\u001b[0m\n\u001b[1;32m    276\u001b[0m         \u001b[0;31m# ufunc(dataframe)\u001b[0m\u001b[0;34m\u001b[0m\u001b[0;34m\u001b[0m\u001b[0;34m\u001b[0m\u001b[0m\n\u001b[1;32m    277\u001b[0m         \u001b[0mmgr\u001b[0m \u001b[0;34m=\u001b[0m \u001b[0minputs\u001b[0m\u001b[0;34m[\u001b[0m\u001b[0;36m0\u001b[0m\u001b[0;34m]\u001b[0m\u001b[0;34m.\u001b[0m\u001b[0m_mgr\u001b[0m\u001b[0;34m\u001b[0m\u001b[0;34m\u001b[0m\u001b[0m\n\u001b[0;32m--> 278\u001b[0;31m         \u001b[0mresult\u001b[0m \u001b[0;34m=\u001b[0m \u001b[0mmgr\u001b[0m\u001b[0;34m.\u001b[0m\u001b[0mapply\u001b[0m\u001b[0;34m(\u001b[0m\u001b[0mgetattr\u001b[0m\u001b[0;34m(\u001b[0m\u001b[0mufunc\u001b[0m\u001b[0;34m,\u001b[0m \u001b[0mmethod\u001b[0m\u001b[0;34m)\u001b[0m\u001b[0;34m)\u001b[0m\u001b[0;34m\u001b[0m\u001b[0;34m\u001b[0m\u001b[0m\n\u001b[0m\u001b[1;32m    279\u001b[0m \u001b[0;34m\u001b[0m\u001b[0m\n\u001b[1;32m    280\u001b[0m     \u001b[0;32mif\u001b[0m \u001b[0mufunc\u001b[0m\u001b[0;34m.\u001b[0m\u001b[0mnout\u001b[0m \u001b[0;34m>\u001b[0m \u001b[0;36m1\u001b[0m\u001b[0;34m:\u001b[0m  \u001b[0;31m# type: ignore[attr-defined]\u001b[0m\u001b[0;34m\u001b[0m\u001b[0;34m\u001b[0m\u001b[0m\n",
      "\u001b[0;32m/usr/local/lib/python3.9/site-packages/pandas/core/internals/managers.py\u001b[0m in \u001b[0;36mapply\u001b[0;34m(self, f, align_keys, ignore_failures, **kwargs)\u001b[0m\n\u001b[1;32m    423\u001b[0m             \u001b[0;32mtry\u001b[0m\u001b[0;34m:\u001b[0m\u001b[0;34m\u001b[0m\u001b[0;34m\u001b[0m\u001b[0m\n\u001b[1;32m    424\u001b[0m                 \u001b[0;32mif\u001b[0m \u001b[0mcallable\u001b[0m\u001b[0;34m(\u001b[0m\u001b[0mf\u001b[0m\u001b[0;34m)\u001b[0m\u001b[0;34m:\u001b[0m\u001b[0;34m\u001b[0m\u001b[0;34m\u001b[0m\u001b[0m\n\u001b[0;32m--> 425\u001b[0;31m                     \u001b[0mapplied\u001b[0m \u001b[0;34m=\u001b[0m \u001b[0mb\u001b[0m\u001b[0;34m.\u001b[0m\u001b[0mapply\u001b[0m\u001b[0;34m(\u001b[0m\u001b[0mf\u001b[0m\u001b[0;34m,\u001b[0m \u001b[0;34m**\u001b[0m\u001b[0mkwargs\u001b[0m\u001b[0;34m)\u001b[0m\u001b[0;34m\u001b[0m\u001b[0;34m\u001b[0m\u001b[0m\n\u001b[0m\u001b[1;32m    426\u001b[0m                 \u001b[0;32melse\u001b[0m\u001b[0;34m:\u001b[0m\u001b[0;34m\u001b[0m\u001b[0;34m\u001b[0m\u001b[0m\n\u001b[1;32m    427\u001b[0m                     \u001b[0mapplied\u001b[0m \u001b[0;34m=\u001b[0m \u001b[0mgetattr\u001b[0m\u001b[0;34m(\u001b[0m\u001b[0mb\u001b[0m\u001b[0;34m,\u001b[0m \u001b[0mf\u001b[0m\u001b[0;34m)\u001b[0m\u001b[0;34m(\u001b[0m\u001b[0;34m**\u001b[0m\u001b[0mkwargs\u001b[0m\u001b[0;34m)\u001b[0m\u001b[0;34m\u001b[0m\u001b[0;34m\u001b[0m\u001b[0m\n",
      "\u001b[0;32m/usr/local/lib/python3.9/site-packages/pandas/core/internals/blocks.py\u001b[0m in \u001b[0;36mapply\u001b[0;34m(self, func, **kwargs)\u001b[0m\n\u001b[1;32m    376\u001b[0m         \"\"\"\n\u001b[1;32m    377\u001b[0m         \u001b[0;32mwith\u001b[0m \u001b[0mnp\u001b[0m\u001b[0;34m.\u001b[0m\u001b[0merrstate\u001b[0m\u001b[0;34m(\u001b[0m\u001b[0mall\u001b[0m\u001b[0;34m=\u001b[0m\u001b[0;34m\"ignore\"\u001b[0m\u001b[0;34m)\u001b[0m\u001b[0;34m:\u001b[0m\u001b[0;34m\u001b[0m\u001b[0;34m\u001b[0m\u001b[0m\n\u001b[0;32m--> 378\u001b[0;31m             \u001b[0mresult\u001b[0m \u001b[0;34m=\u001b[0m \u001b[0mfunc\u001b[0m\u001b[0;34m(\u001b[0m\u001b[0mself\u001b[0m\u001b[0;34m.\u001b[0m\u001b[0mvalues\u001b[0m\u001b[0;34m,\u001b[0m \u001b[0;34m**\u001b[0m\u001b[0mkwargs\u001b[0m\u001b[0;34m)\u001b[0m\u001b[0;34m\u001b[0m\u001b[0;34m\u001b[0m\u001b[0m\n\u001b[0m\u001b[1;32m    379\u001b[0m \u001b[0;34m\u001b[0m\u001b[0m\n\u001b[1;32m    380\u001b[0m         \u001b[0;32mreturn\u001b[0m \u001b[0mself\u001b[0m\u001b[0;34m.\u001b[0m\u001b[0m_split_op_result\u001b[0m\u001b[0;34m(\u001b[0m\u001b[0mresult\u001b[0m\u001b[0;34m)\u001b[0m\u001b[0;34m\u001b[0m\u001b[0;34m\u001b[0m\u001b[0m\n",
      "\u001b[0;31mTypeError\u001b[0m: bad operand type for abs(): 'str'"
     ]
    }
   ],
   "source": [
    "detunign = '1.5V'\n",
    "TOF = 7\n",
    "from matplotlib.ticker import NullFormatter  # useful for `logit` scale\n",
    "\n",
    "\n",
    "df_reduced_z = np.abs(getReducedDataframe(df, detuning,'Bz', TOF))\n",
    "df_reduced_y = np.abs(getReducedDataframe(df, detuning,'By', TOF))\n",
    "result_reduced_z = np.abs(getReducedResults(resultsDF_pure3b, detuning, 'Bz', TOF))\n",
    "result_reduced_y = np.abs(getReducedResults(resultsDF_pure3b, detuning, 'By', TOF))\n",
    "\n",
    "plt.figure()\n",
    "holdTime = np.linspace(0,1000, 300)\n",
    "plt.figure(dpi = 120)\n",
    "plt.yscale = 'log'\n",
    "plt.plot(df_reduced_z['BECHoldTime'], df_reduced_z['nCount'], '*')\n",
    "plt.plot(df_reduced_y['BECHoldTime'], df_reduced_y['nCount'], '*')\n",
    "plt.plot(holdTime, N_polarized_pure3b(holdTime, result_reduced_z['N0'].iloc[0], result_reduced_z['gamma'].iloc[0]), color = 'blue', label = '$B_{z}$')\n",
    "plt.plot(holdTime, N_polarized_pure3b(holdTime, result_reduced_y['N0'].iloc[0], result_reduced_y['gamma'].iloc[0]), color = 'red', label = '$B_{y}$')\n",
    "plt.title('Blue detuned, $\\Delta = 1$GHz, $V_{PD} = 1.5V$, $\\omega_{z} = 140$ kHz')\n",
    "plt.legend()\n",
    "plt.xlabel('$T_{hold}$ (ms)')\n",
    "plt.ylabel('Atom number')\n",
    "plt.show()"
   ]
  },
  {
   "cell_type": "code",
   "execution_count": 39,
   "metadata": {},
   "outputs": [
    {
     "data": {
      "text/html": [
       "<div>\n",
       "<style scoped>\n",
       "    .dataframe tbody tr th:only-of-type {\n",
       "        vertical-align: middle;\n",
       "    }\n",
       "\n",
       "    .dataframe tbody tr th {\n",
       "        vertical-align: top;\n",
       "    }\n",
       "\n",
       "    .dataframe thead th {\n",
       "        text-align: right;\n",
       "    }\n",
       "</style>\n",
       "<table border=\"1\" class=\"dataframe\">\n",
       "  <thead>\n",
       "    <tr style=\"text-align: right;\">\n",
       "      <th></th>\n",
       "      <th>imageID</th>\n",
       "      <th>BECHoldTime</th>\n",
       "      <th>TOF</th>\n",
       "      <th>nCount</th>\n",
       "      <th>detuning</th>\n",
       "      <th>field_direction</th>\n",
       "    </tr>\n",
       "  </thead>\n",
       "  <tbody>\n",
       "    <tr>\n",
       "      <th>0</th>\n",
       "      <td>97472.0</td>\n",
       "      <td>20.0</td>\n",
       "      <td>7</td>\n",
       "      <td>160894.0</td>\n",
       "      <td>1.5V</td>\n",
       "      <td>Bz</td>\n",
       "    </tr>\n",
       "    <tr>\n",
       "      <th>1</th>\n",
       "      <td>97473.0</td>\n",
       "      <td>8.0</td>\n",
       "      <td>7</td>\n",
       "      <td>185303.0</td>\n",
       "      <td>1.5V</td>\n",
       "      <td>Bz</td>\n",
       "    </tr>\n",
       "    <tr>\n",
       "      <th>2</th>\n",
       "      <td>97474.0</td>\n",
       "      <td>15.0</td>\n",
       "      <td>7</td>\n",
       "      <td>177657.0</td>\n",
       "      <td>1.5V</td>\n",
       "      <td>Bz</td>\n",
       "    </tr>\n",
       "    <tr>\n",
       "      <th>3</th>\n",
       "      <td>97475.0</td>\n",
       "      <td>170.0</td>\n",
       "      <td>7</td>\n",
       "      <td>116548.0</td>\n",
       "      <td>1.5V</td>\n",
       "      <td>Bz</td>\n",
       "    </tr>\n",
       "    <tr>\n",
       "      <th>4</th>\n",
       "      <td>97476.0</td>\n",
       "      <td>700.0</td>\n",
       "      <td>7</td>\n",
       "      <td>29780.0</td>\n",
       "      <td>1.5V</td>\n",
       "      <td>Bz</td>\n",
       "    </tr>\n",
       "    <tr>\n",
       "      <th>...</th>\n",
       "      <td>...</td>\n",
       "      <td>...</td>\n",
       "      <td>...</td>\n",
       "      <td>...</td>\n",
       "      <td>...</td>\n",
       "      <td>...</td>\n",
       "    </tr>\n",
       "    <tr>\n",
       "      <th>95</th>\n",
       "      <td>97567.0</td>\n",
       "      <td>4.0</td>\n",
       "      <td>7</td>\n",
       "      <td>176264.0</td>\n",
       "      <td>1.5V</td>\n",
       "      <td>Bz</td>\n",
       "    </tr>\n",
       "    <tr>\n",
       "      <th>96</th>\n",
       "      <td>97568.0</td>\n",
       "      <td>400.0</td>\n",
       "      <td>7</td>\n",
       "      <td>51725.0</td>\n",
       "      <td>1.5V</td>\n",
       "      <td>Bz</td>\n",
       "    </tr>\n",
       "    <tr>\n",
       "      <th>97</th>\n",
       "      <td>97569.0</td>\n",
       "      <td>2.0</td>\n",
       "      <td>7</td>\n",
       "      <td>177127.0</td>\n",
       "      <td>1.5V</td>\n",
       "      <td>Bz</td>\n",
       "    </tr>\n",
       "    <tr>\n",
       "      <th>98</th>\n",
       "      <td>97570.0</td>\n",
       "      <td>10.0</td>\n",
       "      <td>7</td>\n",
       "      <td>171212.0</td>\n",
       "      <td>1.5V</td>\n",
       "      <td>Bz</td>\n",
       "    </tr>\n",
       "    <tr>\n",
       "      <th>99</th>\n",
       "      <td>97571.0</td>\n",
       "      <td>20.0</td>\n",
       "      <td>7</td>\n",
       "      <td>165798.0</td>\n",
       "      <td>1.5V</td>\n",
       "      <td>Bz</td>\n",
       "    </tr>\n",
       "  </tbody>\n",
       "</table>\n",
       "<p>100 rows × 6 columns</p>\n",
       "</div>"
      ],
      "text/plain": [
       "    imageID  BECHoldTime  TOF    nCount detuning field_direction\n",
       "0   97472.0         20.0    7  160894.0     1.5V              Bz\n",
       "1   97473.0          8.0    7  185303.0     1.5V              Bz\n",
       "2   97474.0         15.0    7  177657.0     1.5V              Bz\n",
       "3   97475.0        170.0    7  116548.0     1.5V              Bz\n",
       "4   97476.0        700.0    7   29780.0     1.5V              Bz\n",
       "..      ...          ...  ...       ...      ...             ...\n",
       "95  97567.0          4.0    7  176264.0     1.5V              Bz\n",
       "96  97568.0        400.0    7   51725.0     1.5V              Bz\n",
       "97  97569.0          2.0    7  177127.0     1.5V              Bz\n",
       "98  97570.0         10.0    7  171212.0     1.5V              Bz\n",
       "99  97571.0         20.0    7  165798.0     1.5V              Bz\n",
       "\n",
       "[100 rows x 6 columns]"
      ]
     },
     "execution_count": 39,
     "metadata": {},
     "output_type": "execute_result"
    }
   ],
   "source": [
    "df_reduced_z = getReducedDataframe(df, detuning,'Bz', TOF)\n",
    "df_reduced_z['nCount']"
   ]
  },
  {
   "cell_type": "code",
   "execution_count": null,
   "metadata": {},
   "outputs": [],
   "source": []
  }
 ],
 "metadata": {
  "kernelspec": {
   "display_name": "Python 3",
   "language": "python",
   "name": "python3"
  },
  "language_info": {
   "codemirror_mode": {
    "name": "ipython",
    "version": 3
   },
   "file_extension": ".py",
   "mimetype": "text/x-python",
   "name": "python",
   "nbconvert_exporter": "python",
   "pygments_lexer": "ipython3",
   "version": "3.9.0"
  },
  "latex_envs": {
   "LaTeX_envs_menu_present": true,
   "autoclose": false,
   "autocomplete": true,
   "bibliofile": "biblio.bib",
   "cite_by": "apalike",
   "current_citInitial": 1,
   "eqLabelWithNumbers": true,
   "eqNumInitial": 1,
   "hotkeys": {
    "equation": "Ctrl-E",
    "itemize": "Ctrl-I"
   },
   "labels_anchors": false,
   "latex_user_defs": false,
   "report_style_numbering": false,
   "user_envs_cfg": false
  }
 },
 "nbformat": 4,
 "nbformat_minor": 4
}
