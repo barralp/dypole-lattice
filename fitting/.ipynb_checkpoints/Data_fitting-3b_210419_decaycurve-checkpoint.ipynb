{
 "cells": [
  {
   "cell_type": "code",
   "execution_count": 39,
   "metadata": {},
   "outputs": [
    {
     "data": {
      "text/plain": [
       "106662000.0"
      ]
     },
     "execution_count": 39,
     "metadata": {},
     "output_type": "execute_result"
    }
   ],
   "source": [
    "from databaseCommunication import getNCount, readDatabaseFile\n",
    "from dataframeFormating import fitRun_3b_linear, N_linear, createLabeledDataFrame, createLabeledDataFrame_4, fitRun_1and3b, fitRun_1and3b_2, fitRun_3b, fitRun_3b_2, fitRun_3b_3, getReducedDataframe, getReducedResults, deltaTime, N_polarized, N_polarized_pure3b\n",
    "import pandas as pd\n",
    "import numpy as np\n",
    "import matplotlib.pyplot as plt \n",
    "\n",
    "getNCount(117000)"
   ]
  },
  {
   "cell_type": "code",
   "execution_count": 40,
   "metadata": {},
   "outputs": [],
   "source": [
    "# [detuning], [imageID_start, imageID_end]\n",
    "# fifth run (first in df_2) is a lifetime at 1.4 25 GHz ODT3 0.6\n",
    "\n",
    "labels_decaycurve = [[['25'], [132738, 132941]]]\n",
    "\n",
    "excluded = []\n",
    "#label_head = ['name1', 'name2']"
   ]
  },
  {
   "cell_type": "code",
   "execution_count": 42,
   "metadata": {},
   "outputs": [],
   "source": [
    "\"\"\"df = createLabeledDataFrame_4(labels_decaycurve)\n",
    "\n",
    "df['BECHoldTime'] = df['BECHoldTime'].astype(float)\n",
    "df['latticeDepth'] = df['latticeDepth'].astype(float)\n",
    "df['ODT3_Comp'] = df['ODT3_Comp'].astype(float)\n",
    "df['latticeDetuning'] = df['latticeDetuning'].astype(float)\n",
    "df['Y_rotation'] = df['Y_rotation'].astype(bool)\n",
    "df['TOF'] = 8\n",
    "#df.to_pickle('data_save_210419_decaycurve.pickle')\"\"\""
   ]
  },
  {
   "cell_type": "code",
   "execution_count": 32,
   "metadata": {},
   "outputs": [
    {
     "data": {
      "text/html": [
       "<div>\n",
       "<style scoped>\n",
       "    .dataframe tbody tr th:only-of-type {\n",
       "        vertical-align: middle;\n",
       "    }\n",
       "\n",
       "    .dataframe tbody tr th {\n",
       "        vertical-align: top;\n",
       "    }\n",
       "\n",
       "    .dataframe thead th {\n",
       "        text-align: right;\n",
       "    }\n",
       "</style>\n",
       "<table border=\"1\" class=\"dataframe\">\n",
       "  <thead>\n",
       "    <tr style=\"text-align: right;\">\n",
       "      <th></th>\n",
       "      <th>imageID</th>\n",
       "      <th>BECHoldTime</th>\n",
       "      <th>TOF</th>\n",
       "      <th>nCount</th>\n",
       "      <th>xWidth</th>\n",
       "      <th>yWidth</th>\n",
       "      <th>latticeDepth</th>\n",
       "      <th>Y_rotation</th>\n",
       "      <th>ODT3_Comp</th>\n",
       "      <th>latticeDetuning</th>\n",
       "    </tr>\n",
       "  </thead>\n",
       "  <tbody>\n",
       "    <tr>\n",
       "      <th>0</th>\n",
       "      <td>132738.0</td>\n",
       "      <td>600.0</td>\n",
       "      <td>8</td>\n",
       "      <td>76952.0</td>\n",
       "      <td>24.1220</td>\n",
       "      <td>18.8888</td>\n",
       "      <td>1.4</td>\n",
       "      <td>False</td>\n",
       "      <td>0.6</td>\n",
       "      <td>25.0</td>\n",
       "    </tr>\n",
       "    <tr>\n",
       "      <th>1</th>\n",
       "      <td>132739.0</td>\n",
       "      <td>50.0</td>\n",
       "      <td>8</td>\n",
       "      <td>113984.0</td>\n",
       "      <td>21.5380</td>\n",
       "      <td>19.0292</td>\n",
       "      <td>1.4</td>\n",
       "      <td>False</td>\n",
       "      <td>0.6</td>\n",
       "      <td>25.0</td>\n",
       "    </tr>\n",
       "    <tr>\n",
       "      <th>2</th>\n",
       "      <td>132740.0</td>\n",
       "      <td>80.0</td>\n",
       "      <td>8</td>\n",
       "      <td>123179.0</td>\n",
       "      <td>23.6865</td>\n",
       "      <td>19.5076</td>\n",
       "      <td>1.4</td>\n",
       "      <td>False</td>\n",
       "      <td>0.6</td>\n",
       "      <td>25.0</td>\n",
       "    </tr>\n",
       "    <tr>\n",
       "      <th>3</th>\n",
       "      <td>132741.0</td>\n",
       "      <td>4.0</td>\n",
       "      <td>8</td>\n",
       "      <td>102074.0</td>\n",
       "      <td>21.5060</td>\n",
       "      <td>21.0583</td>\n",
       "      <td>1.4</td>\n",
       "      <td>True</td>\n",
       "      <td>0.6</td>\n",
       "      <td>25.0</td>\n",
       "    </tr>\n",
       "    <tr>\n",
       "      <th>4</th>\n",
       "      <td>132742.0</td>\n",
       "      <td>18.0</td>\n",
       "      <td>8</td>\n",
       "      <td>131901.0</td>\n",
       "      <td>21.8496</td>\n",
       "      <td>20.7654</td>\n",
       "      <td>1.4</td>\n",
       "      <td>False</td>\n",
       "      <td>0.6</td>\n",
       "      <td>25.0</td>\n",
       "    </tr>\n",
       "    <tr>\n",
       "      <th>...</th>\n",
       "      <td>...</td>\n",
       "      <td>...</td>\n",
       "      <td>...</td>\n",
       "      <td>...</td>\n",
       "      <td>...</td>\n",
       "      <td>...</td>\n",
       "      <td>...</td>\n",
       "      <td>...</td>\n",
       "      <td>...</td>\n",
       "      <td>...</td>\n",
       "    </tr>\n",
       "    <tr>\n",
       "      <th>199</th>\n",
       "      <td>132937.0</td>\n",
       "      <td>0.5</td>\n",
       "      <td>8</td>\n",
       "      <td>131177.0</td>\n",
       "      <td>20.7826</td>\n",
       "      <td>21.9527</td>\n",
       "      <td>1.4</td>\n",
       "      <td>True</td>\n",
       "      <td>0.6</td>\n",
       "      <td>25.0</td>\n",
       "    </tr>\n",
       "    <tr>\n",
       "      <th>200</th>\n",
       "      <td>132938.0</td>\n",
       "      <td>1.0</td>\n",
       "      <td>8</td>\n",
       "      <td>130337.0</td>\n",
       "      <td>19.0969</td>\n",
       "      <td>23.2916</td>\n",
       "      <td>1.4</td>\n",
       "      <td>False</td>\n",
       "      <td>0.6</td>\n",
       "      <td>25.0</td>\n",
       "    </tr>\n",
       "    <tr>\n",
       "      <th>201</th>\n",
       "      <td>132939.0</td>\n",
       "      <td>600.0</td>\n",
       "      <td>8</td>\n",
       "      <td>88360.0</td>\n",
       "      <td>23.6923</td>\n",
       "      <td>18.8665</td>\n",
       "      <td>1.4</td>\n",
       "      <td>False</td>\n",
       "      <td>0.6</td>\n",
       "      <td>25.0</td>\n",
       "    </tr>\n",
       "    <tr>\n",
       "      <th>202</th>\n",
       "      <td>132940.0</td>\n",
       "      <td>2.0</td>\n",
       "      <td>8</td>\n",
       "      <td>126412.0</td>\n",
       "      <td>21.0556</td>\n",
       "      <td>22.3659</td>\n",
       "      <td>1.4</td>\n",
       "      <td>True</td>\n",
       "      <td>0.6</td>\n",
       "      <td>25.0</td>\n",
       "    </tr>\n",
       "    <tr>\n",
       "      <th>203</th>\n",
       "      <td>132941.0</td>\n",
       "      <td>1000.0</td>\n",
       "      <td>8</td>\n",
       "      <td>25416.0</td>\n",
       "      <td>25.0679</td>\n",
       "      <td>18.1950</td>\n",
       "      <td>1.4</td>\n",
       "      <td>True</td>\n",
       "      <td>0.6</td>\n",
       "      <td>25.0</td>\n",
       "    </tr>\n",
       "  </tbody>\n",
       "</table>\n",
       "<p>204 rows × 10 columns</p>\n",
       "</div>"
      ],
      "text/plain": [
       "      imageID  BECHoldTime  TOF    nCount   xWidth   yWidth  latticeDepth  \\\n",
       "0    132738.0        600.0    8   76952.0  24.1220  18.8888           1.4   \n",
       "1    132739.0         50.0    8  113984.0  21.5380  19.0292           1.4   \n",
       "2    132740.0         80.0    8  123179.0  23.6865  19.5076           1.4   \n",
       "3    132741.0          4.0    8  102074.0  21.5060  21.0583           1.4   \n",
       "4    132742.0         18.0    8  131901.0  21.8496  20.7654           1.4   \n",
       "..        ...          ...  ...       ...      ...      ...           ...   \n",
       "199  132937.0          0.5    8  131177.0  20.7826  21.9527           1.4   \n",
       "200  132938.0          1.0    8  130337.0  19.0969  23.2916           1.4   \n",
       "201  132939.0        600.0    8   88360.0  23.6923  18.8665           1.4   \n",
       "202  132940.0          2.0    8  126412.0  21.0556  22.3659           1.4   \n",
       "203  132941.0       1000.0    8   25416.0  25.0679  18.1950           1.4   \n",
       "\n",
       "     Y_rotation  ODT3_Comp  latticeDetuning  \n",
       "0         False        0.6             25.0  \n",
       "1         False        0.6             25.0  \n",
       "2         False        0.6             25.0  \n",
       "3          True        0.6             25.0  \n",
       "4         False        0.6             25.0  \n",
       "..          ...        ...              ...  \n",
       "199        True        0.6             25.0  \n",
       "200       False        0.6             25.0  \n",
       "201       False        0.6             25.0  \n",
       "202        True        0.6             25.0  \n",
       "203        True        0.6             25.0  \n",
       "\n",
       "[204 rows x 10 columns]"
      ]
     },
     "execution_count": 32,
     "metadata": {},
     "output_type": "execute_result"
    }
   ],
   "source": [
    "df"
   ]
  },
  {
   "cell_type": "code",
   "execution_count": 33,
   "metadata": {},
   "outputs": [],
   "source": [
    "df = pd.read_pickle('data_save_210419_decaycurve.pickle')\n",
    "# Delete these row indexes from dataFrame\n",
    "indexNames = pd.Index(np.where(df['imageID'].isin(excluded))[0])\n",
    "df.drop(indexNames, inplace = True)"
   ]
  },
  {
   "cell_type": "code",
   "execution_count": 34,
   "metadata": {},
   "outputs": [],
   "source": [
    "latticeDepthList = df['latticeDepth'].unique()\n",
    "Y_rotationList = df['Y_rotation'].unique()\n",
    "BECHoldTimeList = df['BECHoldTime'].unique()\n",
    "latticeDetuningList = df['latticeDetuning'].unique()"
   ]
  },
  {
   "cell_type": "code",
   "execution_count": 35,
   "metadata": {},
   "outputs": [
    {
     "data": {
      "text/plain": [
       "array([1.4])"
      ]
     },
     "execution_count": 35,
     "metadata": {},
     "output_type": "execute_result"
    }
   ],
   "source": [
    "np.sort(latticeDepthList)"
   ]
  },
  {
   "cell_type": "code",
   "execution_count": 36,
   "metadata": {},
   "outputs": [
    {
     "data": {
      "image/png": "[encoded data removed]",
      "text/plain": [
       "<Figure size 432x288 with 1 Axes>"
      ]
     },
     "metadata": {
      "needs_background": "light"
     },
     "output_type": "display_data"
    }
   ],
   "source": [
    "def getRun(df, latticeDepth, Y_rotation, latticeDetuning = 25):\n",
    "    df_temp = df[df['latticeDepth'] == latticeDepth]\n",
    "    df_temp2 = df_temp[df_temp['Y_rotation'] == Y_rotation]\n",
    "    df_temp3 = df_temp2[df_temp2['latticeDetuning'] == latticeDetuning]\n",
    "    return df_temp3\n",
    "\n",
    "plt.figure()\n",
    "for latticeDepth in [1.4]:\n",
    "    for Y_rotation in [True, False]:\n",
    "        df_temp = getRun(df, latticeDepth, Y_rotation)\n",
    "        plt.plot(df_temp['BECHoldTime'], df_temp['nCount'], '+', label = str(round(latticeDepth, 2)) + ' ' + str(Y_rotation))\n",
    "plt.legend()\n",
    "plt.ylim(0, 140000)\n",
    "#plt.xlim(0,50)\n",
    "plt.show()"
   ]
  },
  {
   "cell_type": "code",
   "execution_count": 37,
   "metadata": {},
   "outputs": [
    {
     "name": "stdout",
     "output_type": "stream",
     "text": [
      "\n",
      "\n",
      "   latticeDetuning  latticeDepth  Y_rotation             N0         gamma\n",
      "0             25.0           1.4       False  137137.810054  1.536161e-13\n",
      "1             25.0           1.4        True  139012.040443  1.198601e-11\n"
     ]
    }
   ],
   "source": [
    "results = []\n",
    "\n",
    "for latticeDetuning in latticeDetuningList:\n",
    "    for latticeDepth in latticeDepthList:\n",
    "        for Y_rotation in Y_rotationList:\n",
    "            df_run = getRun(df, latticeDepth, Y_rotation, latticeDetuning)\n",
    "            popt, pcov = fitRun_3b_3(df_run)\n",
    "            results += [{'latticeDetuning' : latticeDetuning,\n",
    "                         'latticeDepth' : latticeDepth,\n",
    "                         'Y_rotation' : Y_rotation,\n",
    "                        'N0' : popt[0],\n",
    "                        'gamma' : popt[1]}]\n",
    "resultsDF = pd.DataFrame(results)\n",
    "print('\\n')\n",
    "print(resultsDF)\n",
    "#perr = np.sqrt(np.diag(pcov))"
   ]
  },
  {
   "cell_type": "code",
   "execution_count": 38,
   "metadata": {},
   "outputs": [
    {
     "data": {
      "image/png": "[encoded data removed]",
      "text/plain": [
       "<Figure size 432x288 with 1 Axes>"
      ]
     },
     "metadata": {
      "needs_background": "light"
     },
     "output_type": "display_data"
    }
   ],
   "source": [
    "time = np.linspace(0, 1000, 10000)\n",
    "resultY = resultsDF[resultsDF['Y_rotation'] == True]\n",
    "resultZ = resultsDF[resultsDF['Y_rotation'] == False]\n",
    "NY, gammaY = resultY.iloc[0, 3], resultY.iloc[0, 4]\n",
    "NZ, gammaZ = resultZ.iloc[0, 3], resultZ.iloc[0, 4]\n",
    "Y = N_polarized_pure3b(time, NY, gammaY)\n",
    "Z = N_polarized_pure3b(time, NZ, gammaZ)\n",
    "\n",
    "plt.figure()\n",
    "for latticeDepth in [1.4]:\n",
    "    for Y_rotation in [True, False]:\n",
    "        df_temp = getRun(df, latticeDepth, Y_rotation)\n",
    "        plt.plot(df_temp['BECHoldTime'], df_temp['nCount'], '+', label = str(round(latticeDepth, 2)) + ' ' + str(Y_rotation))\n",
    "plt.plot(time, Y, '+', label = 'fitY')\n",
    "plt.plot(time, Z, '+', label = 'fitZ')\n",
    "plt.legend()\n",
    "plt.ylim(0, 140000)\n",
    "#plt.xlim(0,50)\n",
    "plt.show()"
   ]
  },
  {
   "cell_type": "code",
   "execution_count": null,
   "metadata": {},
   "outputs": [],
   "source": []
  }
 ],
 "metadata": {
  "kernelspec": {
   "display_name": "Python 3",
   "language": "python",
   "name": "python3"
  },
  "language_info": {
   "codemirror_mode": {
    "name": "ipython",
    "version": 3
   },
   "file_extension": ".py",
   "mimetype": "text/x-python",
   "name": "python",
   "nbconvert_exporter": "python",
   "pygments_lexer": "ipython3",
   "version": "3.9.0"
  },
  "latex_envs": {
   "LaTeX_envs_menu_present": true,
   "autoclose": false,
   "autocomplete": true,
   "bibliofile": "biblio.bib",
   "cite_by": "apalike",
   "current_citInitial": 1,
   "eqLabelWithNumbers": true,
   "eqNumInitial": 1,
   "hotkeys": {
    "equation": "Ctrl-E",
    "itemize": "Ctrl-I"
   },
   "labels_anchors": false,
   "latex_user_defs": false,
   "report_style_numbering": false,
   "user_envs_cfg": false
  }
 },
 "nbformat": 4,
 "nbformat_minor": 4
}
