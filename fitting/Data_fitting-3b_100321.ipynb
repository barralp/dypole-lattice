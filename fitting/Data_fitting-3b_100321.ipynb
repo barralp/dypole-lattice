{
 "cells": [
  {
   "cell_type": "code",
   "execution_count": 1,
   "metadata": {},
   "outputs": [
    {
     "data": {
      "text/plain": [
       "0.0"
      ]
     },
     "execution_count": 1,
     "metadata": {},
     "output_type": "execute_result"
    }
   ],
   "source": [
    "from databaseCommunication import getNCount\n",
    "from dataframeFormating import createLabeledDataFrame, fitRun_1and3b, fitRun_3b, getReducedDataframe, getReducedResults, deltaTime, N_polarized, N_polarized_pure3b\n",
    "import pandas as pd\n",
    "import numpy as np\n",
    "import matplotlib.pyplot as plt \n",
    "\n",
    "getNCount(94000)"
   ]
  },
  {
   "cell_type": "code",
   "execution_count": 2,
   "metadata": {},
   "outputs": [],
   "source": [
    "# [detuning, field direction], [imageID_start, imageID_end]\n",
    "labels = [[['1.5V', 'Bz', 4], [96236, 96315]],\n",
    "          [['1.5V', 'By', 4], [96316, 96395]],\n",
    "          [['1.3V', 'Bz', 4], [96410, 96489]],\n",
    "          [['1.3V', 'By', 4], [96491, 96555]],\n",
    "          [['0.3V', 'Bz', 4], [96574, 96653]],\n",
    "          [['0.3V', 'By', 4], [96656, 96735]],\n",
    "          [['0.1V', 'Bz', 4], [96741, 96820]],\n",
    "          [['0.1V', 'By', 4], [96823, 96902]]\n",
    "         ]\n",
    "excluded = []"
   ]
  },
  {
   "cell_type": "code",
   "execution_count": 5,
   "metadata": {},
   "outputs": [],
   "source": [
    "#df = createLabeledDataFrame(labels)\n",
    "#df['BECHoldTime'] = df['BECHoldTime'].astype(float)\n",
    "#df.to_pickle('data_save_100321.pickle')"
   ]
  },
  {
   "cell_type": "code",
   "execution_count": 3,
   "metadata": {},
   "outputs": [
    {
     "data": {
      "text/html": [
       "<div>\n",
       "<style scoped>\n",
       "    .dataframe tbody tr th:only-of-type {\n",
       "        vertical-align: middle;\n",
       "    }\n",
       "\n",
       "    .dataframe tbody tr th {\n",
       "        vertical-align: top;\n",
       "    }\n",
       "\n",
       "    .dataframe thead th {\n",
       "        text-align: right;\n",
       "    }\n",
       "</style>\n",
       "<table border=\"1\" class=\"dataframe\">\n",
       "  <thead>\n",
       "    <tr style=\"text-align: right;\">\n",
       "      <th></th>\n",
       "      <th>imageID</th>\n",
       "      <th>BECHoldTime</th>\n",
       "      <th>TOF</th>\n",
       "      <th>nCount</th>\n",
       "      <th>detuning</th>\n",
       "      <th>field_direction</th>\n",
       "    </tr>\n",
       "  </thead>\n",
       "  <tbody>\n",
       "    <tr>\n",
       "      <th>0</th>\n",
       "      <td>96236.0</td>\n",
       "      <td>10.0</td>\n",
       "      <td>4</td>\n",
       "      <td>178287.0</td>\n",
       "      <td>1.5V</td>\n",
       "      <td>Bz</td>\n",
       "    </tr>\n",
       "    <tr>\n",
       "      <th>1</th>\n",
       "      <td>96237.0</td>\n",
       "      <td>20.0</td>\n",
       "      <td>4</td>\n",
       "      <td>167573.0</td>\n",
       "      <td>1.5V</td>\n",
       "      <td>Bz</td>\n",
       "    </tr>\n",
       "    <tr>\n",
       "      <th>2</th>\n",
       "      <td>96238.0</td>\n",
       "      <td>8.0</td>\n",
       "      <td>4</td>\n",
       "      <td>188216.0</td>\n",
       "      <td>1.5V</td>\n",
       "      <td>Bz</td>\n",
       "    </tr>\n",
       "    <tr>\n",
       "      <th>3</th>\n",
       "      <td>96239.0</td>\n",
       "      <td>200.0</td>\n",
       "      <td>4</td>\n",
       "      <td>119807.0</td>\n",
       "      <td>1.5V</td>\n",
       "      <td>Bz</td>\n",
       "    </tr>\n",
       "    <tr>\n",
       "      <th>4</th>\n",
       "      <td>96240.0</td>\n",
       "      <td>140.0</td>\n",
       "      <td>4</td>\n",
       "      <td>145937.0</td>\n",
       "      <td>1.5V</td>\n",
       "      <td>Bz</td>\n",
       "    </tr>\n",
       "    <tr>\n",
       "      <th>...</th>\n",
       "      <td>...</td>\n",
       "      <td>...</td>\n",
       "      <td>...</td>\n",
       "      <td>...</td>\n",
       "      <td>...</td>\n",
       "      <td>...</td>\n",
       "    </tr>\n",
       "    <tr>\n",
       "      <th>620</th>\n",
       "      <td>96898.0</td>\n",
       "      <td>70.0</td>\n",
       "      <td>4</td>\n",
       "      <td>111255.0</td>\n",
       "      <td>0.1V</td>\n",
       "      <td>By</td>\n",
       "    </tr>\n",
       "    <tr>\n",
       "      <th>621</th>\n",
       "      <td>96899.0</td>\n",
       "      <td>2.0</td>\n",
       "      <td>4</td>\n",
       "      <td>148229.0</td>\n",
       "      <td>0.1V</td>\n",
       "      <td>By</td>\n",
       "    </tr>\n",
       "    <tr>\n",
       "      <th>622</th>\n",
       "      <td>96900.0</td>\n",
       "      <td>200.0</td>\n",
       "      <td>4</td>\n",
       "      <td>85510.0</td>\n",
       "      <td>0.1V</td>\n",
       "      <td>By</td>\n",
       "    </tr>\n",
       "    <tr>\n",
       "      <th>623</th>\n",
       "      <td>96901.0</td>\n",
       "      <td>200.0</td>\n",
       "      <td>4</td>\n",
       "      <td>91240.0</td>\n",
       "      <td>0.1V</td>\n",
       "      <td>By</td>\n",
       "    </tr>\n",
       "    <tr>\n",
       "      <th>624</th>\n",
       "      <td>96902.0</td>\n",
       "      <td>30.0</td>\n",
       "      <td>4</td>\n",
       "      <td>127231.0</td>\n",
       "      <td>0.1V</td>\n",
       "      <td>By</td>\n",
       "    </tr>\n",
       "  </tbody>\n",
       "</table>\n",
       "<p>625 rows × 6 columns</p>\n",
       "</div>"
      ],
      "text/plain": [
       "     imageID  BECHoldTime  TOF    nCount detuning field_direction\n",
       "0    96236.0         10.0    4  178287.0     1.5V              Bz\n",
       "1    96237.0         20.0    4  167573.0     1.5V              Bz\n",
       "2    96238.0          8.0    4  188216.0     1.5V              Bz\n",
       "3    96239.0        200.0    4  119807.0     1.5V              Bz\n",
       "4    96240.0        140.0    4  145937.0     1.5V              Bz\n",
       "..       ...          ...  ...       ...      ...             ...\n",
       "620  96898.0         70.0    4  111255.0     0.1V              By\n",
       "621  96899.0          2.0    4  148229.0     0.1V              By\n",
       "622  96900.0        200.0    4   85510.0     0.1V              By\n",
       "623  96901.0        200.0    4   91240.0     0.1V              By\n",
       "624  96902.0         30.0    4  127231.0     0.1V              By\n",
       "\n",
       "[625 rows x 6 columns]"
      ]
     },
     "execution_count": 3,
     "metadata": {},
     "output_type": "execute_result"
    }
   ],
   "source": [
    "df = pd.read_pickle('data_save_100321.pickle')\n",
    "\n",
    "# Delete these row indexes from dataFrame\n",
    "indexNames = pd.Index(np.where(df['imageID'].isin(excluded))[0])\n",
    "df.drop(indexNames, inplace = True)\n",
    "df"
   ]
  },
  {
   "cell_type": "code",
   "execution_count": 4,
   "metadata": {},
   "outputs": [
    {
     "data": {
      "image/png": "[encoded data removed]",
      "text/plain": [
       "<Figure size 432x288 with 1 Axes>"
      ]
     },
     "metadata": {
      "needs_background": "light"
     },
     "output_type": "display_data"
    }
   ],
   "source": [
    "plt.figure()\n",
    "plt.plot(df['BECHoldTime'], df['nCount'], '+', color = 'blue', label = 'All')\n",
    "plt.legend()\n",
    "plt.show()\n",
    "\n",
    "#run = df[df['detuning'] == '0.5GHz']\n",
    "#run1 = run[run['field_direction'] == 'Bz']\n",
    "#run2 = run[run['field_direction'] == 'By']\n",
    "#plt.figure()\n",
    "#plt.plot(run1['BECHoldTime'], run1['nCount'], '+', color = 'blue', label = 'Bz')\n",
    "#plt.plot(run2['BECHoldTime'], run2['nCount'], '+', color = 'red', label = 'By')\n",
    "#plt.legend()\n",
    "#plt.show()"
   ]
  },
  {
   "cell_type": "markdown",
   "metadata": {},
   "source": [
    "We fit the polarized sample to $dN/dt = -\\alpha N-\\gamma N^{3}$, so $N(t) = \\frac{\\sqrt{\\alpha}}{\\sqrt{e^{2\\alpha t}\\left(\\frac{a}{N(0)^{2}}+\\gamma\\right)-\\gamma}}$ and the mixture one to $dN/dt = -\\alpha N - \\beta N^{2} -\\gamma N^{3}$, so $N(t) = complicated$"
   ]
  },
  {
   "cell_type": "code",
   "execution_count": 8,
   "metadata": {},
   "outputs": [
    {
     "name": "stdout",
     "output_type": "stream",
     "text": [
      "1.5V Bz 4\n",
      "1.5V By 4\n",
      "1.3V Bz 4\n",
      "1.3V By 4\n",
      "0.3V Bz 4\n",
      "0.3V By 4\n",
      "0.1V Bz 4\n",
      "0.1V By 4\n",
      "\n",
      "\n",
      "  detuning  TOF field_direction             N0     alpha         gamma\n",
      "0     1.5V    4              Bz  171862.483205 -0.001516  1.781407e-13\n",
      "1     1.5V    4              By  161559.820110  0.000527  3.789657e-13\n",
      "2     1.3V    4              Bz  171331.107782  0.001096  4.992941e-14\n",
      "3     1.3V    4              By  172767.139408  0.002115  3.476587e-13\n",
      "4     0.3V    4              Bz  172132.740598 -0.005497  3.482039e-13\n",
      "5     0.3V    4              By  160597.171099 -0.002073  3.342729e-13\n",
      "6     0.1V    4              Bz  164224.555511 -0.000735  1.819102e-13\n",
      "7     0.1V    4              By  147078.369411 -0.001310  3.520521e-13\n",
      "\n",
      "\n",
      "0   -0.288189\n",
      "1    0.053284\n",
      "2    0.747942\n",
      "3    0.203842\n",
      "4   -0.532817\n",
      "5   -0.240423\n",
      "6   -0.149797\n",
      "7   -0.172032\n",
      "dtype: float64\n"
     ]
    }
   ],
   "source": [
    "results = []\n",
    "for run in labels:\n",
    "    detuning, field_direction, TOF = run[0]\n",
    "    print(detuning, field_direction, TOF)\n",
    "    popt, pcov = fitRun_1and3b(df, detuning, field_direction, TOF)\n",
    "    results += [{'detuning' : detuning,\n",
    "                        'TOF' : TOF,\n",
    "                        'field_direction' : field_direction,\n",
    "                        'N0' : popt[0],\n",
    "                        'alpha' : popt[1],\n",
    "                        'gamma' : popt[2]}]\n",
    "resultsDF = pd.DataFrame(results)\n",
    "print('\\n')\n",
    "print(resultsDF)\n",
    "print('\\n')\n",
    "print(resultsDF['alpha']*resultsDF['N0']/(resultsDF['gamma']*(resultsDF['N0']**3)))\n",
    "#perr = np.sqrt(np.diag(pcov))"
   ]
  },
  {
   "cell_type": "markdown",
   "metadata": {},
   "source": [
    "We notice the decay is nearly 3-body in all case. To ensure that we can look at $\\alpha N_{0}/(\\gamma*N_{0}^{3})$ which at $t=0$ is never above a 10\\%. So let's just fit to a 3body decay curve.\n",
    "$dN/dt = -\\gamma N^{3}$, so $N(t) = \\frac{N_{0}}{\\sqrt{1+N_{0}^{2}\\gamma t}}$."
   ]
  },
  {
   "cell_type": "code",
   "execution_count": 9,
   "metadata": {},
   "outputs": [
    {
     "data": {
      "text/html": [
       "<div>\n",
       "<style scoped>\n",
       "    .dataframe tbody tr th:only-of-type {\n",
       "        vertical-align: middle;\n",
       "    }\n",
       "\n",
       "    .dataframe tbody tr th {\n",
       "        vertical-align: top;\n",
       "    }\n",
       "\n",
       "    .dataframe thead th {\n",
       "        text-align: right;\n",
       "    }\n",
       "</style>\n",
       "<table border=\"1\" class=\"dataframe\">\n",
       "  <thead>\n",
       "    <tr style=\"text-align: right;\">\n",
       "      <th></th>\n",
       "      <th>detuning</th>\n",
       "      <th>TOF</th>\n",
       "      <th>field_direction</th>\n",
       "      <th>N0</th>\n",
       "      <th>gamma</th>\n",
       "    </tr>\n",
       "  </thead>\n",
       "  <tbody>\n",
       "    <tr>\n",
       "      <th>0</th>\n",
       "      <td>1.5V</td>\n",
       "      <td>4</td>\n",
       "      <td>Bz</td>\n",
       "      <td>170488.818985</td>\n",
       "      <td>2.072603e-13</td>\n",
       "    </tr>\n",
       "    <tr>\n",
       "      <th>1</th>\n",
       "      <td>1.5V</td>\n",
       "      <td>4</td>\n",
       "      <td>By</td>\n",
       "      <td>162309.322511</td>\n",
       "      <td>8.455356e-13</td>\n",
       "    </tr>\n",
       "    <tr>\n",
       "      <th>2</th>\n",
       "      <td>1.3V</td>\n",
       "      <td>4</td>\n",
       "      <td>Bz</td>\n",
       "      <td>172308.838039</td>\n",
       "      <td>2.041631e-13</td>\n",
       "    </tr>\n",
       "    <tr>\n",
       "      <th>3</th>\n",
       "      <td>1.3V</td>\n",
       "      <td>4</td>\n",
       "      <td>By</td>\n",
       "      <td>175654.967544</td>\n",
       "      <td>1.023136e-12</td>\n",
       "    </tr>\n",
       "    <tr>\n",
       "      <th>4</th>\n",
       "      <td>0.3V</td>\n",
       "      <td>4</td>\n",
       "      <td>Bz</td>\n",
       "      <td>167774.066607</td>\n",
       "      <td>1.648546e-13</td>\n",
       "    </tr>\n",
       "    <tr>\n",
       "      <th>5</th>\n",
       "      <td>0.3V</td>\n",
       "      <td>4</td>\n",
       "      <td>By</td>\n",
       "      <td>158370.733655</td>\n",
       "      <td>3.952421e-13</td>\n",
       "    </tr>\n",
       "    <tr>\n",
       "      <th>6</th>\n",
       "      <td>0.1V</td>\n",
       "      <td>4</td>\n",
       "      <td>Bz</td>\n",
       "      <td>163542.227865</td>\n",
       "      <td>2.811949e-13</td>\n",
       "    </tr>\n",
       "    <tr>\n",
       "      <th>7</th>\n",
       "      <td>0.1V</td>\n",
       "      <td>4</td>\n",
       "      <td>By</td>\n",
       "      <td>145784.648935</td>\n",
       "      <td>4.974648e-13</td>\n",
       "    </tr>\n",
       "  </tbody>\n",
       "</table>\n",
       "</div>"
      ],
      "text/plain": [
       "  detuning  TOF field_direction             N0         gamma\n",
       "0     1.5V    4              Bz  170488.818985  2.072603e-13\n",
       "1     1.5V    4              By  162309.322511  8.455356e-13\n",
       "2     1.3V    4              Bz  172308.838039  2.041631e-13\n",
       "3     1.3V    4              By  175654.967544  1.023136e-12\n",
       "4     0.3V    4              Bz  167774.066607  1.648546e-13\n",
       "5     0.3V    4              By  158370.733655  3.952421e-13\n",
       "6     0.1V    4              Bz  163542.227865  2.811949e-13\n",
       "7     0.1V    4              By  145784.648935  4.974648e-13"
      ]
     },
     "execution_count": 9,
     "metadata": {},
     "output_type": "execute_result"
    }
   ],
   "source": [
    "results = []\n",
    "\n",
    "for run in labels:\n",
    "    detuning, field_direction, TOF = run[0]\n",
    "    popt, pcov = fitRun_3b(df, detuning, field_direction, TOF)\n",
    "    results += [{'detuning' : detuning,\n",
    "                        'TOF' : TOF,\n",
    "                        'field_direction' : field_direction,\n",
    "                        'N0' : popt[0],\n",
    "                        'gamma' : popt[1]}]\n",
    "resultsDF_pure3b = pd.DataFrame(results)\n",
    "resultsDF_pure3b\n",
    "#perr = np.sqrt(np.diag(pcov))"
   ]
  },
  {
   "cell_type": "code",
   "execution_count": 11,
   "metadata": {},
   "outputs": [
    {
     "data": {
      "image/png": "[encoded data removed]",
      "text/plain": [
       "<Figure size 432x288 with 1 Axes>"
      ]
     },
     "metadata": {
      "needs_background": "light"
     },
     "output_type": "display_data"
    }
   ],
   "source": [
    "df_reduced = getReducedDataframe(df, detuning = '1.5V', field_direction = 'Bz', TOF = 4)\n",
    "result_reduced = getReducedResults(resultsDF_pure3b, detuning = '1.5V', field_direction = 'Bz', TOF = 4)\n",
    "holdTime = np.linspace(0,20, 300)\n",
    "plt.figure()\n",
    "plt.plot(df_reduced['BECHoldTime'], df_reduced['nCount'], '*')\n",
    "plt.plot(holdTime, N_polarized_pure3b(holdTime, result_reduced['N0'][0], result_reduced['gamma'][0]))\n",
    "plt.show()"
   ]
  },
  {
   "cell_type": "markdown",
   "metadata": {},
   "source": [
    "Now we should look at how much time we should shift:"
   ]
  },
  {
   "cell_type": "code",
   "execution_count": 12,
   "metadata": {},
   "outputs": [
    {
     "data": {
      "text/plain": [
       "17.15171517151715"
      ]
     },
     "execution_count": 12,
     "metadata": {},
     "output_type": "execute_result"
    }
   ],
   "source": [
    "deltaTime(resultsDF_pure3b, '1.5V', 4)"
   ]
  },
  {
   "cell_type": "markdown",
   "metadata": {},
   "source": [
    "Now we can calculate the ration of the beta, provided the derivative of the N_polarized_pure3b function: $\\frac{dN}{dt} = -\\frac{1}{2}N_{0}^{3}\\gamma\\left(1+N_{0}^{2}\\gamma t\\right)^{-3/2}$"
   ]
  },
  {
   "cell_type": "code",
   "execution_count": 16,
   "metadata": {},
   "outputs": [
    {
     "name": "stdout",
     "output_type": "stream",
     "text": [
      "1.5V 4\n",
      "1.3V 4\n",
      "0.3V 4\n",
      "0.1V 4\n"
     ]
    },
    {
     "data": {
      "text/html": [
       "<div>\n",
       "<style scoped>\n",
       "    .dataframe tbody tr th:only-of-type {\n",
       "        vertical-align: middle;\n",
       "    }\n",
       "\n",
       "    .dataframe tbody tr th {\n",
       "        vertical-align: top;\n",
       "    }\n",
       "\n",
       "    .dataframe thead th {\n",
       "        text-align: right;\n",
       "    }\n",
       "</style>\n",
       "<table border=\"1\" class=\"dataframe\">\n",
       "  <thead>\n",
       "    <tr style=\"text-align: right;\">\n",
       "      <th></th>\n",
       "      <th>detuning</th>\n",
       "      <th>TOF</th>\n",
       "      <th>betaRatio</th>\n",
       "    </tr>\n",
       "  </thead>\n",
       "  <tbody>\n",
       "    <tr>\n",
       "      <th>0</th>\n",
       "      <td>1.5V</td>\n",
       "      <td>4</td>\n",
       "      <td>0.284081</td>\n",
       "    </tr>\n",
       "    <tr>\n",
       "      <th>1</th>\n",
       "      <td>1.3V</td>\n",
       "      <td>4</td>\n",
       "      <td>0.188358</td>\n",
       "    </tr>\n",
       "    <tr>\n",
       "      <th>2</th>\n",
       "      <td>0.3V</td>\n",
       "      <td>4</td>\n",
       "      <td>0.495893</td>\n",
       "    </tr>\n",
       "    <tr>\n",
       "      <th>3</th>\n",
       "      <td>0.1V</td>\n",
       "      <td>4</td>\n",
       "      <td>0.797994</td>\n",
       "    </tr>\n",
       "  </tbody>\n",
       "</table>\n",
       "</div>"
      ],
      "text/plain": [
       "  detuning  TOF  betaRatio\n",
       "0     1.5V    4   0.284081\n",
       "1     1.3V    4   0.188358\n",
       "2     0.3V    4   0.495893\n",
       "3     0.1V    4   0.797994"
      ]
     },
     "execution_count": 16,
     "metadata": {},
     "output_type": "execute_result"
    }
   ],
   "source": [
    "def dN_polarized_pure3b_dt(t, N0, gamma):\n",
    "    return -0.5*N0**3*gamma*(1+N0**2*gamma*t)**(-3/2)\n",
    "\n",
    "def getBeta(results, detuning, field_direction, TOF):\n",
    "    temp = results[results['detuning'] == detuning]\n",
    "    temp = temp[temp['TOF'] == TOF]\n",
    "    return temp[temp['field_direction'] == field_direction]['gamma']\n",
    "\n",
    "results_betaRatio = []\n",
    "for detuning in ['1.5V', '1.3V', '0.3V', '0.1V']:\n",
    "    for TOF in [4]:\n",
    "        print(detuning, TOF)\n",
    "        beta_y_init = getBeta(resultsDF_pure3b, detuning, 'By', TOF)\n",
    "        beta_z_init = getBeta(resultsDF_pure3b, detuning, 'Bz', TOF)\n",
    "        #dt = deltaTime(resultsDF_pure3b, detuning, TOF)\n",
    "        \n",
    "        results_By = getReducedResults(resultsDF_pure3b, detuning, 'By', TOF)\n",
    "        results_Bz = getReducedResults(resultsDF_pure3b, detuning, 'Bz', TOF)\n",
    "        N0_y, gamma_y = results_By['N0'].iloc[0], results_By['gamma'].iloc[0]\n",
    "        N0_z, gamma_z = results_Bz['N0'].iloc[0], results_Bz['gamma'].iloc[0]\n",
    "        \n",
    "        beta_y = dN_polarized_pure3b_dt(0, N0_y, gamma_y)\n",
    "        #beta_z = dN_polarized_pure3b_dt(dt, N0_z, gamma_z)\n",
    "        beta_z = dN_polarized_pure3b_dt(0, N0_z, gamma_z)\n",
    "        \n",
    "        results_betaRatio += [{'detuning' : detuning,\n",
    "                        'TOF' : TOF,\n",
    "                        'betaRatio' : beta_z/beta_y}]\n",
    "\n",
    "results_betaRatio = pd.DataFrame(results_betaRatio)\n",
    "\n",
    "results_betaRatio"
   ]
  },
  {
   "cell_type": "code",
   "execution_count": 18,
   "metadata": {},
   "outputs": [
    {
     "name": "stdout",
     "output_type": "stream",
     "text": [
      "-1807.7246420591434\n",
      "-443.11571006855024\n"
     ]
    }
   ],
   "source": [
    "detuning = '1.5V'\n",
    "TOF = 4\n",
    "beta_y_init = getBeta(resultsDF_pure3b, detuning, 'By', TOF)  # this is the gamma from the fit\n",
    "beta_z_init = getBeta(resultsDF_pure3b, detuning, 'Bz', TOF)\n",
    "dt = deltaTime(resultsDF_pure3b, detuning, TOF)\n",
    "\n",
    "results_By = getReducedResults(resultsDF_pure3b, detuning, 'By', TOF)  # this is the full results of a fit\n",
    "results_Bz = getReducedResults(resultsDF_pure3b, detuning, 'Bz', TOF)\n",
    "N0_y, gamma_y = results_By['N0'].iloc[0], results_By['gamma'].iloc[0]\n",
    "N0_z, gamma_z = results_Bz['N0'].iloc[0], results_Bz['gamma'].iloc[0]\n",
    "        \n",
    "beta_y = dN_polarized_pure3b_dt(0, N0_y, gamma_y)\n",
    "beta_z = dN_polarized_pure3b_dt(dt, N0_z, gamma_z)\n",
    "#beta_z/beta_y\n",
    "print(beta_y)\n",
    "print(beta_z)\n"
   ]
  },
  {
   "cell_type": "code",
   "execution_count": 20,
   "metadata": {},
   "outputs": [
    {
     "data": {
      "image/png": "[encoded data removed]",
      "text/plain": [
       "<Figure size 720x480 with 1 Axes>"
      ]
     },
     "metadata": {
      "needs_background": "light"
     },
     "output_type": "display_data"
    }
   ],
   "source": [
    "detuning = '1.5V'\n",
    "TOF = 4\n",
    "df_reduced_z = getReducedDataframe(df, detuning,'Bz', TOF)\n",
    "df_reduced_y = getReducedDataframe(df, detuning,'By', TOF)\n",
    "result_reduced_z = getReducedResults(resultsDF_pure3b, detuning, 'Bz', TOF)\n",
    "result_reduced_y = getReducedResults(resultsDF_pure3b, detuning, 'By', TOF)\n",
    "\n",
    "dNdt = dN_polarized_pure3b_dt(dt, result_reduced_z['N0'].iloc[0], result_reduced_z['gamma'].iloc[0])\n",
    "holdTime = np.linspace(0,80, 300)\n",
    "plt.figure(dpi = 120)\n",
    "plt.plot(df_reduced_z['BECHoldTime'], df_reduced_z['nCount'], '*')\n",
    "plt.plot(df_reduced_y['BECHoldTime'], df_reduced_y['nCount'], '*')\n",
    "plt.plot(holdTime, N_polarized_pure3b(holdTime, result_reduced_z['N0'].iloc[0], result_reduced_z['gamma'].iloc[0]), color = 'blue', label = '$B_{z}$')\n",
    "plt.plot(holdTime, N_polarized_pure3b(holdTime, result_reduced_y['N0'].iloc[0], result_reduced_y['gamma'].iloc[0]), color = 'red', label = '$B_{y}$')\n",
    "plt.title('Blue detuned, $\\Delta = 1$GHz, $V_{PD} = 1.5V$, $\\omega_{z} = 140$ kHz')\n",
    "plt.legend()\n",
    "plt.xlabel('$T_{hold}$ (ms)')\n",
    "plt.ylabel('Atom number')\n",
    "plt.show()"
   ]
  },
  {
   "cell_type": "code",
   "execution_count": 22,
   "metadata": {},
   "outputs": [
    {
     "data": {
      "image/png": "[encoded data removed]",
      "text/plain": [
       "<Figure size 720x480 with 1 Axes>"
      ]
     },
     "metadata": {
      "needs_background": "light"
     },
     "output_type": "display_data"
    }
   ],
   "source": [
    "detuning = '1.3V'\n",
    "TOF = 4\n",
    "df_reduced_z = getReducedDataframe(df, detuning,'Bz', TOF)\n",
    "df_reduced_y = getReducedDataframe(df, detuning,'By', TOF)\n",
    "result_reduced_z = getReducedResults(resultsDF_pure3b, detuning, 'Bz', TOF)\n",
    "result_reduced_y = getReducedResults(resultsDF_pure3b, detuning, 'By', TOF)\n",
    "\n",
    "dNdt = dN_polarized_pure3b_dt(dt, result_reduced_z['N0'].iloc[0], result_reduced_z['gamma'].iloc[0])\n",
    "holdTime = np.linspace(0,80, 300)\n",
    "plt.figure(dpi = 120)\n",
    "plt.plot(df_reduced_z['BECHoldTime'], df_reduced_z['nCount'], '*')\n",
    "plt.plot(df_reduced_y['BECHoldTime'], df_reduced_y['nCount'], '*')\n",
    "plt.plot(holdTime, N_polarized_pure3b(holdTime, result_reduced_z['N0'].iloc[0], result_reduced_z['gamma'].iloc[0]), color = 'blue', label = '$B_{z}$')\n",
    "plt.plot(holdTime, N_polarized_pure3b(holdTime, result_reduced_y['N0'].iloc[0], result_reduced_y['gamma'].iloc[0]), color = 'red', label = '$B_{y}$')\n",
    "plt.title('Blue detuned, $\\Delta = 1$GHz, $V_{PD} = 1.3V$, $\\omega_{z} = 140$ kHz')\n",
    "plt.legend()\n",
    "plt.xlabel('$T_{hold}$ (ms)')\n",
    "plt.ylabel('Atom number')\n",
    "plt.show()"
   ]
  },
  {
   "cell_type": "code",
   "execution_count": 15,
   "metadata": {},
   "outputs": [
    {
     "data": {
      "text/html": [
       "<div>\n",
       "<style scoped>\n",
       "    .dataframe tbody tr th:only-of-type {\n",
       "        vertical-align: middle;\n",
       "    }\n",
       "\n",
       "    .dataframe tbody tr th {\n",
       "        vertical-align: top;\n",
       "    }\n",
       "\n",
       "    .dataframe thead th {\n",
       "        text-align: right;\n",
       "    }\n",
       "</style>\n",
       "<table border=\"1\" class=\"dataframe\">\n",
       "  <thead>\n",
       "    <tr style=\"text-align: right;\">\n",
       "      <th></th>\n",
       "      <th>detuning</th>\n",
       "      <th>TOF</th>\n",
       "      <th>field_direction</th>\n",
       "      <th>N0</th>\n",
       "      <th>gamma</th>\n",
       "    </tr>\n",
       "  </thead>\n",
       "  <tbody>\n",
       "    <tr>\n",
       "      <th>0</th>\n",
       "      <td>0.5GHz</td>\n",
       "      <td>3</td>\n",
       "      <td>Bz</td>\n",
       "      <td>131028.827443</td>\n",
       "      <td>1.713659e-12</td>\n",
       "    </tr>\n",
       "    <tr>\n",
       "      <th>1</th>\n",
       "      <td>0.5GHz</td>\n",
       "      <td>3</td>\n",
       "      <td>By</td>\n",
       "      <td>132199.355160</td>\n",
       "      <td>3.000413e-12</td>\n",
       "    </tr>\n",
       "  </tbody>\n",
       "</table>\n",
       "</div>"
      ],
      "text/plain": [
       "  detuning  TOF field_direction             N0         gamma\n",
       "0   0.5GHz    3              Bz  131028.827443  1.713659e-12\n",
       "1   0.5GHz    3              By  132199.355160  3.000413e-12"
      ]
     },
     "execution_count": 15,
     "metadata": {},
     "output_type": "execute_result"
    }
   ],
   "source": [
    "resultsDF_pure3b"
   ]
  },
  {
   "cell_type": "code",
   "execution_count": 21,
   "metadata": {},
   "outputs": [
    {
     "data": {
      "image/png": "[encoded data removed]",
      "text/plain": [
       "<Figure size 432x288 with 1 Axes>"
      ]
     },
     "metadata": {
      "needs_background": "light"
     },
     "output_type": "display_data"
    }
   ],
   "source": [
    "points15V = results_betaRatio[results_betaRatio['detuning'] == '1.5V']['betaRatio']\n",
    "points13V = results_betaRatio[results_betaRatio['detuning'] == '1.3V']['betaRatio']\n",
    "points03V = results_betaRatio[results_betaRatio['detuning'] == '0.3V']['betaRatio']\n",
    "points01V = results_betaRatio[results_betaRatio['detuning'] == '0.1V']['betaRatio']\n",
    "ratios = [points15V, points13V, points03V, points01V]\n",
    "plt.figure()\n",
    "plt.plot(np.sqrt(np.array([1.5, 1.3, 0.3, 0.1])), ratios, '*')\n",
    "plt.title(r'$\\beta_{z}/\\beta_{y}$')\n",
    "plt.xlabel(r'Trap frequency $\\omega_{z}$ (kHz)')\n",
    "plt.show()"
   ]
  },
  {
   "cell_type": "code",
   "execution_count": 17,
   "metadata": {},
   "outputs": [
    {
     "data": {
      "text/html": [
       "<div>\n",
       "<style scoped>\n",
       "    .dataframe tbody tr th:only-of-type {\n",
       "        vertical-align: middle;\n",
       "    }\n",
       "\n",
       "    .dataframe tbody tr th {\n",
       "        vertical-align: top;\n",
       "    }\n",
       "\n",
       "    .dataframe thead th {\n",
       "        text-align: right;\n",
       "    }\n",
       "</style>\n",
       "<table border=\"1\" class=\"dataframe\">\n",
       "  <thead>\n",
       "    <tr style=\"text-align: right;\">\n",
       "      <th></th>\n",
       "      <th>detuning</th>\n",
       "      <th>TOF</th>\n",
       "      <th>betaRatio</th>\n",
       "    </tr>\n",
       "  </thead>\n",
       "  <tbody>\n",
       "    <tr>\n",
       "      <th>0</th>\n",
       "      <td>0.5GHz</td>\n",
       "      <td>3</td>\n",
       "      <td>0.556104</td>\n",
       "    </tr>\n",
       "  </tbody>\n",
       "</table>\n",
       "</div>"
      ],
      "text/plain": [
       "  detuning  TOF  betaRatio\n",
       "0   0.5GHz    3   0.556104"
      ]
     },
     "execution_count": 17,
     "metadata": {},
     "output_type": "execute_result"
    }
   ],
   "source": [
    "results_betaRatio"
   ]
  },
  {
   "cell_type": "markdown",
   "metadata": {},
   "source": [
    "It doesn't look good at all, it should be reversed, the $\\beta_{z}$ should be equal to $\\beta_{y}$ for small $\\omega_{z}$ and drop at the threshold."
   ]
  },
  {
   "cell_type": "code",
   "execution_count": 26,
   "metadata": {},
   "outputs": [
    {
     "name": "stdout",
     "output_type": "stream",
     "text": [
      "0.5GHz 3\n"
     ]
    },
    {
     "data": {
      "image/png": "[encoded data removed]",
      "text/plain": [
       "<Figure size 432x288 with 1 Axes>"
      ]
     },
     "metadata": {
      "needs_background": "light"
     },
     "output_type": "display_data"
    }
   ],
   "source": [
    "def dN_polarized_pure3b_dt(t, N0, gamma):\n",
    "    return -0.5*N0**3*gamma*(1+N0**2*gamma*t)**(-3/2)\n",
    "\n",
    "def getBeta(results, detuning, field_direction, TOF):\n",
    "    temp = results[results['detuning'] == detuning]\n",
    "    temp = temp[temp['TOF'] == TOF]\n",
    "    return temp[temp['field_direction'] == field_direction]['gamma']\n",
    "\n",
    "results_betaRatio = []\n",
    "for detuning in ['0.5GHz']:#, '1.5GHz']:\n",
    "    for TOF in [3]:#, 3]:\n",
    "        print(detuning, TOF)\n",
    "        beta_y_init = getBeta(resultsDF_pure3b, detuning, 'By', TOF)\n",
    "        beta_z_init = getBeta(resultsDF_pure3b, detuning, 'Bz', TOF)\n",
    "        dt = deltaTime(resultsDF_pure3b, detuning, TOF)\n",
    "        \n",
    "        results_By = getReducedResults(resultsDF_pure3b, detuning, 'By', TOF)\n",
    "        results_Bz = getReducedResults(resultsDF_pure3b, detuning, 'Bz', TOF)\n",
    "        N0_y, gamma_y = results_By['N0'].iloc[0], results_By['gamma'].iloc[0]\n",
    "        N0_z, gamma_z = results_Bz['N0'].iloc[0], results_Bz['gamma'].iloc[0]\n",
    "        \n",
    "        beta_y = dN_polarized_pure3b_dt(0, N0_y, gamma_y)\n",
    "        beta_z = dN_polarized_pure3b_dt(0, N0_z, gamma_z)\n",
    "        \n",
    "        results_betaRatio += [{'detuning' : detuning,\n",
    "                        'TOF' : TOF,\n",
    "                        'betaRatio' : beta_z/beta_y}]\n",
    "\n",
    "results_betaRatio = pd.DataFrame(results_betaRatio)\n",
    "\n",
    "results_betaRatio\n",
    "\n",
    "points05G = results_betaRatio[results_betaRatio['detuning'] == '0.5GHz']['betaRatio']\n",
    "#points15G = results_betaRatio[results_betaRatio['detuning'] == '1.5GHz']['betaRatio']\n",
    "\n",
    "plt.figure()\n",
    "plt.plot([116], points05G, '*')\n",
    "#plt.plot([96], points15G, '*')\n",
    "plt.title(r'$\\beta_{z}/\\beta_{y}$')\n",
    "plt.xlabel(r'Trap frequency $\\omega_{z}$ (kHz)')\n",
    "plt.show()"
   ]
  }
 ],
 "metadata": {
  "kernelspec": {
   "display_name": "Python 3",
   "language": "python",
   "name": "python3"
  },
  "language_info": {
   "codemirror_mode": {
    "name": "ipython",
    "version": 3
   },
   "file_extension": ".py",
   "mimetype": "text/x-python",
   "name": "python",
   "nbconvert_exporter": "python",
   "pygments_lexer": "ipython3",
   "version": "3.9.0"
  },
  "latex_envs": {
   "LaTeX_envs_menu_present": true,
   "autoclose": false,
   "autocomplete": true,
   "bibliofile": "biblio.bib",
   "cite_by": "apalike",
   "current_citInitial": 1,
   "eqLabelWithNumbers": true,
   "eqNumInitial": 1,
   "hotkeys": {
    "equation": "Ctrl-E",
    "itemize": "Ctrl-I"
   },
   "labels_anchors": false,
   "latex_user_defs": false,
   "report_style_numbering": false,
   "user_envs_cfg": false
  }
 },
 "nbformat": 4,
 "nbformat_minor": 4
}
