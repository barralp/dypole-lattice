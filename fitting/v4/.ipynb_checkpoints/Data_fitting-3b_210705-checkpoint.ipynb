{
 "cells": [
  {
   "cell_type": "code",
   "execution_count": 1,
   "metadata": {},
   "outputs": [],
   "source": [
    "from databaseCommunication import readDatabaseFile, createDataFrame_list\n",
    "from dataframeFormating import createLabeledDataFrame_list #, N_polarized_pure3b, N_polarized, N_linear, getReducedDataframe, getReducedResults, \n",
    "from calculation import trapFrequency, getSubDF, noiseFilter, renameUnits, dropExcluded, computeBareTrapFrequencies, computeTrapFrequencies\n",
    "from fit import fitDF, N_polarized_pure3b, N_polarized, N_linear, N_polarized_premix\n",
    "import pandas as pd\n",
    "import numpy as np\n",
    "import matplotlib.pyplot as plt\n",
    "from scipy.optimize import curve_fit\n",
    "from parameters import *"
   ]
  },
  {
   "cell_type": "code",
   "execution_count": 2,
   "metadata": {},
   "outputs": [],
   "source": [
    "label_heads = ['isotope', 'run']\n",
    "\n",
    "\n",
    "labels = [[['162', 'run1'], [183233, 183704]],  # look and remove a couple of shot under 34000 atom counts and below 1000ms hold\n",
    "        #[['162', 'run2'], [183705, 183842]],\n",
    "          [['162', 'run2'], [183863, 183970]],\n",
    "          [['162', 'run3'], [184051, 184149]]\n",
    "         ] # July 5th\n",
    "\n",
    "# All is with 162 isotope\n",
    "\n",
    "# run1 : -11.25 GHz, all power. 7.4+7.83\n",
    "# run2 : -5.25 GHz, on low power and 2 high power. 7.4+7.83\n",
    "# run3 (cut) : -20.25 GHz, all power. 7.4+7.83\n",
    "\n",
    "\n",
    "\n",
    "compz_not_lossy = 7.4\n",
    "compz_lossy = 7.83\n",
    "compz_very_lossy = 7.85\n",
    "\n",
    "\n",
    "excluded = [183419, 183620]"
   ]
  },
  {
   "cell_type": "markdown",
   "metadata": {},
   "source": [
    "Over the course of one experiment, the PD reading basically varies +/-3% at high power (when the baseline is around 1V)."
   ]
  },
  {
   "cell_type": "code",
   "execution_count": 3,
   "metadata": {},
   "outputs": [],
   "source": [
    "ciceroVariables = ['BECHoldTime', 'TOF', 'latticeDepth_final', 'latticeDetuning', 'compz_rotation', 'ODT3_Comp_final', 'ODT12_pre_lattice', 'ODT3_pre_lattice', 'dummy']\n",
    "fitVariables = ['nCount', 'xWidth', 'yWidth', 'xPos', 'yPos']\n",
    "\n",
    "df = createLabeledDataFrame_list(labels, label_heads, ciceroVariables, fitVariables)\n",
    "for column in df.columns:\n",
    "    try:\n",
    "        df[column] = df[column].astype(float)\n",
    "    except:\n",
    "        pass\n",
    "df.to_pickle('data_save_210705.pickle')"
   ]
  },
  {
   "cell_type": "code",
   "execution_count": 4,
   "metadata": {},
   "outputs": [],
   "source": [
    "df = pd.read_pickle('data_save_210705.pickle')\n",
    "\n",
    "#df_TOF = df_TOF[df_TOF['imageID'] < 169640]\n",
    "\n",
    "#### Noise filtering\n",
    "#df_TOF = noiseFilter(df_TOF, nMax = np.inf, nMin = 4000, xWidthMax = np.inf, yWidthMax = 100)\n",
    "#df_TOF =  noiseFilter(df_TOF, nMax = np.inf, nMin = 4000, xWidthMax = 100, xWidthMin = 4,  yWidthMax = 100, yWidthMin = 4)\n",
    "\n",
    "#df_TOF =  noiseFilter(df_TOF, nMax = np.inf, nMin = 3000, xWidthMax = 100, xWidthMin = 3,  yWidthMax = 100, yWidthMin = 3)\n",
    "#df_TOF =  noiseFilter(df_TOF, nMax = np.inf, nMin = 6000, xWidthMax = 300, xWidthMin = 3,  yWidthMax = 300, yWidthMin = 3)\n",
    "\n",
    "\n",
    "\n",
    "# add units and renames columns\n",
    "# it add xWidth_um and the inversion between X and Y is performed\n",
    "renameUnits(df, magnification = 4.38, cameraPixelSize = 6.5, axis = 'horizontal', experiment = 'TOF')\n",
    "\n",
    "# Delete these row indexes from dataFrame\n",
    "dropExcluded(df, excluded)\n",
    "\n",
    "#wrongDetuningNames = pd.Index(np.where(df['imageID'].isin(list(range(181308, 181403+1))))[0])\n",
    "#df.iloc[wrongDetuningNames, 3] = -5.25\n",
    "\n",
    "df = df[df['BECHoldTime'] > 0]"
   ]
  },
  {
   "cell_type": "code",
   "execution_count": 5,
   "metadata": {},
   "outputs": [],
   "source": [
    "computeBareTrapFrequencies(df)\n",
    "#computeBareTrapFrequencies(df_inSitu, trapFrequency_x, trapFrequency_y, trapFrequency_z, trapFrequency_x_blue, trapFrequency_y_blue)\n",
    "\n",
    "computeTrapFrequencies(df)\n",
    "#computeTrapFrequencies(df_inSitu)\n",
    "\n",
    "#temperature = 10*nK\n",
    "#df_inSitu['rWidth_inSitu_v_um'] = np.sqrt(df_inSitu['xWidth_inSitu_v_um']*df_inSitu['yWidth_inSitu_v_um'])\n",
    "#df_inSitu['rWidth_calculated_um'] = np.sqrt(k_B*temperature/(m*df_inSitu['trapFrequencyX_Hz']*df_inSitu['trapFrequencyY_Hz']))/um"
   ]
  },
  {
   "cell_type": "code",
   "execution_count": 6,
   "metadata": {},
   "outputs": [
    {
     "data": {
      "text/html": [
       "<div>\n",
       "<style scoped>\n",
       "    .dataframe tbody tr th:only-of-type {\n",
       "        vertical-align: middle;\n",
       "    }\n",
       "\n",
       "    .dataframe tbody tr th {\n",
       "        vertical-align: top;\n",
       "    }\n",
       "\n",
       "    .dataframe thead th {\n",
       "        text-align: right;\n",
       "    }\n",
       "</style>\n",
       "<table border=\"1\" class=\"dataframe\">\n",
       "  <thead>\n",
       "    <tr style=\"text-align: right;\">\n",
       "      <th></th>\n",
       "      <th>BECHoldTime</th>\n",
       "      <th>TOF</th>\n",
       "      <th>latticeDepth_mW</th>\n",
       "      <th>latticeDetuning_GHz</th>\n",
       "      <th>compz</th>\n",
       "      <th>ODT3_Comp_final</th>\n",
       "      <th>ODT12_pre_lattice</th>\n",
       "      <th>ODT3_pre_lattice</th>\n",
       "      <th>dummy</th>\n",
       "      <th>nCount</th>\n",
       "      <th>xWidth</th>\n",
       "      <th>yWidth</th>\n",
       "      <th>xPos</th>\n",
       "      <th>yPos</th>\n",
       "      <th>imageID</th>\n",
       "    </tr>\n",
       "  </thead>\n",
       "  <tbody>\n",
       "    <tr>\n",
       "      <th>474</th>\n",
       "      <td>10.0</td>\n",
       "      <td>5.0</td>\n",
       "      <td>160.0</td>\n",
       "      <td>-5.25</td>\n",
       "      <td>7.83</td>\n",
       "      <td>5.0</td>\n",
       "      <td>0.5</td>\n",
       "      <td>0.5</td>\n",
       "      <td>2.0</td>\n",
       "      <td>782.0</td>\n",
       "      <td>3.82446</td>\n",
       "      <td>11.45740</td>\n",
       "      <td>1186.09</td>\n",
       "      <td>1544.31</td>\n",
       "      <td>183865.0</td>\n",
       "    </tr>\n",
       "    <tr>\n",
       "      <th>491</th>\n",
       "      <td>3.0</td>\n",
       "      <td>5.0</td>\n",
       "      <td>100.0</td>\n",
       "      <td>-5.25</td>\n",
       "      <td>7.83</td>\n",
       "      <td>5.0</td>\n",
       "      <td>0.5</td>\n",
       "      <td>0.5</td>\n",
       "      <td>2.0</td>\n",
       "      <td>4073.0</td>\n",
       "      <td>4.27390</td>\n",
       "      <td>147.75400</td>\n",
       "      <td>1161.87</td>\n",
       "      <td>1322.26</td>\n",
       "      <td>183882.0</td>\n",
       "    </tr>\n",
       "    <tr>\n",
       "      <th>504</th>\n",
       "      <td>2.0</td>\n",
       "      <td>5.0</td>\n",
       "      <td>160.0</td>\n",
       "      <td>-5.25</td>\n",
       "      <td>7.83</td>\n",
       "      <td>5.0</td>\n",
       "      <td>0.5</td>\n",
       "      <td>0.5</td>\n",
       "      <td>2.0</td>\n",
       "      <td>933.0</td>\n",
       "      <td>60.68100</td>\n",
       "      <td>126.66700</td>\n",
       "      <td>1099.97</td>\n",
       "      <td>1588.20</td>\n",
       "      <td>183895.0</td>\n",
       "    </tr>\n",
       "    <tr>\n",
       "      <th>516</th>\n",
       "      <td>3.0</td>\n",
       "      <td>5.0</td>\n",
       "      <td>160.0</td>\n",
       "      <td>-5.25</td>\n",
       "      <td>7.83</td>\n",
       "      <td>5.0</td>\n",
       "      <td>0.5</td>\n",
       "      <td>0.5</td>\n",
       "      <td>2.0</td>\n",
       "      <td>3686.0</td>\n",
       "      <td>35.07670</td>\n",
       "      <td>44.49610</td>\n",
       "      <td>1071.83</td>\n",
       "      <td>1456.70</td>\n",
       "      <td>183907.0</td>\n",
       "    </tr>\n",
       "    <tr>\n",
       "      <th>518</th>\n",
       "      <td>10.0</td>\n",
       "      <td>5.0</td>\n",
       "      <td>160.0</td>\n",
       "      <td>-5.25</td>\n",
       "      <td>7.83</td>\n",
       "      <td>5.0</td>\n",
       "      <td>0.5</td>\n",
       "      <td>0.5</td>\n",
       "      <td>1.0</td>\n",
       "      <td>4460.0</td>\n",
       "      <td>305.55500</td>\n",
       "      <td>21.35270</td>\n",
       "      <td>1447.45</td>\n",
       "      <td>1452.09</td>\n",
       "      <td>183909.0</td>\n",
       "    </tr>\n",
       "    <tr>\n",
       "      <th>524</th>\n",
       "      <td>5.0</td>\n",
       "      <td>5.0</td>\n",
       "      <td>160.0</td>\n",
       "      <td>-5.25</td>\n",
       "      <td>7.83</td>\n",
       "      <td>5.0</td>\n",
       "      <td>0.5</td>\n",
       "      <td>0.5</td>\n",
       "      <td>2.0</td>\n",
       "      <td>4203.0</td>\n",
       "      <td>38.14430</td>\n",
       "      <td>140.25500</td>\n",
       "      <td>1077.11</td>\n",
       "      <td>1602.40</td>\n",
       "      <td>183915.0</td>\n",
       "    </tr>\n",
       "    <tr>\n",
       "      <th>538</th>\n",
       "      <td>20.0</td>\n",
       "      <td>5.0</td>\n",
       "      <td>160.0</td>\n",
       "      <td>-5.25</td>\n",
       "      <td>7.83</td>\n",
       "      <td>5.0</td>\n",
       "      <td>0.5</td>\n",
       "      <td>0.5</td>\n",
       "      <td>1.0</td>\n",
       "      <td>3965.0</td>\n",
       "      <td>272.02800</td>\n",
       "      <td>11.44190</td>\n",
       "      <td>1384.88</td>\n",
       "      <td>1505.79</td>\n",
       "      <td>183929.0</td>\n",
       "    </tr>\n",
       "    <tr>\n",
       "      <th>539</th>\n",
       "      <td>20.0</td>\n",
       "      <td>5.0</td>\n",
       "      <td>160.0</td>\n",
       "      <td>-5.25</td>\n",
       "      <td>7.83</td>\n",
       "      <td>5.0</td>\n",
       "      <td>0.5</td>\n",
       "      <td>0.5</td>\n",
       "      <td>2.0</td>\n",
       "      <td>4873.0</td>\n",
       "      <td>189.81500</td>\n",
       "      <td>63.59190</td>\n",
       "      <td>1242.77</td>\n",
       "      <td>1490.60</td>\n",
       "      <td>183930.0</td>\n",
       "    </tr>\n",
       "    <tr>\n",
       "      <th>549</th>\n",
       "      <td>10.0</td>\n",
       "      <td>5.0</td>\n",
       "      <td>100.0</td>\n",
       "      <td>-5.25</td>\n",
       "      <td>7.83</td>\n",
       "      <td>5.0</td>\n",
       "      <td>0.5</td>\n",
       "      <td>0.5</td>\n",
       "      <td>1.0</td>\n",
       "      <td>3644.0</td>\n",
       "      <td>243.02200</td>\n",
       "      <td>1.26164</td>\n",
       "      <td>1316.29</td>\n",
       "      <td>1459.01</td>\n",
       "      <td>183940.0</td>\n",
       "    </tr>\n",
       "  </tbody>\n",
       "</table>\n",
       "</div>"
      ],
      "text/plain": [
       "     BECHoldTime  TOF  latticeDepth_mW  latticeDetuning_GHz  compz  \\\n",
       "474         10.0  5.0            160.0                -5.25   7.83   \n",
       "491          3.0  5.0            100.0                -5.25   7.83   \n",
       "504          2.0  5.0            160.0                -5.25   7.83   \n",
       "516          3.0  5.0            160.0                -5.25   7.83   \n",
       "518         10.0  5.0            160.0                -5.25   7.83   \n",
       "524          5.0  5.0            160.0                -5.25   7.83   \n",
       "538         20.0  5.0            160.0                -5.25   7.83   \n",
       "539         20.0  5.0            160.0                -5.25   7.83   \n",
       "549         10.0  5.0            100.0                -5.25   7.83   \n",
       "\n",
       "     ODT3_Comp_final  ODT12_pre_lattice  ODT3_pre_lattice  dummy  nCount  \\\n",
       "474              5.0                0.5               0.5    2.0   782.0   \n",
       "491              5.0                0.5               0.5    2.0  4073.0   \n",
       "504              5.0                0.5               0.5    2.0   933.0   \n",
       "516              5.0                0.5               0.5    2.0  3686.0   \n",
       "518              5.0                0.5               0.5    1.0  4460.0   \n",
       "524              5.0                0.5               0.5    2.0  4203.0   \n",
       "538              5.0                0.5               0.5    1.0  3965.0   \n",
       "539              5.0                0.5               0.5    2.0  4873.0   \n",
       "549              5.0                0.5               0.5    1.0  3644.0   \n",
       "\n",
       "        xWidth     yWidth     xPos     yPos   imageID  \n",
       "474    3.82446   11.45740  1186.09  1544.31  183865.0  \n",
       "491    4.27390  147.75400  1161.87  1322.26  183882.0  \n",
       "504   60.68100  126.66700  1099.97  1588.20  183895.0  \n",
       "516   35.07670   44.49610  1071.83  1456.70  183907.0  \n",
       "518  305.55500   21.35270  1447.45  1452.09  183909.0  \n",
       "524   38.14430  140.25500  1077.11  1602.40  183915.0  \n",
       "538  272.02800   11.44190  1384.88  1505.79  183929.0  \n",
       "539  189.81500   63.59190  1242.77  1490.60  183930.0  \n",
       "549  243.02200    1.26164  1316.29  1459.01  183940.0  "
      ]
     },
     "execution_count": 6,
     "metadata": {},
     "output_type": "execute_result"
    }
   ],
   "source": [
    "df[df['nCount'] < 5000].iloc[:,:15]"
   ]
  },
  {
   "cell_type": "code",
   "execution_count": 7,
   "metadata": {},
   "outputs": [
    {
     "data": {
      "text/html": [
       "<div>\n",
       "<style scoped>\n",
       "    .dataframe tbody tr th:only-of-type {\n",
       "        vertical-align: middle;\n",
       "    }\n",
       "\n",
       "    .dataframe tbody tr th {\n",
       "        vertical-align: top;\n",
       "    }\n",
       "\n",
       "    .dataframe thead th {\n",
       "        text-align: right;\n",
       "    }\n",
       "</style>\n",
       "<table border=\"1\" class=\"dataframe\">\n",
       "  <thead>\n",
       "    <tr style=\"text-align: right;\">\n",
       "      <th></th>\n",
       "      <th>BECHoldTime</th>\n",
       "      <th>TOF</th>\n",
       "      <th>latticeDepth_mW</th>\n",
       "      <th>latticeDetuning_GHz</th>\n",
       "      <th>compz</th>\n",
       "      <th>ODT3_Comp_final</th>\n",
       "      <th>ODT12_pre_lattice</th>\n",
       "      <th>ODT3_pre_lattice</th>\n",
       "      <th>dummy</th>\n",
       "      <th>nCount</th>\n",
       "      <th>...</th>\n",
       "      <th>run</th>\n",
       "      <th>xWidth_TOF_h_um</th>\n",
       "      <th>zWidth_TOF_h_um</th>\n",
       "      <th>trapFrequencyZ_kHz</th>\n",
       "      <th>deconfiningTrapFrequency_Hz</th>\n",
       "      <th>bareTrapFrequencyX_Hz</th>\n",
       "      <th>bareTrapFrequencyY_Hz</th>\n",
       "      <th>bareTrapFrequencyZ_Hz</th>\n",
       "      <th>trapFrequencyX_Hz</th>\n",
       "      <th>trapFrequencyY_Hz</th>\n",
       "    </tr>\n",
       "  </thead>\n",
       "  <tbody>\n",
       "    <tr>\n",
       "      <th>0</th>\n",
       "      <td>3000.0</td>\n",
       "      <td>5.0</td>\n",
       "      <td>160.0</td>\n",
       "      <td>-11.25</td>\n",
       "      <td>7.4</td>\n",
       "      <td>5.0</td>\n",
       "      <td>0.5</td>\n",
       "      <td>0.5</td>\n",
       "      <td>3.0</td>\n",
       "      <td>21205.0</td>\n",
       "      <td>...</td>\n",
       "      <td>run1</td>\n",
       "      <td>57.862763</td>\n",
       "      <td>41.938059</td>\n",
       "      <td>74.277045</td>\n",
       "      <td>41.154721</td>\n",
       "      <td>330.0</td>\n",
       "      <td>208.0</td>\n",
       "      <td>235.0</td>\n",
       "      <td>407.810955</td>\n",
       "      <td>317.29131</td>\n",
       "    </tr>\n",
       "    <tr>\n",
       "      <th>1</th>\n",
       "      <td>50.0</td>\n",
       "      <td>5.0</td>\n",
       "      <td>160.0</td>\n",
       "      <td>-11.25</td>\n",
       "      <td>7.4</td>\n",
       "      <td>5.0</td>\n",
       "      <td>0.5</td>\n",
       "      <td>0.5</td>\n",
       "      <td>2.0</td>\n",
       "      <td>43585.0</td>\n",
       "      <td>...</td>\n",
       "      <td>run1</td>\n",
       "      <td>43.307066</td>\n",
       "      <td>36.971644</td>\n",
       "      <td>74.277045</td>\n",
       "      <td>41.154721</td>\n",
       "      <td>330.0</td>\n",
       "      <td>208.0</td>\n",
       "      <td>235.0</td>\n",
       "      <td>407.810955</td>\n",
       "      <td>317.29131</td>\n",
       "    </tr>\n",
       "    <tr>\n",
       "      <th>2</th>\n",
       "      <td>5000.0</td>\n",
       "      <td>5.0</td>\n",
       "      <td>160.0</td>\n",
       "      <td>-11.25</td>\n",
       "      <td>7.4</td>\n",
       "      <td>5.0</td>\n",
       "      <td>0.5</td>\n",
       "      <td>0.5</td>\n",
       "      <td>2.0</td>\n",
       "      <td>19550.0</td>\n",
       "      <td>...</td>\n",
       "      <td>run1</td>\n",
       "      <td>64.762260</td>\n",
       "      <td>43.607580</td>\n",
       "      <td>74.277045</td>\n",
       "      <td>41.154721</td>\n",
       "      <td>330.0</td>\n",
       "      <td>208.0</td>\n",
       "      <td>235.0</td>\n",
       "      <td>407.810955</td>\n",
       "      <td>317.29131</td>\n",
       "    </tr>\n",
       "    <tr>\n",
       "      <th>3</th>\n",
       "      <td>200.0</td>\n",
       "      <td>5.0</td>\n",
       "      <td>160.0</td>\n",
       "      <td>-11.25</td>\n",
       "      <td>7.4</td>\n",
       "      <td>5.0</td>\n",
       "      <td>0.5</td>\n",
       "      <td>0.5</td>\n",
       "      <td>3.0</td>\n",
       "      <td>34892.0</td>\n",
       "      <td>...</td>\n",
       "      <td>run1</td>\n",
       "      <td>47.028687</td>\n",
       "      <td>35.393539</td>\n",
       "      <td>74.277045</td>\n",
       "      <td>41.154721</td>\n",
       "      <td>330.0</td>\n",
       "      <td>208.0</td>\n",
       "      <td>235.0</td>\n",
       "      <td>407.810955</td>\n",
       "      <td>317.29131</td>\n",
       "    </tr>\n",
       "    <tr>\n",
       "      <th>4</th>\n",
       "      <td>5000.0</td>\n",
       "      <td>5.0</td>\n",
       "      <td>160.0</td>\n",
       "      <td>-11.25</td>\n",
       "      <td>7.4</td>\n",
       "      <td>5.0</td>\n",
       "      <td>0.5</td>\n",
       "      <td>0.5</td>\n",
       "      <td>1.0</td>\n",
       "      <td>14080.0</td>\n",
       "      <td>...</td>\n",
       "      <td>run1</td>\n",
       "      <td>67.277671</td>\n",
       "      <td>50.041986</td>\n",
       "      <td>74.277045</td>\n",
       "      <td>41.154721</td>\n",
       "      <td>330.0</td>\n",
       "      <td>208.0</td>\n",
       "      <td>235.0</td>\n",
       "      <td>407.810955</td>\n",
       "      <td>317.29131</td>\n",
       "    </tr>\n",
       "  </tbody>\n",
       "</table>\n",
       "<p>5 rows × 26 columns</p>\n",
       "</div>"
      ],
      "text/plain": [
       "   BECHoldTime  TOF  latticeDepth_mW  latticeDetuning_GHz  compz  \\\n",
       "0       3000.0  5.0            160.0               -11.25    7.4   \n",
       "1         50.0  5.0            160.0               -11.25    7.4   \n",
       "2       5000.0  5.0            160.0               -11.25    7.4   \n",
       "3        200.0  5.0            160.0               -11.25    7.4   \n",
       "4       5000.0  5.0            160.0               -11.25    7.4   \n",
       "\n",
       "   ODT3_Comp_final  ODT12_pre_lattice  ODT3_pre_lattice  dummy   nCount  ...  \\\n",
       "0              5.0                0.5               0.5    3.0  21205.0  ...   \n",
       "1              5.0                0.5               0.5    2.0  43585.0  ...   \n",
       "2              5.0                0.5               0.5    2.0  19550.0  ...   \n",
       "3              5.0                0.5               0.5    3.0  34892.0  ...   \n",
       "4              5.0                0.5               0.5    1.0  14080.0  ...   \n",
       "\n",
       "    run  xWidth_TOF_h_um  zWidth_TOF_h_um  trapFrequencyZ_kHz  \\\n",
       "0  run1        57.862763        41.938059           74.277045   \n",
       "1  run1        43.307066        36.971644           74.277045   \n",
       "2  run1        64.762260        43.607580           74.277045   \n",
       "3  run1        47.028687        35.393539           74.277045   \n",
       "4  run1        67.277671        50.041986           74.277045   \n",
       "\n",
       "   deconfiningTrapFrequency_Hz  bareTrapFrequencyX_Hz bareTrapFrequencyY_Hz  \\\n",
       "0                    41.154721                  330.0                 208.0   \n",
       "1                    41.154721                  330.0                 208.0   \n",
       "2                    41.154721                  330.0                 208.0   \n",
       "3                    41.154721                  330.0                 208.0   \n",
       "4                    41.154721                  330.0                 208.0   \n",
       "\n",
       "   bareTrapFrequencyZ_Hz  trapFrequencyX_Hz  trapFrequencyY_Hz  \n",
       "0                  235.0         407.810955          317.29131  \n",
       "1                  235.0         407.810955          317.29131  \n",
       "2                  235.0         407.810955          317.29131  \n",
       "3                  235.0         407.810955          317.29131  \n",
       "4                  235.0         407.810955          317.29131  \n",
       "\n",
       "[5 rows x 26 columns]"
      ]
     },
     "execution_count": 7,
     "metadata": {},
     "output_type": "execute_result"
    }
   ],
   "source": [
    "getSubDF(df,['latticeDetuning_GHz', 'latticeDepth_mW', 'compz'], [-11.25, 160, 7.4]).head()"
   ]
  },
  {
   "cell_type": "code",
   "execution_count": 8,
   "metadata": {},
   "outputs": [
    {
     "data": {
      "image/png": "[encoded data removed]",
      "text/plain": [
       "<Figure size 432x288 with 1 Axes>"
      ]
     },
     "metadata": {
      "needs_background": "light"
     },
     "output_type": "display_data"
    }
   ],
   "source": [
    "plt.figure()\n",
    "df_temp = getSubDF(df, ['latticeDetuning_GHz'], [-11.25])\n",
    "plt.plot(df_temp['latticeDepth_mW'], df_temp['trapFrequencyY_Hz'], 'o')\n",
    "plt.show()"
   ]
  },
  {
   "cell_type": "code",
   "execution_count": 9,
   "metadata": {},
   "outputs": [
    {
     "data": {
      "image/png": "[encoded data removed]",
      "text/plain": [
       "<Figure size 432x288 with 1 Axes>"
      ]
     },
     "metadata": {
      "needs_background": "light"
     },
     "output_type": "display_data"
    }
   ],
   "source": [
    "plt.figure()\n",
    "df_temp = getSubDF(df, ['latticeDetuning_GHz'], [-11.25])\n",
    "plt.plot(df_temp['latticeDepth_mW'], df_temp['deconfiningTrapFrequency_Hz'], 'o')\n",
    "plt.show()"
   ]
  },
  {
   "cell_type": "markdown",
   "metadata": {},
   "source": [
    "I computed that for a blue lattice $\\omega_\\perp^2 = \\frac{\\hbar k\\sqrt{2V_{741}}}{m^{3/2}w_{741}^2} = \\frac{\\hbar k\\sqrt{2\\frac{m\\omega_z^2}{2k^2}}}{m^{3/2}w_{741}^2} = \\frac{\\hbar\\omega_z}{m w_{741}^2}$."
   ]
  },
  {
   "cell_type": "code",
   "execution_count": 10,
   "metadata": {},
   "outputs": [
    {
     "data": {
      "image/png": "[encoded data removed]",
      "text/plain": [
       "<Figure size 432x288 with 1 Axes>"
      ]
     },
     "metadata": {
      "needs_background": "light"
     },
     "output_type": "display_data"
    }
   ],
   "source": [
    "df_temp = getSubDF(df, ['latticeDetuning_GHz', 'latticeDepth_mW', 'compz'], [-11.25, 160, compz_not_lossy]).groupby(['BECHoldTime']).mean().reset_index()\n",
    "plt.figure()\n",
    "plt.plot(df_temp['BECHoldTime'], df_temp['nCount'], '+')\n",
    "plt.xlim(0,1000)\n",
    "plt.show()"
   ]
  },
  {
   "cell_type": "code",
   "execution_count": 11,
   "metadata": {},
   "outputs": [
    {
     "data": {
      "text/plain": [
       "Index(['BECHoldTime', 'TOF', 'latticeDepth_mW', 'latticeDetuning_GHz', 'compz',\n",
       "       'ODT3_Comp_final', 'ODT12_pre_lattice', 'ODT3_pre_lattice', 'dummy',\n",
       "       'nCount', 'xWidth', 'yWidth', 'xPos', 'yPos', 'imageID', 'isotope',\n",
       "       'run', 'xWidth_TOF_h_um', 'zWidth_TOF_h_um', 'trapFrequencyZ_kHz',\n",
       "       'deconfiningTrapFrequency_Hz', 'bareTrapFrequencyX_Hz',\n",
       "       'bareTrapFrequencyY_Hz', 'bareTrapFrequencyZ_Hz', 'trapFrequencyX_Hz',\n",
       "       'trapFrequencyY_Hz'],\n",
       "      dtype='object')"
      ]
     },
     "execution_count": 11,
     "metadata": {},
     "output_type": "execute_result"
    }
   ],
   "source": [
    "df.columns"
   ]
  },
  {
   "cell_type": "code",
   "execution_count": 12,
   "metadata": {},
   "outputs": [],
   "source": [
    "latticeDepthList = np.sort(df['latticeDepth_mW'].unique())\n",
    "BECHoldTimeList = np.sort(df['BECHoldTime'].unique())\n",
    "latticeDetuningList = np.sort(df['latticeDetuning_GHz'].unique())\n",
    "compzList = np.sort(df['compz'].unique())\n",
    "ODT3_Comp_finalList = np.sort(df['ODT3_Comp_final'].unique())\n",
    "trapFrequencyList = np.sort(df['trapFrequencyZ_kHz'].unique())\n",
    "\n",
    "\n",
    "\"\"\"latticeDepthList = np.sort(df['latticeDepth'].unique())\n",
    "BECHoldTimeList = np.sort(df['BECHoldTime'].unique())\n",
    "latticeDetuningList = np.sort(df['latticeDetuning'].unique())\n",
    "compzList = np.sort(df['compz'].unique())\n",
    "ODTFactorList = np.sort(df['ODTFactor'].unique())\"\"\"\n",
    "colors = ['red', 'blue', 'orange', 'black', 'green', 'pink', 'purple']"
   ]
  },
  {
   "cell_type": "code",
   "execution_count": 13,
   "metadata": {},
   "outputs": [
    {
     "data": {
      "text/plain": [
       "array([  1.,   5.,  15.,  50., 100., 160.])"
      ]
     },
     "execution_count": 13,
     "metadata": {},
     "output_type": "execute_result"
    }
   ],
   "source": [
    "latticeDepthList"
   ]
  },
  {
   "cell_type": "markdown",
   "metadata": {},
   "source": [
    "# Old stuff"
   ]
  },
  {
   "cell_type": "code",
   "execution_count": 14,
   "metadata": {},
   "outputs": [
    {
     "data": {
      "image/png": "[encoded data removed]",
      "text/plain": [
       "<Figure size 432x288 with 1 Axes>"
      ]
     },
     "metadata": {
      "needs_background": "light"
     },
     "output_type": "display_data"
    }
   ],
   "source": [
    "plt.figure()\n",
    "i = 0\n",
    "for latticeDetuning in latticeDetuningList:\n",
    "    df_temp = getSubDF(df, ['latticeDetuning_GHz'], [latticeDetuning])\n",
    "    plt.plot(df_temp['latticeDepth_mW'], df_temp['deconfiningTrapFrequency_Hz'], 'x', color = colors[i], label = latticeDetuning)\n",
    "    plt.plot(df_temp['latticeDepth_mW'], df_temp['trapFrequencyX_Hz'], 'o', color = colors[i], label = latticeDetuning)\n",
    "    i += 1\n",
    "plt.legend()\n",
    "plt.xlabel('Lattice power (mW)')\n",
    "plt.ylabel('transverse trap frequency (Hz)')\n",
    "plt.show()"
   ]
  },
  {
   "cell_type": "code",
   "execution_count": 15,
   "metadata": {},
   "outputs": [
    {
     "data": {
      "image/png": "[encoded data removed]",
      "text/plain": [
       "<Figure size 432x288 with 1 Axes>"
      ]
     },
     "metadata": {
      "needs_background": "light"
     },
     "output_type": "display_data"
    }
   ],
   "source": [
    "latticeDetuning = -11.25\n",
    "compz = 7.4\n",
    "plt.figure()\n",
    "for latticeDepth in [0.3]:#, 20, 120]:\n",
    "    df_temp = getSubDF(df, ['latticeDepth_mW', 'latticeDetuning_GHz', 'compz'], [latticeDepth, latticeDetuning, compz])\n",
    "    plt.plot(df_temp['BECHoldTime'], df_temp['nCount'], '+', label = str(round(latticeDepth, 2)))\n",
    "plt.legend()\n",
    "#plt.ylim(0, 5000)\n",
    "#plt.ylim(0,50000)\n",
    "plt.xlabel('BECHoldTime (ms)')\n",
    "plt.ylabel('nCount')\n",
    "plt.show()"
   ]
  },
  {
   "cell_type": "code",
   "execution_count": 16,
   "metadata": {},
   "outputs": [
    {
     "data": {
      "image/png": "[encoded data removed]",
      "text/plain": [
       "<Figure size 432x288 with 1 Axes>"
      ]
     },
     "metadata": {
      "needs_background": "light"
     },
     "output_type": "display_data"
    }
   ],
   "source": [
    "latticeDetuning = -11.25\n",
    "plt.figure()\n",
    "for latticeDepth in [0.3]:#, 20, 120]:\n",
    "    df_temp_1 = getSubDF(df, ['latticeDepth_mW', 'latticeDetuning_GHz', 'compz'], [latticeDepth, latticeDetuning, compz_not_lossy])\n",
    "    df_temp_2 = getSubDF(df, ['latticeDepth_mW', 'latticeDetuning_GHz', 'compz'], [latticeDepth, latticeDetuning, compz_lossy])\n",
    "    plt.plot(df_temp_1['BECHoldTime'], df_temp_1['nCount'], '+', label = str(round(latticeDepth, 2)) + ' ' +str(compz_not_lossy))\n",
    "    plt.plot(df_temp_2['BECHoldTime'], df_temp_2['nCount'], '+', label = str(round(latticeDepth, 2)) + ' ' +str(compz_lossy))\n",
    "plt.legend()\n",
    "#plt.ylim(0, 5000)\n",
    "#plt.xlim(0,10)\n",
    "plt.xlabel('BECHoldTime (ms)')\n",
    "plt.ylabel('nCount')\n",
    "plt.show()"
   ]
  },
  {
   "cell_type": "code",
   "execution_count": 17,
   "metadata": {},
   "outputs": [
    {
     "name": "stdout",
     "output_type": "stream",
     "text": [
      "{'BECHoldTime': 1034.0277777777778, 'TOF': 5.0, 'latticeDepth_mW': 1.0, 'latticeDetuning_GHz': -11.25, 'compz': 7.3999999999999995, 'ODT3_Comp_final': 5.0, 'ODT12_pre_lattice': 0.5, 'ODT3_pre_lattice': 0.5, 'dummy': 2.5, 'nCount': 38245.916666666664, 'xWidth': 21.690077777777777, 'yWidth': 21.994000000000003, 'xPos': 1084.461111111111, 'yPos': 1474.6619444444445, 'imageID': 183450.91666666666, 'isotope': 162.0, 'xWidth_TOF_h_um': 32.18847158802639, 'zWidth_TOF_h_um': 32.63949771689498, 'trapFrequencyZ_kHz': 5.87211599544093, 'deconfiningTrapFrequency_Hz': 11.571500234622013, 'bareTrapFrequencyX_Hz': 329.99999999999994, 'bareTrapFrequencyY_Hz': 208.00000000000003, 'bareTrapFrequencyZ_Hz': 235.0, 'trapFrequencyX_Hz': 330.54320609469204, 'trapFrequencyY_Hz': 208.86074570238918}\n",
      "{'BECHoldTime': 1053.0555555555557, 'TOF': 5.0, 'latticeDepth_mW': 5.0, 'latticeDetuning_GHz': -11.25, 'compz': 7.3999999999999995, 'ODT3_Comp_final': 5.0, 'ODT12_pre_lattice': 0.5, 'ODT3_pre_lattice': 0.5, 'dummy': 2.361111111111111, 'nCount': 37801.77777777778, 'xWidth': 23.871025, 'yWidth': 23.78035555555556, 'xPos': 1084.6075, 'yPos': 1474.3466666666668, 'imageID': 183490.83333333334, 'isotope': 162.0, 'xWidth_TOF_h_um': 35.42503710045662, 'zWidth_TOF_h_um': 35.29048198883815, 'trapFrequencyZ_kHz': 13.130450537569763, 'deconfiningTrapFrequency_Hz': 17.303428772743096, 'bareTrapFrequencyX_Hz': 329.99999999999994, 'bareTrapFrequencyY_Hz': 208.00000000000003, 'bareTrapFrequencyZ_Hz': 235.0, 'trapFrequencyX_Hz': 332.7071617455663, 'trapFrequencyY_Hz': 212.26882832104792}\n",
      "{'BECHoldTime': 1181.875, 'TOF': 5.0, 'latticeDepth_mW': 15.0, 'latticeDetuning_GHz': -11.25, 'compz': 7.4, 'ODT3_Comp_final': 5.0, 'ODT12_pre_lattice': 0.5, 'ODT3_pre_lattice': 0.5, 'dummy': 2.5, 'nCount': 36201.975, 'xWidth': 25.894232499999998, 'yWidth': 25.181220000000003, 'xPos': 1084.743, 'yPos': 1474.509, 'imageID': 183473.625, 'isotope': 162.0, 'xWidth_TOF_h_um': 38.42751398401826, 'zWidth_TOF_h_um': 37.36939041095891, 'trapFrequencyZ_kHz': 22.74260745734091, 'deconfiningTrapFrequency_Hz': 22.772592942781625, 'bareTrapFrequencyX_Hz': 329.99999999999994, 'bareTrapFrequencyY_Hz': 208.00000000000006, 'bareTrapFrequencyZ_Hz': 235.0, 'trapFrequencyX_Hz': 338.0564545018649, 'trapFrequencyY_Hz': 220.55875958658152}\n",
      "{'BECHoldTime': 1184.21875, 'TOF': 5.0, 'latticeDepth_mW': 50.0, 'latticeDetuning_GHz': -11.25, 'compz': 7.4, 'ODT3_Comp_final': 5.0, 'ODT12_pre_lattice': 0.5, 'ODT3_pre_lattice': 0.5, 'dummy': 2.75, 'nCount': 34422.21875, 'xWidth': 27.79200625, 'yWidth': 26.155703125, 'xPos': 1084.7953125, 'yPos': 1473.8265625, 'imageID': 183479.03125, 'isotope': 162.0, 'xWidth_TOF_h_um': 41.24384489155251, 'zWidth_TOF_h_um': 38.81554116723744, 'trapFrequencyZ_kHz': 41.522130402902754, 'deconfiningTrapFrequency_Hz': 30.770331109644115, 'bareTrapFrequencyX_Hz': 329.99999999999994, 'bareTrapFrequencyY_Hz': 208.00000000000003, 'bareTrapFrequencyZ_Hz': 235.0, 'trapFrequencyX_Hz': 356.14681631021904, 'trapFrequencyY_Hz': 247.3955431447885}\n",
      "{'BECHoldTime': 1108.421052631579, 'TOF': 5.0, 'latticeDepth_mW': 100.0, 'latticeDetuning_GHz': -11.25, 'compz': 7.399999999999999, 'ODT3_Comp_final': 5.0, 'ODT12_pre_lattice': 0.5, 'ODT3_pre_lattice': 0.5, 'dummy': 2.6052631578947367, 'nCount': 33298.5, 'xWidth': 30.003639473684213, 'yWidth': 24.21959210526316, 'xPos': 1084.1742105263156, 'yPos': 1473.6260526315791, 'imageID': 183483.3947368421, 'isotope': 162.0, 'xWidth_TOF_h_um': 44.52594899062724, 'zWidth_TOF_h_um': 35.94231705118962, 'trapFrequencyZ_kHz': 58.7211599544093, 'deconfiningTrapFrequency_Hz': 36.59229668657834, 'bareTrapFrequencyX_Hz': 329.99999999999994, 'bareTrapFrequencyY_Hz': 208.00000000000003, 'bareTrapFrequencyZ_Hz': 235.0, 'trapFrequencyX_Hz': 380.50112948033376, 'trapFrequencyY_Hz': 281.32740630057685}\n",
      "{'BECHoldTime': 1073.25, 'TOF': 5.0, 'latticeDepth_mW': 160.0, 'latticeDetuning_GHz': -11.25, 'compz': 7.4, 'ODT3_Comp_final': 5.0, 'ODT12_pre_lattice': 0.5, 'ODT3_pre_lattice': 0.5, 'dummy': 2.4, 'nCount': 33604.975, 'xWidth': 32.277985, 'yWidth': 26.109790000000004, 'xPos': 1084.07225, 'yPos': 1473.795, 'imageID': 183409.95, 'isotope': 162.0, 'xWidth_TOF_h_um': 47.901119292237446, 'zWidth_TOF_h_um': 38.74740525114155, 'trapFrequencyZ_kHz': 74.27704492120102, 'deconfiningTrapFrequency_Hz': 41.15472122097778, 'bareTrapFrequencyX_Hz': 329.99999999999994, 'bareTrapFrequencyY_Hz': 208.00000000000006, 'bareTrapFrequencyZ_Hz': 235.0, 'trapFrequencyX_Hz': 407.8109552933757, 'trapFrequencyY_Hz': 317.29130977273184}\n",
      "{'BECHoldTime': 12.555555555555555, 'TOF': 5.0, 'latticeDepth_mW': 5.0, 'latticeDetuning_GHz': -5.25, 'compz': 7.400000000000001, 'ODT3_Comp_final': 5.0, 'ODT12_pre_lattice': 0.5, 'ODT3_pre_lattice': 0.5, 'dummy': 1.5, 'nCount': 35828.72222222222, 'xWidth': 20.472783333333336, 'yWidth': 17.478572222222223, 'xPos': 1083.472222222222, 'yPos': 1473.4427777777778, 'imageID': 183925.05555555556, 'isotope': 162.0, 'xWidth_TOF_h_um': 30.38198439878234, 'zWidth_TOF_h_um': 25.93852042110604, 'trapFrequencyZ_kHz': 17.895440878864576, 'deconfiningTrapFrequency_Hz': 20.20056686443371, 'bareTrapFrequencyX_Hz': 329.99999999999994, 'bareTrapFrequencyY_Hz': 208.00000000000003, 'bareTrapFrequencyZ_Hz': 235.0, 'trapFrequencyX_Hz': 335.01109373665196, 'trapFrequencyY_Hz': 215.86206921696055}\n",
      "{'BECHoldTime': 12.555555555555555, 'TOF': 5.0, 'latticeDepth_mW': 100.0, 'latticeDetuning_GHz': -5.25, 'compz': 7.400000000000001, 'ODT3_Comp_final': 5.0, 'ODT12_pre_lattice': 0.5, 'ODT3_pre_lattice': 0.5, 'dummy': 1.5, 'nCount': 28402.555555555555, 'xWidth': 45.59272777777778, 'yWidth': 31.519377777777784, 'xPos': 1082.591111111111, 'yPos': 1473.4327777777778, 'imageID': 183922.77777777778, 'isotope': 162.0, 'xWidth_TOF_h_um': 67.6604407661086, 'zWidth_TOF_h_um': 46.775332318619995, 'trapFrequencyZ_kHz': 80.03084458493953, 'deconfiningTrapFrequency_Hz': 42.71899781532373, 'bareTrapFrequencyX_Hz': 329.99999999999994, 'bareTrapFrequencyY_Hz': 208.00000000000003, 'bareTrapFrequencyZ_Hz': 235.0, 'trapFrequencyX_Hz': 418.9852724530508, 'trapFrequencyY_Hz': 331.5307806713536}\n",
      "{'BECHoldTime': 12.555555555555555, 'TOF': 5.0, 'latticeDepth_mW': 160.0, 'latticeDetuning_GHz': -5.25, 'compz': 7.400000000000001, 'ODT3_Comp_final': 5.0, 'ODT12_pre_lattice': 0.5, 'ODT3_pre_lattice': 0.5, 'dummy': 1.5, 'nCount': 24095.277777777777, 'xWidth': 39.432215, 'yWidth': 30.74716111111111, 'xPos': 1082.197222222222, 'yPos': 1474.1472222222221, 'imageID': 183919.38888888888, 'isotope': 162.0, 'xWidth_TOF_h_um': 58.518127283105024, 'zWidth_TOF_h_um': 45.62934868087265, 'trapFrequencyZ_kHz': 101.23190078214473, 'deconfiningTrapFrequency_Hz': 48.04531568454556, 'bareTrapFrequencyX_Hz': 329.99999999999994, 'bareTrapFrequencyY_Hz': 208.00000000000003, 'bareTrapFrequencyZ_Hz': 235.0, 'trapFrequencyX_Hz': 464.2605450090407, 'trapFrequencyY_Hz': 387.1716074973622}\n",
      "{'BECHoldTime': 126.25, 'TOF': 5.0, 'latticeDepth_mW': 1.0, 'latticeDetuning_GHz': -11.25, 'compz': 7.829999999999998, 'ODT3_Comp_final': 5.0, 'ODT12_pre_lattice': 0.5, 'ODT3_pre_lattice': 0.5, 'dummy': 2.5, 'nCount': 28938.25, 'xWidth': 23.59441388888889, 'yWidth': 23.75004722222222, 'xPos': 1084.3527777777779, 'yPos': 1474.3036111111112, 'imageID': 183486.97222222222, 'isotope': 162.0, 'xWidth_TOF_h_um': 35.01454115931, 'zWidth_TOF_h_um': 35.245503868594625, 'trapFrequencyZ_kHz': 5.87211599544093, 'deconfiningTrapFrequency_Hz': 11.571500234622013, 'bareTrapFrequencyX_Hz': 329.99999999999994, 'bareTrapFrequencyY_Hz': 208.00000000000003, 'bareTrapFrequencyZ_Hz': 235.0, 'trapFrequencyX_Hz': 330.54320609469204, 'trapFrequencyY_Hz': 208.86074570238918}\n",
      "{'BECHoldTime': 119.39393939393939, 'TOF': 5.0, 'latticeDepth_mW': 5.0, 'latticeDetuning_GHz': -11.25, 'compz': 7.829999999999999, 'ODT3_Comp_final': 5.0, 'ODT12_pre_lattice': 0.5, 'ODT3_pre_lattice': 0.5, 'dummy': 2.484848484848485, 'nCount': 29416.21212121212, 'xWidth': 24.490551515151516, 'yWidth': 24.21692121212121, 'xPos': 1084.800909090909, 'yPos': 1474.72, 'imageID': 183462.54545454544, 'isotope': 162.0, 'xWidth_TOF_h_um': 36.34442576449426, 'zWidth_TOF_h_um': 35.93835339698354, 'trapFrequencyZ_kHz': 13.130450537569764, 'deconfiningTrapFrequency_Hz': 17.303428772743093, 'bareTrapFrequencyX_Hz': 329.99999999999994, 'bareTrapFrequencyY_Hz': 208.00000000000003, 'bareTrapFrequencyZ_Hz': 235.0, 'trapFrequencyX_Hz': 332.70716174556634, 'trapFrequencyY_Hz': 212.2688283210479}\n",
      "{'BECHoldTime': 120.57142857142857, 'TOF': 5.0, 'latticeDepth_mW': 15.0, 'latticeDetuning_GHz': -11.25, 'compz': 7.829999999999998, 'ODT3_Comp_final': 5.0, 'ODT12_pre_lattice': 0.5, 'ODT3_pre_lattice': 0.5, 'dummy': 2.5142857142857142, 'nCount': 28629.8, 'xWidth': 25.3339, 'yWidth': 23.648625714285714, 'xPos': 1084.6997142857142, 'yPos': 1474.3391428571424, 'imageID': 183517.6857142857, 'isotope': 162.0, 'xWidth_TOF_h_um': 37.595970319634695, 'zWidth_TOF_h_um': 35.094992498369216, 'trapFrequencyZ_kHz': 22.74260745734091, 'deconfiningTrapFrequency_Hz': 22.77259294278163, 'bareTrapFrequencyX_Hz': 329.99999999999994, 'bareTrapFrequencyY_Hz': 208.00000000000003, 'bareTrapFrequencyZ_Hz': 235.0, 'trapFrequencyX_Hz': 338.05645450186483, 'trapFrequencyY_Hz': 220.55875958658157}\n"
     ]
    },
    {
     "name": "stdout",
     "output_type": "stream",
     "text": [
      "{'BECHoldTime': 132.12121212121212, 'TOF': 5.0, 'latticeDepth_mW': 50.0, 'latticeDetuning_GHz': -11.25, 'compz': 7.829999999999999, 'ODT3_Comp_final': 5.0, 'ODT12_pre_lattice': 0.5, 'ODT3_pre_lattice': 0.5, 'dummy': 2.515151515151515, 'nCount': 25441.333333333332, 'xWidth': 28.03730909090909, 'yWidth': 25.41055757575758, 'xPos': 1084.610909090909, 'yPos': 1473.9336363636364, 'imageID': 183446.30303030304, 'isotope': 162.0, 'xWidth_TOF_h_um': 41.60787878787879, 'zWidth_TOF_h_um': 37.70973156219732, 'trapFrequencyZ_kHz': 41.522130402902754, 'deconfiningTrapFrequency_Hz': 30.770331109644115, 'bareTrapFrequencyX_Hz': 329.99999999999994, 'bareTrapFrequencyY_Hz': 208.00000000000003, 'bareTrapFrequencyZ_Hz': 235.0, 'trapFrequencyX_Hz': 356.14681631021904, 'trapFrequencyY_Hz': 247.3955431447885}\n",
      "{'BECHoldTime': 124.85714285714286, 'TOF': 5.0, 'latticeDepth_mW': 100.0, 'latticeDetuning_GHz': -11.25, 'compz': 7.829999999999998, 'ODT3_Comp_final': 5.0, 'ODT12_pre_lattice': 0.5, 'ODT3_pre_lattice': 0.5, 'dummy': 2.4571428571428573, 'nCount': 23102.22857142857, 'xWidth': 30.41327142857143, 'yWidth': 24.365514285714287, 'xPos': 1083.3917142857142, 'yPos': 1472.8997142857143, 'imageID': 183481.0285714286, 'isotope': 162.0, 'xWidth_TOF_h_um': 45.13385029354207, 'zWidth_TOF_h_um': 36.15886823222441, 'trapFrequencyZ_kHz': 58.721159954409295, 'deconfiningTrapFrequency_Hz': 36.592296686578344, 'bareTrapFrequencyX_Hz': 329.99999999999994, 'bareTrapFrequencyY_Hz': 208.00000000000003, 'bareTrapFrequencyZ_Hz': 235.0, 'trapFrequencyX_Hz': 380.50112948033376, 'trapFrequencyY_Hz': 281.3274063005768}\n",
      "{'BECHoldTime': 114.28571428571429, 'TOF': 5.0, 'latticeDepth_mW': 160.0, 'latticeDetuning_GHz': -11.25, 'compz': 7.829999999999998, 'ODT3_Comp_final': 5.0, 'ODT12_pre_lattice': 0.5, 'ODT3_pre_lattice': 0.5, 'dummy': 2.4857142857142858, 'nCount': 21823.342857142856, 'xWidth': 33.36579428571429, 'yWidth': 26.214473771428572, 'xPos': 1083.2557142857142, 'yPos': 1473.0102857142858, 'imageID': 183452.2, 'isotope': 162.0, 'xWidth_TOF_h_um': 49.5154481409002, 'zWidth_TOF_h_um': 38.90275787997391, 'trapFrequencyZ_kHz': 74.27704492120104, 'deconfiningTrapFrequency_Hz': 41.15472122097778, 'bareTrapFrequencyX_Hz': 329.99999999999994, 'bareTrapFrequencyY_Hz': 208.00000000000003, 'bareTrapFrequencyZ_Hz': 235.0, 'trapFrequencyX_Hz': 407.81095529337574, 'trapFrequencyY_Hz': 317.2913097727319}\n",
      "{'BECHoldTime': 8.0, 'TOF': 5.0, 'latticeDepth_mW': 5.0, 'latticeDetuning_GHz': -5.25, 'compz': 7.829999999999999, 'ODT3_Comp_final': 5.0, 'ODT12_pre_lattice': 0.5, 'ODT3_pre_lattice': 0.5, 'dummy': 1.5, 'nCount': 28643.14285714286, 'xWidth': 21.95938571428571, 'yWidth': 18.55653571428571, 'xPos': 1082.8149999999998, 'yPos': 1472.7707142857143, 'imageID': 183904.57142857142, 'isotope': 162.0, 'xWidth_TOF_h_um': 32.58812948467058, 'zWidth_TOF_h_um': 27.53823793215917, 'trapFrequencyZ_kHz': 17.895440878864576, 'deconfiningTrapFrequency_Hz': 20.20056686443371, 'bareTrapFrequencyX_Hz': 329.99999999999994, 'bareTrapFrequencyY_Hz': 208.00000000000003, 'bareTrapFrequencyZ_Hz': 235.0, 'trapFrequencyX_Hz': 335.011093736652, 'trapFrequencyY_Hz': 215.8620692169606}\n",
      "{'BECHoldTime': 8.0, 'TOF': 5.0, 'latticeDepth_mW': 100.0, 'latticeDetuning_GHz': -5.25, 'compz': 7.829999999999999, 'ODT3_Comp_final': 5.0, 'ODT12_pre_lattice': 0.5, 'ODT3_pre_lattice': 0.5, 'dummy': 1.5, 'nCount': 7552.142857142857, 'xWidth': 43.41889285714285, 'yWidth': 40.3456955, 'xPos': 1109.9792857142854, 'yPos': 1444.5292857142854, 'imageID': 183912.64285714287, 'isotope': 162.0, 'xWidth_TOF_h_um': 64.43443003913895, 'zWidth_TOF_h_um': 59.87374902968037, 'trapFrequencyZ_kHz': 80.03084458493956, 'deconfiningTrapFrequency_Hz': 42.71899781532374, 'bareTrapFrequencyX_Hz': 329.99999999999994, 'bareTrapFrequencyY_Hz': 208.00000000000003, 'bareTrapFrequencyZ_Hz': 235.0, 'trapFrequencyX_Hz': 418.98527245305087, 'trapFrequencyY_Hz': 331.5307806713536}\n",
      "{'BECHoldTime': 8.0, 'TOF': 5.0, 'latticeDepth_mW': 160.0, 'latticeDetuning_GHz': -5.25, 'compz': 7.829999999999999, 'ODT3_Comp_final': 5.0, 'ODT12_pre_lattice': 0.5, 'ODT3_pre_lattice': 0.5, 'dummy': 1.5, 'nCount': 5169.142857142857, 'xWidth': 76.28868142857144, 'yWidth': 54.65125714285715, 'xPos': 1156.8250000000003, 'yPos': 1489.2471428571428, 'imageID': 183900.2857142857, 'isotope': 162.0, 'xWidth_TOF_h_um': 113.21379664057405, 'zWidth_TOF_h_um': 81.10346379647751, 'trapFrequencyZ_kHz': 101.23190078214473, 'deconfiningTrapFrequency_Hz': 48.04531568454555, 'bareTrapFrequencyX_Hz': 329.99999999999994, 'bareTrapFrequencyY_Hz': 208.00000000000003, 'bareTrapFrequencyZ_Hz': 235.0, 'trapFrequencyX_Hz': 464.2605450090406, 'trapFrequencyY_Hz': 387.17160749736206}\n"
     ]
    },
    {
     "data": {
      "text/plain": [
       "'def N_polarized(t, N0, alpha, gamma):\\n    return np.sqrt(alpha / (np.exp(2*alpha*t)*(alpha/(N0**2)+gamma)-gamma))\\n\\ndef N_linear(t, N0, b):\\n    return N0-b*t\\n\\ndef N_polarized_pure3b(t, N0, gamma):\\n    return N0 / np.sqrt(1+N0**2*gamma*t)'"
      ]
     },
     "execution_count": 17,
     "metadata": {},
     "output_type": "execute_result"
    }
   ],
   "source": [
    "resultsDF_pure = fitDF(df, ['latticeDetuning_GHz', 'latticeDepth_mW', 'compz'], fitType = 'pure')\n",
    "resultsDF_pure.drop(columns = ['BECHoldTime', 'xWidth', 'yWidth', 'imageID', 'dummy'], inplace = True)\n",
    "resultsDF_pure['compz'] = resultsDF_pure['compz'].round(3)\n",
    "\n",
    "resultsDF_pure_premix = fitDF(df, ['latticeDetuning_GHz', 'latticeDepth_mW', 'compz'], fitType = 'pure_premix')\n",
    "resultsDF_pure_premix.drop(columns = ['BECHoldTime', 'xWidth', 'yWidth', 'imageID', 'dummy'], inplace = True)\n",
    "resultsDF_pure_premix['compz'] = resultsDF_pure['compz'].round(3)\n",
    "\n",
    "resultsDF_mix = fitDF(df, ['latticeDetuning_GHz', 'latticeDepth_mW', 'compz'], fitType = 'mix')\n",
    "resultsDF_mix.drop(columns = ['BECHoldTime', 'xWidth', 'yWidth', 'imageID', 'dummy'], inplace = True)\n",
    "resultsDF_mix['compz'] = resultsDF_mix['compz'].round(3)\n",
    "\n",
    "resultsDF_lin = fitDF(df, ['latticeDetuning_GHz', 'latticeDepth_mW', 'compz'], fitType = 'lin', tmax_ms = 201)\n",
    "resultsDF_lin.drop(columns = ['BECHoldTime', 'xWidth', 'yWidth', 'imageID', 'dummy'], inplace = True)\n",
    "resultsDF_lin['compz'] = resultsDF_lin['compz'].round(3)\n",
    "\n",
    "\n",
    "\n",
    "\n",
    "\n",
    "\n",
    "\"\"\"def N_polarized(t, N0, alpha, gamma):\n",
    "    return np.sqrt(alpha / (np.exp(2*alpha*t)*(alpha/(N0**2)+gamma)-gamma))\n",
    "\n",
    "def N_linear(t, N0, b):\n",
    "    return N0-b*t\n",
    "\n",
    "def N_polarized_pure3b(t, N0, gamma):\n",
    "    return N0 / np.sqrt(1+N0**2*gamma*t)\"\"\"\n",
    "\n",
    "\n",
    "#print('\\n')\n",
    "#print(resultsDF)\n",
    "#perr = np.sqrt(np.diag(pcov))"
   ]
  },
  {
   "cell_type": "code",
   "execution_count": 18,
   "metadata": {},
   "outputs": [
    {
     "data": {
      "text/html": [
       "<div>\n",
       "<style scoped>\n",
       "    .dataframe tbody tr th:only-of-type {\n",
       "        vertical-align: middle;\n",
       "    }\n",
       "\n",
       "    .dataframe tbody tr th {\n",
       "        vertical-align: top;\n",
       "    }\n",
       "\n",
       "    .dataframe thead th {\n",
       "        text-align: right;\n",
       "    }\n",
       "</style>\n",
       "<table border=\"1\" class=\"dataframe\">\n",
       "  <thead>\n",
       "    <tr style=\"text-align: right;\">\n",
       "      <th></th>\n",
       "      <th>N0</th>\n",
       "      <th>alpha</th>\n",
       "      <th>gamma</th>\n",
       "      <th>b</th>\n",
       "      <th>TOF</th>\n",
       "      <th>latticeDepth_mW</th>\n",
       "      <th>latticeDetuning_GHz</th>\n",
       "      <th>compz</th>\n",
       "      <th>ODT3_Comp_final</th>\n",
       "      <th>ODT12_pre_lattice</th>\n",
       "      <th>...</th>\n",
       "      <th>isotope</th>\n",
       "      <th>xWidth_TOF_h_um</th>\n",
       "      <th>zWidth_TOF_h_um</th>\n",
       "      <th>trapFrequencyZ_kHz</th>\n",
       "      <th>deconfiningTrapFrequency_Hz</th>\n",
       "      <th>bareTrapFrequencyX_Hz</th>\n",
       "      <th>bareTrapFrequencyY_Hz</th>\n",
       "      <th>bareTrapFrequencyZ_Hz</th>\n",
       "      <th>trapFrequencyX_Hz</th>\n",
       "      <th>trapFrequencyY_Hz</th>\n",
       "    </tr>\n",
       "  </thead>\n",
       "  <tbody>\n",
       "    <tr>\n",
       "      <th>0</th>\n",
       "      <td>40362.730109</td>\n",
       "      <td>0.000031</td>\n",
       "      <td>1.753617e-14</td>\n",
       "      <td>NaN</td>\n",
       "      <td>5.0</td>\n",
       "      <td>1.0</td>\n",
       "      <td>-11.25</td>\n",
       "      <td>7.40</td>\n",
       "      <td>5.0</td>\n",
       "      <td>0.5</td>\n",
       "      <td>...</td>\n",
       "      <td>162.0</td>\n",
       "      <td>32.188472</td>\n",
       "      <td>32.639498</td>\n",
       "      <td>5.872116</td>\n",
       "      <td>11.571500</td>\n",
       "      <td>330.0</td>\n",
       "      <td>208.0</td>\n",
       "      <td>235.0</td>\n",
       "      <td>330.543206</td>\n",
       "      <td>208.860746</td>\n",
       "    </tr>\n",
       "    <tr>\n",
       "      <th>1</th>\n",
       "      <td>40428.325810</td>\n",
       "      <td>0.000031</td>\n",
       "      <td>2.794816e-14</td>\n",
       "      <td>NaN</td>\n",
       "      <td>5.0</td>\n",
       "      <td>5.0</td>\n",
       "      <td>-11.25</td>\n",
       "      <td>7.40</td>\n",
       "      <td>5.0</td>\n",
       "      <td>0.5</td>\n",
       "      <td>...</td>\n",
       "      <td>162.0</td>\n",
       "      <td>35.425037</td>\n",
       "      <td>35.290482</td>\n",
       "      <td>13.130451</td>\n",
       "      <td>17.303429</td>\n",
       "      <td>330.0</td>\n",
       "      <td>208.0</td>\n",
       "      <td>235.0</td>\n",
       "      <td>332.707162</td>\n",
       "      <td>212.268828</td>\n",
       "    </tr>\n",
       "    <tr>\n",
       "      <th>2</th>\n",
       "      <td>41538.160635</td>\n",
       "      <td>0.000031</td>\n",
       "      <td>8.541070e-14</td>\n",
       "      <td>NaN</td>\n",
       "      <td>5.0</td>\n",
       "      <td>15.0</td>\n",
       "      <td>-11.25</td>\n",
       "      <td>7.40</td>\n",
       "      <td>5.0</td>\n",
       "      <td>0.5</td>\n",
       "      <td>...</td>\n",
       "      <td>162.0</td>\n",
       "      <td>38.427514</td>\n",
       "      <td>37.369390</td>\n",
       "      <td>22.742607</td>\n",
       "      <td>22.772593</td>\n",
       "      <td>330.0</td>\n",
       "      <td>208.0</td>\n",
       "      <td>235.0</td>\n",
       "      <td>338.056455</td>\n",
       "      <td>220.558760</td>\n",
       "    </tr>\n",
       "    <tr>\n",
       "      <th>3</th>\n",
       "      <td>39331.181490</td>\n",
       "      <td>0.000031</td>\n",
       "      <td>8.739674e-14</td>\n",
       "      <td>NaN</td>\n",
       "      <td>5.0</td>\n",
       "      <td>50.0</td>\n",
       "      <td>-11.25</td>\n",
       "      <td>7.40</td>\n",
       "      <td>5.0</td>\n",
       "      <td>0.5</td>\n",
       "      <td>...</td>\n",
       "      <td>162.0</td>\n",
       "      <td>41.243845</td>\n",
       "      <td>38.815541</td>\n",
       "      <td>41.522130</td>\n",
       "      <td>30.770331</td>\n",
       "      <td>330.0</td>\n",
       "      <td>208.0</td>\n",
       "      <td>235.0</td>\n",
       "      <td>356.146816</td>\n",
       "      <td>247.395543</td>\n",
       "    </tr>\n",
       "    <tr>\n",
       "      <th>4</th>\n",
       "      <td>38499.977359</td>\n",
       "      <td>0.000031</td>\n",
       "      <td>1.295932e-13</td>\n",
       "      <td>NaN</td>\n",
       "      <td>5.0</td>\n",
       "      <td>100.0</td>\n",
       "      <td>-11.25</td>\n",
       "      <td>7.40</td>\n",
       "      <td>5.0</td>\n",
       "      <td>0.5</td>\n",
       "      <td>...</td>\n",
       "      <td>162.0</td>\n",
       "      <td>44.525949</td>\n",
       "      <td>35.942317</td>\n",
       "      <td>58.721160</td>\n",
       "      <td>36.592297</td>\n",
       "      <td>330.0</td>\n",
       "      <td>208.0</td>\n",
       "      <td>235.0</td>\n",
       "      <td>380.501129</td>\n",
       "      <td>281.327406</td>\n",
       "    </tr>\n",
       "    <tr>\n",
       "      <th>5</th>\n",
       "      <td>39342.918046</td>\n",
       "      <td>0.000031</td>\n",
       "      <td>1.552463e-13</td>\n",
       "      <td>NaN</td>\n",
       "      <td>5.0</td>\n",
       "      <td>160.0</td>\n",
       "      <td>-11.25</td>\n",
       "      <td>7.40</td>\n",
       "      <td>5.0</td>\n",
       "      <td>0.5</td>\n",
       "      <td>...</td>\n",
       "      <td>162.0</td>\n",
       "      <td>47.901119</td>\n",
       "      <td>38.747405</td>\n",
       "      <td>74.277045</td>\n",
       "      <td>41.154721</td>\n",
       "      <td>330.0</td>\n",
       "      <td>208.0</td>\n",
       "      <td>235.0</td>\n",
       "      <td>407.810955</td>\n",
       "      <td>317.291310</td>\n",
       "    </tr>\n",
       "    <tr>\n",
       "      <th>6</th>\n",
       "      <td>36119.939451</td>\n",
       "      <td>0.000031</td>\n",
       "      <td>4.819612e-13</td>\n",
       "      <td>NaN</td>\n",
       "      <td>5.0</td>\n",
       "      <td>5.0</td>\n",
       "      <td>-5.25</td>\n",
       "      <td>7.40</td>\n",
       "      <td>5.0</td>\n",
       "      <td>0.5</td>\n",
       "      <td>...</td>\n",
       "      <td>162.0</td>\n",
       "      <td>30.381984</td>\n",
       "      <td>25.938520</td>\n",
       "      <td>17.895441</td>\n",
       "      <td>20.200567</td>\n",
       "      <td>330.0</td>\n",
       "      <td>208.0</td>\n",
       "      <td>235.0</td>\n",
       "      <td>335.011094</td>\n",
       "      <td>215.862069</td>\n",
       "    </tr>\n",
       "    <tr>\n",
       "      <th>7</th>\n",
       "      <td>35876.796021</td>\n",
       "      <td>0.000031</td>\n",
       "      <td>2.555248e-11</td>\n",
       "      <td>NaN</td>\n",
       "      <td>5.0</td>\n",
       "      <td>100.0</td>\n",
       "      <td>-5.25</td>\n",
       "      <td>7.40</td>\n",
       "      <td>5.0</td>\n",
       "      <td>0.5</td>\n",
       "      <td>...</td>\n",
       "      <td>162.0</td>\n",
       "      <td>67.660441</td>\n",
       "      <td>46.775332</td>\n",
       "      <td>80.030845</td>\n",
       "      <td>42.718998</td>\n",
       "      <td>330.0</td>\n",
       "      <td>208.0</td>\n",
       "      <td>235.0</td>\n",
       "      <td>418.985272</td>\n",
       "      <td>331.530781</td>\n",
       "    </tr>\n",
       "    <tr>\n",
       "      <th>8</th>\n",
       "      <td>30239.787016</td>\n",
       "      <td>0.000031</td>\n",
       "      <td>3.456024e-11</td>\n",
       "      <td>NaN</td>\n",
       "      <td>5.0</td>\n",
       "      <td>160.0</td>\n",
       "      <td>-5.25</td>\n",
       "      <td>7.40</td>\n",
       "      <td>5.0</td>\n",
       "      <td>0.5</td>\n",
       "      <td>...</td>\n",
       "      <td>162.0</td>\n",
       "      <td>58.518127</td>\n",
       "      <td>45.629349</td>\n",
       "      <td>101.231901</td>\n",
       "      <td>48.045316</td>\n",
       "      <td>330.0</td>\n",
       "      <td>208.0</td>\n",
       "      <td>235.0</td>\n",
       "      <td>464.260545</td>\n",
       "      <td>387.171607</td>\n",
       "    </tr>\n",
       "    <tr>\n",
       "      <th>9</th>\n",
       "      <td>36045.467658</td>\n",
       "      <td>0.000031</td>\n",
       "      <td>2.848956e-12</td>\n",
       "      <td>NaN</td>\n",
       "      <td>5.0</td>\n",
       "      <td>1.0</td>\n",
       "      <td>-11.25</td>\n",
       "      <td>7.83</td>\n",
       "      <td>5.0</td>\n",
       "      <td>0.5</td>\n",
       "      <td>...</td>\n",
       "      <td>162.0</td>\n",
       "      <td>35.014541</td>\n",
       "      <td>35.245504</td>\n",
       "      <td>5.872116</td>\n",
       "      <td>11.571500</td>\n",
       "      <td>330.0</td>\n",
       "      <td>208.0</td>\n",
       "      <td>235.0</td>\n",
       "      <td>330.543206</td>\n",
       "      <td>208.860746</td>\n",
       "    </tr>\n",
       "    <tr>\n",
       "      <th>10</th>\n",
       "      <td>38328.969820</td>\n",
       "      <td>0.000031</td>\n",
       "      <td>3.770707e-12</td>\n",
       "      <td>NaN</td>\n",
       "      <td>5.0</td>\n",
       "      <td>5.0</td>\n",
       "      <td>-11.25</td>\n",
       "      <td>7.83</td>\n",
       "      <td>5.0</td>\n",
       "      <td>0.5</td>\n",
       "      <td>...</td>\n",
       "      <td>162.0</td>\n",
       "      <td>36.344426</td>\n",
       "      <td>35.938353</td>\n",
       "      <td>13.130451</td>\n",
       "      <td>17.303429</td>\n",
       "      <td>330.0</td>\n",
       "      <td>208.0</td>\n",
       "      <td>235.0</td>\n",
       "      <td>332.707162</td>\n",
       "      <td>212.268828</td>\n",
       "    </tr>\n",
       "    <tr>\n",
       "      <th>11</th>\n",
       "      <td>35691.244481</td>\n",
       "      <td>0.000031</td>\n",
       "      <td>3.246044e-12</td>\n",
       "      <td>NaN</td>\n",
       "      <td>5.0</td>\n",
       "      <td>15.0</td>\n",
       "      <td>-11.25</td>\n",
       "      <td>7.83</td>\n",
       "      <td>5.0</td>\n",
       "      <td>0.5</td>\n",
       "      <td>...</td>\n",
       "      <td>162.0</td>\n",
       "      <td>37.595970</td>\n",
       "      <td>35.094992</td>\n",
       "      <td>22.742607</td>\n",
       "      <td>22.772593</td>\n",
       "      <td>330.0</td>\n",
       "      <td>208.0</td>\n",
       "      <td>235.0</td>\n",
       "      <td>338.056455</td>\n",
       "      <td>220.558760</td>\n",
       "    </tr>\n",
       "    <tr>\n",
       "      <th>12</th>\n",
       "      <td>35187.306359</td>\n",
       "      <td>0.000031</td>\n",
       "      <td>5.709864e-12</td>\n",
       "      <td>NaN</td>\n",
       "      <td>5.0</td>\n",
       "      <td>50.0</td>\n",
       "      <td>-11.25</td>\n",
       "      <td>7.83</td>\n",
       "      <td>5.0</td>\n",
       "      <td>0.5</td>\n",
       "      <td>...</td>\n",
       "      <td>162.0</td>\n",
       "      <td>41.607879</td>\n",
       "      <td>37.709732</td>\n",
       "      <td>41.522130</td>\n",
       "      <td>30.770331</td>\n",
       "      <td>330.0</td>\n",
       "      <td>208.0</td>\n",
       "      <td>235.0</td>\n",
       "      <td>356.146816</td>\n",
       "      <td>247.395543</td>\n",
       "    </tr>\n",
       "    <tr>\n",
       "      <th>13</th>\n",
       "      <td>33026.609371</td>\n",
       "      <td>0.000031</td>\n",
       "      <td>8.709403e-12</td>\n",
       "      <td>NaN</td>\n",
       "      <td>5.0</td>\n",
       "      <td>100.0</td>\n",
       "      <td>-11.25</td>\n",
       "      <td>7.83</td>\n",
       "      <td>5.0</td>\n",
       "      <td>0.5</td>\n",
       "      <td>...</td>\n",
       "      <td>162.0</td>\n",
       "      <td>45.133850</td>\n",
       "      <td>36.158868</td>\n",
       "      <td>58.721160</td>\n",
       "      <td>36.592297</td>\n",
       "      <td>330.0</td>\n",
       "      <td>208.0</td>\n",
       "      <td>235.0</td>\n",
       "      <td>380.501129</td>\n",
       "      <td>281.327406</td>\n",
       "    </tr>\n",
       "    <tr>\n",
       "      <th>14</th>\n",
       "      <td>36561.325608</td>\n",
       "      <td>0.000031</td>\n",
       "      <td>1.614055e-11</td>\n",
       "      <td>NaN</td>\n",
       "      <td>5.0</td>\n",
       "      <td>160.0</td>\n",
       "      <td>-11.25</td>\n",
       "      <td>7.83</td>\n",
       "      <td>5.0</td>\n",
       "      <td>0.5</td>\n",
       "      <td>...</td>\n",
       "      <td>162.0</td>\n",
       "      <td>49.515448</td>\n",
       "      <td>38.902758</td>\n",
       "      <td>74.277045</td>\n",
       "      <td>41.154721</td>\n",
       "      <td>330.0</td>\n",
       "      <td>208.0</td>\n",
       "      <td>235.0</td>\n",
       "      <td>407.810955</td>\n",
       "      <td>317.291310</td>\n",
       "    </tr>\n",
       "    <tr>\n",
       "      <th>15</th>\n",
       "      <td>32030.651710</td>\n",
       "      <td>0.000031</td>\n",
       "      <td>1.709930e-11</td>\n",
       "      <td>NaN</td>\n",
       "      <td>5.0</td>\n",
       "      <td>5.0</td>\n",
       "      <td>-5.25</td>\n",
       "      <td>7.83</td>\n",
       "      <td>5.0</td>\n",
       "      <td>0.5</td>\n",
       "      <td>...</td>\n",
       "      <td>162.0</td>\n",
       "      <td>32.588129</td>\n",
       "      <td>27.538238</td>\n",
       "      <td>17.895441</td>\n",
       "      <td>20.200567</td>\n",
       "      <td>330.0</td>\n",
       "      <td>208.0</td>\n",
       "      <td>235.0</td>\n",
       "      <td>335.011094</td>\n",
       "      <td>215.862069</td>\n",
       "    </tr>\n",
       "    <tr>\n",
       "      <th>16</th>\n",
       "      <td>46824.271670</td>\n",
       "      <td>0.000031</td>\n",
       "      <td>2.417957e-09</td>\n",
       "      <td>NaN</td>\n",
       "      <td>5.0</td>\n",
       "      <td>100.0</td>\n",
       "      <td>-5.25</td>\n",
       "      <td>7.83</td>\n",
       "      <td>5.0</td>\n",
       "      <td>0.5</td>\n",
       "      <td>...</td>\n",
       "      <td>162.0</td>\n",
       "      <td>64.434430</td>\n",
       "      <td>59.873749</td>\n",
       "      <td>80.030845</td>\n",
       "      <td>42.718998</td>\n",
       "      <td>330.0</td>\n",
       "      <td>208.0</td>\n",
       "      <td>235.0</td>\n",
       "      <td>418.985272</td>\n",
       "      <td>331.530781</td>\n",
       "    </tr>\n",
       "    <tr>\n",
       "      <th>17</th>\n",
       "      <td>5638.918094</td>\n",
       "      <td>0.000031</td>\n",
       "      <td>4.087216e-10</td>\n",
       "      <td>NaN</td>\n",
       "      <td>5.0</td>\n",
       "      <td>160.0</td>\n",
       "      <td>-5.25</td>\n",
       "      <td>7.83</td>\n",
       "      <td>5.0</td>\n",
       "      <td>0.5</td>\n",
       "      <td>...</td>\n",
       "      <td>162.0</td>\n",
       "      <td>113.213797</td>\n",
       "      <td>81.103464</td>\n",
       "      <td>101.231901</td>\n",
       "      <td>48.045316</td>\n",
       "      <td>330.0</td>\n",
       "      <td>208.0</td>\n",
       "      <td>235.0</td>\n",
       "      <td>464.260545</td>\n",
       "      <td>387.171607</td>\n",
       "    </tr>\n",
       "  </tbody>\n",
       "</table>\n",
       "<p>18 rows × 24 columns</p>\n",
       "</div>"
      ],
      "text/plain": [
       "              N0     alpha         gamma   b  TOF  latticeDepth_mW  \\\n",
       "0   40362.730109  0.000031  1.753617e-14 NaN  5.0              1.0   \n",
       "1   40428.325810  0.000031  2.794816e-14 NaN  5.0              5.0   \n",
       "2   41538.160635  0.000031  8.541070e-14 NaN  5.0             15.0   \n",
       "3   39331.181490  0.000031  8.739674e-14 NaN  5.0             50.0   \n",
       "4   38499.977359  0.000031  1.295932e-13 NaN  5.0            100.0   \n",
       "5   39342.918046  0.000031  1.552463e-13 NaN  5.0            160.0   \n",
       "6   36119.939451  0.000031  4.819612e-13 NaN  5.0              5.0   \n",
       "7   35876.796021  0.000031  2.555248e-11 NaN  5.0            100.0   \n",
       "8   30239.787016  0.000031  3.456024e-11 NaN  5.0            160.0   \n",
       "9   36045.467658  0.000031  2.848956e-12 NaN  5.0              1.0   \n",
       "10  38328.969820  0.000031  3.770707e-12 NaN  5.0              5.0   \n",
       "11  35691.244481  0.000031  3.246044e-12 NaN  5.0             15.0   \n",
       "12  35187.306359  0.000031  5.709864e-12 NaN  5.0             50.0   \n",
       "13  33026.609371  0.000031  8.709403e-12 NaN  5.0            100.0   \n",
       "14  36561.325608  0.000031  1.614055e-11 NaN  5.0            160.0   \n",
       "15  32030.651710  0.000031  1.709930e-11 NaN  5.0              5.0   \n",
       "16  46824.271670  0.000031  2.417957e-09 NaN  5.0            100.0   \n",
       "17   5638.918094  0.000031  4.087216e-10 NaN  5.0            160.0   \n",
       "\n",
       "    latticeDetuning_GHz  compz  ODT3_Comp_final  ODT12_pre_lattice  ...  \\\n",
       "0                -11.25   7.40              5.0                0.5  ...   \n",
       "1                -11.25   7.40              5.0                0.5  ...   \n",
       "2                -11.25   7.40              5.0                0.5  ...   \n",
       "3                -11.25   7.40              5.0                0.5  ...   \n",
       "4                -11.25   7.40              5.0                0.5  ...   \n",
       "5                -11.25   7.40              5.0                0.5  ...   \n",
       "6                 -5.25   7.40              5.0                0.5  ...   \n",
       "7                 -5.25   7.40              5.0                0.5  ...   \n",
       "8                 -5.25   7.40              5.0                0.5  ...   \n",
       "9                -11.25   7.83              5.0                0.5  ...   \n",
       "10               -11.25   7.83              5.0                0.5  ...   \n",
       "11               -11.25   7.83              5.0                0.5  ...   \n",
       "12               -11.25   7.83              5.0                0.5  ...   \n",
       "13               -11.25   7.83              5.0                0.5  ...   \n",
       "14               -11.25   7.83              5.0                0.5  ...   \n",
       "15                -5.25   7.83              5.0                0.5  ...   \n",
       "16                -5.25   7.83              5.0                0.5  ...   \n",
       "17                -5.25   7.83              5.0                0.5  ...   \n",
       "\n",
       "    isotope  xWidth_TOF_h_um  zWidth_TOF_h_um  trapFrequencyZ_kHz  \\\n",
       "0     162.0        32.188472        32.639498            5.872116   \n",
       "1     162.0        35.425037        35.290482           13.130451   \n",
       "2     162.0        38.427514        37.369390           22.742607   \n",
       "3     162.0        41.243845        38.815541           41.522130   \n",
       "4     162.0        44.525949        35.942317           58.721160   \n",
       "5     162.0        47.901119        38.747405           74.277045   \n",
       "6     162.0        30.381984        25.938520           17.895441   \n",
       "7     162.0        67.660441        46.775332           80.030845   \n",
       "8     162.0        58.518127        45.629349          101.231901   \n",
       "9     162.0        35.014541        35.245504            5.872116   \n",
       "10    162.0        36.344426        35.938353           13.130451   \n",
       "11    162.0        37.595970        35.094992           22.742607   \n",
       "12    162.0        41.607879        37.709732           41.522130   \n",
       "13    162.0        45.133850        36.158868           58.721160   \n",
       "14    162.0        49.515448        38.902758           74.277045   \n",
       "15    162.0        32.588129        27.538238           17.895441   \n",
       "16    162.0        64.434430        59.873749           80.030845   \n",
       "17    162.0       113.213797        81.103464          101.231901   \n",
       "\n",
       "    deconfiningTrapFrequency_Hz  bareTrapFrequencyX_Hz  bareTrapFrequencyY_Hz  \\\n",
       "0                     11.571500                  330.0                  208.0   \n",
       "1                     17.303429                  330.0                  208.0   \n",
       "2                     22.772593                  330.0                  208.0   \n",
       "3                     30.770331                  330.0                  208.0   \n",
       "4                     36.592297                  330.0                  208.0   \n",
       "5                     41.154721                  330.0                  208.0   \n",
       "6                     20.200567                  330.0                  208.0   \n",
       "7                     42.718998                  330.0                  208.0   \n",
       "8                     48.045316                  330.0                  208.0   \n",
       "9                     11.571500                  330.0                  208.0   \n",
       "10                    17.303429                  330.0                  208.0   \n",
       "11                    22.772593                  330.0                  208.0   \n",
       "12                    30.770331                  330.0                  208.0   \n",
       "13                    36.592297                  330.0                  208.0   \n",
       "14                    41.154721                  330.0                  208.0   \n",
       "15                    20.200567                  330.0                  208.0   \n",
       "16                    42.718998                  330.0                  208.0   \n",
       "17                    48.045316                  330.0                  208.0   \n",
       "\n",
       "    bareTrapFrequencyZ_Hz  trapFrequencyX_Hz  trapFrequencyY_Hz  \n",
       "0                   235.0         330.543206         208.860746  \n",
       "1                   235.0         332.707162         212.268828  \n",
       "2                   235.0         338.056455         220.558760  \n",
       "3                   235.0         356.146816         247.395543  \n",
       "4                   235.0         380.501129         281.327406  \n",
       "5                   235.0         407.810955         317.291310  \n",
       "6                   235.0         335.011094         215.862069  \n",
       "7                   235.0         418.985272         331.530781  \n",
       "8                   235.0         464.260545         387.171607  \n",
       "9                   235.0         330.543206         208.860746  \n",
       "10                  235.0         332.707162         212.268828  \n",
       "11                  235.0         338.056455         220.558760  \n",
       "12                  235.0         356.146816         247.395543  \n",
       "13                  235.0         380.501129         281.327406  \n",
       "14                  235.0         407.810955         317.291310  \n",
       "15                  235.0         335.011094         215.862069  \n",
       "16                  235.0         418.985272         331.530781  \n",
       "17                  235.0         464.260545         387.171607  \n",
       "\n",
       "[18 rows x 24 columns]"
      ]
     },
     "execution_count": 18,
     "metadata": {},
     "output_type": "execute_result"
    }
   ],
   "source": [
    "resultsDF_pure_premix"
   ]
  },
  {
   "cell_type": "code",
   "execution_count": 19,
   "metadata": {},
   "outputs": [],
   "source": [
    "latticeDepth = 1\n",
    "latticeDetuning = -11.25\n",
    "compz = compz_not_lossy\n",
    "df_tempZ = getSubDF(df, ['latticeDepth_mW', 'latticeDetuning_GHz', 'compz'], [latticeDepth, latticeDetuning, compz])\n",
    "time = np.linspace(0, 3000, 10000)"
   ]
  },
  {
   "cell_type": "code",
   "execution_count": 20,
   "metadata": {},
   "outputs": [
    {
     "data": {
      "image/png": "[encoded data removed]",
      "text/plain": [
       "<Figure size 432x288 with 1 Axes>"
      ]
     },
     "metadata": {
      "needs_background": "light"
     },
     "output_type": "display_data"
    }
   ],
   "source": [
    "resultZ = getSubDF(resultsDF_pure, ['latticeDepth_mW', 'latticeDetuning_GHz', 'compz'], [latticeDepth, latticeDetuning, compz])\n",
    "\n",
    "NZ, gammaZ = resultZ[['N0', 'gamma']].iloc[0,:]\n",
    "Z = N_polarized_pure3b(time, NZ, gammaZ)\n",
    "\n",
    "plt.figure()\n",
    "plt.plot(df_tempZ['BECHoldTime'], df_tempZ['nCount'], '+', label = str(round(latticeDepth, 2)) + ' ' + str(False))\n",
    "plt.plot(time, Z, '-', label = 'fitZ')\n",
    "plt.legend()\n",
    "#plt.ylim(0, 20000)\n",
    "#plt.xlim(0,10)\n",
    "plt.xlabel('BECHoldTime (ms)')\n",
    "plt.ylabel('nCount')\n",
    "plt.show()"
   ]
  },
  {
   "cell_type": "code",
   "execution_count": 21,
   "metadata": {},
   "outputs": [
    {
     "data": {
      "image/png": "[encoded data removed]",
      "text/plain": [
       "<Figure size 432x288 with 1 Axes>"
      ]
     },
     "metadata": {
      "needs_background": "light"
     },
     "output_type": "display_data"
    }
   ],
   "source": [
    "resultZ = getSubDF(resultsDF_pure_premix, ['latticeDepth_mW', 'latticeDetuning_GHz', 'compz'], [latticeDepth, latticeDetuning, compz])\n",
    "\n",
    "NZ, gammaZ = resultZ[['N0', 'gamma']].iloc[0,:]\n",
    "Z = N_polarized_premix(time, NZ, gammaZ)\n",
    "\n",
    "plt.figure()\n",
    "plt.plot(df_tempZ['BECHoldTime'], df_tempZ['nCount'], '+', label = str(round(latticeDepth, 2)) + ' ' + str(False))\n",
    "plt.plot(time, Z, '-', label = 'fitZ')\n",
    "plt.legend()\n",
    "#plt.ylim(0, 20000)\n",
    "#plt.xlim(0,10)\n",
    "plt.xlabel('BECHoldTime (ms)')\n",
    "plt.ylabel('nCount')\n",
    "plt.show()"
   ]
  },
  {
   "cell_type": "code",
   "execution_count": 22,
   "metadata": {},
   "outputs": [
    {
     "data": {
      "image/png": "[encoded data removed]",
      "text/plain": [
       "<Figure size 432x288 with 1 Axes>"
      ]
     },
     "metadata": {
      "needs_background": "light"
     },
     "output_type": "display_data"
    }
   ],
   "source": [
    "resultZ = getSubDF(resultsDF_mix, ['latticeDepth_mW', 'latticeDetuning_GHz', 'compz'], [latticeDepth, latticeDetuning, compz])\n",
    "\n",
    "NZ, alphaZ, gammaZ = resultZ[['N0', 'alpha', 'gamma']].iloc[0,:]\n",
    "\n",
    "Z = N_polarized(time, NZ, alphaZ, gammaZ)\n",
    "\n",
    "plt.figure()\n",
    "plt.plot(df_tempZ['BECHoldTime'], df_tempZ['nCount'], '+', label = str(round(latticeDepth, 2)) + ' ' + str(False))\n",
    "plt.plot(time, Z, '-', label = 'fitZ')\n",
    "plt.legend()\n",
    "#plt.ylim(0,20000)\n",
    "#plt.xlim(0,10)\n",
    "plt.xlabel('BECHoldTime (ms)')\n",
    "plt.ylabel('nCount')\n",
    "plt.show()"
   ]
  },
  {
   "cell_type": "code",
   "execution_count": 23,
   "metadata": {},
   "outputs": [
    {
     "data": {
      "image/png": "[encoded data removed]",
      "text/plain": [
       "<Figure size 432x288 with 1 Axes>"
      ]
     },
     "metadata": {
      "needs_background": "light"
     },
     "output_type": "display_data"
    }
   ],
   "source": [
    "resultZ = getSubDF(resultsDF_lin, ['latticeDepth_mW', 'latticeDetuning_GHz', 'compz'], [latticeDepth, latticeDetuning, compz])\n",
    "\n",
    "NZ, bZ = resultZ[['N0', 'b']].iloc[0,:]\n",
    "\n",
    "Z = N_linear(time, NZ, bZ)\n",
    "\n",
    "plt.figure()\n",
    "plt.plot(df_tempZ['BECHoldTime'], df_tempZ['nCount'], '+', label = str(round(latticeDepth, 2)) + ' ' + str(False))\n",
    "plt.plot(time, Z, '-', label = 'fitZ')\n",
    "plt.legend()\n",
    "#plt.ylim(0,30000)\n",
    "#plt.xlim(0,100)\n",
    "plt.xlabel('BECHoldTime (ms)')\n",
    "plt.ylabel('nCount')\n",
    "plt.show()"
   ]
  },
  {
   "cell_type": "code",
   "execution_count": 24,
   "metadata": {},
   "outputs": [
    {
     "data": {
      "image/png": "[encoded data removed]",
      "text/plain": [
       "<Figure size 432x288 with 1 Axes>"
      ]
     },
     "metadata": {
      "needs_background": "light"
     },
     "output_type": "display_data"
    }
   ],
   "source": [
    "resultsDF_notLossy = getSubDF(resultsDF_mix, ['compz'], [compz])\n",
    "resultsDF_notLossy_pure = getSubDF(resultsDF_pure, ['compz'], [compz])\n",
    "resultsDF_notLossy_lin = getSubDF(resultsDF_lin, ['compz'], [compz])\n",
    "\n",
    "#latticePower = -resultsDF_Z['latticeDepth']/resultsDF_Z['latticeDetuning']\n",
    "trapFrequencyList = resultsDF_notLossy['trapFrequencyZ_kHz']\n",
    "decay_1b3b = resultsDF_notLossy['gamma']/resultsDF_notLossy['gamma'].mean()\n",
    "decay_3b = resultsDF_notLossy_pure['gamma']/resultsDF_notLossy_pure['gamma'].mean()\n",
    "decay_lin = resultsDF_notLossy_lin['b']/resultsDF_notLossy_lin['b'].mean()\n",
    "\n",
    "plt.figure()\n",
    "plt.semilogy(trapFrequencyList, decay_1b3b, 'b*', label = '1b + 3b')\n",
    "plt.semilogy(trapFrequencyList, decay_3b, 'g*', label = '3b')\n",
    "plt.semilogy(trapFrequencyList, decay_lin, 'r*', label = 'lin')\n",
    "plt.xlabel(\"Trap frequency (kHz)\")\n",
    "plt.ylabel(\"Normalized decay rate\")\n",
    "\n",
    "\n",
    "plt.legend()\n",
    "#plt.ylim(0,0.2*10**(-11))\n",
    "plt.show()"
   ]
  },
  {
   "cell_type": "markdown",
   "metadata": {},
   "source": [
    "The increase in power should result in a smaller cloud. The density is proportional to $n\\sim 1/(a_{oh}r_{\\perp}^{2}) \\sim \\sqrt{\\omega_{z}}\\frac{\\omega_{\\perp}^{2}}{\\mu}$. Assuming the chemical potential constant, the density $n$ goes like $(P/\\Delta)^{5/4}$. In that case the decay coefficient which is proportional to $n^{2}$ should be scalled accordingly.\n",
    "If we rather fix the scattering length $a$ and write $\\mu\\sim na$ then at constant $a$ it gives $n \\sim (P/\\Delta)^{5/8})$.\n",
    "\n",
    "And $P/\\Delta \\propto \\omega_{z}^{2}$\n",
    "\n",
    "Note for a thermal cloud that gets compressed from $\\omega_i$ to $\\omega_f = k\\omega_i$. $E_i = \\sum \\epsilon_i p_i$ and $E_f = \\sum \\epsilon_f p_f = \\sum (k\\epsilon_i) p_i = kE_i$. So the temperature goes like $T_f = kT_i$. But the probability to occupy each state remains the same, so $\\omega^2 \\Delta x^2/T = $ cste. There for $\\Delta x_f = \\Delta x_i/\\sqrt{k}$. So a good proxy for the density is $n \\propto 1/(a_z r^2) \\propto \\omega_z^{1/2} \\sqrt{k}^{2} \\propto \\omega_z^{3/2}$. Or if we want to be more precise and take into consideration the ODT trapping, one should say $n \\propto \\omega_z^{1/2}\\omega_{\\perp,1}^{1/2}\\omega_{\\perp,2}^{1/2}$"
   ]
  },
  {
   "cell_type": "code",
   "execution_count": 25,
   "metadata": {},
   "outputs": [
    {
     "data": {
      "image/png": "[encoded data removed]",
      "text/plain": [
       "<Figure size 432x288 with 1 Axes>"
      ]
     },
     "metadata": {
      "needs_background": "light"
     },
     "output_type": "display_data"
    }
   ],
   "source": [
    "powerExponent = 3/2\n",
    "# 3/2 for 2D thermal + 1D HO\n",
    "# 5/2 for 2D BEC fixed chemical potential (wrong) + 1D HO\n",
    "# 5/4 for 2D BEC fixed scattering length + 1D HO\n",
    "\n",
    "trapFrequencyList = resultsDF_notLossy['trapFrequencyZ_kHz']\n",
    "decay_1b3b = resultsDF_notLossy['gamma']/resultsDF_notLossy['gamma'].mean()/(trapFrequencyList**2)**(powerExponent)\n",
    "decay_3b = resultsDF_notLossy_pure['gamma']/resultsDF_notLossy_pure['gamma'].mean()/(trapFrequencyList**2)**(powerExponent)\n",
    "decay_lin = resultsDF_notLossy_lin['b']/resultsDF_notLossy_lin['b'].mean()/(trapFrequencyList**2)**(powerExponent)\n",
    "### That was the previous scaling before we changed to take into account the ODT trapping\n",
    "\n",
    "### Now it is simple n^2 \\propto omega_z * omega_perp1^2 * omega_perp2^2\n",
    "trapFrequencyList = resultsDF_notLossy['trapFrequencyZ_kHz']\n",
    "trapFrequencyPerp1List = resultsDF_notLossy['trapFrequencyX_Hz']\n",
    "trapFrequencyPerp2List = resultsDF_notLossy['trapFrequencyY_Hz']\n",
    "decay_1b3b = resultsDF_notLossy['gamma']/resultsDF_notLossy['gamma'].mean()/(trapFrequencyList*trapFrequencyPerp1List*trapFrequencyPerp2List)\n",
    "decay_3b = resultsDF_notLossy_pure['gamma']/resultsDF_notLossy_pure['gamma'].mean()/(trapFrequencyList*trapFrequencyPerp1List*trapFrequencyPerp2List)\n",
    "decay_lin = resultsDF_notLossy_lin['b']/resultsDF_notLossy_lin['b'].mean()/(trapFrequencyList*trapFrequencyPerp1List*trapFrequencyPerp2List)\n",
    "\n",
    "\n",
    "plt.figure()\n",
    "plt.semilogy(trapFrequencyList, decay_1b3b, 'b*', label = '1b + 3b')\n",
    "plt.semilogy(trapFrequencyList, decay_3b, 'g*', label = '3b')\n",
    "plt.semilogy(trapFrequencyList, decay_lin, 'r*', label = 'lin')\n",
    "\n",
    "plt.xlabel(\"Trap frequency (kHz)\")\n",
    "plt.ylabel(\"Normalized decay rate / $n^2$\")\n",
    "plt.legend()\n",
    "#plt.ylim(0,0.2*10**(-11))\n",
    "plt.show()"
   ]
  },
  {
   "cell_type": "markdown",
   "metadata": {},
   "source": [
    "Let's use only the pure 3b fit"
   ]
  },
  {
   "cell_type": "code",
   "execution_count": 26,
   "metadata": {},
   "outputs": [],
   "source": [
    "#results = resultsDF_pure_premix\n",
    "results = resultsDF_pure\n",
    "#results = resultsDF_lin"
   ]
  },
  {
   "cell_type": "code",
   "execution_count": 27,
   "metadata": {},
   "outputs": [],
   "source": [
    "latticeDepthList = np.sort(df['latticeDepth_mW'].unique())\n",
    "BECHoldTimeList = np.sort(df['BECHoldTime'].unique())\n",
    "latticeDetuningList = np.sort(df['latticeDetuning_GHz'].unique())\n",
    "compzList = np.sort(df['compz'].unique())"
   ]
  },
  {
   "cell_type": "code",
   "execution_count": 28,
   "metadata": {},
   "outputs": [
    {
     "data": {
      "image/png": "[encoded data removed]",
      "text/plain": [
       "<Figure size 432x288 with 1 Axes>"
      ]
     },
     "metadata": {
      "needs_background": "light"
     },
     "output_type": "display_data"
    }
   ],
   "source": [
    "plt.figure()\n",
    "i = 0\n",
    "for latticeDetuning in latticeDetuningList:\n",
    "    decay_notlossy = getSubDF(results, ['latticeDetuning_GHz', 'compz'], [latticeDetuning, compz_not_lossy])\n",
    "    decay_lossy = getSubDF(results, ['latticeDetuning_GHz', 'compz'], [latticeDetuning, compz_lossy])\n",
    "    plt.semilogy(decay_notlossy['trapFrequencyZ_kHz'], decay_notlossy['gamma'], color = colors[i], marker = 'o', label = latticeDetuning)\n",
    "    plt.semilogy(decay_lossy['trapFrequencyZ_kHz'], decay_lossy['gamma'], color = colors[i], marker = '+')\n",
    "    i += 1\n",
    "plt.legend()\n",
    "#plt.xlim(0,20)\n",
    "plt.xlabel('Trap frequency in kHz')\n",
    "plt.ylabel('Raw decay coefficient')\n",
    "plt.title('Comparision between near the feshbach resonance (+) and away (circles)')\n",
    "plt.show()"
   ]
  },
  {
   "cell_type": "markdown",
   "metadata": {},
   "source": [
    "The average xWidth of the cloud is 4.36 pixel and yWidth is 4.45, each are 6.5 micro meters big and magnification is 4. It makes 7 micrometers cloud size (one sigma), so approximately 40 pancakes filled.\n",
    "\n",
    "The nCount of the previous data was accounting a 3.45 micro meters pixel and 1 magnification, this should be corrected accordingly\n",
    "\n",
    "For the temperature : $\\sigma = \\sqrt{\\sigma_0^{2}+(\\sigma_v\\tau)^2}$ with $\\sigma_{0} = 7 \\mu m$ and $\\tau$ the time of flight. And $\\sigma_{v} = \\sqrt{\\frac{k_{B}T}{m}}$ so $T = \\frac{m}{k_{B}}\\frac{\\sigma^2-\\sigma^2_0}{\\tau^2}$"
   ]
  },
  {
   "cell_type": "code",
   "execution_count": 29,
   "metadata": {},
   "outputs": [
    {
     "data": {
      "text/html": [
       "<div>\n",
       "<style scoped>\n",
       "    .dataframe tbody tr th:only-of-type {\n",
       "        vertical-align: middle;\n",
       "    }\n",
       "\n",
       "    .dataframe tbody tr th {\n",
       "        vertical-align: top;\n",
       "    }\n",
       "\n",
       "    .dataframe thead th {\n",
       "        text-align: right;\n",
       "    }\n",
       "</style>\n",
       "<table border=\"1\" class=\"dataframe\">\n",
       "  <thead>\n",
       "    <tr style=\"text-align: right;\">\n",
       "      <th></th>\n",
       "      <th>xWidth</th>\n",
       "      <th>yWidth</th>\n",
       "      <th>xPos</th>\n",
       "      <th>yPos</th>\n",
       "      <th>imageID</th>\n",
       "      <th>isotope</th>\n",
       "      <th>run</th>\n",
       "      <th>xWidth_TOF_h_um</th>\n",
       "      <th>zWidth_TOF_h_um</th>\n",
       "      <th>trapFrequencyZ_kHz</th>\n",
       "      <th>deconfiningTrapFrequency_Hz</th>\n",
       "      <th>bareTrapFrequencyX_Hz</th>\n",
       "      <th>bareTrapFrequencyY_Hz</th>\n",
       "      <th>bareTrapFrequencyZ_Hz</th>\n",
       "      <th>trapFrequencyX_Hz</th>\n",
       "      <th>trapFrequencyY_Hz</th>\n",
       "    </tr>\n",
       "  </thead>\n",
       "  <tbody>\n",
       "  </tbody>\n",
       "</table>\n",
       "</div>"
      ],
      "text/plain": [
       "Empty DataFrame\n",
       "Columns: [xWidth, yWidth, xPos, yPos, imageID, isotope, run, xWidth_TOF_h_um, zWidth_TOF_h_um, trapFrequencyZ_kHz, deconfiningTrapFrequency_Hz, bareTrapFrequencyX_Hz, bareTrapFrequencyY_Hz, bareTrapFrequencyZ_Hz, trapFrequencyX_Hz, trapFrequencyY_Hz]\n",
       "Index: []"
      ]
     },
     "execution_count": 29,
     "metadata": {},
     "output_type": "execute_result"
    }
   ],
   "source": [
    "getSubDF(df, ['latticeDetuning_GHz', 'latticeDepth_mW', 'BECHoldTime'], [-11.25, 160, 0]).iloc[:,10:]"
   ]
  },
  {
   "cell_type": "code",
   "execution_count": 30,
   "metadata": {},
   "outputs": [
    {
     "data": {
      "text/html": [
       "<div>\n",
       "<style scoped>\n",
       "    .dataframe tbody tr th:only-of-type {\n",
       "        vertical-align: middle;\n",
       "    }\n",
       "\n",
       "    .dataframe tbody tr th {\n",
       "        vertical-align: top;\n",
       "    }\n",
       "\n",
       "    .dataframe thead th {\n",
       "        text-align: right;\n",
       "    }\n",
       "</style>\n",
       "<table border=\"1\" class=\"dataframe\">\n",
       "  <thead>\n",
       "    <tr style=\"text-align: right;\">\n",
       "      <th></th>\n",
       "      <th>xWidth</th>\n",
       "      <th>xWidth_TOF_h_um</th>\n",
       "      <th>temperature_nK</th>\n",
       "    </tr>\n",
       "  </thead>\n",
       "  <tbody>\n",
       "    <tr>\n",
       "      <th>0</th>\n",
       "      <td>26.2005</td>\n",
       "      <td>38.882021</td>\n",
       "      <td>1192.283126</td>\n",
       "    </tr>\n",
       "    <tr>\n",
       "      <th>1</th>\n",
       "      <td>18.2307</td>\n",
       "      <td>27.054692</td>\n",
       "      <td>577.253969</td>\n",
       "    </tr>\n",
       "    <tr>\n",
       "      <th>2</th>\n",
       "      <td>30.0751</td>\n",
       "      <td>44.631998</td>\n",
       "      <td>1570.993540</td>\n",
       "    </tr>\n",
       "    <tr>\n",
       "      <th>3</th>\n",
       "      <td>23.2735</td>\n",
       "      <td>34.538299</td>\n",
       "      <td>940.770387</td>\n",
       "    </tr>\n",
       "    <tr>\n",
       "      <th>5</th>\n",
       "      <td>29.7682</td>\n",
       "      <td>44.176553</td>\n",
       "      <td>1539.094863</td>\n",
       "    </tr>\n",
       "    <tr>\n",
       "      <th>...</th>\n",
       "      <td>...</td>\n",
       "      <td>...</td>\n",
       "      <td>...</td>\n",
       "    </tr>\n",
       "    <tr>\n",
       "      <th>573</th>\n",
       "      <td>21.0857</td>\n",
       "      <td>31.291564</td>\n",
       "      <td>772.211536</td>\n",
       "    </tr>\n",
       "    <tr>\n",
       "      <th>574</th>\n",
       "      <td>21.4789</td>\n",
       "      <td>31.875080</td>\n",
       "      <td>801.280015</td>\n",
       "    </tr>\n",
       "    <tr>\n",
       "      <th>575</th>\n",
       "      <td>21.0390</td>\n",
       "      <td>31.222260</td>\n",
       "      <td>768.794781</td>\n",
       "    </tr>\n",
       "    <tr>\n",
       "      <th>577</th>\n",
       "      <td>41.3965</td>\n",
       "      <td>61.433162</td>\n",
       "      <td>2976.373894</td>\n",
       "    </tr>\n",
       "    <tr>\n",
       "      <th>579</th>\n",
       "      <td>38.0850</td>\n",
       "      <td>56.518836</td>\n",
       "      <td>2519.231969</td>\n",
       "    </tr>\n",
       "  </tbody>\n",
       "</table>\n",
       "<p>525 rows × 3 columns</p>\n",
       "</div>"
      ],
      "text/plain": [
       "      xWidth  xWidth_TOF_h_um  temperature_nK\n",
       "0    26.2005        38.882021     1192.283126\n",
       "1    18.2307        27.054692      577.253969\n",
       "2    30.0751        44.631998     1570.993540\n",
       "3    23.2735        34.538299      940.770387\n",
       "5    29.7682        44.176553     1539.094863\n",
       "..       ...              ...             ...\n",
       "573  21.0857        31.291564      772.211536\n",
       "574  21.4789        31.875080      801.280015\n",
       "575  21.0390        31.222260      768.794781\n",
       "577  41.3965        61.433162     2976.373894\n",
       "579  38.0850        56.518836     2519.231969\n",
       "\n",
       "[525 rows x 3 columns]"
      ]
     },
     "execution_count": 30,
     "metadata": {},
     "output_type": "execute_result"
    }
   ],
   "source": [
    "#sigma_0_um = 7\n",
    "sigma_0_um = 0\n",
    "\n",
    "#df['temperature'] = (m/k_B*((df['xWidth_TOF_h_um']*um)**2-(df['xWidth_inSitu_v_um']*um)**2)/((df['TOF']*ms)**2))/nK # in nano kelvin\n",
    "# if you use xWidth_inSitu_v_um there is nothing for red detuned runs\n",
    "\n",
    "df['temperature_nK'] = (m/k_B*((df['xWidth_TOF_h_um']*um)**2-(sigma_0_um*um)**2)/((df['TOF']*ms)**2))/nK # in nano kelvin\n",
    "df[['xWidth', 'xWidth_TOF_h_um','temperature_nK']]"
   ]
  },
  {
   "cell_type": "code",
   "execution_count": 31,
   "metadata": {},
   "outputs": [
    {
     "data": {
      "text/plain": [
       "array([1.0e+00, 2.0e+00, 3.0e+00, 5.0e+00, 7.0e+00, 1.0e+01, 1.5e+01,\n",
       "       2.0e+01, 3.0e+01, 5.0e+01, 1.0e+02, 2.0e+02, 3.0e+02, 5.0e+02,\n",
       "       1.0e+03, 2.0e+03, 3.0e+03, 5.0e+03])"
      ]
     },
     "execution_count": 31,
     "metadata": {},
     "output_type": "execute_result"
    }
   ],
   "source": [
    "BECHoldTimeList"
   ]
  },
  {
   "cell_type": "code",
   "execution_count": 32,
   "metadata": {},
   "outputs": [],
   "source": [
    "# Time at which you compute the temperature:\n",
    "timeEquilibrium = 5\n",
    "df_temperature = df.groupby(['latticeDetuning_GHz', 'BECHoldTime', 'latticeDepth_mW', 'compz']).mean().reset_index()\n",
    "df_initial_temperature = getSubDF(df_temperature, ['BECHoldTime'], [timeEquilibrium]).groupby(['latticeDetuning_GHz', 'latticeDepth_mW', 'compz']).mean().reset_index()"
   ]
  },
  {
   "cell_type": "code",
   "execution_count": 33,
   "metadata": {},
   "outputs": [],
   "source": [
    "results = pd.merge(results, df_initial_temperature, how=\"outer\", on=[\"latticeDetuning_GHz\", \"latticeDepth_mW\", 'compz'], suffixes=('', '_y'))#, validate=\"many_to_many\")\n",
    "results.drop(results.filter(regex='_y$').columns.tolist(),axis=1, inplace=True)"
   ]
  },
  {
   "cell_type": "code",
   "execution_count": 34,
   "metadata": {},
   "outputs": [
    {
     "data": {
      "image/png": "[encoded data removed]",
      "text/plain": [
       "<Figure size 432x288 with 1 Axes>"
      ]
     },
     "metadata": {
      "needs_background": "light"
     },
     "output_type": "display_data"
    }
   ],
   "source": [
    "compz = compz_not_lossy\n",
    "plt.figure()\n",
    "for latticeDetuning in latticeDetuningList:\n",
    "    for latticeDepth in latticeDepthList:\n",
    "        df_temp = getSubDF(df_temperature, ['latticeDepth_mW', 'latticeDetuning_GHz', 'compz'], [latticeDepth, latticeDetuning, compz])\n",
    "        plt.plot(df_temp['BECHoldTime'], df_temp['temperature_nK'], label = str(latticeDetuning)+ \" \" + str(latticeDepth) )\n",
    "plt.ylim(0,2000)\n",
    "plt.xlim(-100,1000)\n",
    "plt.legend()\n",
    "plt.xlabel('BECHoldTime')\n",
    "plt.ylabel('Temperature (nK)')\n",
    "plt.show()"
   ]
  },
  {
   "cell_type": "code",
   "execution_count": 35,
   "metadata": {},
   "outputs": [
    {
     "data": {
      "image/png": "[encoded data removed]",
      "text/plain": [
       "<Figure size 432x288 with 1 Axes>"
      ]
     },
     "metadata": {
      "needs_background": "light"
     },
     "output_type": "display_data"
    }
   ],
   "source": [
    "latticeDetuning = -11.25\n",
    "df_temp = getSubDF(df, ['latticeDetuning_GHz'], [latticeDetuning])\n",
    "plt.figure()\n",
    "plt.plot(df_temp['latticeDepth_mW'], df_temp['trapFrequencyX_Hz'], 'o')\n",
    "plt.show()"
   ]
  },
  {
   "cell_type": "code",
   "execution_count": 36,
   "metadata": {},
   "outputs": [
    {
     "data": {
      "text/plain": [
       "5.2e-05"
      ]
     },
     "execution_count": 36,
     "metadata": {},
     "output_type": "execute_result"
    }
   ],
   "source": [
    "beamwaist"
   ]
  },
  {
   "cell_type": "code",
   "execution_count": 37,
   "metadata": {},
   "outputs": [
    {
     "data": {
      "image/png": "[encoded data removed]",
      "text/plain": [
       "<Figure size 432x288 with 1 Axes>"
      ]
     },
     "metadata": {
      "needs_background": "light"
     },
     "output_type": "display_data"
    }
   ],
   "source": [
    "compz = compz_not_lossy\n",
    "plt.figure()\n",
    "for latticeDetuning in latticeDetuningList:\n",
    "    df_temp = getSubDF(df_initial_temperature, ['latticeDetuning_GHz', 'compz'], [latticeDetuning, compz])\n",
    "    plt.plot(df_temp['trapFrequencyZ_kHz'], df_temp['temperature_nK'], label = latticeDetuning)\n",
    "#plt.ylim(0,1000)\n",
    "#plt.xlim(0,100)\n",
    "plt.legend()\n",
    "plt.xlabel('trapFrequencyZ_kHz')\n",
    "plt.ylabel('Temperature (nK)')\n",
    "plt.show()"
   ]
  },
  {
   "cell_type": "markdown",
   "metadata": {},
   "source": [
    "The density is $N/V \\simeq N/(2a_z(2a_{\\perp})^2) = N/\\left(8\\sqrt{\\hbar/(m\\omega_z)}\\sqrt{k_B T/m\\omega_\\perp^2}^{2}\\right) = \\frac{N m^{3/2}\\omega_z^{1/2}\\omega_\\perp}{8\\hbar^{1/2} k_B T} = \\frac{N m^{3/2}\\omega_z^{5/2}}{8A^2\\hbar^{1/2} k_B T}$ with $A = \\omega_z / \\omega_\\perp$ the aspect ratio (A = 162)\n",
    "\n",
    "More precise calculation would be $P(r,z) = K e^{-\\frac{z^2}{2a_z^{2}}} e^{-\\frac{\\frac{1}{2}m\\omega_\\perp^2 r^{2}}{k_B T}}$ and normalization condition gives for the N-particle 3D density probability $n(r,z) = \\frac{N m \\omega_\\perp^{2}}{\\pi^{3/2}\\sqrt{2}a_z k_B T} e^{-\\frac{z^2}{2a_z^{2}}} e^{-\\frac{\\frac{1}{2}m\\omega_\\perp^2 r^{2}}{k_B T}} = \\frac{N m^{3/2} \\omega_z^{5/2}}{\\pi^{3/2}\\sqrt{2}\\hbar^{1/2}A^{2} k_B T} e^{-\\frac{z^2}{2a_z^{2}}} e^{-\\frac{\\frac{1}{2}m\\omega_\\perp^2 r^{2}}{k_B T}}$. And we have $\\pi^{3/2}\\sqrt{2} = 7.87 \\simeq 8$.\n",
    "\n",
    "Eventually we changed this analysis to take into account the ODT trapping potential and we are keeping $n(r,z) = \\frac{N m \\omega_\\perp^{2}}{\\pi^{3/2}\\sqrt{2}a_z k_B T} e^{-\\frac{z^2}{2a_z^{2}}} e^{-\\frac{\\frac{1}{2}m\\omega_\\perp^2 r^{2}}{k_B T}} = \\frac{N m^{3/2}\\omega_z^{1/2} \\omega_\\perp^{2}}{\\pi^{3/2}\\sqrt{2}\\hbar^{1/2} k_B T} e^{-\\frac{z^2}{2a_z^{2}}} e^{-\\frac{\\frac{1}{2}m\\omega_\\perp^2 r^{2}}{k_B T}}$\n",
    "\n",
    "Note that here the dependance looks to be like $\\omega_z^{5/2}$ but there is a dependance hidden in the temperature that should go up like $\\omega$, starting from 90-200 Hz in the ODT, up to 2 kHz in the deepest lattice, so there should be a factor of 10 there."
   ]
  },
  {
   "cell_type": "markdown",
   "metadata": {},
   "source": [
    "Now we can put units on the 3-body coefficient. WRONG: From the fit we get $\\gamma = \\beta<n^2>$. And the time unit of the fit is ms.\n",
    "I keep the mistake here because it caused me some trouble. The real expression is $\\beta = \\gamma V^2$. Indeed $\\frac{dN}{dt} = -\\gamma N^3$ for the fit and $\\frac{dN}{dt} = -\\beta<n^2>N = -\\beta/V^2 N^3$. Volume here is understood as the volume of all the pancakes combined."
   ]
  },
  {
   "cell_type": "markdown",
   "metadata": {},
   "source": [
    "# Notes from the BEC Calculation\n",
    "\n",
    "\n",
    "## Temperature and trap frequency\n",
    "\n",
    "### In BEC\n",
    "\n",
    "In the BEC the density is like $n(x, y, z) = K e^{-\\frac{\\frac{1}{2}m(\\omega_x^2 x^2 + \\omega_y^2 y^2 + \\omega_z^2 z^2)}{k_B T}} = N\\omega_x\\omega_y\\omega_z\\left(\\frac{m}{2\\pi k_B T}\\right)^{3/2} e^{-\\frac{\\frac{1}{2}m(\\omega_x^2 x^2 + \\omega_y^2 y^2 + \\omega_z^2 z^2)}{k_B T}} = n_0 e^{-\\frac{\\frac{1}{2}m(\\omega_x^2 x^2 + \\omega_y^2 y^2 + \\omega_z^2 z^2)}{k_B T}}$\n",
    "\n",
    "By definition $<n^2> = \\int n^2p(x, y, z)d\\tau = \\frac{1}{N}\\int n^3 d\\tau = N^2 (\\omega_x\\omega_y\\omega_z)^2\\frac{1}{\\sqrt{27}}\\left(\\frac{m}{2\\pi k_B T}\\right)^3 = \\frac{N^2}{\\sqrt{27}(2\\pi)^3(\\sigma_x\\sigma_y\\sigma_z)^2}$. The differential equation formula is: $\\frac{dN}{dt} = -\\gamma N^3$ in the fit, but $\\frac{dN}{dt} = -\\beta <n^2> N$ in reality, so $\\frac{dN}{dt} = -\\beta \\frac{N^2}{\\alpha} N$ with $\\alpha = 3^{3/2}\\left(\\frac{2\\pi k_B T}{m}\\right)^3\\frac{1}{(\\omega_x\\omega_y\\omega_z)^2} = 3^{3/2}(2\\pi)^3(\\sigma_x\\sigma_y\\sigma_z)^2 = \\frac{3^{3/2}}{(n_0/N)^2}$, so $\\beta = \\gamma\\alpha$\n",
    "\n",
    "### In the lattice\n",
    "\n",
    "Note: I should use the full calculation of the gaussian wavepacket, in the mean time I can define a fake $\\frac{1}{\\bar a_z} = \\frac{1}{\\lambda /2\\sqrt{2\\pi}} + \\frac{1}{a_z}$.\n",
    "Indeed, for deep lattices, the density is $n(x, y, z) = n_0 e^{-\\frac{\\frac{1}{2}m(\\omega_x^2 x^2 + \\omega_y^2 y^2)}{k_B T}}e^{-\\frac{z^2}{2a_z^2}}$ and therefore $\\boxed{n_0 = \\frac{Nm\\omega_x\\omega_y}{(2\\pi)^{3/2}k_B T a_z} = \\frac{Nm^{3/2}\\omega_x\\omega_y\\omega_z^{1/2}}{(2\\pi)^{3/2}k_B T \\sqrt{\\hbar}}}$ but in the case of a very weak lattice $a_z$ should saturate to a fixed value. Write the 3D density $n(x, y, z) = n_0 e^{-\\frac{\\frac{1}{2}m(\\omega_x^2 x^2 + \\omega_y^2 y^2)}{k_B T}}$ and integrate it on one lattice site $z = -\\lambda/4 .. \\lambda /4$ gives that $\\frac{\\lambda}{2} = \\sqrt{2\\pi a_{z,saturated}^2}$. A good interpolation would be $\\frac{1}{\\bar a_z} = \\frac{1}{\\lambda /2\\sqrt{2\\pi}} + \\frac{1}{a_z}$. And it leads to the effective $\\bar \\omega_z = \\left( \\sqrt{\\omega_z} + \\frac{2\\sqrt{2\\pi}}{\\lambda}\\sqrt{\\frac{\\hbar}{m}}\\right)^2 = \\left( \\sqrt{\\omega_z} + \\frac{2}{\\sqrt{\\pi}}\\sqrt{\\frac{E_r}{\\hbar}}\\right)^2$. The correction at $\\omega_z = 0$ is about 2.8 kHz.\n",
    "\n",
    "Then we again have $<n^2> = n_0^2/\\sqrt{27}$ and the local differential equation is $\\frac{dn}{dt} = -\\beta n^2 n$ which integrated over the volume gives$\\int_V \\frac{dn}{dt} = \\frac{dN}{dt} = -\\int_V \\beta n^2 n d\\tau = -\\int_V \\beta n^2 Np(\\tau) d\\tau = -\\beta <n(t)^2>N = -\\beta\\frac{n_0^2\\left(\\frac{N(t)}{N_0}\\right)^2}{\\sqrt{27}}N$. So eventually $\\boxed{\\frac{dN}{dt} =-\\beta\\frac{n_0^2}{N_0^2\\sqrt{27}}N^3} = -\\gamma N^3$\n",
    "\n",
    "## In situ measurement\n",
    "\n",
    "Other way to calculate the volume, simply use the in situ imaging with the density being $N/V \\simeq N/(2a_x 2a_y 2a_z)^2) = \\frac{N}{8(7\\mu m 7.3\\mu m 18\\mu m)}$. Actually more precise calculation gives: $n = \\frac{N}{(2\\pi)^{3/2}\\sigma_x\\sigma_y\\sigma_z}e^{-\\frac{1}{2}(\\frac{x^2}{\\sigma_x^2}+\\frac{y^2}{\\sigma_y^2}+\\frac{z^2}{\\sigma_z^2})}$ and therefore $<n^2> = \\frac{1}{N}\\int n^3 d\\tau = \\frac{N^2}{3^{3/2}(2\\pi)^3(\\sigma_x\\sigma_y\\sigma_z)^2}$."
   ]
  },
  {
   "cell_type": "code",
   "execution_count": 38,
   "metadata": {},
   "outputs": [],
   "source": [
    "def effectiveOmegaZ(omega):\n",
    "    return (np.sqrt(omega)+2*np.sqrt(2*np.pi*hbar/m)/(741*nm))**2\n",
    "\n",
    "results['effectiveTrapFrequencyZ_kHz'] = effectiveOmegaZ(results['trapFrequencyZ_kHz']*kHz)/kHz"
   ]
  },
  {
   "cell_type": "code",
   "execution_count": 39,
   "metadata": {},
   "outputs": [],
   "source": [
    "#numberOfPancakes_fromBEC = 40 # for ODT Prefactor of 1\n",
    "#numberOfPancakes = numberOfPancakes_fromBEC/np.sqrt(np.maximum(results['ODTFactor'], 1))\n",
    "numberOfPancakes = 40\n",
    "\n",
    "\n",
    "temperature_nK = 600\n",
    "prefactor = (m/(2*np.pi))**(3/2)/(k_B*np.sqrt(hbar))\n",
    "# I assume here 400 nK, but eventually we should do a proper thermometry of the initial cloud.\n",
    "\n",
    "#results['density'] = results['N0']/numberOfPancakes*prefactor*(2*np.pi*results['trapFrequency']*10**3)**(5/2)/(temperature_nK*10**(-9))*10**(-6)  # in atoms / cm3\n",
    "trapFrequenciesProduct = (results['effectiveTrapFrequencyZ_kHz']*kHz)**(1/2)*results['trapFrequencyX_Hz']*Hz*results['trapFrequencyY_Hz']*Hz\n",
    "\n",
    "# MODIFY THE NUMBER OF PANCAKES HERE\n",
    "results['density_constantT'] = results['N0']/numberOfPancakes*prefactor/(temperature_nK*nK)*trapFrequenciesProduct*cm3  # in atoms / cm3"
   ]
  },
  {
   "cell_type": "code",
   "execution_count": 40,
   "metadata": {},
   "outputs": [],
   "source": [
    "results['beta_constantT'] = results['gamma']/ms  * results['N0']**2 * np.sqrt(27) / results['density_constantT']**2 # this is is cm^6/s"
   ]
  },
  {
   "cell_type": "code",
   "execution_count": 41,
   "metadata": {},
   "outputs": [
    {
     "data": {
      "image/png": "[encoded data removed]",
      "text/plain": [
       "<Figure size 576x576 with 1 Axes>"
      ]
     },
     "metadata": {
      "needs_background": "light"
     },
     "output_type": "display_data"
    }
   ],
   "source": [
    "plt.figure(figsize = (8, 8))\n",
    "i = 0\n",
    "for latticeDetuning in latticeDetuningList:\n",
    "    decay_notlossy = getSubDF(results, ['latticeDetuning_GHz', 'compz'], [latticeDetuning, compz_not_lossy])\n",
    "    decay_lossy = getSubDF(results, ['latticeDetuning_GHz', 'compz'], [latticeDetuning, compz_lossy])\n",
    "    plt.semilogy(decay_notlossy['trapFrequencyZ_kHz'], decay_notlossy['beta_constantT'], color = colors[i], marker = 'o', label = latticeDetuning)\n",
    "    plt.semilogy(decay_lossy['trapFrequencyZ_kHz'], decay_lossy['beta_constantT'], color = colors[i], marker = '+')\n",
    "    i += 1\n",
    "plt.legend()\n",
    "#plt.xlim(0,20)\n",
    "plt.xlabel('Trap frequency in kHz')\n",
    "plt.ylabel(r'$\\beta$ cm$^6/$s')\n",
    "plt.title('Comparision between near the feshbach \\n resonance (+) and away (circles) assuming T = 400nK')\n",
    "plt.savefig('beta_coef.jpg', dpi = 300, transparent = False)\n",
    "plt.show()"
   ]
  },
  {
   "cell_type": "code",
   "execution_count": 42,
   "metadata": {},
   "outputs": [
    {
     "data": {
      "image/png": "[encoded data removed]",
      "text/plain": [
       "<Figure size 432x288 with 1 Axes>"
      ]
     },
     "metadata": {
      "needs_background": "light"
     },
     "output_type": "display_data"
    }
   ],
   "source": [
    "plt.figure()\n",
    "i = 0\n",
    "\n",
    "for latticeDetuning in latticeDetuningList:\n",
    "    decay_notlossy = getSubDF(results, ['latticeDetuning_GHz', 'compz'], [latticeDetuning, compz_not_lossy])\n",
    "    decay_lossy = getSubDF(results, ['latticeDetuning_GHz', 'compz'], [latticeDetuning, compz_lossy])\n",
    "    plt.semilogy(decay_notlossy['trapFrequencyZ_kHz'], decay_notlossy['density_constantT'], color = colors[i], marker = 'o', label = latticeDetuning)\n",
    "    plt.semilogy(decay_lossy['trapFrequencyZ_kHz'], decay_lossy['density_constantT'], color = colors[i], marker = '+')\n",
    "    i += 1\n",
    "plt.legend()\n",
    "#plt.xlim(0,20)\n",
    "plt.xlabel('Trap frequency in kHz')\n",
    "plt.ylabel(r'$n$ (cm$^{-3}$)')\n",
    "plt.title('Density comparision between near the feshbach \\n resonance (+) and away (circles) for a constant temperature')\n",
    "plt.savefig('density.jpg', dpi = 300, transparent = False)\n",
    "plt.show()"
   ]
  },
  {
   "cell_type": "markdown",
   "metadata": {},
   "source": [
    "We can also do the version where we take the initial temperature of each run"
   ]
  },
  {
   "cell_type": "markdown",
   "metadata": {},
   "source": [
    "## With temperature measurements"
   ]
  },
  {
   "cell_type": "code",
   "execution_count": 43,
   "metadata": {},
   "outputs": [],
   "source": [
    "results['density_temperature'] = results['N0']/numberOfPancakes*prefactor/(results['temperature_nK']*nK)*trapFrequenciesProduct*cm3  # in atoms / cm3\n",
    "results['beta_temperature'] = results['gamma']/ms* results['N0']**2 * np.sqrt(27) / results['density_temperature']**2    # this is is cm^6/s\n",
    "#results['beta_temperature_limit'] = 2*18/(results['N0']**3)* results['N0']**2 * np.sqrt(27) / results['density_temperature']**2\n",
    "# gamma = 2b/N0**3 and I plugged 18 s-1 as the vacuum limit. Why did I write that?\n",
    "results['beta_temperature_limit'] = (1/50)*np.sqrt(27)/results['density_temperature']**2 \n",
    "# at initial time -b = 1/(18 seconds) = -beta*<n^2> = -beta*n^2/sqrt(27)"
   ]
  },
  {
   "cell_type": "code",
   "execution_count": 44,
   "metadata": {},
   "outputs": [
    {
     "data": {
      "image/png": "[encoded data removed]",
      "text/plain": [
       "<Figure size 576x576 with 1 Axes>"
      ]
     },
     "metadata": {
      "needs_background": "light"
     },
     "output_type": "display_data"
    }
   ],
   "source": [
    "plt.figure(figsize = (8,8))\n",
    "i = 0\n",
    "\n",
    "for latticeDetuning in latticeDetuningList:\n",
    "    decay_notlossy = getSubDF(results, ['latticeDetuning_GHz', 'compz'], [latticeDetuning, compz_not_lossy])\n",
    "    decay_lossy = getSubDF(results, ['latticeDetuning_GHz', 'compz'], [latticeDetuning, compz_lossy])\n",
    "    if not (decay_lossy.empty and decay_notlossy.empty):\n",
    "        plt.semilogy(decay_notlossy['trapFrequencyZ_kHz'], decay_notlossy['beta_temperature'], color = colors[i], marker = 'o', label = latticeDetuning)\n",
    "        plt.semilogy(decay_lossy['trapFrequencyZ_kHz'], decay_lossy['beta_temperature'], color = colors[i], marker = '+')\n",
    "        #plt.semilogy(decay_notlossy['trapFrequencyZ_kHz'], decay_notlossy['beta_temperature_limit'], 'o', color = 'steelblue', label = \"vacuum limit not lossy\")\n",
    "        #plt.semilogy(decay_lossy['trapFrequencyZ_kHz'], decay_lossy['beta_temperature_limit'], '+', color = 'steelblue', label = \"vacuum limit lossy\")\n",
    "    i += 1\n",
    "plt.legend()\n",
    "#plt.xlim(0,20)\n",
    "plt.xlabel('Trap frequency in kHz')\n",
    "plt.ylabel(r'$\\beta$ cm$^6/$s')\n",
    "#plt.title('Comparision between near the feshbach \\n resonance (+) and away (circles) with the initial temperature')\n",
    "plt.title('3b loss coefficient at a non-lossy Feshbach field')\n",
    "plt.show()"
   ]
  },
  {
   "cell_type": "code",
   "execution_count": 45,
   "metadata": {},
   "outputs": [
    {
     "data": {
      "image/png": "[encoded data removed]",
      "text/plain": [
       "<Figure size 432x288 with 1 Axes>"
      ]
     },
     "metadata": {
      "needs_background": "light"
     },
     "output_type": "display_data"
    }
   ],
   "source": [
    "plt.figure()\n",
    "i = 0\n",
    "\n",
    "for latticeDetuning in latticeDetuningList:\n",
    "    decay_notlossy = getSubDF(results, ['latticeDetuning_GHz', 'compz'], [latticeDetuning, compz_not_lossy])\n",
    "    decay_lossy = getSubDF(results, ['latticeDetuning_GHz', 'compz'], [latticeDetuning, compz_lossy])\n",
    "    plt.semilogy(decay_notlossy['trapFrequencyZ_kHz'], decay_notlossy['density_temperature'], color = colors[i], marker = 'o', label = latticeDetuning)\n",
    "    plt.semilogy(decay_lossy['trapFrequencyZ_kHz'], decay_lossy['density_temperature'], color = colors[i], marker = '+')\n",
    "    i += 1\n",
    "plt.legend()\n",
    "#plt.xlim(0,20)\n",
    "plt.xlabel('Trap frequency in kHz')\n",
    "plt.ylabel(r'$n$ (cm$^{-3}$)')\n",
    "plt.title('Density comparision between near the feshbach \\n resonance (+) and away (circles) using initial temperature')\n",
    "plt.savefig('density.jpg', dpi = 300, transparent = False)\n",
    "plt.show()"
   ]
  },
  {
   "cell_type": "code",
   "execution_count": 46,
   "metadata": {},
   "outputs": [
    {
     "data": {
      "text/html": [
       "<div>\n",
       "<style scoped>\n",
       "    .dataframe tbody tr th:only-of-type {\n",
       "        vertical-align: middle;\n",
       "    }\n",
       "\n",
       "    .dataframe tbody tr th {\n",
       "        vertical-align: top;\n",
       "    }\n",
       "\n",
       "    .dataframe thead th {\n",
       "        text-align: right;\n",
       "    }\n",
       "</style>\n",
       "<table border=\"1\" class=\"dataframe\">\n",
       "  <thead>\n",
       "    <tr style=\"text-align: right;\">\n",
       "      <th></th>\n",
       "      <th>N0</th>\n",
       "      <th>alpha</th>\n",
       "      <th>gamma</th>\n",
       "      <th>b</th>\n",
       "      <th>TOF</th>\n",
       "      <th>latticeDepth_mW</th>\n",
       "      <th>latticeDetuning_GHz</th>\n",
       "      <th>compz</th>\n",
       "      <th>ODT3_Comp_final</th>\n",
       "      <th>ODT12_pre_lattice</th>\n",
       "      <th>...</th>\n",
       "      <th>xWidth</th>\n",
       "      <th>yWidth</th>\n",
       "      <th>imageID</th>\n",
       "      <th>temperature_nK</th>\n",
       "      <th>effectiveTrapFrequencyZ_kHz</th>\n",
       "      <th>density_constantT</th>\n",
       "      <th>beta_constantT</th>\n",
       "      <th>density_temperature</th>\n",
       "      <th>beta_temperature</th>\n",
       "      <th>beta_temperature_limit</th>\n",
       "    </tr>\n",
       "  </thead>\n",
       "  <tbody>\n",
       "    <tr>\n",
       "      <th>0</th>\n",
       "      <td>40428.183883</td>\n",
       "      <td>NaN</td>\n",
       "      <td>4.165523e-14</td>\n",
       "      <td>NaN</td>\n",
       "      <td>5.0</td>\n",
       "      <td>1.0</td>\n",
       "      <td>-11.25</td>\n",
       "      <td>7.4</td>\n",
       "      <td>5.0</td>\n",
       "      <td>0.5</td>\n",
       "      <td>...</td>\n",
       "      <td>18.875571</td>\n",
       "      <td>19.372600</td>\n",
       "      <td>183464.000000</td>\n",
       "      <td>619.042389</td>\n",
       "      <td>16.836242</td>\n",
       "      <td>9.497223e+13</td>\n",
       "      <td>3.922172e-29</td>\n",
       "      <td>9.205078e+13</td>\n",
       "      <td>4.175081e-29</td>\n",
       "      <td>1.226470e-29</td>\n",
       "    </tr>\n",
       "    <tr>\n",
       "      <th>1</th>\n",
       "      <td>40508.730224</td>\n",
       "      <td>NaN</td>\n",
       "      <td>5.312772e-14</td>\n",
       "      <td>NaN</td>\n",
       "      <td>5.0</td>\n",
       "      <td>5.0</td>\n",
       "      <td>-11.25</td>\n",
       "      <td>7.4</td>\n",
       "      <td>5.0</td>\n",
       "      <td>0.5</td>\n",
       "      <td>...</td>\n",
       "      <td>18.930067</td>\n",
       "      <td>19.197300</td>\n",
       "      <td>183488.000000</td>\n",
       "      <td>622.549727</td>\n",
       "      <td>28.127648</td>\n",
       "      <td>1.258254e+14</td>\n",
       "      <td>2.861300e-29</td>\n",
       "      <td>1.212678e+14</td>\n",
       "      <td>3.080413e-29</td>\n",
       "      <td>7.066763e-30</td>\n",
       "    </tr>\n",
       "    <tr>\n",
       "      <th>2</th>\n",
       "      <td>41642.499233</td>\n",
       "      <td>NaN</td>\n",
       "      <td>1.146379e-13</td>\n",
       "      <td>NaN</td>\n",
       "      <td>5.0</td>\n",
       "      <td>15.0</td>\n",
       "      <td>-11.25</td>\n",
       "      <td>7.4</td>\n",
       "      <td>5.0</td>\n",
       "      <td>0.5</td>\n",
       "      <td>...</td>\n",
       "      <td>19.480543</td>\n",
       "      <td>19.470300</td>\n",
       "      <td>183456.428571</td>\n",
       "      <td>659.130512</td>\n",
       "      <td>41.587990</td>\n",
       "      <td>1.660501e+14</td>\n",
       "      <td>3.746326e-29</td>\n",
       "      <td>1.511537e+14</td>\n",
       "      <td>4.521118e-29</td>\n",
       "      <td>4.548562e-30</td>\n",
       "    </tr>\n",
       "    <tr>\n",
       "      <th>3</th>\n",
       "      <td>39439.719228</td>\n",
       "      <td>NaN</td>\n",
       "      <td>1.193054e-13</td>\n",
       "      <td>NaN</td>\n",
       "      <td>5.0</td>\n",
       "      <td>50.0</td>\n",
       "      <td>-11.25</td>\n",
       "      <td>7.4</td>\n",
       "      <td>5.0</td>\n",
       "      <td>0.5</td>\n",
       "      <td>...</td>\n",
       "      <td>22.098760</td>\n",
       "      <td>22.026860</td>\n",
       "      <td>183515.800000</td>\n",
       "      <td>848.380772</td>\n",
       "      <td>65.994841</td>\n",
       "      <td>2.341071e+14</td>\n",
       "      <td>1.759464e-29</td>\n",
       "      <td>1.655674e+14</td>\n",
       "      <td>3.517706e-29</td>\n",
       "      <td>3.791072e-30</td>\n",
       "    </tr>\n",
       "    <tr>\n",
       "      <th>4</th>\n",
       "      <td>38637.450901</td>\n",
       "      <td>NaN</td>\n",
       "      <td>1.678433e-13</td>\n",
       "      <td>NaN</td>\n",
       "      <td>5.0</td>\n",
       "      <td>100.0</td>\n",
       "      <td>-11.25</td>\n",
       "      <td>7.4</td>\n",
       "      <td>5.0</td>\n",
       "      <td>0.5</td>\n",
       "      <td>...</td>\n",
       "      <td>24.360437</td>\n",
       "      <td>22.104863</td>\n",
       "      <td>183447.000000</td>\n",
       "      <td>1031.326559</td>\n",
       "      <td>87.290293</td>\n",
       "      <td>3.204529e+14</td>\n",
       "      <td>1.267869e-29</td>\n",
       "      <td>1.864315e+14</td>\n",
       "      <td>3.745970e-29</td>\n",
       "      <td>2.990015e-30</td>\n",
       "    </tr>\n",
       "  </tbody>\n",
       "</table>\n",
       "<p>5 rows × 36 columns</p>\n",
       "</div>"
      ],
      "text/plain": [
       "             N0  alpha         gamma   b  TOF  latticeDepth_mW  \\\n",
       "0  40428.183883    NaN  4.165523e-14 NaN  5.0              1.0   \n",
       "1  40508.730224    NaN  5.312772e-14 NaN  5.0              5.0   \n",
       "2  41642.499233    NaN  1.146379e-13 NaN  5.0             15.0   \n",
       "3  39439.719228    NaN  1.193054e-13 NaN  5.0             50.0   \n",
       "4  38637.450901    NaN  1.678433e-13 NaN  5.0            100.0   \n",
       "\n",
       "   latticeDetuning_GHz  compz  ODT3_Comp_final  ODT12_pre_lattice  ...  \\\n",
       "0               -11.25    7.4              5.0                0.5  ...   \n",
       "1               -11.25    7.4              5.0                0.5  ...   \n",
       "2               -11.25    7.4              5.0                0.5  ...   \n",
       "3               -11.25    7.4              5.0                0.5  ...   \n",
       "4               -11.25    7.4              5.0                0.5  ...   \n",
       "\n",
       "      xWidth     yWidth        imageID  temperature_nK  \\\n",
       "0  18.875571  19.372600  183464.000000      619.042389   \n",
       "1  18.930067  19.197300  183488.000000      622.549727   \n",
       "2  19.480543  19.470300  183456.428571      659.130512   \n",
       "3  22.098760  22.026860  183515.800000      848.380772   \n",
       "4  24.360437  22.104863  183447.000000     1031.326559   \n",
       "\n",
       "   effectiveTrapFrequencyZ_kHz  density_constantT  beta_constantT  \\\n",
       "0                    16.836242       9.497223e+13    3.922172e-29   \n",
       "1                    28.127648       1.258254e+14    2.861300e-29   \n",
       "2                    41.587990       1.660501e+14    3.746326e-29   \n",
       "3                    65.994841       2.341071e+14    1.759464e-29   \n",
       "4                    87.290293       3.204529e+14    1.267869e-29   \n",
       "\n",
       "   density_temperature  beta_temperature  beta_temperature_limit  \n",
       "0         9.205078e+13      4.175081e-29            1.226470e-29  \n",
       "1         1.212678e+14      3.080413e-29            7.066763e-30  \n",
       "2         1.511537e+14      4.521118e-29            4.548562e-30  \n",
       "3         1.655674e+14      3.517706e-29            3.791072e-30  \n",
       "4         1.864315e+14      3.745970e-29            2.990015e-30  \n",
       "\n",
       "[5 rows x 36 columns]"
      ]
     },
     "execution_count": 46,
     "metadata": {},
     "output_type": "execute_result"
    }
   ],
   "source": [
    "results.head()"
   ]
  },
  {
   "cell_type": "code",
   "execution_count": 47,
   "metadata": {},
   "outputs": [
    {
     "data": {
      "image/png": "[encoded data removed]",
      "text/plain": [
       "<Figure size 432x288 with 1 Axes>"
      ]
     },
     "metadata": {
      "needs_background": "light"
     },
     "output_type": "display_data"
    }
   ],
   "source": [
    "plt.figure()\n",
    "i = 0\n",
    "\n",
    "for latticeDetuning in latticeDetuningList:\n",
    "    decay_notlossy = getSubDF(results, ['latticeDetuning_GHz', 'compz'], [latticeDetuning, compz_not_lossy])\n",
    "    decay_lossy = getSubDF(results, ['latticeDetuning_GHz', 'compz'], [latticeDetuning, compz_lossy])\n",
    "    plt.plot(decay_notlossy['trapFrequencyZ_kHz'], decay_notlossy['temperature_nK'], color = colors[i], marker = 'o', label = latticeDetuning)\n",
    "    plt.plot(decay_lossy['trapFrequencyZ_kHz'], decay_lossy['temperature_nK'], color = colors[i], marker = '+')\n",
    "    i += 1\n",
    "plt.legend()\n",
    "#plt.ylim(0, 1000)\n",
    "#plt.xlim(0,20)\n",
    "plt.xlabel('Trap frequency in kHz')\n",
    "plt.ylabel(r'T (nk)')\n",
    "plt.title('Initial temperature near the feshbach \\n resonance (+) and away (circles) using initial temperature')\n",
    "plt.savefig('density.jpg', dpi = 300, transparent = False)\n",
    "plt.show()"
   ]
  },
  {
   "cell_type": "code",
   "execution_count": 48,
   "metadata": {},
   "outputs": [
    {
     "data": {
      "text/plain": [
       "array([  1.,   5.,  15.,  50., 100., 160.])"
      ]
     },
     "execution_count": 48,
     "metadata": {},
     "output_type": "execute_result"
    }
   ],
   "source": [
    "latticeDepthList"
   ]
  },
  {
   "cell_type": "code",
   "execution_count": 49,
   "metadata": {},
   "outputs": [
    {
     "data": {
      "text/plain": [
       "Index(['N0', 'alpha', 'gamma', 'b', 'TOF', 'latticeDepth_mW',\n",
       "       'latticeDetuning_GHz', 'compz', 'ODT3_Comp_final', 'ODT12_pre_lattice',\n",
       "       'ODT3_pre_lattice', 'nCount', 'xPos', 'yPos', 'isotope',\n",
       "       'xWidth_TOF_h_um', 'zWidth_TOF_h_um', 'trapFrequencyZ_kHz',\n",
       "       'deconfiningTrapFrequency_Hz', 'bareTrapFrequencyX_Hz',\n",
       "       'bareTrapFrequencyY_Hz', 'bareTrapFrequencyZ_Hz', 'trapFrequencyX_Hz',\n",
       "       'trapFrequencyY_Hz', 'BECHoldTime', 'dummy', 'xWidth', 'yWidth',\n",
       "       'imageID', 'temperature_nK', 'effectiveTrapFrequencyZ_kHz',\n",
       "       'density_constantT', 'beta_constantT', 'density_temperature',\n",
       "       'beta_temperature', 'beta_temperature_limit'],\n",
       "      dtype='object')"
      ]
     },
     "execution_count": 49,
     "metadata": {},
     "output_type": "execute_result"
    }
   ],
   "source": [
    "results.columns"
   ]
  },
  {
   "cell_type": "code",
   "execution_count": 50,
   "metadata": {},
   "outputs": [
    {
     "data": {
      "image/png": "[encoded data removed]",
      "text/plain": [
       "<Figure size 432x288 with 1 Axes>"
      ]
     },
     "metadata": {
      "needs_background": "light"
     },
     "output_type": "display_data"
    }
   ],
   "source": [
    "# Plot of the time constant\n",
    "plt.figure()\n",
    "for latticeDetuning in latticeDetuningList:\n",
    "    results_temp = getSubDF(resultsDF_pure, ['latticeDetuning_GHz', 'compz'], [latticeDetuning, compz_lossy])\n",
    "    plt.plot(results_temp['latticeDepth_mW'], results_temp['TOF'], 'o', label = latticeDetuning)\n",
    "    results_temp = getSubDF(resultsDF_pure, ['latticeDetuning_GHz', 'compz'], [latticeDetuning, compz_not_lossy])\n",
    "    plt.plot(results_temp['latticeDepth_mW'], results_temp['TOF'], 'o', label = latticeDetuning, color = 'red')\n",
    "plt.legend()\n",
    "plt.title('Time of flight used')\n",
    "plt.xlabel('Trap frequency (kHz)')\n",
    "plt.ylabel('Time of flight')\n",
    "#plt.ylim(0,80)\n",
    "plt.show()"
   ]
  },
  {
   "cell_type": "code",
   "execution_count": 51,
   "metadata": {},
   "outputs": [
    {
     "data": {
      "image/png": "[encoded data removed]",
      "text/plain": [
       "<Figure size 432x288 with 1 Axes>"
      ]
     },
     "metadata": {
      "needs_background": "light"
     },
     "output_type": "display_data"
    }
   ],
   "source": [
    "# Plot of the time constant\n",
    "plt.figure()\n",
    "for latticeDetuning in latticeDetuningList:\n",
    "    results_temp = getSubDF(resultsDF_pure, ['latticeDetuning_GHz', 'compz'], [latticeDetuning, compz_not_lossy])\n",
    "    plt.plot(results_temp['trapFrequencyZ_kHz'], 1/(results_temp['N0']**2*results_temp['gamma']), 'o', label = latticeDetuning)\n",
    "plt.legend()\n",
    "plt.title('Time constant with the 3b fit')\n",
    "plt.xlabel('Trap frequency (kHz)')\n",
    "plt.ylabel('Time constant (ms)')\n",
    "#plt.ylim(0,80)\n",
    "plt.show()"
   ]
  },
  {
   "cell_type": "code",
   "execution_count": 52,
   "metadata": {},
   "outputs": [
    {
     "data": {
      "image/png": "[encoded data removed]",
      "text/plain": [
       "<Figure size 432x288 with 1 Axes>"
      ]
     },
     "metadata": {
      "needs_background": "light"
     },
     "output_type": "display_data"
    }
   ],
   "source": [
    "# Plot of the time constant\n",
    "plt.figure()\n",
    "for latticeDetuning in latticeDetuningList:\n",
    "    results_temp = getSubDF(resultsDF_mix, ['latticeDetuning_GHz'], [latticeDetuning])\n",
    "    plt.plot(results_temp['trapFrequencyZ_kHz'], 1/(results_temp['N0']**2*results_temp['gamma']), 'o', label = latticeDetuning)\n",
    "plt.legend()\n",
    "plt.title('Time constant with the 1b+3b fit')\n",
    "plt.xlabel('Trap frequency (kHz)')\n",
    "plt.ylabel('Time constant (ms)')\n",
    "plt.ylim(0,500)\n",
    "plt.show()"
   ]
  },
  {
   "cell_type": "code",
   "execution_count": 53,
   "metadata": {},
   "outputs": [
    {
     "data": {
      "image/png": "[encoded data removed]",
      "text/plain": [
       "<Figure size 432x288 with 1 Axes>"
      ]
     },
     "metadata": {
      "needs_background": "light"
     },
     "output_type": "display_data"
    }
   ],
   "source": [
    "# Plot of the time constant\n",
    "plt.figure()\n",
    "for latticeDetuning in latticeDetuningList:\n",
    "    results_temp = getSubDF(resultsDF_mix, ['latticeDetuning_GHz'], [latticeDetuning])\n",
    "    plt.plot(results_temp['trapFrequencyZ_kHz'], 1/results_temp['alpha'], 'o', label = latticeDetuning)\n",
    "plt.legend()\n",
    "plt.title('One body decay from the 1b+3b fit')\n",
    "plt.xlabel('Trap frequency (kHz)')\n",
    "plt.ylabel(r'Time constant 1b $1/\\alpha$ (ms)')\n",
    "plt.ylim(0,500)\n",
    "plt.show()"
   ]
  },
  {
   "cell_type": "markdown",
   "metadata": {},
   "source": [
    "Adiabatic criterion. What is the real one?\n",
    "\n",
    "Blue case: the smallest radial trap frequencies are about 200Hz with ODT3Comp = 5. Which means about 0.5ms should be fine and still adiabatic for the $z$ direction (starts at 3kHz). This trap frequency remains in the vicinity and might diminish to ~100Hz. It's best to be too fast than too slow in order not to change the temperature measurement.\n",
    "\n",
    "Red case: smallest depends on the ODTFactor, but taking -20GHz and 0.2mW with ODTFactor = 4 we have 140Hz in X and 60Hz in Y. Agains starting at 0.5ms sounds good. -1GHz 120mW will be closer to 2kHz trap frequency while the Z is 300kHz, so 10 $\\mu$s is good there.\n",
    "\n",
    "A good formula would be $500\\mu$s constant in the blue case and then noticing that $100$mW and -2GHz gives about 240kHz trap frequency, which is suitable for 10$\\mu$s ramping time, then something that goes inversly propotionnal to $\\sqrt{\\frac{P/100}{\\Delta/2}}$ is good. You want to saturate at 500$\\mu$s at 0 power so:\n",
    "\\[\\tau = max\\left(\\frac{10 \\mu s}{\\frac{10}{500} + \\sqrt{\\frac{P/100}{\\Delta/2}}}, 10\\mu s\\right)\\]"
   ]
  },
  {
   "cell_type": "code",
   "execution_count": 54,
   "metadata": {},
   "outputs": [
    {
     "data": {
      "image/png": "[encoded data removed]",
      "text/plain": [
       "<Figure size 432x288 with 1 Axes>"
      ]
     },
     "metadata": {
      "needs_background": "light"
     },
     "output_type": "display_data"
    }
   ],
   "source": [
    "X = np.linspace(0.1/85, 120, 100000)   # X = P/Delta\n",
    "Y = 10/(10/500+np.sqrt(X/50))\n",
    "plt.figure()\n",
    "plt.semilogx(X, Y)\n",
    "plt.ylabel(r'$\\tau$ in $\\mu$s')\n",
    "plt.xlabel(r'$P/\\Delta$ in mW/GHz')\n",
    "plt.xlim(0.0001, 120)\n",
    "plt.show()"
   ]
  },
  {
   "cell_type": "markdown",
   "metadata": {},
   "source": [
    "## Temperature plots"
   ]
  },
  {
   "cell_type": "code",
   "execution_count": 55,
   "metadata": {},
   "outputs": [],
   "source": [
    "latticeDepth = 1\n",
    "latticeDetuning = -11.25\n",
    "compz = compz_not_lossy\n",
    "df_tempZ = getSubDF(df, ['latticeDepth_mW', 'latticeDetuning_GHz', 'compz'], [latticeDepth, latticeDetuning, compz])\n",
    "time = np.linspace(0, 3000, 10000)"
   ]
  },
  {
   "cell_type": "code",
   "execution_count": 56,
   "metadata": {},
   "outputs": [
    {
     "data": {
      "text/html": [
       "<div>\n",
       "<style scoped>\n",
       "    .dataframe tbody tr th:only-of-type {\n",
       "        vertical-align: middle;\n",
       "    }\n",
       "\n",
       "    .dataframe tbody tr th {\n",
       "        vertical-align: top;\n",
       "    }\n",
       "\n",
       "    .dataframe thead th {\n",
       "        text-align: right;\n",
       "    }\n",
       "</style>\n",
       "<table border=\"1\" class=\"dataframe\">\n",
       "  <thead>\n",
       "    <tr style=\"text-align: right;\">\n",
       "      <th></th>\n",
       "      <th>nCount</th>\n",
       "      <th>temperature_nK</th>\n",
       "      <th>BECHoldTime</th>\n",
       "    </tr>\n",
       "  </thead>\n",
       "  <tbody>\n",
       "    <tr>\n",
       "      <th>0</th>\n",
       "      <td>32280.0</td>\n",
       "      <td>577.253969</td>\n",
       "      <td>5.0</td>\n",
       "    </tr>\n",
       "    <tr>\n",
       "      <th>1</th>\n",
       "      <td>31699.0</td>\n",
       "      <td>1217.277305</td>\n",
       "      <td>5000.0</td>\n",
       "    </tr>\n",
       "    <tr>\n",
       "      <th>2</th>\n",
       "      <td>42147.0</td>\n",
       "      <td>677.229861</td>\n",
       "      <td>10.0</td>\n",
       "    </tr>\n",
       "    <tr>\n",
       "      <th>3</th>\n",
       "      <td>40154.0</td>\n",
       "      <td>592.122852</td>\n",
       "      <td>5.0</td>\n",
       "    </tr>\n",
       "    <tr>\n",
       "      <th>4</th>\n",
       "      <td>39914.0</td>\n",
       "      <td>836.242918</td>\n",
       "      <td>1000.0</td>\n",
       "    </tr>\n",
       "    <tr>\n",
       "      <th>5</th>\n",
       "      <td>40602.0</td>\n",
       "      <td>739.760685</td>\n",
       "      <td>100.0</td>\n",
       "    </tr>\n",
       "    <tr>\n",
       "      <th>6</th>\n",
       "      <td>39860.0</td>\n",
       "      <td>747.472968</td>\n",
       "      <td>200.0</td>\n",
       "    </tr>\n",
       "    <tr>\n",
       "      <th>7</th>\n",
       "      <td>30707.0</td>\n",
       "      <td>1237.361041</td>\n",
       "      <td>5000.0</td>\n",
       "    </tr>\n",
       "    <tr>\n",
       "      <th>8</th>\n",
       "      <td>44657.0</td>\n",
       "      <td>749.629182</td>\n",
       "      <td>200.0</td>\n",
       "    </tr>\n",
       "    <tr>\n",
       "      <th>9</th>\n",
       "      <td>35404.0</td>\n",
       "      <td>1150.856543</td>\n",
       "      <td>3000.0</td>\n",
       "    </tr>\n",
       "    <tr>\n",
       "      <th>10</th>\n",
       "      <td>40164.0</td>\n",
       "      <td>627.778897</td>\n",
       "      <td>5.0</td>\n",
       "    </tr>\n",
       "    <tr>\n",
       "      <th>11</th>\n",
       "      <td>33739.0</td>\n",
       "      <td>711.187028</td>\n",
       "      <td>100.0</td>\n",
       "    </tr>\n",
       "    <tr>\n",
       "      <th>12</th>\n",
       "      <td>38407.0</td>\n",
       "      <td>719.901575</td>\n",
       "      <td>50.0</td>\n",
       "    </tr>\n",
       "    <tr>\n",
       "      <th>13</th>\n",
       "      <td>36518.0</td>\n",
       "      <td>1041.177995</td>\n",
       "      <td>2000.0</td>\n",
       "    </tr>\n",
       "    <tr>\n",
       "      <th>14</th>\n",
       "      <td>39933.0</td>\n",
       "      <td>732.787466</td>\n",
       "      <td>50.0</td>\n",
       "    </tr>\n",
       "    <tr>\n",
       "      <th>15</th>\n",
       "      <td>34624.0</td>\n",
       "      <td>1132.723213</td>\n",
       "      <td>3000.0</td>\n",
       "    </tr>\n",
       "    <tr>\n",
       "      <th>16</th>\n",
       "      <td>30708.0</td>\n",
       "      <td>1212.013628</td>\n",
       "      <td>5000.0</td>\n",
       "    </tr>\n",
       "    <tr>\n",
       "      <th>17</th>\n",
       "      <td>36461.0</td>\n",
       "      <td>1103.104020</td>\n",
       "      <td>3000.0</td>\n",
       "    </tr>\n",
       "    <tr>\n",
       "      <th>18</th>\n",
       "      <td>32745.0</td>\n",
       "      <td>882.232963</td>\n",
       "      <td>1000.0</td>\n",
       "    </tr>\n",
       "    <tr>\n",
       "      <th>19</th>\n",
       "      <td>37633.0</td>\n",
       "      <td>930.064833</td>\n",
       "      <td>1000.0</td>\n",
       "    </tr>\n",
       "    <tr>\n",
       "      <th>20</th>\n",
       "      <td>47952.0</td>\n",
       "      <td>660.840542</td>\n",
       "      <td>10.0</td>\n",
       "    </tr>\n",
       "    <tr>\n",
       "      <th>21</th>\n",
       "      <td>36688.0</td>\n",
       "      <td>1046.116718</td>\n",
       "      <td>2000.0</td>\n",
       "    </tr>\n",
       "    <tr>\n",
       "      <th>22</th>\n",
       "      <td>48587.0</td>\n",
       "      <td>624.145313</td>\n",
       "      <td>5.0</td>\n",
       "    </tr>\n",
       "    <tr>\n",
       "      <th>23</th>\n",
       "      <td>39832.0</td>\n",
       "      <td>818.728478</td>\n",
       "      <td>500.0</td>\n",
       "    </tr>\n",
       "    <tr>\n",
       "      <th>24</th>\n",
       "      <td>40802.0</td>\n",
       "      <td>637.564384</td>\n",
       "      <td>10.0</td>\n",
       "    </tr>\n",
       "    <tr>\n",
       "      <th>25</th>\n",
       "      <td>33667.0</td>\n",
       "      <td>1008.816889</td>\n",
       "      <td>2000.0</td>\n",
       "    </tr>\n",
       "    <tr>\n",
       "      <th>26</th>\n",
       "      <td>41397.0</td>\n",
       "      <td>722.499365</td>\n",
       "      <td>200.0</td>\n",
       "    </tr>\n",
       "    <tr>\n",
       "      <th>27</th>\n",
       "      <td>41779.0</td>\n",
       "      <td>744.629219</td>\n",
       "      <td>100.0</td>\n",
       "    </tr>\n",
       "    <tr>\n",
       "      <th>28</th>\n",
       "      <td>43854.0</td>\n",
       "      <td>623.546225</td>\n",
       "      <td>5.0</td>\n",
       "    </tr>\n",
       "    <tr>\n",
       "      <th>29</th>\n",
       "      <td>37140.0</td>\n",
       "      <td>726.948375</td>\n",
       "      <td>50.0</td>\n",
       "    </tr>\n",
       "    <tr>\n",
       "      <th>30</th>\n",
       "      <td>39114.0</td>\n",
       "      <td>639.775881</td>\n",
       "      <td>5.0</td>\n",
       "    </tr>\n",
       "    <tr>\n",
       "      <th>31</th>\n",
       "      <td>35507.0</td>\n",
       "      <td>759.250736</td>\n",
       "      <td>100.0</td>\n",
       "    </tr>\n",
       "    <tr>\n",
       "      <th>32</th>\n",
       "      <td>36813.0</td>\n",
       "      <td>882.624452</td>\n",
       "      <td>500.0</td>\n",
       "    </tr>\n",
       "    <tr>\n",
       "      <th>33</th>\n",
       "      <td>39833.0</td>\n",
       "      <td>648.673583</td>\n",
       "      <td>5.0</td>\n",
       "    </tr>\n",
       "    <tr>\n",
       "      <th>34</th>\n",
       "      <td>34149.0</td>\n",
       "      <td>1040.242658</td>\n",
       "      <td>2000.0</td>\n",
       "    </tr>\n",
       "    <tr>\n",
       "      <th>35</th>\n",
       "      <td>41383.0</td>\n",
       "      <td>627.296891</td>\n",
       "      <td>10.0</td>\n",
       "    </tr>\n",
       "  </tbody>\n",
       "</table>\n",
       "</div>"
      ],
      "text/plain": [
       "     nCount  temperature_nK  BECHoldTime\n",
       "0   32280.0      577.253969          5.0\n",
       "1   31699.0     1217.277305       5000.0\n",
       "2   42147.0      677.229861         10.0\n",
       "3   40154.0      592.122852          5.0\n",
       "4   39914.0      836.242918       1000.0\n",
       "5   40602.0      739.760685        100.0\n",
       "6   39860.0      747.472968        200.0\n",
       "7   30707.0     1237.361041       5000.0\n",
       "8   44657.0      749.629182        200.0\n",
       "9   35404.0     1150.856543       3000.0\n",
       "10  40164.0      627.778897          5.0\n",
       "11  33739.0      711.187028        100.0\n",
       "12  38407.0      719.901575         50.0\n",
       "13  36518.0     1041.177995       2000.0\n",
       "14  39933.0      732.787466         50.0\n",
       "15  34624.0     1132.723213       3000.0\n",
       "16  30708.0     1212.013628       5000.0\n",
       "17  36461.0     1103.104020       3000.0\n",
       "18  32745.0      882.232963       1000.0\n",
       "19  37633.0      930.064833       1000.0\n",
       "20  47952.0      660.840542         10.0\n",
       "21  36688.0     1046.116718       2000.0\n",
       "22  48587.0      624.145313          5.0\n",
       "23  39832.0      818.728478        500.0\n",
       "24  40802.0      637.564384         10.0\n",
       "25  33667.0     1008.816889       2000.0\n",
       "26  41397.0      722.499365        200.0\n",
       "27  41779.0      744.629219        100.0\n",
       "28  43854.0      623.546225          5.0\n",
       "29  37140.0      726.948375         50.0\n",
       "30  39114.0      639.775881          5.0\n",
       "31  35507.0      759.250736        100.0\n",
       "32  36813.0      882.624452        500.0\n",
       "33  39833.0      648.673583          5.0\n",
       "34  34149.0     1040.242658       2000.0\n",
       "35  41383.0      627.296891         10.0"
      ]
     },
     "execution_count": 56,
     "metadata": {},
     "output_type": "execute_result"
    }
   ],
   "source": [
    "df_tempZ[['nCount', 'temperature_nK', 'BECHoldTime']]"
   ]
  },
  {
   "cell_type": "code",
   "execution_count": 57,
   "metadata": {},
   "outputs": [
    {
     "data": {
      "image/png": "[encoded data removed]",
      "text/plain": [
       "<Figure size 432x288 with 1 Axes>"
      ]
     },
     "metadata": {
      "needs_background": "light"
     },
     "output_type": "display_data"
    }
   ],
   "source": [
    "plt.figure()\n",
    "plt.plot(df_tempZ['BECHoldTime'], df_tempZ['temperature_nK']**3/df_tempZ['nCount']**2, '+')\n",
    "# I should actually correct for the density\n",
    "plt.show()"
   ]
  },
  {
   "cell_type": "code",
   "execution_count": 58,
   "metadata": {},
   "outputs": [
    {
     "data": {
      "image/png": "[encoded data removed]",
      "text/plain": [
       "<Figure size 432x288 with 2 Axes>"
      ]
     },
     "metadata": {
      "needs_background": "light"
     },
     "output_type": "display_data"
    },
    {
     "data": {
      "text/plain": [
       "\"\\n# Create some mock data\\nt = np.arange(0.01, 10.0, 0.01)\\ndata1 = np.exp(t)\\ndata2 = np.sin(2 * np.pi * t)\\n\\n\\ncolor = 'tab:red'\\nax1.set_xlabel('time (s)')\\nax1.set_ylabel('exp', color=color)\\nax1.plot(t, data1, color=color)\\nax1.tick_params(axis='y', labelcolor=color)\\n\\nax2 = ax1.twinx()  # instantiate a second axes that shares the same x-axis\\n\\ncolor = 'tab:blue'\\nax2.set_ylabel('sin', color=color)  # we already handled the x-label with ax1\\nax2.plot(t, data2, color=color)\\nax2.tick_params(axis='y', labelcolor=color)\\n\\nfig.tight_layout()  # otherwise the right y-label is slightly clipped\\nplt.show()\""
      ]
     },
     "execution_count": 58,
     "metadata": {},
     "output_type": "execute_result"
    }
   ],
   "source": [
    "resultZ = getSubDF(resultsDF_pure, ['latticeDepth_mW', 'latticeDetuning_GHz', 'compz'], [latticeDepth, latticeDetuning, compz])\n",
    "\n",
    "NZ, gammaZ = resultZ[['N0', 'gamma']].iloc[0,:]\n",
    "Z = N_polarized_pure3b(time, NZ, gammaZ)\n",
    "\n",
    "fig, ax1 = plt.subplots()\n",
    "ax1.set_xlabel('BECHoldTime (ms)')\n",
    "ax1.set_ylabel('nCount')\n",
    "ax1.plot(df_tempZ['BECHoldTime'], df_tempZ['nCount'], '+', label = str(round(latticeDepth, 2)) + \" nC\")\n",
    "ax1.plot(time, Z, '-', label = 'fitZ')\n",
    "ax1.set_xlim(0,500)\n",
    "\n",
    "ax2 = ax1.twinx()  # instantiate a second axes that shares the same x-axis\n",
    "ax2.set_ylabel('temerature')  # we already handled the x-label with ax1\n",
    "ax2.plot(df_tempZ['BECHoldTime'], df_tempZ['temperature_nK'], '+', color = 'red', label = str(round(latticeDepth, 2)) + ' T')\n",
    "ax2.set_ylim(0,2000)\n",
    "fig.legend()\n",
    "#fig.tight_layout()\n",
    "#plt.ylim(0, 20000)\n",
    "#plt.xlim(0,10)\n",
    "\n",
    "plt.show()\n",
    "\n",
    "\"\"\"\n",
    "# Create some mock data\n",
    "t = np.arange(0.01, 10.0, 0.01)\n",
    "data1 = np.exp(t)\n",
    "data2 = np.sin(2 * np.pi * t)\n",
    "\n",
    "\n",
    "color = 'tab:red'\n",
    "ax1.set_xlabel('time (s)')\n",
    "ax1.set_ylabel('exp', color=color)\n",
    "ax1.plot(t, data1, color=color)\n",
    "ax1.tick_params(axis='y', labelcolor=color)\n",
    "\n",
    "ax2 = ax1.twinx()  # instantiate a second axes that shares the same x-axis\n",
    "\n",
    "color = 'tab:blue'\n",
    "ax2.set_ylabel('sin', color=color)  # we already handled the x-label with ax1\n",
    "ax2.plot(t, data2, color=color)\n",
    "ax2.tick_params(axis='y', labelcolor=color)\n",
    "\n",
    "fig.tight_layout()  # otherwise the right y-label is slightly clipped\n",
    "plt.show()\"\"\""
   ]
  },
  {
   "cell_type": "code",
   "execution_count": 59,
   "metadata": {},
   "outputs": [
    {
     "data": {
      "text/html": [
       "<div>\n",
       "<style scoped>\n",
       "    .dataframe tbody tr th:only-of-type {\n",
       "        vertical-align: middle;\n",
       "    }\n",
       "\n",
       "    .dataframe tbody tr th {\n",
       "        vertical-align: top;\n",
       "    }\n",
       "\n",
       "    .dataframe thead th {\n",
       "        text-align: right;\n",
       "    }\n",
       "</style>\n",
       "<table border=\"1\" class=\"dataframe\">\n",
       "  <thead>\n",
       "    <tr style=\"text-align: right;\">\n",
       "      <th></th>\n",
       "      <th>xWidth</th>\n",
       "      <th>yWidth</th>\n",
       "      <th>xPos</th>\n",
       "      <th>yPos</th>\n",
       "      <th>imageID</th>\n",
       "      <th>isotope</th>\n",
       "      <th>run</th>\n",
       "      <th>xWidth_TOF_h_um</th>\n",
       "      <th>zWidth_TOF_h_um</th>\n",
       "      <th>trapFrequencyZ_kHz</th>\n",
       "      <th>deconfiningTrapFrequency_Hz</th>\n",
       "      <th>bareTrapFrequencyX_Hz</th>\n",
       "      <th>bareTrapFrequencyY_Hz</th>\n",
       "      <th>bareTrapFrequencyZ_Hz</th>\n",
       "      <th>trapFrequencyX_Hz</th>\n",
       "      <th>trapFrequencyY_Hz</th>\n",
       "      <th>temperature_nK</th>\n",
       "    </tr>\n",
       "  </thead>\n",
       "  <tbody>\n",
       "  </tbody>\n",
       "</table>\n",
       "</div>"
      ],
      "text/plain": [
       "Empty DataFrame\n",
       "Columns: [xWidth, yWidth, xPos, yPos, imageID, isotope, run, xWidth_TOF_h_um, zWidth_TOF_h_um, trapFrequencyZ_kHz, deconfiningTrapFrequency_Hz, bareTrapFrequencyX_Hz, bareTrapFrequencyY_Hz, bareTrapFrequencyZ_Hz, trapFrequencyX_Hz, trapFrequencyY_Hz, temperature_nK]\n",
       "Index: []"
      ]
     },
     "execution_count": 59,
     "metadata": {},
     "output_type": "execute_result"
    }
   ],
   "source": [
    "df_tempZ[df_tempZ['temperature_nK'] < 250].iloc[:,10:35]"
   ]
  },
  {
   "cell_type": "markdown",
   "metadata": {},
   "source": [
    "Calculate the velocity to temperature conversion. Here $\\sigma = \\sqrt{\\sigma_0^{2}+(\\sigma_{v}t)^{2}}$ is fitted from a gaussian distribution $\\exp(-\\frac{1}{2}\\frac{x^{2}}{\\sigma^{2}})$ where $x = vt$, so $v$ is distributed like a gaussian with width $\\sigma_{v}$ which is the result of the fit $P(v) \\sim \\exp(-\\frac{1}{2}\\frac{v^{2}}{\\sigma_{v}^{2}}) \\sim \\exp(-\\frac{\\frac{1}{2}mv^{2}}{k_{B}T})$. Therefore we find:\n",
    "\\[ \\sigma_{v} = \\sqrt{\\frac{k_{B}T}{m}}\\]"
   ]
  },
  {
   "cell_type": "code",
   "execution_count": 60,
   "metadata": {},
   "outputs": [
    {
     "ename": "NameError",
     "evalue": "name 'resultsDF_sigma' is not defined",
     "output_type": "error",
     "traceback": [
      "\u001b[0;31m---------------------------------------------------------------------------\u001b[0m",
      "\u001b[0;31mNameError\u001b[0m                                 Traceback (most recent call last)",
      "\u001b[0;32m<ipython-input-60-82a0330c5cdb>\u001b[0m in \u001b[0;36m<module>\u001b[0;34m\u001b[0m\n\u001b[1;32m      4\u001b[0m \u001b[0mtof_unit\u001b[0m \u001b[0;34m=\u001b[0m \u001b[0;36m10\u001b[0m\u001b[0;34m**\u001b[0m\u001b[0;34m(\u001b[0m\u001b[0;34m-\u001b[0m\u001b[0;36m3\u001b[0m\u001b[0;34m)\u001b[0m\u001b[0;34m\u001b[0m\u001b[0;34m\u001b[0m\u001b[0m\n\u001b[1;32m      5\u001b[0m \u001b[0;31m#magnification = 3\u001b[0m\u001b[0;34m\u001b[0m\u001b[0;34m\u001b[0m\u001b[0;34m\u001b[0m\u001b[0m\n\u001b[0;32m----> 6\u001b[0;31m \u001b[0mresultsDF_sigma\u001b[0m\u001b[0;34m[\u001b[0m\u001b[0;34m'temperature_Z'\u001b[0m\u001b[0;34m]\u001b[0m \u001b[0;34m=\u001b[0m \u001b[0mm_Dy\u001b[0m\u001b[0;34m*\u001b[0m\u001b[0;34m(\u001b[0m\u001b[0mresultsDF_sigma\u001b[0m\u001b[0;34m[\u001b[0m\u001b[0;34m'v_Z'\u001b[0m\u001b[0;34m]\u001b[0m\u001b[0;34m*\u001b[0m\u001b[0mpixel_size\u001b[0m\u001b[0;34m/\u001b[0m\u001b[0mmagnification\u001b[0m\u001b[0;34m/\u001b[0m\u001b[0mtof_unit\u001b[0m\u001b[0;34m)\u001b[0m\u001b[0;34m**\u001b[0m\u001b[0;36m2\u001b[0m\u001b[0;34m/\u001b[0m\u001b[0mk_B\u001b[0m\u001b[0;34m\u001b[0m\u001b[0;34m\u001b[0m\u001b[0m\n\u001b[0m\u001b[1;32m      7\u001b[0m \u001b[0mresultsDF_sigma\u001b[0m\u001b[0;34m[\u001b[0m\u001b[0;34m'temperature_trans'\u001b[0m\u001b[0;34m]\u001b[0m \u001b[0;34m=\u001b[0m \u001b[0mm_Dy\u001b[0m\u001b[0;34m*\u001b[0m\u001b[0;34m(\u001b[0m\u001b[0mresultsDF_sigma\u001b[0m\u001b[0;34m[\u001b[0m\u001b[0;34m'v_trans'\u001b[0m\u001b[0;34m]\u001b[0m\u001b[0;34m*\u001b[0m\u001b[0mpixel_size\u001b[0m\u001b[0;34m/\u001b[0m\u001b[0mmagnification\u001b[0m\u001b[0;34m/\u001b[0m\u001b[0mtof_unit\u001b[0m\u001b[0;34m)\u001b[0m\u001b[0;34m**\u001b[0m\u001b[0;36m2\u001b[0m\u001b[0;34m/\u001b[0m\u001b[0mk_B\u001b[0m\u001b[0;34m\u001b[0m\u001b[0;34m\u001b[0m\u001b[0m\n\u001b[1;32m      8\u001b[0m \u001b[0mresultsDF_sigma\u001b[0m\u001b[0;34m\u001b[0m\u001b[0;34m\u001b[0m\u001b[0m\n",
      "\u001b[0;31mNameError\u001b[0m: name 'resultsDF_sigma' is not defined"
     ]
    }
   ],
   "source": [
    "m_Dy = 164*1.66*10**(-27)\n",
    "k_B = 1.38*10**(-23)\n",
    "#pixel_size = 6.5*10**(-6)   ### Define that globally\n",
    "tof_unit = 10**(-3)\n",
    "#magnification = 3\n",
    "resultsDF_sigma['temperature_Z'] = m_Dy*(resultsDF_sigma['v_Z']*pixel_size/magnification/tof_unit)**2/k_B\n",
    "resultsDF_sigma['temperature_trans'] = m_Dy*(resultsDF_sigma['v_trans']*pixel_size/magnification/tof_unit)**2/k_B\n",
    "resultsDF_sigma"
   ]
  },
  {
   "cell_type": "code",
   "execution_count": null,
   "metadata": {},
   "outputs": [],
   "source": []
  },
  {
   "cell_type": "code",
   "execution_count": null,
   "metadata": {},
   "outputs": [],
   "source": []
  },
  {
   "cell_type": "markdown",
   "metadata": {},
   "source": []
  }
 ],
 "metadata": {
  "kernelspec": {
   "display_name": "Python 3",
   "language": "python",
   "name": "python3"
  },
  "language_info": {
   "codemirror_mode": {
    "name": "ipython",
    "version": 3
   },
   "file_extension": ".py",
   "mimetype": "text/x-python",
   "name": "python",
   "nbconvert_exporter": "python",
   "pygments_lexer": "ipython3",
   "version": "3.9.0"
  },
  "latex_envs": {
   "LaTeX_envs_menu_present": true,
   "autoclose": false,
   "autocomplete": true,
   "bibliofile": "biblio.bib",
   "cite_by": "apalike",
   "current_citInitial": 1,
   "eqLabelWithNumbers": true,
   "eqNumInitial": 1,
   "hotkeys": {
    "equation": "Ctrl-E",
    "itemize": "Ctrl-I"
   },
   "labels_anchors": false,
   "latex_user_defs": false,
   "report_style_numbering": false,
   "user_envs_cfg": false
  }
 },
 "nbformat": 4,
 "nbformat_minor": 4
}
