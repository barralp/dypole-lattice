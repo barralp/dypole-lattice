{
 "cells": [
  {
   "cell_type": "code",
   "execution_count": 38,
   "metadata": {},
   "outputs": [],
   "source": [
    "from databaseCommunication import readDatabaseFile, createDataFrame_list\n",
    "from dataframeFormating import createLabeledDataFrame_list #, N_polarized_pure3b, N_polarized, N_linear, getReducedDataframe, getReducedResults, \n",
    "from calculation import trapFrequency, getSubDF, noiseFilter, renameUnits, dropExcluded, computeBareTrapFrequencies, computeTrapFrequencies\n",
    "from fit import fitDF, N_polarized_pure3b, N_polarized, N_linear\n",
    "import pandas as pd\n",
    "import numpy as np\n",
    "import matplotlib.pyplot as plt\n",
    "from scipy.optimize import curve_fit\n",
    "from parameters import *"
   ]
  },
  {
   "cell_type": "code",
   "execution_count": 47,
   "metadata": {},
   "outputs": [],
   "source": [
    "label_heads = []\n",
    "\n",
    "labels_TOF = [[[], [180219, 180400]],\n",
    "                ] # June 30th\n",
    "\n",
    "# All is with 162 isotope\n",
    "compz_not_lossy = 7.4\n",
    "compz_lossy = 7.83\n",
    "\n",
    "# Various detuning while keeping the trap depth constant\n",
    "# Cloud is hold for 500ms (7.4 field) or 50ms (7.83 field)\n",
    "# initial atom number = 4.5e4 in both (? really, that was for the previous experiment)\n",
    "\n",
    "\n",
    "excluded = [180240, 180241, 180244]"
   ]
  },
  {
   "cell_type": "code",
   "execution_count": 40,
   "metadata": {},
   "outputs": [],
   "source": [
    "ciceroVariables = ['BECHoldTime', 'TOF', 'latticeDepth_final', 'latticeDetuning', 'compz_rotation', 'ODT3_Comp_final', 'dummy']\n",
    "fitVariables = ['nCount', 'xWidth', 'yWidth', 'xPos', 'yPos']\n",
    "\n",
    "df_TOF = createLabeledDataFrame_list(labels_TOF, label_heads, ciceroVariables, fitVariables)\n",
    "for column in df_TOF.columns:\n",
    "    try:\n",
    "        df_TOF[column] = df_TOF[column].astype(float)\n",
    "    except:\n",
    "        pass\n",
    "df_TOF.to_pickle('data_save_210630_latticeDetuning.pickle')"
   ]
  },
  {
   "cell_type": "code",
   "execution_count": 41,
   "metadata": {},
   "outputs": [],
   "source": [
    "df_TOF = pd.read_pickle('data_save_210630_latticeDetuning.pickle')\n",
    "\n",
    "#### Noise filtering\n",
    "#df_TOF = noiseFilter(df_TOF, nMax = np.inf, nMin = 4000, xWidthMax = np.inf, yWidthMax = 100)\n",
    "#df_TOF =  noiseFilter(df_TOF, nMax = np.inf, nMin = 4000, xWidthMax = 100, xWidthMin = 4,  yWidthMax = 100, yWidthMin = 4)\n",
    "\n",
    "#df_TOF =  noiseFilter(df_TOF, nMax = np.inf, nMin = 3000, xWidthMax = 100, xWidthMin = 3,  yWidthMax = 100, yWidthMin = 3)\n",
    "#df_TOF =  noiseFilter(df_TOF, nMax = np.inf, nMin = 6000, xWidthMax = 300, xWidthMin = 3,  yWidthMax = 300, yWidthMin = 3)\n",
    "\n",
    "\n",
    "\n",
    "# add units and renames columns\n",
    "# it add xWidth_um and the inversion between X and Y is performed\n",
    "renameUnits(df_TOF, magnification = 4.38, cameraPixelSize = 6.5, axis = 'horizontal', experiment = 'TOF')\n",
    "\n",
    "# Delete these row indexes from dataFrame\n",
    "dropExcluded(df_TOF, excluded)"
   ]
  },
  {
   "cell_type": "code",
   "execution_count": 42,
   "metadata": {},
   "outputs": [
    {
     "ename": "KeyError",
     "evalue": "'ODTFactor'",
     "output_type": "error",
     "traceback": [
      "\u001b[0;31m---------------------------------------------------------------------------\u001b[0m",
      "\u001b[0;31mKeyError\u001b[0m                                  Traceback (most recent call last)",
      "\u001b[0;32m/usr/local/lib/python3.9/site-packages/pandas/core/indexes/base.py\u001b[0m in \u001b[0;36mget_loc\u001b[0;34m(self, key, method, tolerance)\u001b[0m\n\u001b[1;32m   3079\u001b[0m             \u001b[0;32mtry\u001b[0m\u001b[0;34m:\u001b[0m\u001b[0;34m\u001b[0m\u001b[0;34m\u001b[0m\u001b[0m\n\u001b[0;32m-> 3080\u001b[0;31m                 \u001b[0;32mreturn\u001b[0m \u001b[0mself\u001b[0m\u001b[0;34m.\u001b[0m\u001b[0m_engine\u001b[0m\u001b[0;34m.\u001b[0m\u001b[0mget_loc\u001b[0m\u001b[0;34m(\u001b[0m\u001b[0mcasted_key\u001b[0m\u001b[0;34m)\u001b[0m\u001b[0;34m\u001b[0m\u001b[0;34m\u001b[0m\u001b[0m\n\u001b[0m\u001b[1;32m   3081\u001b[0m             \u001b[0;32mexcept\u001b[0m \u001b[0mKeyError\u001b[0m \u001b[0;32mas\u001b[0m \u001b[0merr\u001b[0m\u001b[0;34m:\u001b[0m\u001b[0;34m\u001b[0m\u001b[0;34m\u001b[0m\u001b[0m\n",
      "\u001b[0;32mpandas/_libs/index.pyx\u001b[0m in \u001b[0;36mpandas._libs.index.IndexEngine.get_loc\u001b[0;34m()\u001b[0m\n",
      "\u001b[0;32mpandas/_libs/index.pyx\u001b[0m in \u001b[0;36mpandas._libs.index.IndexEngine.get_loc\u001b[0;34m()\u001b[0m\n",
      "\u001b[0;32mpandas/_libs/hashtable_class_helper.pxi\u001b[0m in \u001b[0;36mpandas._libs.hashtable.PyObjectHashTable.get_item\u001b[0;34m()\u001b[0m\n",
      "\u001b[0;32mpandas/_libs/hashtable_class_helper.pxi\u001b[0m in \u001b[0;36mpandas._libs.hashtable.PyObjectHashTable.get_item\u001b[0;34m()\u001b[0m\n",
      "\u001b[0;31mKeyError\u001b[0m: 'ODTFactor'",
      "\nThe above exception was the direct cause of the following exception:\n",
      "\u001b[0;31mKeyError\u001b[0m                                  Traceback (most recent call last)",
      "\u001b[0;32m<ipython-input-42-12ee8e8dbeea>\u001b[0m in \u001b[0;36m<module>\u001b[0;34m\u001b[0m\n\u001b[0;32m----> 1\u001b[0;31m \u001b[0mcomputeBareTrapFrequencies\u001b[0m\u001b[0;34m(\u001b[0m\u001b[0mdf_TOF\u001b[0m\u001b[0;34m,\u001b[0m \u001b[0mtrapFrequency_x\u001b[0m\u001b[0;34m,\u001b[0m \u001b[0mtrapFrequency_y\u001b[0m\u001b[0;34m,\u001b[0m \u001b[0mtrapFrequency_z\u001b[0m\u001b[0;34m,\u001b[0m \u001b[0mtrapFrequency_x_blue\u001b[0m\u001b[0;34m,\u001b[0m \u001b[0mtrapFrequency_y_blue\u001b[0m\u001b[0;34m)\u001b[0m\u001b[0;34m\u001b[0m\u001b[0;34m\u001b[0m\u001b[0m\n\u001b[0m\u001b[1;32m      2\u001b[0m \u001b[0;34m\u001b[0m\u001b[0m\n\u001b[1;32m      3\u001b[0m \u001b[0mcomputeTrapFrequencies\u001b[0m\u001b[0;34m(\u001b[0m\u001b[0mdf_TOF\u001b[0m\u001b[0;34m)\u001b[0m\u001b[0;34m\u001b[0m\u001b[0;34m\u001b[0m\u001b[0m\n",
      "\u001b[0;32m~/Documents/Scolaire/MIT/Graduate/1DLatticeExperiment/dypole-lattice/fitting/v4/calculation.py\u001b[0m in \u001b[0;36mcomputeBareTrapFrequencies\u001b[0;34m(df, trapFrequency_x, trapFrequency_y, trapFrequency_z, trapFrequency_x_blue, trapFrequency_y_blue)\u001b[0m\n\u001b[1;32m    141\u001b[0m     df['bareTrapFrequencyX_Hz'] = (\n\u001b[1;32m    142\u001b[0m                         (df['latticeDetuning_GHz'] > 0)*np.sqrt(\n\u001b[0;32m--> 143\u001b[0;31m                             \u001b[0;34m(\u001b[0m\u001b[0mtrapFrequency_x_blue\u001b[0m\u001b[0;34m*\u001b[0m\u001b[0mnp\u001b[0m\u001b[0;34m.\u001b[0m\u001b[0msqrt\u001b[0m\u001b[0;34m(\u001b[0m\u001b[0mdf\u001b[0m\u001b[0;34m[\u001b[0m\u001b[0;34m'ODT3_Comp_final'\u001b[0m\u001b[0;34m]\u001b[0m\u001b[0;34m/\u001b[0m\u001b[0;36m0.105\u001b[0m\u001b[0;34m)\u001b[0m\u001b[0;34m)\u001b[0m\u001b[0;34m**\u001b[0m\u001b[0;36m2\u001b[0m \u001b[0;34m+\u001b[0m \u001b[0mdf\u001b[0m\u001b[0;34m[\u001b[0m\u001b[0;34m'ODTFactor'\u001b[0m\u001b[0;34m]\u001b[0m\u001b[0;34m*\u001b[0m\u001b[0mtrapFrequency_x\u001b[0m\u001b[0;34m**\u001b[0m\u001b[0;36m2\u001b[0m\u001b[0;34m\u001b[0m\u001b[0;34m\u001b[0m\u001b[0m\n\u001b[0m\u001b[1;32m    144\u001b[0m                                                                 )\n\u001b[1;32m    145\u001b[0m                       \u001b[0;34m+\u001b[0m \u001b[0;34m(\u001b[0m\u001b[0mdf\u001b[0m\u001b[0;34m[\u001b[0m\u001b[0;34m'latticeDetuning_GHz'\u001b[0m\u001b[0;34m]\u001b[0m \u001b[0;34m<\u001b[0m \u001b[0;36m0\u001b[0m\u001b[0;34m)\u001b[0m\u001b[0;34m*\u001b[0m\u001b[0mtrapFrequency_x\u001b[0m\u001b[0;34m*\u001b[0m\u001b[0mnp\u001b[0m\u001b[0;34m.\u001b[0m\u001b[0msqrt\u001b[0m\u001b[0;34m(\u001b[0m\u001b[0mdf\u001b[0m\u001b[0;34m[\u001b[0m\u001b[0;34m'ODTFactor'\u001b[0m\u001b[0;34m]\u001b[0m\u001b[0;34m)\u001b[0m\u001b[0;34m\u001b[0m\u001b[0;34m\u001b[0m\u001b[0m\n",
      "\u001b[0;32m/usr/local/lib/python3.9/site-packages/pandas/core/frame.py\u001b[0m in \u001b[0;36m__getitem__\u001b[0;34m(self, key)\u001b[0m\n\u001b[1;32m   3022\u001b[0m             \u001b[0;32mif\u001b[0m \u001b[0mself\u001b[0m\u001b[0;34m.\u001b[0m\u001b[0mcolumns\u001b[0m\u001b[0;34m.\u001b[0m\u001b[0mnlevels\u001b[0m \u001b[0;34m>\u001b[0m \u001b[0;36m1\u001b[0m\u001b[0;34m:\u001b[0m\u001b[0;34m\u001b[0m\u001b[0;34m\u001b[0m\u001b[0m\n\u001b[1;32m   3023\u001b[0m                 \u001b[0;32mreturn\u001b[0m \u001b[0mself\u001b[0m\u001b[0;34m.\u001b[0m\u001b[0m_getitem_multilevel\u001b[0m\u001b[0;34m(\u001b[0m\u001b[0mkey\u001b[0m\u001b[0;34m)\u001b[0m\u001b[0;34m\u001b[0m\u001b[0;34m\u001b[0m\u001b[0m\n\u001b[0;32m-> 3024\u001b[0;31m             \u001b[0mindexer\u001b[0m \u001b[0;34m=\u001b[0m \u001b[0mself\u001b[0m\u001b[0;34m.\u001b[0m\u001b[0mcolumns\u001b[0m\u001b[0;34m.\u001b[0m\u001b[0mget_loc\u001b[0m\u001b[0;34m(\u001b[0m\u001b[0mkey\u001b[0m\u001b[0;34m)\u001b[0m\u001b[0;34m\u001b[0m\u001b[0;34m\u001b[0m\u001b[0m\n\u001b[0m\u001b[1;32m   3025\u001b[0m             \u001b[0;32mif\u001b[0m \u001b[0mis_integer\u001b[0m\u001b[0;34m(\u001b[0m\u001b[0mindexer\u001b[0m\u001b[0;34m)\u001b[0m\u001b[0;34m:\u001b[0m\u001b[0;34m\u001b[0m\u001b[0;34m\u001b[0m\u001b[0m\n\u001b[1;32m   3026\u001b[0m                 \u001b[0mindexer\u001b[0m \u001b[0;34m=\u001b[0m \u001b[0;34m[\u001b[0m\u001b[0mindexer\u001b[0m\u001b[0;34m]\u001b[0m\u001b[0;34m\u001b[0m\u001b[0;34m\u001b[0m\u001b[0m\n",
      "\u001b[0;32m/usr/local/lib/python3.9/site-packages/pandas/core/indexes/base.py\u001b[0m in \u001b[0;36mget_loc\u001b[0;34m(self, key, method, tolerance)\u001b[0m\n\u001b[1;32m   3080\u001b[0m                 \u001b[0;32mreturn\u001b[0m \u001b[0mself\u001b[0m\u001b[0;34m.\u001b[0m\u001b[0m_engine\u001b[0m\u001b[0;34m.\u001b[0m\u001b[0mget_loc\u001b[0m\u001b[0;34m(\u001b[0m\u001b[0mcasted_key\u001b[0m\u001b[0;34m)\u001b[0m\u001b[0;34m\u001b[0m\u001b[0;34m\u001b[0m\u001b[0m\n\u001b[1;32m   3081\u001b[0m             \u001b[0;32mexcept\u001b[0m \u001b[0mKeyError\u001b[0m \u001b[0;32mas\u001b[0m \u001b[0merr\u001b[0m\u001b[0;34m:\u001b[0m\u001b[0;34m\u001b[0m\u001b[0;34m\u001b[0m\u001b[0m\n\u001b[0;32m-> 3082\u001b[0;31m                 \u001b[0;32mraise\u001b[0m \u001b[0mKeyError\u001b[0m\u001b[0;34m(\u001b[0m\u001b[0mkey\u001b[0m\u001b[0;34m)\u001b[0m \u001b[0;32mfrom\u001b[0m \u001b[0merr\u001b[0m\u001b[0;34m\u001b[0m\u001b[0;34m\u001b[0m\u001b[0m\n\u001b[0m\u001b[1;32m   3083\u001b[0m \u001b[0;34m\u001b[0m\u001b[0m\n\u001b[1;32m   3084\u001b[0m         \u001b[0;32mif\u001b[0m \u001b[0mtolerance\u001b[0m \u001b[0;32mis\u001b[0m \u001b[0;32mnot\u001b[0m \u001b[0;32mNone\u001b[0m\u001b[0;34m:\u001b[0m\u001b[0;34m\u001b[0m\u001b[0;34m\u001b[0m\u001b[0m\n",
      "\u001b[0;31mKeyError\u001b[0m: 'ODTFactor'"
     ]
    }
   ],
   "source": [
    "computeBareTrapFrequencies(df_TOF, trapFrequency_x, trapFrequency_y, trapFrequency_z, trapFrequency_x_blue, trapFrequency_y_blue)\n",
    "\n",
    "computeTrapFrequencies(df_TOF)"
   ]
  },
  {
   "cell_type": "code",
   "execution_count": 43,
   "metadata": {},
   "outputs": [],
   "source": [
    "latticeDepthList = np.sort(df_TOF['latticeDepth_mW'].unique())\n",
    "BECHoldTimeList = np.sort(df_TOF['BECHoldTime'].unique())\n",
    "latticeDetuningList = np.sort(df_TOF['latticeDetuning_GHz'].unique())\n",
    "compzList = np.sort(df_TOF['compz'].unique())\n",
    "#ODTFactorList = np.sort(df_TOF['ODTFactor'].unique())\n",
    "colors = ['red', 'blue', 'orange', 'black', 'green', 'pink', 'purple']"
   ]
  },
  {
   "cell_type": "code",
   "execution_count": 44,
   "metadata": {},
   "outputs": [
    {
     "data": {
      "text/plain": [
       "array([  6.25,  18.  ,  28.8 ,  38.7 ,  56.5 ,  64.5 ,  72.  ,  85.5 ,\n",
       "       108.  ])"
      ]
     },
     "execution_count": 44,
     "metadata": {},
     "output_type": "execute_result"
    }
   ],
   "source": [
    "latticeDepthList"
   ]
  },
  {
   "cell_type": "code",
   "execution_count": 45,
   "metadata": {},
   "outputs": [
    {
     "data": {
      "image/png": "[encoded data removed]",
      "text/plain": [
       "<Figure size 432x288 with 1 Axes>"
      ]
     },
     "metadata": {
      "needs_background": "light"
     },
     "output_type": "display_data"
    }
   ],
   "source": [
    "plt.figure()\n",
    "plt.plot(df_TOF['imageID'], df_TOF['trapFrequencyZ_kHz'])\n",
    "plt.show()"
   ]
  },
  {
   "cell_type": "code",
   "execution_count": 51,
   "metadata": {},
   "outputs": [
    {
     "data": {
      "image/png": "[encoded data removed]",
      "text/plain": [
       "<Figure size 432x288 with 1 Axes>"
      ]
     },
     "metadata": {
      "needs_background": "light"
     },
     "output_type": "display_data"
    }
   ],
   "source": [
    "color = ['red', 'steelblue']\n",
    "plt.figure()\n",
    "for i, compz in enumerate([compz_not_lossy, compz_lossy]):\n",
    "    df_temp = getSubDF(df_TOF, ['compz'], [compz]).groupby('latticeDetuning_GHz').mean().reset_index()\n",
    "    df_temp_err = getSubDF(df_TOF, ['compz'], [compz]).groupby('latticeDetuning_GHz').agg(np.std) #.mean().reset_index()\n",
    "    plt.errorbar(df_temp['latticeDetuning_GHz'], df_temp['nCount'], yerr = df_temp_err['nCount'], label = compz, fmt = 'o', color = color[i])\n",
    "plt.legend()\n",
    "plt.xlabel('Lattice Detuning (GHz)')\n",
    "plt.ylabel('nCount')\n",
    "plt.ylim(0, 40000)\n",
    "plt.title('Atom number after 500ms (50ms) hold in the lattice \\n in a 7.4 (7.83) B field and $\\omega_z = 70$ kHz. CAVITY LOCK')\n",
    "plt.savefig('latticeDetuningComparaison.jpg', dpi = 300)\n",
    "plt.show()"
   ]
  },
  {
   "cell_type": "code",
   "execution_count": 48,
   "metadata": {},
   "outputs": [
    {
     "data": {
      "text/html": [
       "<div>\n",
       "<style scoped>\n",
       "    .dataframe tbody tr th:only-of-type {\n",
       "        vertical-align: middle;\n",
       "    }\n",
       "\n",
       "    .dataframe tbody tr th {\n",
       "        vertical-align: top;\n",
       "    }\n",
       "\n",
       "    .dataframe thead th {\n",
       "        text-align: right;\n",
       "    }\n",
       "</style>\n",
       "<table border=\"1\" class=\"dataframe\">\n",
       "  <thead>\n",
       "    <tr style=\"text-align: right;\">\n",
       "      <th></th>\n",
       "      <th>BECHoldTime</th>\n",
       "      <th>TOF</th>\n",
       "      <th>latticeDepth_mW</th>\n",
       "      <th>compz</th>\n",
       "      <th>ODT3_Comp_final</th>\n",
       "      <th>dummy</th>\n",
       "      <th>nCount</th>\n",
       "      <th>xWidth</th>\n",
       "      <th>yWidth</th>\n",
       "      <th>xPos</th>\n",
       "      <th>yPos</th>\n",
       "      <th>imageID</th>\n",
       "      <th>xWidth_TOF_h_um</th>\n",
       "      <th>zWidth_TOF_h_um</th>\n",
       "      <th>trapFrequencyZ_kHz</th>\n",
       "      <th>deconfiningTrapFrequency_Hz</th>\n",
       "    </tr>\n",
       "    <tr>\n",
       "      <th>latticeDetuning_GHz</th>\n",
       "      <th></th>\n",
       "      <th></th>\n",
       "      <th></th>\n",
       "      <th></th>\n",
       "      <th></th>\n",
       "      <th></th>\n",
       "      <th></th>\n",
       "      <th></th>\n",
       "      <th></th>\n",
       "      <th></th>\n",
       "      <th></th>\n",
       "      <th></th>\n",
       "      <th></th>\n",
       "      <th></th>\n",
       "      <th></th>\n",
       "      <th></th>\n",
       "    </tr>\n",
       "  </thead>\n",
       "  <tbody>\n",
       "    <tr>\n",
       "      <th>-20.25</th>\n",
       "      <td>0.0</td>\n",
       "      <td>0.0</td>\n",
       "      <td>0.0</td>\n",
       "      <td>0.0</td>\n",
       "      <td>0.0</td>\n",
       "      <td>1.783765</td>\n",
       "      <td>2092.650348</td>\n",
       "      <td>0.719108</td>\n",
       "      <td>0.874578</td>\n",
       "      <td>1.644931</td>\n",
       "      <td>1.185161</td>\n",
       "      <td>7.637626</td>\n",
       "      <td>1.067170</td>\n",
       "      <td>1.297889</td>\n",
       "      <td>0.0</td>\n",
       "      <td>0.0</td>\n",
       "    </tr>\n",
       "    <tr>\n",
       "      <th>-14.25</th>\n",
       "      <td>0.0</td>\n",
       "      <td>0.0</td>\n",
       "      <td>0.0</td>\n",
       "      <td>0.0</td>\n",
       "      <td>0.0</td>\n",
       "      <td>1.870829</td>\n",
       "      <td>1882.036813</td>\n",
       "      <td>0.771843</td>\n",
       "      <td>1.867545</td>\n",
       "      <td>0.993754</td>\n",
       "      <td>1.530420</td>\n",
       "      <td>3.311596</td>\n",
       "      <td>1.145430</td>\n",
       "      <td>2.771471</td>\n",
       "      <td>0.0</td>\n",
       "      <td>0.0</td>\n",
       "    </tr>\n",
       "    <tr>\n",
       "      <th>-11.25</th>\n",
       "      <td>0.0</td>\n",
       "      <td>0.0</td>\n",
       "      <td>0.0</td>\n",
       "      <td>0.0</td>\n",
       "      <td>0.0</td>\n",
       "      <td>1.863525</td>\n",
       "      <td>1573.853574</td>\n",
       "      <td>0.814060</td>\n",
       "      <td>0.794332</td>\n",
       "      <td>0.926437</td>\n",
       "      <td>1.211109</td>\n",
       "      <td>7.349706</td>\n",
       "      <td>1.208079</td>\n",
       "      <td>1.178803</td>\n",
       "      <td>0.0</td>\n",
       "      <td>0.0</td>\n",
       "    </tr>\n",
       "    <tr>\n",
       "      <th>-9.75</th>\n",
       "      <td>0.0</td>\n",
       "      <td>0.0</td>\n",
       "      <td>0.0</td>\n",
       "      <td>0.0</td>\n",
       "      <td>0.0</td>\n",
       "      <td>1.783765</td>\n",
       "      <td>1758.746971</td>\n",
       "      <td>0.852976</td>\n",
       "      <td>1.147611</td>\n",
       "      <td>1.240125</td>\n",
       "      <td>1.504298</td>\n",
       "      <td>7.120180</td>\n",
       "      <td>1.265832</td>\n",
       "      <td>1.703075</td>\n",
       "      <td>0.0</td>\n",
       "      <td>0.0</td>\n",
       "    </tr>\n",
       "    <tr>\n",
       "      <th>-8.25</th>\n",
       "      <td>0.0</td>\n",
       "      <td>0.0</td>\n",
       "      <td>0.0</td>\n",
       "      <td>0.0</td>\n",
       "      <td>0.0</td>\n",
       "      <td>1.888562</td>\n",
       "      <td>1587.871195</td>\n",
       "      <td>0.713953</td>\n",
       "      <td>1.584475</td>\n",
       "      <td>1.356640</td>\n",
       "      <td>1.176751</td>\n",
       "      <td>4.857983</td>\n",
       "      <td>1.059519</td>\n",
       "      <td>2.351390</td>\n",
       "      <td>0.0</td>\n",
       "      <td>0.0</td>\n",
       "    </tr>\n",
       "    <tr>\n",
       "      <th>-5.25</th>\n",
       "      <td>0.0</td>\n",
       "      <td>0.0</td>\n",
       "      <td>0.0</td>\n",
       "      <td>0.0</td>\n",
       "      <td>0.0</td>\n",
       "      <td>1.678744</td>\n",
       "      <td>2221.475652</td>\n",
       "      <td>0.975945</td>\n",
       "      <td>1.603038</td>\n",
       "      <td>1.384936</td>\n",
       "      <td>1.509796</td>\n",
       "      <td>6.634620</td>\n",
       "      <td>1.448320</td>\n",
       "      <td>2.378938</td>\n",
       "      <td>0.0</td>\n",
       "      <td>0.0</td>\n",
       "    </tr>\n",
       "    <tr>\n",
       "      <th>-3.75</th>\n",
       "      <td>0.0</td>\n",
       "      <td>0.0</td>\n",
       "      <td>0.0</td>\n",
       "      <td>0.0</td>\n",
       "      <td>0.0</td>\n",
       "      <td>1.783765</td>\n",
       "      <td>1416.054407</td>\n",
       "      <td>1.519713</td>\n",
       "      <td>1.967028</td>\n",
       "      <td>1.480463</td>\n",
       "      <td>2.543884</td>\n",
       "      <td>6.850680</td>\n",
       "      <td>2.255282</td>\n",
       "      <td>2.919105</td>\n",
       "      <td>0.0</td>\n",
       "      <td>0.0</td>\n",
       "    </tr>\n",
       "    <tr>\n",
       "      <th>-2.25</th>\n",
       "      <td>0.0</td>\n",
       "      <td>0.0</td>\n",
       "      <td>0.0</td>\n",
       "      <td>0.0</td>\n",
       "      <td>0.0</td>\n",
       "      <td>1.870829</td>\n",
       "      <td>1414.937089</td>\n",
       "      <td>1.299271</td>\n",
       "      <td>2.263450</td>\n",
       "      <td>1.716703</td>\n",
       "      <td>1.756827</td>\n",
       "      <td>3.868678</td>\n",
       "      <td>1.928142</td>\n",
       "      <td>3.359002</td>\n",
       "      <td>0.0</td>\n",
       "      <td>0.0</td>\n",
       "    </tr>\n",
       "    <tr>\n",
       "      <th>-0.75</th>\n",
       "      <td>0.0</td>\n",
       "      <td>0.0</td>\n",
       "      <td>0.0</td>\n",
       "      <td>0.0</td>\n",
       "      <td>0.0</td>\n",
       "      <td>1.832251</td>\n",
       "      <td>2275.498309</td>\n",
       "      <td>3.156621</td>\n",
       "      <td>10.144024</td>\n",
       "      <td>2.317557</td>\n",
       "      <td>8.287953</td>\n",
       "      <td>5.147815</td>\n",
       "      <td>4.684484</td>\n",
       "      <td>15.053918</td>\n",
       "      <td>0.0</td>\n",
       "      <td>0.0</td>\n",
       "    </tr>\n",
       "  </tbody>\n",
       "</table>\n",
       "</div>"
      ],
      "text/plain": [
       "                     BECHoldTime  TOF  latticeDepth_mW  compz  \\\n",
       "latticeDetuning_GHz                                             \n",
       "-20.25                       0.0  0.0              0.0    0.0   \n",
       "-14.25                       0.0  0.0              0.0    0.0   \n",
       "-11.25                       0.0  0.0              0.0    0.0   \n",
       "-9.75                        0.0  0.0              0.0    0.0   \n",
       "-8.25                        0.0  0.0              0.0    0.0   \n",
       "-5.25                        0.0  0.0              0.0    0.0   \n",
       "-3.75                        0.0  0.0              0.0    0.0   \n",
       "-2.25                        0.0  0.0              0.0    0.0   \n",
       "-0.75                        0.0  0.0              0.0    0.0   \n",
       "\n",
       "                     ODT3_Comp_final     dummy       nCount    xWidth  \\\n",
       "latticeDetuning_GHz                                                     \n",
       "-20.25                           0.0  1.783765  2092.650348  0.719108   \n",
       "-14.25                           0.0  1.870829  1882.036813  0.771843   \n",
       "-11.25                           0.0  1.863525  1573.853574  0.814060   \n",
       "-9.75                            0.0  1.783765  1758.746971  0.852976   \n",
       "-8.25                            0.0  1.888562  1587.871195  0.713953   \n",
       "-5.25                            0.0  1.678744  2221.475652  0.975945   \n",
       "-3.75                            0.0  1.783765  1416.054407  1.519713   \n",
       "-2.25                            0.0  1.870829  1414.937089  1.299271   \n",
       "-0.75                            0.0  1.832251  2275.498309  3.156621   \n",
       "\n",
       "                        yWidth      xPos      yPos   imageID  xWidth_TOF_h_um  \\\n",
       "latticeDetuning_GHz                                                             \n",
       "-20.25                0.874578  1.644931  1.185161  7.637626         1.067170   \n",
       "-14.25                1.867545  0.993754  1.530420  3.311596         1.145430   \n",
       "-11.25                0.794332  0.926437  1.211109  7.349706         1.208079   \n",
       "-9.75                 1.147611  1.240125  1.504298  7.120180         1.265832   \n",
       "-8.25                 1.584475  1.356640  1.176751  4.857983         1.059519   \n",
       "-5.25                 1.603038  1.384936  1.509796  6.634620         1.448320   \n",
       "-3.75                 1.967028  1.480463  2.543884  6.850680         2.255282   \n",
       "-2.25                 2.263450  1.716703  1.756827  3.868678         1.928142   \n",
       "-0.75                10.144024  2.317557  8.287953  5.147815         4.684484   \n",
       "\n",
       "                     zWidth_TOF_h_um  trapFrequencyZ_kHz  \\\n",
       "latticeDetuning_GHz                                        \n",
       "-20.25                      1.297889                 0.0   \n",
       "-14.25                      2.771471                 0.0   \n",
       "-11.25                      1.178803                 0.0   \n",
       "-9.75                       1.703075                 0.0   \n",
       "-8.25                       2.351390                 0.0   \n",
       "-5.25                       2.378938                 0.0   \n",
       "-3.75                       2.919105                 0.0   \n",
       "-2.25                       3.359002                 0.0   \n",
       "-0.75                      15.053918                 0.0   \n",
       "\n",
       "                     deconfiningTrapFrequency_Hz  \n",
       "latticeDetuning_GHz                               \n",
       "-20.25                                       0.0  \n",
       "-14.25                                       0.0  \n",
       "-11.25                                       0.0  \n",
       "-9.75                                        0.0  \n",
       "-8.25                                        0.0  \n",
       "-5.25                                        0.0  \n",
       "-3.75                                        0.0  \n",
       "-2.25                                        0.0  \n",
       "-0.75                                        0.0  "
      ]
     },
     "execution_count": 48,
     "metadata": {},
     "output_type": "execute_result"
    }
   ],
   "source": [
    "df_temp = getSubDF(df_TOF, ['compz'], [compz]).groupby('latticeDetuning_GHz').agg(np.std)\n",
    "df_temp"
   ]
  },
  {
   "cell_type": "code",
   "execution_count": 49,
   "metadata": {},
   "outputs": [
    {
     "data": {
      "image/png": "[encoded data removed]",
      "text/plain": [
       "<Figure size 432x288 with 1 Axes>"
      ]
     },
     "metadata": {
      "needs_background": "light"
     },
     "output_type": "display_data"
    }
   ],
   "source": [
    "plt.figure()\n",
    "for compz in [compz_not_lossy, compz_lossy]:\n",
    "    df_temp = getSubDF(df_TOF, ['compz'], [compz])#.groupby('latticeDetuning_GHz').mean().reset_index()\n",
    "    plt.plot(df_temp['latticeDetuning_GHz'], df_temp['nCount'], 'o', label = compz)\n",
    "plt.legend()\n",
    "plt.show()"
   ]
  },
  {
   "cell_type": "code",
   "execution_count": 12,
   "metadata": {},
   "outputs": [],
   "source": [
    "def polarizability(detuning):\n",
    "    polarizability_prefactor = 3*np.pi*kappa_red*epsilon_0*c**3*Gamma_741/(omega_741**3)\n",
    "    polarizability = 220*polarizability_0-polarizability_prefactor/detuning\n",
    "    return polarizability\n",
    "\n",
    "def trapFrequency(detuning, power, beamwaist):\n",
    "    polarizability_here = polarizability(detuning)\n",
    "    omega_z = np.sqrt(np.abs(32*np.pi*polarizability_here*power/((741*10**(-9))**2*beamwaist**2*epsilon_0*c*m)))\n",
    "    return omega_z"
   ]
  },
  {
   "cell_type": "code",
   "execution_count": 13,
   "metadata": {},
   "outputs": [
    {
     "ename": "NameError",
     "evalue": "name 'trapFrequency_kHz_experiment' is not defined",
     "output_type": "error",
     "traceback": [
      "\u001b[0;31m---------------------------------------------------------------------------\u001b[0m",
      "\u001b[0;31mNameError\u001b[0m                                 Traceback (most recent call last)",
      "\u001b[0;32m<ipython-input-13-ccab34a1c89a>\u001b[0m in \u001b[0;36m<module>\u001b[0;34m\u001b[0m\n\u001b[1;32m      9\u001b[0m \u001b[0mplt\u001b[0m\u001b[0;34m.\u001b[0m\u001b[0mplot\u001b[0m\u001b[0;34m(\u001b[0m\u001b[0;34m-\u001b[0m\u001b[0;36m1\u001b[0m\u001b[0;34m/\u001b[0m\u001b[0;34m(\u001b[0m\u001b[0mdetuning\u001b[0m\u001b[0;34m/\u001b[0m\u001b[0;34m(\u001b[0m\u001b[0;36m2\u001b[0m\u001b[0;34m*\u001b[0m\u001b[0mnp\u001b[0m\u001b[0;34m.\u001b[0m\u001b[0mpi\u001b[0m\u001b[0;34m*\u001b[0m\u001b[0;36m10\u001b[0m\u001b[0;34m**\u001b[0m\u001b[0;36m9\u001b[0m\u001b[0;34m)\u001b[0m\u001b[0;34m)\u001b[0m\u001b[0;34m,\u001b[0m \u001b[0;34m(\u001b[0m\u001b[0;36m2\u001b[0m\u001b[0;34m*\u001b[0m\u001b[0mtrapFrequencyZ_kHz_formula_32\u001b[0m\u001b[0;34m)\u001b[0m\u001b[0;34m**\u001b[0m\u001b[0;36m2\u001b[0m\u001b[0;34m,\u001b[0m \u001b[0mlabel\u001b[0m \u001b[0;34m=\u001b[0m \u001b[0;34m'formula w = 32um'\u001b[0m\u001b[0;34m)\u001b[0m\u001b[0;34m\u001b[0m\u001b[0;34m\u001b[0m\u001b[0m\n\u001b[1;32m     10\u001b[0m \u001b[0mplt\u001b[0m\u001b[0;34m.\u001b[0m\u001b[0mplot\u001b[0m\u001b[0;34m(\u001b[0m\u001b[0;34m-\u001b[0m\u001b[0;36m1\u001b[0m\u001b[0;34m/\u001b[0m\u001b[0;34m(\u001b[0m\u001b[0mdetuning\u001b[0m\u001b[0;34m/\u001b[0m\u001b[0;34m(\u001b[0m\u001b[0;36m2\u001b[0m\u001b[0;34m*\u001b[0m\u001b[0mnp\u001b[0m\u001b[0;34m.\u001b[0m\u001b[0mpi\u001b[0m\u001b[0;34m*\u001b[0m\u001b[0;36m10\u001b[0m\u001b[0;34m**\u001b[0m\u001b[0;36m9\u001b[0m\u001b[0;34m)\u001b[0m\u001b[0;34m)\u001b[0m\u001b[0;34m,\u001b[0m \u001b[0;34m(\u001b[0m\u001b[0;36m2\u001b[0m\u001b[0;34m*\u001b[0m\u001b[0mtrapFrequencyZ_kHz_formula_40\u001b[0m\u001b[0;34m)\u001b[0m\u001b[0;34m**\u001b[0m\u001b[0;36m2\u001b[0m\u001b[0;34m,\u001b[0m \u001b[0mlabel\u001b[0m \u001b[0;34m=\u001b[0m \u001b[0;34m'formula w = 40um'\u001b[0m\u001b[0;34m)\u001b[0m\u001b[0;34m\u001b[0m\u001b[0;34m\u001b[0m\u001b[0m\n\u001b[0;32m---> 11\u001b[0;31m \u001b[0mplt\u001b[0m\u001b[0;34m.\u001b[0m\u001b[0mplot\u001b[0m\u001b[0;34m(\u001b[0m\u001b[0;34m-\u001b[0m\u001b[0;36m1\u001b[0m\u001b[0;34m/\u001b[0m\u001b[0;34m(\u001b[0m\u001b[0mdetuning\u001b[0m\u001b[0;34m/\u001b[0m\u001b[0;34m(\u001b[0m\u001b[0;36m2\u001b[0m\u001b[0;34m*\u001b[0m\u001b[0mnp\u001b[0m\u001b[0;34m.\u001b[0m\u001b[0mpi\u001b[0m\u001b[0;34m*\u001b[0m\u001b[0;36m10\u001b[0m\u001b[0;34m**\u001b[0m\u001b[0;36m9\u001b[0m\u001b[0;34m)\u001b[0m\u001b[0;34m)\u001b[0m\u001b[0;34m,\u001b[0m \u001b[0mtrapFrequency_kHz_experiment\u001b[0m\u001b[0;34m,\u001b[0m \u001b[0mlabel\u001b[0m \u001b[0;34m=\u001b[0m \u001b[0;34m'Experiment'\u001b[0m\u001b[0;34m)\u001b[0m\u001b[0;34m\u001b[0m\u001b[0;34m\u001b[0m\u001b[0m\n\u001b[0m\u001b[1;32m     12\u001b[0m \u001b[0mplt\u001b[0m\u001b[0;34m.\u001b[0m\u001b[0mlegend\u001b[0m\u001b[0;34m(\u001b[0m\u001b[0;34m)\u001b[0m\u001b[0;34m\u001b[0m\u001b[0;34m\u001b[0m\u001b[0m\n\u001b[1;32m     13\u001b[0m \u001b[0mplt\u001b[0m\u001b[0;34m.\u001b[0m\u001b[0mshow\u001b[0m\u001b[0;34m(\u001b[0m\u001b[0;34m)\u001b[0m\u001b[0;34m\u001b[0m\u001b[0;34m\u001b[0m\u001b[0m\n",
      "\u001b[0;31mNameError\u001b[0m: name 'trapFrequency_kHz_experiment' is not defined"
     ]
    },
    {
     "data": {
      "image/png": "[encoded data removed]",
      "text/plain": [
       "<Figure size 432x288 with 1 Axes>"
      ]
     },
     "metadata": {
      "needs_background": "light"
     },
     "output_type": "display_data"
    }
   ],
   "source": [
    "detuning = -np.linspace(10,10000, 10000)*2*np.pi*10**9\n",
    "power = 0.0639\n",
    "trapFrequencyZ_kHz_formula_27 = trapFrequency(detuning, power, beamwaist = 27*10**(-6))/(2*np.pi*10**3)\n",
    "trapFrequencyZ_kHz_formula_32 = trapFrequency(detuning, power, beamwaist = 32.4*10**(-6))/(2*np.pi*10**3)\n",
    "trapFrequencyZ_kHz_formula_40 = trapFrequency(detuning, power, beamwaist = 40*10**(-6))/(2*np.pi*10**3)\n",
    "trapFrequencyZ_kHz_experiment = 132871*(-1/(detuning/(2*np.pi*10**9))) + 3415\n",
    "plt.figure()\n",
    "plt.plot(-1/(detuning/(2*np.pi*10**9)), (2*trapFrequencyZ_kHz_formula_27)**2, label = 'formula w = 27um')\n",
    "plt.plot(-1/(detuning/(2*np.pi*10**9)), (2*trapFrequencyZ_kHz_formula_32)**2, label = 'formula w = 32um')\n",
    "plt.plot(-1/(detuning/(2*np.pi*10**9)), (2*trapFrequencyZ_kHz_formula_40)**2, label = 'formula w = 40um')\n",
    "plt.plot(-1/(detuning/(2*np.pi*10**9)), trapFrequency_kHz_experiment, label = 'Experiment')\n",
    "plt.legend()\n",
    "plt.show()"
   ]
  },
  {
   "cell_type": "code",
   "execution_count": null,
   "metadata": {
    "scrolled": true
   },
   "outputs": [],
   "source": [
    "40/32.4"
   ]
  },
  {
   "cell_type": "markdown",
   "metadata": {},
   "source": [
    "Data of the transverse trap frequency"
   ]
  },
  {
   "cell_type": "code",
   "execution_count": null,
   "metadata": {},
   "outputs": [],
   "source": [
    "latticeDetuning_exp = np.array([-50, -40, -30, -20, -10, -5])*2*np.pi*10**9 # in GHz at \n",
    "trapFrequency_exp = np.array([355, 375, 405, 450, 525, 850])/2*2*np.pi\n",
    "\n",
    "def linear(x, a, b):\n",
    "    return a*x + b\n",
    "from scipy.optimize import curve_fit\n",
    "X = -1/(latticeDetuning_exp/(2*np.pi*10**9))\n",
    "popt, pcov = curve_fit(linear, -1/(latticeDetuning_exp/(2*np.pi*10**9)), (2*trapFrequency_exp)**2)\n",
    "\n",
    "plt.figure()\n",
    "plt.plot(X, (2*trapFrequency_exp)**2, 'o', label = 'data')\n",
    "plt.plot(X, linear(X, popt[0], popt[1]), '--', label = 'fit')\n",
    "plt.plot()\n",
    "plt.show()\n",
    "beamwaist = 32.4*10**(-6)\n",
    "trapFrequencyZ_exp = trapFrequency_exp*np.sqrt(2)/(2*np.pi*beamwaist/(741*10**(-9)))"
   ]
  },
  {
   "cell_type": "code",
   "execution_count": null,
   "metadata": {},
   "outputs": [],
   "source": [
    "trapFrequency(detuning, power, beamwaist = beamwaist)/(2*np.pi*aspectRatio)"
   ]
  },
  {
   "cell_type": "code",
   "execution_count": null,
   "metadata": {},
   "outputs": [],
   "source": [
    "detuning = -np.linspace(10,10000, 10000)*2*np.pi*10**9\n",
    "power = 0.0639\n",
    "\n",
    "beamwaist = 27*10**(-6)\n",
    "aspectRatio = (2*np.pi/(741*10**(-9))*beamwaist)/np.sqrt(2)\n",
    "trapFrequencyPerp_Hz_formula_27 = trapFrequency(detuning, power, beamwaist = beamwaist)/(2*np.pi*aspectRatio)\n",
    "beamwaist = 32.4*10**(-6)\n",
    "aspectRatio = (2*np.pi/(741*10**(-9))*beamwaist)/np.sqrt(2)\n",
    "trapFrequencyPerp_Hz_formula_32 = trapFrequency(detuning, power, beamwaist = beamwaist)/(2*np.pi*aspectRatio)\n",
    "beamwaist = 40*10**(-6)\n",
    "aspectRatio = (2*np.pi/(741*10**(-9))*beamwaist)/np.sqrt(2)\n",
    "trapFrequencyPerp_Hz_formula_40 = trapFrequency(detuning, power, beamwaist = beamwaist)/(2*np.pi*aspectRatio)\n",
    "trapFrequencyPerp_Hz_experiment = linear(-1/(detuning/(2*np.pi*10**9)), popt[0], popt[1])\n",
    "plt.figure()\n",
    "plt.plot(-1/(detuning/(2*np.pi*10**9)), (2*trapFrequencyPerp_Hz_formula_27)**2, label = 'formula w = 27um')\n",
    "plt.plot(-1/(detuning/(2*np.pi*10**9)), (2*trapFrequencyPerp_Hz_formula_32)**2, label = 'formula w = 32um')\n",
    "plt.plot(-1/(detuning/(2*np.pi*10**9)), (2*trapFrequencyPerp_Hz_formula_40)**2, label = 'formula w = 40um')\n",
    "plt.plot(-1/(detuning/(2*np.pi*10**9)), trapFrequencyPerp_Hz_experiment, label = 'Experiment')\n",
    "plt.legend()\n",
    "plt.show()"
   ]
  },
  {
   "cell_type": "code",
   "execution_count": null,
   "metadata": {},
   "outputs": [],
   "source": [
    "beamwaist = 32.4*10**(-6)\n",
    "aspectRatio = np.sqrt(2)/(2*np.pi*beamwaist/(741*10**(-9)))\n",
    "1/aspectRatio"
   ]
  },
  {
   "cell_type": "code",
   "execution_count": null,
   "metadata": {},
   "outputs": [],
   "source": [
    "220*np.sqrt(2)*(741*10**(-9))/(2*np.pi)"
   ]
  },
  {
   "cell_type": "code",
   "execution_count": null,
   "metadata": {},
   "outputs": [],
   "source": []
  }
 ],
 "metadata": {
  "kernelspec": {
   "display_name": "Python 3",
   "language": "python",
   "name": "python3"
  },
  "language_info": {
   "codemirror_mode": {
    "name": "ipython",
    "version": 3
   },
   "file_extension": ".py",
   "mimetype": "text/x-python",
   "name": "python",
   "nbconvert_exporter": "python",
   "pygments_lexer": "ipython3",
   "version": "3.9.0"
  },
  "latex_envs": {
   "LaTeX_envs_menu_present": true,
   "autoclose": false,
   "autocomplete": true,
   "bibliofile": "biblio.bib",
   "cite_by": "apalike",
   "current_citInitial": 1,
   "eqLabelWithNumbers": true,
   "eqNumInitial": 1,
   "hotkeys": {
    "equation": "Ctrl-E",
    "itemize": "Ctrl-I"
   },
   "labels_anchors": false,
   "latex_user_defs": false,
   "report_style_numbering": false,
   "user_envs_cfg": false
  }
 },
 "nbformat": 4,
 "nbformat_minor": 4
}
