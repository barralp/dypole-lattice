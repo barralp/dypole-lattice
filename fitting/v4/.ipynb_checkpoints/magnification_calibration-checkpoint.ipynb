{
 "cells": [
  {
   "cell_type": "code",
   "execution_count": 13,
   "metadata": {},
   "outputs": [],
   "source": [
    "from databaseCommunication import readDatabaseFile, createDataFrame_list\n",
    "from dataframeFormating import createLabeledDataFrame_list #, N_polarized_pure3b, N_polarized, N_linear, getReducedDataframe, getReducedResults, \n",
    "from calculation import trapFrequency, getSubDF\n",
    "import pandas as pd\n",
    "import numpy as np\n",
    "import matplotlib.pyplot as plt \n",
    "from scipy.optimize import curve_fit"
   ]
  },
  {
   "cell_type": "code",
   "execution_count": 23,
   "metadata": {},
   "outputs": [],
   "source": [
    "label_heads = []\n",
    "\n",
    "\"\"\"labels = [[[], [148191, 148328]],\n",
    "          [[], [148191, 148306]]\n",
    "             ]\"\"\" # This is May 17th\n",
    "\n",
    "\"\"\"labels = [[[], [148615, 148782]]\n",
    "             ] # This is May 18th\"\"\"\n",
    "\"\"\"labels = [[[], [148894, 149062]]\n",
    "             ] # This is May 18th\"\"\"\n",
    "labels = [[[], [150721, 150756]],\n",
    "             ] # This is May 18th\n",
    "#[['lossy'], [150269, 150437]]\n",
    "#[['notLossy'], [150438, ]]\n",
    "\n",
    "# 1st run : -85GHz, 7.4 field\n",
    "# 2nd run : -20GHz, 7.4 field\n",
    "# 3rd run : -20GHz, 7.72 field\n",
    "# 4th run : -85GHz, 7.72 field\n",
    "# 5th run : -5GHz, 7.4 field\n",
    "# 6th run : -5GHz, 7.72 field\n",
    "# 7th run : -1GHz, 7.72 field\n",
    "# 8th run : -1GHz, 7.4 field\n",
    "\n",
    "excluded = [150741, 150742]\n",
    "#excluded = list(df_TOF[df_TOF[\"yWidth\"] > 50][\"imageID\"]) + list(df_TOF[df_TOF[\"xWidth\"] > 50][\"imageID\"])"
   ]
  },
  {
   "cell_type": "code",
   "execution_count": 24,
   "metadata": {},
   "outputs": [
    {
     "data": {
      "text/plain": [
       "\"ciceroVariables = ['TOF']\\nfitVariables = ['nCount', 'xWidth', 'yWidth', 'xPos', 'yPos']\\n\\ndf = createLabeledDataFrame_list(labels, label_heads, ciceroVariables, fitVariables)\\nfor column in df.columns:\\n    try:\\n        df[column] = df[column].astype(float)\\n    except:\\n        pass\\ndf.to_pickle('data_save_magnification_calibration.pickle')\""
      ]
     },
     "execution_count": 24,
     "metadata": {},
     "output_type": "execute_result"
    }
   ],
   "source": [
    "\"\"\"ciceroVariables = ['TOF']\n",
    "fitVariables = ['nCount', 'xWidth', 'yWidth', 'xPos', 'yPos']\n",
    "\n",
    "df = createLabeledDataFrame_list(labels, label_heads, ciceroVariables, fitVariables)\n",
    "for column in df.columns:\n",
    "    try:\n",
    "        df[column] = df[column].astype(float)\n",
    "    except:\n",
    "        pass\n",
    "df.to_pickle('data_save_magnification_calibration.pickle')\"\"\""
   ]
  },
  {
   "cell_type": "code",
   "execution_count": 53,
   "metadata": {},
   "outputs": [],
   "source": [
    "df = pd.read_pickle('data_save_magnification_calibration.pickle')\n",
    "# Delete these row indexes from dataFrame\n",
    "indexNames = pd.Index(np.where(df['imageID'].isin(excluded))[0])\n",
    "df.drop(indexNames, inplace = True)\n",
    "\n",
    "df['xPos'] *= 6.5*10**(-6) # in meters\n",
    "df['yPos'] *= 6.5*10**(-6) # in meters\n",
    "df['TOF'] *= 10**(-3) # in seconds\n",
    "df_mean = df.groupby(['TOF']).mean()\n",
    "\n",
    "x0 = df_mean['xPos'][0]\n",
    "y0 = df_mean['yPos'][0]\n",
    "\n",
    "df['rPos'] = np.sqrt((df['xPos']-x0)**2+(df['yPos']-y0)**2)\n",
    "\n",
    "\n",
    "#Normalization\n",
    "#df['nCount'] = df['nCount']*(6.5/3.45/4)**2   # real number\n",
    "#df['xWidth'] = df['xWidth']*(6.5/4)   # in micro meter\n",
    "#df['yWidth'] = df['yWidth']*(6.5/4)   # in micro meter"
   ]
  },
  {
   "cell_type": "code",
   "execution_count": 54,
   "metadata": {},
   "outputs": [
    {
     "data": {
      "image/png": "[encoded data removed]",
      "text/plain": [
       "<Figure size 432x288 with 1 Axes>"
      ]
     },
     "metadata": {
      "needs_background": "light"
     },
     "output_type": "display_data"
    }
   ],
   "source": [
    "plt.figure()\n",
    "plt.plot(df['TOF'], df['xPos'], 'o')\n",
    "plt.show()"
   ]
  },
  {
   "cell_type": "code",
   "execution_count": 55,
   "metadata": {},
   "outputs": [
    {
     "data": {
      "image/png": "[encoded data removed]",
      "text/plain": [
       "<Figure size 432x288 with 1 Axes>"
      ]
     },
     "metadata": {
      "needs_background": "light"
     },
     "output_type": "display_data"
    }
   ],
   "source": [
    "plt.figure()\n",
    "plt.plot(df['TOF'], df['yPos'], 'o')\n",
    "plt.show()"
   ]
  },
  {
   "cell_type": "code",
   "execution_count": 56,
   "metadata": {
    "scrolled": true
   },
   "outputs": [
    {
     "data": {
      "image/png": "[encoded data removed]",
      "text/plain": [
       "<Figure size 432x288 with 1 Axes>"
      ]
     },
     "metadata": {
      "needs_background": "light"
     },
     "output_type": "display_data"
    }
   ],
   "source": [
    "plt.figure()\n",
    "plt.plot(df['TOF'], df['rPos'], 'o')\n",
    "plt.show()"
   ]
  },
  {
   "cell_type": "code",
   "execution_count": 59,
   "metadata": {},
   "outputs": [
    {
     "name": "stdout",
     "output_type": "stream",
     "text": [
      "Magnification coefficient is 4.38\n"
     ]
    }
   ],
   "source": [
    "g = 9.81\n",
    "\n",
    "def position(t, mag):\n",
    "    return mag*(1/2*g*(t**2))\n",
    "\n",
    "\n",
    "popt, pcov = curve_fit(position, df['TOF'], df['rPos'])\n",
    "print('Magnification coefficient is ' + str(round(popt[0], 2)))"
   ]
  }
 ],
 "metadata": {
  "kernelspec": {
   "display_name": "Python 3",
   "language": "python",
   "name": "python3"
  },
  "latex_envs": {
   "LaTeX_envs_menu_present": true,
   "autoclose": false,
   "autocomplete": true,
   "bibliofile": "biblio.bib",
   "cite_by": "apalike",
   "current_citInitial": 1,
   "eqLabelWithNumbers": true,
   "eqNumInitial": 1,
   "hotkeys": {
    "equation": "Ctrl-E",
    "itemize": "Ctrl-I"
   },
   "labels_anchors": false,
   "latex_user_defs": false,
   "report_style_numbering": false,
   "user_envs_cfg": false
  }
 },
 "nbformat": 4,
 "nbformat_minor": 4
}
