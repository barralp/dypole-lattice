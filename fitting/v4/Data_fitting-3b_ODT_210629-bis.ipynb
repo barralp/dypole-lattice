{
 "cells": [
  {
   "cell_type": "code",
   "execution_count": 1,
   "metadata": {},
   "outputs": [],
   "source": [
    "from databaseCommunication import readDatabaseFile, createDataFrame_list\n",
    "from dataframeFormating import createLabeledDataFrame_list #, N_polarized_pure3b, N_polarized, N_linear, getReducedDataframe, getReducedResults, \n",
    "from calculation import trapFrequency, getSubDF, noiseFilter, renameUnits, dropExcluded, computeBareTrapFrequencies, computeTrapFrequencies\n",
    "from fit import fitDF, N_polarized_pure3b, N_polarized, N_linear, N_polarized_premix, fitRun_pure_premix, fitRun_pure, fitRun_mix, fitRun_lin, N_1b\n",
    "import pandas as pd\n",
    "import numpy as np\n",
    "import matplotlib.pyplot as plt \n",
    "from scipy.optimize import curve_fit"
   ]
  },
  {
   "cell_type": "code",
   "execution_count": 2,
   "metadata": {},
   "outputs": [],
   "source": [
    "label_heads = ['atomicBeamShutter', 'ODTPowerInit', 'Bz', 'experiment']\n",
    "\n",
    "labels = [[['On', 'High', 7.4, 'wholeCurve'], [178054, 178185]],\n",
    "          [['On', 'High', 7.4, 'longTerm'], [178191, 178232]],\n",
    "          [['On', 'High', np.nan, 'fieldScan'], [179058, 179201]]\n",
    "             ] # June 29th\n",
    "# ODT1 power = 1 // ODT2 Power = 1 // ODT 3 Power = 5\n",
    "# 1st run: The sequence is as usual\n",
    "# 2nd run: zoom at long time to determine alpha\n",
    "# 3rd run: tried to reduce the initial ODT power to increase atom number stability\n",
    "\n",
    "excluded = [178133, 178148, 178185, 178204, 178231, 178132]"
   ]
  },
  {
   "cell_type": "code",
   "execution_count": 3,
   "metadata": {},
   "outputs": [
    {
     "data": {
      "text/plain": [
       "\"ciceroVariables = ['BECShapeTime', 'TOF', 'compz_rotation']\\nfitVariables = ['nCount', 'xWidth', 'yWidth']\\n\\ndf = createLabeledDataFrame_list(labels, label_heads, ciceroVariables, fitVariables)\\nfor column in df.columns:\\n    try:\\n        df[column] = df[column].astype(float)\\n    except:\\n        pass\\ndf.to_pickle('data_save_ODT_210529_ODT.pickle')\""
      ]
     },
     "execution_count": 3,
     "metadata": {},
     "output_type": "execute_result"
    }
   ],
   "source": [
    "\"\"\"ciceroVariables = ['BECShapeTime', 'TOF', 'compz_rotation']\n",
    "fitVariables = ['nCount', 'xWidth', 'yWidth']\n",
    "\n",
    "df = createLabeledDataFrame_list(labels, label_heads, ciceroVariables, fitVariables)\n",
    "for column in df.columns:\n",
    "    try:\n",
    "        df[column] = df[column].astype(float)\n",
    "    except:\n",
    "        pass\n",
    "df.to_pickle('data_save_ODT_210529_ODT.pickle')\"\"\""
   ]
  },
  {
   "cell_type": "code",
   "execution_count": 82,
   "metadata": {},
   "outputs": [],
   "source": [
    "df = pd.read_pickle('data_save_ODT_210529_ODT.pickle')\n",
    "renameUnits(df, magnification = 4.38, cameraPixelSize = 6.5, axis = 'horizontal', experiment = 'TOF')\n",
    "df.rename(columns = {'compz_rotation' : 'compz'}, inplace = True)\n",
    "df.rename(columns = {'BECShapeTime' : 'BECHoldTime'}, inplace = True)\n",
    "indexNames = pd.Index(np.where(df['imageID'].isin(excluded))[0])\n",
    "df.drop(indexNames, inplace = True)\n",
    "\n",
    "m = 164*1.67*10**(-27)\n",
    "k_B = 1.38*10**(-23)\n",
    "hbar = 6.626*10**(-34)/(2*np.pi)\n",
    "sigma_0 = 4\n",
    "\n",
    "df['temperature'] = (m/k_B*((df['xWidth_TOF_h_um'])**2-sigma_0**2)*(10**(-12))/(df['TOF']**2*10**(-6)))/(10**(-9)) # in nano kelvin\n",
    "df_3b = df[df['experiment'] == 'wholeCurve']\n",
    "df_alpha = df[df['experiment'] == 'longTerm']\n",
    "df_fieldScan = df[df['experiment'] == 'fieldScan']\n",
    "#df_alpha = df[df['experiment'] == 'wholeCurve']\n",
    "#df_alpha = df_alpha[df_alpha['BECHoldTime'] <= 20000]\n",
    "#df_alpha = df_alpha[df_alpha['BECHoldTime'] >= 5000]"
   ]
  },
  {
   "cell_type": "code",
   "execution_count": 84,
   "metadata": {},
   "outputs": [],
   "source": [
    "BECHoldTimeList = np.sort(df['BECHoldTime'].unique())\n",
    "compzList = np.sort(df['compz'].unique())\n",
    "colors = ['red', 'blue', 'orange', 'black', 'green']"
   ]
  },
  {
   "cell_type": "code",
   "execution_count": 85,
   "metadata": {},
   "outputs": [],
   "source": [
    "BECHoldTimeList\n",
    "compz = 7.4"
   ]
  },
  {
   "cell_type": "code",
   "execution_count": 86,
   "metadata": {},
   "outputs": [
    {
     "data": {
      "image/png": "[encoded data removed]",
      "text/plain": [
       "<Figure size 432x288 with 1 Axes>"
      ]
     },
     "metadata": {
      "needs_background": "light"
     },
     "output_type": "display_data"
    }
   ],
   "source": [
    "plt.figure()\n",
    "df_temp = df_alpha\n",
    "plt.semilogy(df_temp['BECHoldTime'], df_temp['nCount'], 'o', color = colors[0], label = str('longTime'))\n",
    "plt.legend()\n",
    "#plt.ylim(0,25000)\n",
    "plt.xlabel('BECHoldTime (ms)')\n",
    "plt.ylabel('nCount')\n",
    "plt.show()"
   ]
  },
  {
   "cell_type": "code",
   "execution_count": 87,
   "metadata": {},
   "outputs": [
    {
     "data": {
      "text/plain": [
       "\"def N_polarized(t, N0, alpha, gamma):\\n    return np.sqrt(alpha / (np.exp(2*alpha*t)*(alpha/(N0**2)+gamma)-gamma))\\n\\ndef N_linear(t, N0, b):\\n    return N0-b*t\\n\\ndef N_polarized_pure3b(t, N0, gamma):\\n    return N0 / np.sqrt(1+N0**2*gamma*t)\\n\\ndef N_1b(t, N0, alpha):\\n    return N0*np.exp(-alpha*t)\\n\\ndef N_polarized_alpha(t, N0, gamma):\\n    global alpha\\n    return np.sqrt(alpha / (np.exp(2*alpha*t)*(alpha/(N0**2)+gamma)-gamma))\\n\\n\\ndef fitRun(df_run):\\n    N0_guess = max(df_run['nCount'])\\n    time_guess = max(df_run['BECHoldTime'])\\n    alpha_guess = 1/time_guess\\n    gamma_guess = 1/(N0_guess**2*time_guess)\\n    popt, pcov = curve_fit(N_polarized, df_run['BECHoldTime'], df_run['nCount'],\\n                       p0 = [N0_guess, alpha_guess, gamma_guess],\\n                          )#bounds = ((N0_guess/10, alpha_guess/10, gamma_guess/100), (N0_guess*10, alpha_guess*10, gamma_guess*100)),\\n                           #method = 'trf'\\n                      #)\\n    return popt, pcov\\n\\ndef fitRun_pure(df_run):\\n    N0_guess = max(df_run['nCount'])\\n    time_guess = max(df_run['BECHoldTime'])\\n    popt, pcov = curve_fit(N_polarized_pure3b, df_run['BECHoldTime'], df_run['nCount'],\\n                       p0 = [N0_guess, 1/(N0_guess**2*time_guess)],\\n                          )#bounds = ((0, 0), (np.inf, np.inf)),\\n                           #method = 'trf'\\n                      #)\\n    return popt, pcov\\n\\ndef fitRun_lin(df_run):\\n    N0_guess = max(df_run['nCount'])\\n    time_guess = max(df_run['BECHoldTime'])\\n    popt, pcov = curve_fit(N_linear, df_run['BECHoldTime'], df_run['nCount'],\\n                       p0 = [N0_guess, N0_guess/time_guess],\\n                          )#bounds = ((0, 0), (np.inf, np.inf)),\\n                           #method = 'trf'\\n                      #)\\n    return popt, pcov\\n\\ndef fitRun_pure_alpha(df_run):\\n    N0_guess = max(df_run['nCount'])\\n    time_guess = max(df_run['BECHoldTime'])\\n    gamma_guess = 1/(N0_guess**2*time_guess)\\n    popt, pcov = curve_fit(N_polarized_alpha, df_run['BECHoldTime'], df_run['nCount'],\\n                       p0 = [N0_guess, gamma_guess],\\n                          )#bounds = ((N0_guess/10, alpha_guess/10, gamma_guess/100), (N0_guess*10, alpha_guess*10, gamma_guess*100)),\\n                           #method = 'trf'\\n                      #)\\n    return popt, pcov\""
      ]
     },
     "execution_count": 87,
     "metadata": {},
     "output_type": "execute_result"
    }
   ],
   "source": [
    "\"\"\"def N_polarized(t, N0, alpha, gamma):\n",
    "    return np.sqrt(alpha / (np.exp(2*alpha*t)*(alpha/(N0**2)+gamma)-gamma))\n",
    "\n",
    "def N_linear(t, N0, b):\n",
    "    return N0-b*t\n",
    "\n",
    "def N_polarized_pure3b(t, N0, gamma):\n",
    "    return N0 / np.sqrt(1+N0**2*gamma*t)\n",
    "\n",
    "def N_1b(t, N0, alpha):\n",
    "    return N0*np.exp(-alpha*t)\n",
    "\n",
    "def N_polarized_alpha(t, N0, gamma):\n",
    "    global alpha\n",
    "    return np.sqrt(alpha / (np.exp(2*alpha*t)*(alpha/(N0**2)+gamma)-gamma))\n",
    "\n",
    "\n",
    "def fitRun(df_run):\n",
    "    N0_guess = max(df_run['nCount'])\n",
    "    time_guess = max(df_run['BECHoldTime'])\n",
    "    alpha_guess = 1/time_guess\n",
    "    gamma_guess = 1/(N0_guess**2*time_guess)\n",
    "    popt, pcov = curve_fit(N_polarized, df_run['BECHoldTime'], df_run['nCount'],\n",
    "                       p0 = [N0_guess, alpha_guess, gamma_guess],\n",
    "                          )#bounds = ((N0_guess/10, alpha_guess/10, gamma_guess/100), (N0_guess*10, alpha_guess*10, gamma_guess*100)),\n",
    "                           #method = 'trf'\n",
    "                      #)\n",
    "    return popt, pcov\n",
    "\n",
    "def fitRun_pure(df_run):\n",
    "    N0_guess = max(df_run['nCount'])\n",
    "    time_guess = max(df_run['BECHoldTime'])\n",
    "    popt, pcov = curve_fit(N_polarized_pure3b, df_run['BECHoldTime'], df_run['nCount'],\n",
    "                       p0 = [N0_guess, 1/(N0_guess**2*time_guess)],\n",
    "                          )#bounds = ((0, 0), (np.inf, np.inf)),\n",
    "                           #method = 'trf'\n",
    "                      #)\n",
    "    return popt, pcov\n",
    "\n",
    "def fitRun_lin(df_run):\n",
    "    N0_guess = max(df_run['nCount'])\n",
    "    time_guess = max(df_run['BECHoldTime'])\n",
    "    popt, pcov = curve_fit(N_linear, df_run['BECHoldTime'], df_run['nCount'],\n",
    "                       p0 = [N0_guess, N0_guess/time_guess],\n",
    "                          )#bounds = ((0, 0), (np.inf, np.inf)),\n",
    "                           #method = 'trf'\n",
    "                      #)\n",
    "    return popt, pcov\n",
    "\n",
    "def fitRun_pure_alpha(df_run):\n",
    "    N0_guess = max(df_run['nCount'])\n",
    "    time_guess = max(df_run['BECHoldTime'])\n",
    "    gamma_guess = 1/(N0_guess**2*time_guess)\n",
    "    popt, pcov = curve_fit(N_polarized_alpha, df_run['BECHoldTime'], df_run['nCount'],\n",
    "                       p0 = [N0_guess, gamma_guess],\n",
    "                          )#bounds = ((N0_guess/10, alpha_guess/10, gamma_guess/100), (N0_guess*10, alpha_guess*10, gamma_guess*100)),\n",
    "                           #method = 'trf'\n",
    "                      #)\n",
    "    return popt, pcov\"\"\""
   ]
  },
  {
   "cell_type": "code",
   "execution_count": 88,
   "metadata": {},
   "outputs": [],
   "source": [
    "compz = 7.4\n",
    "df_3b_fit = df_3b[df_3b['BECHoldTime']<=1000]"
   ]
  },
  {
   "cell_type": "code",
   "execution_count": 89,
   "metadata": {},
   "outputs": [
    {
     "data": {
      "image/png": "[encoded data removed]",
      "text/plain": [
       "<Figure size 432x288 with 1 Axes>"
      ]
     },
     "metadata": {
      "needs_background": "light"
     },
     "output_type": "display_data"
    }
   ],
   "source": [
    "popt, pcov = curve_fit(N_1b, df_alpha['BECHoldTime'], df_alpha['nCount'], p0 = [df_alpha['nCount'].max(), 1/df_alpha['BECHoldTime'].max()])\n",
    "N0, alpha = popt\n",
    "\n",
    "time_long = np.linspace(0, 50000, 10000)\n",
    "Z = N_1b(time_long, N0, alpha)\n",
    "df_tempZ = getSubDF(df_alpha, ['compz'], [compz])\n",
    "\n",
    "plt.figure()\n",
    "plt.semilogy(df_tempZ['BECHoldTime'], df_tempZ['nCount'], '+', label = str(compz) + ' ' + str(False))\n",
    "plt.semilogy(time_long, Z, '-', label = 'fitZ')\n",
    "plt.legend()\n",
    "#plt.ylim(0, 20000)\n",
    "#plt.xlim(0,10)\n",
    "plt.xlabel('BECHoldTime (ms)')\n",
    "plt.ylabel('nCount')\n",
    "plt.show()"
   ]
  },
  {
   "cell_type": "code",
   "execution_count": 90,
   "metadata": {},
   "outputs": [
    {
     "name": "stdout",
     "output_type": "stream",
     "text": [
      "This fixes the value of alpha to 3.1e-05\n"
     ]
    }
   ],
   "source": [
    "print(\"This fixes the value of alpha to \" + str(round(alpha, 6)))"
   ]
  },
  {
   "cell_type": "code",
   "execution_count": 91,
   "metadata": {},
   "outputs": [
    {
     "data": {
      "text/plain": [
       "32.67570501357327"
      ]
     },
     "execution_count": 91,
     "metadata": {},
     "output_type": "execute_result"
    }
   ],
   "source": [
    "1/(alpha*1000)"
   ]
  },
  {
   "cell_type": "code",
   "execution_count": 92,
   "metadata": {},
   "outputs": [],
   "source": [
    "df = df_3b_fit\n",
    "results = []\n",
    "results_pure = []\n",
    "results_lin = []\n",
    "results_pure_alpha = []\n",
    "\n",
    "\n",
    "for compz in compzList:\n",
    "    df_run = getSubDF(df, ['compz'], [compz])\n",
    "    if not df_run.empty:\n",
    "        popt, pcov = fitRun_mix(df_run)\n",
    "        results += [{'N0' : popt[0],\n",
    "                    'alpha' : min(-10**(-10), popt[1]),\n",
    "                    'gamma' : popt[2],\n",
    "                     'compz' : compz\n",
    "                    }]\n",
    "resultsDF = pd.DataFrame(results)\n",
    "\n",
    "for compz in compzList:\n",
    "    df_run = getSubDF(df, ['compz'], [compz])\n",
    "    if not df_run.empty:\n",
    "        popt, pcov = fitRun_pure(df_run)\n",
    "        results_pure += [{'N0' : popt[0],\n",
    "                        'alpha' : 0,\n",
    "                         'gamma' : popt[1],\n",
    "                          'compz' : compz\n",
    "                    }]\n",
    "resultsDF_pure = pd.DataFrame(results_pure)\n",
    "\n",
    "for compz in compzList:\n",
    "    df_run = getSubDF(df, ['compz'], [compz])\n",
    "    if not df_run.empty:\n",
    "        popt, pcov = fitRun_lin(df_run, tmax_ms = np.inf)\n",
    "        results_lin += [{'N0' : popt[0],\n",
    "                         'b' : popt[1],\n",
    "                         'compz' : compz\n",
    "                    }]\n",
    "resultsDF_lin = pd.DataFrame(results_lin)\n",
    "\n",
    "for compz in compzList:\n",
    "    df_run = getSubDF(df, ['compz'], [compz])\n",
    "    if not df_run.empty:\n",
    "        popt, pcov = fitRun_pure_premix(df_run)\n",
    "        results_pure_alpha += [{'N0' : popt[0],\n",
    "                    'alpha' : alpha,\n",
    "                    'gamma' : popt[1],\n",
    "                     'compz' : compz\n",
    "                    }]\n",
    "resultsDF_pure_alpha = pd.DataFrame(results_pure_alpha)"
   ]
  },
  {
   "cell_type": "code",
   "execution_count": 93,
   "metadata": {},
   "outputs": [
    {
     "data": {
      "text/html": [
       "<div>\n",
       "<style scoped>\n",
       "    .dataframe tbody tr th:only-of-type {\n",
       "        vertical-align: middle;\n",
       "    }\n",
       "\n",
       "    .dataframe tbody tr th {\n",
       "        vertical-align: top;\n",
       "    }\n",
       "\n",
       "    .dataframe thead th {\n",
       "        text-align: right;\n",
       "    }\n",
       "</style>\n",
       "<table border=\"1\" class=\"dataframe\">\n",
       "  <thead>\n",
       "    <tr style=\"text-align: right;\">\n",
       "      <th></th>\n",
       "      <th>N0</th>\n",
       "      <th>alpha</th>\n",
       "      <th>gamma</th>\n",
       "      <th>compz</th>\n",
       "    </tr>\n",
       "  </thead>\n",
       "  <tbody>\n",
       "    <tr>\n",
       "      <th>0</th>\n",
       "      <td>44130.557354</td>\n",
       "      <td>0.000031</td>\n",
       "      <td>3.677752e-14</td>\n",
       "      <td>7.4</td>\n",
       "    </tr>\n",
       "  </tbody>\n",
       "</table>\n",
       "</div>"
      ],
      "text/plain": [
       "             N0     alpha         gamma  compz\n",
       "0  44130.557354  0.000031  3.677752e-14    7.4"
      ]
     },
     "execution_count": 93,
     "metadata": {},
     "output_type": "execute_result"
    }
   ],
   "source": [
    "resultsDF_pure_alpha"
   ]
  },
  {
   "cell_type": "code",
   "execution_count": 94,
   "metadata": {},
   "outputs": [],
   "source": [
    "compz = 7.4\n",
    "df_tempZ = getSubDF(df_3b, ['compz'], [compz])\n",
    "time = np.linspace(0, 10000, 10000)"
   ]
  },
  {
   "cell_type": "code",
   "execution_count": 95,
   "metadata": {},
   "outputs": [
    {
     "data": {
      "image/png": "[encoded data removed]",
      "text/plain": [
       "<Figure size 432x288 with 1 Axes>"
      ]
     },
     "metadata": {
      "needs_background": "light"
     },
     "output_type": "display_data"
    }
   ],
   "source": [
    "resultZ = getSubDF(resultsDF_pure, ['compz'], [compz])\n",
    "\n",
    "NZ, alphaZ, gammaZ = resultZ[['N0', 'alpha', 'gamma']].iloc[0,:]\n",
    "Z = N_polarized_pure3b(time, NZ, gammaZ)\n",
    "\n",
    "plt.figure()\n",
    "plt.plot(df_tempZ['BECHoldTime'], df_tempZ['nCount'], '+', label = str(compz) + ' ' + str(False))\n",
    "plt.plot(time, Z, '-', label = 'fitZ')\n",
    "plt.legend()\n",
    "#plt.ylim(0, 20000)\n",
    "#plt.xlim(0,10)\n",
    "plt.xlabel('BECHoldTime (ms)')\n",
    "plt.ylabel('nCount')\n",
    "plt.show()"
   ]
  },
  {
   "cell_type": "code",
   "execution_count": 180,
   "metadata": {},
   "outputs": [
    {
     "data": {
      "image/png": "[encoded data removed]",
      "text/plain": [
       "<Figure size 432x288 with 1 Axes>"
      ]
     },
     "metadata": {
      "needs_background": "light"
     },
     "output_type": "display_data"
    }
   ],
   "source": [
    "resultZ = getSubDF(resultsDF_pure_alpha, ['compz'], [compz])\n",
    "\n",
    "NZ, gammaZ = resultZ[['N0', 'gamma']].iloc[0,:]\n",
    "\n",
    "Z = N_polarized_premix(time, NZ, gammaZ)\n",
    "Z2 = N_1b(time, NZ, alpha)\n",
    "\n",
    "\n",
    "plt.figure()\n",
    "plt.plot(df_tempZ['BECHoldTime'], df_tempZ['nCount'], '+', label = str(compz) + ' ' + str(False))\n",
    "plt.plot(time, Z, '-', label = 'fit 1b+3b')\n",
    "plt.plot(time, Z2, '-', label = 'fit 1b')\n",
    "plt.legend()\n",
    "#plt.ylim(0,20000)\n",
    "#plt.xlim(0,10)\n",
    "plt.xlabel('BECHoldTime (ms)')\n",
    "plt.ylabel('Population')\n",
    "plt.savefig(\"population_long.jpg\", dpi = 300)\n",
    "plt.show()"
   ]
  },
  {
   "cell_type": "code",
   "execution_count": 179,
   "metadata": {},
   "outputs": [
    {
     "data": {
      "image/png": "[encoded data removed]",
      "text/plain": [
       "<Figure size 432x288 with 1 Axes>"
      ]
     },
     "metadata": {
      "needs_background": "light"
     },
     "output_type": "display_data"
    }
   ],
   "source": [
    "df_temp = df_3b.groupby(['BECHoldTime']).mean().reset_index()\n",
    "plt.figure()\n",
    "plt.plot(df_temp['BECHoldTime'], df_temp['nCount'], 'o')\n",
    "plt.plot(time, Z, '-', label = 'fit 1b+3b')\n",
    "plt.xlim(0, 1000)\n",
    "plt.xlabel('BECHoldTime (ms)')\n",
    "plt.ylabel('Population')\n",
    "plt.savefig(\"population_initial.jpg\", dpi = 300)\n",
    "plt.show()"
   ]
  },
  {
   "cell_type": "markdown",
   "metadata": {},
   "source": [
    "Let's use only the pure 3b fit"
   ]
  },
  {
   "cell_type": "code",
   "execution_count": 98,
   "metadata": {},
   "outputs": [],
   "source": [
    "#results = resultsDF_pure\n",
    "results = resultsDF_pure_alpha"
   ]
  },
  {
   "cell_type": "code",
   "execution_count": 178,
   "metadata": {},
   "outputs": [
    {
     "data": {
      "image/png": "[encoded data removed]",
      "text/plain": [
       "<Figure size 432x288 with 1 Axes>"
      ]
     },
     "metadata": {
      "needs_background": "light"
     },
     "output_type": "display_data"
    }
   ],
   "source": [
    "plt.figure()\n",
    "i = 0\n",
    "for compz in [7.4]:\n",
    "    df_temp = getSubDF(df_3b, ['compz'], [compz])\n",
    "    plt.plot(df_temp['BECHoldTime'], df_temp['temperature'], 'o', color = colors[i], label = str(compz))\n",
    "    i += 1\n",
    "plt.legend()\n",
    "plt.xlim(0,1000)\n",
    "plt.ylim(500,1000)\n",
    "plt.xlabel('BECHoldTime (ms)')\n",
    "plt.ylabel('temperature (nK)')\n",
    "plt.savefig(\"temperature_initial.jpg\", dpi = 300)\n",
    "plt.show()"
   ]
  },
  {
   "cell_type": "markdown",
   "metadata": {},
   "source": [
    "### Density measurement based on temperature and trap frequency"
   ]
  },
  {
   "cell_type": "markdown",
   "metadata": {},
   "source": [
    "In the BEC the density is like $n(x, y, z) = K e^{-\\frac{\\frac{1}{2}m(\\omega_x^2 x^2 + \\omega_y^2 y^2 + \\omega_z^2 z^2)}{k_B T}} = N\\omega_x\\omega_y\\omega_z\\left(\\frac{m}{2\\pi k_B T}\\right)^{3/2} e^{-\\frac{\\frac{1}{2}m(\\omega_x^2 x^2 + \\omega_y^2 y^2 + \\omega_z^2 z^2)}{k_B T}} = n_0 e^{-\\frac{\\frac{1}{2}m(\\omega_x^2 x^2 + \\omega_y^2 y^2 + \\omega_z^2 z^2)}{k_B T}}$"
   ]
  },
  {
   "cell_type": "code",
   "execution_count": 108,
   "metadata": {},
   "outputs": [],
   "source": [
    "#omega_x = 2*np.pi*220\n",
    "#omega_y = 2*np.pi*90\n",
    "#omega_z = 2*np.pi*220\n",
    "\n",
    "#omega_x = 2*np.pi*70*np.sqrt(8)\n",
    "#omega_y = 2*np.pi*28*np.sqrt(8)\n",
    "#omega_z = 2*np.pi*50*np.sqrt(8)\n",
    "omega_x = 2*np.pi*330 # omega_x\n",
    "omega_y = 2*np.pi*207 # omega_y\n",
    "omega_z = 2*np.pi*235 # omega_z\n",
    "\n",
    "prefactor = omega_x*omega_y*omega_z*(m/(2*np.pi*k_B))**(3/2)\n",
    "results['temperature'] = df_3b[df_3b['BECHoldTime'] == 0]['temperature'].mean()*10**(-9)\n",
    "results['density'] = results['N0']*prefactor/(results['temperature'])**(3/2)*10**(-6)  # in atoms / cm3"
   ]
  },
  {
   "cell_type": "markdown",
   "metadata": {},
   "source": [
    "By definition $<n^2> = \\int n^2p(x, y, z)d\\tau = \\frac{1}{N}\\int n^3 d\\tau = N^2 (\\omega_x\\omega_y\\omega_z)^2\\frac{1}{\\sqrt{27}}\\left(\\frac{m}{2\\pi k_B T}\\right)^3 = \\frac{N^2}{\\sqrt{27}(2\\pi)^3(\\sigma_x\\sigma_y\\sigma_z)^2}$. The differential equation formula is: $\\frac{dN}{dt} = -\\gamma N^3$ in the fit, but $\\frac{dN}{dt} = -\\beta <n^2> N$ in reality, so $\\frac{dN}{dt} = -\\beta \\frac{N^2}{\\alpha} N$ with $\\alpha = 3^{3/2}\\left(\\frac{2\\pi k_B T}{m}\\right)^3\\frac{1}{(\\omega_x\\omega_y\\omega_z)^2} = 3^{3/2}(2\\pi)^3(\\sigma_x\\sigma_y\\sigma_z)^2 = \\frac{3^{3/2}}{(n_0/N)^2}$, so $\\beta = \\gamma\\alpha$"
   ]
  },
  {
   "cell_type": "code",
   "execution_count": 109,
   "metadata": {},
   "outputs": [],
   "source": [
    "results['beta'] = results['gamma']*10**3*3**(3/2)/(results['density']/results['N0'])**2 # this is is cm^6/s"
   ]
  },
  {
   "cell_type": "code",
   "execution_count": 160,
   "metadata": {},
   "outputs": [
    {
     "data": {
      "text/html": [
       "<div>\n",
       "<style scoped>\n",
       "    .dataframe tbody tr th:only-of-type {\n",
       "        vertical-align: middle;\n",
       "    }\n",
       "\n",
       "    .dataframe tbody tr th {\n",
       "        vertical-align: top;\n",
       "    }\n",
       "\n",
       "    .dataframe thead th {\n",
       "        text-align: right;\n",
       "    }\n",
       "</style>\n",
       "<table border=\"1\" class=\"dataframe\">\n",
       "  <thead>\n",
       "    <tr style=\"text-align: right;\">\n",
       "      <th></th>\n",
       "      <th>N0</th>\n",
       "      <th>alpha</th>\n",
       "      <th>gamma</th>\n",
       "      <th>compz</th>\n",
       "      <th>temperature</th>\n",
       "      <th>density</th>\n",
       "      <th>beta</th>\n",
       "    </tr>\n",
       "  </thead>\n",
       "  <tbody>\n",
       "    <tr>\n",
       "      <th>0</th>\n",
       "      <td>44130.557354</td>\n",
       "      <td>0.000031</td>\n",
       "      <td>3.677752e-14</td>\n",
       "      <td>7.4</td>\n",
       "      <td>6.058278e-07</td>\n",
       "      <td>6.615451e+13</td>\n",
       "      <td>8.504019e-29</td>\n",
       "    </tr>\n",
       "  </tbody>\n",
       "</table>\n",
       "</div>"
      ],
      "text/plain": [
       "             N0     alpha         gamma  compz   temperature       density  \\\n",
       "0  44130.557354  0.000031  3.677752e-14    7.4  6.058278e-07  6.615451e+13   \n",
       "\n",
       "           beta  \n",
       "0  8.504019e-29  "
      ]
     },
     "execution_count": 160,
     "metadata": {},
     "output_type": "execute_result"
    }
   ],
   "source": [
    "results"
   ]
  },
  {
   "cell_type": "markdown",
   "metadata": {},
   "source": [
    "# Temperature and atom number fit"
   ]
  },
  {
   "cell_type": "code",
   "execution_count": 132,
   "metadata": {},
   "outputs": [],
   "source": [
    "df = df_fieldScan\n",
    "#results = []\n",
    "#results_pure = []\n",
    "results_lin_fieldScan = []\n",
    "#results_pure_alpha = []\n",
    "\n",
    "\n",
    "\"\"\"for compz in compzList:\n",
    "    df_run = getSubDF(df, ['compz'], [compz])\n",
    "    if not df_run.empty:\n",
    "        popt, pcov = fitRun(df_run)\n",
    "        results += [{'N0' : popt[0],\n",
    "                    'alpha' : min(-10**(-10), popt[1]),\n",
    "                    'gamma' : popt[2],\n",
    "                     'compz' : compz\n",
    "                    }]\n",
    "resultsDF = pd.DataFrame(results)\n",
    "\n",
    "for compz in compzList:\n",
    "    df_run = getSubDF(df, ['compz'], [compz])\n",
    "    if not df_run.empty:\n",
    "        popt, pcov = fitRun_pure(df_run)\n",
    "        results_pure += [{'N0' : popt[0],\n",
    "                        'alpha' : 0,\n",
    "                         'gamma' : popt[1],\n",
    "                          'compz' : compz\n",
    "                    }]\n",
    "resultsDF_pure = pd.DataFrame(results_pure)\n",
    "\n",
    "for compz in compzList:\n",
    "    df_run = getSubDF(df, ['compz'], [compz])\n",
    "    if not df_run.empty:\n",
    "        popt, pcov = fitRun_pure_alpha(df_run)\n",
    "        results_pure_alpha += [{'N0' : popt[0],\n",
    "                    'alpha' : alpha,\n",
    "                    'gamma' : popt[1],\n",
    "                     'compz' : compz\n",
    "                    }]\n",
    "resultsDF_pure_alpha = pd.DataFrame(results_pure_alpha)\n",
    "\"\"\"\n",
    "\n",
    "#def N_linear(t, N0, b):\n",
    "#    return N0-b*t\n",
    "\n",
    "def fitRun_lin_pop(df_run, tmax_ms):\n",
    "    N0_guess = max(df_run['nCount'])\n",
    "    time_guess = max(df_run['BECHoldTime'])\n",
    "    df_run_cut = df_run[df_run['BECHoldTime'] < tmax_ms]\n",
    "    popt, pcov = curve_fit(N_linear, df_run_cut['BECHoldTime'], df_run_cut['nCount'],\n",
    "                       p0 = [N0_guess, N0_guess/time_guess],\n",
    "                          )\n",
    "    return popt, pcov\n",
    "\n",
    "def fitRun_lin_temperature(df_run, tmax_ms):\n",
    "    T0_guess = max(df_run['temperature'])\n",
    "    time_guess = max(df_run['BECHoldTime'])\n",
    "    df_run_cut = df_run[df_run['BECHoldTime'] < tmax_ms]\n",
    "    popt, pcov = curve_fit(N_linear, df_run_cut['BECHoldTime'], df_run_cut['temperature'],\n",
    "                       p0 = [T0_guess, T0_guess/time_guess],\n",
    "                          )\n",
    "    return popt, pcov\n",
    "\n",
    "def fitRun_lin_popAndTemp(df_run, tmax_ms):\n",
    "    N0_guess = max(df_run['nCount'])\n",
    "    T0_guess = max(df_run['temperature'])\n",
    "    time_guess = max(df_run['BECHoldTime'])\n",
    "    df_run_cut = df_run[df_run['BECHoldTime'] < tmax_ms]\n",
    "    popt, pcov = curve_fit(N_linear, df_run_cut['BECHoldTime'], df_run_cut['temperature']**3*df_run_cut['nCount']**(-2),\n",
    "                       p0 = [T0_guess, T0_guess/time_guess],\n",
    "                          )\n",
    "    return popt, pcov\n",
    "\n",
    "for compz in compzList:\n",
    "    df_run = getSubDF(df, ['compz'], [compz])\n",
    "    if not df_run.empty:\n",
    "        popt_pop, pcov_pop = fitRun_lin_pop(df_run, 3000)\n",
    "        popt_temp, pcov_temp = fitRun_lin_temperature(df_run, 1500)\n",
    "        popt_popAndTemp, pcov_popAndTemp = fitRun_lin_popAndTemp(df_run, 10000)\n",
    "        results_lin_fieldScan += [{'N0' : popt_pop[0],\n",
    "                         'b_pop' : popt_pop[1],\n",
    "                         'T0' : popt_temp[0],\n",
    "                         'b_temperature' : popt_temp[1],\n",
    "                         'b_popAndTemp' : popt_popAndTemp[1],\n",
    "                         'compz' : compz\n",
    "                    }]\n",
    "resultsDF_lin_fieldScan = pd.DataFrame(results_lin_fieldScan)"
   ]
  },
  {
   "cell_type": "code",
   "execution_count": 143,
   "metadata": {},
   "outputs": [],
   "source": [
    "# what is called \"prefactor\" is the beta in the Pisa thesis\n",
    "resultsDF_lin_fieldScan['K3_pop'] = (resultsDF_lin_fieldScan['b_pop']*10**3)*(resultsDF_lin_fieldScan['T0']*10**(-9))**3/resultsDF_lin_fieldScan['N0']**3*np.sqrt(27)/prefactor**2*10**12\n",
    "resultsDF_lin_fieldScan['K3_temperature'] = -3*(resultsDF_lin_fieldScan['b_temperature']*10**3*10**(-9))*(resultsDF_lin_fieldScan['T0']*10**(-9))**2/resultsDF_lin_fieldScan['N0']**2*np.sqrt(27)/prefactor**2*10**12\n",
    "resultsDF_lin_fieldScan['K3_popAndTemp'] = -(1/3)*(resultsDF_lin_fieldScan['b_popAndTemp']*10**3*10**(-9*3))*np.sqrt(27)/prefactor**2*10**12"
   ]
  },
  {
   "cell_type": "code",
   "execution_count": 167,
   "metadata": {},
   "outputs": [
    {
     "data": {
      "text/plain": [
       "1.486636549429597e-27"
      ]
     },
     "execution_count": 167,
     "metadata": {},
     "output_type": "execute_result"
    }
   ],
   "source": [
    "# quick calculation for the beta coefficient just from temperature\n",
    "3*((860-620)/1000*10**3*10**(-9))*(620*10**(-9))**2/44000**2*np.sqrt(27)/prefactor**2*10**12"
   ]
  },
  {
   "cell_type": "code",
   "execution_count": 144,
   "metadata": {},
   "outputs": [
    {
     "data": {
      "text/html": [
       "<div>\n",
       "<style scoped>\n",
       "    .dataframe tbody tr th:only-of-type {\n",
       "        vertical-align: middle;\n",
       "    }\n",
       "\n",
       "    .dataframe tbody tr th {\n",
       "        vertical-align: top;\n",
       "    }\n",
       "\n",
       "    .dataframe thead th {\n",
       "        text-align: right;\n",
       "    }\n",
       "</style>\n",
       "<table border=\"1\" class=\"dataframe\">\n",
       "  <thead>\n",
       "    <tr style=\"text-align: right;\">\n",
       "      <th></th>\n",
       "      <th>N0</th>\n",
       "      <th>b_pop</th>\n",
       "      <th>T0</th>\n",
       "      <th>b_temperature</th>\n",
       "      <th>b_popAndTemp</th>\n",
       "      <th>compz</th>\n",
       "      <th>K3_pop</th>\n",
       "      <th>K3_temperature</th>\n",
       "      <th>K3_popAndTemp</th>\n",
       "    </tr>\n",
       "  </thead>\n",
       "  <tbody>\n",
       "    <tr>\n",
       "      <th>0</th>\n",
       "      <td>36677.250079</td>\n",
       "      <td>2.049583</td>\n",
       "      <td>648.391732</td>\n",
       "      <td>-0.281290</td>\n",
       "      <td>-0.000422</td>\n",
       "      <td>2.65</td>\n",
       "      <td>1.177557e-28</td>\n",
       "      <td>2.742529e-27</td>\n",
       "      <td>1.462493e-27</td>\n",
       "    </tr>\n",
       "    <tr>\n",
       "      <th>1</th>\n",
       "      <td>28928.722279</td>\n",
       "      <td>1.282167</td>\n",
       "      <td>729.351566</td>\n",
       "      <td>-0.208356</td>\n",
       "      <td>-0.000733</td>\n",
       "      <td>7.40</td>\n",
       "      <td>2.136790e-28</td>\n",
       "      <td>4.131776e-27</td>\n",
       "      <td>2.539964e-27</td>\n",
       "    </tr>\n",
       "    <tr>\n",
       "      <th>2</th>\n",
       "      <td>26152.777778</td>\n",
       "      <td>4.346333</td>\n",
       "      <td>705.689134</td>\n",
       "      <td>-0.427713</td>\n",
       "      <td>-0.003281</td>\n",
       "      <td>7.80</td>\n",
       "      <td>8.879819e-28</td>\n",
       "      <td>9.715371e-27</td>\n",
       "      <td>1.137256e-26</td>\n",
       "    </tr>\n",
       "    <tr>\n",
       "      <th>3</th>\n",
       "      <td>29496.055556</td>\n",
       "      <td>9.186500</td>\n",
       "      <td>732.339746</td>\n",
       "      <td>-0.484218</td>\n",
       "      <td>-0.004698</td>\n",
       "      <td>7.83</td>\n",
       "      <td>1.462145e-27</td>\n",
       "      <td>9.312230e-27</td>\n",
       "      <td>1.628462e-26</td>\n",
       "    </tr>\n",
       "    <tr>\n",
       "      <th>4</th>\n",
       "      <td>26343.555556</td>\n",
       "      <td>10.121667</td>\n",
       "      <td>744.501402</td>\n",
       "      <td>-0.699815</td>\n",
       "      <td>-0.042543</td>\n",
       "      <td>7.85</td>\n",
       "      <td>2.375854e-27</td>\n",
       "      <td>1.743738e-26</td>\n",
       "      <td>1.474692e-25</td>\n",
       "    </tr>\n",
       "    <tr>\n",
       "      <th>5</th>\n",
       "      <td>27196.277778</td>\n",
       "      <td>1.839500</td>\n",
       "      <td>790.352546</td>\n",
       "      <td>-0.238941</td>\n",
       "      <td>-0.000807</td>\n",
       "      <td>8.20</td>\n",
       "      <td>4.694920e-28</td>\n",
       "      <td>6.295488e-27</td>\n",
       "      <td>2.795942e-27</td>\n",
       "    </tr>\n",
       "    <tr>\n",
       "      <th>6</th>\n",
       "      <td>27456.750000</td>\n",
       "      <td>0.425917</td>\n",
       "      <td>769.725973</td>\n",
       "      <td>-0.294947</td>\n",
       "      <td>-0.000747</td>\n",
       "      <td>8.40</td>\n",
       "      <td>9.758430e-29</td>\n",
       "      <td>7.231580e-27</td>\n",
       "      <td>2.590501e-27</td>\n",
       "    </tr>\n",
       "    <tr>\n",
       "      <th>7</th>\n",
       "      <td>25741.110966</td>\n",
       "      <td>-0.239167</td>\n",
       "      <td>741.295605</td>\n",
       "      <td>-0.288326</td>\n",
       "      <td>-0.000718</td>\n",
       "      <td>8.50</td>\n",
       "      <td>-5.940016e-29</td>\n",
       "      <td>7.459798e-27</td>\n",
       "      <td>2.489579e-27</td>\n",
       "    </tr>\n",
       "  </tbody>\n",
       "</table>\n",
       "</div>"
      ],
      "text/plain": [
       "             N0      b_pop          T0  b_temperature  b_popAndTemp  compz  \\\n",
       "0  36677.250079   2.049583  648.391732      -0.281290     -0.000422   2.65   \n",
       "1  28928.722279   1.282167  729.351566      -0.208356     -0.000733   7.40   \n",
       "2  26152.777778   4.346333  705.689134      -0.427713     -0.003281   7.80   \n",
       "3  29496.055556   9.186500  732.339746      -0.484218     -0.004698   7.83   \n",
       "4  26343.555556  10.121667  744.501402      -0.699815     -0.042543   7.85   \n",
       "5  27196.277778   1.839500  790.352546      -0.238941     -0.000807   8.20   \n",
       "6  27456.750000   0.425917  769.725973      -0.294947     -0.000747   8.40   \n",
       "7  25741.110966  -0.239167  741.295605      -0.288326     -0.000718   8.50   \n",
       "\n",
       "         K3_pop  K3_temperature  K3_popAndTemp  \n",
       "0  1.177557e-28    2.742529e-27   1.462493e-27  \n",
       "1  2.136790e-28    4.131776e-27   2.539964e-27  \n",
       "2  8.879819e-28    9.715371e-27   1.137256e-26  \n",
       "3  1.462145e-27    9.312230e-27   1.628462e-26  \n",
       "4  2.375854e-27    1.743738e-26   1.474692e-25  \n",
       "5  4.694920e-28    6.295488e-27   2.795942e-27  \n",
       "6  9.758430e-29    7.231580e-27   2.590501e-27  \n",
       "7 -5.940016e-29    7.459798e-27   2.489579e-27  "
      ]
     },
     "execution_count": 144,
     "metadata": {},
     "output_type": "execute_result"
    }
   ],
   "source": [
    "resultsDF_lin_fieldScan"
   ]
  },
  {
   "cell_type": "code",
   "execution_count": 177,
   "metadata": {},
   "outputs": [
    {
     "data": {
      "text/plain": [
       "<Figure size 432x288 with 0 Axes>"
      ]
     },
     "execution_count": 177,
     "metadata": {},
     "output_type": "execute_result"
    },
    {
     "data": {
      "image/png": "[encoded data removed]",
      "text/plain": [
       "<Figure size 432x288 with 1 Axes>"
      ]
     },
     "metadata": {
      "needs_background": "light"
     },
     "output_type": "display_data"
    },
    {
     "data": {
      "text/plain": [
       "<Figure size 432x288 with 0 Axes>"
      ]
     },
     "metadata": {},
     "output_type": "display_data"
    }
   ],
   "source": [
    "plt.figure()\n",
    "plt.semilogy(resultsDF_lin_fieldScan['compz'], resultsDF_lin_fieldScan['K3_pop'], 'o-', label = 'Population')\n",
    "plt.semilogy(resultsDF_lin_fieldScan['compz'], resultsDF_lin_fieldScan['K3_temperature'], 's-', label = 'Temperature')\n",
    "plt.semilogy(resultsDF_lin_fieldScan['compz'], resultsDF_lin_fieldScan['K3_popAndTemp'], '^-', label = 'Pop and Temp')\n",
    "plt.semilogy(7.4, results['beta'][0], 'o', color = 'red', label = 'Population Previous')\n",
    "plt.semilogy(7.4, 1.5*10**(-27), 's', color = 'red', label = 'Temperature Previous')\n",
    "plt.semilogy(7.4, 1.2*10**(-27), '^', color = 'red', label = 'Pop and Temp Previous')\n",
    "plt.legend()\n",
    "plt.ylabel('$K_3$ (cm$^{-6}$/s)')\n",
    "plt.xlabel('Magnetic field 0$\\simeq$0G and 7$\\simeq$5G')\n",
    "plt.title(\"Different way to extract the 3 body loss rate\")\n",
    "#plt.xlim(7.3, 8)\n",
    "plt.savefig(\"3body_coeff.jpg\", dpi = 300)\n",
    "plt.figure()"
   ]
  },
  {
   "cell_type": "code",
   "execution_count": 30,
   "metadata": {},
   "outputs": [
    {
     "data": {
      "text/plain": [
       "array([8.5 , 7.85, 8.4 , 2.65, 7.83, 7.8 , 7.4 , 8.2 ])"
      ]
     },
     "execution_count": 30,
     "metadata": {},
     "output_type": "execute_result"
    }
   ],
   "source": [
    "df_fieldScan['compz'].unique()"
   ]
  },
  {
   "cell_type": "code",
   "execution_count": 40,
   "metadata": {},
   "outputs": [
    {
     "data": {
      "image/png": "[encoded data removed]",
      "text/plain": [
       "<Figure size 432x288 with 1 Axes>"
      ]
     },
     "metadata": {
      "needs_background": "light"
     },
     "output_type": "display_data"
    }
   ],
   "source": [
    "plt.figure()\n",
    "for compz in df_fieldScan['compz'].unique():\n",
    "    df_temp = getSubDF(df_fieldScan, ['compz'], [compz])\n",
    "    df_temp = df_temp.groupby(['BECHoldTime']).mean().reset_index()\n",
    "    plt.plot(df_temp['BECHoldTime'], df_temp['nCount'], 'o', label = compz)\n",
    "plt.legend()\n",
    "plt.show()"
   ]
  },
  {
   "cell_type": "code",
   "execution_count": 41,
   "metadata": {},
   "outputs": [
    {
     "data": {
      "text/html": [
       "<div>\n",
       "<style scoped>\n",
       "    .dataframe tbody tr th:only-of-type {\n",
       "        vertical-align: middle;\n",
       "    }\n",
       "\n",
       "    .dataframe tbody tr th {\n",
       "        vertical-align: top;\n",
       "    }\n",
       "\n",
       "    .dataframe thead th {\n",
       "        text-align: right;\n",
       "    }\n",
       "</style>\n",
       "<table border=\"1\" class=\"dataframe\">\n",
       "  <thead>\n",
       "    <tr style=\"text-align: right;\">\n",
       "      <th></th>\n",
       "      <th>N0</th>\n",
       "      <th>alpha</th>\n",
       "      <th>gamma</th>\n",
       "      <th>compz</th>\n",
       "      <th>temperature</th>\n",
       "      <th>density</th>\n",
       "      <th>beta</th>\n",
       "    </tr>\n",
       "  </thead>\n",
       "  <tbody>\n",
       "    <tr>\n",
       "      <th>0</th>\n",
       "      <td>44130.557354</td>\n",
       "      <td>0.000031</td>\n",
       "      <td>3.677752e-14</td>\n",
       "      <td>7.4</td>\n",
       "      <td>6.058278e-07</td>\n",
       "      <td>6.615451e+13</td>\n",
       "      <td>8.504019e-29</td>\n",
       "    </tr>\n",
       "  </tbody>\n",
       "</table>\n",
       "</div>"
      ],
      "text/plain": [
       "             N0     alpha         gamma  compz   temperature       density  \\\n",
       "0  44130.557354  0.000031  3.677752e-14    7.4  6.058278e-07  6.615451e+13   \n",
       "\n",
       "           beta  \n",
       "0  8.504019e-29  "
      ]
     },
     "execution_count": 41,
     "metadata": {},
     "output_type": "execute_result"
    }
   ],
   "source": [
    "resultsDF_pure_alpha"
   ]
  },
  {
   "cell_type": "code",
   "execution_count": null,
   "metadata": {},
   "outputs": [],
   "source": [
    "plt.figure()\n",
    "i = 0\n",
    "for compz in compzList:\n",
    "    df_temp = getSubDF(df_3b, ['compz'], [compz])\n",
    "    plt.plot(df_temp['BECHoldTime'], df_temp['temperature']**3*df_temp['nCount']**(-2), 'o', color = colors[i], label = str(compz))\n",
    "    i += 1\n",
    "plt.legend()\n",
    "plt.xlim(0,3000)\n",
    "plt.ylim(0,2)\n",
    "plt.xlabel('BECHoldTime (ms)')\n",
    "plt.ylabel('temperature (nK)')\n",
    "plt.show()"
   ]
  },
  {
   "cell_type": "code",
   "execution_count": null,
   "metadata": {},
   "outputs": [],
   "source": []
  },
  {
   "cell_type": "code",
   "execution_count": null,
   "metadata": {},
   "outputs": [],
   "source": []
  },
  {
   "cell_type": "markdown",
   "metadata": {},
   "source": [
    "# OLD"
   ]
  },
  {
   "cell_type": "markdown",
   "metadata": {},
   "source": [
    "### Density measurement based on in situ imaging"
   ]
  },
  {
   "cell_type": "markdown",
   "metadata": {},
   "source": [
    "Other way to calculate the volume, simply use the in situ imaging with the density being $N/V \\simeq N/(2a_x 2a_y 2a_z)^2) = \\frac{N}{8(7\\mu m 7.3\\mu m 18\\mu m)}$. Actually more precise calculation gives: $n = \\frac{N}{(2\\pi)^{3/2}\\sigma_x\\sigma_y\\sigma_z}e^{-\\frac{1}{2}(\\frac{x^2}{\\sigma_x^2}+\\frac{y^2}{\\sigma_y^2}+\\frac{z^2}{\\sigma_z^2})}$ and therefore $<n^2> = \\frac{1}{N}\\int n^3 d\\tau = \\frac{N^2}{3^{3/2}(2\\pi)^3(\\sigma_x\\sigma_y\\sigma_z)^2}$."
   ]
  },
  {
   "cell_type": "code",
   "execution_count": 219,
   "metadata": {},
   "outputs": [],
   "source": [
    "sigma_x = 7.1*10**(-4) # in cm\n",
    "sigma_y = 18*10**(-4) # in cm\n",
    "sigma_z = 7.3*10**(-4) # in cm\n",
    "\n",
    "sigma_x = 3.62*10**(-4) # in cm\n",
    "sigma_y = 9.57*10**(-4) # in cm\n",
    "sigma_z = 3.62*(6.1/5.2)*10**(-4) # in cm\n",
    "\n",
    "\n",
    "results['densityVolume'] = results['N0']/((2*np.pi)**(3/2)*sigma_x*sigma_y*sigma_z)  # in atoms / cm3\n",
    "results['betaVolume'] = results['gamma']*10**3*(3**(3/2))/(results['densityVolume']/results['N0'])**2  # in atoms / cm3"
   ]
  },
  {
   "cell_type": "code",
   "execution_count": 220,
   "metadata": {},
   "outputs": [
    {
     "data": {
      "text/html": [
       "<div>\n",
       "<style scoped>\n",
       "    .dataframe tbody tr th:only-of-type {\n",
       "        vertical-align: middle;\n",
       "    }\n",
       "\n",
       "    .dataframe tbody tr th {\n",
       "        vertical-align: top;\n",
       "    }\n",
       "\n",
       "    .dataframe thead th {\n",
       "        text-align: right;\n",
       "    }\n",
       "</style>\n",
       "<table border=\"1\" class=\"dataframe\">\n",
       "  <thead>\n",
       "    <tr style=\"text-align: right;\">\n",
       "      <th></th>\n",
       "      <th>N0</th>\n",
       "      <th>alpha</th>\n",
       "      <th>gamma</th>\n",
       "      <th>compz</th>\n",
       "      <th>temperature</th>\n",
       "      <th>density</th>\n",
       "      <th>beta</th>\n",
       "      <th>densityVolume</th>\n",
       "      <th>betaVolume</th>\n",
       "    </tr>\n",
       "  </thead>\n",
       "  <tbody>\n",
       "    <tr>\n",
       "      <th>0</th>\n",
       "      <td>32441.595232</td>\n",
       "      <td>0.000054</td>\n",
       "      <td>3.419598e-15</td>\n",
       "      <td>3.5</td>\n",
       "      <td>2.025893e-07</td>\n",
       "      <td>2.968958e+13</td>\n",
       "      <td>2.121549e-29</td>\n",
       "      <td>1.400157e+13</td>\n",
       "      <td>9.539106e-29</td>\n",
       "    </tr>\n",
       "  </tbody>\n",
       "</table>\n",
       "</div>"
      ],
      "text/plain": [
       "             N0     alpha         gamma  compz   temperature       density  \\\n",
       "0  32441.595232  0.000054  3.419598e-15    3.5  2.025893e-07  2.968958e+13   \n",
       "\n",
       "           beta  densityVolume    betaVolume  \n",
       "0  2.121549e-29   1.400157e+13  9.539106e-29  "
      ]
     },
     "execution_count": 220,
     "metadata": {},
     "output_type": "execute_result"
    }
   ],
   "source": [
    "results\n",
    "# You should only trust the initial 1.9 measurement, the other cloud could have changed size\n",
    "# (although I checked with 7.72 and this one looks similar)"
   ]
  },
  {
   "cell_type": "markdown",
   "metadata": {},
   "source": [
    "### Check consistency of the 2 approaches"
   ]
  },
  {
   "cell_type": "code",
   "execution_count": 221,
   "metadata": {},
   "outputs": [
    {
     "name": "stdout",
     "output_type": "stream",
     "text": [
      "The measured sigma_x is 3.6 um and the calculated one is 2.6 um\n",
      "The measured sigma_y is 9.6 um and the calculated one is 6.4 um\n",
      "The measured sigma_z is 4.2 um and the calculated one is 3.6 um\n"
     ]
    }
   ],
   "source": [
    "T = results['temperature'][0]  # Take the temperature of the coldest orginial cloud at 1.9\n",
    "sigma_x_test = np.sqrt(k_B*T/(m*omega_x**2))\n",
    "sigma_y_test = np.sqrt(k_B*T/(m*omega_y**2))\n",
    "sigma_z_test = np.sqrt(k_B*T/(m*omega_z**2))\n",
    "\n",
    "print(\"The measured sigma_x is \" + str(round(sigma_x*10**4, 1)) + \" um and the calculated one is \" + str(round(sigma_x_test*10**6, 1)) + \" um\")\n",
    "print(\"The measured sigma_y is \" + str(round(sigma_y*10**4, 1)) + \" um and the calculated one is \" + str(round(sigma_y_test*10**6, 1)) + \" um\")\n",
    "print(\"The measured sigma_z is \" + str(round(sigma_z*10**4, 1)) + \" um and the calculated one is \" + str(round(sigma_z_test*10**6, 1)) + \" um\")"
   ]
  },
  {
   "cell_type": "markdown",
   "metadata": {},
   "source": [
    "### End"
   ]
  },
  {
   "cell_type": "code",
   "execution_count": 37,
   "metadata": {},
   "outputs": [
    {
     "data": {
      "text/plain": [
       "1.8044152203236358e-05"
      ]
     },
     "execution_count": 37,
     "metadata": {},
     "output_type": "execute_result"
    }
   ],
   "source": [
    "import numpy as np\n",
    "m = 164*1.67*10**(-27)\n",
    "k_B = 1.38*10**(-23)\n",
    "hbar = 6.626*10**(-34)/(2*np.pi)\n",
    "sigma_0 = 4\n",
    "T = 200*10**(-9)\n",
    "omega_x = 2*np.pi*28\n",
    "np.sqrt(k_B*T/(m*omega_x**2))"
   ]
  },
  {
   "cell_type": "code",
   "execution_count": 38,
   "metadata": {},
   "outputs": [
    {
     "data": {
      "text/plain": [
       "6.868965030561809e-06"
      ]
     },
     "execution_count": 38,
     "metadata": {},
     "output_type": "execute_result"
    }
   ],
   "source": [
    "np.sqrt(k_B*T/(m*omega_x**2))*(0.105/5)**(1/4)"
   ]
  },
  {
   "cell_type": "code",
   "execution_count": null,
   "metadata": {},
   "outputs": [],
   "source": []
  }
 ],
 "metadata": {
  "kernelspec": {
   "display_name": "Python 3",
   "language": "python",
   "name": "python3"
  },
  "language_info": {
   "codemirror_mode": {
    "name": "ipython",
    "version": 3
   },
   "file_extension": ".py",
   "mimetype": "text/x-python",
   "name": "python",
   "nbconvert_exporter": "python",
   "pygments_lexer": "ipython3",
   "version": "3.9.0"
  },
  "latex_envs": {
   "LaTeX_envs_menu_present": true,
   "autoclose": false,
   "autocomplete": true,
   "bibliofile": "biblio.bib",
   "cite_by": "apalike",
   "current_citInitial": 1,
   "eqLabelWithNumbers": true,
   "eqNumInitial": 1,
   "hotkeys": {
    "equation": "Ctrl-E",
    "itemize": "Ctrl-I"
   },
   "labels_anchors": false,
   "latex_user_defs": false,
   "report_style_numbering": false,
   "user_envs_cfg": false
  }
 },
 "nbformat": 4,
 "nbformat_minor": 4
}
