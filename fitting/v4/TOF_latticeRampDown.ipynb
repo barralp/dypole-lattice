{
 "cells": [
  {
   "cell_type": "code",
   "execution_count": 13,
   "metadata": {},
   "outputs": [],
   "source": [
    "from databaseCommunication import readDatabaseFile, createDataFrame_list\n",
    "from dataframeFormating import createLabeledDataFrame_list #, N_polarized_pure3b, N_polarized, N_linear, getReducedDataframe, getReducedResults, \n",
    "from calculation import trapFrequency, getSubDF\n",
    "import pandas as pd\n",
    "import numpy as np\n",
    "import matplotlib.pyplot as plt \n",
    "from scipy.optimize import curve_fit"
   ]
  },
  {
   "cell_type": "code",
   "execution_count": 23,
   "metadata": {},
   "outputs": [],
   "source": [
    "label_heads = ['isotope', 'run']\n",
    "\n",
    "labels_imagesOfDeepBLueLattice = [[['162', 'runInf'], [182052, 182087]]\n",
    "# TOF series in a +5.25 GHz 160mW lattice after 100ms hold and band mapping\n",
    "# I'm missing the data without bandmapping                  \n",
    "compz_not_lossy = 7.4\n",
    "\n",
    "\n",
    "excluded = []"
   ]
  },
  {
   "cell_type": "code",
   "execution_count": 24,
   "metadata": {},
   "outputs": [
    {
     "data": {
      "text/plain": [
       "\"ciceroVariables = ['TOF']\\nfitVariables = ['nCount', 'xWidth', 'yWidth', 'xPos', 'yPos']\\n\\ndf = createLabeledDataFrame_list(labels, label_heads, ciceroVariables, fitVariables)\\nfor column in df.columns:\\n    try:\\n        df[column] = df[column].astype(float)\\n    except:\\n        pass\\ndf.to_pickle('data_save_magnification_calibration.pickle')\""
      ]
     },
     "execution_count": 24,
     "metadata": {},
     "output_type": "execute_result"
    }
   ],
   "source": [
    "\"\"\"ciceroVariables = ['TOF', 'latticeRampDownLenght, latticeDepth_final, latticeDetuning']\n",
    "fitVariables = ['nCount', 'xWidth', 'yWidth', 'xPos', 'yPos']\n",
    "\n",
    "df = createLabeledDataFrame_list(labels, label_heads, ciceroVariables, fitVariables)\n",
    "for column in df.columns:\n",
    "    try:\n",
    "        df[column] = df[column].astype(float)\n",
    "    except:\n",
    "        pass\n",
    "df.to_pickle('data_save_TOF_latticeBand.pickle')\"\"\""
   ]
  },
  {
   "cell_type": "code",
   "execution_count": 53,
   "metadata": {},
   "outputs": [],
   "source": [
    "df = pd.read_pickle('data_save_TOF_latticeBand.pickle')\n",
    "# Delete these row indexes from dataFrame\n",
    "indexNames = pd.Index(np.where(df['imageID'].isin(excluded))[0])\n",
    "df.drop(indexNames, inplace = True)"
   ]
  }
 ],
 "metadata": {
  "kernelspec": {
   "display_name": "Python 3",
   "language": "python",
   "name": "python3"
  },
  "language_info": {
   "codemirror_mode": {
    "name": "ipython",
    "version": 3
   },
   "file_extension": ".py",
   "mimetype": "text/x-python",
   "name": "python",
   "nbconvert_exporter": "python",
   "pygments_lexer": "ipython3",
   "version": "3.9.0"
  },
  "latex_envs": {
   "LaTeX_envs_menu_present": true,
   "autoclose": false,
   "autocomplete": true,
   "bibliofile": "biblio.bib",
   "cite_by": "apalike",
   "current_citInitial": 1,
   "eqLabelWithNumbers": true,
   "eqNumInitial": 1,
   "hotkeys": {
    "equation": "Ctrl-E",
    "itemize": "Ctrl-I"
   },
   "labels_anchors": false,
   "latex_user_defs": false,
   "report_style_numbering": false,
   "user_envs_cfg": false
  }
 },
 "nbformat": 4,
 "nbformat_minor": 4
}
